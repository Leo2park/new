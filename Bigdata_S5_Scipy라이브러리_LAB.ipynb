{
  "nbformat": 4,
  "nbformat_minor": 0,
  "metadata": {
    "kernelspec": {
      "display_name": "Python 3",
      "language": "python",
      "name": "python3"
    },
    "language_info": {
      "codemirror_mode": {
        "name": "ipython",
        "version": 3
      },
      "file_extension": ".py",
      "mimetype": "text/x-python",
      "name": "python",
      "nbconvert_exporter": "python",
      "pygments_lexer": "ipython3",
      "version": "3.8.3"
    },
    "colab": {
      "provenance": [],
      "include_colab_link": true
    }
  },
  "cells": [
    {
      "cell_type": "markdown",
      "metadata": {
        "id": "view-in-github",
        "colab_type": "text"
      },
      "source": [
        "<a href=\"https://colab.research.google.com/github/Leo2park/new/blob/main/Bigdata_S5_Scipy%EB%9D%BC%EC%9D%B4%EB%B8%8C%EB%9F%AC%EB%A6%AC_LAB.ipynb\" target=\"_parent\"><img src=\"https://colab.research.google.com/assets/colab-badge.svg\" alt=\"Open In Colab\"/></a>"
      ]
    },
    {
      "cell_type": "markdown",
      "metadata": {
        "id": "4lEW-jP2KDlM"
      },
      "source": [
        "### 0.데이터 다운로드"
      ]
    },
    {
      "cell_type": "code",
      "metadata": {
        "colab": {
          "base_uri": "https://localhost:8080/"
        },
        "id": "JE-m3dQ-KGlN",
        "outputId": "3e99ec46-1e97-44b9-f681-a7678e8b3c8a"
      },
      "source": [
        "!git clone https://github.com/Soyoung-Yoon/data_02"
      ],
      "execution_count": 1,
      "outputs": [
        {
          "output_type": "stream",
          "name": "stdout",
          "text": [
            "Cloning into 'data_02'...\n",
            "remote: Enumerating objects: 24, done.\u001b[K\n",
            "remote: Counting objects: 100% (24/24), done.\u001b[K\n",
            "remote: Compressing objects: 100% (24/24), done.\u001b[K\n",
            "remote: Total 24 (delta 2), reused 0 (delta 0), pack-reused 0\u001b[K\n",
            "Unpacking objects: 100% (24/24), 425.81 KiB | 2.78 MiB/s, done.\n"
          ]
        }
      ]
    },
    {
      "cell_type": "code",
      "metadata": {
        "id": "se4c_tUpMmkp"
      },
      "source": [
        "import scipy\n",
        "scipy.__version__"
      ],
      "execution_count": null,
      "outputs": []
    },
    {
      "cell_type": "code",
      "metadata": {
        "id": "pvDZ37fiNOnG"
      },
      "source": [
        "!pip install scipy==1.10.0"
      ],
      "execution_count": null,
      "outputs": []
    },
    {
      "cell_type": "markdown",
      "source": [
        "### 확률분포 그리기"
      ],
      "metadata": {
        "id": "StSuPSMSbbLl"
      }
    },
    {
      "cell_type": "markdown",
      "source": [
        "### 1.이산형 확률분포 \n",
        "- Probability Mass Function, PMF, 𝐲=𝒇(𝒙)\n",
        "- 이산 확률 변수에서 특정 값에 대한 확률을 계산하기 위한 함수"
      ],
      "metadata": {
        "id": "GtNjflpb3GZN"
      }
    },
    {
      "cell_type": "markdown",
      "source": [
        "#### 1-1.기하 분포"
      ],
      "metadata": {
        "id": "tqQyJ79-bAZB"
      }
    },
    {
      "cell_type": "code",
      "source": [
        "# 확률이 0.1인 기하분포\n"
      ],
      "metadata": {
        "id": "83AwGO7e5mIF"
      },
      "execution_count": null,
      "outputs": []
    },
    {
      "cell_type": "markdown",
      "source": [
        "#### 1-2.초기하 분포"
      ],
      "metadata": {
        "id": "PRoer2Yz47Zh"
      }
    },
    {
      "cell_type": "code",
      "source": [
        "# M : 모집단 개수, n : 성공요소의 수, N : 시행횟수(선택 횟수)\n",
        "# M, n, N = 100, 30, 20\n"
      ],
      "metadata": {
        "id": "kow_LOJjHKdJ"
      },
      "execution_count": null,
      "outputs": []
    },
    {
      "cell_type": "markdown",
      "source": [
        "#### 1-3.포아송 분포"
      ],
      "metadata": {
        "id": "qFjZuWif3MiE"
      }
    },
    {
      "cell_type": "code",
      "source": [
        "# mu = 단위/공간당 평균 발생 횟수\n",
        "# 평균 2회 발생 횟수를 갖는 포아송 분포\n"
      ],
      "metadata": {
        "id": "GDBA8pHp3FKo"
      },
      "execution_count": null,
      "outputs": []
    },
    {
      "cell_type": "markdown",
      "source": [
        "### 2.연속형 확률분포 객체 생성"
      ],
      "metadata": {
        "id": "_zYvGOs8mPb-"
      }
    },
    {
      "cell_type": "markdown",
      "source": [
        "PDF(Probability Density Function) : 확률 밀도 함수\n",
        "- 연속적인 변수에 의한 확률 분포 함수\n",
        "- 항상 양의 값을 가져야 하며, 모든 범위의 PDF를 합한 값은 1임\n",
        "- f(x) >= 0\n",
        "- 분포내 특정 값에서의 확률은 0, P(X=a) = 0, 정의된 범위 내에서의 확률은 범위내의 pdf 영역 넓이(적분값)가 됨"
      ],
      "metadata": {
        "id": "yyQ4wn01FxlS"
      }
    },
    {
      "cell_type": "markdown",
      "source": [
        "#### 2-1. 표준정규분포"
      ],
      "metadata": {
        "id": "KBRfp5qyt5lv"
      }
    },
    {
      "cell_type": "code",
      "metadata": {
        "id": "TXHDkKnqvbNo"
      },
      "source": [
        "# 표준정규분포 객체 생성 및 그래프 그리기\n"
      ],
      "execution_count": null,
      "outputs": []
    },
    {
      "cell_type": "code",
      "source": [
        "# 표준정규분포 객체 생성 및 그래프 그리기 - loc, scale 대응\n"
      ],
      "metadata": {
        "id": "9zywD1S3Jjsz"
      },
      "execution_count": null,
      "outputs": []
    },
    {
      "cell_type": "markdown",
      "source": [
        "#### 2-2. Student t 분포"
      ],
      "metadata": {
        "id": "eO8obvJLt9W_"
      }
    },
    {
      "cell_type": "code",
      "source": [
        "from scipy.stats import t\n",
        "help(t)"
      ],
      "metadata": {
        "id": "_lghoVUa6l7H"
      },
      "execution_count": null,
      "outputs": []
    },
    {
      "cell_type": "code",
      "source": [
        "# Student t 분포 객체 생성 및 그래프 그리기\n"
      ],
      "metadata": {
        "id": "L9QLBVbct23j"
      },
      "execution_count": null,
      "outputs": []
    },
    {
      "cell_type": "code",
      "source": [
        "# 표준정규분포와 스튜던트 t 분표 비교\n"
      ],
      "metadata": {
        "id": "Hsgc_O4gLHgy"
      },
      "execution_count": null,
      "outputs": []
    },
    {
      "cell_type": "markdown",
      "source": [
        "#### 2-3.지수분포\n"
      ],
      "metadata": {
        "id": "prIpVs-MuC4J"
      }
    },
    {
      "cell_type": "code",
      "source": [
        "# Exponential(지수)분포 객체 생성 및 그래프 그리기\n"
      ],
      "metadata": {
        "id": "7cQk7pQJv0Pq"
      },
      "execution_count": null,
      "outputs": []
    },
    {
      "cell_type": "markdown",
      "source": [
        "#### 2-4.감마분포"
      ],
      "metadata": {
        "id": "pQNizd2PVHNl"
      }
    },
    {
      "cell_type": "code",
      "source": [
        "# Gamma(감마)분포 객체 생성 및 그래프 그리기\n"
      ],
      "metadata": {
        "id": "wltUT9kHVKFX"
      },
      "execution_count": null,
      "outputs": []
    },
    {
      "cell_type": "markdown",
      "source": [
        "### 3.이산형 확률분포 문제"
      ],
      "metadata": {
        "id": "I5HLZUO-a6Am"
      }
    },
    {
      "cell_type": "markdown",
      "source": [
        "CDF(Cumulative Distribution Function) : 누적 분포 함수\n",
        "- 어떤 확률 분포에 대해 확률 변수가 특정 값보다 작거나 같은 확률\n",
        "- f(x) = P(X <= x)\n",
        "- CDF를 미분하면 PDF, PDF를 적분하면 CDF가 됨"
      ],
      "metadata": {
        "id": "eMJ2RIvELREe"
      }
    },
    {
      "cell_type": "markdown",
      "source": [
        "### 3-1.기하분포 활용문제\n"
      ],
      "metadata": {
        "id": "wjx_yhTnhX-m"
      }
    },
    {
      "cell_type": "markdown",
      "source": [
        "#### 3-1a.이하일 확률\n",
        "- geom(p).cdf(x)\n",
        "- A씨가 계란후라이를 만들 때 노른자를 깨지 않을 확률이 0.2라고 한다. A씨가 적어도 5번 이내에 노른자를 깨지 않을 확률을 구하시오."
      ],
      "metadata": {
        "id": "GuCoo2PAhbYg"
      }
    },
    {
      "cell_type": "code",
      "source": [],
      "metadata": {
        "id": "NWL31smshedS"
      },
      "execution_count": null,
      "outputs": []
    },
    {
      "cell_type": "markdown",
      "source": [
        "#### 3-1b.이상일 확률\n",
        "- 1 - geom(p).cdf(x)\n",
        "- 빅데이터분석기사 실기 합격률은 35%라고 한다. 이 시험에 2번 이상 응시해야 자격증 취득에 성공할 확률을 구하시오."
      ],
      "metadata": {
        "id": "7J1x1NMRj1ra"
      }
    },
    {
      "cell_type": "code",
      "source": [],
      "metadata": {
        "id": "HElnRcWwkLmT"
      },
      "execution_count": null,
      "outputs": []
    },
    {
      "cell_type": "markdown",
      "source": [
        "#### 3-1c. 특정 횟수일 확률\n",
        "- geom(p).cdf(x) - geom(p).cdf(x-1)\n",
        "- A 야구선수의 홈런 칠 확률이 5%일 때, 이 선수가 4번째 타석에서 홈런 칠 확률을 구하시오."
      ],
      "metadata": {
        "id": "YZsd5Zithwg8"
      }
    },
    {
      "cell_type": "code",
      "source": [],
      "metadata": {
        "id": "_j9Bqrqs4tI-"
      },
      "execution_count": null,
      "outputs": []
    },
    {
      "cell_type": "markdown",
      "source": [
        "###3-2.초기하분포 활용문제"
      ],
      "metadata": {
        "id": "UERuue_HoU_s"
      }
    },
    {
      "cell_type": "markdown",
      "source": [
        "#### 3-2a.이하일 확률\n",
        "- hypergeom(M, n, N).cdf(x)\n",
        "- 어느 회사에서 랜덤박스 선물셋트를 50개 준비했다. 선물셋트에 향수가 포함된 것이 8개 라고 한다. 비복원추출로 선물셋트 4개를 뽑았을 때, 향수가 포함된 선물이 2개 이하로 나올 확률을 구하시오."
      ],
      "metadata": {
        "id": "ylYPT0-EaEiW"
      }
    },
    {
      "cell_type": "code",
      "source": [],
      "metadata": {
        "id": "37zPsd8xZ3WD"
      },
      "execution_count": null,
      "outputs": []
    },
    {
      "cell_type": "markdown",
      "source": [
        "#### 3-2b.이상일 확률\n",
        "- 1 - hypergeom(M, n, N).cdf(x)\n",
        "- 짱구엄마가 사과 20개와 배 8를 사왔다. 비복원추출로 사과와 배 5개를 집었을 때 배가 2개 이상일 확률을 구하시오."
      ],
      "metadata": {
        "id": "8E3evxoMaHVu"
      }
    },
    {
      "cell_type": "code",
      "source": [],
      "metadata": {
        "id": "KLhBI5Wvpocp"
      },
      "execution_count": null,
      "outputs": []
    },
    {
      "cell_type": "markdown",
      "source": [
        "#### 3-3c.특정 횟수일 확률\n",
        "- hypergeom(M, n, N).cdf(x) - hypergeom(M, n, N).cdf(x-1)\n",
        "- 뽑기 기계에 꽝이 아닌 것이 10개, 꽝이 30개 포함되어 있다고 한다. 비복원추출로 4개를 뽑았을 때 이중 꽝이 아닌 것이 3개 나올 확률을 구하시오."
      ],
      "metadata": {
        "id": "rexJv41waJlQ"
      }
    },
    {
      "cell_type": "code",
      "source": [],
      "metadata": {
        "id": "BRKez3D8oaEw"
      },
      "execution_count": null,
      "outputs": []
    },
    {
      "cell_type": "markdown",
      "source": [
        "### 3-3.포아송분포 활용문제"
      ],
      "metadata": {
        "id": "K1rog9T3_0Rj"
      }
    },
    {
      "cell_type": "markdown",
      "source": [
        "#### 3-3a.이하일 확률\n",
        "- poisson(mu).cdf(x)\n",
        "- 어느 AS센터에 1시간당 평균 180건의 전화가 온다. 이때 1분 동안 걸려오는 전화 요청이 4건 이하일 확률을 구하시오."
      ],
      "metadata": {
        "id": "cnWQ55BuEolc"
      }
    },
    {
      "cell_type": "code",
      "source": [],
      "metadata": {
        "id": "SJlLoUZbJRBk"
      },
      "execution_count": null,
      "outputs": []
    },
    {
      "cell_type": "code",
      "source": [
        "help(poisson)"
      ],
      "metadata": {
        "id": "Vxml8SvdwLs4"
      },
      "execution_count": null,
      "outputs": []
    },
    {
      "cell_type": "markdown",
      "source": [
        "####3-3b.이상일 확률\n",
        "- 1- poisson(mu).cdf(x)\n",
        "- 어느 가게에 1시간당 평균 8명의 손님이 온다. 이때, 1시간 동안 손님이 6명 이상 올 확률을 구하시오."
      ],
      "metadata": {
        "id": "HIgHSsuoE57m"
      }
    },
    {
      "cell_type": "code",
      "source": [],
      "metadata": {
        "id": "IJ1-531YWlTE"
      },
      "execution_count": null,
      "outputs": []
    },
    {
      "cell_type": "markdown",
      "source": [
        "#### 3-3c.특정 개수일 확률\n",
        "- poisson(mu).cdf(x) - poisson(mu).cdf(x-1)\n",
        "- 출판사에서 원고 검수를 6 페이지 하였는데 오타가 총 12개 발견되었다고 한다. 이 원고에서 어떤 한 페이지를 검수하였을 때, 오타가 2개 나올 확률을 구하시오.\n"
      ],
      "metadata": {
        "id": "O9SIeT9WFGnz"
      }
    },
    {
      "cell_type": "markdown",
      "source": [
        "### 4.연속형 확률분포 문제"
      ],
      "metadata": {
        "id": "w0KuaMQEe6oR"
      }
    },
    {
      "cell_type": "markdown",
      "source": [
        "### 4-1.정규분포 활용문제\n",
        "- loc : 평균, scale : 표준편차\n",
        "- x (확률변수) : 평균\n"
      ],
      "metadata": {
        "id": "dPm04FbL6nmO"
      }
    },
    {
      "cell_type": "markdown",
      "source": [
        "#### 4-1a.이하일 확률\n",
        "- norm(loc=평균, scale=표준편차).cdf(x) 사용\n",
        "- Z회사의 USB 수명을 조사하였더니 USB의 평균 수명은 5000시간이고, 표준편차가 100시간인 정규분포를 따른다고 한다. USB의 수명이 4800시간 이하일 확률을 구하시오\n",
        " \n"
      ],
      "metadata": {
        "id": "SySulfa57UCZ"
      }
    },
    {
      "cell_type": "code",
      "source": [
        "from scipy.stats import norm\n"
      ],
      "metadata": {
        "id": "Mo8SfzEN9Tl9"
      },
      "execution_count": null,
      "outputs": []
    },
    {
      "cell_type": "markdown",
      "source": [
        "#### 4-1b.이상일 확률\n",
        "- 1 - norm(loc=평균, scale=표준편차).cdf(x) 사용\n",
        "- A씨는 냉장고의 수명을 조사하였다. 냉장고의 평균 수명은 10년이고, 표준편차가 2년인 정규분포를 따른다고 한다.  냉장고의 수명이 14년 이상일 확률을 구하시오.\n"
      ],
      "metadata": {
        "id": "ZRpbZtwO7b4z"
      }
    },
    {
      "cell_type": "code",
      "source": [
        "from scipy.stats import norm\n"
      ],
      "metadata": {
        "id": "oHCbCFMlq0uy"
      },
      "execution_count": null,
      "outputs": []
    },
    {
      "cell_type": "markdown",
      "source": [
        "#### 4-1c.특정 구간일 확률\n",
        "- norm(loc=평균, scale=표준편차).cdf(큰값) - norm(loc=평균, scale=표준편차).cdf(작은값)\n",
        "- X회사에서 생산되는 계란은 평균 무게가 80g 이고 분산이 100g인 정규분포를 따른다고 한다. 계란의 평균 무게가 55g ~ 90g일 확률을 구하시오.\n"
      ],
      "metadata": {
        "id": "00zA_5OB7mXl"
      }
    },
    {
      "cell_type": "code",
      "source": [
        "from scipy.stats import norm\n"
      ],
      "metadata": {
        "id": "jWVdxK3Yr7zK"
      },
      "execution_count": null,
      "outputs": []
    },
    {
      "cell_type": "markdown",
      "source": [
        "#### 4-1d.정규분포 신뢰구간 \n",
        "- (통계량 – 오차한계) ~ (통계량 + 오차한계)\n",
        "- 오차한계 = 표본오차, 임계값 * 𝜎/√𝑛 \n",
        "- https://docs.scipy.org/doc/scipy/reference/generated/scipy.stats.norm.html\n",
        "- norm.interval(confidence, loc=mu, scale=stderr)\n",
        "- norm.ppf((1+confidence)/2, loc=mu, scale=stderr)\n",
        "- scipy.stats.sem(data)로 stderr 구하기 가능\n"
      ],
      "metadata": {
        "id": "J9AJN7XIfsJB"
      }
    },
    {
      "cell_type": "markdown",
      "source": [
        "어느 배 농장에서 수확한 배의 평균 무게(𝝁)에 대해 알아보기 위해 36개의 배를 추출하여 무게를측정하였더니 평균이 602g, 표준편차가 30g이 나왔다고 한다. 이때 배의 평균 무게 (𝝁) 의 95% 신뢰구간을 구하여라\n"
      ],
      "metadata": {
        "id": "pwshc_p0YWw2"
      }
    },
    {
      "cell_type": "code",
      "source": [
        "from scipy.stats import norm\n"
      ],
      "metadata": {
        "id": "rSay-AkJlzNG"
      },
      "execution_count": null,
      "outputs": []
    },
    {
      "cell_type": "code",
      "source": [
        "from scipy.stats import norm\n",
        "# ppf 사용\n"
      ],
      "metadata": {
        "id": "IRt2a6USmvK5"
      },
      "execution_count": null,
      "outputs": []
    },
    {
      "cell_type": "code",
      "source": [
        "confidence = 0.95\n",
        "alpha1 = (1 - confidence) / 2\n",
        "alpha2 = (1 + confidence) / 2  # confidence+alpha\n",
        "print(alpha1, alpha2)"
      ],
      "metadata": {
        "id": "uHRe2MrUnmJ5"
      },
      "execution_count": null,
      "outputs": []
    },
    {
      "cell_type": "markdown",
      "source": [
        "### 4-2.t분포 활용문제"
      ],
      "metadata": {
        "id": "RwRDLzVjYeVU"
      }
    },
    {
      "cell_type": "markdown",
      "source": [
        "#### 4-2a.t분포 신뢰구간\n",
        "모평균이 𝝁, 표준편차가 𝝈=8 인 정규분포를 따르는 모집단이 있다.  이 모집단에서 크기가 25인 표본을 추출하여 구한 평균이 42.7이었다. 이때, 모평균 𝝁 이 위치할 95% 신뢰도의 \n",
        "신뢰구간을 구하라."
      ],
      "metadata": {
        "id": "gbkzaLxM5_0V"
      }
    },
    {
      "cell_type": "code",
      "source": [
        "from scipy.stats import t\n"
      ],
      "metadata": {
        "id": "LE3H_HLtgrF3"
      },
      "execution_count": null,
      "outputs": []
    },
    {
      "cell_type": "code",
      "source": [
        "from scipy.stats import t\n"
      ],
      "metadata": {
        "colab": {
          "base_uri": "https://localhost:8080/"
        },
        "id": "py4w1yszL67o",
        "outputId": "ec5b1ee7-01cc-49db-b45a-88f64d2cfe2b"
      },
      "execution_count": null,
      "outputs": [
        {
          "output_type": "execute_result",
          "data": {
            "text/plain": [
              "array([38.22489679, 47.17510321])"
            ]
          },
          "metadata": {},
          "execution_count": 5
        }
      ]
    },
    {
      "cell_type": "markdown",
      "source": [
        "#### 4-2b.t분포 신뢰구간\n",
        "우주선 제작에 사용되는 합금의 평균 장력 𝝁 를 추정하고자 한다. 15개의 새 합금조각으로부터 장력을 측정한 결과 \n",
        "평균이 39.3, 표준편차가 2.6으로 나타났다. 합금의 평균 장력 𝝁에 대한 90% 신뢰구간을 구하라. \n"
      ],
      "metadata": {
        "id": "Lo1xn6w_fw3U"
      }
    },
    {
      "cell_type": "code",
      "source": [
        "from scipy.stats import t\n"
      ],
      "metadata": {
        "id": "qex3qf606IwO"
      },
      "execution_count": null,
      "outputs": []
    },
    {
      "cell_type": "code",
      "source": [
        "from scipy.stats import t\n"
      ],
      "metadata": {
        "id": "YhVlmDNJgsNf"
      },
      "execution_count": null,
      "outputs": []
    },
    {
      "cell_type": "markdown",
      "source": [
        "#### 4-2c. 20대 수면시간 - t분포 사용\n",
        "- interval(confidence, df, loc=0, scale=1)"
      ],
      "metadata": {
        "id": "p8KR6WN3tnEP"
      }
    },
    {
      "cell_type": "code",
      "source": [
        "!git clone https://github.com/Soyoung-Yoon/data_02"
      ],
      "metadata": {
        "id": "z80noeip5Z1D"
      },
      "execution_count": null,
      "outputs": []
    },
    {
      "cell_type": "code",
      "source": [
        "# './data_02/sleepage.csv'  파일 사용\n",
        "import pandas as pd\n",
        "import numpy as np\n",
        "df = pd.read_csv('./data_02/sleepage.csv')\n",
        "print(df.shape)\n",
        "df.head()"
      ],
      "metadata": {
        "id": "hvmSipyntnEP",
        "colab": {
          "base_uri": "https://localhost:8080/",
          "height": 224
        },
        "outputId": "ec5aa277-5cc0-4448-c9ef-f8eac7481c40"
      },
      "execution_count": null,
      "outputs": [
        {
          "output_type": "stream",
          "name": "stdout",
          "text": [
            "(20, 3)\n"
          ]
        },
        {
          "output_type": "execute_result",
          "data": {
            "text/plain": [
              "   stime20s  stime40s  ID\n",
              "0         4         5   1\n",
              "1         4         5   2\n",
              "2         5         6   3\n",
              "3         5         7   4\n",
              "4         6         6   5"
            ],
            "text/html": [
              "\n",
              "  <div id=\"df-74ceb396-cc66-4209-a707-300d1ae13289\">\n",
              "    <div class=\"colab-df-container\">\n",
              "      <div>\n",
              "<style scoped>\n",
              "    .dataframe tbody tr th:only-of-type {\n",
              "        vertical-align: middle;\n",
              "    }\n",
              "\n",
              "    .dataframe tbody tr th {\n",
              "        vertical-align: top;\n",
              "    }\n",
              "\n",
              "    .dataframe thead th {\n",
              "        text-align: right;\n",
              "    }\n",
              "</style>\n",
              "<table border=\"1\" class=\"dataframe\">\n",
              "  <thead>\n",
              "    <tr style=\"text-align: right;\">\n",
              "      <th></th>\n",
              "      <th>stime20s</th>\n",
              "      <th>stime40s</th>\n",
              "      <th>ID</th>\n",
              "    </tr>\n",
              "  </thead>\n",
              "  <tbody>\n",
              "    <tr>\n",
              "      <th>0</th>\n",
              "      <td>4</td>\n",
              "      <td>5</td>\n",
              "      <td>1</td>\n",
              "    </tr>\n",
              "    <tr>\n",
              "      <th>1</th>\n",
              "      <td>4</td>\n",
              "      <td>5</td>\n",
              "      <td>2</td>\n",
              "    </tr>\n",
              "    <tr>\n",
              "      <th>2</th>\n",
              "      <td>5</td>\n",
              "      <td>6</td>\n",
              "      <td>3</td>\n",
              "    </tr>\n",
              "    <tr>\n",
              "      <th>3</th>\n",
              "      <td>5</td>\n",
              "      <td>7</td>\n",
              "      <td>4</td>\n",
              "    </tr>\n",
              "    <tr>\n",
              "      <th>4</th>\n",
              "      <td>6</td>\n",
              "      <td>6</td>\n",
              "      <td>5</td>\n",
              "    </tr>\n",
              "  </tbody>\n",
              "</table>\n",
              "</div>\n",
              "      <button class=\"colab-df-convert\" onclick=\"convertToInteractive('df-74ceb396-cc66-4209-a707-300d1ae13289')\"\n",
              "              title=\"Convert this dataframe to an interactive table.\"\n",
              "              style=\"display:none;\">\n",
              "        \n",
              "  <svg xmlns=\"http://www.w3.org/2000/svg\" height=\"24px\"viewBox=\"0 0 24 24\"\n",
              "       width=\"24px\">\n",
              "    <path d=\"M0 0h24v24H0V0z\" fill=\"none\"/>\n",
              "    <path d=\"M18.56 5.44l.94 2.06.94-2.06 2.06-.94-2.06-.94-.94-2.06-.94 2.06-2.06.94zm-11 1L8.5 8.5l.94-2.06 2.06-.94-2.06-.94L8.5 2.5l-.94 2.06-2.06.94zm10 10l.94 2.06.94-2.06 2.06-.94-2.06-.94-.94-2.06-.94 2.06-2.06.94z\"/><path d=\"M17.41 7.96l-1.37-1.37c-.4-.4-.92-.59-1.43-.59-.52 0-1.04.2-1.43.59L10.3 9.45l-7.72 7.72c-.78.78-.78 2.05 0 2.83L4 21.41c.39.39.9.59 1.41.59.51 0 1.02-.2 1.41-.59l7.78-7.78 2.81-2.81c.8-.78.8-2.07 0-2.86zM5.41 20L4 18.59l7.72-7.72 1.47 1.35L5.41 20z\"/>\n",
              "  </svg>\n",
              "      </button>\n",
              "      \n",
              "  <style>\n",
              "    .colab-df-container {\n",
              "      display:flex;\n",
              "      flex-wrap:wrap;\n",
              "      gap: 12px;\n",
              "    }\n",
              "\n",
              "    .colab-df-convert {\n",
              "      background-color: #E8F0FE;\n",
              "      border: none;\n",
              "      border-radius: 50%;\n",
              "      cursor: pointer;\n",
              "      display: none;\n",
              "      fill: #1967D2;\n",
              "      height: 32px;\n",
              "      padding: 0 0 0 0;\n",
              "      width: 32px;\n",
              "    }\n",
              "\n",
              "    .colab-df-convert:hover {\n",
              "      background-color: #E2EBFA;\n",
              "      box-shadow: 0px 1px 2px rgba(60, 64, 67, 0.3), 0px 1px 3px 1px rgba(60, 64, 67, 0.15);\n",
              "      fill: #174EA6;\n",
              "    }\n",
              "\n",
              "    [theme=dark] .colab-df-convert {\n",
              "      background-color: #3B4455;\n",
              "      fill: #D2E3FC;\n",
              "    }\n",
              "\n",
              "    [theme=dark] .colab-df-convert:hover {\n",
              "      background-color: #434B5C;\n",
              "      box-shadow: 0px 1px 3px 1px rgba(0, 0, 0, 0.15);\n",
              "      filter: drop-shadow(0px 1px 2px rgba(0, 0, 0, 0.3));\n",
              "      fill: #FFFFFF;\n",
              "    }\n",
              "  </style>\n",
              "\n",
              "      <script>\n",
              "        const buttonEl =\n",
              "          document.querySelector('#df-74ceb396-cc66-4209-a707-300d1ae13289 button.colab-df-convert');\n",
              "        buttonEl.style.display =\n",
              "          google.colab.kernel.accessAllowed ? 'block' : 'none';\n",
              "\n",
              "        async function convertToInteractive(key) {\n",
              "          const element = document.querySelector('#df-74ceb396-cc66-4209-a707-300d1ae13289');\n",
              "          const dataTable =\n",
              "            await google.colab.kernel.invokeFunction('convertToInteractive',\n",
              "                                                     [key], {});\n",
              "          if (!dataTable) return;\n",
              "\n",
              "          const docLinkHtml = 'Like what you see? Visit the ' +\n",
              "            '<a target=\"_blank\" href=https://colab.research.google.com/notebooks/data_table.ipynb>data table notebook</a>'\n",
              "            + ' to learn more about interactive tables.';\n",
              "          element.innerHTML = '';\n",
              "          dataTable['output_type'] = 'display_data';\n",
              "          await google.colab.output.renderOutput(dataTable, element);\n",
              "          const docLink = document.createElement('div');\n",
              "          docLink.innerHTML = docLinkHtml;\n",
              "          element.appendChild(docLink);\n",
              "        }\n",
              "      </script>\n",
              "    </div>\n",
              "  </div>\n",
              "  "
            ]
          },
          "metadata": {},
          "execution_count": 5
        }
      ]
    },
    {
      "cell_type": "code",
      "source": [],
      "metadata": {
        "id": "dzS6DB3BtnEQ"
      },
      "execution_count": null,
      "outputs": []
    },
    {
      "cell_type": "markdown",
      "source": [
        "ppf를 사용하는 방법"
      ],
      "metadata": {
        "id": "GCBw3m02tnEQ"
      }
    },
    {
      "cell_type": "code",
      "source": [],
      "metadata": {
        "id": "_c9N-JvytnEQ"
      },
      "execution_count": null,
      "outputs": []
    },
    {
      "cell_type": "code",
      "source": [],
      "metadata": {
        "id": "qQarOQfwtnEQ"
      },
      "execution_count": null,
      "outputs": []
    },
    {
      "cell_type": "markdown",
      "source": [
        "### 4-3.지수분포 활용문제\n",
        "- 단위 시간당 발생하는 평균 사건의 수 : lambda\n",
        "- 발생하는 사건들 사이의 시간 : x (확률변수)\n"
      ],
      "metadata": {
        "id": "PrBfzjBSuSY-"
      }
    },
    {
      "cell_type": "markdown",
      "source": [
        "#### 4-3a.이하일 확률\n",
        "- expon(scale=mu).cdf(x) 사용\n",
        "- 전자 제품의 5년간 고장횟수가 평균 1회이고, 지수분포를 따른다. 1년 안에 고장 날 확률을 구하시오.\n"
      ],
      "metadata": {
        "id": "1Qdqf5xKuSY_"
      }
    },
    {
      "cell_type": "code",
      "source": [
        "from scipy.stats import expon\n",
        "\n",
        "data = expon.rvs(scale=1/5, size=5000, random_state=11)\n",
        "mu = data.mean().round(2)\n",
        "print('%.2f' % mu)\n",
        "\n",
        "result = expon(scale=1/mu).cdf(1).round(4)\n",
        "print(result)\n",
        "import pandas as pd\n",
        "s = pd.Series(data)\n",
        "s.to_csv('electronic.csv', index=False)"
      ],
      "metadata": {
        "colab": {
          "base_uri": "https://localhost:8080/"
        },
        "outputId": "ac2599be-2f45-47a7-9a31-575c33ce6b8d",
        "id": "QetZcZ9xuSY_"
      },
      "execution_count": null,
      "outputs": [
        {
          "output_type": "stream",
          "name": "stdout",
          "text": [
            "0.20\n",
            "0.1813\n"
          ]
        }
      ]
    },
    {
      "cell_type": "markdown",
      "source": [
        "#### 4-3b.이상일 확률\n",
        "- 1 - expon(scale=mu).cdf(x) 사용\n",
        "- 어느 회사에서 생산하는 냉장고 평균수명은 10년이고, 지수분포를 따른다. 이 냉장고의 수명이 10년 이상 지속될 확률을 구하시오."
      ],
      "metadata": {
        "id": "n8eiIJ32uSY_"
      }
    },
    {
      "cell_type": "code",
      "source": [
        "from scipy.stats import expon\n",
        "\n",
        "data = expon.rvs(scale=1/10, size=5000, random_state=13)\n",
        "mu = data.mean().round(1)\n",
        "print(mu)\n",
        "\n",
        "result = 1 - expon.cdf(10, scale=1/mu).round(4)\n",
        "print(result)\n",
        "import pandas as pd\n",
        "s = pd.Series(data)\n",
        "s.to_csv('refrigerator.csv', index=False)"
      ],
      "metadata": {
        "colab": {
          "base_uri": "https://localhost:8080/"
        },
        "outputId": "8fb554bc-dce2-40a6-d64d-58de9b2a64e5",
        "id": "kXvhO2nduSZA"
      },
      "execution_count": null,
      "outputs": [
        {
          "output_type": "stream",
          "name": "stdout",
          "text": [
            "0.1\n",
            "0.3679\n"
          ]
        }
      ]
    },
    {
      "cell_type": "markdown",
      "source": [
        "#### 4-3c.특정 구간일 확률\n",
        "- expon(scale=mu).cdf(큰값) - expon(scale=mu).cdf(작은값)\n",
        "- 어느 커피샵에서 커피를 구입하기 위해 대기하는 시간이 평균 7분이고, 지수분포를 따른다. \n",
        "이 커피샵에 갔을 때 대기하는 시간이 4분에서 10분일 확률을 구하시오."
      ],
      "metadata": {
        "id": "xOLgD_tUuSZA"
      }
    },
    {
      "cell_type": "code",
      "source": [
        "from scipy.stats import expon\n",
        "data = expon.rvs(scale=7, size=5000, random_state=11)\n",
        "mu = data.mean().round(1)\n",
        "print(mu)\n",
        "\n",
        "r_min = expon(scale=mu).cdf(4)\n",
        "r_max = expon(scale=mu).cdf(10)\n",
        "result = (r_max - r_min).round(4)\n",
        "print(result)\n",
        "import pandas as pd\n",
        "s = pd.Series(data)\n",
        "s.to_csv('coffee_shop.csv', index=False)"
      ],
      "metadata": {
        "colab": {
          "base_uri": "https://localhost:8080/"
        },
        "outputId": "585ad180-0041-4ede-b534-13a186989a9b",
        "id": "iJnJdqQ_uSZA"
      },
      "execution_count": null,
      "outputs": [
        {
          "output_type": "stream",
          "name": "stdout",
          "text": [
            "7.0\n",
            "0.3251\n"
          ]
        }
      ]
    },
    {
      "cell_type": "code",
      "source": [],
      "metadata": {
        "id": "vzwFATPhuSZA"
      },
      "execution_count": null,
      "outputs": []
    },
    {
      "cell_type": "markdown",
      "source": [
        "### 4-4.감마분포 활용문제\n",
        "- a: 이벤트가 발생하는 시간/공간, λ : 단위시간/공간 당 발생하는 이벤트 평균 건 수"
      ],
      "metadata": {
        "id": "5e8JRgWce9Ph"
      }
    },
    {
      "cell_type": "markdown",
      "source": [
        "#### 4-4a.이하일 확률\n",
        "- gamma(a=k, scale=1/𝜷)\n",
        "- A씨는 한 시간에 평균 6개의 택배를 배송한다. 30개의 택배를 배송할 때 걸리는 시간이 5시간 이하로 소요될 확률을 구하시오. "
      ],
      "metadata": {
        "id": "fbvzAOzHhwCZ"
      }
    },
    {
      "cell_type": "code",
      "source": [
        "from scipy.stats import gamma\n",
        "\n",
        "result = gamma(30, scale=1/6).cdf(5)\n",
        "print(result)"
      ],
      "metadata": {
        "colab": {
          "base_uri": "https://localhost:8080/"
        },
        "id": "4AFFMTdFjlVV",
        "outputId": "2a4a03c0-da0b-49fb-8ade-c97ce341517a"
      },
      "execution_count": null,
      "outputs": [
        {
          "output_type": "stream",
          "name": "stdout",
          "text": [
            "0.52428301389368\n"
          ]
        }
      ]
    },
    {
      "cell_type": "markdown",
      "source": [
        "#### 4-4b.이상일 확률\n",
        "- 1 - gamma(a=k, scale=1/𝜷).cdf(x)\n",
        "- B은행은 한 명의 고객응대에 평균 5분이 소요된다.  이 은행에서 30명의 고객응대에 2시간 이상으로 소요될 확률을 구하시오. "
      ],
      "metadata": {
        "id": "Eerg0pzmh0Jv"
      }
    },
    {
      "cell_type": "code",
      "source": [
        "from scipy.stats import gamma\n",
        "result = 1 - gamma(30, scale=1/12).cdf(2) \n",
        "print(result)"
      ],
      "metadata": {
        "colab": {
          "base_uri": "https://localhost:8080/"
        },
        "id": "rqCcLsVJlcLi",
        "outputId": "58333969-4b91-4c0b-99cf-60e2544d3e2e"
      },
      "execution_count": null,
      "outputs": [
        {
          "output_type": "stream",
          "name": "stdout",
          "text": [
            "0.9999976307318754\n"
          ]
        }
      ]
    },
    {
      "cell_type": "markdown",
      "source": [
        "#### 4-4c.특정 구간일 확률\n",
        "- gamma(a=k, scale=1/𝜷).cdf(큰값) - gamma(a=k, 1/𝜷).cdf(작은값)\n",
        "- C씨는 비즈 목걸이를 만드는데 평균 30분 걸린다.  5개 비즈 목걸이를 만들 때까지 걸리는 시간이 2시간에서 4시간 사이 소요될 확률을 구하시오"
      ],
      "metadata": {
        "id": "x2noqIlch0sy"
      }
    },
    {
      "cell_type": "code",
      "source": [
        "from scipy.stats import gamma\n",
        "rv = gamma(a=4, scale=1/2)\n",
        "result = rv.cdf(4) - rv.cdf(2)\n",
        "print(result)"
      ],
      "metadata": {
        "colab": {
          "base_uri": "https://localhost:8080/"
        },
        "id": "Xn6SY-onlOg7",
        "outputId": "2e6ca018-7228-4000-90cc-2eace13c59bc"
      },
      "execution_count": null,
      "outputs": [
        {
          "output_type": "stream",
          "name": "stdout",
          "text": [
            "0.39109000837502494\n"
          ]
        }
      ]
    },
    {
      "cell_type": "code",
      "source": [],
      "metadata": {
        "id": "iOPyqdniXzMA"
      },
      "execution_count": null,
      "outputs": []
    }
  ]
}