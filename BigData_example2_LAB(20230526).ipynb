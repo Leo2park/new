{
  "nbformat": 4,
  "nbformat_minor": 0,
  "metadata": {
    "colab": {
      "provenance": [],
      "include_colab_link": true
    },
    "kernelspec": {
      "name": "python3",
      "display_name": "Python 3"
    },
    "language_info": {
      "name": "python"
    }
  },
  "cells": [
    {
      "cell_type": "markdown",
      "metadata": {
        "id": "view-in-github",
        "colab_type": "text"
      },
      "source": [
        "<a href=\"https://colab.research.google.com/github/Leo2park/new/blob/main/BigData_example2_LAB(20230526).ipynb\" target=\"_parent\"><img src=\"https://colab.research.google.com/assets/colab-badge.svg\" alt=\"Open In Colab\"/></a>"
      ]
    },
    {
      "cell_type": "markdown",
      "source": [
        "## 빅분기 3회 실기 기출"
      ],
      "metadata": {
        "id": "sDiC6FZZpgoY"
      }
    },
    {
      "cell_type": "markdown",
      "source": [
        "### 1-1\n",
        "연관성 분석에서 규칙이 우연에 의해 발생한 것인지 판단하기 위해 연관성의 정도를 측정하는 척도는?"
      ],
      "metadata": {
        "id": "v9339Cyrqo7I"
      }
    },
    {
      "cell_type": "code",
      "source": [],
      "metadata": {
        "id": "ebJEYoReqxWi"
      },
      "execution_count": null,
      "outputs": []
    },
    {
      "cell_type": "markdown",
      "source": [
        "### 1-2.\n",
        "분포를 모를 때, 데이터를 0~1 사이로 변환하는 것은?"
      ],
      "metadata": {
        "id": "sF_ulrihqy2K"
      }
    },
    {
      "cell_type": "code",
      "source": [],
      "metadata": {
        "id": "TG8oyKMjqyjT"
      },
      "execution_count": null,
      "outputs": []
    },
    {
      "cell_type": "markdown",
      "source": [
        "### 1-3.\n",
        "순서형 말고 예를 들어 국가별 코드 값을 가진 이런한 특징을 가진 것을 (    ) 데이터 라고 한다 \n"
      ],
      "metadata": {
        "id": "Oewel8PYq842"
      }
    },
    {
      "cell_type": "code",
      "source": [],
      "metadata": {
        "id": "5XYZIKOXrKV2"
      },
      "execution_count": null,
      "outputs": []
    },
    {
      "cell_type": "markdown",
      "source": [
        "### 1-4.\n",
        "마지막 은닉층 두개(0.2, 0.3), 가중치 두개(0.3,-0.1), 바이어스bias(=상수항의 가중치) 0.1 들의 값은 이러하다. 마지막 출력에 입력되는 선형합값은?"
      ],
      "metadata": {
        "id": "BBSKl41HrSkA"
      }
    },
    {
      "cell_type": "code",
      "source": [],
      "metadata": {
        "id": "x0PKioY-rWns"
      },
      "execution_count": null,
      "outputs": []
    },
    {
      "cell_type": "markdown",
      "source": [
        "### 1-5\n",
        "회귀, 분류 둘다 사용가능하며 지도학습 알고리즘으로 구분하는 경계와 데이터가 멀수록(최대일경우) 가장 좋은 모델로 선정하는 알고리즘은 무엇인가?"
      ],
      "metadata": {
        "id": "XrEEzXfFrcyv"
      }
    },
    {
      "cell_type": "code",
      "source": [],
      "metadata": {
        "id": "2z0kG-OSrfxi"
      },
      "execution_count": null,
      "outputs": []
    },
    {
      "cell_type": "markdown",
      "source": [
        "### 1-6\n",
        "여러 개의 동일 또는 상이한 여러 가지 모형의 예측/분류 결과를 종합하여 최종 결과를 정하는 방식의 머신러닝 알고리즘을 무엇이라고 하는가?\n",
        "\n",
        "\n"
      ],
      "metadata": {
        "id": "bWD-OBsvu2W8"
      }
    },
    {
      "cell_type": "code",
      "source": [],
      "metadata": {
        "id": "aRKEdvcZ4CqP"
      },
      "execution_count": null,
      "outputs": []
    },
    {
      "cell_type": "markdown",
      "source": [
        "### 1-7\n",
        "다음은 어떤 군집화 연결법에 관한 설명인가? \n",
        "- 두 군집의 중심 거리로 결합, 새로운 군집의 평균은 가중평균으로 구하는 연결법"
      ],
      "metadata": {
        "id": "ZoGO5oimu6fc"
      }
    },
    {
      "cell_type": "code",
      "source": [],
      "metadata": {
        "id": "gm7rBmjY39l4"
      },
      "execution_count": null,
      "outputs": []
    },
    {
      "cell_type": "markdown",
      "source": [
        "### 1-8\n",
        "군집 분석 진행 시 데이터의 `(________)`를 고려하는 것이 중요하다"
      ],
      "metadata": {
        "id": "mB7JA4T5vA0g"
      }
    },
    {
      "cell_type": "code",
      "source": [],
      "metadata": {
        "id": "42X5qbFevHDz"
      },
      "execution_count": null,
      "outputs": []
    },
    {
      "cell_type": "markdown",
      "source": [
        "### 1-9\n",
        "A 학교의 영어점수 60점과 B학교의 영어점수 60점은 같은 60점이지만 학교가 다르기 때문에 같은 점수라고 볼 수 없다. 이는 데이터의 (    )이 다르기 때문이다."
      ],
      "metadata": {
        "id": "cECrE_JOvKIY"
      }
    },
    {
      "cell_type": "code",
      "source": [],
      "metadata": {
        "id": "eToHMLZnvTvP"
      },
      "execution_count": null,
      "outputs": []
    },
    {
      "cell_type": "markdown",
      "source": [
        "### 1-10\n",
        "그룹화를 의미하는 데이터 변환을 뭐라하는가?\n",
        "(예시 : 일별 매출건수를 그룹화하여 월별 매출건수, 분기별 매출건수로 변환)"
      ],
      "metadata": {
        "id": "DWbq-blsvZcp"
      }
    },
    {
      "cell_type": "code",
      "source": [],
      "metadata": {
        "id": "yHpb60LWvdNW"
      },
      "execution_count": null,
      "outputs": []
    },
    {
      "cell_type": "markdown",
      "source": [
        "## 2.작업형1"
      ],
      "metadata": {
        "id": "U4yCvd7_4HQQ"
      }
    },
    {
      "cell_type": "code",
      "source": [
        "!git clone https://github.com/Soyoung-Yoon/bigdata"
      ],
      "metadata": {
        "id": "l_uAL496Wt1f",
        "colab": {
          "base_uri": "https://localhost:8080/"
        },
        "outputId": "5473c564-a5b8-448f-eff7-4a37debccd12"
      },
      "execution_count": 1,
      "outputs": [
        {
          "output_type": "stream",
          "name": "stdout",
          "text": [
            "Cloning into 'bigdata'...\n",
            "remote: Enumerating objects: 53, done.\u001b[K\n",
            "remote: Counting objects: 100% (3/3), done.\u001b[K\n",
            "remote: Compressing objects: 100% (3/3), done.\u001b[K\n",
            "remote: Total 53 (delta 0), reused 0 (delta 0), pack-reused 50\u001b[K\n",
            "Unpacking objects: 100% (53/53), 14.21 MiB | 4.37 MiB/s, done.\n"
          ]
        }
      ]
    },
    {
      "cell_type": "code",
      "source": [
        "'https://raw.githubusercontent.com/Soyoung-Yoon/bigdata/main/'"
      ],
      "metadata": {
        "id": "LL4RoM9i6HeL"
      },
      "execution_count": null,
      "outputs": []
    },
    {
      "cell_type": "markdown",
      "source": [
        "### 2-1.캘리포니어 집값 데이터\n",
        "결측치를 포함하는 모든 행을 제거한 후, 처음부터 순서대로 70%를 추출하여, 'housing_median_age' 컬럼의 사분위수 Q1의 값을 구하시오\n",
        "- 주의사항 정답 제출시, 정수형으로 제출해야 함\n",
        "- \"https://raw.githubusercontent.com/Soyoung-Yoon/bigdata/main/housing03.csv\" 파일 사용"
      ],
      "metadata": {
        "id": "FbBF6ZmSp4Ge"
      }
    },
    {
      "cell_type": "code",
      "source": [
        "# 한 문자형 컬럼에 빈칸 ''인 데이터 1건이 있어서\n",
        "# 빈칸을 결측으로 처리시 빈칸 제거전 242건에서 빈칸 제거후 243건의 행이 제거됨\n",
        "# 하지만 제거하지 않고 1분위수를 구하더라도 정답은 같음"
      ],
      "metadata": {
        "id": "iWgEGO71cMSR"
      },
      "execution_count": null,
      "outputs": []
    },
    {
      "cell_type": "code",
      "execution_count": 41,
      "metadata": {
        "id": "_x39Rr17pda0",
        "outputId": "b750f8d9-3854-4a56-97d2-f10c30c23bee",
        "colab": {
          "base_uri": "https://localhost:8080/"
        }
      },
      "outputs": [
        {
          "output_type": "stream",
          "name": "stdout",
          "text": [
            "19\n"
          ]
        }
      ],
      "source": [
        "import pandas as pd\n",
        "\n",
        "# 데이터 불러오기\n",
        "housing = pd.read_csv('https://raw.githubusercontent.com/Soyoung-Yoon/bigdata/main/housing03.csv')\n",
        "\n",
        "# 결측치를 포함하는 모든행을 제거\n",
        "housing.dropna(inplace=True)\n",
        "\n",
        "# 처음순서대로 70% 추출\n",
        "train = housing.iloc[:int(len(housing)*0.7),:]\n",
        "\n",
        "# 처음순서대로 70% 추출\n",
        "result = train['housing_median_age'].quantile(0.25)\n",
        "\n",
        "# 정수처리\n",
        "print(int(result))\n"
      ]
    },
    {
      "cell_type": "markdown",
      "source": [
        "### 2-2.연도별 나라별 유병률 데이터\n",
        "2000년 데이터에 대해 국가 전체 유병률 평균 값보다 큰 값을 가진 국가 개수는?\n",
        "(year 변수와 국가들의 결핵 유병률 값을 가진 데이터셋이 주어짐)\n",
        "\n",
        "        year  Afghanistan  Albania  Algeria  Andorra  Angola  Antigua & Barbuda  \\\n",
        "        0  1999            0     89.0     25.0    245.0   217.0              102.0   \n",
        "        1  2000            0    132.0      0.0    138.0    57.0              128.0   \n",
        "        2  2001            0     54.0     14.0    312.0    45.0               45.0   \n",
        "        3  2002            0      4.9      0.7     12.4     5.9                4.9 \n",
        "\n",
        "- 'https://raw.githubusercontent.com/Soyoung-Yoon/bigdata/main/worlddata.csv' 파일 사용"
      ],
      "metadata": {
        "id": "dvODvI5fqIUl"
      }
    },
    {
      "cell_type": "code",
      "source": [
        "import pandas as pd\n",
        "pd.options.display.max_rows = 500\n",
        "pd.options.display.max_columns = 500\n",
        "\n",
        "data = pd.read_csv('https://raw.githubusercontent.com/Soyoung-Yoon/bigdata/main/worlddata.csv' )\n",
        "# print(data)\n",
        "\n",
        "# 'year' 2000년 데이터에 대해 국가 전체 유병률 평균 값보다 큰 값을 가진 국가 개수는? \n",
        "data2000 = data[data['year']==2000].T\n",
        "# print(data2000)\n",
        "\n",
        "# 국가별 유병율을 구하자\n",
        "data2000 = data2000.iloc[1:,0]\n",
        "# print(data2000)\n",
        "\n",
        "# 국가 전체 유병률 평균을 구함\n",
        "mean = data2000.mean()\n",
        "# print(mean)\n",
        "\n",
        "# 국가 전체 유병률 평균 값보다 큰 값을 가진 국가 개수를 구함\n",
        "result = data2000[data2000 > mean].shape[0]\n",
        "\n",
        "# result = result.count()\n",
        "\n",
        "print(result)\n",
        "\n",
        "\n",
        "# dir(pd.options)"
      ],
      "metadata": {
        "id": "DyKUpzd2qSx8",
        "outputId": "f6b575f4-4833-4c4a-a9e3-dba446641f31",
        "colab": {
          "base_uri": "https://localhost:8080/"
        }
      },
      "execution_count": 39,
      "outputs": [
        {
          "output_type": "stream",
          "name": "stdout",
          "text": [
            "76\n"
          ]
        }
      ]
    },
    {
      "cell_type": "markdown",
      "source": [
        "### 2-3.타이타닉 데이터\n",
        "- 각 열의 결측치 비율을 확인 한 후, 결측치의 비율이 가장 높은 변수명을 구하시오\n",
        "- \"https://raw.githubusercontent.com/Soyoung-Yoon/bigdata/main/titanic_train03.csv\" 파일 사용\n",
        "- 원본 데이터 : https://www.kaggle.com/c/2019-1st-ml-month-with-kakr/overview"
      ],
      "metadata": {
        "id": "LP2f9AnEqT6V"
      }
    },
    {
      "cell_type": "code",
      "source": [
        "import pandas as pd\n",
        "\n",
        "# 데이터 불러오기\n",
        "titanic = pd.read_csv(\"https://raw.githubusercontent.com/Soyoung-Yoon/bigdata/main/titanic_train03.csv\")\n",
        " \n",
        "# 결측치 비율 구하기\n",
        "isna = titanic.isna().sum()\n",
        "\n",
        "# 결측치 비율이 가장 큰 것에 대한 index 구하기\n",
        "result = isna.index[isna.argmax()]\n",
        "print(result)  # 정답 : Age"
      ],
      "metadata": {
        "id": "fSWeR7GcwMNm",
        "outputId": "8819d5da-a0d8-458e-8b1c-ee8e179c9518",
        "colab": {
          "base_uri": "https://localhost:8080/"
        }
      },
      "execution_count": 62,
      "outputs": [
        {
          "output_type": "stream",
          "name": "stdout",
          "text": [
            "Age\n"
          ]
        }
      ]
    },
    {
      "cell_type": "code",
      "source": [
        "# 다른 풀이 방법\n",
        "import pandas as pd\n",
        "\n",
        "# 데이터 불러오기\n",
        "titanic = pd.read_csv(\"https://raw.githubusercontent.com/Soyoung-Yoon/bigdata/main/titanic_train03.csv\")\n",
        " \n",
        "# 결측치 비율 구하고, 내림차순정렬하기\n",
        "isna = titanic.isna().sum().sort_values(ascending=False)\n",
        "#print(isna)\n",
        "\n",
        "# 결측치 비율이 가장 큰 것에 대한 index 구하기\n",
        "result = isna.index[0]\n",
        "print(result)  # 정답 : Age"
      ],
      "metadata": {
        "id": "GczVu2bKhkdV"
      },
      "execution_count": null,
      "outputs": []
    },
    {
      "cell_type": "markdown",
      "source": [
        "## 3.작업형2\n",
        "travel insurance 데이터 - 보험가입여부 예측\n",
        "- travel insurance 데이터를 활용해서 보험가입여부를 예측하라. \n",
        "- 데이터 : https://www.kaggle.com/agileteam/traval-insurance-exam \n",
        "80점 나왔을 때 30점?!\n",
        "- X_train.csv, y_train.csv\n",
        "- X_test.csv (예측해서 제출하는 것)\n",
        "- 평가: roc-auc 평가지표"
      ],
      "metadata": {
        "id": "_MC0WQLWsd3F"
      }
    },
    {
      "cell_type": "code",
      "source": [
        "# [0] 사용 라이브러리 import\n",
        "# 파일 생성을 위해 실행하여 주세요!  시험에서는 이런 것은 없습니다.\n",
        "import pandas as pd\n",
        "\n",
        "# 데이타가 많은경우 모두 출력 안되고 ... 으로 생략해서 출력됨.\n",
        "pd.set_option('display.max_rows',500)    #출력할 max row를 지정\n",
        "pd.set_option('display.max_columns',20)  #출력할 max columns를 지정\n",
        "#출력 format 지정 - 소수점아래 4자리까지\n",
        "pd.set_option('display.float_format', '{:.4f}'.format)\n",
        "\n",
        "train = pd.read_csv('https://raw.githubusercontent.com/Soyoung-Yoon/bigdata/main/travel_insurance_train03.csv')\n",
        "test = pd.read_csv('https://raw.githubusercontent.com/Soyoung-Yoon/bigdata/main/travel_insurance_test03.csv')\n",
        "Xtrain = train.drop(columns='TravelInsurance')\n",
        "Xtrain.to_csv('X_train.csv', index=False)\n",
        "train[['Unnamed: 0', 'TravelInsurance']].to_csv('y_train.csv', index=False)\n",
        "test.to_csv('X_test.csv', index=False)"
      ],
      "metadata": {
        "id": "E3WCDW1AaEpm"
      },
      "execution_count": 63,
      "outputs": []
    },
    {
      "cell_type": "code",
      "source": [
        "# 직접 코드를 작성해 보세요 ^_^\n",
        "# 셀을 추가하지 말고 작성해 보시기 바랍니다.\n",
        "import pandas as pd\n",
        "import numpy as np\n",
        "\n",
        "pd.set_option('display.max_columns',20)\n",
        "pd.set_option('display.max_rows',500)\n",
        "pd.set_option('display.float_format','{:.2f}'.format)\n",
        "\n",
        "# [1] 데이터 불러오기\n",
        "X = pd.read_csv('X_train.csv')\n",
        "Y = pd.read_csv('y_train.csv')\n",
        "X_submission = pd.read_csv('X_test.csv')\n",
        "\n",
        "# print(X.info())\n",
        "# [2] 'Unnamed: 0'를 'ID'로 변경하기  (필수 아님)\n",
        "X.columns = ['ID'] + list(X.columns[1:])\n",
        "Y.columns = ['ID'] + list(Y.columns[1:])\n",
        "X_submission.columns = ['ID'] + list(X_submission.columns[1:])\n",
        "\n",
        "# [3] X, X_submission 합쳐 dfX 만들고 info() 로 결측치, dtype 확인\n",
        "dfX = pd.concat([X,X_submission], ignore_index=True)\n",
        "# dfX.info()\n",
        "\n",
        "# [4] object 타입으로 된 것들의 가짓수 확인\n",
        "objcols =['Employment Type','GraduateOrNot','FrequentFlyer','EverTravelledAbroad']\n",
        "\n",
        "# [5] object 타입으로 된 것들의 값과 분포 확인\n",
        "# for t in objcols:\n",
        "#   print(dfX[t].value_counts())\n",
        "\n",
        "# [6] Label Encoding 실시\n",
        "for t in objcols:\n",
        "  A = dfX[t].unique()\n",
        "  dfX[t]=dfX[t].replace(A,[0, 1])\n",
        "# dfX.info()\n",
        "\n",
        "# [7] 사용할 도구 import\n",
        "from sklearn.preprocessing import MinMaxScaler\n",
        "from sklearn.model_selection import train_test_split\n",
        "from sklearn.linear_model import LogisticRegression\n",
        "from sklearn.neighbors import KNeighborsClassifier\n",
        "from sklearn.tree import DecisionTreeClassifier\n",
        "from sklearn.ensemble import RandomForestClassifier\n",
        "from xgboost import XGBClassifier\n",
        "\n",
        "# [8] train score, test score, roc_auc_score 를 반환하는 함수 작성\n",
        "from sklearn.metrics import roc_auc_score\n",
        "def get_scores (model, xtrain, xtest, ytrain, ytest):\n",
        "  A = model.score(xtrain,ytrain)\n",
        "  B = model.score(xtest,ytest)\n",
        "  y_pred1 = model.predict_proba(xtrain)[:,1]\n",
        "  y_pred2 = model.predict_proba(xtest)[:,1]\n",
        "  C = roc_auc_score(ytrain,y_pred1)\n",
        "  D = roc_auc_score(ytest,y_pred2)\n",
        "  return (f'{A:4f}{B:4f}{C:4f}{D:4f}')\n",
        "\n",
        "# [9] 다양한 모델을 만들고 성능을 출력하는 함수 작성\n",
        "def make_models(xtrain, xtest, ytrain, ytest, rs=1234):\n",
        "    model1 = LogisticRegression().fit(xtrain, ytrain)\n",
        "    print('model1', get_scores(model1, xtrain, xtest, ytrain, ytest))\n",
        "    for k in range(1, 10):\n",
        "        model2 = KNeighborsClassifier(k).fit(xtrain, ytrain)\n",
        "        print('model2', k, get_scores(model2, xtrain, xtest, ytrain, ytest))\n",
        "\n",
        "    # overfitting\n",
        "    model3 = DecisionTreeClassifier(random_state=rs).fit(xtrain, ytrain)\n",
        "    print('model3', get_scores(model3, xtrain, xtest, ytrain, ytest))\n",
        "\n",
        "    # overfitting 해결\n",
        "    for d in range(3, 8):\n",
        "        model3 = DecisionTreeClassifier(max_depth=d, random_state=rs).fit(xtrain, ytrain)\n",
        "        print('model3', d, get_scores(model3, xtrain, xtest, ytrain, ytest))\n",
        "\n",
        "    # overfitting\n",
        "    model4 = RandomForestClassifier(random_state=rs).fit(xtrain, ytrain)\n",
        "    print('model4', get_scores(model4, xtrain, xtest, ytrain, ytest))\n",
        "\n",
        "    # overfitting 해결\n",
        "    for d in range(3, 8):\n",
        "        model4 = RandomForestClassifier(500, max_depth=d, random_state=rs).fit(xtrain, ytrain)\n",
        "        print('model4', d, get_scores(model4, xtrain, xtest, ytrain, ytest))\n",
        "\n",
        "    model5 = XGBClassifier(eval_metric='logloss', use_label_encoder=False, random_state=rs).fit(xtrain, ytrain)\n",
        "    print('model5', get_scores(model5, xtrain, xtest, ytrain, ytest))\n",
        "\n",
        "# [10] X를 train 용도, submission 용도로 나누고, Y를 1차원으로 바꿈 (MinMaxScaler 적용)\n",
        "def get_data(dfX, Y):\n",
        "    X = dfX.drop(columns=['ID'])\n",
        "    X_use = X.iloc[:1490, :]\n",
        "    X_submission = X.iloc[1490:, :]\n",
        "    Y1 = Y['TravelInsurance']\n",
        "    scaler = MinMaxScaler()\n",
        "    X1_use = scaler.fit_transform(X_use)\n",
        "    X1_submission = scaler.transform(X_submission)\n",
        "    #print(X1_use.shape, Y1.shape, X1_submission.shape)\n",
        "    return X1_use, X1_submission, Y1\n",
        "\n",
        "# [11] 모델 찾기\n",
        "\n",
        "# X, Y 분리하기\n",
        "X1_use, X1_submission, Y1 = get_data(dfX, Y)\n",
        "rs = 1234\n",
        "# train, test  7:3 분할, stratify 적용, random_state=0 적용\n",
        "xtrain1, xtest1, ytrain1, ytest1 = train_test_split(X1_use, Y1, \n",
        "                                                test_size = 0.3,\n",
        "                                                stratify=Y1, random_state=rs)\n",
        "# 다양한 모델 만들어 보기\n",
        "# make_models 함수 호출 부분은 \n",
        "# 실제 시험에서 제출 전에 꼭 주석을 취해 주세요 ^_^  - 실행 시간 초과 금지\n",
        "#make_models(xtrain1, xtest1, ytrain1, ytest1, rs)\n",
        "\n",
        "# model3 5 0.8418 0.8277 0.8481 0.8364\n",
        "# [12] 최종적으로 사용할 모델을 선택하여 model로 다시 생성합니다.\n",
        "model = DecisionTreeClassifier(max_depth=5, random_state=rs).fit(xtrain1, ytrain1)\n",
        "print('final model', get_scores(model, xtrain1, xtest1, ytrain1, ytest1))\n",
        "\n",
        "# [13] test 데이터(X_submission, X1_submission)에 대한 확률 구하기, 파일로 저장하기\n",
        "pred = model.predict_proba(X1_submission)[:, 1]\n",
        "submission = pd.DataFrame({'ID': X_submission['ID'],\n",
        "                           'TravelInsurance': pred})\n",
        "submission.to_csv('submission.csv', index=False)\n",
        "\n",
        "\n",
        "\n",
        "\n",
        "\n",
        "\n",
        "\n",
        "\n",
        "\n"
      ],
      "metadata": {
        "id": "aY9hecvAaYQA",
        "outputId": "916d5580-5b47-4274-9256-b48db0398437",
        "colab": {
          "base_uri": "https://localhost:8080/"
        }
      },
      "execution_count": 90,
      "outputs": [
        {
          "output_type": "stream",
          "name": "stdout",
          "text": [
            "final model 0.8418020.8277400.8480690.836441\n"
          ]
        }
      ]
    },
    {
      "cell_type": "code",
      "source": [],
      "metadata": {
        "id": "UPqx8TqbGrMD"
      },
      "execution_count": null,
      "outputs": []
    }
  ]
}