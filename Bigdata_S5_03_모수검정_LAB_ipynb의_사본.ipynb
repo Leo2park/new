{
  "nbformat": 4,
  "nbformat_minor": 0,
  "metadata": {
    "colab": {
      "provenance": [],
      "include_colab_link": true
    },
    "kernelspec": {
      "name": "python3",
      "display_name": "Python 3"
    },
    "language_info": {
      "name": "python"
    }
  },
  "cells": [
    {
      "cell_type": "markdown",
      "metadata": {
        "id": "view-in-github",
        "colab_type": "text"
      },
      "source": [
        "<a href=\"https://colab.research.google.com/github/Leo2park/new/blob/main/Bigdata_S5_03_%EB%AA%A8%EC%88%98%EA%B2%80%EC%A0%95_LAB_ipynb%EC%9D%98_%EC%82%AC%EB%B3%B8.ipynb\" target=\"_parent\"><img src=\"https://colab.research.google.com/assets/colab-badge.svg\" alt=\"Open In Colab\"/></a>"
      ]
    },
    {
      "cell_type": "markdown",
      "source": [
        "모수 검정"
      ],
      "metadata": {
        "id": "kN_DRunuZKlt"
      }
    },
    {
      "cell_type": "markdown",
      "metadata": {
        "id": "cdO8QKD0u4Jb"
      },
      "source": [
        "### 0.데이터 다운로드"
      ]
    },
    {
      "cell_type": "code",
      "metadata": {
        "id": "nVpvRR95uyJu",
        "colab": {
          "base_uri": "https://localhost:8080/"
        },
        "outputId": "9b804e1e-b9a5-4bae-a0ed-7d5e4c356ef2"
      },
      "source": [
        "!git clone https://github.com/Soyoung-Yoon/data_02"
      ],
      "execution_count": 1,
      "outputs": [
        {
          "output_type": "stream",
          "name": "stdout",
          "text": [
            "Cloning into 'data_02'...\n",
            "remote: Enumerating objects: 72, done.\u001b[K\n",
            "remote: Counting objects: 100% (25/25), done.\u001b[K\n",
            "remote: Compressing objects: 100% (25/25), done.\u001b[K\n",
            "remote: Total 72 (delta 7), reused 0 (delta 0), pack-reused 47\u001b[K\n",
            "Unpacking objects: 100% (72/72), 448.80 KiB | 3.53 MiB/s, done.\n"
          ]
        }
      ]
    },
    {
      "cell_type": "code",
      "source": [
        "!git clone https://github.com/Soyoung-Yoon/bigdata"
      ],
      "metadata": {
        "id": "Upacl9mEstst",
        "colab": {
          "base_uri": "https://localhost:8080/"
        },
        "outputId": "181f9ee4-a42c-45a0-9b6b-4cf5a047153f"
      },
      "execution_count": 2,
      "outputs": [
        {
          "output_type": "stream",
          "name": "stdout",
          "text": [
            "Cloning into 'bigdata'...\n",
            "remote: Enumerating objects: 53, done.\u001b[K\n",
            "remote: Counting objects: 100% (3/3), done.\u001b[K\n",
            "remote: Compressing objects: 100% (3/3), done.\u001b[K\n",
            "remote: Total 53 (delta 0), reused 0 (delta 0), pack-reused 50\u001b[K\n",
            "Unpacking objects: 100% (53/53), 14.21 MiB | 6.04 MiB/s, done.\n"
          ]
        }
      ]
    },
    {
      "cell_type": "code",
      "metadata": {
        "colab": {
          "base_uri": "https://localhost:8080/",
          "height": 35
        },
        "id": "jvmFbdE7SMYe",
        "outputId": "2f4caa7a-cb02-47cc-fa6d-9c3ef0dc3f27"
      },
      "source": [
        "import scipy\n",
        "scipy.__version__"
      ],
      "execution_count": null,
      "outputs": [
        {
          "output_type": "execute_result",
          "data": {
            "text/plain": [
              "'1.10.1'"
            ],
            "application/vnd.google.colaboratory.intrinsic+json": {
              "type": "string"
            }
          },
          "metadata": {},
          "execution_count": 3
        }
      ]
    },
    {
      "cell_type": "code",
      "metadata": {
        "id": "p7LvxMqtSO6l"
      },
      "source": [
        "# !pip install scipy==1.6.0"
      ],
      "execution_count": null,
      "outputs": []
    },
    {
      "cell_type": "markdown",
      "source": [
        "### 1.정규성 검정(Normality Test)\n",
        "- 귀무가설 - 데이터셋이 정규분포를 따른다\n",
        "- 대립가설 - 데이터셋이 정규분포를 따르지 않는다\n",
        "- 유의수준 0.05 인 경우 : p-value > 0.05, 정규성이 보장된다고 할 수 있다\n",
        "- 검정통계량 < 임계값, 정규성이 보장된다고 할 수 있다"
      ],
      "metadata": {
        "id": "6T2v1_TUMChI"
      }
    },
    {
      "cell_type": "code",
      "source": [
        "import pandas as pd\n",
        "import numpy as np\n",
        "df = pd.read_csv('./data_02/sleepage.csv')\n",
        "df.info()"
      ],
      "metadata": {
        "id": "GPyFlteNMGU2",
        "colab": {
          "base_uri": "https://localhost:8080/"
        },
        "outputId": "757922fd-07fd-419b-f904-03d1ec43341e"
      },
      "execution_count": null,
      "outputs": [
        {
          "output_type": "stream",
          "name": "stdout",
          "text": [
            "<class 'pandas.core.frame.DataFrame'>\n",
            "RangeIndex: 20 entries, 0 to 19\n",
            "Data columns (total 3 columns):\n",
            " #   Column    Non-Null Count  Dtype\n",
            "---  ------    --------------  -----\n",
            " 0   stime20s  20 non-null     int64\n",
            " 1   stime40s  20 non-null     int64\n",
            " 2   ID        20 non-null     int64\n",
            "dtypes: int64(3)\n",
            "memory usage: 608.0 bytes\n"
          ]
        }
      ]
    },
    {
      "cell_type": "code",
      "source": [
        "# 그룹을 나누어 저장함\n",
        "gA = df['stime20s']\n",
        "gB = df['stime40s']"
      ],
      "metadata": {
        "id": "qJRAcpFONC5G"
      },
      "execution_count": null,
      "outputs": []
    },
    {
      "cell_type": "code",
      "source": [
        "# 정규성 검정 - 1 shapiro wilks test \n",
        "from scipy.stats import shapiro\n",
        "A_statics, A_pvalue = shapiro(gA)\n",
        "B_statics, B_pvalue = shapiro(gB)\n",
        "print(f'그룹A: 검정통계량:{A_statics:.4f}, p-value:{A_pvalue:.4f}') # 정규성 만족\n",
        "print(f'그룹A: 검정통계량:{B_statics:.4f}, p-value:{B_pvalue:.4f}') # 정규성을 만족하지 않음"
      ],
      "metadata": {
        "id": "FsF__FeLMe-G",
        "colab": {
          "base_uri": "https://localhost:8080/"
        },
        "outputId": "56e13063-e4f8-4267-e8e2-ae0cd5d915c4"
      },
      "execution_count": null,
      "outputs": [
        {
          "output_type": "stream",
          "name": "stdout",
          "text": [
            "그룹A: 검정통계량:0.9239, p-value:0.1180\n",
            "그룹A: 검정통계량:0.8810, p-value:0.0184\n"
          ]
        }
      ]
    },
    {
      "cell_type": "code",
      "source": [
        "# 정규성 검정 - 2 kstest(kolmogorov-smirnov test)\n",
        "from scipy.stats import kstest\n",
        "# 두 개의 데이터가 같은 분포인지 아닌지 검정\n",
        "# 귀무가설 : 두집단의 분포가 같다\n",
        "# 대립가설 : 두집단의 분포가 다르다\n",
        "A_statics, A_pvalue = kstest(gA, \"norm\")\n",
        "B_statics, B_pvalue = kstest(gB, \"norm\")\n",
        "print(f'그룹A: 검정통계량:{A_statics:.8f}, p-value:{A_pvalue:.8f}') # 정규성을 만족하지 않음\n",
        "print(f'그룹B: 검정통계량:{B_statics:.8f}, p-value:{B_pvalue:.8f}') # 정규성을 만족하지 않음"
      ],
      "metadata": {
        "id": "9Ken1r_LSwIP",
        "colab": {
          "base_uri": "https://localhost:8080/"
        },
        "outputId": "e3070438-6104-44e0-ca85-2268e423708c"
      },
      "execution_count": null,
      "outputs": [
        {
          "output_type": "stream",
          "name": "stdout",
          "text": [
            "그룹A: 검정통계량:0.99999146, p-value:0.00000000\n",
            "그룹B: 검정통계량:0.99999952, p-value:0.00000000\n"
          ]
        }
      ]
    },
    {
      "cell_type": "code",
      "source": [
        "# 정규성 검정 - 2 kstest(kolmogorov-smirnov test)\n",
        "from scipy.stats import kstest, norm\n",
        "# 두 개의 데이터가 같은 분포인지 아닌지 검정\n",
        "# 귀무가설 : 두집단의 분포가 같다\n",
        "# 대립가설 : 두집단의 분포가 다르다\n",
        "A_statistic, A_pvalue = kstest(gA, norm.cdf)\n",
        "B_statistic, B_pvalue = kstest(gB, norm.cdf)\n",
        "print(f'그룹A: 검정통계량: {A_statistic:.8f}, p-value: {A_pvalue:.8f}')  # 정규성을 만족하지 않음\n",
        "print(f'그룹B: 검정통계량: {B_statistic:.8f}, p-value: {B_pvalue:.8f}')  # 정규성을 만족하지 않음"
      ],
      "metadata": {
        "id": "rx_OezyEPmMd",
        "colab": {
          "base_uri": "https://localhost:8080/"
        },
        "outputId": "06d2a651-6c20-4de7-a082-b77495e71c3a"
      },
      "execution_count": null,
      "outputs": [
        {
          "output_type": "stream",
          "name": "stdout",
          "text": [
            "그룹A: 검정통계량: 0.99865010, p-value: 0.00000000\n",
            "그룹B: 검정통계량: 0.99999971, p-value: 0.00000000\n"
          ]
        }
      ]
    },
    {
      "cell_type": "code",
      "source": [
        "# 정규성 검정 - 3 normaltest  (20개 이상의 데이터 필요)  # 20개입니다!\n",
        "from scipy.stats import normaltest\n",
        "A_statics, A_pvalue = normaltest(gA)\n",
        "B_statics, B_pvalue = normaltest(gB)\n",
        "print(f'그룹A: 검정통계량:{A_statics:.4f}, p-value:{A_pvalue:.4f}') # 정규성 만족\n",
        "print(f'그룹A: 검정통계량:{B_statics:.4f}, p-value:{B_pvalue:.4f}') # 정규성 만족"
      ],
      "metadata": {
        "id": "a2F8wNyjMf91",
        "colab": {
          "base_uri": "https://localhost:8080/"
        },
        "outputId": "402a81fd-2860-46dc-8bf8-cf3f40d643ae"
      },
      "execution_count": null,
      "outputs": [
        {
          "output_type": "stream",
          "name": "stdout",
          "text": [
            "그룹A: 검정통계량:1.1732, p-value:0.5562\n",
            "그룹A: 검정통계량:2.0450, p-value:0.3597\n"
          ]
        }
      ]
    },
    {
      "cell_type": "code",
      "source": [
        "# 정규성 검정 - 4 anderson darling test\n",
        "# 검정통계량 < 임계값, 정규성이 보장된다고 할 수 있다\n",
        "from scipy.stats import anderson\n",
        "rA = anderson(gA)  # statistic 검정값, critical_values 임계값, significance_level 유의수준\n",
        "rB = anderson(gB)\n",
        "print('그룹A:', *rA) # 0.56 < 0.57  유의수준 : 10%, 5%, 2.5%, 1%\n",
        "print('그룹B:', *rB)"
      ],
      "metadata": {
        "id": "U0IFfC0oMf0l",
        "colab": {
          "base_uri": "https://localhost:8080/"
        },
        "outputId": "7471c4e1-1b3a-4672-e431-c6dfbebe0cf4"
      },
      "execution_count": null,
      "outputs": [
        {
          "output_type": "stream",
          "name": "stdout",
          "text": [
            "그룹A: 0.5601097602856164 [0.506 0.577 0.692 0.807 0.96 ] [15.  10.   5.   2.5  1. ]\n",
            "그룹B: 0.8918678522034931 [0.506 0.577 0.692 0.807 0.96 ] [15.  10.   5.   2.5  1. ]\n"
          ]
        }
      ]
    },
    {
      "cell_type": "markdown",
      "source": [
        "### 2.등분산성 검정\n",
        "- burtlett : 데이터셋의 크기가 서로 다른 2개 이상의 집단 사용 가능\n",
        "- levene, fligner : 정규성을 충족하지 않는 비모수 데이터에 대해서도 사용가능 (중앙을 median으로 설정)"
      ],
      "metadata": {
        "id": "PYt8ggPLsgTD"
      }
    },
    {
      "cell_type": "markdown",
      "source": [
        "#### 2-1.iris 데이터\n",
        "- 등분산 검정 - 3가지 방법으로 실행 후, pvalue 확인"
      ],
      "metadata": {
        "id": "civoanb81g02"
      }
    },
    {
      "cell_type": "code",
      "source": [
        "# 파일 읽어와 내용 확인\n",
        "import seaborn as sns\n",
        "iris = sns.load_dataset('iris')\n",
        "print(iris.head(2))"
      ],
      "metadata": {
        "colab": {
          "base_uri": "https://localhost:8080/"
        },
        "id": "zdF8tZQK0JU2",
        "outputId": "abe6dc14-88b8-42b0-940b-7d1d341612d3"
      },
      "execution_count": null,
      "outputs": [
        {
          "output_type": "stream",
          "name": "stdout",
          "text": [
            "   sepal_length  sepal_width  petal_length  petal_width species\n",
            "0           5.1          3.5           1.4          0.2  setosa\n",
            "1           4.9          3.0           1.4          0.2  setosa\n"
          ]
        }
      ]
    },
    {
      "cell_type": "code",
      "source": [
        "# [1] target='sepal_length', 품종별 그룹을 나누어 저장함\n",
        "import pandas as pd\n",
        "target='sepal_length' # 등분산성 만족 x\n",
        "# target='sepal_width' # 등분산성 만족 \n",
        "\n",
        "# iris['species'].unique()\n",
        "gA = iris.loc[iris['species']=='setosa',target].to_list()\n",
        "gB = iris.loc[iris['species']=='versicolor',target].to_list()\n",
        "gC = iris.loc[iris['species']=='virginica',target].to_list()"
      ],
      "metadata": {
        "id": "6eEYpKVX--p1"
      },
      "execution_count": null,
      "outputs": []
    },
    {
      "cell_type": "code",
      "source": [
        "groups = [x.to_list() for name, x in iris.groupby('species')[target]]\n",
        "gA, gB, gC = groups"
      ],
      "metadata": {
        "id": "9vzGFSgmuqqf"
      },
      "execution_count": null,
      "outputs": []
    },
    {
      "cell_type": "code",
      "source": [
        "# [2] burtlett 검정\n",
        "from scipy.stats import bartlett, shapiro\n",
        "\n",
        "# 정규성검정\n",
        "_, p_valueA =shapiro(gA)\n",
        "_, p_valueB =shapiro(gB)\n",
        "_, p_valueC =shapiro(gC)\n",
        "print(p_valueA, p_valueB, p_valueC) # 귀무가설 채택 - 정규성 만족\n",
        "\n",
        "# 등분산성 검정\n",
        "statisctic, pvalue = bartlett(gA, gB, gC)\n",
        "# statisctic, pvalue = bartlett(*groups)\n",
        "print(statisctic, pvalue)\n",
        "# 귀무가설 기각 - 등분산성 만족하지 않음"
      ],
      "metadata": {
        "id": "JT8FV88evuK1",
        "colab": {
          "base_uri": "https://localhost:8080/"
        },
        "outputId": "219a0b6b-cbbb-4b28-e824-b725b091352b"
      },
      "execution_count": null,
      "outputs": [
        {
          "output_type": "stream",
          "name": "stdout",
          "text": [
            "0.4595010578632355 0.4647378921508789 0.25831347703933716\n",
            "16.005701874401502 0.0003345076070163035\n"
          ]
        }
      ]
    },
    {
      "cell_type": "code",
      "source": [
        "# [3] levene 의 center는 'mean'으로 지정\n",
        "from scipy.stats import levene\n",
        "statistic, pvalue = levene(*groups, center='mean')\n",
        "print(statistic, pvalue) # 귀무가설 기각 - 등분산성 만족하지 않음"
      ],
      "metadata": {
        "id": "boXVp8f6v4L3",
        "colab": {
          "base_uri": "https://localhost:8080/"
        },
        "outputId": "6d1a9a69-c664-4fb1-c3cd-d5950daf40e9"
      },
      "execution_count": null,
      "outputs": [
        {
          "output_type": "stream",
          "name": "stdout",
          "text": [
            "7.381091747801267 0.0008817887814641548\n"
          ]
        }
      ]
    },
    {
      "cell_type": "code",
      "source": [
        "# [4] fligner의 center는 'trimmed', proportiontocut=5% 지정\n",
        "from scipy.stats import fligner\n",
        "statistic, pvalue = fligner(*groups, center='trimmed', proportiontocut=0.05)\n",
        "print(statistic, pvalue) # 귀무가설 기각 - 등분산성 만족하지 않음"
      ],
      "metadata": {
        "id": "Ntu2FrU5wKmo",
        "colab": {
          "base_uri": "https://localhost:8080/"
        },
        "outputId": "629a3c10-a92d-4a96-cc1d-f4b9c100c85b"
      },
      "execution_count": null,
      "outputs": [
        {
          "output_type": "stream",
          "name": "stdout",
          "text": [
            "13.193438547424174 0.0013648383616752843\n"
          ]
        }
      ]
    },
    {
      "cell_type": "markdown",
      "source": [
        "#### 2-2.tips 데이터\n",
        "- 요일별 total_bill 의 등분산성 검정\n",
        "- levene의 median, trimmed 사용"
      ],
      "metadata": {
        "id": "C2J_nvyP1DH6"
      }
    },
    {
      "cell_type": "code",
      "source": [
        "# 파일 읽어와 내용 확인\n",
        "import seaborn as sns\n",
        "tips = sns.load_dataset('tips')\n",
        "tips.head(3)"
      ],
      "metadata": {
        "colab": {
          "base_uri": "https://localhost:8080/",
          "height": 143
        },
        "id": "nNEx4UsI0Zpa",
        "outputId": "eed1c442-fe38-4168-a128-93484147339b"
      },
      "execution_count": null,
      "outputs": [
        {
          "output_type": "execute_result",
          "data": {
            "text/plain": [
              "   total_bill   tip     sex smoker  day    time  size\n",
              "0       16.99  1.01  Female     No  Sun  Dinner     2\n",
              "1       10.34  1.66    Male     No  Sun  Dinner     3\n",
              "2       21.01  3.50    Male     No  Sun  Dinner     3"
            ],
            "text/html": [
              "\n",
              "  <div id=\"df-d631202a-1fd5-481f-a979-4287f90f60b7\">\n",
              "    <div class=\"colab-df-container\">\n",
              "      <div>\n",
              "<style scoped>\n",
              "    .dataframe tbody tr th:only-of-type {\n",
              "        vertical-align: middle;\n",
              "    }\n",
              "\n",
              "    .dataframe tbody tr th {\n",
              "        vertical-align: top;\n",
              "    }\n",
              "\n",
              "    .dataframe thead th {\n",
              "        text-align: right;\n",
              "    }\n",
              "</style>\n",
              "<table border=\"1\" class=\"dataframe\">\n",
              "  <thead>\n",
              "    <tr style=\"text-align: right;\">\n",
              "      <th></th>\n",
              "      <th>total_bill</th>\n",
              "      <th>tip</th>\n",
              "      <th>sex</th>\n",
              "      <th>smoker</th>\n",
              "      <th>day</th>\n",
              "      <th>time</th>\n",
              "      <th>size</th>\n",
              "    </tr>\n",
              "  </thead>\n",
              "  <tbody>\n",
              "    <tr>\n",
              "      <th>0</th>\n",
              "      <td>16.99</td>\n",
              "      <td>1.01</td>\n",
              "      <td>Female</td>\n",
              "      <td>No</td>\n",
              "      <td>Sun</td>\n",
              "      <td>Dinner</td>\n",
              "      <td>2</td>\n",
              "    </tr>\n",
              "    <tr>\n",
              "      <th>1</th>\n",
              "      <td>10.34</td>\n",
              "      <td>1.66</td>\n",
              "      <td>Male</td>\n",
              "      <td>No</td>\n",
              "      <td>Sun</td>\n",
              "      <td>Dinner</td>\n",
              "      <td>3</td>\n",
              "    </tr>\n",
              "    <tr>\n",
              "      <th>2</th>\n",
              "      <td>21.01</td>\n",
              "      <td>3.50</td>\n",
              "      <td>Male</td>\n",
              "      <td>No</td>\n",
              "      <td>Sun</td>\n",
              "      <td>Dinner</td>\n",
              "      <td>3</td>\n",
              "    </tr>\n",
              "  </tbody>\n",
              "</table>\n",
              "</div>\n",
              "      <button class=\"colab-df-convert\" onclick=\"convertToInteractive('df-d631202a-1fd5-481f-a979-4287f90f60b7')\"\n",
              "              title=\"Convert this dataframe to an interactive table.\"\n",
              "              style=\"display:none;\">\n",
              "        \n",
              "  <svg xmlns=\"http://www.w3.org/2000/svg\" height=\"24px\"viewBox=\"0 0 24 24\"\n",
              "       width=\"24px\">\n",
              "    <path d=\"M0 0h24v24H0V0z\" fill=\"none\"/>\n",
              "    <path d=\"M18.56 5.44l.94 2.06.94-2.06 2.06-.94-2.06-.94-.94-2.06-.94 2.06-2.06.94zm-11 1L8.5 8.5l.94-2.06 2.06-.94-2.06-.94L8.5 2.5l-.94 2.06-2.06.94zm10 10l.94 2.06.94-2.06 2.06-.94-2.06-.94-.94-2.06-.94 2.06-2.06.94z\"/><path d=\"M17.41 7.96l-1.37-1.37c-.4-.4-.92-.59-1.43-.59-.52 0-1.04.2-1.43.59L10.3 9.45l-7.72 7.72c-.78.78-.78 2.05 0 2.83L4 21.41c.39.39.9.59 1.41.59.51 0 1.02-.2 1.41-.59l7.78-7.78 2.81-2.81c.8-.78.8-2.07 0-2.86zM5.41 20L4 18.59l7.72-7.72 1.47 1.35L5.41 20z\"/>\n",
              "  </svg>\n",
              "      </button>\n",
              "      \n",
              "  <style>\n",
              "    .colab-df-container {\n",
              "      display:flex;\n",
              "      flex-wrap:wrap;\n",
              "      gap: 12px;\n",
              "    }\n",
              "\n",
              "    .colab-df-convert {\n",
              "      background-color: #E8F0FE;\n",
              "      border: none;\n",
              "      border-radius: 50%;\n",
              "      cursor: pointer;\n",
              "      display: none;\n",
              "      fill: #1967D2;\n",
              "      height: 32px;\n",
              "      padding: 0 0 0 0;\n",
              "      width: 32px;\n",
              "    }\n",
              "\n",
              "    .colab-df-convert:hover {\n",
              "      background-color: #E2EBFA;\n",
              "      box-shadow: 0px 1px 2px rgba(60, 64, 67, 0.3), 0px 1px 3px 1px rgba(60, 64, 67, 0.15);\n",
              "      fill: #174EA6;\n",
              "    }\n",
              "\n",
              "    [theme=dark] .colab-df-convert {\n",
              "      background-color: #3B4455;\n",
              "      fill: #D2E3FC;\n",
              "    }\n",
              "\n",
              "    [theme=dark] .colab-df-convert:hover {\n",
              "      background-color: #434B5C;\n",
              "      box-shadow: 0px 1px 3px 1px rgba(0, 0, 0, 0.15);\n",
              "      filter: drop-shadow(0px 1px 2px rgba(0, 0, 0, 0.3));\n",
              "      fill: #FFFFFF;\n",
              "    }\n",
              "  </style>\n",
              "\n",
              "      <script>\n",
              "        const buttonEl =\n",
              "          document.querySelector('#df-d631202a-1fd5-481f-a979-4287f90f60b7 button.colab-df-convert');\n",
              "        buttonEl.style.display =\n",
              "          google.colab.kernel.accessAllowed ? 'block' : 'none';\n",
              "\n",
              "        async function convertToInteractive(key) {\n",
              "          const element = document.querySelector('#df-d631202a-1fd5-481f-a979-4287f90f60b7');\n",
              "          const dataTable =\n",
              "            await google.colab.kernel.invokeFunction('convertToInteractive',\n",
              "                                                     [key], {});\n",
              "          if (!dataTable) return;\n",
              "\n",
              "          const docLinkHtml = 'Like what you see? Visit the ' +\n",
              "            '<a target=\"_blank\" href=https://colab.research.google.com/notebooks/data_table.ipynb>data table notebook</a>'\n",
              "            + ' to learn more about interactive tables.';\n",
              "          element.innerHTML = '';\n",
              "          dataTable['output_type'] = 'display_data';\n",
              "          await google.colab.output.renderOutput(dataTable, element);\n",
              "          const docLink = document.createElement('div');\n",
              "          docLink.innerHTML = docLinkHtml;\n",
              "          element.appendChild(docLink);\n",
              "        }\n",
              "      </script>\n",
              "    </div>\n",
              "  </div>\n",
              "  "
            ]
          },
          "metadata": {},
          "execution_count": 63
        }
      ]
    },
    {
      "cell_type": "code",
      "source": [
        "# [1] target = 'total_bill', 요일별 그룹을 나누어 저장함\n",
        "import pandas as pd\n",
        "target = 'total_bill'\n",
        "# tips.info()\n",
        "\n",
        "groups = [x.to_list() for _,x in tips.groupby('day')[target]]\n",
        "gA, gB, gC, gD = groups\n",
        "print(groups)"
      ],
      "metadata": {
        "id": "SApLIDyh_t2l",
        "colab": {
          "base_uri": "https://localhost:8080/"
        },
        "outputId": "46e1954e-fe5c-4dd4-f2d0-7d1a88244ff7"
      },
      "execution_count": null,
      "outputs": [
        {
          "output_type": "stream",
          "name": "stdout",
          "text": [
            "[[27.2, 22.76, 17.29, 19.44, 16.66, 10.07, 32.68, 15.98, 34.83, 13.03, 18.28, 24.71, 21.16, 10.65, 12.43, 24.08, 11.69, 13.42, 14.26, 15.95, 12.48, 29.8, 8.52, 14.52, 11.38, 22.82, 19.08, 20.27, 11.17, 12.26, 18.26, 8.51, 10.33, 14.15, 16.0, 13.16, 17.47, 34.3, 41.19, 27.05, 16.43, 8.35, 18.64, 11.87, 9.78, 7.51, 19.81, 28.44, 15.48, 16.58, 7.56, 10.34, 43.11, 13.0, 13.51, 18.71, 12.74, 13.0, 16.4, 20.53, 16.47, 18.78], [28.97, 22.49, 5.75, 16.32, 22.75, 40.17, 27.28, 12.03, 21.01, 12.46, 11.35, 15.38, 12.16, 13.42, 8.58, 15.98, 13.42, 16.27, 10.09], [20.65, 17.92, 20.29, 15.77, 39.42, 19.82, 17.81, 13.37, 12.69, 21.7, 19.65, 9.55, 18.35, 15.06, 20.69, 17.78, 24.06, 16.31, 16.93, 18.69, 31.27, 16.04, 38.01, 26.41, 11.24, 48.27, 20.29, 13.81, 11.02, 18.29, 17.59, 20.08, 16.45, 3.07, 20.23, 15.01, 12.02, 17.07, 26.86, 25.28, 14.73, 10.51, 17.92, 44.3, 22.42, 20.92, 15.36, 20.49, 25.21, 18.24, 14.31, 14.0, 7.25, 10.59, 10.63, 50.81, 15.81, 26.59, 38.73, 24.27, 12.76, 30.06, 25.89, 48.33, 13.27, 28.17, 12.9, 28.15, 11.59, 7.74, 30.14, 20.45, 13.28, 22.12, 24.01, 15.69, 11.61, 10.77, 15.53, 10.07, 12.6, 32.83, 35.83, 29.03, 27.18, 22.67, 17.82], [16.99, 10.34, 21.01, 23.68, 24.59, 25.29, 8.77, 26.88, 15.04, 14.78, 10.27, 35.26, 15.42, 18.43, 14.83, 21.58, 10.33, 16.29, 16.97, 17.46, 13.94, 9.68, 30.4, 18.29, 22.23, 32.4, 28.55, 18.04, 12.54, 10.29, 34.81, 9.94, 25.56, 19.49, 38.07, 23.95, 25.71, 17.31, 29.93, 14.07, 13.13, 17.26, 24.55, 19.77, 29.85, 48.17, 25.0, 13.39, 16.49, 21.5, 12.66, 16.21, 13.81, 17.51, 24.52, 20.76, 31.71, 7.25, 31.85, 16.82, 32.9, 17.89, 14.48, 9.6, 34.63, 34.65, 23.33, 45.35, 23.17, 40.55, 20.69, 20.9, 30.46, 18.15, 23.1, 15.69]]\n"
          ]
        }
      ]
    },
    {
      "cell_type": "code",
      "source": [
        "# # gA = iris.loc[iris['species']=='setosa',target].to_list()\n",
        "# # target = 'total_bill'\n",
        "# gA = tips.loc[tips['day'] == 'Thur',target].to_list()\n",
        "# gB = tips.loc[tips['day'] == 'Fri',target].to_list()\n",
        "# gC = tips.loc[tips['day'] == 'Sat',target].to_list()\n",
        "# gD = tips.loc[tips['day'] == 'Sun',target].to_list()\n",
        "\n",
        "# print(gA,gB,gC,gD)"
      ],
      "metadata": {
        "colab": {
          "base_uri": "https://localhost:8080/"
        },
        "id": "ltvCZ_wtzufT",
        "outputId": "5df127f0-10db-4ed5-c275-a89008d54f8e"
      },
      "execution_count": null,
      "outputs": [
        {
          "output_type": "stream",
          "name": "stdout",
          "text": [
            "[27.2, 22.76, 17.29, 19.44, 16.66, 10.07, 32.68, 15.98, 34.83, 13.03, 18.28, 24.71, 21.16, 10.65, 12.43, 24.08, 11.69, 13.42, 14.26, 15.95, 12.48, 29.8, 8.52, 14.52, 11.38, 22.82, 19.08, 20.27, 11.17, 12.26, 18.26, 8.51, 10.33, 14.15, 16.0, 13.16, 17.47, 34.3, 41.19, 27.05, 16.43, 8.35, 18.64, 11.87, 9.78, 7.51, 19.81, 28.44, 15.48, 16.58, 7.56, 10.34, 43.11, 13.0, 13.51, 18.71, 12.74, 13.0, 16.4, 20.53, 16.47, 18.78] [28.97, 22.49, 5.75, 16.32, 22.75, 40.17, 27.28, 12.03, 21.01, 12.46, 11.35, 15.38, 12.16, 13.42, 8.58, 15.98, 13.42, 16.27, 10.09] [20.65, 17.92, 20.29, 15.77, 39.42, 19.82, 17.81, 13.37, 12.69, 21.7, 19.65, 9.55, 18.35, 15.06, 20.69, 17.78, 24.06, 16.31, 16.93, 18.69, 31.27, 16.04, 38.01, 26.41, 11.24, 48.27, 20.29, 13.81, 11.02, 18.29, 17.59, 20.08, 16.45, 3.07, 20.23, 15.01, 12.02, 17.07, 26.86, 25.28, 14.73, 10.51, 17.92, 44.3, 22.42, 20.92, 15.36, 20.49, 25.21, 18.24, 14.31, 14.0, 7.25, 10.59, 10.63, 50.81, 15.81, 26.59, 38.73, 24.27, 12.76, 30.06, 25.89, 48.33, 13.27, 28.17, 12.9, 28.15, 11.59, 7.74, 30.14, 20.45, 13.28, 22.12, 24.01, 15.69, 11.61, 10.77, 15.53, 10.07, 12.6, 32.83, 35.83, 29.03, 27.18, 22.67, 17.82] [16.99, 10.34, 21.01, 23.68, 24.59, 25.29, 8.77, 26.88, 15.04, 14.78, 10.27, 35.26, 15.42, 18.43, 14.83, 21.58, 10.33, 16.29, 16.97, 17.46, 13.94, 9.68, 30.4, 18.29, 22.23, 32.4, 28.55, 18.04, 12.54, 10.29, 34.81, 9.94, 25.56, 19.49, 38.07, 23.95, 25.71, 17.31, 29.93, 14.07, 13.13, 17.26, 24.55, 19.77, 29.85, 48.17, 25.0, 13.39, 16.49, 21.5, 12.66, 16.21, 13.81, 17.51, 24.52, 20.76, 31.71, 7.25, 31.85, 16.82, 32.9, 17.89, 14.48, 9.6, 34.63, 34.65, 23.33, 45.35, 23.17, 40.55, 20.69, 20.9, 30.46, 18.15, 23.1, 15.69]\n"
          ]
        }
      ]
    },
    {
      "cell_type": "code",
      "source": [
        "# [2] levene 의 center는 'median'으로 지정\n",
        "from scipy.stats import levene, shapiro\n",
        "\n",
        "# 정규성 검정\n",
        "_,pvalueA = shapiro(gA)\n",
        "_,pvalueB = shapiro(gB)\n",
        "_,pvalueC = shapiro(gC)\n",
        "_,pvalueD = shapiro(gD)\n",
        "# print(pvalueA, pvalueB, pvalueC, pvalueD)  # 정규성을 만족하지 않음\n",
        "print([round(shapiro(x)[1], 4) for x in groups])\n",
        "# print(f'{shapiro(x)[1]:.4f}' for x in groups)\n",
        "\n",
        "# 등분산성 검정\n",
        "statistic, pvalue = levene(*groups, center='median')\n",
        "print(statistic, pvalue) # 귀무가설 채택 등분산성을 만족"
      ],
      "metadata": {
        "id": "dgx-O2Gy0YCC",
        "colab": {
          "base_uri": "https://localhost:8080/"
        },
        "outputId": "41d2e58d-789c-4bf8-defd-a578a35bd6be"
      },
      "execution_count": null,
      "outputs": [
        {
          "output_type": "stream",
          "name": "stdout",
          "text": [
            "[0.0, 0.0409, 0.0, 0.0036]\n",
            "0.6653578279881612 0.5740792267812198\n"
          ]
        }
      ]
    },
    {
      "cell_type": "code",
      "source": [
        "# [3] fligner의 center는 'trimmed', proportiontocut=5% 지정\n",
        "from scipy.stats import fligner\n",
        "statistic, pvalue = fligner(*groups, center='trimmed',\n",
        "                            proportiontocut=0.05)\n",
        "print(statistic, pvalue)  # 등분산성을 만족함"
      ],
      "metadata": {
        "id": "fKHrF0vV1zwp"
      },
      "execution_count": null,
      "outputs": []
    },
    {
      "cell_type": "code",
      "source": [
        "pd.read_csv('')"
      ],
      "metadata": {
        "id": "KRDERmJPw3jV"
      },
      "execution_count": null,
      "outputs": []
    },
    {
      "cell_type": "markdown",
      "source": [
        "### 3.T 검정(평균 검정)"
      ],
      "metadata": {
        "id": "x33pqkcZDhrB"
      }
    },
    {
      "cell_type": "markdown",
      "metadata": {
        "id": "16dAULRQHGYV"
      },
      "source": [
        "t-test 이해\n",
        "- 스튜던트 t-테스트(Student's t-test)라고도 하며, 검정 통계량이 귀무가설 하에서 t-분포를 따르는 통계적 가설 검정\n",
        "- 표본을 사용한 모평균 검정 및 두 데이터 세트(집단)의 모평균이 서로 유의하게 다른지 여부를 판별 할 수 있음\n",
        "- 검정통계량이 정규 분포를 따르며 모집단의 분산, 표준편차를 알지 못할 때 표본으로 부터 추정된 분산/표준편차를 사용해 검정함\n",
        "- t-test를 실시하기 위해서는 정규성 및 등분산성의 조건이 만족되어야 함\n"
      ]
    },
    {
      "cell_type": "markdown",
      "metadata": {
        "id": "bddKnaQVHGYb"
      },
      "source": [
        "#### 3-1.One sample t-test\n",
        "- stats.ttest_1samp 사용\n",
        "- 20대 평균 수면시간에 대한 one samle t-test\n",
        "- 유의수준은 5% 사용\n",
        "- 숫자는 반올림하여 소수점 아래 4번째 자리까지 표시"
      ]
    },
    {
      "cell_type": "code",
      "metadata": {
        "colab": {
          "base_uri": "https://localhost:8080/",
          "height": 162
        },
        "id": "OtvO3SA8HGYb",
        "outputId": "9b0b1160-08b6-4709-91bf-7d10a888a7d3"
      },
      "source": [
        "# [1] 수면 시간 정보가 포함된 파일 불러오기\n",
        "import pandas as pd\n",
        "\n",
        "df = pd.read_csv(\"./data_02/sleepage.csv\")\n",
        "print(df.shape)\n",
        "df.T"
      ],
      "execution_count": 3,
      "outputs": [
        {
          "output_type": "stream",
          "name": "stdout",
          "text": [
            "(20, 3)\n"
          ]
        },
        {
          "output_type": "execute_result",
          "data": {
            "text/plain": [
              "          0   1   2   3   4   5   6   7   8   9   10  11  12  13  14  15  16  \\\n",
              "stime20s   4   4   5   5   6   6   7   3   8   7   8   8   7   7   7   6   8   \n",
              "stime40s   5   5   6   7   6   7   7   5   5   6   8   7   6   6   8   7   7   \n",
              "ID         1   2   3   4   5   6   7   8   9  10  11  12  13  14  15  16  17   \n",
              "\n",
              "          17  18  19  \n",
              "stime20s   5   6   6  \n",
              "stime40s   6   5   8  \n",
              "ID        18  19  20  "
            ],
            "text/html": [
              "\n",
              "  <div id=\"df-5a953ae0-1f82-4d3e-95f8-2a31736afead\">\n",
              "    <div class=\"colab-df-container\">\n",
              "      <div>\n",
              "<style scoped>\n",
              "    .dataframe tbody tr th:only-of-type {\n",
              "        vertical-align: middle;\n",
              "    }\n",
              "\n",
              "    .dataframe tbody tr th {\n",
              "        vertical-align: top;\n",
              "    }\n",
              "\n",
              "    .dataframe thead th {\n",
              "        text-align: right;\n",
              "    }\n",
              "</style>\n",
              "<table border=\"1\" class=\"dataframe\">\n",
              "  <thead>\n",
              "    <tr style=\"text-align: right;\">\n",
              "      <th></th>\n",
              "      <th>0</th>\n",
              "      <th>1</th>\n",
              "      <th>2</th>\n",
              "      <th>3</th>\n",
              "      <th>4</th>\n",
              "      <th>5</th>\n",
              "      <th>6</th>\n",
              "      <th>7</th>\n",
              "      <th>8</th>\n",
              "      <th>9</th>\n",
              "      <th>10</th>\n",
              "      <th>11</th>\n",
              "      <th>12</th>\n",
              "      <th>13</th>\n",
              "      <th>14</th>\n",
              "      <th>15</th>\n",
              "      <th>16</th>\n",
              "      <th>17</th>\n",
              "      <th>18</th>\n",
              "      <th>19</th>\n",
              "    </tr>\n",
              "  </thead>\n",
              "  <tbody>\n",
              "    <tr>\n",
              "      <th>stime20s</th>\n",
              "      <td>4</td>\n",
              "      <td>4</td>\n",
              "      <td>5</td>\n",
              "      <td>5</td>\n",
              "      <td>6</td>\n",
              "      <td>6</td>\n",
              "      <td>7</td>\n",
              "      <td>3</td>\n",
              "      <td>8</td>\n",
              "      <td>7</td>\n",
              "      <td>8</td>\n",
              "      <td>8</td>\n",
              "      <td>7</td>\n",
              "      <td>7</td>\n",
              "      <td>7</td>\n",
              "      <td>6</td>\n",
              "      <td>8</td>\n",
              "      <td>5</td>\n",
              "      <td>6</td>\n",
              "      <td>6</td>\n",
              "    </tr>\n",
              "    <tr>\n",
              "      <th>stime40s</th>\n",
              "      <td>5</td>\n",
              "      <td>5</td>\n",
              "      <td>6</td>\n",
              "      <td>7</td>\n",
              "      <td>6</td>\n",
              "      <td>7</td>\n",
              "      <td>7</td>\n",
              "      <td>5</td>\n",
              "      <td>5</td>\n",
              "      <td>6</td>\n",
              "      <td>8</td>\n",
              "      <td>7</td>\n",
              "      <td>6</td>\n",
              "      <td>6</td>\n",
              "      <td>8</td>\n",
              "      <td>7</td>\n",
              "      <td>7</td>\n",
              "      <td>6</td>\n",
              "      <td>5</td>\n",
              "      <td>8</td>\n",
              "    </tr>\n",
              "    <tr>\n",
              "      <th>ID</th>\n",
              "      <td>1</td>\n",
              "      <td>2</td>\n",
              "      <td>3</td>\n",
              "      <td>4</td>\n",
              "      <td>5</td>\n",
              "      <td>6</td>\n",
              "      <td>7</td>\n",
              "      <td>8</td>\n",
              "      <td>9</td>\n",
              "      <td>10</td>\n",
              "      <td>11</td>\n",
              "      <td>12</td>\n",
              "      <td>13</td>\n",
              "      <td>14</td>\n",
              "      <td>15</td>\n",
              "      <td>16</td>\n",
              "      <td>17</td>\n",
              "      <td>18</td>\n",
              "      <td>19</td>\n",
              "      <td>20</td>\n",
              "    </tr>\n",
              "  </tbody>\n",
              "</table>\n",
              "</div>\n",
              "      <button class=\"colab-df-convert\" onclick=\"convertToInteractive('df-5a953ae0-1f82-4d3e-95f8-2a31736afead')\"\n",
              "              title=\"Convert this dataframe to an interactive table.\"\n",
              "              style=\"display:none;\">\n",
              "        \n",
              "  <svg xmlns=\"http://www.w3.org/2000/svg\" height=\"24px\"viewBox=\"0 0 24 24\"\n",
              "       width=\"24px\">\n",
              "    <path d=\"M0 0h24v24H0V0z\" fill=\"none\"/>\n",
              "    <path d=\"M18.56 5.44l.94 2.06.94-2.06 2.06-.94-2.06-.94-.94-2.06-.94 2.06-2.06.94zm-11 1L8.5 8.5l.94-2.06 2.06-.94-2.06-.94L8.5 2.5l-.94 2.06-2.06.94zm10 10l.94 2.06.94-2.06 2.06-.94-2.06-.94-.94-2.06-.94 2.06-2.06.94z\"/><path d=\"M17.41 7.96l-1.37-1.37c-.4-.4-.92-.59-1.43-.59-.52 0-1.04.2-1.43.59L10.3 9.45l-7.72 7.72c-.78.78-.78 2.05 0 2.83L4 21.41c.39.39.9.59 1.41.59.51 0 1.02-.2 1.41-.59l7.78-7.78 2.81-2.81c.8-.78.8-2.07 0-2.86zM5.41 20L4 18.59l7.72-7.72 1.47 1.35L5.41 20z\"/>\n",
              "  </svg>\n",
              "      </button>\n",
              "      \n",
              "  <style>\n",
              "    .colab-df-container {\n",
              "      display:flex;\n",
              "      flex-wrap:wrap;\n",
              "      gap: 12px;\n",
              "    }\n",
              "\n",
              "    .colab-df-convert {\n",
              "      background-color: #E8F0FE;\n",
              "      border: none;\n",
              "      border-radius: 50%;\n",
              "      cursor: pointer;\n",
              "      display: none;\n",
              "      fill: #1967D2;\n",
              "      height: 32px;\n",
              "      padding: 0 0 0 0;\n",
              "      width: 32px;\n",
              "    }\n",
              "\n",
              "    .colab-df-convert:hover {\n",
              "      background-color: #E2EBFA;\n",
              "      box-shadow: 0px 1px 2px rgba(60, 64, 67, 0.3), 0px 1px 3px 1px rgba(60, 64, 67, 0.15);\n",
              "      fill: #174EA6;\n",
              "    }\n",
              "\n",
              "    [theme=dark] .colab-df-convert {\n",
              "      background-color: #3B4455;\n",
              "      fill: #D2E3FC;\n",
              "    }\n",
              "\n",
              "    [theme=dark] .colab-df-convert:hover {\n",
              "      background-color: #434B5C;\n",
              "      box-shadow: 0px 1px 3px 1px rgba(0, 0, 0, 0.15);\n",
              "      filter: drop-shadow(0px 1px 2px rgba(0, 0, 0, 0.3));\n",
              "      fill: #FFFFFF;\n",
              "    }\n",
              "  </style>\n",
              "\n",
              "      <script>\n",
              "        const buttonEl =\n",
              "          document.querySelector('#df-5a953ae0-1f82-4d3e-95f8-2a31736afead button.colab-df-convert');\n",
              "        buttonEl.style.display =\n",
              "          google.colab.kernel.accessAllowed ? 'block' : 'none';\n",
              "\n",
              "        async function convertToInteractive(key) {\n",
              "          const element = document.querySelector('#df-5a953ae0-1f82-4d3e-95f8-2a31736afead');\n",
              "          const dataTable =\n",
              "            await google.colab.kernel.invokeFunction('convertToInteractive',\n",
              "                                                     [key], {});\n",
              "          if (!dataTable) return;\n",
              "\n",
              "          const docLinkHtml = 'Like what you see? Visit the ' +\n",
              "            '<a target=\"_blank\" href=https://colab.research.google.com/notebooks/data_table.ipynb>data table notebook</a>'\n",
              "            + ' to learn more about interactive tables.';\n",
              "          element.innerHTML = '';\n",
              "          dataTable['output_type'] = 'display_data';\n",
              "          await google.colab.output.renderOutput(dataTable, element);\n",
              "          const docLink = document.createElement('div');\n",
              "          docLink.innerHTML = docLinkHtml;\n",
              "          element.appendChild(docLink);\n",
              "        }\n",
              "      </script>\n",
              "    </div>\n",
              "  </div>\n",
              "  "
            ]
          },
          "metadata": {},
          "execution_count": 3
        }
      ]
    },
    {
      "cell_type": "code",
      "metadata": {
        "id": "bt9ohJNkHGYe",
        "colab": {
          "base_uri": "https://localhost:8080/"
        },
        "outputId": "8e80cf1e-c430-4a6b-c600-7787c33dfb24"
      },
      "source": [
        "# [1] 20대의 수면시간에 대해 정규성 검정\n",
        "# one sample이므로 등분산 검정 필요 없음\n",
        "from scipy.stats import shapiro\n",
        "statistic,pvalue = shapiro(df['stime20s'])\n",
        "print(round(statistic,4),round(pvalue,4))\n",
        "print('기각' if pvalue < 0.05 else '채택')"
      ],
      "execution_count": 4,
      "outputs": [
        {
          "output_type": "stream",
          "name": "stdout",
          "text": [
            "0.9239 0.118\n",
            "채택\n"
          ]
        }
      ]
    },
    {
      "cell_type": "code",
      "metadata": {
        "id": "ZSKdyaWZHGYd",
        "colab": {
          "base_uri": "https://localhost:8080/"
        },
        "outputId": "bd527e9c-22b7-4e50-8cab-889e127920a5"
      },
      "source": [
        "# [2] 20대의 수면시간에 대해 평균 구하기\n",
        "sleep = df['stime20s']. mean()\n",
        "print(round(sleep,4), f'{sleep :.04f}')"
      ],
      "execution_count": 5,
      "outputs": [
        {
          "output_type": "stream",
          "name": "stdout",
          "text": [
            "6.15 6.1500\n"
          ]
        }
      ]
    },
    {
      "cell_type": "markdown",
      "metadata": {
        "id": "O8QR0KUADvA-"
      },
      "source": [
        "가설 1.alternative='two-sided'\n",
        "- 귀무가설 - 20대 수면시간의 평균은 6시간이다.\n",
        "- 대립가설 - 20대 수면시간의 평균은 6시간이 아니다."
      ]
    },
    {
      "cell_type": "code",
      "metadata": {
        "id": "mG684uqUHGYe",
        "colab": {
          "base_uri": "https://localhost:8080/"
        },
        "outputId": "d68e5cf4-d825-47e9-88c9-7524db960a85"
      },
      "source": [
        "# [3] One Sample t-test 수행\n",
        "from scipy.stats import ttest_1samp\n",
        "popmean = 6\n",
        "statistic, pvalue = ttest_1samp(df['stime20s'], popmean, alternative='two-sided')\n",
        "print(round(statistic,4), round(pvalue,4)) # 0.6513 #0.0023(5시간)"
      ],
      "execution_count": 6,
      "outputs": [
        {
          "output_type": "stream",
          "name": "stdout",
          "text": [
            "0.4592 0.6513\n"
          ]
        }
      ]
    },
    {
      "cell_type": "code",
      "metadata": {
        "id": "CI-Ar1FMHGYf",
        "colab": {
          "base_uri": "https://localhost:8080/"
        },
        "outputId": "71eb0c36-3788-43b9-bafd-1cdd0a1ef0f9"
      },
      "source": [
        "# [4] 가설 결과\n",
        "# p-value > 0.05 보다 크다 \n",
        "# 귀무가설을 채택해야 한다.\n",
        "# 20대 수면시간의 평균은 6시간이다.\n",
        "print('기각'if pvalue < 0.05 else'채택')"
      ],
      "execution_count": 7,
      "outputs": [
        {
          "output_type": "stream",
          "name": "stdout",
          "text": [
            "채택\n"
          ]
        }
      ]
    },
    {
      "cell_type": "markdown",
      "metadata": {
        "id": "ZlfH0fKcDnJj"
      },
      "source": [
        "가설-2. alternative='less'\n",
        "- 귀무가설 - 20대 수면시간의 평균은 6시간 보다 크거나 같다.\n",
        "- 대립가설 - 20대 수면시간의 평균은 6시간 보다 작다"
      ]
    },
    {
      "cell_type": "code",
      "metadata": {
        "id": "c0D0Ri7XHGYg",
        "colab": {
          "base_uri": "https://localhost:8080/"
        },
        "outputId": "6cd0c343-9b17-483e-d585-e996fc7ddcef"
      },
      "source": [
        "# [5] One Sample t-test 수행\n",
        "from scipy.stats import ttest_1samp\n",
        "statistic, pvalue = ttest_1samp(df['stime20s'], popmean, alternative='less')\n",
        "print(round(statistic,4), round(pvalue,4)) # 0.6743 #0.9989(5시간)"
      ],
      "execution_count": 8,
      "outputs": [
        {
          "output_type": "stream",
          "name": "stdout",
          "text": [
            "0.4592 0.6743\n"
          ]
        }
      ]
    },
    {
      "cell_type": "code",
      "source": [
        "# [6] 가설 결과\n",
        "# p-value > 0.05 보다 크다 \n",
        "# 귀무가설을 채택해야 한다.\n",
        "# 20대 수면시간의 평균은  6시간 보다 크거나 같다.\n",
        "print('기각'if pvalue < 0.05 else'채택')"
      ],
      "metadata": {
        "id": "OSpQ3fII6Z2y",
        "colab": {
          "base_uri": "https://localhost:8080/"
        },
        "outputId": "9ab5874c-7343-42a5-bd1a-2858e8435e1e"
      },
      "execution_count": 9,
      "outputs": [
        {
          "output_type": "stream",
          "name": "stdout",
          "text": [
            "채택\n"
          ]
        }
      ]
    },
    {
      "cell_type": "markdown",
      "source": [
        "가설-3. alternative='greater'\n",
        "- 귀무가설 - 20대 수면시간의 평균은 6시간 보다 작거나 같다.\n",
        "- 대립가설 - 20대 수면시간의 평균은 6시간 보다 크다"
      ],
      "metadata": {
        "id": "LJXAfvvS6zHP"
      }
    },
    {
      "cell_type": "code",
      "source": [
        "# [7] One Sample t-test 수행\n",
        "from scipy.stats import ttest_1samp\n",
        "statistic, pvalue = ttest_1samp(df['stime20s'], popmean, alternative='greater')\n",
        "print(round(statistic,4), round(pvalue,4)) # 0.4592 0.3257   0.0011(5시간)"
      ],
      "metadata": {
        "id": "KXnOqbIs66yj",
        "colab": {
          "base_uri": "https://localhost:8080/"
        },
        "outputId": "4f1acc14-7952-4074-b079-767f84f6fea0"
      },
      "execution_count": 10,
      "outputs": [
        {
          "output_type": "stream",
          "name": "stdout",
          "text": [
            "0.4592 0.3257\n"
          ]
        }
      ]
    },
    {
      "cell_type": "code",
      "metadata": {
        "id": "OnPgfmO_HGYg",
        "colab": {
          "base_uri": "https://localhost:8080/"
        },
        "outputId": "8e5dc7e9-4274-48a1-c236-61ebfc031c65"
      },
      "source": [
        "# [6] 가설 결과\n",
        "# p-value > 0.05 보다 크다 \n",
        "# 귀무가설을 채택해야 한다.\n",
        "# 20대 수면시간의 평균은 6시간 보다 작거나 같다.\n",
        "print('기각'if pvalue < 0.05 else'채택')"
      ],
      "execution_count": 11,
      "outputs": [
        {
          "output_type": "stream",
          "name": "stdout",
          "text": [
            "채택\n"
          ]
        }
      ]
    },
    {
      "cell_type": "code",
      "source": [
        "# [9] 95% 신뢰구간 구하기\n",
        "from scipy.stats import t, sem\n",
        "target = df['stime20s']\n",
        "lower, upper = t(df=len(target)-1).interval(0.95, loc=target.mean(), scale=sem(target))\n",
        "print(f'{lower:.4f} ~ {upper:.4f}')"
      ],
      "metadata": {
        "id": "dUs1gm6474mJ",
        "colab": {
          "base_uri": "https://localhost:8080/"
        },
        "outputId": "20888b51-b1ba-4eb1-9414-cde6f93d5d5a"
      },
      "execution_count": 12,
      "outputs": [
        {
          "output_type": "stream",
          "name": "stdout",
          "text": [
            "5.4663 ~ 6.8337\n"
          ]
        }
      ]
    },
    {
      "cell_type": "markdown",
      "metadata": {
        "id": "kg6nm09IHGYi"
      },
      "source": [
        "#### 3-2.Two-sample t-test\n",
        "- 두집단 A, B의 평균 차이가 유의미한지 확인하는 용도\n",
        "- 20대와 40대의 수면 시간은 같다\n",
        "- stats.test_ind : (two INDependent sample이라 해서 ttest_ind )\n",
        "- https://docs.scipy.org/doc/scipy/reference/generated/scipy.stats.ttest_ind.html\n",
        "- t값과 two-tail p-value를 반환함\n",
        "- ttest_ind(a, b, equal_var=False) : Welch's t-test 수행 (등분산이 아닌 경우)"
      ]
    },
    {
      "cell_type": "code",
      "metadata": {
        "colab": {
          "base_uri": "https://localhost:8080/",
          "height": 162
        },
        "id": "n2Pa1MnBHGYi",
        "outputId": "f4e67825-450c-4c31-ab16-a94960d44064"
      },
      "source": [
        "# [1] 수면 시간 정보가 포함된 파일 불러오기\n",
        "import pandas as pd\n",
        "df2 = pd.read_csv('./data_02/sleepage.csv')\n",
        "print(df2.shape)\n",
        "df2.T"
      ],
      "execution_count": 13,
      "outputs": [
        {
          "output_type": "stream",
          "name": "stdout",
          "text": [
            "(20, 3)\n"
          ]
        },
        {
          "output_type": "execute_result",
          "data": {
            "text/plain": [
              "          0   1   2   3   4   5   6   7   8   9   10  11  12  13  14  15  16  \\\n",
              "stime20s   4   4   5   5   6   6   7   3   8   7   8   8   7   7   7   6   8   \n",
              "stime40s   5   5   6   7   6   7   7   5   5   6   8   7   6   6   8   7   7   \n",
              "ID         1   2   3   4   5   6   7   8   9  10  11  12  13  14  15  16  17   \n",
              "\n",
              "          17  18  19  \n",
              "stime20s   5   6   6  \n",
              "stime40s   6   5   8  \n",
              "ID        18  19  20  "
            ],
            "text/html": [
              "\n",
              "  <div id=\"df-57557a31-ad8f-4615-ad36-7150e3226e71\">\n",
              "    <div class=\"colab-df-container\">\n",
              "      <div>\n",
              "<style scoped>\n",
              "    .dataframe tbody tr th:only-of-type {\n",
              "        vertical-align: middle;\n",
              "    }\n",
              "\n",
              "    .dataframe tbody tr th {\n",
              "        vertical-align: top;\n",
              "    }\n",
              "\n",
              "    .dataframe thead th {\n",
              "        text-align: right;\n",
              "    }\n",
              "</style>\n",
              "<table border=\"1\" class=\"dataframe\">\n",
              "  <thead>\n",
              "    <tr style=\"text-align: right;\">\n",
              "      <th></th>\n",
              "      <th>0</th>\n",
              "      <th>1</th>\n",
              "      <th>2</th>\n",
              "      <th>3</th>\n",
              "      <th>4</th>\n",
              "      <th>5</th>\n",
              "      <th>6</th>\n",
              "      <th>7</th>\n",
              "      <th>8</th>\n",
              "      <th>9</th>\n",
              "      <th>10</th>\n",
              "      <th>11</th>\n",
              "      <th>12</th>\n",
              "      <th>13</th>\n",
              "      <th>14</th>\n",
              "      <th>15</th>\n",
              "      <th>16</th>\n",
              "      <th>17</th>\n",
              "      <th>18</th>\n",
              "      <th>19</th>\n",
              "    </tr>\n",
              "  </thead>\n",
              "  <tbody>\n",
              "    <tr>\n",
              "      <th>stime20s</th>\n",
              "      <td>4</td>\n",
              "      <td>4</td>\n",
              "      <td>5</td>\n",
              "      <td>5</td>\n",
              "      <td>6</td>\n",
              "      <td>6</td>\n",
              "      <td>7</td>\n",
              "      <td>3</td>\n",
              "      <td>8</td>\n",
              "      <td>7</td>\n",
              "      <td>8</td>\n",
              "      <td>8</td>\n",
              "      <td>7</td>\n",
              "      <td>7</td>\n",
              "      <td>7</td>\n",
              "      <td>6</td>\n",
              "      <td>8</td>\n",
              "      <td>5</td>\n",
              "      <td>6</td>\n",
              "      <td>6</td>\n",
              "    </tr>\n",
              "    <tr>\n",
              "      <th>stime40s</th>\n",
              "      <td>5</td>\n",
              "      <td>5</td>\n",
              "      <td>6</td>\n",
              "      <td>7</td>\n",
              "      <td>6</td>\n",
              "      <td>7</td>\n",
              "      <td>7</td>\n",
              "      <td>5</td>\n",
              "      <td>5</td>\n",
              "      <td>6</td>\n",
              "      <td>8</td>\n",
              "      <td>7</td>\n",
              "      <td>6</td>\n",
              "      <td>6</td>\n",
              "      <td>8</td>\n",
              "      <td>7</td>\n",
              "      <td>7</td>\n",
              "      <td>6</td>\n",
              "      <td>5</td>\n",
              "      <td>8</td>\n",
              "    </tr>\n",
              "    <tr>\n",
              "      <th>ID</th>\n",
              "      <td>1</td>\n",
              "      <td>2</td>\n",
              "      <td>3</td>\n",
              "      <td>4</td>\n",
              "      <td>5</td>\n",
              "      <td>6</td>\n",
              "      <td>7</td>\n",
              "      <td>8</td>\n",
              "      <td>9</td>\n",
              "      <td>10</td>\n",
              "      <td>11</td>\n",
              "      <td>12</td>\n",
              "      <td>13</td>\n",
              "      <td>14</td>\n",
              "      <td>15</td>\n",
              "      <td>16</td>\n",
              "      <td>17</td>\n",
              "      <td>18</td>\n",
              "      <td>19</td>\n",
              "      <td>20</td>\n",
              "    </tr>\n",
              "  </tbody>\n",
              "</table>\n",
              "</div>\n",
              "      <button class=\"colab-df-convert\" onclick=\"convertToInteractive('df-57557a31-ad8f-4615-ad36-7150e3226e71')\"\n",
              "              title=\"Convert this dataframe to an interactive table.\"\n",
              "              style=\"display:none;\">\n",
              "        \n",
              "  <svg xmlns=\"http://www.w3.org/2000/svg\" height=\"24px\"viewBox=\"0 0 24 24\"\n",
              "       width=\"24px\">\n",
              "    <path d=\"M0 0h24v24H0V0z\" fill=\"none\"/>\n",
              "    <path d=\"M18.56 5.44l.94 2.06.94-2.06 2.06-.94-2.06-.94-.94-2.06-.94 2.06-2.06.94zm-11 1L8.5 8.5l.94-2.06 2.06-.94-2.06-.94L8.5 2.5l-.94 2.06-2.06.94zm10 10l.94 2.06.94-2.06 2.06-.94-2.06-.94-.94-2.06-.94 2.06-2.06.94z\"/><path d=\"M17.41 7.96l-1.37-1.37c-.4-.4-.92-.59-1.43-.59-.52 0-1.04.2-1.43.59L10.3 9.45l-7.72 7.72c-.78.78-.78 2.05 0 2.83L4 21.41c.39.39.9.59 1.41.59.51 0 1.02-.2 1.41-.59l7.78-7.78 2.81-2.81c.8-.78.8-2.07 0-2.86zM5.41 20L4 18.59l7.72-7.72 1.47 1.35L5.41 20z\"/>\n",
              "  </svg>\n",
              "      </button>\n",
              "      \n",
              "  <style>\n",
              "    .colab-df-container {\n",
              "      display:flex;\n",
              "      flex-wrap:wrap;\n",
              "      gap: 12px;\n",
              "    }\n",
              "\n",
              "    .colab-df-convert {\n",
              "      background-color: #E8F0FE;\n",
              "      border: none;\n",
              "      border-radius: 50%;\n",
              "      cursor: pointer;\n",
              "      display: none;\n",
              "      fill: #1967D2;\n",
              "      height: 32px;\n",
              "      padding: 0 0 0 0;\n",
              "      width: 32px;\n",
              "    }\n",
              "\n",
              "    .colab-df-convert:hover {\n",
              "      background-color: #E2EBFA;\n",
              "      box-shadow: 0px 1px 2px rgba(60, 64, 67, 0.3), 0px 1px 3px 1px rgba(60, 64, 67, 0.15);\n",
              "      fill: #174EA6;\n",
              "    }\n",
              "\n",
              "    [theme=dark] .colab-df-convert {\n",
              "      background-color: #3B4455;\n",
              "      fill: #D2E3FC;\n",
              "    }\n",
              "\n",
              "    [theme=dark] .colab-df-convert:hover {\n",
              "      background-color: #434B5C;\n",
              "      box-shadow: 0px 1px 3px 1px rgba(0, 0, 0, 0.15);\n",
              "      filter: drop-shadow(0px 1px 2px rgba(0, 0, 0, 0.3));\n",
              "      fill: #FFFFFF;\n",
              "    }\n",
              "  </style>\n",
              "\n",
              "      <script>\n",
              "        const buttonEl =\n",
              "          document.querySelector('#df-57557a31-ad8f-4615-ad36-7150e3226e71 button.colab-df-convert');\n",
              "        buttonEl.style.display =\n",
              "          google.colab.kernel.accessAllowed ? 'block' : 'none';\n",
              "\n",
              "        async function convertToInteractive(key) {\n",
              "          const element = document.querySelector('#df-57557a31-ad8f-4615-ad36-7150e3226e71');\n",
              "          const dataTable =\n",
              "            await google.colab.kernel.invokeFunction('convertToInteractive',\n",
              "                                                     [key], {});\n",
              "          if (!dataTable) return;\n",
              "\n",
              "          const docLinkHtml = 'Like what you see? Visit the ' +\n",
              "            '<a target=\"_blank\" href=https://colab.research.google.com/notebooks/data_table.ipynb>data table notebook</a>'\n",
              "            + ' to learn more about interactive tables.';\n",
              "          element.innerHTML = '';\n",
              "          dataTable['output_type'] = 'display_data';\n",
              "          await google.colab.output.renderOutput(dataTable, element);\n",
              "          const docLink = document.createElement('div');\n",
              "          docLink.innerHTML = docLinkHtml;\n",
              "          element.appendChild(docLink);\n",
              "        }\n",
              "      </script>\n",
              "    </div>\n",
              "  </div>\n",
              "  "
            ]
          },
          "metadata": {},
          "execution_count": 13
        }
      ]
    },
    {
      "cell_type": "code",
      "metadata": {
        "id": "APlw91hbHGYi"
      },
      "source": [
        "# [2] 그룹 분할하기\n",
        "groupA = df2.loc[:,'stime20s']\n",
        "groupB = df2.loc[:,'stime40s']"
      ],
      "execution_count": 14,
      "outputs": []
    },
    {
      "cell_type": "code",
      "metadata": {
        "id": "jG-0pIteHGYj",
        "colab": {
          "base_uri": "https://localhost:8080/"
        },
        "outputId": "7520cd6e-ca8b-4881-ec7c-680464304095"
      },
      "source": [
        "# [3] 그룹별 평균 구하기\n",
        "print(round(groupA.mean(),4), round(groupB.mean(),4))"
      ],
      "execution_count": 15,
      "outputs": [
        {
          "output_type": "stream",
          "name": "stdout",
          "text": [
            "6.15 6.35\n"
          ]
        }
      ]
    },
    {
      "cell_type": "code",
      "metadata": {
        "id": "3G163IkrV6EJ",
        "colab": {
          "base_uri": "https://localhost:8080/"
        },
        "outputId": "7441b62f-d43e-48ee-cc5c-10bbefd956fe"
      },
      "source": [
        "# [4] 등분산 검정 - 3가지 방법으로 실행 후, pvalue 확인\n",
        "from scipy.stats import shapiro\n",
        "from scipy.stats import levene, fligner, bartlett\n",
        "\n",
        "# 정규성 검정\n",
        "statisticA, pvalueA = shapiro(groupA) # 정규성 만족\n",
        "statisticB, pvalueB = shapiro(groupB) # 정규성 만족하지 않음\n",
        "print(f'{pvalueA:.04f} , {pvalueB:.04f}')\n",
        "\n",
        "# 등분산성 검정\n",
        "statisticA, pvalueA = levene(groupA, groupB) # 등분산성 만족\n",
        "statisticB, pvalueB = fligner(groupA, groupB) # 등분산성 만족\n",
        "statisticC, pvalueC = bartlett(groupA, groupB) # 등분산성 만족\n",
        "print(f'{pvalueA:.04f} , {pvalueB:.04f}, {pvalueC:.04f}')\n"
      ],
      "execution_count": 20,
      "outputs": [
        {
          "output_type": "stream",
          "name": "stdout",
          "text": [
            "0.1180 , 0.0184\n",
            "0.2312 , 0.1808, 0.1475\n"
          ]
        }
      ]
    },
    {
      "cell_type": "code",
      "metadata": {
        "id": "ItcZqrBfHGYk"
      },
      "source": [
        "# 등분산 가정을 만족하지 않으면(equal_var=False) Welch's T-test를 수행한다."
      ],
      "execution_count": null,
      "outputs": []
    },
    {
      "cell_type": "markdown",
      "source": [
        "가설1. alternative='two-sided'\n",
        "- 귀무가설 : groupA의 평균 - groupB의 평균이 0과 같다\n",
        "- 대립가설 : groupA의 평균 - groupB의 평균이 0과 같지 않다\n",
        "- 귀무가설 : groupA, groupB의 평균은 동일하다\n",
        "- 대립가설 : groupA, groupB의 평균은 동일하지 않다"
      ],
      "metadata": {
        "id": "TtEQZPSR9v7_"
      }
    },
    {
      "cell_type": "code",
      "metadata": {
        "id": "veAHtnMWHGYk",
        "colab": {
          "base_uri": "https://localhost:8080/"
        },
        "outputId": "49ea66a1-e44f-47fa-ac70-2fda35e9d723"
      },
      "source": [
        "# [5] two-sample t-test 수행\n",
        "from scipy.stats import ttest_ind\n",
        "statistic, pvalue = ttest_ind(groupA, groupB, alternative='two-sided')\n",
        "print(f'statistic: {statistic:.04f}, pvalue: {pvalue:.04f}')"
      ],
      "execution_count": 21,
      "outputs": [
        {
          "output_type": "stream",
          "name": "stdout",
          "text": [
            "statistic: -0.4988, pvalue: 0.6208\n"
          ]
        }
      ]
    },
    {
      "cell_type": "code",
      "metadata": {
        "id": "553_7jRqHGYm",
        "colab": {
          "base_uri": "https://localhost:8080/"
        },
        "outputId": "5275a87f-5c9e-4bf7-cca5-b9e6a9d43576"
      },
      "source": [
        "# [6] 가설 결과\n",
        "# pvalue가 0.05보다 큰값 (0.6208)\n",
        "# 귀무가설을 채택해야 함\n",
        "# 즉, 20대와 40대의 평균 수명 시간에 차이가 없다. (동일하다)\n",
        "print('기각' if pvalue < 0.05 else '채택')"
      ],
      "execution_count": null,
      "outputs": [
        {
          "output_type": "stream",
          "name": "stdout",
          "text": [
            "채택\n"
          ]
        }
      ]
    },
    {
      "cell_type": "markdown",
      "source": [
        "가설2. alternative='less'\n",
        "- 귀무가설 : groupA의 평균 - groupB의 평균이 0보다 크거나 같다\n",
        "- 대립가설 : groupA의 평균 - groupB의 평균이 0보다 작다\n",
        "- 귀무가설 : groupA의 평균이 groupB의 평균보다 크거나 같다\n",
        "- 대립가설 : groupA의 평균이 groupB의 평균보다 작다"
      ],
      "metadata": {
        "id": "vjip5-ZJDom9"
      }
    },
    {
      "cell_type": "code",
      "source": [
        "# [7] two-sample t-test 수행\n",
        "from scipy.stats import ttest_ind\n",
        "statistic, pvalue = ttest_ind(groupA, groupB, alternative='less')\n",
        "print(f'statistic: {statistic:.04f}, pvalue: {pvalue:.04f}')"
      ],
      "metadata": {
        "id": "CV15CIzlDnfb",
        "colab": {
          "base_uri": "https://localhost:8080/"
        },
        "outputId": "6e457861-8ce6-4b76-93d8-394a3b6a19c3"
      },
      "execution_count": 22,
      "outputs": [
        {
          "output_type": "stream",
          "name": "stdout",
          "text": [
            "statistic: -0.4988, pvalue: 0.3104\n"
          ]
        }
      ]
    },
    {
      "cell_type": "code",
      "source": [
        "# [8] 가설 결과\n",
        "# pvalue가 0.05보다 큰값 (0.3104)\n",
        "# 귀무가설을 채택해야 함\n",
        "# 즉, groupA의 평균 - groupB의 평균이 0보다 크거나 같다.\n",
        "# groupA의 평균이 groupB의 평균보다 크거나 같다\n",
        "print('기각' if pvalue < 0.05 else '채택')"
      ],
      "metadata": {
        "id": "SR2uSH_yFykq",
        "colab": {
          "base_uri": "https://localhost:8080/"
        },
        "outputId": "150f36f6-3378-444c-a052-4e28812c106f"
      },
      "execution_count": 23,
      "outputs": [
        {
          "output_type": "stream",
          "name": "stdout",
          "text": [
            "채택\n"
          ]
        }
      ]
    },
    {
      "cell_type": "markdown",
      "source": [
        "가설3. alternative='greater'\n",
        "- 귀무가설 : groupA의 평균 - groupB의 평균이 0보다 작거나 같다\n",
        "- 대립가설 : groupA의 평균 - groupB의 평균이 0보다 크다\n",
        "- 귀무가설 : groupA의 평균이 groupB의 평균보다 작거나 같다\n",
        "- 대립가설 : groupA의 평균이 groupB의 평균보다 크다"
      ],
      "metadata": {
        "id": "H5sDZaJVG9ui"
      }
    },
    {
      "cell_type": "code",
      "source": [
        "# [9] two-sample t-test 수행\n",
        "from scipy.stats import ttest_ind\n",
        "statistic, pvalue = ttest_ind(groupA, groupB, alternative='greater')\n",
        "print(f'statistic: {statistic:.04f}, pvalue: {pvalue:.04f}')"
      ],
      "metadata": {
        "id": "UoqlmdbPHIoU",
        "colab": {
          "base_uri": "https://localhost:8080/"
        },
        "outputId": "bba57823-d130-4135-8baf-b7864b279266"
      },
      "execution_count": 24,
      "outputs": [
        {
          "output_type": "stream",
          "name": "stdout",
          "text": [
            "statistic: -0.4988, pvalue: 0.6896\n"
          ]
        }
      ]
    },
    {
      "cell_type": "code",
      "source": [
        "# [10] 가설 결과\n",
        "# pvalue가 0.05보다 큰값 (0.6896)\n",
        "# 귀무가설을 채택해야 함\n",
        "# 즉, groupA의 평균 - groupB의 평균이 0보다 작거나 같다.\n",
        "# groupA의 평균이 groupB의 평균보다 작거나 같다\n",
        "print('기각' if pvalue < 0.05 else '채택')"
      ],
      "metadata": {
        "id": "7KyshE1yHNZu",
        "colab": {
          "base_uri": "https://localhost:8080/"
        },
        "outputId": "3dad7aaa-c8da-4521-dfdf-928c1e92b7c4"
      },
      "execution_count": 25,
      "outputs": [
        {
          "output_type": "stream",
          "name": "stdout",
          "text": [
            "채택\n"
          ]
        }
      ]
    },
    {
      "cell_type": "markdown",
      "metadata": {
        "id": "NZPSVBEcHGYm"
      },
      "source": [
        "#### 3-3.Paired t-test \n",
        "- 동일한 특성을 같는 두집단 A, B의 평균 차이가 유의미한지 확인하는 용도\n",
        "- 처치 전/후 비교(효과 검정), 한 집단에 대해 두 가지 방법에 대한 차이 검정 등에 사용\n",
        "- 등분산성 검정은 하지 않아도 됨\n",
        "- 두 약 투여에 따른 추가 수면 시간 평균의 차이가 있는가?\n",
        "- stats.ttest_rel: (two RELated samples)"
      ]
    },
    {
      "cell_type": "code",
      "metadata": {
        "colab": {
          "base_uri": "https://localhost:8080/",
          "height": 162
        },
        "id": "Vobl6wqgHGYm",
        "outputId": "3b70e73a-590d-47e0-9d4f-a3f35064b0a7"
      },
      "source": [
        "# [1] 데이터 가져오기\n",
        "import pandas as pd\n",
        "import numpy as np\n",
        "df2 = pd.read_csv('./data_02/sleep.csv')\n",
        "print(df2.shape)\n",
        "df2.T"
      ],
      "execution_count": 26,
      "outputs": [
        {
          "output_type": "stream",
          "name": "stdout",
          "text": [
            "(20, 3)\n"
          ]
        },
        {
          "output_type": "execute_result",
          "data": {
            "text/plain": [
              "        0    1    2    3    4    5    6    7    8     9    10   11   12   13  \\\n",
              "extra  0.7 -1.6 -0.2 -1.2 -0.1  3.4  3.7  0.8  0.0   2.0  1.9  0.8  1.1  0.1   \n",
              "group  1.0  1.0  1.0  1.0  1.0  1.0  1.0  1.0  1.0   1.0  2.0  2.0  2.0  2.0   \n",
              "ID     1.0  2.0  3.0  4.0  5.0  6.0  7.0  8.0  9.0  10.0  1.0  2.0  3.0  4.0   \n",
              "\n",
              "        14   15   16   17   18    19  \n",
              "extra -0.1  4.4  5.5  1.6  4.6   3.4  \n",
              "group  2.0  2.0  2.0  2.0  2.0   2.0  \n",
              "ID     5.0  6.0  7.0  8.0  9.0  10.0  "
            ],
            "text/html": [
              "\n",
              "  <div id=\"df-e79487b0-f628-4d87-b1fa-9b1a379f1830\">\n",
              "    <div class=\"colab-df-container\">\n",
              "      <div>\n",
              "<style scoped>\n",
              "    .dataframe tbody tr th:only-of-type {\n",
              "        vertical-align: middle;\n",
              "    }\n",
              "\n",
              "    .dataframe tbody tr th {\n",
              "        vertical-align: top;\n",
              "    }\n",
              "\n",
              "    .dataframe thead th {\n",
              "        text-align: right;\n",
              "    }\n",
              "</style>\n",
              "<table border=\"1\" class=\"dataframe\">\n",
              "  <thead>\n",
              "    <tr style=\"text-align: right;\">\n",
              "      <th></th>\n",
              "      <th>0</th>\n",
              "      <th>1</th>\n",
              "      <th>2</th>\n",
              "      <th>3</th>\n",
              "      <th>4</th>\n",
              "      <th>5</th>\n",
              "      <th>6</th>\n",
              "      <th>7</th>\n",
              "      <th>8</th>\n",
              "      <th>9</th>\n",
              "      <th>10</th>\n",
              "      <th>11</th>\n",
              "      <th>12</th>\n",
              "      <th>13</th>\n",
              "      <th>14</th>\n",
              "      <th>15</th>\n",
              "      <th>16</th>\n",
              "      <th>17</th>\n",
              "      <th>18</th>\n",
              "      <th>19</th>\n",
              "    </tr>\n",
              "  </thead>\n",
              "  <tbody>\n",
              "    <tr>\n",
              "      <th>extra</th>\n",
              "      <td>0.7</td>\n",
              "      <td>-1.6</td>\n",
              "      <td>-0.2</td>\n",
              "      <td>-1.2</td>\n",
              "      <td>-0.1</td>\n",
              "      <td>3.4</td>\n",
              "      <td>3.7</td>\n",
              "      <td>0.8</td>\n",
              "      <td>0.0</td>\n",
              "      <td>2.0</td>\n",
              "      <td>1.9</td>\n",
              "      <td>0.8</td>\n",
              "      <td>1.1</td>\n",
              "      <td>0.1</td>\n",
              "      <td>-0.1</td>\n",
              "      <td>4.4</td>\n",
              "      <td>5.5</td>\n",
              "      <td>1.6</td>\n",
              "      <td>4.6</td>\n",
              "      <td>3.4</td>\n",
              "    </tr>\n",
              "    <tr>\n",
              "      <th>group</th>\n",
              "      <td>1.0</td>\n",
              "      <td>1.0</td>\n",
              "      <td>1.0</td>\n",
              "      <td>1.0</td>\n",
              "      <td>1.0</td>\n",
              "      <td>1.0</td>\n",
              "      <td>1.0</td>\n",
              "      <td>1.0</td>\n",
              "      <td>1.0</td>\n",
              "      <td>1.0</td>\n",
              "      <td>2.0</td>\n",
              "      <td>2.0</td>\n",
              "      <td>2.0</td>\n",
              "      <td>2.0</td>\n",
              "      <td>2.0</td>\n",
              "      <td>2.0</td>\n",
              "      <td>2.0</td>\n",
              "      <td>2.0</td>\n",
              "      <td>2.0</td>\n",
              "      <td>2.0</td>\n",
              "    </tr>\n",
              "    <tr>\n",
              "      <th>ID</th>\n",
              "      <td>1.0</td>\n",
              "      <td>2.0</td>\n",
              "      <td>3.0</td>\n",
              "      <td>4.0</td>\n",
              "      <td>5.0</td>\n",
              "      <td>6.0</td>\n",
              "      <td>7.0</td>\n",
              "      <td>8.0</td>\n",
              "      <td>9.0</td>\n",
              "      <td>10.0</td>\n",
              "      <td>1.0</td>\n",
              "      <td>2.0</td>\n",
              "      <td>3.0</td>\n",
              "      <td>4.0</td>\n",
              "      <td>5.0</td>\n",
              "      <td>6.0</td>\n",
              "      <td>7.0</td>\n",
              "      <td>8.0</td>\n",
              "      <td>9.0</td>\n",
              "      <td>10.0</td>\n",
              "    </tr>\n",
              "  </tbody>\n",
              "</table>\n",
              "</div>\n",
              "      <button class=\"colab-df-convert\" onclick=\"convertToInteractive('df-e79487b0-f628-4d87-b1fa-9b1a379f1830')\"\n",
              "              title=\"Convert this dataframe to an interactive table.\"\n",
              "              style=\"display:none;\">\n",
              "        \n",
              "  <svg xmlns=\"http://www.w3.org/2000/svg\" height=\"24px\"viewBox=\"0 0 24 24\"\n",
              "       width=\"24px\">\n",
              "    <path d=\"M0 0h24v24H0V0z\" fill=\"none\"/>\n",
              "    <path d=\"M18.56 5.44l.94 2.06.94-2.06 2.06-.94-2.06-.94-.94-2.06-.94 2.06-2.06.94zm-11 1L8.5 8.5l.94-2.06 2.06-.94-2.06-.94L8.5 2.5l-.94 2.06-2.06.94zm10 10l.94 2.06.94-2.06 2.06-.94-2.06-.94-.94-2.06-.94 2.06-2.06.94z\"/><path d=\"M17.41 7.96l-1.37-1.37c-.4-.4-.92-.59-1.43-.59-.52 0-1.04.2-1.43.59L10.3 9.45l-7.72 7.72c-.78.78-.78 2.05 0 2.83L4 21.41c.39.39.9.59 1.41.59.51 0 1.02-.2 1.41-.59l7.78-7.78 2.81-2.81c.8-.78.8-2.07 0-2.86zM5.41 20L4 18.59l7.72-7.72 1.47 1.35L5.41 20z\"/>\n",
              "  </svg>\n",
              "      </button>\n",
              "      \n",
              "  <style>\n",
              "    .colab-df-container {\n",
              "      display:flex;\n",
              "      flex-wrap:wrap;\n",
              "      gap: 12px;\n",
              "    }\n",
              "\n",
              "    .colab-df-convert {\n",
              "      background-color: #E8F0FE;\n",
              "      border: none;\n",
              "      border-radius: 50%;\n",
              "      cursor: pointer;\n",
              "      display: none;\n",
              "      fill: #1967D2;\n",
              "      height: 32px;\n",
              "      padding: 0 0 0 0;\n",
              "      width: 32px;\n",
              "    }\n",
              "\n",
              "    .colab-df-convert:hover {\n",
              "      background-color: #E2EBFA;\n",
              "      box-shadow: 0px 1px 2px rgba(60, 64, 67, 0.3), 0px 1px 3px 1px rgba(60, 64, 67, 0.15);\n",
              "      fill: #174EA6;\n",
              "    }\n",
              "\n",
              "    [theme=dark] .colab-df-convert {\n",
              "      background-color: #3B4455;\n",
              "      fill: #D2E3FC;\n",
              "    }\n",
              "\n",
              "    [theme=dark] .colab-df-convert:hover {\n",
              "      background-color: #434B5C;\n",
              "      box-shadow: 0px 1px 3px 1px rgba(0, 0, 0, 0.15);\n",
              "      filter: drop-shadow(0px 1px 2px rgba(0, 0, 0, 0.3));\n",
              "      fill: #FFFFFF;\n",
              "    }\n",
              "  </style>\n",
              "\n",
              "      <script>\n",
              "        const buttonEl =\n",
              "          document.querySelector('#df-e79487b0-f628-4d87-b1fa-9b1a379f1830 button.colab-df-convert');\n",
              "        buttonEl.style.display =\n",
              "          google.colab.kernel.accessAllowed ? 'block' : 'none';\n",
              "\n",
              "        async function convertToInteractive(key) {\n",
              "          const element = document.querySelector('#df-e79487b0-f628-4d87-b1fa-9b1a379f1830');\n",
              "          const dataTable =\n",
              "            await google.colab.kernel.invokeFunction('convertToInteractive',\n",
              "                                                     [key], {});\n",
              "          if (!dataTable) return;\n",
              "\n",
              "          const docLinkHtml = 'Like what you see? Visit the ' +\n",
              "            '<a target=\"_blank\" href=https://colab.research.google.com/notebooks/data_table.ipynb>data table notebook</a>'\n",
              "            + ' to learn more about interactive tables.';\n",
              "          element.innerHTML = '';\n",
              "          dataTable['output_type'] = 'display_data';\n",
              "          await google.colab.output.renderOutput(dataTable, element);\n",
              "          const docLink = document.createElement('div');\n",
              "          docLink.innerHTML = docLinkHtml;\n",
              "          element.appendChild(docLink);\n",
              "        }\n",
              "      </script>\n",
              "    </div>\n",
              "  </div>\n",
              "  "
            ]
          },
          "metadata": {},
          "execution_count": 26
        }
      ]
    },
    {
      "cell_type": "code",
      "metadata": {
        "id": "RpCVKuGXHGYn"
      },
      "source": [
        "# [2] 그룹 나누기\n",
        "gA = df2.loc[df2.group==1, 'extra']\n",
        "gB = df2.loc[df2.group==2, 'extra']"
      ],
      "execution_count": 27,
      "outputs": []
    },
    {
      "cell_type": "code",
      "metadata": {
        "id": "whD5_mDRHGYn",
        "colab": {
          "base_uri": "https://localhost:8080/"
        },
        "outputId": "b8327b82-ae0e-4efc-b2f8-08f6a547e9f6"
      },
      "source": [
        "# [3] 정규성 검정(shapiro)\n",
        "from scipy.stats import shapiro\n",
        "statisticA, pvalueA = shapiro(gA)\n",
        "statisticB, pvalueB = shapiro(gB)\n",
        "print(f'statistic:{statisticA:.4f} pvalue:{pvalueA:.4f}')\n",
        "print(f'statistic:{statisticB:.4f} pvalue:{pvalueB:.4f}')\n",
        "# 귀무가설 채택 정규성 만족"
      ],
      "execution_count": 28,
      "outputs": [
        {
          "output_type": "stream",
          "name": "stdout",
          "text": [
            "statistic:0.9258 pvalue:0.4079\n",
            "statistic:0.9193 pvalue:0.3511\n"
          ]
        }
      ]
    },
    {
      "cell_type": "code",
      "metadata": {
        "id": "hMY2cJL5JnzE",
        "colab": {
          "base_uri": "https://localhost:8080/"
        },
        "outputId": "498e8394-d6e8-49be-c6bf-9f0dd489346e"
      },
      "source": [
        "# [4] 정규성 검정(normaltest) - N>=20\n",
        "from scipy.stats import  normaltest\n",
        "normaltest(gA)"
      ],
      "execution_count": 29,
      "outputs": [
        {
          "output_type": "stream",
          "name": "stderr",
          "text": [
            "/usr/local/lib/python3.10/dist-packages/scipy/stats/_stats_py.py:1736: UserWarning: kurtosistest only valid for n>=20 ... continuing anyway, n=10\n",
            "  warnings.warn(\"kurtosistest only valid for n>=20 ... continuing \"\n"
          ]
        },
        {
          "output_type": "execute_result",
          "data": {
            "text/plain": [
              "NormaltestResult(statistic=0.8834543265697302, pvalue=0.6429250250799996)"
            ]
          },
          "metadata": {},
          "execution_count": 29
        }
      ]
    },
    {
      "cell_type": "code",
      "metadata": {
        "id": "G836x0RMgoBA",
        "colab": {
          "base_uri": "https://localhost:8080/"
        },
        "outputId": "5cc31ea7-2957-4268-a5a5-b9c571a97c46"
      },
      "source": [
        "# [5] gA와 gB의 평균 구하기\n",
        "meanA, meanB = gA.mean(), gB.mean()\n",
        "print(f'{meanA:.4f}, {meanB:.4f}')"
      ],
      "execution_count": 30,
      "outputs": [
        {
          "output_type": "stream",
          "name": "stdout",
          "text": [
            "0.7500, 2.3300\n"
          ]
        }
      ]
    },
    {
      "cell_type": "markdown",
      "source": [
        "가설1. alternative='two-sided'\n",
        "- 귀무가설 : gA의 평균 - gB의 평균이 0과 같다\n",
        "- 대립가설 : gA의 평균 - gB의 평균이 0과 같지 않다\n",
        "- 귀무가설 : gA와 gB의 평균은 같다\n",
        "- 대립가설 : gA와 gB의 평균은 같지 않다"
      ],
      "metadata": {
        "id": "wUHg3DfKJHwE"
      }
    },
    {
      "cell_type": "code",
      "metadata": {
        "id": "WW5j4wDIHGYn",
        "colab": {
          "base_uri": "https://localhost:8080/"
        },
        "outputId": "2870dd26-6104-4ebf-9a8d-16fff090b684"
      },
      "source": [
        "# [6] Paired t-test\n",
        "from scipy.stats import ttest_rel\n",
        "statistic, pvalue = ttest_rel(gA, gB, alternative ='two-sided')\n",
        "print(f'statistic:{statistic:.4f} pvalue:{pvalue:.4f}')\n",
        "#statistic:{statisticA:.4f} pvalue:{pvalueA:.4f}')\n",
        "#statistic이 음수 : gB의 평균이 큰것을 의미"
      ],
      "execution_count": 31,
      "outputs": [
        {
          "output_type": "stream",
          "name": "stdout",
          "text": [
            "statistic:-4.0621 pvalue:0.0028\n"
          ]
        }
      ]
    },
    {
      "cell_type": "code",
      "metadata": {
        "id": "dfHPanKqHGYo",
        "colab": {
          "base_uri": "https://localhost:8080/"
        },
        "outputId": "9e93bc19-d265-4d46-bcdf-b4ec484d58ae"
      },
      "source": [
        "# [7] 결과해석\n",
        "# pvalue 가 0.05보다 작음\n",
        "# 귀무가설을 기각 대립가설 채택\n",
        "# gA 와 gB의 평균은 같지 않다\n",
        "print('기각'if pvalue < 0.05 else '채택')  #귀무가설 기각 / 채택\n"
      ],
      "execution_count": null,
      "outputs": [
        {
          "output_type": "stream",
          "name": "stdout",
          "text": [
            "기각\n"
          ]
        }
      ]
    },
    {
      "cell_type": "markdown",
      "source": [
        "가설2. alternative='less'\n",
        "- 귀무가설 : gA의 평균 - gB의 평균이 0보다 크거나 같다\n",
        "- 대립가설 : gA의 평균 - gB의 평균이 0보다 작다\n",
        "- 귀무가설 : gA의 평균이 gB의 평균보다 크거나 같다\n",
        "- 대립가설 : gA의 평균이 gB의 평균보다 작다"
      ],
      "metadata": {
        "id": "XuSOMrq_86wG"
      }
    },
    {
      "cell_type": "markdown",
      "source": [
        "The t-statistic is calculated as np.mean(a - b)/se, where se is the standard error. Therefore, the t-statistic will be positive when the sample mean of a - b is greater than zero and negative when the sample mean of a - b is less than zero"
      ],
      "metadata": {
        "id": "VCS84_w6Y-eP"
      }
    },
    {
      "cell_type": "code",
      "source": [
        "# [8] Paired t-test\n",
        "from scipy.stats import ttest_rel\n",
        "statistic, pvalue = ttest_rel(gA, gB, alternative ='less')\n",
        "print(f'statistic:{statistic:.4f} pvalue:{pvalue:.4f}')\n",
        "# statistic: -4.0621 p-value: 0.0014\n",
        "# statistic이 음수 : gA의 평균이 작고, gB의 평균이 큼"
      ],
      "metadata": {
        "id": "ZojwRy-GOSAw",
        "colab": {
          "base_uri": "https://localhost:8080/"
        },
        "outputId": "9fd5ac5c-3d4a-4fa9-b8cc-e8c1bd7815b8"
      },
      "execution_count": null,
      "outputs": [
        {
          "output_type": "stream",
          "name": "stdout",
          "text": [
            "statistic:-4.0621 pvalue:0.0014\n"
          ]
        }
      ]
    },
    {
      "cell_type": "code",
      "source": [
        "# [9] 결과해석\n",
        "# pvalue 가 0.05보다 작음\n",
        "# 귀무가설을 기각 대립가설 채택\n",
        "# gA의 평균이 gB의 평균보다 작다\n",
        "print('기각'if pvalue < 0.05 else '채택')  #귀무가설 기각 / 채택"
      ],
      "metadata": {
        "id": "bEL_KBiBZCvM",
        "colab": {
          "base_uri": "https://localhost:8080/"
        },
        "outputId": "59a27417-9d06-432e-d8aa-2d2a1901b985"
      },
      "execution_count": null,
      "outputs": [
        {
          "output_type": "stream",
          "name": "stdout",
          "text": [
            "기각\n"
          ]
        }
      ]
    },
    {
      "cell_type": "markdown",
      "source": [
        "가설3. alternative='greater'\n",
        "- 귀무가설 : gA의 평균 - gB의 평균이 0보다 작거나 같다\n",
        "- 대립가설 : gA의 평균 - gB의 평균이 0보다 크다\n",
        "- 귀무가설 : gA의 평균이 gB의 평균보다 작거나 같다\n",
        "- 대립가설 : gA의 평균이 gB의 평균보다 크다"
      ],
      "metadata": {
        "id": "-Fwwj6O6ZWVP"
      }
    },
    {
      "cell_type": "code",
      "source": [
        "# [10] Paired t-test\n",
        "from scipy.stats import ttest_rel\n",
        "statistic, pvalue = ttest_rel(gA, gB, alternative ='greater')\n",
        "print(f'statistic:{statistic:.4f} pvalue:{pvalue:.4f}')\n",
        "# statistic:-4.0621 pvalue:0.9986\n",
        "# statistic이 음수 : gA의 평균이 작고, gB의 평균이 큼\n"
      ],
      "metadata": {
        "id": "X54tZ-YXZgei",
        "colab": {
          "base_uri": "https://localhost:8080/"
        },
        "outputId": "51da1e1c-ab90-49fc-d4c9-ee2c8eaf1a24"
      },
      "execution_count": null,
      "outputs": [
        {
          "output_type": "stream",
          "name": "stdout",
          "text": [
            "statistic:-4.0621 pvalue:0.9986\n"
          ]
        }
      ]
    },
    {
      "cell_type": "code",
      "source": [
        "# [11] 결과해석\n",
        "# p-value 가 0.05보다 큼\n",
        "# 귀무가설을 채택한다\n",
        "# gA의 평균이 gB의 평균보다 작거나 같다\n",
        "print('기각' if pvalue < 0.05 else '채택')  # 귀무가설 기각/채택\n"
      ],
      "metadata": {
        "id": "REUw5nvhZlI-",
        "colab": {
          "base_uri": "https://localhost:8080/"
        },
        "outputId": "f0309b0e-ad3f-403d-a730-5fb1774796ab"
      },
      "execution_count": null,
      "outputs": [
        {
          "output_type": "stream",
          "name": "stdout",
          "text": [
            "채택\n"
          ]
        }
      ]
    },
    {
      "cell_type": "markdown",
      "source": [
        "#### 3-4.분류 모델에서 활용"
      ],
      "metadata": {
        "id": "Z7RNfAZ9aUIk"
      }
    },
    {
      "cell_type": "code",
      "source": [
        "import pandas as pd\n",
        "data = pd.read_csv('https://raw.githubusercontent.com/Soyoung-Yoon/bigdata/main/1st_Train.csv')\n",
        "data.head(2)"
      ],
      "metadata": {
        "id": "bDz_WRXS87QI",
        "colab": {
          "base_uri": "https://localhost:8080/",
          "height": 112
        },
        "outputId": "070b80b9-68d6-4e70-e481-7a651fc1e28f"
      },
      "execution_count": 32,
      "outputs": [
        {
          "output_type": "execute_result",
          "data": {
            "text/plain": [
              "   ID Warehouse_block Mode_of_Shipment  Customer_care_calls  Customer_rating  \\\n",
              "0   1               D           Flight                    4                2   \n",
              "1   2               F           Flight                    4                5   \n",
              "\n",
              "   Cost_of_the_Product  Prior_purchases Product_importance Gender  \\\n",
              "0                  177                3                low      F   \n",
              "1                  216                2                low      M   \n",
              "\n",
              "   Discount_offered  Weight_in_gms  Reached.on.Time_Y.N  \n",
              "0                44           1233                    1  \n",
              "1                59           3088                    1  "
            ],
            "text/html": [
              "\n",
              "  <div id=\"df-68c35a0a-0e89-4b82-908d-bc0f0501ced2\">\n",
              "    <div class=\"colab-df-container\">\n",
              "      <div>\n",
              "<style scoped>\n",
              "    .dataframe tbody tr th:only-of-type {\n",
              "        vertical-align: middle;\n",
              "    }\n",
              "\n",
              "    .dataframe tbody tr th {\n",
              "        vertical-align: top;\n",
              "    }\n",
              "\n",
              "    .dataframe thead th {\n",
              "        text-align: right;\n",
              "    }\n",
              "</style>\n",
              "<table border=\"1\" class=\"dataframe\">\n",
              "  <thead>\n",
              "    <tr style=\"text-align: right;\">\n",
              "      <th></th>\n",
              "      <th>ID</th>\n",
              "      <th>Warehouse_block</th>\n",
              "      <th>Mode_of_Shipment</th>\n",
              "      <th>Customer_care_calls</th>\n",
              "      <th>Customer_rating</th>\n",
              "      <th>Cost_of_the_Product</th>\n",
              "      <th>Prior_purchases</th>\n",
              "      <th>Product_importance</th>\n",
              "      <th>Gender</th>\n",
              "      <th>Discount_offered</th>\n",
              "      <th>Weight_in_gms</th>\n",
              "      <th>Reached.on.Time_Y.N</th>\n",
              "    </tr>\n",
              "  </thead>\n",
              "  <tbody>\n",
              "    <tr>\n",
              "      <th>0</th>\n",
              "      <td>1</td>\n",
              "      <td>D</td>\n",
              "      <td>Flight</td>\n",
              "      <td>4</td>\n",
              "      <td>2</td>\n",
              "      <td>177</td>\n",
              "      <td>3</td>\n",
              "      <td>low</td>\n",
              "      <td>F</td>\n",
              "      <td>44</td>\n",
              "      <td>1233</td>\n",
              "      <td>1</td>\n",
              "    </tr>\n",
              "    <tr>\n",
              "      <th>1</th>\n",
              "      <td>2</td>\n",
              "      <td>F</td>\n",
              "      <td>Flight</td>\n",
              "      <td>4</td>\n",
              "      <td>5</td>\n",
              "      <td>216</td>\n",
              "      <td>2</td>\n",
              "      <td>low</td>\n",
              "      <td>M</td>\n",
              "      <td>59</td>\n",
              "      <td>3088</td>\n",
              "      <td>1</td>\n",
              "    </tr>\n",
              "  </tbody>\n",
              "</table>\n",
              "</div>\n",
              "      <button class=\"colab-df-convert\" onclick=\"convertToInteractive('df-68c35a0a-0e89-4b82-908d-bc0f0501ced2')\"\n",
              "              title=\"Convert this dataframe to an interactive table.\"\n",
              "              style=\"display:none;\">\n",
              "        \n",
              "  <svg xmlns=\"http://www.w3.org/2000/svg\" height=\"24px\"viewBox=\"0 0 24 24\"\n",
              "       width=\"24px\">\n",
              "    <path d=\"M0 0h24v24H0V0z\" fill=\"none\"/>\n",
              "    <path d=\"M18.56 5.44l.94 2.06.94-2.06 2.06-.94-2.06-.94-.94-2.06-.94 2.06-2.06.94zm-11 1L8.5 8.5l.94-2.06 2.06-.94-2.06-.94L8.5 2.5l-.94 2.06-2.06.94zm10 10l.94 2.06.94-2.06 2.06-.94-2.06-.94-.94-2.06-.94 2.06-2.06.94z\"/><path d=\"M17.41 7.96l-1.37-1.37c-.4-.4-.92-.59-1.43-.59-.52 0-1.04.2-1.43.59L10.3 9.45l-7.72 7.72c-.78.78-.78 2.05 0 2.83L4 21.41c.39.39.9.59 1.41.59.51 0 1.02-.2 1.41-.59l7.78-7.78 2.81-2.81c.8-.78.8-2.07 0-2.86zM5.41 20L4 18.59l7.72-7.72 1.47 1.35L5.41 20z\"/>\n",
              "  </svg>\n",
              "      </button>\n",
              "      \n",
              "  <style>\n",
              "    .colab-df-container {\n",
              "      display:flex;\n",
              "      flex-wrap:wrap;\n",
              "      gap: 12px;\n",
              "    }\n",
              "\n",
              "    .colab-df-convert {\n",
              "      background-color: #E8F0FE;\n",
              "      border: none;\n",
              "      border-radius: 50%;\n",
              "      cursor: pointer;\n",
              "      display: none;\n",
              "      fill: #1967D2;\n",
              "      height: 32px;\n",
              "      padding: 0 0 0 0;\n",
              "      width: 32px;\n",
              "    }\n",
              "\n",
              "    .colab-df-convert:hover {\n",
              "      background-color: #E2EBFA;\n",
              "      box-shadow: 0px 1px 2px rgba(60, 64, 67, 0.3), 0px 1px 3px 1px rgba(60, 64, 67, 0.15);\n",
              "      fill: #174EA6;\n",
              "    }\n",
              "\n",
              "    [theme=dark] .colab-df-convert {\n",
              "      background-color: #3B4455;\n",
              "      fill: #D2E3FC;\n",
              "    }\n",
              "\n",
              "    [theme=dark] .colab-df-convert:hover {\n",
              "      background-color: #434B5C;\n",
              "      box-shadow: 0px 1px 3px 1px rgba(0, 0, 0, 0.15);\n",
              "      filter: drop-shadow(0px 1px 2px rgba(0, 0, 0, 0.3));\n",
              "      fill: #FFFFFF;\n",
              "    }\n",
              "  </style>\n",
              "\n",
              "      <script>\n",
              "        const buttonEl =\n",
              "          document.querySelector('#df-68c35a0a-0e89-4b82-908d-bc0f0501ced2 button.colab-df-convert');\n",
              "        buttonEl.style.display =\n",
              "          google.colab.kernel.accessAllowed ? 'block' : 'none';\n",
              "\n",
              "        async function convertToInteractive(key) {\n",
              "          const element = document.querySelector('#df-68c35a0a-0e89-4b82-908d-bc0f0501ced2');\n",
              "          const dataTable =\n",
              "            await google.colab.kernel.invokeFunction('convertToInteractive',\n",
              "                                                     [key], {});\n",
              "          if (!dataTable) return;\n",
              "\n",
              "          const docLinkHtml = 'Like what you see? Visit the ' +\n",
              "            '<a target=\"_blank\" href=https://colab.research.google.com/notebooks/data_table.ipynb>data table notebook</a>'\n",
              "            + ' to learn more about interactive tables.';\n",
              "          element.innerHTML = '';\n",
              "          dataTable['output_type'] = 'display_data';\n",
              "          await google.colab.output.renderOutput(dataTable, element);\n",
              "          const docLink = document.createElement('div');\n",
              "          docLink.innerHTML = docLinkHtml;\n",
              "          element.appendChild(docLink);\n",
              "        }\n",
              "      </script>\n",
              "    </div>\n",
              "  </div>\n",
              "  "
            ]
          },
          "metadata": {},
          "execution_count": 32
        }
      ]
    },
    {
      "cell_type": "markdown",
      "source": [
        "1개 연속형 변수, 1개 범주형 변수 (2개 범주)\n",
        "- 범주별로 연속형 변수의 평균 차이가 있는지 검정한다"
      ],
      "metadata": {
        "id": "dd1RjXQBklQt"
      }
    },
    {
      "cell_type": "code",
      "source": [
        "# t-test\n",
        "# 연속형 변수 : 'Cost_of_the_Product', 'Weight_in_gms', 'Discount_offered'\n",
        "# 범주형 변수 : 'Reached.on.Time_Y.N'\n",
        "\n",
        "from scipy.stats import shapiro, kstest, bartlett\n",
        "from scipy.stats import ttest_ind\n",
        "\n",
        "# [1] 그룹 나누기\n",
        "feature = 'Cost_of_the_Product'\n",
        "condition_0 = data['Reached.on.Time_Y.N'] == 0\n",
        "condition_1 = data['Reached.on.Time_Y.N'] == 1\n",
        "group0 = data.loc[condition_0,feature]\n",
        "group1 = data.loc[condition_1,feature]\n",
        "print(feature, group0.shape, group1.shape)\n",
        "\n",
        "# [2] 정규성, 등분산성 검정\n",
        "# 정규성\n",
        "statistic, pvalue = kstest(group0,'norm')\n",
        "print(f'ks - statistic:{statistic:.4f}, pvalue:{pvalue:.4f}')  #정규성을 만족하지 못함\n",
        "\n",
        "statistic, pvalue = kstest(group1,'norm')\n",
        "print(f'ks - statistic:{statistic:.4f}, pvalue:{pvalue:.4f}')  #정규성을 만족하지 못함  N > 5000 ks로 바꿈\n",
        "\n",
        "# 등분산성\n",
        "statistic, pvalue = bartlett(group0, group1)\n",
        "print(f'bartlett - statistic:{statistic:.4f}, pvalue:{pvalue:.4f}')\n",
        "# pvalue:0.6516 등분산성을 만족\n",
        "\n",
        "\n",
        "# [3] ttest_ind\n",
        "statistic, pvalue = ttest_ind(group0, group1)\n",
        "print(f'ttest_ind - statistic:{statistic:.4f}, pvalue:{pvalue:.4f}')\n",
        "\n",
        "\n",
        "# [4] 결론\n",
        "# pvalue:0.0000  0.05 보다 작음\n",
        "# 귀무가설을 기각함\n",
        "# 두 그룹의 평균이 다르다! # statistic:7.7378 그룹0의 평균이 그룹1 평균 보다 크다\n",
        "\n",
        "mean_g0, mean_g1 = group0.mean(), group1.mean()\n",
        "print(f'{mean_g0:.4f}, {mean_g1:.4f}')"
      ],
      "metadata": {
        "id": "dOX9QW4KkzoV",
        "colab": {
          "base_uri": "https://localhost:8080/"
        },
        "outputId": "d973fc75-588a-48e4-d827-965df3ae25d2"
      },
      "execution_count": 46,
      "outputs": [
        {
          "output_type": "stream",
          "name": "stdout",
          "text": [
            "Cost_of_the_Product (4436,) (6563,)\n",
            "ks - statistic:1.0000, pvalue:0.0000\n",
            "ks - statistic:1.0000, pvalue:0.0000\n",
            "bartlett - statistic:0.2039, pvalue:0.6516\n",
            "ttest_ind - statistic:7.7378, pvalue:0.0000\n",
            "214.4986, 207.2892\n"
          ]
        }
      ]
    },
    {
      "cell_type": "code",
      "source": [
        "def my_ttest_ind(data, feature, target):\n",
        "    group0 = data.loc[data[target] == 0, feature]\n",
        "    group1 = data.loc[data[target] == 1, feature]\n",
        "    mean_g0, mean_g1 = group0.mean(), group1.mean()\n",
        "    print(f'{mean_g0:.4f}, {mean_g1:.4f}')\n",
        "    _, pvalue = ttest_ind(group0, group1)\n",
        "    print(f'ttest_ind - p-value:{pvalue:.4f}')\n",
        "    print('유의미' if pvalue < 0.05 else '의미가 없다')\n",
        "\n",
        "# 'Cost_of_the_Product', 'Weight_in_gms', 'Discount_offered'\n",
        "for feature in ['Cost_of_the_Product', 'Weight_in_gms', 'Discount_offered']:\n",
        "    print(feature)\n",
        "    my_ttest_ind(data, feature, 'Reached.on.Time_Y.N') "
      ],
      "metadata": {
        "id": "GM6GHFFykA2_",
        "colab": {
          "base_uri": "https://localhost:8080/"
        },
        "outputId": "4742c7ca-9e21-463c-9920-6745de7c8b57"
      },
      "execution_count": 51,
      "outputs": [
        {
          "output_type": "stream",
          "name": "stdout",
          "text": [
            "Cost_of_the_Product\n",
            "214.4986, 207.2892\n",
            "ttest_ind - p-value:0.0000\n",
            "유의미\n",
            "Weight_in_gms\n",
            "4168.6684, 3272.6401\n",
            "ttest_ind - p-value:0.0000\n",
            "유의미\n",
            "Discount_offered\n",
            "5.5460, 18.6637\n",
            "ttest_ind - p-value:0.0000\n",
            "유의미\n"
          ]
        }
      ]
    },
    {
      "cell_type": "markdown",
      "source": [
        "#### 3-5.모평균에 관한 t-test\n",
        "A 회사에서 판매하는 모니터는 평균 5개 보다 적은 불량화소를 포함한다고 주장한다. 이 주장을 판단하기 위해서 데이터를 수집했으며, 주어진 데이터(data_02/defective.csv)에는 모니터 25개에서 조사한 불량화소 개수가 저장되어 있다. \n",
        "- 불량화소의 개수는 정규분포를 따른다고 할 때, 이 주장의 타당성 여부를 유의수준 5%에서 검정하여라\n",
        "- 𝑯_𝟎  : 𝝁≥𝟓, 𝑯_𝟏  : 𝝁<𝟓, defective_pixel :  불량화소 개수\n",
        "- (a) 불량화소의 표본 평균을 구하시오 (반올림하여 소수 둘째자리까지 계산)\n",
        "- (b) 위의 가설을 검정하기 위한 검정통계량을 입력하시오.(반올림하여 소수 넷째자리까지 계산)\n",
        "- (c) 위의 통계량에 대한 p-값을 구하여 입력하시오. (반올림하여 소수 넷째자리까지 계산)\n",
        "- (d) 유의수준 0.05 하에서 가설검정의 결과를 (채택/기각) 중 하나를 선택하여 입력하시오.\n",
        "\n"
      ],
      "metadata": {
        "id": "XMzOwntaoQBB"
      }
    },
    {
      "cell_type": "code",
      "source": [
        "# 귀무가설 : A 회사에서 판매하는 모니터의 불량화소 평균이 5개 보다 크거나 같다.\n",
        "# 대립가설 : A 회사에서 판매하는 모니터의 불량화소 평균이 5개 보다 적다.\n",
        "\n",
        "import pandas as pd\n",
        "from scipy.stats import ttest_1samp\n",
        "\n",
        "data = pd.read_csv('data_02/defective.csv')\n",
        "# print(data.shape)\n",
        "# print(data.head(5)) #'defective_pixel'\n",
        "\n",
        "print(round(data['defective_pixel'].mean(),4))\n",
        "statistic, pvalue = ttest_1samp(data['defective_pixel'],5,alternative='two-sided')\n",
        "print(round(statistic,4))\n",
        "print(round(pvalue,4))\n",
        "print('기각' if pvalue < 0.05 else '채택')\n"
      ],
      "metadata": {
        "id": "Jf3jqjhnosLW",
        "colab": {
          "base_uri": "https://localhost:8080/"
        },
        "outputId": "286972e2-cb75-4bcf-9f89-19dadf2bea68"
      },
      "execution_count": 79,
      "outputs": [
        {
          "output_type": "stream",
          "name": "stdout",
          "text": [
            "4.84\n",
            "-1.4446\n",
            "0.1615\n",
            "채택\n"
          ]
        }
      ]
    },
    {
      "cell_type": "markdown",
      "source": [
        "#### 3-6.작업3유형 예시문제\n",
        "주어진 데이터(data_02/blood_pressure.csv)에는 고혈압 환자 120명의 치료 전후의 혈압이 저장되어 있다. 해당 치료가 효과가 있는지 (즉, 치료 후의 혈압이 감소했는지) 쌍체표본 t-검정(paired t-test)를 통해 답하고자 한다. 가설은 아래와 같다\n",
        "- 𝑯_𝟎  : 𝝁_𝒅≥𝟎, 𝑯_𝟏  : 𝝁_𝒅<𝟎  (𝝁_𝒅 : 치료 후 혈압 – 치료 전 혈압)의 평균\n",
        "- bp_before : 치료 전 혈압, bp_after : 치료 후 혈압\n",
        "- (a) ud의 표본 평균을 구하시오 (반올림하여 소수 둘째자리까지 계산)\n",
        "- (b) 위의 가설을 검정하기 위한 검정통계량을 입력하시오.(반올림하여 소수 넷째자리까지 계산)\n",
        "- (c) 위의 통계량에 대한 p-값을 구하여 입력하시오. (반올림하여 소수 넷째자리까지 계산)\n",
        "- (d) 유의수준 0.05 하에서 가설검정의 결과를 (채택/기각) 중 하나를 선택하여 입력하시오.\n"
      ],
      "metadata": {
        "id": "L9R1giT3oudo"
      }
    },
    {
      "cell_type": "code",
      "source": [
        "import pandas as pd\n",
        "from scipy.stats import ttest_rel\n",
        "\n",
        "# 귀무가설: 치료 후 혈압과 치료 전 혈압의 차가 0보다 크거나 같다.\n",
        "# 대립가설: 치료 후 혈압과 치료 전 혈압의 차가 0보다 작다\n",
        "# 귀무가설: 치료 후 혈압이 치료 전 혈압보다 크거나 같다.\n",
        "# 대립가설: 치료 후 혈압이 치료 전 혈압보다 작다\n",
        "\n",
        "data = pd.read_csv('data_02/blood_pressure.csv')\n",
        "# print(data.shape)\n",
        "# print(data.head(3)) # bp_before  bp_after\n",
        "data['ud'] = data['bp_after'] - data['bp_before']\n",
        "print(round(data['ud'].mean(),2))  # -5.09\n",
        "\n",
        "statistic, pvalue = ttest_rel(data['bp_after'],data['bp_before'], alternative = 'less')\n",
        "print(round(statistic,4)) # -3.3372\n",
        "print(round(pvalue,4))\n",
        "print('기각' if pvalue < 0.05 else '채택')\n"
      ],
      "metadata": {
        "id": "05SNZ_Lko82v",
        "colab": {
          "base_uri": "https://localhost:8080/"
        },
        "outputId": "b720d041-29fb-4cf5-d6a1-ad6c384995b8"
      },
      "execution_count": 76,
      "outputs": [
        {
          "output_type": "stream",
          "name": "stdout",
          "text": [
            "-5.09\n",
            "-3.3372\n",
            "0.0006\n",
            "기각\n"
          ]
        }
      ]
    },
    {
      "cell_type": "markdown",
      "source": [
        "### 4.ANOVA(분산 분석)\n",
        "- t-test는 1개 또는 2개의 집단에 대해 평균 검정\n",
        "- 독립변수 – 범주형, 종속변수 – 연속형으로 하는, 3개 이상의 집단 평균을 비교하는 모수 추론 방법\n",
        "- \"집단간분산\" /\"집단내분산\"    기반의 F 분포를 이용해 가설을 검정하며 정규성, 등분산성, 독립성을 가정함\n",
        "- \"집단 간 분산\"과 \"집단 내 분산\"을 이용해 분석하는 방법이어서 \"분산분석\"이라고 함\n",
        "- 귀무가설 기각 시 구체적인 차이를 파악하기 위해, 사후 검정(Post Hoc test)이 필요함\n",
        "- 등분산/동일 크기 표본 - Tukey검정, 등분산/다른 크기 표본 – Scheff 검정, Fisher’s LSD 검정 등이 있음\n"
      ],
      "metadata": {
        "id": "mQgLG3DE9DqM"
      }
    },
    {
      "cell_type": "code",
      "metadata": {
        "id": "hmmbxRCLuseB"
      },
      "source": [
        "#출처 : https://partrita.github.io/posts/ANOVA-python/\n",
        "#https://github.com/thomas-haslwanter/statsintro_python/blob/master/ipynb/8_anovaOneway.ipynb\n",
        "#https://ggbaker.ca/data-science/content/stats-tests.html    \n",
        "#https://lunch-box.tistory.com/76?category=873052"
      ],
      "execution_count": null,
      "outputs": []
    },
    {
      "cell_type": "markdown",
      "metadata": {
        "id": "ktJVnUfnuseD"
      },
      "source": [
        "#### 4-1.분산의 중요성\n",
        "- 평균값은 동일하지만 분산 값이 다름으로 인해 전체적인 데이터의 모습이 완전히 달라 보임\n",
        "- 분산이 클수록 집단의 평균값의 차이가 무의미해진다\n",
        "- **집단간 평균값의 분산이 클수록, 집단내 분산이 작아질 수록 평균의 차이가 분명해진다.**\n"
      ]
    },
    {
      "cell_type": "code",
      "metadata": {
        "id": "tqaEbxDnuseC"
      },
      "source": [
        "from scipy.stats import norm\n",
        "import pandas as pd\n",
        "import matplotlib.pyplot as plt\n",
        "import numpy as np\n",
        "\n",
        "def draw_graph(std):\n",
        "    centers = [5, 5.3, 4.5]\n",
        "    colors = 'brg'\n",
        "    size = 100\n",
        "    plt.figure(figsize=(4,3))\n",
        "    for i in range(3):\n",
        "        x = norm(centers[i], std).rvs(size)  \n",
        "        y = np.arange(size) + i*size     \n",
        "        plt.plot(x, y, '.', color=colors[i])\n",
        "    plt.show() "
      ],
      "execution_count": 80,
      "outputs": []
    },
    {
      "cell_type": "code",
      "source": [
        "draw_graph(std=0.1)"
      ],
      "metadata": {
        "colab": {
          "base_uri": "https://localhost:8080/",
          "height": 291
        },
        "id": "aOlshwop6xM7",
        "outputId": "1ac38c77-b937-44a4-9043-4b9964c01505"
      },
      "execution_count": 82,
      "outputs": [
        {
          "output_type": "display_data",
          "data": {
            "text/plain": [
              "<Figure size 400x300 with 1 Axes>"
            ],
            "image/png": "[encoded data removed]"
          },
          "metadata": {}
        }
      ]
    },
    {
      "cell_type": "code",
      "metadata": {
        "colab": {
          "base_uri": "https://localhost:8080/",
          "height": 291
        },
        "id": "ufztcNxHuseD",
        "outputId": "a34d2a16-d473-4b0b-c5ed-707b278bfada"
      },
      "source": [
        "draw_graph(std=1)"
      ],
      "execution_count": 83,
      "outputs": [
        {
          "output_type": "display_data",
          "data": {
            "text/plain": [
              "<Figure size 400x300 with 1 Axes>"
            ],
            "image/png": "[encoded data removed]"
          },
          "metadata": {}
        }
      ]
    },
    {
      "cell_type": "markdown",
      "metadata": {
        "id": "OkhMN0ZjuseF"
      },
      "source": [
        "#### 4-2.일원분산분석(One-way ANOVA)\n",
        "- 독립변수 : 범주형 1개, 종속변수 : 연속형\n",
        "- 독립변수의 변화가 종속변수에 미치는 영향을 보기 위해 사용\n",
        "- 가정 : 독립성, 정규성, 등분산성\n",
        "- scipy.stats이나 statsmodel 라이브러리를 이용"
      ]
    },
    {
      "cell_type": "code",
      "metadata": {
        "id": "Gzwipc4fuseF"
      },
      "source": [
        "# 예시 데이터 설명\n",
        "# iris의 target이 0 : 'setosa', 1 : 'versicolor', 2: 'virginica' 품종\n",
        "# 독립변수 :'sepal length (cm)', 'sepal width (cm)', 'petal length (cm)', 'petal width (cm)'   \n",
        "# 품종별 sepal, petal의 length, width가 차이를 보일까?에 anova 사용"
      ],
      "execution_count": null,
      "outputs": []
    },
    {
      "cell_type": "code",
      "source": [
        "# [1] 데이터 가져오기\n",
        "import pandas as pd\n",
        "\n",
        "iris = pd.read_csv('bigdata/iris_data.csv')\n",
        "iris.columns = ['sepal_length', 'sepal_width', \n",
        "                'petal_length', 'petal_width', 'target']\n",
        "iris.columns"
      ],
      "metadata": {
        "colab": {
          "base_uri": "https://localhost:8080/"
        },
        "id": "2YU8-q5bsMu7",
        "outputId": "1acf339c-2b89-4dc1-94e4-2383f671e4ed"
      },
      "execution_count": 84,
      "outputs": [
        {
          "output_type": "execute_result",
          "data": {
            "text/plain": [
              "Index(['sepal_length', 'sepal_width', 'petal_length', 'petal_width', 'target'], dtype='object')"
            ]
          },
          "metadata": {},
          "execution_count": 84
        }
      ]
    },
    {
      "cell_type": "code",
      "source": [
        "# [2-1] 품종별 각 변수의 평균 확인\n",
        "iris.groupby('target').mean()"
      ],
      "metadata": {
        "id": "5bYE6EjS8DQt",
        "colab": {
          "base_uri": "https://localhost:8080/",
          "height": 175
        },
        "outputId": "9c1be2c3-6e3e-448d-a947-da9259ad5ab6"
      },
      "execution_count": 87,
      "outputs": [
        {
          "output_type": "execute_result",
          "data": {
            "text/plain": [
              "        sepal_length  sepal_width  petal_length  petal_width\n",
              "target                                                      \n",
              "0              5.006        3.428         1.462        0.246\n",
              "1              5.936        2.770         4.260        1.326\n",
              "2              6.588        2.974         5.552        2.026"
            ],
            "text/html": [
              "\n",
              "  <div id=\"df-e906a77b-f54f-4509-8a1a-9a76197a262a\">\n",
              "    <div class=\"colab-df-container\">\n",
              "      <div>\n",
              "<style scoped>\n",
              "    .dataframe tbody tr th:only-of-type {\n",
              "        vertical-align: middle;\n",
              "    }\n",
              "\n",
              "    .dataframe tbody tr th {\n",
              "        vertical-align: top;\n",
              "    }\n",
              "\n",
              "    .dataframe thead th {\n",
              "        text-align: right;\n",
              "    }\n",
              "</style>\n",
              "<table border=\"1\" class=\"dataframe\">\n",
              "  <thead>\n",
              "    <tr style=\"text-align: right;\">\n",
              "      <th></th>\n",
              "      <th>sepal_length</th>\n",
              "      <th>sepal_width</th>\n",
              "      <th>petal_length</th>\n",
              "      <th>petal_width</th>\n",
              "    </tr>\n",
              "    <tr>\n",
              "      <th>target</th>\n",
              "      <th></th>\n",
              "      <th></th>\n",
              "      <th></th>\n",
              "      <th></th>\n",
              "    </tr>\n",
              "  </thead>\n",
              "  <tbody>\n",
              "    <tr>\n",
              "      <th>0</th>\n",
              "      <td>5.006</td>\n",
              "      <td>3.428</td>\n",
              "      <td>1.462</td>\n",
              "      <td>0.246</td>\n",
              "    </tr>\n",
              "    <tr>\n",
              "      <th>1</th>\n",
              "      <td>5.936</td>\n",
              "      <td>2.770</td>\n",
              "      <td>4.260</td>\n",
              "      <td>1.326</td>\n",
              "    </tr>\n",
              "    <tr>\n",
              "      <th>2</th>\n",
              "      <td>6.588</td>\n",
              "      <td>2.974</td>\n",
              "      <td>5.552</td>\n",
              "      <td>2.026</td>\n",
              "    </tr>\n",
              "  </tbody>\n",
              "</table>\n",
              "</div>\n",
              "      <button class=\"colab-df-convert\" onclick=\"convertToInteractive('df-e906a77b-f54f-4509-8a1a-9a76197a262a')\"\n",
              "              title=\"Convert this dataframe to an interactive table.\"\n",
              "              style=\"display:none;\">\n",
              "        \n",
              "  <svg xmlns=\"http://www.w3.org/2000/svg\" height=\"24px\"viewBox=\"0 0 24 24\"\n",
              "       width=\"24px\">\n",
              "    <path d=\"M0 0h24v24H0V0z\" fill=\"none\"/>\n",
              "    <path d=\"M18.56 5.44l.94 2.06.94-2.06 2.06-.94-2.06-.94-.94-2.06-.94 2.06-2.06.94zm-11 1L8.5 8.5l.94-2.06 2.06-.94-2.06-.94L8.5 2.5l-.94 2.06-2.06.94zm10 10l.94 2.06.94-2.06 2.06-.94-2.06-.94-.94-2.06-.94 2.06-2.06.94z\"/><path d=\"M17.41 7.96l-1.37-1.37c-.4-.4-.92-.59-1.43-.59-.52 0-1.04.2-1.43.59L10.3 9.45l-7.72 7.72c-.78.78-.78 2.05 0 2.83L4 21.41c.39.39.9.59 1.41.59.51 0 1.02-.2 1.41-.59l7.78-7.78 2.81-2.81c.8-.78.8-2.07 0-2.86zM5.41 20L4 18.59l7.72-7.72 1.47 1.35L5.41 20z\"/>\n",
              "  </svg>\n",
              "      </button>\n",
              "      \n",
              "  <style>\n",
              "    .colab-df-container {\n",
              "      display:flex;\n",
              "      flex-wrap:wrap;\n",
              "      gap: 12px;\n",
              "    }\n",
              "\n",
              "    .colab-df-convert {\n",
              "      background-color: #E8F0FE;\n",
              "      border: none;\n",
              "      border-radius: 50%;\n",
              "      cursor: pointer;\n",
              "      display: none;\n",
              "      fill: #1967D2;\n",
              "      height: 32px;\n",
              "      padding: 0 0 0 0;\n",
              "      width: 32px;\n",
              "    }\n",
              "\n",
              "    .colab-df-convert:hover {\n",
              "      background-color: #E2EBFA;\n",
              "      box-shadow: 0px 1px 2px rgba(60, 64, 67, 0.3), 0px 1px 3px 1px rgba(60, 64, 67, 0.15);\n",
              "      fill: #174EA6;\n",
              "    }\n",
              "\n",
              "    [theme=dark] .colab-df-convert {\n",
              "      background-color: #3B4455;\n",
              "      fill: #D2E3FC;\n",
              "    }\n",
              "\n",
              "    [theme=dark] .colab-df-convert:hover {\n",
              "      background-color: #434B5C;\n",
              "      box-shadow: 0px 1px 3px 1px rgba(0, 0, 0, 0.15);\n",
              "      filter: drop-shadow(0px 1px 2px rgba(0, 0, 0, 0.3));\n",
              "      fill: #FFFFFF;\n",
              "    }\n",
              "  </style>\n",
              "\n",
              "      <script>\n",
              "        const buttonEl =\n",
              "          document.querySelector('#df-e906a77b-f54f-4509-8a1a-9a76197a262a button.colab-df-convert');\n",
              "        buttonEl.style.display =\n",
              "          google.colab.kernel.accessAllowed ? 'block' : 'none';\n",
              "\n",
              "        async function convertToInteractive(key) {\n",
              "          const element = document.querySelector('#df-e906a77b-f54f-4509-8a1a-9a76197a262a');\n",
              "          const dataTable =\n",
              "            await google.colab.kernel.invokeFunction('convertToInteractive',\n",
              "                                                     [key], {});\n",
              "          if (!dataTable) return;\n",
              "\n",
              "          const docLinkHtml = 'Like what you see? Visit the ' +\n",
              "            '<a target=\"_blank\" href=https://colab.research.google.com/notebooks/data_table.ipynb>data table notebook</a>'\n",
              "            + ' to learn more about interactive tables.';\n",
              "          element.innerHTML = '';\n",
              "          dataTable['output_type'] = 'display_data';\n",
              "          await google.colab.output.renderOutput(dataTable, element);\n",
              "          const docLink = document.createElement('div');\n",
              "          docLink.innerHTML = docLinkHtml;\n",
              "          element.appendChild(docLink);\n",
              "        }\n",
              "      </script>\n",
              "    </div>\n",
              "  </div>\n",
              "  "
            ]
          },
          "metadata": {},
          "execution_count": 87
        }
      ]
    },
    {
      "cell_type": "code",
      "metadata": {
        "id": "wD8EYCm20Ktu",
        "colab": {
          "base_uri": "https://localhost:8080/"
        },
        "outputId": "d63c6dc4-6b6e-48b2-c759-701bf863dd90"
      },
      "source": [
        "# [2-2] 특정 변수에 대한 품종별 평균 확인\n",
        "feature = 'sepal_width'\n",
        "iris.groupby('target')[feature].mean()"
      ],
      "execution_count": 89,
      "outputs": [
        {
          "output_type": "execute_result",
          "data": {
            "text/plain": [
              "target\n",
              "0    3.428\n",
              "1    2.770\n",
              "2    2.974\n",
              "Name: sepal_width, dtype: float64"
            ]
          },
          "metadata": {},
          "execution_count": 89
        }
      ]
    },
    {
      "cell_type": "code",
      "metadata": {
        "id": "9PYHyDbNuseG"
      },
      "source": [
        "# group 0, 1, 2의 평균의 차이가 있습니다\n",
        "# 평균값의 차이가 실제로 의미가 있는 차이인지 알고 싶다면,\n",
        "# 분산 분석을 통해 통계적 유의성을 알아 볼 수 있습니다."
      ],
      "execution_count": null,
      "outputs": []
    },
    {
      "cell_type": "code",
      "metadata": {
        "colab": {
          "base_uri": "https://localhost:8080/",
          "height": 295
        },
        "id": "74fdfpIvza_-",
        "outputId": "bc7e7980-d0a1-46dd-a6b0-0f2c17b2c618"
      },
      "source": [
        "# [3] 그룹 추출 및 그래프로 확인\n",
        "import matplotlib.pyplot as plt\n",
        "\n",
        "data = [x[1].values for x in iris.groupby('target')[feature]]\n",
        "\n",
        "plt.figure(figsize=(4,3))\n",
        "plt.boxplot(data, labels=['setosa', 'versicolor', 'virginica'])\n",
        "plt.show()"
      ],
      "execution_count": 93,
      "outputs": [
        {
          "output_type": "display_data",
          "data": {
            "text/plain": [
              "<Figure size 400x300 with 1 Axes>"
            ],
            "image/png": "[encoded data removed]"
          },
          "metadata": {}
        }
      ]
    },
    {
      "cell_type": "code",
      "metadata": {
        "id": "hLLOUSB2SBnF",
        "colab": {
          "base_uri": "https://localhost:8080/"
        },
        "outputId": "728097d8-aaeb-46db-a6cd-4d87877f448c"
      },
      "source": [
        "# [4] 정규성 확인 \n",
        "# p-value가 0.05 보다 큰 값일 때 정규성을 갖음\n",
        "from scipy.stats import shapiro\n",
        "data = [x[1].values for x in iris.groupby('target')[feature]]\n",
        "_,pvalue0 = shapiro(data[0])\n",
        "_,pvalue1 = shapiro(data[1])\n",
        "_,pvalue2 = shapiro(data[2])\n",
        "print(f'{pvalue0:.4f} {pvalue1:.4f} {pvalue2:.4f}') # 0.2715 0.3380 0.1809 정규성 만족"
      ],
      "execution_count": 97,
      "outputs": [
        {
          "output_type": "stream",
          "name": "stdout",
          "text": [
            "0.2715 0.3380 0.1809\n"
          ]
        }
      ]
    },
    {
      "cell_type": "code",
      "metadata": {
        "id": "sz3ZGC7huseH",
        "colab": {
          "base_uri": "https://localhost:8080/"
        },
        "outputId": "22908b81-6b88-4e3b-8b1c-045a0fc698b2"
      },
      "source": [
        "# [5] 등분산성 확인\n",
        "# p-value가 0.05 보다 큰 값일 때 등분산성을 갖음\n",
        "from scipy.stats import bartlett\n",
        "# _,pvalue = bartlett(data[0],data[1],data[2])\n",
        "_,pvalue = bartlett(*data)\n",
        "print(f'{pvalue:.4f}')                      # 0.3515 등분산성 만족 \n"
      ],
      "execution_count": 101,
      "outputs": [
        {
          "output_type": "stream",
          "name": "stdout",
          "text": [
            "0.3515\n"
          ]
        }
      ]
    },
    {
      "cell_type": "markdown",
      "metadata": {
        "id": "B9dxFmZ5useH"
      },
      "source": [
        "Scipy.stats 으로 일원분산분석\n",
        "- https://docs.scipy.org/doc/scipy/reference/generated/scipy.stats.f_oneway.html"
      ]
    },
    {
      "cell_type": "code",
      "metadata": {
        "colab": {
          "base_uri": "https://localhost:8080/"
        },
        "id": "jedFIUU3useH",
        "outputId": "a20d635b-51ac-4fe8-d9a8-abc7eaf2a2fc"
      },
      "source": [
        "# [6] 일원분산분석 - 1\n",
        "from scipy.stats import f_oneway\n",
        "F, pvalue = f_oneway(*data)\n",
        "print(f'iris 데이터의 일원분산분석 결과 : F={F:.1f}, p={pvalue:.5f}')  \n",
        "if pvalue < 0.05:\n",
        "    print('P-value 값이 충분히 작음으로 인해 \\\n",
        "그룹의 평균값이 통계적으로 유의미한 차이가 있음')"
      ],
      "execution_count": 105,
      "outputs": [
        {
          "output_type": "stream",
          "name": "stdout",
          "text": [
            "iris 데이터의 일원분산분석 결과 : F=49.2, p=0.00000\n",
            "P-value 값이 충분히 작음으로 인해 그룹의 평균값이 통계적으로 유의미한 차이가 있음\n"
          ]
        }
      ]
    },
    {
      "cell_type": "markdown",
      "metadata": {
        "id": "Kppp46BClxl7"
      },
      "source": [
        "pandas 와 statsmodels 를 사용한 일원분산분석\n",
        "- https://www.statsmodels.org/dev/generated/statsmodels.formula.api.ols.html\n",
        "- https://www.statsmodels.org/stable/generated/statsmodels.stats.anova.anova_lm.html "
      ]
    },
    {
      "cell_type": "markdown",
      "source": [
        "ols (ordinary least squares) 모델 \n",
        "- 구하려는 해와 실제의 오차의 제곱의 합이 최소가 되는 해를 구하는 방법\n",
        "\n",
        "'value ~ C(treatment)' : '종속변수 ~ C(독립변수)'\n",
        "- value : 종속변수\n",
        "- treatment : 범주형(C)인 독립변수\n",
        "- df : degree of freedom\n",
        "- C(treatment)의 df : 그룹의 수 - 1\n",
        "- Residual의 df : 전체 데이터 수 - 그룹의 수"
      ],
      "metadata": {
        "id": "IJbGrpkfZKzY"
      }
    },
    {
      "cell_type": "code",
      "metadata": {
        "id": "eUT6XN6c4jCd",
        "colab": {
          "base_uri": "https://localhost:8080/"
        },
        "outputId": "58a9af5b-610d-4b3c-8739-12c9efc1c821"
      },
      "source": [
        "# [7] 일원분산분석 - 2\n",
        "import statsmodels.api as sm\n",
        "from statsmodels.formula.api import ols\n",
        "\n",
        "data = iris[['target', 'sepal_width']]\n",
        "lm = ols('sepal_width ~ C(target)', data).fit()\n",
        "result = sm.stats.anova_lm(lm)\n",
        "print(result)"
      ],
      "execution_count": 106,
      "outputs": [
        {
          "output_type": "stream",
          "name": "stdout",
          "text": [
            "              df     sum_sq   mean_sq         F        PR(>F)\n",
            "C(target)    2.0  11.344933  5.672467  49.16004  4.492017e-17\n",
            "Residual   147.0  16.962000  0.115388       NaN           NaN\n"
          ]
        }
      ]
    },
    {
      "cell_type": "code",
      "metadata": {
        "id": "dGafJOHkn14e"
      },
      "source": [
        "# C(target)의 PR(=p-value) 값이 0.05 보다 작으므로 그룹의 \n",
        "# 평균값이 통계적으로 유의미하게 차이가 있음"
      ],
      "execution_count": 107,
      "outputs": []
    },
    {
      "cell_type": "code",
      "metadata": {
        "id": "W-6C14168foO"
      },
      "source": [
        "# 구체적으로 어떤 집단이 차이가 있는지 확인하려면 사후분석(post hoc tests)를 해야함\n",
        "# 유의미한 차이가 없는 경우는 사후분석할 필요가 없음"
      ],
      "execution_count": 108,
      "outputs": []
    },
    {
      "cell_type": "markdown",
      "metadata": {
        "id": "mYH2Zb3fXphL"
      },
      "source": [
        "사후검정(Post Hoc Analysis)\n",
        "- ANOVA 분석의 문제 : 다르다는 것은 알지만, 어떤 집단간의 차이가 있는지는 알 수 없음\n",
        "- 사후검정을 통해 어떤 것에 차이가 있는지 찾을 수 있음\n",
        "- post hoc은 라틴어로 \"after this\"의 뜻\n",
        "- 사후검정의 종류\n",
        "    - Tukey's HSD (Honest Significant Difference) test : 정규분포, 등분산, 동일 표본 크기에서 가장 많이 사용\n",
        "    - Duncan’s new multiple range test (MRT) : 정규분포, 등분산, 동일 표본 크기에서 사용, 엄격하지 않은 기준으로 통계적 유의성을 도출하기 쉬움\n",
        "    - Scheffé’s Method : 가장 보수적이고 엄격한 사후검정방식 (동일하지 않은 표본 크기)\n",
        "- 민감도(sensitivity)로 구분 : Scheffe < Tukey < Duncan\n",
        "- Duncan의 방법은 작은 차이에도 차이가 난다라고 하지만, Scheffe의 방법은 확실한 차이가 나야만 비로소 차이가 있다라고 판단함\n"
      ]
    },
    {
      "cell_type": "markdown",
      "metadata": {
        "id": "tEZJ7bPRb80Y"
      },
      "source": [
        "Tukey test\n",
        "- statsmodels의 Tukey test를 하기 위해서는 DataFrame의 형태를 변경해야 함\n",
        "- 하나의 컬럼은 분류할수 있는 이름(label)을 다른 컬럼은 실험값(values)를 가지고 있는 형태이어야 함"
      ]
    },
    {
      "cell_type": "markdown",
      "source": [
        "[참고] scheffe : https://eunholand.tistory.com/96"
      ],
      "metadata": {
        "id": "ji4HUy4ceqZL"
      }
    },
    {
      "cell_type": "code",
      "metadata": {
        "id": "e965NtRWXXG5"
      },
      "source": [
        "# [7] 사후 검정\n",
        "from statsmodels.stats.multicomp import pairwise_tukeyhsd\n"
      ],
      "execution_count": null,
      "outputs": []
    },
    {
      "cell_type": "code",
      "metadata": {
        "id": "8-IuMBmaYvXU"
      },
      "source": [
        "# 결과를 보면 모든 그룹에서 통계적인 유의미성(P-value < 0.05)을 가질 수 있는것을 확인 할 수 있음"
      ],
      "execution_count": null,
      "outputs": []
    },
    {
      "cell_type": "code",
      "source": [
        "# [8] 그림으로 확인하기\n"
      ],
      "metadata": {
        "id": "TVARqg9ECc-Z"
      },
      "execution_count": null,
      "outputs": []
    },
    {
      "cell_type": "code",
      "metadata": {
        "colab": {
          "base_uri": "https://localhost:8080/",
          "height": 390
        },
        "id": "3_FdrKC-Y51E",
        "outputId": "d44986b1-a8c8-4224-edf3-bbddd99010fa"
      },
      "source": [
        "# 통계적 의미 갖지 않는 경우\n",
        "# 그림에서 볼 수 있듯이, 그룹 1.0과 2.0은 서로 겹치지 않는것을 볼 수 있음\n",
        "# 반면,1과 3, 2와 3은 겹치기 때문에 유의미한 차이가 없다고 할 수 있음"
      ],
      "execution_count": null,
      "outputs": [
        {
          "output_type": "display_data",
          "data": {
            "image/png": "[encoded data removed]",
            "text/plain": [
              "<Figure size 720x432 with 1 Axes>"
            ]
          },
          "metadata": {
            "needs_background": "light"
          }
        }
      ]
    },
    {
      "cell_type": "code",
      "metadata": {
        "id": "zCeIUdOiZAK8"
      },
      "source": [
        "##  23년 5월 31일 오전 - 여기까지"
      ],
      "execution_count": null,
      "outputs": []
    },
    {
      "cell_type": "markdown",
      "metadata": {
        "id": "70BQM8ljuseJ"
      },
      "source": [
        "#### 4-3.이원분산분석(Two-way ANOVA)\n",
        "- 독립변인의 수가 두 개일 때 집단 간 차이가 유의한지를 검증하는 데 사용\n",
        "- 상호작용효과(Interaction effect) 즉, 한 변수의 변화가 결과에 미치는 영향이 다른 변수의 수준에 따라 달라지는지를 확인하기 위해 사용됨\n",
        "- scipy.stats이나 statsmodels 라이브러리를 이용"
      ]
    },
    {
      "cell_type": "markdown",
      "metadata": {
        "id": "X_Ecebd0useJ"
      },
      "source": [
        "예제 데이터(altman_12_6) 설명\n",
        "태아의 머리 둘레 측정 데이터입니다. \n",
        "4명의 관측자가 3명의 태아를 대상으로 측정을 했습니다. \n",
        "이를 통해서 초음파로 태아의 머리 둘레측정 데이터가 재현성이 있는지를 조사하였습니다."
      ]
    },
    {
      "cell_type": "code",
      "metadata": {
        "colab": {
          "base_uri": "https://localhost:8080/",
          "height": 206
        },
        "id": "x9ZPrvEwuseK",
        "outputId": "812574dc-c76c-497b-9177-7c90ed55f53a"
      },
      "source": [
        "# [1] 데이터 가져오기\n",
        "import pandas as pd\n",
        "data = pd.read_csv('data_02/altman.csv')\n",
        "data.tail()"
      ],
      "execution_count": null,
      "outputs": [
        {
          "output_type": "execute_result",
          "data": {
            "text/plain": [
              "    head_size  fetus  observer\n",
              "31       12.7    3.0       3.0\n",
              "32       12.5    3.0       3.0\n",
              "33       13.0    3.0       4.0\n",
              "34       12.9    3.0       4.0\n",
              "35       13.8    3.0       4.0"
            ],
            "text/html": [
              "\n",
              "  <div id=\"df-eeaa5fbf-d534-40b2-9ce7-4216905ea120\">\n",
              "    <div class=\"colab-df-container\">\n",
              "      <div>\n",
              "<style scoped>\n",
              "    .dataframe tbody tr th:only-of-type {\n",
              "        vertical-align: middle;\n",
              "    }\n",
              "\n",
              "    .dataframe tbody tr th {\n",
              "        vertical-align: top;\n",
              "    }\n",
              "\n",
              "    .dataframe thead th {\n",
              "        text-align: right;\n",
              "    }\n",
              "</style>\n",
              "<table border=\"1\" class=\"dataframe\">\n",
              "  <thead>\n",
              "    <tr style=\"text-align: right;\">\n",
              "      <th></th>\n",
              "      <th>head_size</th>\n",
              "      <th>fetus</th>\n",
              "      <th>observer</th>\n",
              "    </tr>\n",
              "  </thead>\n",
              "  <tbody>\n",
              "    <tr>\n",
              "      <th>31</th>\n",
              "      <td>12.7</td>\n",
              "      <td>3.0</td>\n",
              "      <td>3.0</td>\n",
              "    </tr>\n",
              "    <tr>\n",
              "      <th>32</th>\n",
              "      <td>12.5</td>\n",
              "      <td>3.0</td>\n",
              "      <td>3.0</td>\n",
              "    </tr>\n",
              "    <tr>\n",
              "      <th>33</th>\n",
              "      <td>13.0</td>\n",
              "      <td>3.0</td>\n",
              "      <td>4.0</td>\n",
              "    </tr>\n",
              "    <tr>\n",
              "      <th>34</th>\n",
              "      <td>12.9</td>\n",
              "      <td>3.0</td>\n",
              "      <td>4.0</td>\n",
              "    </tr>\n",
              "    <tr>\n",
              "      <th>35</th>\n",
              "      <td>13.8</td>\n",
              "      <td>3.0</td>\n",
              "      <td>4.0</td>\n",
              "    </tr>\n",
              "  </tbody>\n",
              "</table>\n",
              "</div>\n",
              "      <button class=\"colab-df-convert\" onclick=\"convertToInteractive('df-eeaa5fbf-d534-40b2-9ce7-4216905ea120')\"\n",
              "              title=\"Convert this dataframe to an interactive table.\"\n",
              "              style=\"display:none;\">\n",
              "        \n",
              "  <svg xmlns=\"http://www.w3.org/2000/svg\" height=\"24px\"viewBox=\"0 0 24 24\"\n",
              "       width=\"24px\">\n",
              "    <path d=\"M0 0h24v24H0V0z\" fill=\"none\"/>\n",
              "    <path d=\"M18.56 5.44l.94 2.06.94-2.06 2.06-.94-2.06-.94-.94-2.06-.94 2.06-2.06.94zm-11 1L8.5 8.5l.94-2.06 2.06-.94-2.06-.94L8.5 2.5l-.94 2.06-2.06.94zm10 10l.94 2.06.94-2.06 2.06-.94-2.06-.94-.94-2.06-.94 2.06-2.06.94z\"/><path d=\"M17.41 7.96l-1.37-1.37c-.4-.4-.92-.59-1.43-.59-.52 0-1.04.2-1.43.59L10.3 9.45l-7.72 7.72c-.78.78-.78 2.05 0 2.83L4 21.41c.39.39.9.59 1.41.59.51 0 1.02-.2 1.41-.59l7.78-7.78 2.81-2.81c.8-.78.8-2.07 0-2.86zM5.41 20L4 18.59l7.72-7.72 1.47 1.35L5.41 20z\"/>\n",
              "  </svg>\n",
              "      </button>\n",
              "      \n",
              "  <style>\n",
              "    .colab-df-container {\n",
              "      display:flex;\n",
              "      flex-wrap:wrap;\n",
              "      gap: 12px;\n",
              "    }\n",
              "\n",
              "    .colab-df-convert {\n",
              "      background-color: #E8F0FE;\n",
              "      border: none;\n",
              "      border-radius: 50%;\n",
              "      cursor: pointer;\n",
              "      display: none;\n",
              "      fill: #1967D2;\n",
              "      height: 32px;\n",
              "      padding: 0 0 0 0;\n",
              "      width: 32px;\n",
              "    }\n",
              "\n",
              "    .colab-df-convert:hover {\n",
              "      background-color: #E2EBFA;\n",
              "      box-shadow: 0px 1px 2px rgba(60, 64, 67, 0.3), 0px 1px 3px 1px rgba(60, 64, 67, 0.15);\n",
              "      fill: #174EA6;\n",
              "    }\n",
              "\n",
              "    [theme=dark] .colab-df-convert {\n",
              "      background-color: #3B4455;\n",
              "      fill: #D2E3FC;\n",
              "    }\n",
              "\n",
              "    [theme=dark] .colab-df-convert:hover {\n",
              "      background-color: #434B5C;\n",
              "      box-shadow: 0px 1px 3px 1px rgba(0, 0, 0, 0.15);\n",
              "      filter: drop-shadow(0px 1px 2px rgba(0, 0, 0, 0.3));\n",
              "      fill: #FFFFFF;\n",
              "    }\n",
              "  </style>\n",
              "\n",
              "      <script>\n",
              "        const buttonEl =\n",
              "          document.querySelector('#df-eeaa5fbf-d534-40b2-9ce7-4216905ea120 button.colab-df-convert');\n",
              "        buttonEl.style.display =\n",
              "          google.colab.kernel.accessAllowed ? 'block' : 'none';\n",
              "\n",
              "        async function convertToInteractive(key) {\n",
              "          const element = document.querySelector('#df-eeaa5fbf-d534-40b2-9ce7-4216905ea120');\n",
              "          const dataTable =\n",
              "            await google.colab.kernel.invokeFunction('convertToInteractive',\n",
              "                                                     [key], {});\n",
              "          if (!dataTable) return;\n",
              "\n",
              "          const docLinkHtml = 'Like what you see? Visit the ' +\n",
              "            '<a target=\"_blank\" href=https://colab.research.google.com/notebooks/data_table.ipynb>data table notebook</a>'\n",
              "            + ' to learn more about interactive tables.';\n",
              "          element.innerHTML = '';\n",
              "          dataTable['output_type'] = 'display_data';\n",
              "          await google.colab.output.renderOutput(dataTable, element);\n",
              "          const docLink = document.createElement('div');\n",
              "          docLink.innerHTML = docLinkHtml;\n",
              "          element.appendChild(docLink);\n",
              "        }\n",
              "      </script>\n",
              "    </div>\n",
              "  </div>\n",
              "  "
            ]
          },
          "metadata": {},
          "execution_count": 40
        }
      ]
    },
    {
      "cell_type": "code",
      "metadata": {
        "colab": {
          "base_uri": "https://localhost:8080/",
          "height": 478
        },
        "id": "V8zmnyd-Zd2r",
        "outputId": "ea87d0f8-1128-4240-e550-ab0c1bc2d701"
      },
      "source": [
        "# [2] 태아별 머리 둘레 plot 만들기\n",
        "import matplotlib.pyplot as plt\n",
        "data.boxplot(column='head_size', by='fetus' , grid=True)\n",
        "plt.title('')\n",
        "plt.show()"
      ],
      "execution_count": null,
      "outputs": [
        {
          "output_type": "display_data",
          "data": {
            "text/plain": [
              "<Figure size 640x480 with 1 Axes>"
            ],
            "image/png": "[encoded data removed]"
          },
          "metadata": {}
        }
      ]
    },
    {
      "cell_type": "code",
      "metadata": {
        "colab": {
          "base_uri": "https://localhost:8080/"
        },
        "id": "d5S4vrklZSHS",
        "outputId": "f6178016-3c43-41c1-f158-3f16369078dc"
      },
      "source": [
        "# [3] 태아별 머리 둘레 평균을 구해봅니다\n",
        "data.groupby('fetus')['head_size'].mean()"
      ],
      "execution_count": null,
      "outputs": [
        {
          "output_type": "execute_result",
          "data": {
            "text/plain": [
              "fetus\n",
              "1.0    13.991667\n",
              "2.0    19.691667\n",
              "3.0    12.825000\n",
              "Name: head_size, dtype: float64"
            ]
          },
          "metadata": {},
          "execution_count": 43
        }
      ]
    },
    {
      "cell_type": "code",
      "metadata": {
        "id": "GkHaYxzKuseK"
      },
      "source": [
        "# 그림에서 태아(fetus) 3명의 머리 둘레는 차이가 있어 보입니다.\n",
        "# 관측자와 태아에 상호작용 효과 여부를 Two way ANOVA를 통해 알아 보겠습니다"
      ],
      "execution_count": null,
      "outputs": []
    },
    {
      "cell_type": "code",
      "metadata": {
        "id": "rl1xhAS3dg1-"
      },
      "source": [
        "# 귀무가설 : 관측자별 머리둘레 평균은 동일하다\n",
        "# 대립가설 : 관측자별 머리둘레 평균은 동일하지 않다 (차이가 있다)\n",
        "# 귀무가설 : 태아별 머리둘레 평균은 동일하다\n",
        "# 대립가설 : 태아별 머리둘레 평균은 동일하지 않다 (차이가 있다)\n",
        "# 귀무가설 : 머리둘레평균에 대해 측정자와 태아에 상호작용 효과가 없다\n",
        "# 대립가설 : 머리둘레평균에 대해 측정자와 태아에 상호작용 효과가 있다"
      ],
      "execution_count": null,
      "outputs": []
    },
    {
      "cell_type": "code",
      "metadata": {
        "id": "7q_-fTFSuseK"
      },
      "source": [
        "from statsmodels.formula.api import ols\n",
        "from statsmodels.stats.anova import anova_lm\n",
        "\n"
      ],
      "execution_count": null,
      "outputs": []
    },
    {
      "cell_type": "code",
      "metadata": {
        "id": "mOXIDzX5useL"
      },
      "source": [
        "# C(fetus):C(observer)의 P-value 가 0.05 이상 입니다, \n",
        "# 따라서 귀무가설을 기각할 수 없고. \n",
        "# 머리둘레평균에 대해 측정자와 태아에 상호작용 효과가 없다\n"
      ],
      "execution_count": null,
      "outputs": []
    }
  ]
}