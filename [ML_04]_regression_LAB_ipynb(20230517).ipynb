{
  "nbformat": 4,
  "nbformat_minor": 0,
  "metadata": {
    "colab": {
      "provenance": [],
      "collapsed_sections": [
        "nOeUlKKLLxRN",
        "VG7KimE0VTzs",
        "tzWVPdKehwLi",
        "tIUm-VR0wy9O",
        "TLifMZixB8Bp",
        "xzQnxTtRzEOt",
        "B6XGaNVd0mPO",
        "36fJ58Dx8xD9",
        "Pz-fldKF9ECT"
      ],
      "include_colab_link": true
    },
    "kernelspec": {
      "name": "python3",
      "display_name": "Python 3"
    },
    "language_info": {
      "name": "python"
    }
  },
  "cells": [
    {
      "cell_type": "markdown",
      "metadata": {
        "id": "view-in-github",
        "colab_type": "text"
      },
      "source": [
        "<a href=\"https://colab.research.google.com/github/Leo2park/new/blob/main/%5BML_04%5D_regression_LAB_ipynb(20230517).ipynb\" target=\"_parent\"><img src=\"https://colab.research.google.com/assets/colab-badge.svg\" alt=\"Open In Colab\"/></a>"
      ]
    },
    {
      "cell_type": "markdown",
      "source": [
        "## 0.회귀 분석의 종류"
      ],
      "metadata": {
        "id": "nOeUlKKLLxRN"
      }
    },
    {
      "cell_type": "code",
      "source": [
        "# target(Y)\n",
        "# 분류 분석 : 범주형, 혈액형(A, B, O, AB), 성별(F, M), 숫자(0, 1, ~ 9)\n",
        "# 회귀 분석 : 연속형, 판매량(0, 1, 2, 3, ... 100, 101, 102..)\n",
        "#    주어진 값보다 더 큰값, 작은값, 사잇값 등이 있을 수 있는 것"
      ],
      "metadata": {
        "id": "5r0BFGGqvwLE"
      },
      "execution_count": 1,
      "outputs": []
    },
    {
      "cell_type": "markdown",
      "source": [
        "### Simple Linear Regression\n",
        "- 단순 선형 회귀\n",
        "- $y = \\beta_{0} + \\beta_{1} x + \\epsilon$\n",
        "- 하나의 X 값을 가지고 Y를 예측하는 것"
      ],
      "metadata": {
        "id": "0SmBkBDbL031"
      }
    },
    {
      "cell_type": "markdown",
      "source": [
        "### Multiple Linear Regression\n",
        "- 다중 회귀\n",
        "- $y = \\beta_{0} + \\beta_{1} x_{1} + \\beta_{2} x_{2} + ...+ \\epsilon$\n",
        "- 여러 개의 X 값을 가지고 Y를 예측하는 것"
      ],
      "metadata": {
        "id": "R5PVzyAeL6un"
      }
    },
    {
      "cell_type": "markdown",
      "source": [
        "### Polynomial Regression\n",
        "- 다항 회귀\n",
        "- 비선형 데이터 집합을 모델링 할 때 사용\n",
        "- 곡선의 다항식 선을 사용함\n",
        "- 과대적합이 나타나기 쉬움\n",
        "- $y = \\beta_{0} + \\beta_{1} x_{1} + \\beta_{2} x_{2} + \\beta_{3} x_{1}^{2} + \\beta_{4} x_{2}^{2} ...+ \\epsilon$\n",
        "- X를 다항식으로 변경하여 모델링의 데이터로 사용함"
      ],
      "metadata": {
        "id": "9CZ9M41nL-5I"
      }
    },
    {
      "cell_type": "markdown",
      "source": [
        "### Ridge, Lasso Regression\n",
        "- 독립변수들 간에 높은 상관 관계가 있는 경우 규제화 (regularization)를 적용해 모델의 복잡도를 줄임\n",
        "- Ridge : 계수값을 0 에 가깝게 만들지만 0 이 되지 않음\n",
        "- Lasso : 계수 값을 0 이 되게 함으로써 그에 해당하는 특성을 제외"
      ],
      "metadata": {
        "id": "zx-dq65DUIfs"
      }
    },
    {
      "cell_type": "markdown",
      "metadata": {
        "id": "VG7KimE0VTzs"
      },
      "source": [
        "## 1.데이터 만들기 "
      ]
    },
    {
      "cell_type": "markdown",
      "source": [
        "### 1-1.함수 만들기"
      ],
      "metadata": {
        "id": "B_hB6UnY-k1S"
      }
    },
    {
      "cell_type": "code",
      "source": [
        "# X : 키, 몸무게 \n",
        "# Y : BMI 예측"
      ],
      "metadata": {
        "id": "j6x5Ww3j7q7h"
      },
      "execution_count": 2,
      "outputs": []
    },
    {
      "cell_type": "code",
      "metadata": {
        "id": "CzNm04uTVTDP"
      },
      "source": [
        "import pandas as pd\n",
        "import numpy as np"
      ],
      "execution_count": 3,
      "outputs": []
    },
    {
      "cell_type": "code",
      "source": [
        "# https://rfriend.tistory.com/284\n",
        "# https://rfriend.tistory.com/352\n",
        "# https://namu.wiki/w/%ED%82%A4(%EC%8B%A0%EC%B2%B4)\n",
        "# https://123dok.co/document/eqodvrmz-%EC%A7%80%EC%97%AD%EC%A0%81-%EA%B1%B4%EA%B0%95%EB%B6%88%ED%8F%89%EB%93%B1%EA%B3%BC-%EA%B0%9C%EC%9D%B8-%EB%B0%8F-%EC%A7%80%EC%97%AD%EC%88%98%EC%A4%80%EC%9D%98-%EA%B1%B4%EA%B0%95%EA%B2%B0%EC%A0%95%EC%9A%94%EC%9D%B8.html"
      ],
      "metadata": {
        "id": "U2mbeD62Nwqa"
      },
      "execution_count": 4,
      "outputs": []
    },
    {
      "cell_type": "code",
      "source": [
        "# bmi = 몸무게(kg) ÷ (신장(m) × 신장(m))\n",
        "# 한국 표준 데이터 생성\n",
        "# seedno : 랜덤 수 발생 관련\n",
        "# size : sample의 개수\n",
        "# startno : ID의 시작 번호\n",
        "# outlier : 이상치 비율, 0.01 => 100개 정상데이터 1개 이상치\n",
        "def make_sample(seedno, size, startno=0, outlier=0):\n",
        "    np.random.seed(seedno)\n",
        "    outlier_len = int(size * outlier)\n",
        "    sizeh = size // 2\n",
        "    hm = np.random.normal(loc=175, scale=5.3, size = sizeh+1 if size % 2 else sizeh).round(1)\n",
        "    hw = np.random.normal(loc=162, scale=5.2, size = sizeh).round(1)\n",
        "    h = np.concatenate([hm, hw])\n",
        "    h /= 100  # 단위를 m로 변경\n",
        "    bmi = np.random.normal(loc=23, scale=4, size=len(h))\n",
        "    w = (h * h * bmi).round(1)\n",
        "    bmi = (w / (h*h)).round(2)\n",
        "    h *= 100  # 단위를 cm로 변경\n",
        "    data = np.column_stack([h, w, bmi])\n",
        "    \n",
        "    # 이상치 데이터 추가\n",
        "    if outlier_len != 0 :\n",
        "        data_outlier = make_outlier(seedno, outlier_len)\n",
        "        print(data_outlier, data_outlier.shape, sep='\\n')\n",
        "        data = np.concatenate([data, data_outlier])\n",
        "    \n",
        "    # ID를 포함한 DataFrame 생성 및 반환\n",
        "    data = pd.DataFrame(data, columns = ['height','weight', 'BMI'])\n",
        "    data = data.sample(frac=1)\n",
        "    data.insert(0, 'ID', np.arange(startno, startno + len(data),dtype='int'))\n",
        "    return data\n"
      ],
      "metadata": {
        "id": "xMzzkc_YNZyJ"
      },
      "execution_count": 5,
      "outputs": []
    },
    {
      "cell_type": "code",
      "source": [
        "1# bmi = #몸무게(kg) ÷ (신장(m) × 신장(m))\n",
        "# 키, 몸무게가 매우 작거나 큰 데이터 생성\n",
        "# seedno : 랜덤 수 발생 관련\n",
        "# size : sample의 개수\n",
        "def make_outlier(seedno, size):\n",
        "    np.random.seed(seedno)\n",
        "    sizeh = size//2\n",
        "    hlow = np.random.normal(loc=120, scale = 5.3, size = sizeh+1 if size % 2 else sizeh).round(1)\n",
        "    hhigh = np.random.normal(loc=220, scale = 5.2, size = sizeh).round(1)\n",
        "    h = np.concatenate([hlow,hhigh])\n",
        "    h /= 100\n",
        "    bmi = np.random.normal(loc=23, scale=10, size=len(h))\n",
        "    w = (h * h * bmi).round(1)\n",
        "    bmi = (w / (h*h)).round(2)\n",
        "    h *= 100\n",
        "    return np.column_stack([h,w,bmi])"
      ],
      "metadata": {
        "id": "7nc4nEEulMpA"
      },
      "execution_count": 6,
      "outputs": []
    },
    {
      "cell_type": "code",
      "source": [
        "df = make_outlier(1234,5)\n",
        "df"
      ],
      "metadata": {
        "colab": {
          "base_uri": "https://localhost:8080/"
        },
        "id": "3Vdq-x-ba3Ca",
        "outputId": "0d8662ae-c78f-47c7-88d5-be24be672195"
      },
      "execution_count": 7,
      "outputs": [
        {
          "output_type": "execute_result",
          "data": {
            "text/plain": [
              "array([[122.5 ,  47.8 ,  31.85],\n",
              "       [113.7 ,  40.8 ,  31.56],\n",
              "       [127.6 ,  27.1 ,  16.64],\n",
              "       [218.4 , 110.5 ,  23.17],\n",
              "       [216.3 ,   2.7 ,   0.58]])"
            ]
          },
          "metadata": {},
          "execution_count": 7
        }
      ]
    },
    {
      "cell_type": "code",
      "source": [
        "# make_sample 사용연습\n",
        "df = make_sample(1234, 100, outlier = 0.05)\n",
        "df.shape\n",
        "# df.head(5)\n",
        "# df.describe()"
      ],
      "metadata": {
        "id": "8SsqBLlNXFbO",
        "colab": {
          "base_uri": "https://localhost:8080/"
        },
        "outputId": "bfcb7e74-9970-4a34-9e04-f327e19ea3f6"
      },
      "execution_count": 8,
      "outputs": [
        {
          "output_type": "stream",
          "name": "stdout",
          "text": [
            "[[122.5   47.8   31.85]\n",
            " [113.7   40.8   31.56]\n",
            " [127.6   27.1   16.64]\n",
            " [218.4  110.5   23.17]\n",
            " [216.3    2.7    0.58]]\n",
            "(5, 3)\n"
          ]
        },
        {
          "output_type": "execute_result",
          "data": {
            "text/plain": [
              "(105, 4)"
            ]
          },
          "metadata": {},
          "execution_count": 8
        }
      ]
    },
    {
      "cell_type": "markdown",
      "source": [
        "### 1-2.train, test 데이터"
      ],
      "metadata": {
        "id": "ButSv7wB-pdu"
      }
    },
    {
      "cell_type": "code",
      "source": [
        "# [1] train, test 데이터 생성 및 파일로 저장하기\n",
        "train = make_sample(1234, 100)\n",
        "test = make_sample(1,100, len(train))\n",
        "Xfeature = ['ID','height','weight']\n",
        "Yfeature = ['ID','BMI']\n",
        "Xtrain = train[Xfeature]\n",
        "Ytrain = train[Yfeature]\n",
        "Xtest = test[Xfeature]\n",
        "Ytest = test[Yfeature] # 실제 시험에서는 주지 않음\n",
        "Xtrain.to_csv('X_train.csv',index = False)\n",
        "Ytrain.to_csv('Y_train.csv',index = False)\n",
        "Xtest.to_csv('X_test.csv',index = False)\n",
        "Ytest.to_csv('Y_test.csv',index = False) # 실제 시험에서는 주지 않음"
      ],
      "metadata": {
        "id": "E7UyUiz_awlU"
      },
      "execution_count": 9,
      "outputs": []
    },
    {
      "cell_type": "code",
      "source": [
        "# [2] 각 데이터를 파일에서 읽어오기\n",
        "# X_use, X_submission, Y, Y_hidden 이름 사용\n",
        "X_use = pd.read_csv('X_train.csv')\n",
        "X_submission = pd.read_csv('X_test.csv')\n",
        "Y = pd.read_csv('Y_train.csv')\n",
        "Y_hidden = pd.read_csv('Y_test.csv')"
      ],
      "metadata": {
        "id": "qlhzi2locSr2"
      },
      "execution_count": 10,
      "outputs": []
    },
    {
      "cell_type": "code",
      "source": [
        "# X_use, Y를 합쳐서 dfXY 생성\n",
        "dfXY = pd.merge(X_use, Y)\n",
        "dfXY.shape\n"
      ],
      "metadata": {
        "id": "1q3oe7ET_gNE",
        "colab": {
          "base_uri": "https://localhost:8080/"
        },
        "outputId": "014fc192-5138-4f03-e9a1-463766a52274"
      },
      "execution_count": 11,
      "outputs": [
        {
          "output_type": "execute_result",
          "data": {
            "text/plain": [
              "(100, 4)"
            ]
          },
          "metadata": {},
          "execution_count": 11
        }
      ]
    },
    {
      "cell_type": "code",
      "source": [
        "# dfXY의 상관 관계 확인\n",
        "dfXY.corr()"
      ],
      "metadata": {
        "id": "YvEyrP4a_tXX",
        "colab": {
          "base_uri": "https://localhost:8080/",
          "height": 0
        },
        "outputId": "b24a071a-efe0-444b-a4df-d12c22ad25ce"
      },
      "execution_count": 12,
      "outputs": [
        {
          "output_type": "execute_result",
          "data": {
            "text/plain": [
              "              ID    height    weight       BMI\n",
              "ID      1.000000  0.140693 -0.022971 -0.108252\n",
              "height  0.140693  1.000000  0.604015  0.178859\n",
              "weight -0.022971  0.604015  1.000000  0.887726\n",
              "BMI    -0.108252  0.178859  0.887726  1.000000"
            ],
            "text/html": [
              "\n",
              "  <div id=\"df-ed7ff0ad-7269-4ba6-9a23-d049d088efc0\">\n",
              "    <div class=\"colab-df-container\">\n",
              "      <div>\n",
              "<style scoped>\n",
              "    .dataframe tbody tr th:only-of-type {\n",
              "        vertical-align: middle;\n",
              "    }\n",
              "\n",
              "    .dataframe tbody tr th {\n",
              "        vertical-align: top;\n",
              "    }\n",
              "\n",
              "    .dataframe thead th {\n",
              "        text-align: right;\n",
              "    }\n",
              "</style>\n",
              "<table border=\"1\" class=\"dataframe\">\n",
              "  <thead>\n",
              "    <tr style=\"text-align: right;\">\n",
              "      <th></th>\n",
              "      <th>ID</th>\n",
              "      <th>height</th>\n",
              "      <th>weight</th>\n",
              "      <th>BMI</th>\n",
              "    </tr>\n",
              "  </thead>\n",
              "  <tbody>\n",
              "    <tr>\n",
              "      <th>ID</th>\n",
              "      <td>1.000000</td>\n",
              "      <td>0.140693</td>\n",
              "      <td>-0.022971</td>\n",
              "      <td>-0.108252</td>\n",
              "    </tr>\n",
              "    <tr>\n",
              "      <th>height</th>\n",
              "      <td>0.140693</td>\n",
              "      <td>1.000000</td>\n",
              "      <td>0.604015</td>\n",
              "      <td>0.178859</td>\n",
              "    </tr>\n",
              "    <tr>\n",
              "      <th>weight</th>\n",
              "      <td>-0.022971</td>\n",
              "      <td>0.604015</td>\n",
              "      <td>1.000000</td>\n",
              "      <td>0.887726</td>\n",
              "    </tr>\n",
              "    <tr>\n",
              "      <th>BMI</th>\n",
              "      <td>-0.108252</td>\n",
              "      <td>0.178859</td>\n",
              "      <td>0.887726</td>\n",
              "      <td>1.000000</td>\n",
              "    </tr>\n",
              "  </tbody>\n",
              "</table>\n",
              "</div>\n",
              "      <button class=\"colab-df-convert\" onclick=\"convertToInteractive('df-ed7ff0ad-7269-4ba6-9a23-d049d088efc0')\"\n",
              "              title=\"Convert this dataframe to an interactive table.\"\n",
              "              style=\"display:none;\">\n",
              "        \n",
              "  <svg xmlns=\"http://www.w3.org/2000/svg\" height=\"24px\"viewBox=\"0 0 24 24\"\n",
              "       width=\"24px\">\n",
              "    <path d=\"M0 0h24v24H0V0z\" fill=\"none\"/>\n",
              "    <path d=\"M18.56 5.44l.94 2.06.94-2.06 2.06-.94-2.06-.94-.94-2.06-.94 2.06-2.06.94zm-11 1L8.5 8.5l.94-2.06 2.06-.94-2.06-.94L8.5 2.5l-.94 2.06-2.06.94zm10 10l.94 2.06.94-2.06 2.06-.94-2.06-.94-.94-2.06-.94 2.06-2.06.94z\"/><path d=\"M17.41 7.96l-1.37-1.37c-.4-.4-.92-.59-1.43-.59-.52 0-1.04.2-1.43.59L10.3 9.45l-7.72 7.72c-.78.78-.78 2.05 0 2.83L4 21.41c.39.39.9.59 1.41.59.51 0 1.02-.2 1.41-.59l7.78-7.78 2.81-2.81c.8-.78.8-2.07 0-2.86zM5.41 20L4 18.59l7.72-7.72 1.47 1.35L5.41 20z\"/>\n",
              "  </svg>\n",
              "      </button>\n",
              "      \n",
              "  <style>\n",
              "    .colab-df-container {\n",
              "      display:flex;\n",
              "      flex-wrap:wrap;\n",
              "      gap: 12px;\n",
              "    }\n",
              "\n",
              "    .colab-df-convert {\n",
              "      background-color: #E8F0FE;\n",
              "      border: none;\n",
              "      border-radius: 50%;\n",
              "      cursor: pointer;\n",
              "      display: none;\n",
              "      fill: #1967D2;\n",
              "      height: 32px;\n",
              "      padding: 0 0 0 0;\n",
              "      width: 32px;\n",
              "    }\n",
              "\n",
              "    .colab-df-convert:hover {\n",
              "      background-color: #E2EBFA;\n",
              "      box-shadow: 0px 1px 2px rgba(60, 64, 67, 0.3), 0px 1px 3px 1px rgba(60, 64, 67, 0.15);\n",
              "      fill: #174EA6;\n",
              "    }\n",
              "\n",
              "    [theme=dark] .colab-df-convert {\n",
              "      background-color: #3B4455;\n",
              "      fill: #D2E3FC;\n",
              "    }\n",
              "\n",
              "    [theme=dark] .colab-df-convert:hover {\n",
              "      background-color: #434B5C;\n",
              "      box-shadow: 0px 1px 3px 1px rgba(0, 0, 0, 0.15);\n",
              "      filter: drop-shadow(0px 1px 2px rgba(0, 0, 0, 0.3));\n",
              "      fill: #FFFFFF;\n",
              "    }\n",
              "  </style>\n",
              "\n",
              "      <script>\n",
              "        const buttonEl =\n",
              "          document.querySelector('#df-ed7ff0ad-7269-4ba6-9a23-d049d088efc0 button.colab-df-convert');\n",
              "        buttonEl.style.display =\n",
              "          google.colab.kernel.accessAllowed ? 'block' : 'none';\n",
              "\n",
              "        async function convertToInteractive(key) {\n",
              "          const element = document.querySelector('#df-ed7ff0ad-7269-4ba6-9a23-d049d088efc0');\n",
              "          const dataTable =\n",
              "            await google.colab.kernel.invokeFunction('convertToInteractive',\n",
              "                                                     [key], {});\n",
              "          if (!dataTable) return;\n",
              "\n",
              "          const docLinkHtml = 'Like what you see? Visit the ' +\n",
              "            '<a target=\"_blank\" href=https://colab.research.google.com/notebooks/data_table.ipynb>data table notebook</a>'\n",
              "            + ' to learn more about interactive tables.';\n",
              "          element.innerHTML = '';\n",
              "          dataTable['output_type'] = 'display_data';\n",
              "          await google.colab.output.renderOutput(dataTable, element);\n",
              "          const docLink = document.createElement('div');\n",
              "          docLink.innerHTML = docLinkHtml;\n",
              "          element.appendChild(docLink);\n",
              "        }\n",
              "      </script>\n",
              "    </div>\n",
              "  </div>\n",
              "  "
            ]
          },
          "metadata": {},
          "execution_count": 12
        }
      ]
    },
    {
      "cell_type": "markdown",
      "source": [
        "## 2.모델링, 성능평가"
      ],
      "metadata": {
        "id": "tzWVPdKehwLi"
      }
    },
    {
      "cell_type": "markdown",
      "source": [
        "### 2-1.모델링 함수"
      ],
      "metadata": {
        "id": "4G-DKs8-hwLi"
      }
    },
    {
      "cell_type": "code",
      "source": [
        "from sklearn.preprocessing import MinMaxScaler\n",
        "from sklearn.model_selection import train_test_split\n",
        "from sklearn.linear_model import LinearRegression"
      ],
      "metadata": {
        "id": "jFAFndlYhwLi"
      },
      "execution_count": 13,
      "outputs": []
    },
    {
      "cell_type": "code",
      "source": [
        "# [1] 데이터를 분리하고, 학습 한 뒤, R2_score를 구해 출력\n",
        "def Model_Train(model, XF, YF, scale=False):\n",
        "    # 7:3 분리, random_state=321  (주의: stratify사용 안함 -> 분류 모델에서만 사용)\n",
        "    if scale:\n",
        "        XF = MinMaxScaler().fit_transform(XF)\n",
        "    xtrain, xtest, ytrain, ytest = train_test_split(XF, YF, \n",
        "                                                    test_size=0.3, \n",
        "                                                    random_state=321)\n",
        "    model.fit(xtrain, ytrain)\n",
        "    A = model.score(xtrain, ytrain)\n",
        "    B = model.score(xtest, ytest)\n",
        "    print(f'{A:.4f} {B:.4f}')\n",
        "    return model"
      ],
      "metadata": {
        "id": "BdqhZ2uLhwLj"
      },
      "execution_count": 14,
      "outputs": []
    },
    {
      "cell_type": "markdown",
      "source": [
        "### 2-2. Multiple Linear Regression\n",
        "- $y = \\beta_{0} + \\beta_{1} x_{1} + \\beta_{2} x_{2} + ...+ \\epsilon$\n",
        "- 오차(잔차)가 가장 적게 발생하는 계수, 절편 찾기"
      ],
      "metadata": {
        "id": "KCYQEzcbhwLj"
      }
    },
    {
      "cell_type": "code",
      "source": [
        "# [2] outlier가 포함되지 않은 경우, LinearRegression 모델 사용  \n",
        "Xnormal = X_use[['height','weight']]\n",
        "Ynormal = Y['BMI']\n",
        "model = LinearRegression()\n",
        "Model_Train(model, Xnormal, Ynormal)"
      ],
      "metadata": {
        "id": "jom6slz9hwLj",
        "colab": {
          "base_uri": "https://localhost:8080/",
          "height": 0
        },
        "outputId": "f0146973-0778-4768-c188-32a2dccd8d50"
      },
      "execution_count": 15,
      "outputs": [
        {
          "output_type": "stream",
          "name": "stdout",
          "text": [
            "0.9931 0.9625\n"
          ]
        },
        {
          "output_type": "execute_result",
          "data": {
            "text/plain": [
              "LinearRegression()"
            ],
            "text/html": [
              "<style>#sk-container-id-1 {color: black;background-color: white;}#sk-container-id-1 pre{padding: 0;}#sk-container-id-1 div.sk-toggleable {background-color: white;}#sk-container-id-1 label.sk-toggleable__label {cursor: pointer;display: block;width: 100%;margin-bottom: 0;padding: 0.3em;box-sizing: border-box;text-align: center;}#sk-container-id-1 label.sk-toggleable__label-arrow:before {content: \"▸\";float: left;margin-right: 0.25em;color: #696969;}#sk-container-id-1 label.sk-toggleable__label-arrow:hover:before {color: black;}#sk-container-id-1 div.sk-estimator:hover label.sk-toggleable__label-arrow:before {color: black;}#sk-container-id-1 div.sk-toggleable__content {max-height: 0;max-width: 0;overflow: hidden;text-align: left;background-color: #f0f8ff;}#sk-container-id-1 div.sk-toggleable__content pre {margin: 0.2em;color: black;border-radius: 0.25em;background-color: #f0f8ff;}#sk-container-id-1 input.sk-toggleable__control:checked~div.sk-toggleable__content {max-height: 200px;max-width: 100%;overflow: auto;}#sk-container-id-1 input.sk-toggleable__control:checked~label.sk-toggleable__label-arrow:before {content: \"▾\";}#sk-container-id-1 div.sk-estimator input.sk-toggleable__control:checked~label.sk-toggleable__label {background-color: #d4ebff;}#sk-container-id-1 div.sk-label input.sk-toggleable__control:checked~label.sk-toggleable__label {background-color: #d4ebff;}#sk-container-id-1 input.sk-hidden--visually {border: 0;clip: rect(1px 1px 1px 1px);clip: rect(1px, 1px, 1px, 1px);height: 1px;margin: -1px;overflow: hidden;padding: 0;position: absolute;width: 1px;}#sk-container-id-1 div.sk-estimator {font-family: monospace;background-color: #f0f8ff;border: 1px dotted black;border-radius: 0.25em;box-sizing: border-box;margin-bottom: 0.5em;}#sk-container-id-1 div.sk-estimator:hover {background-color: #d4ebff;}#sk-container-id-1 div.sk-parallel-item::after {content: \"\";width: 100%;border-bottom: 1px solid gray;flex-grow: 1;}#sk-container-id-1 div.sk-label:hover label.sk-toggleable__label {background-color: #d4ebff;}#sk-container-id-1 div.sk-serial::before {content: \"\";position: absolute;border-left: 1px solid gray;box-sizing: border-box;top: 0;bottom: 0;left: 50%;z-index: 0;}#sk-container-id-1 div.sk-serial {display: flex;flex-direction: column;align-items: center;background-color: white;padding-right: 0.2em;padding-left: 0.2em;position: relative;}#sk-container-id-1 div.sk-item {position: relative;z-index: 1;}#sk-container-id-1 div.sk-parallel {display: flex;align-items: stretch;justify-content: center;background-color: white;position: relative;}#sk-container-id-1 div.sk-item::before, #sk-container-id-1 div.sk-parallel-item::before {content: \"\";position: absolute;border-left: 1px solid gray;box-sizing: border-box;top: 0;bottom: 0;left: 50%;z-index: -1;}#sk-container-id-1 div.sk-parallel-item {display: flex;flex-direction: column;z-index: 1;position: relative;background-color: white;}#sk-container-id-1 div.sk-parallel-item:first-child::after {align-self: flex-end;width: 50%;}#sk-container-id-1 div.sk-parallel-item:last-child::after {align-self: flex-start;width: 50%;}#sk-container-id-1 div.sk-parallel-item:only-child::after {width: 0;}#sk-container-id-1 div.sk-dashed-wrapped {border: 1px dashed gray;margin: 0 0.4em 0.5em 0.4em;box-sizing: border-box;padding-bottom: 0.4em;background-color: white;}#sk-container-id-1 div.sk-label label {font-family: monospace;font-weight: bold;display: inline-block;line-height: 1.2em;}#sk-container-id-1 div.sk-label-container {text-align: center;}#sk-container-id-1 div.sk-container {/* jupyter's `normalize.less` sets `[hidden] { display: none; }` but bootstrap.min.css set `[hidden] { display: none !important; }` so we also need the `!important` here to be able to override the default hidden behavior on the sphinx rendered scikit-learn.org. See: https://github.com/scikit-learn/scikit-learn/issues/21755 */display: inline-block !important;position: relative;}#sk-container-id-1 div.sk-text-repr-fallback {display: none;}</style><div id=\"sk-container-id-1\" class=\"sk-top-container\"><div class=\"sk-text-repr-fallback\"><pre>LinearRegression()</pre><b>In a Jupyter environment, please rerun this cell to show the HTML representation or trust the notebook. <br />On GitHub, the HTML representation is unable to render, please try loading this page with nbviewer.org.</b></div><div class=\"sk-container\" hidden><div class=\"sk-item\"><div class=\"sk-estimator sk-toggleable\"><input class=\"sk-toggleable__control sk-hidden--visually\" id=\"sk-estimator-id-1\" type=\"checkbox\" checked><label for=\"sk-estimator-id-1\" class=\"sk-toggleable__label sk-toggleable__label-arrow\">LinearRegression</label><div class=\"sk-toggleable__content\"><pre>LinearRegression()</pre></div></div></div></div></div>"
            ]
          },
          "metadata": {},
          "execution_count": 15
        }
      ]
    },
    {
      "cell_type": "code",
      "source": [
        "# [3] 계수들과 절편 출력해 보기\n",
        "print(model.coef_, model.intercept_)"
      ],
      "metadata": {
        "id": "7mkPAFBXhwLj",
        "colab": {
          "base_uri": "https://localhost:8080/"
        },
        "outputId": "3eca0a34-3f9b-4240-8e98-3328ded4e76e"
      },
      "execution_count": 16,
      "outputs": [
        {
          "output_type": "stream",
          "name": "stdout",
          "text": [
            "[-0.28008565  0.34383133] 47.629018625993695\n"
          ]
        }
      ]
    },
    {
      "cell_type": "markdown",
      "source": [
        "### 2-3.이상치"
      ],
      "metadata": {
        "id": "DP8zw9b_hwLj"
      }
    },
    {
      "cell_type": "code",
      "source": [
        "# [4] 이상치를 포함한 데이터 생성 (outlier=0.07 사용)\n",
        "Toutlier = make_sample(1234, 100, outlier=0.07)\n",
        "Xoutlier = Toutlier[['height','weight']]\n",
        "Youtlier = Toutlier[['BMI']]"
      ],
      "metadata": {
        "id": "b5puuafEhwLk",
        "colab": {
          "base_uri": "https://localhost:8080/"
        },
        "outputId": "e3cd1292-4bd2-40b6-d1ac-78284ca88be1"
      },
      "execution_count": 17,
      "outputs": [
        {
          "output_type": "stream",
          "name": "stdout",
          "text": [
            "[[122.5   25.    16.66]\n",
            " [113.7   29.9   23.13]\n",
            " [127.6    0.9    0.55]\n",
            " [118.3   48.3   34.51]\n",
            " [216.3  154.    32.92]\n",
            " [224.6  164.1   32.53]\n",
            " [224.5   14.     2.78]]\n",
            "(7, 3)\n"
          ]
        }
      ]
    },
    {
      "cell_type": "code",
      "source": [
        "# [5] 이상치가 포함된 경우, LinearRegression 모델 사용\n",
        "model2 = LinearRegression()\n",
        "Model_Train(model2, Xoutlier, Youtlier)"
      ],
      "metadata": {
        "id": "bVjAufx_hwLk",
        "colab": {
          "base_uri": "https://localhost:8080/",
          "height": 0
        },
        "outputId": "1fb7942c-db01-458a-da09-743fa4642a13"
      },
      "execution_count": 18,
      "outputs": [
        {
          "output_type": "stream",
          "name": "stdout",
          "text": [
            "0.9296 0.4557\n"
          ]
        },
        {
          "output_type": "execute_result",
          "data": {
            "text/plain": [
              "LinearRegression()"
            ],
            "text/html": [
              "<style>#sk-container-id-2 {color: black;background-color: white;}#sk-container-id-2 pre{padding: 0;}#sk-container-id-2 div.sk-toggleable {background-color: white;}#sk-container-id-2 label.sk-toggleable__label {cursor: pointer;display: block;width: 100%;margin-bottom: 0;padding: 0.3em;box-sizing: border-box;text-align: center;}#sk-container-id-2 label.sk-toggleable__label-arrow:before {content: \"▸\";float: left;margin-right: 0.25em;color: #696969;}#sk-container-id-2 label.sk-toggleable__label-arrow:hover:before {color: black;}#sk-container-id-2 div.sk-estimator:hover label.sk-toggleable__label-arrow:before {color: black;}#sk-container-id-2 div.sk-toggleable__content {max-height: 0;max-width: 0;overflow: hidden;text-align: left;background-color: #f0f8ff;}#sk-container-id-2 div.sk-toggleable__content pre {margin: 0.2em;color: black;border-radius: 0.25em;background-color: #f0f8ff;}#sk-container-id-2 input.sk-toggleable__control:checked~div.sk-toggleable__content {max-height: 200px;max-width: 100%;overflow: auto;}#sk-container-id-2 input.sk-toggleable__control:checked~label.sk-toggleable__label-arrow:before {content: \"▾\";}#sk-container-id-2 div.sk-estimator input.sk-toggleable__control:checked~label.sk-toggleable__label {background-color: #d4ebff;}#sk-container-id-2 div.sk-label input.sk-toggleable__control:checked~label.sk-toggleable__label {background-color: #d4ebff;}#sk-container-id-2 input.sk-hidden--visually {border: 0;clip: rect(1px 1px 1px 1px);clip: rect(1px, 1px, 1px, 1px);height: 1px;margin: -1px;overflow: hidden;padding: 0;position: absolute;width: 1px;}#sk-container-id-2 div.sk-estimator {font-family: monospace;background-color: #f0f8ff;border: 1px dotted black;border-radius: 0.25em;box-sizing: border-box;margin-bottom: 0.5em;}#sk-container-id-2 div.sk-estimator:hover {background-color: #d4ebff;}#sk-container-id-2 div.sk-parallel-item::after {content: \"\";width: 100%;border-bottom: 1px solid gray;flex-grow: 1;}#sk-container-id-2 div.sk-label:hover label.sk-toggleable__label {background-color: #d4ebff;}#sk-container-id-2 div.sk-serial::before {content: \"\";position: absolute;border-left: 1px solid gray;box-sizing: border-box;top: 0;bottom: 0;left: 50%;z-index: 0;}#sk-container-id-2 div.sk-serial {display: flex;flex-direction: column;align-items: center;background-color: white;padding-right: 0.2em;padding-left: 0.2em;position: relative;}#sk-container-id-2 div.sk-item {position: relative;z-index: 1;}#sk-container-id-2 div.sk-parallel {display: flex;align-items: stretch;justify-content: center;background-color: white;position: relative;}#sk-container-id-2 div.sk-item::before, #sk-container-id-2 div.sk-parallel-item::before {content: \"\";position: absolute;border-left: 1px solid gray;box-sizing: border-box;top: 0;bottom: 0;left: 50%;z-index: -1;}#sk-container-id-2 div.sk-parallel-item {display: flex;flex-direction: column;z-index: 1;position: relative;background-color: white;}#sk-container-id-2 div.sk-parallel-item:first-child::after {align-self: flex-end;width: 50%;}#sk-container-id-2 div.sk-parallel-item:last-child::after {align-self: flex-start;width: 50%;}#sk-container-id-2 div.sk-parallel-item:only-child::after {width: 0;}#sk-container-id-2 div.sk-dashed-wrapped {border: 1px dashed gray;margin: 0 0.4em 0.5em 0.4em;box-sizing: border-box;padding-bottom: 0.4em;background-color: white;}#sk-container-id-2 div.sk-label label {font-family: monospace;font-weight: bold;display: inline-block;line-height: 1.2em;}#sk-container-id-2 div.sk-label-container {text-align: center;}#sk-container-id-2 div.sk-container {/* jupyter's `normalize.less` sets `[hidden] { display: none; }` but bootstrap.min.css set `[hidden] { display: none !important; }` so we also need the `!important` here to be able to override the default hidden behavior on the sphinx rendered scikit-learn.org. See: https://github.com/scikit-learn/scikit-learn/issues/21755 */display: inline-block !important;position: relative;}#sk-container-id-2 div.sk-text-repr-fallback {display: none;}</style><div id=\"sk-container-id-2\" class=\"sk-top-container\"><div class=\"sk-text-repr-fallback\"><pre>LinearRegression()</pre><b>In a Jupyter environment, please rerun this cell to show the HTML representation or trust the notebook. <br />On GitHub, the HTML representation is unable to render, please try loading this page with nbviewer.org.</b></div><div class=\"sk-container\" hidden><div class=\"sk-item\"><div class=\"sk-estimator sk-toggleable\"><input class=\"sk-toggleable__control sk-hidden--visually\" id=\"sk-estimator-id-2\" type=\"checkbox\" checked><label for=\"sk-estimator-id-2\" class=\"sk-toggleable__label sk-toggleable__label-arrow\">LinearRegression</label><div class=\"sk-toggleable__content\"><pre>LinearRegression()</pre></div></div></div></div></div>"
            ]
          },
          "metadata": {},
          "execution_count": 18
        }
      ]
    },
    {
      "cell_type": "code",
      "source": [
        "# [6] 그래프 사용하여 이상치 확인\n",
        "import matplotlib.pyplot as plt\n",
        "# Xoutlier.plot(kind='box')\n",
        "plt.boxplot(Xoutlier)\n",
        "plt.show()"
      ],
      "metadata": {
        "id": "IF73u314hwLk",
        "colab": {
          "base_uri": "https://localhost:8080/",
          "height": 0
        },
        "outputId": "66e4ddc4-c465-4d88-a552-aa8615b4abb8"
      },
      "execution_count": 19,
      "outputs": [
        {
          "output_type": "display_data",
          "data": {
            "text/plain": [
              "<Figure size 640x480 with 1 Axes>"
            ],
            "image/png": "[encoded data removed]"
          },
          "metadata": {}
        }
      ]
    },
    {
      "cell_type": "code",
      "source": [
        "# [7] 각 feature별 Q1, Q3 확인\n",
        "Xoutlier.quantile([0.25, 0.75])"
      ],
      "metadata": {
        "colab": {
          "base_uri": "https://localhost:8080/",
          "height": 0
        },
        "id": "YDPxQgD2srKJ",
        "outputId": "51da4e0b-f2c4-428b-acd0-bc3139d58265"
      },
      "execution_count": 20,
      "outputs": [
        {
          "output_type": "execute_result",
          "data": {
            "text/plain": [
              "      height  weight\n",
              "0.25  162.00   52.75\n",
              "0.75  175.85   75.00"
            ],
            "text/html": [
              "\n",
              "  <div id=\"df-561a64e5-3da5-4e07-97cd-4a6b3c013b51\">\n",
              "    <div class=\"colab-df-container\">\n",
              "      <div>\n",
              "<style scoped>\n",
              "    .dataframe tbody tr th:only-of-type {\n",
              "        vertical-align: middle;\n",
              "    }\n",
              "\n",
              "    .dataframe tbody tr th {\n",
              "        vertical-align: top;\n",
              "    }\n",
              "\n",
              "    .dataframe thead th {\n",
              "        text-align: right;\n",
              "    }\n",
              "</style>\n",
              "<table border=\"1\" class=\"dataframe\">\n",
              "  <thead>\n",
              "    <tr style=\"text-align: right;\">\n",
              "      <th></th>\n",
              "      <th>height</th>\n",
              "      <th>weight</th>\n",
              "    </tr>\n",
              "  </thead>\n",
              "  <tbody>\n",
              "    <tr>\n",
              "      <th>0.25</th>\n",
              "      <td>162.00</td>\n",
              "      <td>52.75</td>\n",
              "    </tr>\n",
              "    <tr>\n",
              "      <th>0.75</th>\n",
              "      <td>175.85</td>\n",
              "      <td>75.00</td>\n",
              "    </tr>\n",
              "  </tbody>\n",
              "</table>\n",
              "</div>\n",
              "      <button class=\"colab-df-convert\" onclick=\"convertToInteractive('df-561a64e5-3da5-4e07-97cd-4a6b3c013b51')\"\n",
              "              title=\"Convert this dataframe to an interactive table.\"\n",
              "              style=\"display:none;\">\n",
              "        \n",
              "  <svg xmlns=\"http://www.w3.org/2000/svg\" height=\"24px\"viewBox=\"0 0 24 24\"\n",
              "       width=\"24px\">\n",
              "    <path d=\"M0 0h24v24H0V0z\" fill=\"none\"/>\n",
              "    <path d=\"M18.56 5.44l.94 2.06.94-2.06 2.06-.94-2.06-.94-.94-2.06-.94 2.06-2.06.94zm-11 1L8.5 8.5l.94-2.06 2.06-.94-2.06-.94L8.5 2.5l-.94 2.06-2.06.94zm10 10l.94 2.06.94-2.06 2.06-.94-2.06-.94-.94-2.06-.94 2.06-2.06.94z\"/><path d=\"M17.41 7.96l-1.37-1.37c-.4-.4-.92-.59-1.43-.59-.52 0-1.04.2-1.43.59L10.3 9.45l-7.72 7.72c-.78.78-.78 2.05 0 2.83L4 21.41c.39.39.9.59 1.41.59.51 0 1.02-.2 1.41-.59l7.78-7.78 2.81-2.81c.8-.78.8-2.07 0-2.86zM5.41 20L4 18.59l7.72-7.72 1.47 1.35L5.41 20z\"/>\n",
              "  </svg>\n",
              "      </button>\n",
              "      \n",
              "  <style>\n",
              "    .colab-df-container {\n",
              "      display:flex;\n",
              "      flex-wrap:wrap;\n",
              "      gap: 12px;\n",
              "    }\n",
              "\n",
              "    .colab-df-convert {\n",
              "      background-color: #E8F0FE;\n",
              "      border: none;\n",
              "      border-radius: 50%;\n",
              "      cursor: pointer;\n",
              "      display: none;\n",
              "      fill: #1967D2;\n",
              "      height: 32px;\n",
              "      padding: 0 0 0 0;\n",
              "      width: 32px;\n",
              "    }\n",
              "\n",
              "    .colab-df-convert:hover {\n",
              "      background-color: #E2EBFA;\n",
              "      box-shadow: 0px 1px 2px rgba(60, 64, 67, 0.3), 0px 1px 3px 1px rgba(60, 64, 67, 0.15);\n",
              "      fill: #174EA6;\n",
              "    }\n",
              "\n",
              "    [theme=dark] .colab-df-convert {\n",
              "      background-color: #3B4455;\n",
              "      fill: #D2E3FC;\n",
              "    }\n",
              "\n",
              "    [theme=dark] .colab-df-convert:hover {\n",
              "      background-color: #434B5C;\n",
              "      box-shadow: 0px 1px 3px 1px rgba(0, 0, 0, 0.15);\n",
              "      filter: drop-shadow(0px 1px 2px rgba(0, 0, 0, 0.3));\n",
              "      fill: #FFFFFF;\n",
              "    }\n",
              "  </style>\n",
              "\n",
              "      <script>\n",
              "        const buttonEl =\n",
              "          document.querySelector('#df-561a64e5-3da5-4e07-97cd-4a6b3c013b51 button.colab-df-convert');\n",
              "        buttonEl.style.display =\n",
              "          google.colab.kernel.accessAllowed ? 'block' : 'none';\n",
              "\n",
              "        async function convertToInteractive(key) {\n",
              "          const element = document.querySelector('#df-561a64e5-3da5-4e07-97cd-4a6b3c013b51');\n",
              "          const dataTable =\n",
              "            await google.colab.kernel.invokeFunction('convertToInteractive',\n",
              "                                                     [key], {});\n",
              "          if (!dataTable) return;\n",
              "\n",
              "          const docLinkHtml = 'Like what you see? Visit the ' +\n",
              "            '<a target=\"_blank\" href=https://colab.research.google.com/notebooks/data_table.ipynb>data table notebook</a>'\n",
              "            + ' to learn more about interactive tables.';\n",
              "          element.innerHTML = '';\n",
              "          dataTable['output_type'] = 'display_data';\n",
              "          await google.colab.output.renderOutput(dataTable, element);\n",
              "          const docLink = document.createElement('div');\n",
              "          docLink.innerHTML = docLinkHtml;\n",
              "          element.appendChild(docLink);\n",
              "        }\n",
              "      </script>\n",
              "    </div>\n",
              "  </div>\n",
              "  "
            ]
          },
          "metadata": {},
          "execution_count": 20
        }
      ]
    },
    {
      "cell_type": "code",
      "source": [
        "# [7] 각 feature별 Q1, Q3 확인\n",
        "Q1,Q3 = Xoutlier['weight'].quantile([0.25, 0.75])\n",
        "IQR = Q3 - Q1\n",
        "lower_w = round(Q1-IQR*1.5, 3)\n",
        "upper_w = round(Q3+IQR*1.5, 3)\n",
        "print(lower_w, upper_w)"
      ],
      "metadata": {
        "colab": {
          "base_uri": "https://localhost:8080/"
        },
        "id": "LsSqRA3lt1_-",
        "outputId": "6792459e-0e9f-4ff3-d49a-ad6371261837"
      },
      "execution_count": 21,
      "outputs": [
        {
          "output_type": "stream",
          "name": "stdout",
          "text": [
            "19.375 108.375\n"
          ]
        }
      ]
    },
    {
      "cell_type": "code",
      "source": [
        "# [8] height에 대한 outlier 확인\n",
        "Q1, Q3 = Xoutlier['height'].quantile([0.25, 0.75])\n",
        "IQR = Q3 - Q1\n",
        "lower_h = round(Q1 - IQR*1.5, 3)\n",
        "upper_h = round(Q3 + IQR*1.5, 3)\n",
        "print(lower_h, upper_h)"
      ],
      "metadata": {
        "id": "tUPJ7BBahwLk",
        "colab": {
          "base_uri": "https://localhost:8080/"
        },
        "outputId": "99c3579d-a6ae-4498-bac1-f2997a226445"
      },
      "execution_count": 22,
      "outputs": [
        {
          "output_type": "stream",
          "name": "stdout",
          "text": [
            "141.225 196.625\n"
          ]
        }
      ]
    },
    {
      "cell_type": "code",
      "source": [
        "# [9] weight에 대한 outlier 확인\n",
        "Q1, Q3 = Xoutlier['weight'].quantile([0.25, 0.75])\n",
        "IQR = Q3 - Q1\n",
        "lower_w = round(Q1 - IQR*1.5, 3)\n",
        "upper_w = round(Q3 + IQR*1.5, 3)\n",
        "print(lower_w, upper_w)"
      ],
      "metadata": {
        "id": "ne7YswiNhwLk",
        "colab": {
          "base_uri": "https://localhost:8080/"
        },
        "outputId": "401aadc5-9e3c-41b1-86c9-f35c9bcc2487"
      },
      "execution_count": 23,
      "outputs": [
        {
          "output_type": "stream",
          "name": "stdout",
          "text": [
            "19.375 108.375\n"
          ]
        }
      ]
    },
    {
      "cell_type": "code",
      "source": [
        "# [10] height에 대한 outlier 제거 및 학습\n",
        "height = Xoutlier['height'] \n",
        "outlier_h = Xoutlier[(height < lower_h) | (height > upper_h)] \n",
        "# print(outlier_h)\n",
        "Xoutlier_rh = Xoutlier.drop(index = outlier_h.index)\n",
        "Youtlier_rh = Youtlier.drop(index = outlier_h.index)\n",
        "# print(Xoutlier_rh.shape, Youtlier_rh.shape)\n",
        "model3 = LinearRegression()\n",
        "Model_Train(model3, Xoutlier_rh,Youtlier_rh)"
      ],
      "metadata": {
        "id": "ivKLXYhehwLl",
        "colab": {
          "base_uri": "https://localhost:8080/",
          "height": 0
        },
        "outputId": "845a6af6-43f2-4a07-eda7-82ce25b9c1ac"
      },
      "execution_count": 24,
      "outputs": [
        {
          "output_type": "stream",
          "name": "stdout",
          "text": [
            "0.9868 0.9935\n"
          ]
        },
        {
          "output_type": "execute_result",
          "data": {
            "text/plain": [
              "LinearRegression()"
            ],
            "text/html": [
              "<style>#sk-container-id-3 {color: black;background-color: white;}#sk-container-id-3 pre{padding: 0;}#sk-container-id-3 div.sk-toggleable {background-color: white;}#sk-container-id-3 label.sk-toggleable__label {cursor: pointer;display: block;width: 100%;margin-bottom: 0;padding: 0.3em;box-sizing: border-box;text-align: center;}#sk-container-id-3 label.sk-toggleable__label-arrow:before {content: \"▸\";float: left;margin-right: 0.25em;color: #696969;}#sk-container-id-3 label.sk-toggleable__label-arrow:hover:before {color: black;}#sk-container-id-3 div.sk-estimator:hover label.sk-toggleable__label-arrow:before {color: black;}#sk-container-id-3 div.sk-toggleable__content {max-height: 0;max-width: 0;overflow: hidden;text-align: left;background-color: #f0f8ff;}#sk-container-id-3 div.sk-toggleable__content pre {margin: 0.2em;color: black;border-radius: 0.25em;background-color: #f0f8ff;}#sk-container-id-3 input.sk-toggleable__control:checked~div.sk-toggleable__content {max-height: 200px;max-width: 100%;overflow: auto;}#sk-container-id-3 input.sk-toggleable__control:checked~label.sk-toggleable__label-arrow:before {content: \"▾\";}#sk-container-id-3 div.sk-estimator input.sk-toggleable__control:checked~label.sk-toggleable__label {background-color: #d4ebff;}#sk-container-id-3 div.sk-label input.sk-toggleable__control:checked~label.sk-toggleable__label {background-color: #d4ebff;}#sk-container-id-3 input.sk-hidden--visually {border: 0;clip: rect(1px 1px 1px 1px);clip: rect(1px, 1px, 1px, 1px);height: 1px;margin: -1px;overflow: hidden;padding: 0;position: absolute;width: 1px;}#sk-container-id-3 div.sk-estimator {font-family: monospace;background-color: #f0f8ff;border: 1px dotted black;border-radius: 0.25em;box-sizing: border-box;margin-bottom: 0.5em;}#sk-container-id-3 div.sk-estimator:hover {background-color: #d4ebff;}#sk-container-id-3 div.sk-parallel-item::after {content: \"\";width: 100%;border-bottom: 1px solid gray;flex-grow: 1;}#sk-container-id-3 div.sk-label:hover label.sk-toggleable__label {background-color: #d4ebff;}#sk-container-id-3 div.sk-serial::before {content: \"\";position: absolute;border-left: 1px solid gray;box-sizing: border-box;top: 0;bottom: 0;left: 50%;z-index: 0;}#sk-container-id-3 div.sk-serial {display: flex;flex-direction: column;align-items: center;background-color: white;padding-right: 0.2em;padding-left: 0.2em;position: relative;}#sk-container-id-3 div.sk-item {position: relative;z-index: 1;}#sk-container-id-3 div.sk-parallel {display: flex;align-items: stretch;justify-content: center;background-color: white;position: relative;}#sk-container-id-3 div.sk-item::before, #sk-container-id-3 div.sk-parallel-item::before {content: \"\";position: absolute;border-left: 1px solid gray;box-sizing: border-box;top: 0;bottom: 0;left: 50%;z-index: -1;}#sk-container-id-3 div.sk-parallel-item {display: flex;flex-direction: column;z-index: 1;position: relative;background-color: white;}#sk-container-id-3 div.sk-parallel-item:first-child::after {align-self: flex-end;width: 50%;}#sk-container-id-3 div.sk-parallel-item:last-child::after {align-self: flex-start;width: 50%;}#sk-container-id-3 div.sk-parallel-item:only-child::after {width: 0;}#sk-container-id-3 div.sk-dashed-wrapped {border: 1px dashed gray;margin: 0 0.4em 0.5em 0.4em;box-sizing: border-box;padding-bottom: 0.4em;background-color: white;}#sk-container-id-3 div.sk-label label {font-family: monospace;font-weight: bold;display: inline-block;line-height: 1.2em;}#sk-container-id-3 div.sk-label-container {text-align: center;}#sk-container-id-3 div.sk-container {/* jupyter's `normalize.less` sets `[hidden] { display: none; }` but bootstrap.min.css set `[hidden] { display: none !important; }` so we also need the `!important` here to be able to override the default hidden behavior on the sphinx rendered scikit-learn.org. See: https://github.com/scikit-learn/scikit-learn/issues/21755 */display: inline-block !important;position: relative;}#sk-container-id-3 div.sk-text-repr-fallback {display: none;}</style><div id=\"sk-container-id-3\" class=\"sk-top-container\"><div class=\"sk-text-repr-fallback\"><pre>LinearRegression()</pre><b>In a Jupyter environment, please rerun this cell to show the HTML representation or trust the notebook. <br />On GitHub, the HTML representation is unable to render, please try loading this page with nbviewer.org.</b></div><div class=\"sk-container\" hidden><div class=\"sk-item\"><div class=\"sk-estimator sk-toggleable\"><input class=\"sk-toggleable__control sk-hidden--visually\" id=\"sk-estimator-id-3\" type=\"checkbox\" checked><label for=\"sk-estimator-id-3\" class=\"sk-toggleable__label sk-toggleable__label-arrow\">LinearRegression</label><div class=\"sk-toggleable__content\"><pre>LinearRegression()</pre></div></div></div></div></div>"
            ]
          },
          "metadata": {},
          "execution_count": 24
        }
      ]
    },
    {
      "cell_type": "code",
      "source": [
        "# [11] weight에 대한 outlier 제거 및 학습\n",
        "weight = Xoutlier['weight'] \n",
        "outlier_w = Xoutlier[(weight < lower_w) | (weight > upper_w)] \n",
        "print(outlier_w)\n",
        "Xoutlier_rw = Xoutlier.drop(index = outlier_w.index)\n",
        "Youtlier_rw = Youtlier.drop(index = outlier_w.index)\n",
        "print(Xoutlier_rw.shape, Youtlier_rw.shape)\n",
        "model3 = LinearRegression()\n",
        "Model_Train(model3, Xoutlier_rw,Youtlier_rw)"
      ],
      "metadata": {
        "id": "6B49WXqMhwLl",
        "colab": {
          "base_uri": "https://localhost:8080/",
          "height": 0
        },
        "outputId": "db0c4b54-0f4a-4592-c20c-1445f28108d3"
      },
      "execution_count": 25,
      "outputs": [
        {
          "output_type": "stream",
          "name": "stdout",
          "text": [
            "     height  weight\n",
            "102   127.6     0.9\n",
            "104   216.3   154.0\n",
            "105   224.6   164.1\n",
            "106   224.5    14.0\n",
            "(103, 2) (103, 1)\n",
            "0.9731 0.9217\n"
          ]
        },
        {
          "output_type": "execute_result",
          "data": {
            "text/plain": [
              "LinearRegression()"
            ],
            "text/html": [
              "<style>#sk-container-id-4 {color: black;background-color: white;}#sk-container-id-4 pre{padding: 0;}#sk-container-id-4 div.sk-toggleable {background-color: white;}#sk-container-id-4 label.sk-toggleable__label {cursor: pointer;display: block;width: 100%;margin-bottom: 0;padding: 0.3em;box-sizing: border-box;text-align: center;}#sk-container-id-4 label.sk-toggleable__label-arrow:before {content: \"▸\";float: left;margin-right: 0.25em;color: #696969;}#sk-container-id-4 label.sk-toggleable__label-arrow:hover:before {color: black;}#sk-container-id-4 div.sk-estimator:hover label.sk-toggleable__label-arrow:before {color: black;}#sk-container-id-4 div.sk-toggleable__content {max-height: 0;max-width: 0;overflow: hidden;text-align: left;background-color: #f0f8ff;}#sk-container-id-4 div.sk-toggleable__content pre {margin: 0.2em;color: black;border-radius: 0.25em;background-color: #f0f8ff;}#sk-container-id-4 input.sk-toggleable__control:checked~div.sk-toggleable__content {max-height: 200px;max-width: 100%;overflow: auto;}#sk-container-id-4 input.sk-toggleable__control:checked~label.sk-toggleable__label-arrow:before {content: \"▾\";}#sk-container-id-4 div.sk-estimator input.sk-toggleable__control:checked~label.sk-toggleable__label {background-color: #d4ebff;}#sk-container-id-4 div.sk-label input.sk-toggleable__control:checked~label.sk-toggleable__label {background-color: #d4ebff;}#sk-container-id-4 input.sk-hidden--visually {border: 0;clip: rect(1px 1px 1px 1px);clip: rect(1px, 1px, 1px, 1px);height: 1px;margin: -1px;overflow: hidden;padding: 0;position: absolute;width: 1px;}#sk-container-id-4 div.sk-estimator {font-family: monospace;background-color: #f0f8ff;border: 1px dotted black;border-radius: 0.25em;box-sizing: border-box;margin-bottom: 0.5em;}#sk-container-id-4 div.sk-estimator:hover {background-color: #d4ebff;}#sk-container-id-4 div.sk-parallel-item::after {content: \"\";width: 100%;border-bottom: 1px solid gray;flex-grow: 1;}#sk-container-id-4 div.sk-label:hover label.sk-toggleable__label {background-color: #d4ebff;}#sk-container-id-4 div.sk-serial::before {content: \"\";position: absolute;border-left: 1px solid gray;box-sizing: border-box;top: 0;bottom: 0;left: 50%;z-index: 0;}#sk-container-id-4 div.sk-serial {display: flex;flex-direction: column;align-items: center;background-color: white;padding-right: 0.2em;padding-left: 0.2em;position: relative;}#sk-container-id-4 div.sk-item {position: relative;z-index: 1;}#sk-container-id-4 div.sk-parallel {display: flex;align-items: stretch;justify-content: center;background-color: white;position: relative;}#sk-container-id-4 div.sk-item::before, #sk-container-id-4 div.sk-parallel-item::before {content: \"\";position: absolute;border-left: 1px solid gray;box-sizing: border-box;top: 0;bottom: 0;left: 50%;z-index: -1;}#sk-container-id-4 div.sk-parallel-item {display: flex;flex-direction: column;z-index: 1;position: relative;background-color: white;}#sk-container-id-4 div.sk-parallel-item:first-child::after {align-self: flex-end;width: 50%;}#sk-container-id-4 div.sk-parallel-item:last-child::after {align-self: flex-start;width: 50%;}#sk-container-id-4 div.sk-parallel-item:only-child::after {width: 0;}#sk-container-id-4 div.sk-dashed-wrapped {border: 1px dashed gray;margin: 0 0.4em 0.5em 0.4em;box-sizing: border-box;padding-bottom: 0.4em;background-color: white;}#sk-container-id-4 div.sk-label label {font-family: monospace;font-weight: bold;display: inline-block;line-height: 1.2em;}#sk-container-id-4 div.sk-label-container {text-align: center;}#sk-container-id-4 div.sk-container {/* jupyter's `normalize.less` sets `[hidden] { display: none; }` but bootstrap.min.css set `[hidden] { display: none !important; }` so we also need the `!important` here to be able to override the default hidden behavior on the sphinx rendered scikit-learn.org. See: https://github.com/scikit-learn/scikit-learn/issues/21755 */display: inline-block !important;position: relative;}#sk-container-id-4 div.sk-text-repr-fallback {display: none;}</style><div id=\"sk-container-id-4\" class=\"sk-top-container\"><div class=\"sk-text-repr-fallback\"><pre>LinearRegression()</pre><b>In a Jupyter environment, please rerun this cell to show the HTML representation or trust the notebook. <br />On GitHub, the HTML representation is unable to render, please try loading this page with nbviewer.org.</b></div><div class=\"sk-container\" hidden><div class=\"sk-item\"><div class=\"sk-estimator sk-toggleable\"><input class=\"sk-toggleable__control sk-hidden--visually\" id=\"sk-estimator-id-4\" type=\"checkbox\" checked><label for=\"sk-estimator-id-4\" class=\"sk-toggleable__label sk-toggleable__label-arrow\">LinearRegression</label><div class=\"sk-toggleable__content\"><pre>LinearRegression()</pre></div></div></div></div></div>"
            ]
          },
          "metadata": {},
          "execution_count": 25
        }
      ]
    },
    {
      "cell_type": "code",
      "source": [],
      "metadata": {
        "id": "YwesiONnDtcH"
      },
      "execution_count": 25,
      "outputs": []
    },
    {
      "cell_type": "markdown",
      "source": [
        "### 2-4.Polynomial Regression\n",
        "- 다항 회귀\n",
        "- 비선형 데이터 집합을 모델링 할 때 사용\n",
        "- 곡선의 다항식 선을 사용함\n",
        "- 과대적합이 나타나기 쉬움\n",
        "- $y = \\beta_{0} + \\beta_{1} x_{1} + \\beta_{2} x_{2} + \\beta_{3} x_{1}^{2} + \\beta_{4} x_{2}^{2} ...+ \\epsilon$\n",
        "- X를 다항식으로 변경하여 모델링의 데이터로 사용함"
      ],
      "metadata": {
        "id": "PDnZReayLSVn"
      }
    },
    {
      "cell_type": "code",
      "source": [
        "# sklearn.preprocessing.PolynomialFeatures(degree=2, *, \n",
        "#               interaction_only=False, include_bias=True, order='C')"
      ],
      "metadata": {
        "id": "lINl7TLyZUTR"
      },
      "execution_count": 26,
      "outputs": []
    },
    {
      "cell_type": "code",
      "source": [
        "# [12] PolynomialFeatures 사용하여 2차항이 포함되도록 \n",
        "# Xnormal을 변환 함 (PolynomialFeatures에 poly2, 변환 결과에 Xpoly2 이름 부여)\n",
        "from sklearn.preprocessing import PolynomialFeatures\n",
        "poly2 = PolynomialFeatures(degree=2,include_bias=False)#, interaction_only=True, )\n",
        "Xpoly2 = poly2.fit_transform(Xnormal)\n",
        "model = LinearRegression()\n",
        "Model_Train(model, Xpoly2, Ynormal)"
      ],
      "metadata": {
        "id": "Ov4tco4eLgzP",
        "colab": {
          "base_uri": "https://localhost:8080/",
          "height": 0
        },
        "outputId": "71876b07-2027-4af4-82b4-909ab276ec4c"
      },
      "execution_count": 27,
      "outputs": [
        {
          "output_type": "stream",
          "name": "stdout",
          "text": [
            "1.0000 0.9988\n"
          ]
        },
        {
          "output_type": "execute_result",
          "data": {
            "text/plain": [
              "LinearRegression()"
            ],
            "text/html": [
              "<style>#sk-container-id-5 {color: black;background-color: white;}#sk-container-id-5 pre{padding: 0;}#sk-container-id-5 div.sk-toggleable {background-color: white;}#sk-container-id-5 label.sk-toggleable__label {cursor: pointer;display: block;width: 100%;margin-bottom: 0;padding: 0.3em;box-sizing: border-box;text-align: center;}#sk-container-id-5 label.sk-toggleable__label-arrow:before {content: \"▸\";float: left;margin-right: 0.25em;color: #696969;}#sk-container-id-5 label.sk-toggleable__label-arrow:hover:before {color: black;}#sk-container-id-5 div.sk-estimator:hover label.sk-toggleable__label-arrow:before {color: black;}#sk-container-id-5 div.sk-toggleable__content {max-height: 0;max-width: 0;overflow: hidden;text-align: left;background-color: #f0f8ff;}#sk-container-id-5 div.sk-toggleable__content pre {margin: 0.2em;color: black;border-radius: 0.25em;background-color: #f0f8ff;}#sk-container-id-5 input.sk-toggleable__control:checked~div.sk-toggleable__content {max-height: 200px;max-width: 100%;overflow: auto;}#sk-container-id-5 input.sk-toggleable__control:checked~label.sk-toggleable__label-arrow:before {content: \"▾\";}#sk-container-id-5 div.sk-estimator input.sk-toggleable__control:checked~label.sk-toggleable__label {background-color: #d4ebff;}#sk-container-id-5 div.sk-label input.sk-toggleable__control:checked~label.sk-toggleable__label {background-color: #d4ebff;}#sk-container-id-5 input.sk-hidden--visually {border: 0;clip: rect(1px 1px 1px 1px);clip: rect(1px, 1px, 1px, 1px);height: 1px;margin: -1px;overflow: hidden;padding: 0;position: absolute;width: 1px;}#sk-container-id-5 div.sk-estimator {font-family: monospace;background-color: #f0f8ff;border: 1px dotted black;border-radius: 0.25em;box-sizing: border-box;margin-bottom: 0.5em;}#sk-container-id-5 div.sk-estimator:hover {background-color: #d4ebff;}#sk-container-id-5 div.sk-parallel-item::after {content: \"\";width: 100%;border-bottom: 1px solid gray;flex-grow: 1;}#sk-container-id-5 div.sk-label:hover label.sk-toggleable__label {background-color: #d4ebff;}#sk-container-id-5 div.sk-serial::before {content: \"\";position: absolute;border-left: 1px solid gray;box-sizing: border-box;top: 0;bottom: 0;left: 50%;z-index: 0;}#sk-container-id-5 div.sk-serial {display: flex;flex-direction: column;align-items: center;background-color: white;padding-right: 0.2em;padding-left: 0.2em;position: relative;}#sk-container-id-5 div.sk-item {position: relative;z-index: 1;}#sk-container-id-5 div.sk-parallel {display: flex;align-items: stretch;justify-content: center;background-color: white;position: relative;}#sk-container-id-5 div.sk-item::before, #sk-container-id-5 div.sk-parallel-item::before {content: \"\";position: absolute;border-left: 1px solid gray;box-sizing: border-box;top: 0;bottom: 0;left: 50%;z-index: -1;}#sk-container-id-5 div.sk-parallel-item {display: flex;flex-direction: column;z-index: 1;position: relative;background-color: white;}#sk-container-id-5 div.sk-parallel-item:first-child::after {align-self: flex-end;width: 50%;}#sk-container-id-5 div.sk-parallel-item:last-child::after {align-self: flex-start;width: 50%;}#sk-container-id-5 div.sk-parallel-item:only-child::after {width: 0;}#sk-container-id-5 div.sk-dashed-wrapped {border: 1px dashed gray;margin: 0 0.4em 0.5em 0.4em;box-sizing: border-box;padding-bottom: 0.4em;background-color: white;}#sk-container-id-5 div.sk-label label {font-family: monospace;font-weight: bold;display: inline-block;line-height: 1.2em;}#sk-container-id-5 div.sk-label-container {text-align: center;}#sk-container-id-5 div.sk-container {/* jupyter's `normalize.less` sets `[hidden] { display: none; }` but bootstrap.min.css set `[hidden] { display: none !important; }` so we also need the `!important` here to be able to override the default hidden behavior on the sphinx rendered scikit-learn.org. See: https://github.com/scikit-learn/scikit-learn/issues/21755 */display: inline-block !important;position: relative;}#sk-container-id-5 div.sk-text-repr-fallback {display: none;}</style><div id=\"sk-container-id-5\" class=\"sk-top-container\"><div class=\"sk-text-repr-fallback\"><pre>LinearRegression()</pre><b>In a Jupyter environment, please rerun this cell to show the HTML representation or trust the notebook. <br />On GitHub, the HTML representation is unable to render, please try loading this page with nbviewer.org.</b></div><div class=\"sk-container\" hidden><div class=\"sk-item\"><div class=\"sk-estimator sk-toggleable\"><input class=\"sk-toggleable__control sk-hidden--visually\" id=\"sk-estimator-id-5\" type=\"checkbox\" checked><label for=\"sk-estimator-id-5\" class=\"sk-toggleable__label sk-toggleable__label-arrow\">LinearRegression</label><div class=\"sk-toggleable__content\"><pre>LinearRegression()</pre></div></div></div></div></div>"
            ]
          },
          "metadata": {},
          "execution_count": 27
        }
      ]
    },
    {
      "cell_type": "markdown",
      "source": [],
      "metadata": {
        "id": "mfiInGJqkKXe"
      }
    },
    {
      "cell_type": "code",
      "source": [
        "# [13] Xpoly2의 shape 확인\n",
        "print(Xnormal.shape, Xpoly2.shape)"
      ],
      "metadata": {
        "id": "x_0qvRi2ZHfy",
        "colab": {
          "base_uri": "https://localhost:8080/"
        },
        "outputId": "c4547f03-a5df-4fff-d730-e3d4247f03d5"
      },
      "execution_count": 28,
      "outputs": [
        {
          "output_type": "stream",
          "name": "stdout",
          "text": [
            "(100, 2) (100, 5)\n"
          ]
        }
      ]
    },
    {
      "cell_type": "code",
      "source": [
        "# [14] poly2의 feature_names 확인\n",
        "poly2.get_feature_names_out()"
      ],
      "metadata": {
        "id": "_sbLVWJJZKc7",
        "colab": {
          "base_uri": "https://localhost:8080/"
        },
        "outputId": "e2a16fb6-9f57-42c3-a19a-e1ecbdcffdba"
      },
      "execution_count": 29,
      "outputs": [
        {
          "output_type": "execute_result",
          "data": {
            "text/plain": [
              "array(['height', 'weight', 'height^2', 'height weight', 'weight^2'],\n",
              "      dtype=object)"
            ]
          },
          "metadata": {},
          "execution_count": 29
        }
      ]
    },
    {
      "cell_type": "code",
      "source": [
        "# [15] Xpoly2의 상관계수 확인 \n",
        "pd.DataFrame(Xpoly2).corr()"
      ],
      "metadata": {
        "id": "KuvYv-_Zmc_l",
        "colab": {
          "base_uri": "https://localhost:8080/",
          "height": 0
        },
        "outputId": "d8b1fa81-b6e7-44ac-ec65-671907ad187a"
      },
      "execution_count": 30,
      "outputs": [
        {
          "output_type": "execute_result",
          "data": {
            "text/plain": [
              "          0         1         2         3         4\n",
              "0  1.000000  0.604015  0.999526  0.715850  0.602221\n",
              "1  0.604015  1.000000  0.605356  0.987694  0.992038\n",
              "2  0.999526  0.605356  1.000000  0.717912  0.605105\n",
              "3  0.715850  0.987694  0.717912  1.000000  0.984456\n",
              "4  0.602221  0.992038  0.605105  0.984456  1.000000"
            ],
            "text/html": [
              "\n",
              "  <div id=\"df-3b2c8111-46d1-438b-8ed2-61c3ecd478b9\">\n",
              "    <div class=\"colab-df-container\">\n",
              "      <div>\n",
              "<style scoped>\n",
              "    .dataframe tbody tr th:only-of-type {\n",
              "        vertical-align: middle;\n",
              "    }\n",
              "\n",
              "    .dataframe tbody tr th {\n",
              "        vertical-align: top;\n",
              "    }\n",
              "\n",
              "    .dataframe thead th {\n",
              "        text-align: right;\n",
              "    }\n",
              "</style>\n",
              "<table border=\"1\" class=\"dataframe\">\n",
              "  <thead>\n",
              "    <tr style=\"text-align: right;\">\n",
              "      <th></th>\n",
              "      <th>0</th>\n",
              "      <th>1</th>\n",
              "      <th>2</th>\n",
              "      <th>3</th>\n",
              "      <th>4</th>\n",
              "    </tr>\n",
              "  </thead>\n",
              "  <tbody>\n",
              "    <tr>\n",
              "      <th>0</th>\n",
              "      <td>1.000000</td>\n",
              "      <td>0.604015</td>\n",
              "      <td>0.999526</td>\n",
              "      <td>0.715850</td>\n",
              "      <td>0.602221</td>\n",
              "    </tr>\n",
              "    <tr>\n",
              "      <th>1</th>\n",
              "      <td>0.604015</td>\n",
              "      <td>1.000000</td>\n",
              "      <td>0.605356</td>\n",
              "      <td>0.987694</td>\n",
              "      <td>0.992038</td>\n",
              "    </tr>\n",
              "    <tr>\n",
              "      <th>2</th>\n",
              "      <td>0.999526</td>\n",
              "      <td>0.605356</td>\n",
              "      <td>1.000000</td>\n",
              "      <td>0.717912</td>\n",
              "      <td>0.605105</td>\n",
              "    </tr>\n",
              "    <tr>\n",
              "      <th>3</th>\n",
              "      <td>0.715850</td>\n",
              "      <td>0.987694</td>\n",
              "      <td>0.717912</td>\n",
              "      <td>1.000000</td>\n",
              "      <td>0.984456</td>\n",
              "    </tr>\n",
              "    <tr>\n",
              "      <th>4</th>\n",
              "      <td>0.602221</td>\n",
              "      <td>0.992038</td>\n",
              "      <td>0.605105</td>\n",
              "      <td>0.984456</td>\n",
              "      <td>1.000000</td>\n",
              "    </tr>\n",
              "  </tbody>\n",
              "</table>\n",
              "</div>\n",
              "      <button class=\"colab-df-convert\" onclick=\"convertToInteractive('df-3b2c8111-46d1-438b-8ed2-61c3ecd478b9')\"\n",
              "              title=\"Convert this dataframe to an interactive table.\"\n",
              "              style=\"display:none;\">\n",
              "        \n",
              "  <svg xmlns=\"http://www.w3.org/2000/svg\" height=\"24px\"viewBox=\"0 0 24 24\"\n",
              "       width=\"24px\">\n",
              "    <path d=\"M0 0h24v24H0V0z\" fill=\"none\"/>\n",
              "    <path d=\"M18.56 5.44l.94 2.06.94-2.06 2.06-.94-2.06-.94-.94-2.06-.94 2.06-2.06.94zm-11 1L8.5 8.5l.94-2.06 2.06-.94-2.06-.94L8.5 2.5l-.94 2.06-2.06.94zm10 10l.94 2.06.94-2.06 2.06-.94-2.06-.94-.94-2.06-.94 2.06-2.06.94z\"/><path d=\"M17.41 7.96l-1.37-1.37c-.4-.4-.92-.59-1.43-.59-.52 0-1.04.2-1.43.59L10.3 9.45l-7.72 7.72c-.78.78-.78 2.05 0 2.83L4 21.41c.39.39.9.59 1.41.59.51 0 1.02-.2 1.41-.59l7.78-7.78 2.81-2.81c.8-.78.8-2.07 0-2.86zM5.41 20L4 18.59l7.72-7.72 1.47 1.35L5.41 20z\"/>\n",
              "  </svg>\n",
              "      </button>\n",
              "      \n",
              "  <style>\n",
              "    .colab-df-container {\n",
              "      display:flex;\n",
              "      flex-wrap:wrap;\n",
              "      gap: 12px;\n",
              "    }\n",
              "\n",
              "    .colab-df-convert {\n",
              "      background-color: #E8F0FE;\n",
              "      border: none;\n",
              "      border-radius: 50%;\n",
              "      cursor: pointer;\n",
              "      display: none;\n",
              "      fill: #1967D2;\n",
              "      height: 32px;\n",
              "      padding: 0 0 0 0;\n",
              "      width: 32px;\n",
              "    }\n",
              "\n",
              "    .colab-df-convert:hover {\n",
              "      background-color: #E2EBFA;\n",
              "      box-shadow: 0px 1px 2px rgba(60, 64, 67, 0.3), 0px 1px 3px 1px rgba(60, 64, 67, 0.15);\n",
              "      fill: #174EA6;\n",
              "    }\n",
              "\n",
              "    [theme=dark] .colab-df-convert {\n",
              "      background-color: #3B4455;\n",
              "      fill: #D2E3FC;\n",
              "    }\n",
              "\n",
              "    [theme=dark] .colab-df-convert:hover {\n",
              "      background-color: #434B5C;\n",
              "      box-shadow: 0px 1px 3px 1px rgba(0, 0, 0, 0.15);\n",
              "      filter: drop-shadow(0px 1px 2px rgba(0, 0, 0, 0.3));\n",
              "      fill: #FFFFFF;\n",
              "    }\n",
              "  </style>\n",
              "\n",
              "      <script>\n",
              "        const buttonEl =\n",
              "          document.querySelector('#df-3b2c8111-46d1-438b-8ed2-61c3ecd478b9 button.colab-df-convert');\n",
              "        buttonEl.style.display =\n",
              "          google.colab.kernel.accessAllowed ? 'block' : 'none';\n",
              "\n",
              "        async function convertToInteractive(key) {\n",
              "          const element = document.querySelector('#df-3b2c8111-46d1-438b-8ed2-61c3ecd478b9');\n",
              "          const dataTable =\n",
              "            await google.colab.kernel.invokeFunction('convertToInteractive',\n",
              "                                                     [key], {});\n",
              "          if (!dataTable) return;\n",
              "\n",
              "          const docLinkHtml = 'Like what you see? Visit the ' +\n",
              "            '<a target=\"_blank\" href=https://colab.research.google.com/notebooks/data_table.ipynb>data table notebook</a>'\n",
              "            + ' to learn more about interactive tables.';\n",
              "          element.innerHTML = '';\n",
              "          dataTable['output_type'] = 'display_data';\n",
              "          await google.colab.output.renderOutput(dataTable, element);\n",
              "          const docLink = document.createElement('div');\n",
              "          docLink.innerHTML = docLinkHtml;\n",
              "          element.appendChild(docLink);\n",
              "        }\n",
              "      </script>\n",
              "    </div>\n",
              "  </div>\n",
              "  "
            ]
          },
          "metadata": {},
          "execution_count": 30
        }
      ]
    },
    {
      "cell_type": "code",
      "source": [
        "# [16] PolynomialFeatures 사용하여 3차항이 포함되도록\n",
        "# Xnormal을 변환 함 (PolynomialFeatures에 poly3, 변환 결과에 Xpoly3 이름 부여)\n",
        "poly3 = PolynomialFeatures(degree=3,include_bias=False)#, interaction_only=True, )\n",
        "Xpoly3 = poly3.fit_transform(Xnormal)\n",
        "model = LinearRegression()\n",
        "Model_Train(model, Xpoly3, Ynormal)"
      ],
      "metadata": {
        "id": "6Plr4Sl6Vwbq",
        "colab": {
          "base_uri": "https://localhost:8080/",
          "height": 0
        },
        "outputId": "adc4247c-d859-46ec-a12d-002fd8796832"
      },
      "execution_count": 31,
      "outputs": [
        {
          "output_type": "stream",
          "name": "stdout",
          "text": [
            "1.0000 1.0000\n"
          ]
        },
        {
          "output_type": "execute_result",
          "data": {
            "text/plain": [
              "LinearRegression()"
            ],
            "text/html": [
              "<style>#sk-container-id-6 {color: black;background-color: white;}#sk-container-id-6 pre{padding: 0;}#sk-container-id-6 div.sk-toggleable {background-color: white;}#sk-container-id-6 label.sk-toggleable__label {cursor: pointer;display: block;width: 100%;margin-bottom: 0;padding: 0.3em;box-sizing: border-box;text-align: center;}#sk-container-id-6 label.sk-toggleable__label-arrow:before {content: \"▸\";float: left;margin-right: 0.25em;color: #696969;}#sk-container-id-6 label.sk-toggleable__label-arrow:hover:before {color: black;}#sk-container-id-6 div.sk-estimator:hover label.sk-toggleable__label-arrow:before {color: black;}#sk-container-id-6 div.sk-toggleable__content {max-height: 0;max-width: 0;overflow: hidden;text-align: left;background-color: #f0f8ff;}#sk-container-id-6 div.sk-toggleable__content pre {margin: 0.2em;color: black;border-radius: 0.25em;background-color: #f0f8ff;}#sk-container-id-6 input.sk-toggleable__control:checked~div.sk-toggleable__content {max-height: 200px;max-width: 100%;overflow: auto;}#sk-container-id-6 input.sk-toggleable__control:checked~label.sk-toggleable__label-arrow:before {content: \"▾\";}#sk-container-id-6 div.sk-estimator input.sk-toggleable__control:checked~label.sk-toggleable__label {background-color: #d4ebff;}#sk-container-id-6 div.sk-label input.sk-toggleable__control:checked~label.sk-toggleable__label {background-color: #d4ebff;}#sk-container-id-6 input.sk-hidden--visually {border: 0;clip: rect(1px 1px 1px 1px);clip: rect(1px, 1px, 1px, 1px);height: 1px;margin: -1px;overflow: hidden;padding: 0;position: absolute;width: 1px;}#sk-container-id-6 div.sk-estimator {font-family: monospace;background-color: #f0f8ff;border: 1px dotted black;border-radius: 0.25em;box-sizing: border-box;margin-bottom: 0.5em;}#sk-container-id-6 div.sk-estimator:hover {background-color: #d4ebff;}#sk-container-id-6 div.sk-parallel-item::after {content: \"\";width: 100%;border-bottom: 1px solid gray;flex-grow: 1;}#sk-container-id-6 div.sk-label:hover label.sk-toggleable__label {background-color: #d4ebff;}#sk-container-id-6 div.sk-serial::before {content: \"\";position: absolute;border-left: 1px solid gray;box-sizing: border-box;top: 0;bottom: 0;left: 50%;z-index: 0;}#sk-container-id-6 div.sk-serial {display: flex;flex-direction: column;align-items: center;background-color: white;padding-right: 0.2em;padding-left: 0.2em;position: relative;}#sk-container-id-6 div.sk-item {position: relative;z-index: 1;}#sk-container-id-6 div.sk-parallel {display: flex;align-items: stretch;justify-content: center;background-color: white;position: relative;}#sk-container-id-6 div.sk-item::before, #sk-container-id-6 div.sk-parallel-item::before {content: \"\";position: absolute;border-left: 1px solid gray;box-sizing: border-box;top: 0;bottom: 0;left: 50%;z-index: -1;}#sk-container-id-6 div.sk-parallel-item {display: flex;flex-direction: column;z-index: 1;position: relative;background-color: white;}#sk-container-id-6 div.sk-parallel-item:first-child::after {align-self: flex-end;width: 50%;}#sk-container-id-6 div.sk-parallel-item:last-child::after {align-self: flex-start;width: 50%;}#sk-container-id-6 div.sk-parallel-item:only-child::after {width: 0;}#sk-container-id-6 div.sk-dashed-wrapped {border: 1px dashed gray;margin: 0 0.4em 0.5em 0.4em;box-sizing: border-box;padding-bottom: 0.4em;background-color: white;}#sk-container-id-6 div.sk-label label {font-family: monospace;font-weight: bold;display: inline-block;line-height: 1.2em;}#sk-container-id-6 div.sk-label-container {text-align: center;}#sk-container-id-6 div.sk-container {/* jupyter's `normalize.less` sets `[hidden] { display: none; }` but bootstrap.min.css set `[hidden] { display: none !important; }` so we also need the `!important` here to be able to override the default hidden behavior on the sphinx rendered scikit-learn.org. See: https://github.com/scikit-learn/scikit-learn/issues/21755 */display: inline-block !important;position: relative;}#sk-container-id-6 div.sk-text-repr-fallback {display: none;}</style><div id=\"sk-container-id-6\" class=\"sk-top-container\"><div class=\"sk-text-repr-fallback\"><pre>LinearRegression()</pre><b>In a Jupyter environment, please rerun this cell to show the HTML representation or trust the notebook. <br />On GitHub, the HTML representation is unable to render, please try loading this page with nbviewer.org.</b></div><div class=\"sk-container\" hidden><div class=\"sk-item\"><div class=\"sk-estimator sk-toggleable\"><input class=\"sk-toggleable__control sk-hidden--visually\" id=\"sk-estimator-id-6\" type=\"checkbox\" checked><label for=\"sk-estimator-id-6\" class=\"sk-toggleable__label sk-toggleable__label-arrow\">LinearRegression</label><div class=\"sk-toggleable__content\"><pre>LinearRegression()</pre></div></div></div></div></div>"
            ]
          },
          "metadata": {},
          "execution_count": 31
        }
      ]
    },
    {
      "cell_type": "code",
      "source": [
        "# [17] Xpoly3의 shape 확인\n",
        "print(Xpoly3.shape)"
      ],
      "metadata": {
        "id": "7oeTGAnaY7_J",
        "colab": {
          "base_uri": "https://localhost:8080/"
        },
        "outputId": "dfc3b562-ae18-492a-f604-f3a873f331b3"
      },
      "execution_count": 32,
      "outputs": [
        {
          "output_type": "stream",
          "name": "stdout",
          "text": [
            "(100, 9)\n"
          ]
        }
      ]
    },
    {
      "cell_type": "code",
      "source": [
        "# [18] poly3의 shape 확인\n",
        "poly3.get_feature_names_out()"
      ],
      "metadata": {
        "id": "KY0x7BMLbrbs",
        "colab": {
          "base_uri": "https://localhost:8080/"
        },
        "outputId": "e8b2d8ab-d4e4-4425-c8cf-9d9a9f81bc22"
      },
      "execution_count": 33,
      "outputs": [
        {
          "output_type": "execute_result",
          "data": {
            "text/plain": [
              "array(['height', 'weight', 'height^2', 'height weight', 'weight^2',\n",
              "       'height^3', 'height^2 weight', 'height weight^2', 'weight^3'],\n",
              "      dtype=object)"
            ]
          },
          "metadata": {},
          "execution_count": 33
        }
      ]
    },
    {
      "cell_type": "code",
      "source": [
        "Xpoly3[:5]"
      ],
      "metadata": {
        "id": "-F9MAfu2n70V",
        "outputId": "1d49944f-5dd0-4f1d-e597-bf6e008dce2b",
        "colab": {
          "base_uri": "https://localhost:8080/"
        }
      },
      "execution_count": 34,
      "outputs": [
        {
          "output_type": "execute_result",
          "data": {
            "text/plain": [
              "array([[1.63100000e+02, 7.13000000e+01, 2.66016100e+04, 1.16290300e+04,\n",
              "        5.08369000e+03, 4.33872259e+06, 1.89669479e+06, 8.29149839e+05,\n",
              "        3.62467097e+05],\n",
              "       [1.75100000e+02, 8.55000000e+01, 3.06600100e+04, 1.49710500e+04,\n",
              "        7.31025000e+03, 5.36856775e+06, 2.62143085e+06, 1.28002477e+06,\n",
              "        6.25026375e+05],\n",
              "       [1.74000000e+02, 7.80000000e+01, 3.02760000e+04, 1.35720000e+04,\n",
              "        6.08400000e+03, 5.26802400e+06, 2.36152800e+06, 1.05861600e+06,\n",
              "        4.74552000e+05],\n",
              "       [1.71200000e+02, 7.31000000e+01, 2.93094400e+04, 1.25147200e+04,\n",
              "        5.34361000e+03, 5.01777613e+06, 2.14252006e+06, 9.14826032e+05,\n",
              "        3.90617891e+05],\n",
              "       [1.60200000e+02, 5.74000000e+01, 2.56640400e+04, 9.19548000e+03,\n",
              "        3.29476000e+03, 4.11137921e+06, 1.47311590e+06, 5.27820552e+05,\n",
              "        1.89119224e+05]])"
            ]
          },
          "metadata": {},
          "execution_count": 34
        }
      ]
    },
    {
      "cell_type": "markdown",
      "source": [
        "### 2-5.Ridge Regression\n",
        "- sklearn.linear_model.Ridge(alpha=1.0, *, fit_intercept=True, normalize='deprecated', copy_X=True, max_iter=None, tol=0.001, solver='auto', positive=False, random_state=None)\n",
        "- coef(회귀계수)가 작아지지만 0이 되지는 않음"
      ],
      "metadata": {
        "id": "VGzRXeVWdTk-"
      }
    },
    {
      "cell_type": "code",
      "source": [
        "# alpha=0 : 규제를 주지 않음\n",
        "# alpha 값이 크다는 것은 규제를 크게 주겠다는 것을 의미 => coef_ 값들이 작아짐"
      ],
      "metadata": {
        "id": "ZrkTNOuIHx5g"
      },
      "execution_count": 35,
      "outputs": []
    },
    {
      "cell_type": "code",
      "source": [
        "# [19] PolynomialFeatures degree=3과 Ridge를 사용한 모델링\n",
        "from sklearn.linear_model import Ridge\n",
        "Xscaled = MinMaxScaler().fit_transform(Xnormal)\n",
        "poly3 = PolynomialFeatures(degree=3,include_bias=False)#, interaction_only=True, )\n",
        "Xpoly3 = poly3.fit_transform(Xscaled)\n",
        "ridge_coef = pd.DataFrame()\n",
        "for a in [0, 0.001, 0.1, 1, 10]:\n",
        "  print(f'alpha={a:7.4f}',end = '  ')\n",
        "  model = Ridge(alpha = a, random_state=0)\n",
        "  Model_Train(model, Xpoly3, Ynormal, scale=True)\n",
        "  ridge_coef[f'alpha_{a}'] = model.coef_"
      ],
      "metadata": {
        "id": "0gQME2RMdXre",
        "colab": {
          "base_uri": "https://localhost:8080/"
        },
        "outputId": "a3f2ec04-f787-4cd8-d475-1077066ab3c9"
      },
      "execution_count": 36,
      "outputs": [
        {
          "output_type": "stream",
          "name": "stdout",
          "text": [
            "alpha= 0.0000  1.0000 1.0000\n",
            "alpha= 0.0010  0.9999 0.9978\n",
            "alpha= 0.1000  0.9890 0.9755\n",
            "alpha= 1.0000  0.9107 0.9133\n",
            "alpha=10.0000  0.5968 0.5496\n"
          ]
        }
      ]
    },
    {
      "cell_type": "code",
      "source": [
        "# alpha= 0.0000  1.0000 1.0000\n",
        "# alpha= 0.0010  0.9994 0.9962\n",
        "# alpha= 0.1000  0.9874 0.9499\n",
        "# alpha= 1.0000  0.9480 0.9279\n",
        "# alpha=10.0000  0.6938 0.6471"
      ],
      "metadata": {
        "id": "Nq3ZmM9WY8Ty"
      },
      "execution_count": 37,
      "outputs": []
    },
    {
      "cell_type": "code",
      "source": [
        "# [20] ridge_coef 출력하여 회귀계수 확인\n",
        "ridge_coef"
      ],
      "metadata": {
        "id": "m9PYo-9nebFI",
        "colab": {
          "base_uri": "https://localhost:8080/",
          "height": 0
        },
        "outputId": "20bb014b-a902-45ab-b880-2845ccf1e809"
      },
      "execution_count": 38,
      "outputs": [
        {
          "output_type": "execute_result",
          "data": {
            "text/plain": [
              "     alpha_0  alpha_0.001  alpha_0.1   alpha_1  alpha_10\n",
              "0 -11.362153   -10.577845  -6.775021 -3.273453 -0.579522\n",
              "1  30.806355    26.825901  17.385751  8.800228  2.781931\n",
              "2   5.503521    -1.570428  -3.582463 -3.302849 -0.573838\n",
              "3 -16.133851    -5.109459   2.639689  2.604697  1.391179\n",
              "4   0.026863     1.232404   5.995482  5.056835  2.340779\n",
              "5  -1.630751     4.796710  -0.777098 -2.897834 -0.481850\n",
              "6   4.225833    -2.969766  -1.302126  0.079072  0.718215\n",
              "7  -0.113384    -2.210462  -2.022261  1.200538  1.372022\n",
              "8   0.030032     0.234020  -1.739847  1.888091  1.760240"
            ],
            "text/html": [
              "\n",
              "  <div id=\"df-51ca4fbd-28a5-45ed-8bfe-066e85126460\">\n",
              "    <div class=\"colab-df-container\">\n",
              "      <div>\n",
              "<style scoped>\n",
              "    .dataframe tbody tr th:only-of-type {\n",
              "        vertical-align: middle;\n",
              "    }\n",
              "\n",
              "    .dataframe tbody tr th {\n",
              "        vertical-align: top;\n",
              "    }\n",
              "\n",
              "    .dataframe thead th {\n",
              "        text-align: right;\n",
              "    }\n",
              "</style>\n",
              "<table border=\"1\" class=\"dataframe\">\n",
              "  <thead>\n",
              "    <tr style=\"text-align: right;\">\n",
              "      <th></th>\n",
              "      <th>alpha_0</th>\n",
              "      <th>alpha_0.001</th>\n",
              "      <th>alpha_0.1</th>\n",
              "      <th>alpha_1</th>\n",
              "      <th>alpha_10</th>\n",
              "    </tr>\n",
              "  </thead>\n",
              "  <tbody>\n",
              "    <tr>\n",
              "      <th>0</th>\n",
              "      <td>-11.362153</td>\n",
              "      <td>-10.577845</td>\n",
              "      <td>-6.775021</td>\n",
              "      <td>-3.273453</td>\n",
              "      <td>-0.579522</td>\n",
              "    </tr>\n",
              "    <tr>\n",
              "      <th>1</th>\n",
              "      <td>30.806355</td>\n",
              "      <td>26.825901</td>\n",
              "      <td>17.385751</td>\n",
              "      <td>8.800228</td>\n",
              "      <td>2.781931</td>\n",
              "    </tr>\n",
              "    <tr>\n",
              "      <th>2</th>\n",
              "      <td>5.503521</td>\n",
              "      <td>-1.570428</td>\n",
              "      <td>-3.582463</td>\n",
              "      <td>-3.302849</td>\n",
              "      <td>-0.573838</td>\n",
              "    </tr>\n",
              "    <tr>\n",
              "      <th>3</th>\n",
              "      <td>-16.133851</td>\n",
              "      <td>-5.109459</td>\n",
              "      <td>2.639689</td>\n",
              "      <td>2.604697</td>\n",
              "      <td>1.391179</td>\n",
              "    </tr>\n",
              "    <tr>\n",
              "      <th>4</th>\n",
              "      <td>0.026863</td>\n",
              "      <td>1.232404</td>\n",
              "      <td>5.995482</td>\n",
              "      <td>5.056835</td>\n",
              "      <td>2.340779</td>\n",
              "    </tr>\n",
              "    <tr>\n",
              "      <th>5</th>\n",
              "      <td>-1.630751</td>\n",
              "      <td>4.796710</td>\n",
              "      <td>-0.777098</td>\n",
              "      <td>-2.897834</td>\n",
              "      <td>-0.481850</td>\n",
              "    </tr>\n",
              "    <tr>\n",
              "      <th>6</th>\n",
              "      <td>4.225833</td>\n",
              "      <td>-2.969766</td>\n",
              "      <td>-1.302126</td>\n",
              "      <td>0.079072</td>\n",
              "      <td>0.718215</td>\n",
              "    </tr>\n",
              "    <tr>\n",
              "      <th>7</th>\n",
              "      <td>-0.113384</td>\n",
              "      <td>-2.210462</td>\n",
              "      <td>-2.022261</td>\n",
              "      <td>1.200538</td>\n",
              "      <td>1.372022</td>\n",
              "    </tr>\n",
              "    <tr>\n",
              "      <th>8</th>\n",
              "      <td>0.030032</td>\n",
              "      <td>0.234020</td>\n",
              "      <td>-1.739847</td>\n",
              "      <td>1.888091</td>\n",
              "      <td>1.760240</td>\n",
              "    </tr>\n",
              "  </tbody>\n",
              "</table>\n",
              "</div>\n",
              "      <button class=\"colab-df-convert\" onclick=\"convertToInteractive('df-51ca4fbd-28a5-45ed-8bfe-066e85126460')\"\n",
              "              title=\"Convert this dataframe to an interactive table.\"\n",
              "              style=\"display:none;\">\n",
              "        \n",
              "  <svg xmlns=\"http://www.w3.org/2000/svg\" height=\"24px\"viewBox=\"0 0 24 24\"\n",
              "       width=\"24px\">\n",
              "    <path d=\"M0 0h24v24H0V0z\" fill=\"none\"/>\n",
              "    <path d=\"M18.56 5.44l.94 2.06.94-2.06 2.06-.94-2.06-.94-.94-2.06-.94 2.06-2.06.94zm-11 1L8.5 8.5l.94-2.06 2.06-.94-2.06-.94L8.5 2.5l-.94 2.06-2.06.94zm10 10l.94 2.06.94-2.06 2.06-.94-2.06-.94-.94-2.06-.94 2.06-2.06.94z\"/><path d=\"M17.41 7.96l-1.37-1.37c-.4-.4-.92-.59-1.43-.59-.52 0-1.04.2-1.43.59L10.3 9.45l-7.72 7.72c-.78.78-.78 2.05 0 2.83L4 21.41c.39.39.9.59 1.41.59.51 0 1.02-.2 1.41-.59l7.78-7.78 2.81-2.81c.8-.78.8-2.07 0-2.86zM5.41 20L4 18.59l7.72-7.72 1.47 1.35L5.41 20z\"/>\n",
              "  </svg>\n",
              "      </button>\n",
              "      \n",
              "  <style>\n",
              "    .colab-df-container {\n",
              "      display:flex;\n",
              "      flex-wrap:wrap;\n",
              "      gap: 12px;\n",
              "    }\n",
              "\n",
              "    .colab-df-convert {\n",
              "      background-color: #E8F0FE;\n",
              "      border: none;\n",
              "      border-radius: 50%;\n",
              "      cursor: pointer;\n",
              "      display: none;\n",
              "      fill: #1967D2;\n",
              "      height: 32px;\n",
              "      padding: 0 0 0 0;\n",
              "      width: 32px;\n",
              "    }\n",
              "\n",
              "    .colab-df-convert:hover {\n",
              "      background-color: #E2EBFA;\n",
              "      box-shadow: 0px 1px 2px rgba(60, 64, 67, 0.3), 0px 1px 3px 1px rgba(60, 64, 67, 0.15);\n",
              "      fill: #174EA6;\n",
              "    }\n",
              "\n",
              "    [theme=dark] .colab-df-convert {\n",
              "      background-color: #3B4455;\n",
              "      fill: #D2E3FC;\n",
              "    }\n",
              "\n",
              "    [theme=dark] .colab-df-convert:hover {\n",
              "      background-color: #434B5C;\n",
              "      box-shadow: 0px 1px 3px 1px rgba(0, 0, 0, 0.15);\n",
              "      filter: drop-shadow(0px 1px 2px rgba(0, 0, 0, 0.3));\n",
              "      fill: #FFFFFF;\n",
              "    }\n",
              "  </style>\n",
              "\n",
              "      <script>\n",
              "        const buttonEl =\n",
              "          document.querySelector('#df-51ca4fbd-28a5-45ed-8bfe-066e85126460 button.colab-df-convert');\n",
              "        buttonEl.style.display =\n",
              "          google.colab.kernel.accessAllowed ? 'block' : 'none';\n",
              "\n",
              "        async function convertToInteractive(key) {\n",
              "          const element = document.querySelector('#df-51ca4fbd-28a5-45ed-8bfe-066e85126460');\n",
              "          const dataTable =\n",
              "            await google.colab.kernel.invokeFunction('convertToInteractive',\n",
              "                                                     [key], {});\n",
              "          if (!dataTable) return;\n",
              "\n",
              "          const docLinkHtml = 'Like what you see? Visit the ' +\n",
              "            '<a target=\"_blank\" href=https://colab.research.google.com/notebooks/data_table.ipynb>data table notebook</a>'\n",
              "            + ' to learn more about interactive tables.';\n",
              "          element.innerHTML = '';\n",
              "          dataTable['output_type'] = 'display_data';\n",
              "          await google.colab.output.renderOutput(dataTable, element);\n",
              "          const docLink = document.createElement('div');\n",
              "          docLink.innerHTML = docLinkHtml;\n",
              "          element.appendChild(docLink);\n",
              "        }\n",
              "      </script>\n",
              "    </div>\n",
              "  </div>\n",
              "  "
            ]
          },
          "metadata": {},
          "execution_count": 38
        }
      ]
    },
    {
      "cell_type": "code",
      "source": [
        "ridge_coef.abs().sum()"
      ],
      "metadata": {
        "id": "p8Lln54WT_f5",
        "outputId": "25be6b9a-cb1c-4b3f-dc94-554314f015e8",
        "colab": {
          "base_uri": "https://localhost:8080/"
        }
      },
      "execution_count": 39,
      "outputs": [
        {
          "output_type": "execute_result",
          "data": {
            "text/plain": [
              "alpha_0        69.832743\n",
              "alpha_0.001    55.526996\n",
              "alpha_0.1      42.219737\n",
              "alpha_1        29.103598\n",
              "alpha_10       11.999575\n",
              "dtype: float64"
            ]
          },
          "metadata": {},
          "execution_count": 39
        }
      ]
    },
    {
      "cell_type": "markdown",
      "source": [
        "### 2-6.Lasso Regression\n",
        "- sklearn.linear_model.Lasso(alpha=1.0, *, fit_intercept=True, normalize='deprecated', precompute=False, copy_X=True, max_iter=1000, tol=0.0001, warm_start=False, positive=False, random_state=None, selection='cyclic')\n",
        "- 규제강도가 커지면 회귀계수가 작아지고 0도 될 수 있다"
      ],
      "metadata": {
        "id": "9Rs-KNSBmN5V"
      }
    },
    {
      "cell_type": "code",
      "source": [
        "# 권장 순서\n",
        "# X -> Xscaled -> Xpoly -> fit()\n",
        "tX = pd.DataFrame({'A': [1, 10, 100, 1000, 10000, 100000]})\n",
        "tS = MinMaxScaler().fit_transform(tX)  # ndarray\n",
        "t4 = tS ** 4\n",
        "t4"
      ],
      "metadata": {
        "id": "6WwjxtW1V1_h",
        "colab": {
          "base_uri": "https://localhost:8080/"
        },
        "outputId": "d4bd6dfc-1615-4c71-93fd-98814dc50268"
      },
      "execution_count": 40,
      "outputs": [
        {
          "output_type": "execute_result",
          "data": {
            "text/plain": [
              "array([[0.00000000e+00],\n",
              "       [6.56126245e-17],\n",
              "       [9.60634435e-13],\n",
              "       [9.96045837e-09],\n",
              "       [9.99640045e-05],\n",
              "       [1.00000000e+00]])"
            ]
          },
          "metadata": {},
          "execution_count": 40
        }
      ]
    },
    {
      "cell_type": "code",
      "source": [
        "# 비권장 순서\n",
        "# X -> Xpoly -> Xscaled -> fit()\n",
        "tX = pd.DataFrame({'A': [1, 10, 100, 1000, 10000, 100000]})\n",
        "t4 = tX ** 4\n",
        "t4['A']"
      ],
      "metadata": {
        "id": "uyxZoaqiV_hm",
        "colab": {
          "base_uri": "https://localhost:8080/"
        },
        "outputId": "f05b9685-1ea5-4a37-d929-99e648ad5d46"
      },
      "execution_count": 41,
      "outputs": [
        {
          "output_type": "execute_result",
          "data": {
            "text/plain": [
              "0                      1\n",
              "1                  10000\n",
              "2              100000000\n",
              "3          1000000000000\n",
              "4      10000000000000000\n",
              "5    7766279631452241920\n",
              "Name: A, dtype: int64"
            ]
          },
          "metadata": {},
          "execution_count": 41
        }
      ]
    },
    {
      "cell_type": "code",
      "source": [
        "A = 1e20\n",
        "type(A)"
      ],
      "metadata": {
        "colab": {
          "base_uri": "https://localhost:8080/"
        },
        "id": "KvsNq-2HXV2J",
        "outputId": "3c456e45-1a8a-488d-e1b9-e4852e6d8923"
      },
      "execution_count": 42,
      "outputs": [
        {
          "output_type": "execute_result",
          "data": {
            "text/plain": [
              "float"
            ]
          },
          "metadata": {},
          "execution_count": 42
        }
      ]
    },
    {
      "cell_type": "code",
      "source": [
        "# int64\n",
        "-2**63, 2**63-1   # 9223372036854775807"
      ],
      "metadata": {
        "colab": {
          "base_uri": "https://localhost:8080/"
        },
        "id": "JrEMkYHsXIW8",
        "outputId": "22f9bd81-7a17-4376-bdef-91e3d8a72415"
      },
      "execution_count": 43,
      "outputs": [
        {
          "output_type": "execute_result",
          "data": {
            "text/plain": [
              "(-9223372036854775808, 9223372036854775807)"
            ]
          },
          "metadata": {},
          "execution_count": 43
        }
      ]
    },
    {
      "cell_type": "code",
      "source": [
        "# [21] degree=3과 Lasso를 사용한 모델링\n",
        "from sklearn.linear_model import Lasso\n",
        "Xscaled = MinMaxScaler().fit_transform(Xnormal)\n",
        "poly3 = PolynomialFeatures(degree=3,include_bias=False)#, interaction_only=True, )\n",
        "Xpoly3 = poly3.fit_transform(Xscaled)\n",
        "lasso_coef = pd.DataFrame()\n",
        "for a in [0.0001, 0.001, 0.1, 0.2, 0.3]:\n",
        "  print(f'alpha={a:7.4f}',end = '  ')\n",
        "  model = Lasso(alpha = a, max_iter=1000, tol=0.001, random_state=0)\n",
        "  Model_Train(model, Xpoly3, Ynormal)\n",
        "  lasso_coef[f'alpha_{a}'] = model.coef_"
      ],
      "metadata": {
        "id": "vgVW5zTNcuNV",
        "colab": {
          "base_uri": "https://localhost:8080/"
        },
        "outputId": "0b79ab41-6d90-4efa-ad5a-a99517c4cd3b"
      },
      "execution_count": 44,
      "outputs": [
        {
          "output_type": "stream",
          "name": "stdout",
          "text": [
            "alpha= 0.0001  0.9998 0.9985\n",
            "alpha= 0.0010  0.9994 0.9986\n",
            "alpha= 0.1000  0.9253 0.9262\n",
            "alpha= 0.2000  0.7656 0.6763\n",
            "alpha= 0.3000  0.7096 0.6361\n"
          ]
        }
      ]
    },
    {
      "cell_type": "code",
      "source": [
        "# alpha= 0.0001  0.9979 0.9938\n",
        "# alpha= 0.0010  0.9964 0.9851\n",
        "# alpha= 0.1000  0.9246 0.9180\n",
        "# alpha= 0.2000  0.7656 0.6763\n",
        "# alpha= 0.3000  0.7096 0.6361"
      ],
      "metadata": {
        "id": "dC4B3AppYlJ2"
      },
      "execution_count": 45,
      "outputs": []
    },
    {
      "cell_type": "code",
      "source": [
        "# [22] lasso_coef 출력하여 회귀계수 확인\n",
        "lasso_coef"
      ],
      "metadata": {
        "id": "GU-S6_NxgJD-",
        "colab": {
          "base_uri": "https://localhost:8080/",
          "height": 0
        },
        "outputId": "f0568016-8c45-42fc-af73-da5b0bcd3f49"
      },
      "execution_count": 46,
      "outputs": [
        {
          "output_type": "execute_result",
          "data": {
            "text/plain": [
              "   alpha_0.0001  alpha_0.001  alpha_0.1  alpha_0.2  alpha_0.3\n",
              "0     -8.614788    -7.802350  -0.000000  -0.000000  -0.000000\n",
              "1     25.843439    25.813788  17.306090  12.632765  10.690377\n",
              "2     -6.288986    -6.240570  -4.921906  -0.000000  -0.000000\n",
              "3     -2.045708    -2.478983   0.000000   0.000000   0.000000\n",
              "4      1.291855     0.383112   0.000000   0.000000   0.000000\n",
              "5      7.969082     6.177421  -0.000000  -0.000000  -0.000000\n",
              "6     -5.936227    -3.743637  -0.000000  -0.000000   0.000000\n",
              "7     -1.738364    -1.565509   0.000000   0.000000   0.000000\n",
              "8     -0.181067    -0.000000   0.000000   0.000000   0.000000"
            ],
            "text/html": [
              "\n",
              "  <div id=\"df-bdb3f938-cc81-4922-94e3-79ecd7f2099f\">\n",
              "    <div class=\"colab-df-container\">\n",
              "      <div>\n",
              "<style scoped>\n",
              "    .dataframe tbody tr th:only-of-type {\n",
              "        vertical-align: middle;\n",
              "    }\n",
              "\n",
              "    .dataframe tbody tr th {\n",
              "        vertical-align: top;\n",
              "    }\n",
              "\n",
              "    .dataframe thead th {\n",
              "        text-align: right;\n",
              "    }\n",
              "</style>\n",
              "<table border=\"1\" class=\"dataframe\">\n",
              "  <thead>\n",
              "    <tr style=\"text-align: right;\">\n",
              "      <th></th>\n",
              "      <th>alpha_0.0001</th>\n",
              "      <th>alpha_0.001</th>\n",
              "      <th>alpha_0.1</th>\n",
              "      <th>alpha_0.2</th>\n",
              "      <th>alpha_0.3</th>\n",
              "    </tr>\n",
              "  </thead>\n",
              "  <tbody>\n",
              "    <tr>\n",
              "      <th>0</th>\n",
              "      <td>-8.614788</td>\n",
              "      <td>-7.802350</td>\n",
              "      <td>-0.000000</td>\n",
              "      <td>-0.000000</td>\n",
              "      <td>-0.000000</td>\n",
              "    </tr>\n",
              "    <tr>\n",
              "      <th>1</th>\n",
              "      <td>25.843439</td>\n",
              "      <td>25.813788</td>\n",
              "      <td>17.306090</td>\n",
              "      <td>12.632765</td>\n",
              "      <td>10.690377</td>\n",
              "    </tr>\n",
              "    <tr>\n",
              "      <th>2</th>\n",
              "      <td>-6.288986</td>\n",
              "      <td>-6.240570</td>\n",
              "      <td>-4.921906</td>\n",
              "      <td>-0.000000</td>\n",
              "      <td>-0.000000</td>\n",
              "    </tr>\n",
              "    <tr>\n",
              "      <th>3</th>\n",
              "      <td>-2.045708</td>\n",
              "      <td>-2.478983</td>\n",
              "      <td>0.000000</td>\n",
              "      <td>0.000000</td>\n",
              "      <td>0.000000</td>\n",
              "    </tr>\n",
              "    <tr>\n",
              "      <th>4</th>\n",
              "      <td>1.291855</td>\n",
              "      <td>0.383112</td>\n",
              "      <td>0.000000</td>\n",
              "      <td>0.000000</td>\n",
              "      <td>0.000000</td>\n",
              "    </tr>\n",
              "    <tr>\n",
              "      <th>5</th>\n",
              "      <td>7.969082</td>\n",
              "      <td>6.177421</td>\n",
              "      <td>-0.000000</td>\n",
              "      <td>-0.000000</td>\n",
              "      <td>-0.000000</td>\n",
              "    </tr>\n",
              "    <tr>\n",
              "      <th>6</th>\n",
              "      <td>-5.936227</td>\n",
              "      <td>-3.743637</td>\n",
              "      <td>-0.000000</td>\n",
              "      <td>-0.000000</td>\n",
              "      <td>0.000000</td>\n",
              "    </tr>\n",
              "    <tr>\n",
              "      <th>7</th>\n",
              "      <td>-1.738364</td>\n",
              "      <td>-1.565509</td>\n",
              "      <td>0.000000</td>\n",
              "      <td>0.000000</td>\n",
              "      <td>0.000000</td>\n",
              "    </tr>\n",
              "    <tr>\n",
              "      <th>8</th>\n",
              "      <td>-0.181067</td>\n",
              "      <td>-0.000000</td>\n",
              "      <td>0.000000</td>\n",
              "      <td>0.000000</td>\n",
              "      <td>0.000000</td>\n",
              "    </tr>\n",
              "  </tbody>\n",
              "</table>\n",
              "</div>\n",
              "      <button class=\"colab-df-convert\" onclick=\"convertToInteractive('df-bdb3f938-cc81-4922-94e3-79ecd7f2099f')\"\n",
              "              title=\"Convert this dataframe to an interactive table.\"\n",
              "              style=\"display:none;\">\n",
              "        \n",
              "  <svg xmlns=\"http://www.w3.org/2000/svg\" height=\"24px\"viewBox=\"0 0 24 24\"\n",
              "       width=\"24px\">\n",
              "    <path d=\"M0 0h24v24H0V0z\" fill=\"none\"/>\n",
              "    <path d=\"M18.56 5.44l.94 2.06.94-2.06 2.06-.94-2.06-.94-.94-2.06-.94 2.06-2.06.94zm-11 1L8.5 8.5l.94-2.06 2.06-.94-2.06-.94L8.5 2.5l-.94 2.06-2.06.94zm10 10l.94 2.06.94-2.06 2.06-.94-2.06-.94-.94-2.06-.94 2.06-2.06.94z\"/><path d=\"M17.41 7.96l-1.37-1.37c-.4-.4-.92-.59-1.43-.59-.52 0-1.04.2-1.43.59L10.3 9.45l-7.72 7.72c-.78.78-.78 2.05 0 2.83L4 21.41c.39.39.9.59 1.41.59.51 0 1.02-.2 1.41-.59l7.78-7.78 2.81-2.81c.8-.78.8-2.07 0-2.86zM5.41 20L4 18.59l7.72-7.72 1.47 1.35L5.41 20z\"/>\n",
              "  </svg>\n",
              "      </button>\n",
              "      \n",
              "  <style>\n",
              "    .colab-df-container {\n",
              "      display:flex;\n",
              "      flex-wrap:wrap;\n",
              "      gap: 12px;\n",
              "    }\n",
              "\n",
              "    .colab-df-convert {\n",
              "      background-color: #E8F0FE;\n",
              "      border: none;\n",
              "      border-radius: 50%;\n",
              "      cursor: pointer;\n",
              "      display: none;\n",
              "      fill: #1967D2;\n",
              "      height: 32px;\n",
              "      padding: 0 0 0 0;\n",
              "      width: 32px;\n",
              "    }\n",
              "\n",
              "    .colab-df-convert:hover {\n",
              "      background-color: #E2EBFA;\n",
              "      box-shadow: 0px 1px 2px rgba(60, 64, 67, 0.3), 0px 1px 3px 1px rgba(60, 64, 67, 0.15);\n",
              "      fill: #174EA6;\n",
              "    }\n",
              "\n",
              "    [theme=dark] .colab-df-convert {\n",
              "      background-color: #3B4455;\n",
              "      fill: #D2E3FC;\n",
              "    }\n",
              "\n",
              "    [theme=dark] .colab-df-convert:hover {\n",
              "      background-color: #434B5C;\n",
              "      box-shadow: 0px 1px 3px 1px rgba(0, 0, 0, 0.15);\n",
              "      filter: drop-shadow(0px 1px 2px rgba(0, 0, 0, 0.3));\n",
              "      fill: #FFFFFF;\n",
              "    }\n",
              "  </style>\n",
              "\n",
              "      <script>\n",
              "        const buttonEl =\n",
              "          document.querySelector('#df-bdb3f938-cc81-4922-94e3-79ecd7f2099f button.colab-df-convert');\n",
              "        buttonEl.style.display =\n",
              "          google.colab.kernel.accessAllowed ? 'block' : 'none';\n",
              "\n",
              "        async function convertToInteractive(key) {\n",
              "          const element = document.querySelector('#df-bdb3f938-cc81-4922-94e3-79ecd7f2099f');\n",
              "          const dataTable =\n",
              "            await google.colab.kernel.invokeFunction('convertToInteractive',\n",
              "                                                     [key], {});\n",
              "          if (!dataTable) return;\n",
              "\n",
              "          const docLinkHtml = 'Like what you see? Visit the ' +\n",
              "            '<a target=\"_blank\" href=https://colab.research.google.com/notebooks/data_table.ipynb>data table notebook</a>'\n",
              "            + ' to learn more about interactive tables.';\n",
              "          element.innerHTML = '';\n",
              "          dataTable['output_type'] = 'display_data';\n",
              "          await google.colab.output.renderOutput(dataTable, element);\n",
              "          const docLink = document.createElement('div');\n",
              "          docLink.innerHTML = docLinkHtml;\n",
              "          element.appendChild(docLink);\n",
              "        }\n",
              "      </script>\n",
              "    </div>\n",
              "  </div>\n",
              "  "
            ]
          },
          "metadata": {},
          "execution_count": 46
        }
      ]
    },
    {
      "cell_type": "code",
      "source": [
        "# Ridge, Lasso는 overfitting 되는 데이터에 주로 사용하여 overfitting을 해결하는 용도로 사용한다"
      ],
      "metadata": {
        "id": "zQTU0Mc3gl8a"
      },
      "execution_count": 47,
      "outputs": []
    },
    {
      "cell_type": "code",
      "source": [
        "lasso_coef.abs().sum()"
      ],
      "metadata": {
        "id": "X6s3pMjpUssq",
        "outputId": "bc0713e4-ea18-4bb7-a9d1-7aa18eef06ff",
        "colab": {
          "base_uri": "https://localhost:8080/"
        }
      },
      "execution_count": 48,
      "outputs": [
        {
          "output_type": "execute_result",
          "data": {
            "text/plain": [
              "alpha_0.0001    59.909517\n",
              "alpha_0.001     54.205369\n",
              "alpha_0.1       22.227996\n",
              "alpha_0.2       12.632765\n",
              "alpha_0.3       10.690377\n",
              "dtype: float64"
            ]
          },
          "metadata": {},
          "execution_count": 48
        }
      ]
    },
    {
      "cell_type": "markdown",
      "source": [
        "### 2-7.DecisionTree \n",
        "- sklearn.tree.DecisionTreeRegressor(*, criterion='squared_error', splitter='best', max_depth=None, min_samples_split=2, min_samples_leaf=1, min_weight_fraction_leaf=0.0, max_features=None, random_state=None, max_leaf_nodes=None, min_impurity_decrease=0.0, ccp_alpha=0.0"
      ],
      "metadata": {
        "id": "O30hcJEqhAsr"
      }
    },
    {
      "cell_type": "code",
      "source": [
        "# [22] Xnormal, Ynormal 데이터에 DecisionTreeRegressor 사용\n",
        "from sklearn.tree  import DecisionTreeRegressor\n",
        "model = DecisionTreeRegressor(max_depth = 8, random_state=0)\n",
        "Model_Train(model, Xnormal, Ynormal)"
      ],
      "metadata": {
        "id": "5hJOCWXahH6G",
        "colab": {
          "base_uri": "https://localhost:8080/",
          "height": 0
        },
        "outputId": "c347cbf2-3df0-4eb9-c566-9be84991cc1d"
      },
      "execution_count": 49,
      "outputs": [
        {
          "output_type": "stream",
          "name": "stdout",
          "text": [
            "0.9999 0.7974\n"
          ]
        },
        {
          "output_type": "execute_result",
          "data": {
            "text/plain": [
              "DecisionTreeRegressor(max_depth=8, random_state=0)"
            ],
            "text/html": [
              "<style>#sk-container-id-7 {color: black;background-color: white;}#sk-container-id-7 pre{padding: 0;}#sk-container-id-7 div.sk-toggleable {background-color: white;}#sk-container-id-7 label.sk-toggleable__label {cursor: pointer;display: block;width: 100%;margin-bottom: 0;padding: 0.3em;box-sizing: border-box;text-align: center;}#sk-container-id-7 label.sk-toggleable__label-arrow:before {content: \"▸\";float: left;margin-right: 0.25em;color: #696969;}#sk-container-id-7 label.sk-toggleable__label-arrow:hover:before {color: black;}#sk-container-id-7 div.sk-estimator:hover label.sk-toggleable__label-arrow:before {color: black;}#sk-container-id-7 div.sk-toggleable__content {max-height: 0;max-width: 0;overflow: hidden;text-align: left;background-color: #f0f8ff;}#sk-container-id-7 div.sk-toggleable__content pre {margin: 0.2em;color: black;border-radius: 0.25em;background-color: #f0f8ff;}#sk-container-id-7 input.sk-toggleable__control:checked~div.sk-toggleable__content {max-height: 200px;max-width: 100%;overflow: auto;}#sk-container-id-7 input.sk-toggleable__control:checked~label.sk-toggleable__label-arrow:before {content: \"▾\";}#sk-container-id-7 div.sk-estimator input.sk-toggleable__control:checked~label.sk-toggleable__label {background-color: #d4ebff;}#sk-container-id-7 div.sk-label input.sk-toggleable__control:checked~label.sk-toggleable__label {background-color: #d4ebff;}#sk-container-id-7 input.sk-hidden--visually {border: 0;clip: rect(1px 1px 1px 1px);clip: rect(1px, 1px, 1px, 1px);height: 1px;margin: -1px;overflow: hidden;padding: 0;position: absolute;width: 1px;}#sk-container-id-7 div.sk-estimator {font-family: monospace;background-color: #f0f8ff;border: 1px dotted black;border-radius: 0.25em;box-sizing: border-box;margin-bottom: 0.5em;}#sk-container-id-7 div.sk-estimator:hover {background-color: #d4ebff;}#sk-container-id-7 div.sk-parallel-item::after {content: \"\";width: 100%;border-bottom: 1px solid gray;flex-grow: 1;}#sk-container-id-7 div.sk-label:hover label.sk-toggleable__label {background-color: #d4ebff;}#sk-container-id-7 div.sk-serial::before {content: \"\";position: absolute;border-left: 1px solid gray;box-sizing: border-box;top: 0;bottom: 0;left: 50%;z-index: 0;}#sk-container-id-7 div.sk-serial {display: flex;flex-direction: column;align-items: center;background-color: white;padding-right: 0.2em;padding-left: 0.2em;position: relative;}#sk-container-id-7 div.sk-item {position: relative;z-index: 1;}#sk-container-id-7 div.sk-parallel {display: flex;align-items: stretch;justify-content: center;background-color: white;position: relative;}#sk-container-id-7 div.sk-item::before, #sk-container-id-7 div.sk-parallel-item::before {content: \"\";position: absolute;border-left: 1px solid gray;box-sizing: border-box;top: 0;bottom: 0;left: 50%;z-index: -1;}#sk-container-id-7 div.sk-parallel-item {display: flex;flex-direction: column;z-index: 1;position: relative;background-color: white;}#sk-container-id-7 div.sk-parallel-item:first-child::after {align-self: flex-end;width: 50%;}#sk-container-id-7 div.sk-parallel-item:last-child::after {align-self: flex-start;width: 50%;}#sk-container-id-7 div.sk-parallel-item:only-child::after {width: 0;}#sk-container-id-7 div.sk-dashed-wrapped {border: 1px dashed gray;margin: 0 0.4em 0.5em 0.4em;box-sizing: border-box;padding-bottom: 0.4em;background-color: white;}#sk-container-id-7 div.sk-label label {font-family: monospace;font-weight: bold;display: inline-block;line-height: 1.2em;}#sk-container-id-7 div.sk-label-container {text-align: center;}#sk-container-id-7 div.sk-container {/* jupyter's `normalize.less` sets `[hidden] { display: none; }` but bootstrap.min.css set `[hidden] { display: none !important; }` so we also need the `!important` here to be able to override the default hidden behavior on the sphinx rendered scikit-learn.org. See: https://github.com/scikit-learn/scikit-learn/issues/21755 */display: inline-block !important;position: relative;}#sk-container-id-7 div.sk-text-repr-fallback {display: none;}</style><div id=\"sk-container-id-7\" class=\"sk-top-container\"><div class=\"sk-text-repr-fallback\"><pre>DecisionTreeRegressor(max_depth=8, random_state=0)</pre><b>In a Jupyter environment, please rerun this cell to show the HTML representation or trust the notebook. <br />On GitHub, the HTML representation is unable to render, please try loading this page with nbviewer.org.</b></div><div class=\"sk-container\" hidden><div class=\"sk-item\"><div class=\"sk-estimator sk-toggleable\"><input class=\"sk-toggleable__control sk-hidden--visually\" id=\"sk-estimator-id-7\" type=\"checkbox\" checked><label for=\"sk-estimator-id-7\" class=\"sk-toggleable__label sk-toggleable__label-arrow\">DecisionTreeRegressor</label><div class=\"sk-toggleable__content\"><pre>DecisionTreeRegressor(max_depth=8, random_state=0)</pre></div></div></div></div></div>"
            ]
          },
          "metadata": {},
          "execution_count": 49
        }
      ]
    },
    {
      "cell_type": "code",
      "source": [
        "# train  test   \n",
        "# 1.0000 0.7371  => overfitting, 과대적합\n",
        "# 과대적합 해결방법 => Ridge, Lasso, 앙상블\n",
        "#                      데이터의 크기를 늘리는 것, 함수의 parameter에 값을 변경"
      ],
      "metadata": {
        "id": "QyXvf0AFnWWD"
      },
      "execution_count": 50,
      "outputs": []
    },
    {
      "cell_type": "code",
      "source": [
        "# [23] 데이터의 개수를 2000개로 늘려 DecisionTreeRegressor 사용 \n",
        "dataL = make_sample(1234, 2000)\n",
        "Xlarge = dataL[['height','weight']]\n",
        "Ylarge = dataL['BMI']\n",
        "model = DecisionTreeRegressor(random_state=0)\n",
        "Model_Train(model, Xlarge, Ylarge)"
      ],
      "metadata": {
        "id": "-iB-OGUSiZJL",
        "colab": {
          "base_uri": "https://localhost:8080/",
          "height": 0
        },
        "outputId": "cbfc429d-2901-4546-85c5-b09ac557e7b0"
      },
      "execution_count": 51,
      "outputs": [
        {
          "output_type": "stream",
          "name": "stdout",
          "text": [
            "1.0000 0.9903\n"
          ]
        },
        {
          "output_type": "execute_result",
          "data": {
            "text/plain": [
              "DecisionTreeRegressor(random_state=0)"
            ],
            "text/html": [
              "<style>#sk-container-id-8 {color: black;background-color: white;}#sk-container-id-8 pre{padding: 0;}#sk-container-id-8 div.sk-toggleable {background-color: white;}#sk-container-id-8 label.sk-toggleable__label {cursor: pointer;display: block;width: 100%;margin-bottom: 0;padding: 0.3em;box-sizing: border-box;text-align: center;}#sk-container-id-8 label.sk-toggleable__label-arrow:before {content: \"▸\";float: left;margin-right: 0.25em;color: #696969;}#sk-container-id-8 label.sk-toggleable__label-arrow:hover:before {color: black;}#sk-container-id-8 div.sk-estimator:hover label.sk-toggleable__label-arrow:before {color: black;}#sk-container-id-8 div.sk-toggleable__content {max-height: 0;max-width: 0;overflow: hidden;text-align: left;background-color: #f0f8ff;}#sk-container-id-8 div.sk-toggleable__content pre {margin: 0.2em;color: black;border-radius: 0.25em;background-color: #f0f8ff;}#sk-container-id-8 input.sk-toggleable__control:checked~div.sk-toggleable__content {max-height: 200px;max-width: 100%;overflow: auto;}#sk-container-id-8 input.sk-toggleable__control:checked~label.sk-toggleable__label-arrow:before {content: \"▾\";}#sk-container-id-8 div.sk-estimator input.sk-toggleable__control:checked~label.sk-toggleable__label {background-color: #d4ebff;}#sk-container-id-8 div.sk-label input.sk-toggleable__control:checked~label.sk-toggleable__label {background-color: #d4ebff;}#sk-container-id-8 input.sk-hidden--visually {border: 0;clip: rect(1px 1px 1px 1px);clip: rect(1px, 1px, 1px, 1px);height: 1px;margin: -1px;overflow: hidden;padding: 0;position: absolute;width: 1px;}#sk-container-id-8 div.sk-estimator {font-family: monospace;background-color: #f0f8ff;border: 1px dotted black;border-radius: 0.25em;box-sizing: border-box;margin-bottom: 0.5em;}#sk-container-id-8 div.sk-estimator:hover {background-color: #d4ebff;}#sk-container-id-8 div.sk-parallel-item::after {content: \"\";width: 100%;border-bottom: 1px solid gray;flex-grow: 1;}#sk-container-id-8 div.sk-label:hover label.sk-toggleable__label {background-color: #d4ebff;}#sk-container-id-8 div.sk-serial::before {content: \"\";position: absolute;border-left: 1px solid gray;box-sizing: border-box;top: 0;bottom: 0;left: 50%;z-index: 0;}#sk-container-id-8 div.sk-serial {display: flex;flex-direction: column;align-items: center;background-color: white;padding-right: 0.2em;padding-left: 0.2em;position: relative;}#sk-container-id-8 div.sk-item {position: relative;z-index: 1;}#sk-container-id-8 div.sk-parallel {display: flex;align-items: stretch;justify-content: center;background-color: white;position: relative;}#sk-container-id-8 div.sk-item::before, #sk-container-id-8 div.sk-parallel-item::before {content: \"\";position: absolute;border-left: 1px solid gray;box-sizing: border-box;top: 0;bottom: 0;left: 50%;z-index: -1;}#sk-container-id-8 div.sk-parallel-item {display: flex;flex-direction: column;z-index: 1;position: relative;background-color: white;}#sk-container-id-8 div.sk-parallel-item:first-child::after {align-self: flex-end;width: 50%;}#sk-container-id-8 div.sk-parallel-item:last-child::after {align-self: flex-start;width: 50%;}#sk-container-id-8 div.sk-parallel-item:only-child::after {width: 0;}#sk-container-id-8 div.sk-dashed-wrapped {border: 1px dashed gray;margin: 0 0.4em 0.5em 0.4em;box-sizing: border-box;padding-bottom: 0.4em;background-color: white;}#sk-container-id-8 div.sk-label label {font-family: monospace;font-weight: bold;display: inline-block;line-height: 1.2em;}#sk-container-id-8 div.sk-label-container {text-align: center;}#sk-container-id-8 div.sk-container {/* jupyter's `normalize.less` sets `[hidden] { display: none; }` but bootstrap.min.css set `[hidden] { display: none !important; }` so we also need the `!important` here to be able to override the default hidden behavior on the sphinx rendered scikit-learn.org. See: https://github.com/scikit-learn/scikit-learn/issues/21755 */display: inline-block !important;position: relative;}#sk-container-id-8 div.sk-text-repr-fallback {display: none;}</style><div id=\"sk-container-id-8\" class=\"sk-top-container\"><div class=\"sk-text-repr-fallback\"><pre>DecisionTreeRegressor(random_state=0)</pre><b>In a Jupyter environment, please rerun this cell to show the HTML representation or trust the notebook. <br />On GitHub, the HTML representation is unable to render, please try loading this page with nbviewer.org.</b></div><div class=\"sk-container\" hidden><div class=\"sk-item\"><div class=\"sk-estimator sk-toggleable\"><input class=\"sk-toggleable__control sk-hidden--visually\" id=\"sk-estimator-id-8\" type=\"checkbox\" checked><label for=\"sk-estimator-id-8\" class=\"sk-toggleable__label sk-toggleable__label-arrow\">DecisionTreeRegressor</label><div class=\"sk-toggleable__content\"><pre>DecisionTreeRegressor(random_state=0)</pre></div></div></div></div></div>"
            ]
          },
          "metadata": {},
          "execution_count": 51
        }
      ]
    },
    {
      "cell_type": "markdown",
      "source": [
        "### 2-8.앙상블"
      ],
      "metadata": {
        "id": "5CL28vrvm1p1"
      }
    },
    {
      "cell_type": "markdown",
      "source": [
        "- sklearn.ensemble.RandomForestRegressor(n_estimators=100, *, criterion='squared_error', max_depth=None, min_samples_split=2, min_samples_leaf=1, min_weight_fraction_leaf=0.0, max_features='auto', max_leaf_nodes=None, min_impurity_decrease=0.0, bootstrap=True, oob_score=False, n_jobs=None, random_state=None, verbose=0, warm_start=False, ccp_alpha=0.0, max_samples=None)\n",
        "- https://xgboost.readthedocs.io/en/latest/python/python_api.html#module-xgboost.sklearn"
      ],
      "metadata": {
        "id": "nn4KunPFkgUx"
      }
    },
    {
      "cell_type": "code",
      "source": [
        "# [24] Xnormal, Ynormal 데이터에 RandomForestRegressor 사용\n",
        "from sklearn.ensemble import RandomForestRegressor\n",
        "model = RandomForestRegressor(random_state=0)\n",
        "Model_Train(model, Xnormal, Ynormal)                #100개!"
      ],
      "metadata": {
        "id": "J0_OCv2tm4MR",
        "colab": {
          "base_uri": "https://localhost:8080/",
          "height": 0
        },
        "outputId": "2ea30ea8-3d16-4de0-fa4c-1ba16910e8f7"
      },
      "execution_count": 52,
      "outputs": [
        {
          "output_type": "stream",
          "name": "stdout",
          "text": [
            "0.9897 0.8219\n"
          ]
        },
        {
          "output_type": "execute_result",
          "data": {
            "text/plain": [
              "RandomForestRegressor(random_state=0)"
            ],
            "text/html": [
              "<style>#sk-container-id-9 {color: black;background-color: white;}#sk-container-id-9 pre{padding: 0;}#sk-container-id-9 div.sk-toggleable {background-color: white;}#sk-container-id-9 label.sk-toggleable__label {cursor: pointer;display: block;width: 100%;margin-bottom: 0;padding: 0.3em;box-sizing: border-box;text-align: center;}#sk-container-id-9 label.sk-toggleable__label-arrow:before {content: \"▸\";float: left;margin-right: 0.25em;color: #696969;}#sk-container-id-9 label.sk-toggleable__label-arrow:hover:before {color: black;}#sk-container-id-9 div.sk-estimator:hover label.sk-toggleable__label-arrow:before {color: black;}#sk-container-id-9 div.sk-toggleable__content {max-height: 0;max-width: 0;overflow: hidden;text-align: left;background-color: #f0f8ff;}#sk-container-id-9 div.sk-toggleable__content pre {margin: 0.2em;color: black;border-radius: 0.25em;background-color: #f0f8ff;}#sk-container-id-9 input.sk-toggleable__control:checked~div.sk-toggleable__content {max-height: 200px;max-width: 100%;overflow: auto;}#sk-container-id-9 input.sk-toggleable__control:checked~label.sk-toggleable__label-arrow:before {content: \"▾\";}#sk-container-id-9 div.sk-estimator input.sk-toggleable__control:checked~label.sk-toggleable__label {background-color: #d4ebff;}#sk-container-id-9 div.sk-label input.sk-toggleable__control:checked~label.sk-toggleable__label {background-color: #d4ebff;}#sk-container-id-9 input.sk-hidden--visually {border: 0;clip: rect(1px 1px 1px 1px);clip: rect(1px, 1px, 1px, 1px);height: 1px;margin: -1px;overflow: hidden;padding: 0;position: absolute;width: 1px;}#sk-container-id-9 div.sk-estimator {font-family: monospace;background-color: #f0f8ff;border: 1px dotted black;border-radius: 0.25em;box-sizing: border-box;margin-bottom: 0.5em;}#sk-container-id-9 div.sk-estimator:hover {background-color: #d4ebff;}#sk-container-id-9 div.sk-parallel-item::after {content: \"\";width: 100%;border-bottom: 1px solid gray;flex-grow: 1;}#sk-container-id-9 div.sk-label:hover label.sk-toggleable__label {background-color: #d4ebff;}#sk-container-id-9 div.sk-serial::before {content: \"\";position: absolute;border-left: 1px solid gray;box-sizing: border-box;top: 0;bottom: 0;left: 50%;z-index: 0;}#sk-container-id-9 div.sk-serial {display: flex;flex-direction: column;align-items: center;background-color: white;padding-right: 0.2em;padding-left: 0.2em;position: relative;}#sk-container-id-9 div.sk-item {position: relative;z-index: 1;}#sk-container-id-9 div.sk-parallel {display: flex;align-items: stretch;justify-content: center;background-color: white;position: relative;}#sk-container-id-9 div.sk-item::before, #sk-container-id-9 div.sk-parallel-item::before {content: \"\";position: absolute;border-left: 1px solid gray;box-sizing: border-box;top: 0;bottom: 0;left: 50%;z-index: -1;}#sk-container-id-9 div.sk-parallel-item {display: flex;flex-direction: column;z-index: 1;position: relative;background-color: white;}#sk-container-id-9 div.sk-parallel-item:first-child::after {align-self: flex-end;width: 50%;}#sk-container-id-9 div.sk-parallel-item:last-child::after {align-self: flex-start;width: 50%;}#sk-container-id-9 div.sk-parallel-item:only-child::after {width: 0;}#sk-container-id-9 div.sk-dashed-wrapped {border: 1px dashed gray;margin: 0 0.4em 0.5em 0.4em;box-sizing: border-box;padding-bottom: 0.4em;background-color: white;}#sk-container-id-9 div.sk-label label {font-family: monospace;font-weight: bold;display: inline-block;line-height: 1.2em;}#sk-container-id-9 div.sk-label-container {text-align: center;}#sk-container-id-9 div.sk-container {/* jupyter's `normalize.less` sets `[hidden] { display: none; }` but bootstrap.min.css set `[hidden] { display: none !important; }` so we also need the `!important` here to be able to override the default hidden behavior on the sphinx rendered scikit-learn.org. See: https://github.com/scikit-learn/scikit-learn/issues/21755 */display: inline-block !important;position: relative;}#sk-container-id-9 div.sk-text-repr-fallback {display: none;}</style><div id=\"sk-container-id-9\" class=\"sk-top-container\"><div class=\"sk-text-repr-fallback\"><pre>RandomForestRegressor(random_state=0)</pre><b>In a Jupyter environment, please rerun this cell to show the HTML representation or trust the notebook. <br />On GitHub, the HTML representation is unable to render, please try loading this page with nbviewer.org.</b></div><div class=\"sk-container\" hidden><div class=\"sk-item\"><div class=\"sk-estimator sk-toggleable\"><input class=\"sk-toggleable__control sk-hidden--visually\" id=\"sk-estimator-id-9\" type=\"checkbox\" checked><label for=\"sk-estimator-id-9\" class=\"sk-toggleable__label sk-toggleable__label-arrow\">RandomForestRegressor</label><div class=\"sk-toggleable__content\"><pre>RandomForestRegressor(random_state=0)</pre></div></div></div></div></div>"
            ]
          },
          "metadata": {},
          "execution_count": 52
        }
      ]
    },
    {
      "cell_type": "code",
      "source": [
        "# [25] Xnormal을 2차식으로 만든 후 RandomForestRegressor 사용\n",
        "from sklearn.ensemble import RandomForestRegressor\n",
        "poly2 = PolynomialFeatures(degree=2,include_bias=False)#, interaction_only=True, )\n",
        "Xpoly2 = poly2.fit_transform(Xnormal)\n",
        "model = RandomForestRegressor(random_state=0)\n",
        "Model_Train(model, Xpoly2, Ynormal)               #100개!"
      ],
      "metadata": {
        "id": "JGlu8lLne5yy",
        "colab": {
          "base_uri": "https://localhost:8080/",
          "height": 0
        },
        "outputId": "87c57f9f-261f-43fe-ce90-da6356bf3cac"
      },
      "execution_count": 53,
      "outputs": [
        {
          "output_type": "stream",
          "name": "stdout",
          "text": [
            "0.9890 0.8020\n"
          ]
        },
        {
          "output_type": "execute_result",
          "data": {
            "text/plain": [
              "RandomForestRegressor(random_state=0)"
            ],
            "text/html": [
              "<style>#sk-container-id-10 {color: black;background-color: white;}#sk-container-id-10 pre{padding: 0;}#sk-container-id-10 div.sk-toggleable {background-color: white;}#sk-container-id-10 label.sk-toggleable__label {cursor: pointer;display: block;width: 100%;margin-bottom: 0;padding: 0.3em;box-sizing: border-box;text-align: center;}#sk-container-id-10 label.sk-toggleable__label-arrow:before {content: \"▸\";float: left;margin-right: 0.25em;color: #696969;}#sk-container-id-10 label.sk-toggleable__label-arrow:hover:before {color: black;}#sk-container-id-10 div.sk-estimator:hover label.sk-toggleable__label-arrow:before {color: black;}#sk-container-id-10 div.sk-toggleable__content {max-height: 0;max-width: 0;overflow: hidden;text-align: left;background-color: #f0f8ff;}#sk-container-id-10 div.sk-toggleable__content pre {margin: 0.2em;color: black;border-radius: 0.25em;background-color: #f0f8ff;}#sk-container-id-10 input.sk-toggleable__control:checked~div.sk-toggleable__content {max-height: 200px;max-width: 100%;overflow: auto;}#sk-container-id-10 input.sk-toggleable__control:checked~label.sk-toggleable__label-arrow:before {content: \"▾\";}#sk-container-id-10 div.sk-estimator input.sk-toggleable__control:checked~label.sk-toggleable__label {background-color: #d4ebff;}#sk-container-id-10 div.sk-label input.sk-toggleable__control:checked~label.sk-toggleable__label {background-color: #d4ebff;}#sk-container-id-10 input.sk-hidden--visually {border: 0;clip: rect(1px 1px 1px 1px);clip: rect(1px, 1px, 1px, 1px);height: 1px;margin: -1px;overflow: hidden;padding: 0;position: absolute;width: 1px;}#sk-container-id-10 div.sk-estimator {font-family: monospace;background-color: #f0f8ff;border: 1px dotted black;border-radius: 0.25em;box-sizing: border-box;margin-bottom: 0.5em;}#sk-container-id-10 div.sk-estimator:hover {background-color: #d4ebff;}#sk-container-id-10 div.sk-parallel-item::after {content: \"\";width: 100%;border-bottom: 1px solid gray;flex-grow: 1;}#sk-container-id-10 div.sk-label:hover label.sk-toggleable__label {background-color: #d4ebff;}#sk-container-id-10 div.sk-serial::before {content: \"\";position: absolute;border-left: 1px solid gray;box-sizing: border-box;top: 0;bottom: 0;left: 50%;z-index: 0;}#sk-container-id-10 div.sk-serial {display: flex;flex-direction: column;align-items: center;background-color: white;padding-right: 0.2em;padding-left: 0.2em;position: relative;}#sk-container-id-10 div.sk-item {position: relative;z-index: 1;}#sk-container-id-10 div.sk-parallel {display: flex;align-items: stretch;justify-content: center;background-color: white;position: relative;}#sk-container-id-10 div.sk-item::before, #sk-container-id-10 div.sk-parallel-item::before {content: \"\";position: absolute;border-left: 1px solid gray;box-sizing: border-box;top: 0;bottom: 0;left: 50%;z-index: -1;}#sk-container-id-10 div.sk-parallel-item {display: flex;flex-direction: column;z-index: 1;position: relative;background-color: white;}#sk-container-id-10 div.sk-parallel-item:first-child::after {align-self: flex-end;width: 50%;}#sk-container-id-10 div.sk-parallel-item:last-child::after {align-self: flex-start;width: 50%;}#sk-container-id-10 div.sk-parallel-item:only-child::after {width: 0;}#sk-container-id-10 div.sk-dashed-wrapped {border: 1px dashed gray;margin: 0 0.4em 0.5em 0.4em;box-sizing: border-box;padding-bottom: 0.4em;background-color: white;}#sk-container-id-10 div.sk-label label {font-family: monospace;font-weight: bold;display: inline-block;line-height: 1.2em;}#sk-container-id-10 div.sk-label-container {text-align: center;}#sk-container-id-10 div.sk-container {/* jupyter's `normalize.less` sets `[hidden] { display: none; }` but bootstrap.min.css set `[hidden] { display: none !important; }` so we also need the `!important` here to be able to override the default hidden behavior on the sphinx rendered scikit-learn.org. See: https://github.com/scikit-learn/scikit-learn/issues/21755 */display: inline-block !important;position: relative;}#sk-container-id-10 div.sk-text-repr-fallback {display: none;}</style><div id=\"sk-container-id-10\" class=\"sk-top-container\"><div class=\"sk-text-repr-fallback\"><pre>RandomForestRegressor(random_state=0)</pre><b>In a Jupyter environment, please rerun this cell to show the HTML representation or trust the notebook. <br />On GitHub, the HTML representation is unable to render, please try loading this page with nbviewer.org.</b></div><div class=\"sk-container\" hidden><div class=\"sk-item\"><div class=\"sk-estimator sk-toggleable\"><input class=\"sk-toggleable__control sk-hidden--visually\" id=\"sk-estimator-id-10\" type=\"checkbox\" checked><label for=\"sk-estimator-id-10\" class=\"sk-toggleable__label sk-toggleable__label-arrow\">RandomForestRegressor</label><div class=\"sk-toggleable__content\"><pre>RandomForestRegressor(random_state=0)</pre></div></div></div></div></div>"
            ]
          },
          "metadata": {},
          "execution_count": 53
        }
      ]
    },
    {
      "cell_type": "code",
      "source": [
        "# [26] 데이터의 개수를 2000개로 늘려 RandomForestRegressor 사용\n",
        "dataL = make_sample(1234, 2000)                   #150개 이상만 되도 괜춘\n",
        "Xlarge = dataL[['height','weight']]\n",
        "Ylarge = dataL['BMI']\n",
        "model = RandomForestRegressor(random_state=0)\n",
        "Model_Train(model, Xlarge, Ylarge)                #2000개!!!"
      ],
      "metadata": {
        "id": "fqbRgJvszzMM",
        "colab": {
          "base_uri": "https://localhost:8080/",
          "height": 0
        },
        "outputId": "575f0940-d00e-4efd-dbbf-7e9645166213"
      },
      "execution_count": 54,
      "outputs": [
        {
          "output_type": "stream",
          "name": "stdout",
          "text": [
            "0.9994 0.9967\n"
          ]
        },
        {
          "output_type": "execute_result",
          "data": {
            "text/plain": [
              "RandomForestRegressor(random_state=0)"
            ],
            "text/html": [
              "<style>#sk-container-id-11 {color: black;background-color: white;}#sk-container-id-11 pre{padding: 0;}#sk-container-id-11 div.sk-toggleable {background-color: white;}#sk-container-id-11 label.sk-toggleable__label {cursor: pointer;display: block;width: 100%;margin-bottom: 0;padding: 0.3em;box-sizing: border-box;text-align: center;}#sk-container-id-11 label.sk-toggleable__label-arrow:before {content: \"▸\";float: left;margin-right: 0.25em;color: #696969;}#sk-container-id-11 label.sk-toggleable__label-arrow:hover:before {color: black;}#sk-container-id-11 div.sk-estimator:hover label.sk-toggleable__label-arrow:before {color: black;}#sk-container-id-11 div.sk-toggleable__content {max-height: 0;max-width: 0;overflow: hidden;text-align: left;background-color: #f0f8ff;}#sk-container-id-11 div.sk-toggleable__content pre {margin: 0.2em;color: black;border-radius: 0.25em;background-color: #f0f8ff;}#sk-container-id-11 input.sk-toggleable__control:checked~div.sk-toggleable__content {max-height: 200px;max-width: 100%;overflow: auto;}#sk-container-id-11 input.sk-toggleable__control:checked~label.sk-toggleable__label-arrow:before {content: \"▾\";}#sk-container-id-11 div.sk-estimator input.sk-toggleable__control:checked~label.sk-toggleable__label {background-color: #d4ebff;}#sk-container-id-11 div.sk-label input.sk-toggleable__control:checked~label.sk-toggleable__label {background-color: #d4ebff;}#sk-container-id-11 input.sk-hidden--visually {border: 0;clip: rect(1px 1px 1px 1px);clip: rect(1px, 1px, 1px, 1px);height: 1px;margin: -1px;overflow: hidden;padding: 0;position: absolute;width: 1px;}#sk-container-id-11 div.sk-estimator {font-family: monospace;background-color: #f0f8ff;border: 1px dotted black;border-radius: 0.25em;box-sizing: border-box;margin-bottom: 0.5em;}#sk-container-id-11 div.sk-estimator:hover {background-color: #d4ebff;}#sk-container-id-11 div.sk-parallel-item::after {content: \"\";width: 100%;border-bottom: 1px solid gray;flex-grow: 1;}#sk-container-id-11 div.sk-label:hover label.sk-toggleable__label {background-color: #d4ebff;}#sk-container-id-11 div.sk-serial::before {content: \"\";position: absolute;border-left: 1px solid gray;box-sizing: border-box;top: 0;bottom: 0;left: 50%;z-index: 0;}#sk-container-id-11 div.sk-serial {display: flex;flex-direction: column;align-items: center;background-color: white;padding-right: 0.2em;padding-left: 0.2em;position: relative;}#sk-container-id-11 div.sk-item {position: relative;z-index: 1;}#sk-container-id-11 div.sk-parallel {display: flex;align-items: stretch;justify-content: center;background-color: white;position: relative;}#sk-container-id-11 div.sk-item::before, #sk-container-id-11 div.sk-parallel-item::before {content: \"\";position: absolute;border-left: 1px solid gray;box-sizing: border-box;top: 0;bottom: 0;left: 50%;z-index: -1;}#sk-container-id-11 div.sk-parallel-item {display: flex;flex-direction: column;z-index: 1;position: relative;background-color: white;}#sk-container-id-11 div.sk-parallel-item:first-child::after {align-self: flex-end;width: 50%;}#sk-container-id-11 div.sk-parallel-item:last-child::after {align-self: flex-start;width: 50%;}#sk-container-id-11 div.sk-parallel-item:only-child::after {width: 0;}#sk-container-id-11 div.sk-dashed-wrapped {border: 1px dashed gray;margin: 0 0.4em 0.5em 0.4em;box-sizing: border-box;padding-bottom: 0.4em;background-color: white;}#sk-container-id-11 div.sk-label label {font-family: monospace;font-weight: bold;display: inline-block;line-height: 1.2em;}#sk-container-id-11 div.sk-label-container {text-align: center;}#sk-container-id-11 div.sk-container {/* jupyter's `normalize.less` sets `[hidden] { display: none; }` but bootstrap.min.css set `[hidden] { display: none !important; }` so we also need the `!important` here to be able to override the default hidden behavior on the sphinx rendered scikit-learn.org. See: https://github.com/scikit-learn/scikit-learn/issues/21755 */display: inline-block !important;position: relative;}#sk-container-id-11 div.sk-text-repr-fallback {display: none;}</style><div id=\"sk-container-id-11\" class=\"sk-top-container\"><div class=\"sk-text-repr-fallback\"><pre>RandomForestRegressor(random_state=0)</pre><b>In a Jupyter environment, please rerun this cell to show the HTML representation or trust the notebook. <br />On GitHub, the HTML representation is unable to render, please try loading this page with nbviewer.org.</b></div><div class=\"sk-container\" hidden><div class=\"sk-item\"><div class=\"sk-estimator sk-toggleable\"><input class=\"sk-toggleable__control sk-hidden--visually\" id=\"sk-estimator-id-11\" type=\"checkbox\" checked><label for=\"sk-estimator-id-11\" class=\"sk-toggleable__label sk-toggleable__label-arrow\">RandomForestRegressor</label><div class=\"sk-toggleable__content\"><pre>RandomForestRegressor(random_state=0)</pre></div></div></div></div></div>"
            ]
          },
          "metadata": {},
          "execution_count": 54
        }
      ]
    },
    {
      "cell_type": "markdown",
      "source": [
        "- XBGRegressor : max_depth=3, learning_rate=0.1, n_estimators=100, verbosity=1, silent=None, objective=\"reg:linear\", booster='gbtree', n_jobs=1, nthread=None, gamma=0, min_child_weight=1, max_delta_step=0, subsample=1, colsample_bytree=1, colsample_bylevel=1, colsample_bynode=1, reg_alpha=0, reg_lambda=1, scale_pos_weight=1, base_score=0.5, random_state=0, seed=None, missing=None, importance_type=\"gain\", **kwargs) "
      ],
      "metadata": {
        "id": "4roj2vVhrktv"
      }
    },
    {
      "cell_type": "code",
      "source": [
        "# [27] Xnormal, Ynormal 데이터에 XGBRegressor 사용\n",
        "from xgboost import XGBRegressor\n",
        "model = XGBRegressor(objective='reg:squarederror', random_state=0)\n",
        "Model_Train(model, Xnormal, Ynormal)  # 100개!"
      ],
      "metadata": {
        "id": "coyVxRcomyJg",
        "colab": {
          "base_uri": "https://localhost:8080/",
          "height": 0
        },
        "outputId": "f5f7f438-5692-47b5-ede3-f2016ba27ca7"
      },
      "execution_count": 55,
      "outputs": [
        {
          "output_type": "stream",
          "name": "stdout",
          "text": [
            "1.0000 0.8944\n"
          ]
        },
        {
          "output_type": "execute_result",
          "data": {
            "text/plain": [
              "XGBRegressor(base_score=None, booster=None, callbacks=None,\n",
              "             colsample_bylevel=None, colsample_bynode=None,\n",
              "             colsample_bytree=None, early_stopping_rounds=None,\n",
              "             enable_categorical=False, eval_metric=None, feature_types=None,\n",
              "             gamma=None, gpu_id=None, grow_policy=None, importance_type=None,\n",
              "             interaction_constraints=None, learning_rate=None, max_bin=None,\n",
              "             max_cat_threshold=None, max_cat_to_onehot=None,\n",
              "             max_delta_step=None, max_depth=None, max_leaves=None,\n",
              "             min_child_weight=None, missing=nan, monotone_constraints=None,\n",
              "             n_estimators=100, n_jobs=None, num_parallel_tree=None,\n",
              "             predictor=None, random_state=0, ...)"
            ],
            "text/html": [
              "<style>#sk-container-id-12 {color: black;background-color: white;}#sk-container-id-12 pre{padding: 0;}#sk-container-id-12 div.sk-toggleable {background-color: white;}#sk-container-id-12 label.sk-toggleable__label {cursor: pointer;display: block;width: 100%;margin-bottom: 0;padding: 0.3em;box-sizing: border-box;text-align: center;}#sk-container-id-12 label.sk-toggleable__label-arrow:before {content: \"▸\";float: left;margin-right: 0.25em;color: #696969;}#sk-container-id-12 label.sk-toggleable__label-arrow:hover:before {color: black;}#sk-container-id-12 div.sk-estimator:hover label.sk-toggleable__label-arrow:before {color: black;}#sk-container-id-12 div.sk-toggleable__content {max-height: 0;max-width: 0;overflow: hidden;text-align: left;background-color: #f0f8ff;}#sk-container-id-12 div.sk-toggleable__content pre {margin: 0.2em;color: black;border-radius: 0.25em;background-color: #f0f8ff;}#sk-container-id-12 input.sk-toggleable__control:checked~div.sk-toggleable__content {max-height: 200px;max-width: 100%;overflow: auto;}#sk-container-id-12 input.sk-toggleable__control:checked~label.sk-toggleable__label-arrow:before {content: \"▾\";}#sk-container-id-12 div.sk-estimator input.sk-toggleable__control:checked~label.sk-toggleable__label {background-color: #d4ebff;}#sk-container-id-12 div.sk-label input.sk-toggleable__control:checked~label.sk-toggleable__label {background-color: #d4ebff;}#sk-container-id-12 input.sk-hidden--visually {border: 0;clip: rect(1px 1px 1px 1px);clip: rect(1px, 1px, 1px, 1px);height: 1px;margin: -1px;overflow: hidden;padding: 0;position: absolute;width: 1px;}#sk-container-id-12 div.sk-estimator {font-family: monospace;background-color: #f0f8ff;border: 1px dotted black;border-radius: 0.25em;box-sizing: border-box;margin-bottom: 0.5em;}#sk-container-id-12 div.sk-estimator:hover {background-color: #d4ebff;}#sk-container-id-12 div.sk-parallel-item::after {content: \"\";width: 100%;border-bottom: 1px solid gray;flex-grow: 1;}#sk-container-id-12 div.sk-label:hover label.sk-toggleable__label {background-color: #d4ebff;}#sk-container-id-12 div.sk-serial::before {content: \"\";position: absolute;border-left: 1px solid gray;box-sizing: border-box;top: 0;bottom: 0;left: 50%;z-index: 0;}#sk-container-id-12 div.sk-serial {display: flex;flex-direction: column;align-items: center;background-color: white;padding-right: 0.2em;padding-left: 0.2em;position: relative;}#sk-container-id-12 div.sk-item {position: relative;z-index: 1;}#sk-container-id-12 div.sk-parallel {display: flex;align-items: stretch;justify-content: center;background-color: white;position: relative;}#sk-container-id-12 div.sk-item::before, #sk-container-id-12 div.sk-parallel-item::before {content: \"\";position: absolute;border-left: 1px solid gray;box-sizing: border-box;top: 0;bottom: 0;left: 50%;z-index: -1;}#sk-container-id-12 div.sk-parallel-item {display: flex;flex-direction: column;z-index: 1;position: relative;background-color: white;}#sk-container-id-12 div.sk-parallel-item:first-child::after {align-self: flex-end;width: 50%;}#sk-container-id-12 div.sk-parallel-item:last-child::after {align-self: flex-start;width: 50%;}#sk-container-id-12 div.sk-parallel-item:only-child::after {width: 0;}#sk-container-id-12 div.sk-dashed-wrapped {border: 1px dashed gray;margin: 0 0.4em 0.5em 0.4em;box-sizing: border-box;padding-bottom: 0.4em;background-color: white;}#sk-container-id-12 div.sk-label label {font-family: monospace;font-weight: bold;display: inline-block;line-height: 1.2em;}#sk-container-id-12 div.sk-label-container {text-align: center;}#sk-container-id-12 div.sk-container {/* jupyter's `normalize.less` sets `[hidden] { display: none; }` but bootstrap.min.css set `[hidden] { display: none !important; }` so we also need the `!important` here to be able to override the default hidden behavior on the sphinx rendered scikit-learn.org. See: https://github.com/scikit-learn/scikit-learn/issues/21755 */display: inline-block !important;position: relative;}#sk-container-id-12 div.sk-text-repr-fallback {display: none;}</style><div id=\"sk-container-id-12\" class=\"sk-top-container\"><div class=\"sk-text-repr-fallback\"><pre>XGBRegressor(base_score=None, booster=None, callbacks=None,\n",
              "             colsample_bylevel=None, colsample_bynode=None,\n",
              "             colsample_bytree=None, early_stopping_rounds=None,\n",
              "             enable_categorical=False, eval_metric=None, feature_types=None,\n",
              "             gamma=None, gpu_id=None, grow_policy=None, importance_type=None,\n",
              "             interaction_constraints=None, learning_rate=None, max_bin=None,\n",
              "             max_cat_threshold=None, max_cat_to_onehot=None,\n",
              "             max_delta_step=None, max_depth=None, max_leaves=None,\n",
              "             min_child_weight=None, missing=nan, monotone_constraints=None,\n",
              "             n_estimators=100, n_jobs=None, num_parallel_tree=None,\n",
              "             predictor=None, random_state=0, ...)</pre><b>In a Jupyter environment, please rerun this cell to show the HTML representation or trust the notebook. <br />On GitHub, the HTML representation is unable to render, please try loading this page with nbviewer.org.</b></div><div class=\"sk-container\" hidden><div class=\"sk-item\"><div class=\"sk-estimator sk-toggleable\"><input class=\"sk-toggleable__control sk-hidden--visually\" id=\"sk-estimator-id-12\" type=\"checkbox\" checked><label for=\"sk-estimator-id-12\" class=\"sk-toggleable__label sk-toggleable__label-arrow\">XGBRegressor</label><div class=\"sk-toggleable__content\"><pre>XGBRegressor(base_score=None, booster=None, callbacks=None,\n",
              "             colsample_bylevel=None, colsample_bynode=None,\n",
              "             colsample_bytree=None, early_stopping_rounds=None,\n",
              "             enable_categorical=False, eval_metric=None, feature_types=None,\n",
              "             gamma=None, gpu_id=None, grow_policy=None, importance_type=None,\n",
              "             interaction_constraints=None, learning_rate=None, max_bin=None,\n",
              "             max_cat_threshold=None, max_cat_to_onehot=None,\n",
              "             max_delta_step=None, max_depth=None, max_leaves=None,\n",
              "             min_child_weight=None, missing=nan, monotone_constraints=None,\n",
              "             n_estimators=100, n_jobs=None, num_parallel_tree=None,\n",
              "             predictor=None, random_state=0, ...)</pre></div></div></div></div></div>"
            ]
          },
          "metadata": {},
          "execution_count": 55
        }
      ]
    },
    {
      "cell_type": "code",
      "source": [
        "# [28] 데이터의 개수를 2000개로 늘려 XGBRegressor 사용\n",
        "dataL = make_sample(1234, 2000)     # 150개 이상만 되어도 좋은 결과\n",
        "Xlarge = dataL[['height', 'weight']]\n",
        "Ylarge = dataL['BMI']\n",
        "model = XGBRegressor(n_estimators=900, objective='reg:squarederror', random_state=0)\n",
        "Model_Train(model, Xlarge, Ylarge)  # 2000개!"
      ],
      "metadata": {
        "id": "U_6xS0I82vmf",
        "colab": {
          "base_uri": "https://localhost:8080/",
          "height": 0
        },
        "outputId": "6355f239-7885-479d-80c5-b35c1f339592"
      },
      "execution_count": 56,
      "outputs": [
        {
          "output_type": "stream",
          "name": "stdout",
          "text": [
            "1.0000 0.9967\n"
          ]
        },
        {
          "output_type": "execute_result",
          "data": {
            "text/plain": [
              "XGBRegressor(base_score=None, booster=None, callbacks=None,\n",
              "             colsample_bylevel=None, colsample_bynode=None,\n",
              "             colsample_bytree=None, early_stopping_rounds=None,\n",
              "             enable_categorical=False, eval_metric=None, feature_types=None,\n",
              "             gamma=None, gpu_id=None, grow_policy=None, importance_type=None,\n",
              "             interaction_constraints=None, learning_rate=None, max_bin=None,\n",
              "             max_cat_threshold=None, max_cat_to_onehot=None,\n",
              "             max_delta_step=None, max_depth=None, max_leaves=None,\n",
              "             min_child_weight=None, missing=nan, monotone_constraints=None,\n",
              "             n_estimators=900, n_jobs=None, num_parallel_tree=None,\n",
              "             predictor=None, random_state=0, ...)"
            ],
            "text/html": [
              "<style>#sk-container-id-13 {color: black;background-color: white;}#sk-container-id-13 pre{padding: 0;}#sk-container-id-13 div.sk-toggleable {background-color: white;}#sk-container-id-13 label.sk-toggleable__label {cursor: pointer;display: block;width: 100%;margin-bottom: 0;padding: 0.3em;box-sizing: border-box;text-align: center;}#sk-container-id-13 label.sk-toggleable__label-arrow:before {content: \"▸\";float: left;margin-right: 0.25em;color: #696969;}#sk-container-id-13 label.sk-toggleable__label-arrow:hover:before {color: black;}#sk-container-id-13 div.sk-estimator:hover label.sk-toggleable__label-arrow:before {color: black;}#sk-container-id-13 div.sk-toggleable__content {max-height: 0;max-width: 0;overflow: hidden;text-align: left;background-color: #f0f8ff;}#sk-container-id-13 div.sk-toggleable__content pre {margin: 0.2em;color: black;border-radius: 0.25em;background-color: #f0f8ff;}#sk-container-id-13 input.sk-toggleable__control:checked~div.sk-toggleable__content {max-height: 200px;max-width: 100%;overflow: auto;}#sk-container-id-13 input.sk-toggleable__control:checked~label.sk-toggleable__label-arrow:before {content: \"▾\";}#sk-container-id-13 div.sk-estimator input.sk-toggleable__control:checked~label.sk-toggleable__label {background-color: #d4ebff;}#sk-container-id-13 div.sk-label input.sk-toggleable__control:checked~label.sk-toggleable__label {background-color: #d4ebff;}#sk-container-id-13 input.sk-hidden--visually {border: 0;clip: rect(1px 1px 1px 1px);clip: rect(1px, 1px, 1px, 1px);height: 1px;margin: -1px;overflow: hidden;padding: 0;position: absolute;width: 1px;}#sk-container-id-13 div.sk-estimator {font-family: monospace;background-color: #f0f8ff;border: 1px dotted black;border-radius: 0.25em;box-sizing: border-box;margin-bottom: 0.5em;}#sk-container-id-13 div.sk-estimator:hover {background-color: #d4ebff;}#sk-container-id-13 div.sk-parallel-item::after {content: \"\";width: 100%;border-bottom: 1px solid gray;flex-grow: 1;}#sk-container-id-13 div.sk-label:hover label.sk-toggleable__label {background-color: #d4ebff;}#sk-container-id-13 div.sk-serial::before {content: \"\";position: absolute;border-left: 1px solid gray;box-sizing: border-box;top: 0;bottom: 0;left: 50%;z-index: 0;}#sk-container-id-13 div.sk-serial {display: flex;flex-direction: column;align-items: center;background-color: white;padding-right: 0.2em;padding-left: 0.2em;position: relative;}#sk-container-id-13 div.sk-item {position: relative;z-index: 1;}#sk-container-id-13 div.sk-parallel {display: flex;align-items: stretch;justify-content: center;background-color: white;position: relative;}#sk-container-id-13 div.sk-item::before, #sk-container-id-13 div.sk-parallel-item::before {content: \"\";position: absolute;border-left: 1px solid gray;box-sizing: border-box;top: 0;bottom: 0;left: 50%;z-index: -1;}#sk-container-id-13 div.sk-parallel-item {display: flex;flex-direction: column;z-index: 1;position: relative;background-color: white;}#sk-container-id-13 div.sk-parallel-item:first-child::after {align-self: flex-end;width: 50%;}#sk-container-id-13 div.sk-parallel-item:last-child::after {align-self: flex-start;width: 50%;}#sk-container-id-13 div.sk-parallel-item:only-child::after {width: 0;}#sk-container-id-13 div.sk-dashed-wrapped {border: 1px dashed gray;margin: 0 0.4em 0.5em 0.4em;box-sizing: border-box;padding-bottom: 0.4em;background-color: white;}#sk-container-id-13 div.sk-label label {font-family: monospace;font-weight: bold;display: inline-block;line-height: 1.2em;}#sk-container-id-13 div.sk-label-container {text-align: center;}#sk-container-id-13 div.sk-container {/* jupyter's `normalize.less` sets `[hidden] { display: none; }` but bootstrap.min.css set `[hidden] { display: none !important; }` so we also need the `!important` here to be able to override the default hidden behavior on the sphinx rendered scikit-learn.org. See: https://github.com/scikit-learn/scikit-learn/issues/21755 */display: inline-block !important;position: relative;}#sk-container-id-13 div.sk-text-repr-fallback {display: none;}</style><div id=\"sk-container-id-13\" class=\"sk-top-container\"><div class=\"sk-text-repr-fallback\"><pre>XGBRegressor(base_score=None, booster=None, callbacks=None,\n",
              "             colsample_bylevel=None, colsample_bynode=None,\n",
              "             colsample_bytree=None, early_stopping_rounds=None,\n",
              "             enable_categorical=False, eval_metric=None, feature_types=None,\n",
              "             gamma=None, gpu_id=None, grow_policy=None, importance_type=None,\n",
              "             interaction_constraints=None, learning_rate=None, max_bin=None,\n",
              "             max_cat_threshold=None, max_cat_to_onehot=None,\n",
              "             max_delta_step=None, max_depth=None, max_leaves=None,\n",
              "             min_child_weight=None, missing=nan, monotone_constraints=None,\n",
              "             n_estimators=900, n_jobs=None, num_parallel_tree=None,\n",
              "             predictor=None, random_state=0, ...)</pre><b>In a Jupyter environment, please rerun this cell to show the HTML representation or trust the notebook. <br />On GitHub, the HTML representation is unable to render, please try loading this page with nbviewer.org.</b></div><div class=\"sk-container\" hidden><div class=\"sk-item\"><div class=\"sk-estimator sk-toggleable\"><input class=\"sk-toggleable__control sk-hidden--visually\" id=\"sk-estimator-id-13\" type=\"checkbox\" checked><label for=\"sk-estimator-id-13\" class=\"sk-toggleable__label sk-toggleable__label-arrow\">XGBRegressor</label><div class=\"sk-toggleable__content\"><pre>XGBRegressor(base_score=None, booster=None, callbacks=None,\n",
              "             colsample_bylevel=None, colsample_bynode=None,\n",
              "             colsample_bytree=None, early_stopping_rounds=None,\n",
              "             enable_categorical=False, eval_metric=None, feature_types=None,\n",
              "             gamma=None, gpu_id=None, grow_policy=None, importance_type=None,\n",
              "             interaction_constraints=None, learning_rate=None, max_bin=None,\n",
              "             max_cat_threshold=None, max_cat_to_onehot=None,\n",
              "             max_delta_step=None, max_depth=None, max_leaves=None,\n",
              "             min_child_weight=None, missing=nan, monotone_constraints=None,\n",
              "             n_estimators=900, n_jobs=None, num_parallel_tree=None,\n",
              "             predictor=None, random_state=0, ...)</pre></div></div></div></div></div>"
            ]
          },
          "metadata": {},
          "execution_count": 56
        }
      ]
    },
    {
      "cell_type": "markdown",
      "source": [
        "## 3.회귀 모델 성능평가\n",
        "\n",
        "- $R^2$ score\n",
        "  - model.score(X, y)\n",
        "  - sklearn.metrics.r2_score(y_true, y_pred)\n",
        "  - 분산 기반으로 예측 성능을 평가\n",
        "  - 예측값 분산 / 실제값 분산\n",
        "- MAE(Mean Absolute Error)\n",
        "   - sklearn.metrics.mean_absolute_error(y_true, y_pred)\n",
        "   - 실제 값과 예측 값의 차이를 절댓값으로 변환해 평균한 것\n",
        "- MSE(Mean Squared Error)\n",
        "   - sklearn.metrics.mean_squared_error(y_true, y_pred)  \n",
        "   - 실제 값과 예측 값의 차이를 제곱해 평균한 것\n",
        "- RMSE(Root Mean Squared Error)\n",
        "   - sklearn API에 없음\n",
        "   - MSE에 np.sqrt() 또는 ** 0.5를 사용함\n",
        "   - MSE 값은 오류의 제곱을 구하므로 실제 오류 평균보다 더 커지는 특성이 있어 MSE에 루트를 씌운 것\n",
        "- MSLE(Mean Squared Log Error)\n",
        "   - sklearn.metrics.mean_squared_log_error(y_true, y_pred)\n",
        "   - MSE에 로그를 적용해준 지표\n",
        "- RMSLE(Root Mean Square Logarithmic Error) \n",
        "   - RMSE에 로그를 적용해준 지표\n",
        "   - 이상치가 있더라도 변동폭이 크지 않음(이상치에 강건함)\n",
        "   - 실제값보다 예측값이 작을 때 더 큰 패널티 부여\n",
        "   - 작게 예측하면 안되는 경우 사용하면 좋음 (배달 시간 예측)\n",
        "   - 실제값, 예측값에 음수가 있으면 안됨 (오류 발생)\n",
        "- 참조 : https://bkshin.tistory.com/entry/%EB%A8%B8%EC%8B%A0%EB%9F%AC%EB%8B%9D-17-%ED%9A%8C%EA%B7%80-%ED%8F%89%EA%B0%80-%EC%A7%80%ED%91%9C"
      ],
      "metadata": {
        "id": "tIUm-VR0wy9O"
      }
    },
    {
      "cell_type": "code",
      "source": [
        "#R2_score : 1에 가까울 수록 좋음\n",
        "# MAE, MSE, RMSE, MSLE, RMSLE : 0에 가까울수록 좋음"
      ],
      "metadata": {
        "id": "xbvUel9xgpYl"
      },
      "execution_count": 57,
      "outputs": []
    },
    {
      "cell_type": "markdown",
      "source": [
        "### 3-1.성능평가 함수"
      ],
      "metadata": {
        "id": "ken5C_sI6xBL"
      }
    },
    {
      "cell_type": "code",
      "source": [
        "from sklearn.metrics import r2_score\n",
        "from sklearn.metrics import mean_absolute_error as mae\n",
        "from sklearn.metrics import mean_squared_error as mse\n",
        "from sklearn.metrics import mean_squared_log_error as msle\n",
        "\n",
        "# [29] r2_score, mae, mse, rmse, msle, rmsle 를 구해 반환하는 함수를 작성합니다.\n",
        "# 한 개의 행에 6가지 성능평가 결과를 소수점 아래 4자리까지 표시되도록 하여 작성합니다.\n",
        "def get_scores(model, X, Y):\n",
        "    pred = model.predict(X)\n",
        "    \n",
        "    # 음수가 있어도 상관없음\n",
        "    A = r2_score(Y,pred)\n",
        "    B = mae(Y,pred)\n",
        "    C = mse(Y,pred)\n",
        "    E = np.sqrt(C)      #rmse\n",
        "    \n",
        "    # msle, rmsle는 음수가 있어서는 안됨\n",
        "    pred[0] = -2\n",
        "    pred = np.where(pred<0, 0, pred) \n",
        "    # print(pred[0])\n",
        "    D = msle(Y,pred)\n",
        "    F = np.sqrt(D)      #rmsle\n",
        "    return f'r2:{A:.4} mae:{B:.4} mse:{C:.4} msle:{D:.4} rmse:{E:.4} rmsle:{F:.4}'\n"
      ],
      "metadata": {
        "id": "zFe05b6Uwewx"
      },
      "execution_count": 58,
      "outputs": []
    },
    {
      "cell_type": "markdown",
      "source": [
        "### 3-2.모델링 함수"
      ],
      "metadata": {
        "id": "t6W7EcJJ61kU"
      }
    },
    {
      "cell_type": "code",
      "source": [
        "# [30] Model_Train함수를 수정해서 \n",
        "# train, test에 대한 6가지 성능평가 결과를 출력하는 Model_Train2 함수를 작성합니다.\n",
        "from sklearn.preprocessing import MinMaxScaler\n",
        "from sklearn.model_selection import train_test_split\n",
        "\n",
        "def Model_Train_2(model, XF, YF, scale=False):\n",
        "    # 7:3 분리, random_state=321  (주의: stratify사용 안함 -> 분류 모델에서만 사용)\n",
        "    if scale:\n",
        "        XF = MinMaxScaler().fit_transform(XF)\n",
        "    xtrain, xtest, ytrain, ytest = train_test_split(XF, YF, \n",
        "                                                    test_size=0.3, \n",
        "                                                    random_state=321)\n",
        "    model.fit(xtrain, ytrain)\n",
        "    #  코드 추가 부분\n",
        "    print(model.__class__)\n",
        "    print('train:', get_scores(model, xtrain, ytrain))\n",
        "    print('test:', get_scores(model, xtest, ytest))\n",
        "    print()\n",
        "    return model"
      ],
      "metadata": {
        "id": "MJRvdLx613F1"
      },
      "execution_count": 59,
      "outputs": []
    },
    {
      "cell_type": "markdown",
      "source": [
        "### 3-3.여러 모델 적용"
      ],
      "metadata": {
        "id": "ar5RnjRV8f4G"
      }
    },
    {
      "cell_type": "code",
      "source": [
        "# 음수값을 임의로 0으로 수정한 경우 msle, rmsle의 값이 커짐\n",
        "# train: r2: 0.9931 mae: 0.2648 mse: 0.12 msle: 0.1763 rmse: 0.3464 rmsle: 0.4199\n",
        "# test: r2: 0.9625 mae: 0.3783 mse: 0.3626 msle: 0.3443 rmse: 0.6022 rmsle: 0.5868"
      ],
      "metadata": {
        "id": "AKLnSykVnbyX"
      },
      "execution_count": 60,
      "outputs": []
    },
    {
      "cell_type": "code",
      "source": [
        "# [31] Xnormal, Ynormal 데이터 사용, LinearRegression => model1\n",
        "model1 = LinearRegression()\n",
        "Model_Train_2(model1, Xnormal, Ynormal)"
      ],
      "metadata": {
        "id": "DPMCqpmL7UOB",
        "colab": {
          "base_uri": "https://localhost:8080/",
          "height": 0
        },
        "outputId": "78a167c7-8f8d-4f6a-d51c-0f23483419fb"
      },
      "execution_count": 61,
      "outputs": [
        {
          "output_type": "stream",
          "name": "stdout",
          "text": [
            "<class 'sklearn.linear_model._base.LinearRegression'>\n",
            "train: r2:0.9931 mae:0.2648 mse:0.12 msle:0.1763 rmse:0.3464 rmsle:0.4199\n",
            "test: r2:0.9625 mae:0.3783 mse:0.3626 msle:0.3443 rmse:0.6022 rmsle:0.5868\n",
            "\n"
          ]
        },
        {
          "output_type": "execute_result",
          "data": {
            "text/plain": [
              "LinearRegression()"
            ],
            "text/html": [
              "<style>#sk-container-id-14 {color: black;background-color: white;}#sk-container-id-14 pre{padding: 0;}#sk-container-id-14 div.sk-toggleable {background-color: white;}#sk-container-id-14 label.sk-toggleable__label {cursor: pointer;display: block;width: 100%;margin-bottom: 0;padding: 0.3em;box-sizing: border-box;text-align: center;}#sk-container-id-14 label.sk-toggleable__label-arrow:before {content: \"▸\";float: left;margin-right: 0.25em;color: #696969;}#sk-container-id-14 label.sk-toggleable__label-arrow:hover:before {color: black;}#sk-container-id-14 div.sk-estimator:hover label.sk-toggleable__label-arrow:before {color: black;}#sk-container-id-14 div.sk-toggleable__content {max-height: 0;max-width: 0;overflow: hidden;text-align: left;background-color: #f0f8ff;}#sk-container-id-14 div.sk-toggleable__content pre {margin: 0.2em;color: black;border-radius: 0.25em;background-color: #f0f8ff;}#sk-container-id-14 input.sk-toggleable__control:checked~div.sk-toggleable__content {max-height: 200px;max-width: 100%;overflow: auto;}#sk-container-id-14 input.sk-toggleable__control:checked~label.sk-toggleable__label-arrow:before {content: \"▾\";}#sk-container-id-14 div.sk-estimator input.sk-toggleable__control:checked~label.sk-toggleable__label {background-color: #d4ebff;}#sk-container-id-14 div.sk-label input.sk-toggleable__control:checked~label.sk-toggleable__label {background-color: #d4ebff;}#sk-container-id-14 input.sk-hidden--visually {border: 0;clip: rect(1px 1px 1px 1px);clip: rect(1px, 1px, 1px, 1px);height: 1px;margin: -1px;overflow: hidden;padding: 0;position: absolute;width: 1px;}#sk-container-id-14 div.sk-estimator {font-family: monospace;background-color: #f0f8ff;border: 1px dotted black;border-radius: 0.25em;box-sizing: border-box;margin-bottom: 0.5em;}#sk-container-id-14 div.sk-estimator:hover {background-color: #d4ebff;}#sk-container-id-14 div.sk-parallel-item::after {content: \"\";width: 100%;border-bottom: 1px solid gray;flex-grow: 1;}#sk-container-id-14 div.sk-label:hover label.sk-toggleable__label {background-color: #d4ebff;}#sk-container-id-14 div.sk-serial::before {content: \"\";position: absolute;border-left: 1px solid gray;box-sizing: border-box;top: 0;bottom: 0;left: 50%;z-index: 0;}#sk-container-id-14 div.sk-serial {display: flex;flex-direction: column;align-items: center;background-color: white;padding-right: 0.2em;padding-left: 0.2em;position: relative;}#sk-container-id-14 div.sk-item {position: relative;z-index: 1;}#sk-container-id-14 div.sk-parallel {display: flex;align-items: stretch;justify-content: center;background-color: white;position: relative;}#sk-container-id-14 div.sk-item::before, #sk-container-id-14 div.sk-parallel-item::before {content: \"\";position: absolute;border-left: 1px solid gray;box-sizing: border-box;top: 0;bottom: 0;left: 50%;z-index: -1;}#sk-container-id-14 div.sk-parallel-item {display: flex;flex-direction: column;z-index: 1;position: relative;background-color: white;}#sk-container-id-14 div.sk-parallel-item:first-child::after {align-self: flex-end;width: 50%;}#sk-container-id-14 div.sk-parallel-item:last-child::after {align-self: flex-start;width: 50%;}#sk-container-id-14 div.sk-parallel-item:only-child::after {width: 0;}#sk-container-id-14 div.sk-dashed-wrapped {border: 1px dashed gray;margin: 0 0.4em 0.5em 0.4em;box-sizing: border-box;padding-bottom: 0.4em;background-color: white;}#sk-container-id-14 div.sk-label label {font-family: monospace;font-weight: bold;display: inline-block;line-height: 1.2em;}#sk-container-id-14 div.sk-label-container {text-align: center;}#sk-container-id-14 div.sk-container {/* jupyter's `normalize.less` sets `[hidden] { display: none; }` but bootstrap.min.css set `[hidden] { display: none !important; }` so we also need the `!important` here to be able to override the default hidden behavior on the sphinx rendered scikit-learn.org. See: https://github.com/scikit-learn/scikit-learn/issues/21755 */display: inline-block !important;position: relative;}#sk-container-id-14 div.sk-text-repr-fallback {display: none;}</style><div id=\"sk-container-id-14\" class=\"sk-top-container\"><div class=\"sk-text-repr-fallback\"><pre>LinearRegression()</pre><b>In a Jupyter environment, please rerun this cell to show the HTML representation or trust the notebook. <br />On GitHub, the HTML representation is unable to render, please try loading this page with nbviewer.org.</b></div><div class=\"sk-container\" hidden><div class=\"sk-item\"><div class=\"sk-estimator sk-toggleable\"><input class=\"sk-toggleable__control sk-hidden--visually\" id=\"sk-estimator-id-14\" type=\"checkbox\" checked><label for=\"sk-estimator-id-14\" class=\"sk-toggleable__label sk-toggleable__label-arrow\">LinearRegression</label><div class=\"sk-toggleable__content\"><pre>LinearRegression()</pre></div></div></div></div></div>"
            ]
          },
          "metadata": {},
          "execution_count": 61
        }
      ]
    },
    {
      "cell_type": "code",
      "source": [
        "# [32] Xpoly3, Ynormal 데이터 사용, LinearRegression => model2\n",
        "poly3 = PolynomialFeatures(degree=3,include_bias=False) #, interaction_only=True, )\n",
        "Xpoly3 = poly3.fit_transform(Xscaled)\n",
        "model2 = LinearRegression()\n",
        "# print(Xpoly3.shape)\n",
        "Model_Train_2(model2, Xpoly3, Ynormal)"
      ],
      "metadata": {
        "id": "CefaJ30077a3",
        "colab": {
          "base_uri": "https://localhost:8080/",
          "height": 0
        },
        "outputId": "9667cc78-3d7d-438f-ac90-91f03f4ecb88"
      },
      "execution_count": 62,
      "outputs": [
        {
          "output_type": "stream",
          "name": "stdout",
          "text": [
            "<class 'sklearn.linear_model._base.LinearRegression'>\n",
            "train: r2:1.0 mae:0.002813 mse:1.09e-05 msle:0.1761 rmse:0.003302 rmsle:0.4196\n",
            "test: r2:1.0 mae:0.006752 mse:0.0004418 msle:0.3433 rmse:0.02102 rmsle:0.5859\n",
            "\n"
          ]
        },
        {
          "output_type": "execute_result",
          "data": {
            "text/plain": [
              "LinearRegression()"
            ],
            "text/html": [
              "<style>#sk-container-id-15 {color: black;background-color: white;}#sk-container-id-15 pre{padding: 0;}#sk-container-id-15 div.sk-toggleable {background-color: white;}#sk-container-id-15 label.sk-toggleable__label {cursor: pointer;display: block;width: 100%;margin-bottom: 0;padding: 0.3em;box-sizing: border-box;text-align: center;}#sk-container-id-15 label.sk-toggleable__label-arrow:before {content: \"▸\";float: left;margin-right: 0.25em;color: #696969;}#sk-container-id-15 label.sk-toggleable__label-arrow:hover:before {color: black;}#sk-container-id-15 div.sk-estimator:hover label.sk-toggleable__label-arrow:before {color: black;}#sk-container-id-15 div.sk-toggleable__content {max-height: 0;max-width: 0;overflow: hidden;text-align: left;background-color: #f0f8ff;}#sk-container-id-15 div.sk-toggleable__content pre {margin: 0.2em;color: black;border-radius: 0.25em;background-color: #f0f8ff;}#sk-container-id-15 input.sk-toggleable__control:checked~div.sk-toggleable__content {max-height: 200px;max-width: 100%;overflow: auto;}#sk-container-id-15 input.sk-toggleable__control:checked~label.sk-toggleable__label-arrow:before {content: \"▾\";}#sk-container-id-15 div.sk-estimator input.sk-toggleable__control:checked~label.sk-toggleable__label {background-color: #d4ebff;}#sk-container-id-15 div.sk-label input.sk-toggleable__control:checked~label.sk-toggleable__label {background-color: #d4ebff;}#sk-container-id-15 input.sk-hidden--visually {border: 0;clip: rect(1px 1px 1px 1px);clip: rect(1px, 1px, 1px, 1px);height: 1px;margin: -1px;overflow: hidden;padding: 0;position: absolute;width: 1px;}#sk-container-id-15 div.sk-estimator {font-family: monospace;background-color: #f0f8ff;border: 1px dotted black;border-radius: 0.25em;box-sizing: border-box;margin-bottom: 0.5em;}#sk-container-id-15 div.sk-estimator:hover {background-color: #d4ebff;}#sk-container-id-15 div.sk-parallel-item::after {content: \"\";width: 100%;border-bottom: 1px solid gray;flex-grow: 1;}#sk-container-id-15 div.sk-label:hover label.sk-toggleable__label {background-color: #d4ebff;}#sk-container-id-15 div.sk-serial::before {content: \"\";position: absolute;border-left: 1px solid gray;box-sizing: border-box;top: 0;bottom: 0;left: 50%;z-index: 0;}#sk-container-id-15 div.sk-serial {display: flex;flex-direction: column;align-items: center;background-color: white;padding-right: 0.2em;padding-left: 0.2em;position: relative;}#sk-container-id-15 div.sk-item {position: relative;z-index: 1;}#sk-container-id-15 div.sk-parallel {display: flex;align-items: stretch;justify-content: center;background-color: white;position: relative;}#sk-container-id-15 div.sk-item::before, #sk-container-id-15 div.sk-parallel-item::before {content: \"\";position: absolute;border-left: 1px solid gray;box-sizing: border-box;top: 0;bottom: 0;left: 50%;z-index: -1;}#sk-container-id-15 div.sk-parallel-item {display: flex;flex-direction: column;z-index: 1;position: relative;background-color: white;}#sk-container-id-15 div.sk-parallel-item:first-child::after {align-self: flex-end;width: 50%;}#sk-container-id-15 div.sk-parallel-item:last-child::after {align-self: flex-start;width: 50%;}#sk-container-id-15 div.sk-parallel-item:only-child::after {width: 0;}#sk-container-id-15 div.sk-dashed-wrapped {border: 1px dashed gray;margin: 0 0.4em 0.5em 0.4em;box-sizing: border-box;padding-bottom: 0.4em;background-color: white;}#sk-container-id-15 div.sk-label label {font-family: monospace;font-weight: bold;display: inline-block;line-height: 1.2em;}#sk-container-id-15 div.sk-label-container {text-align: center;}#sk-container-id-15 div.sk-container {/* jupyter's `normalize.less` sets `[hidden] { display: none; }` but bootstrap.min.css set `[hidden] { display: none !important; }` so we also need the `!important` here to be able to override the default hidden behavior on the sphinx rendered scikit-learn.org. See: https://github.com/scikit-learn/scikit-learn/issues/21755 */display: inline-block !important;position: relative;}#sk-container-id-15 div.sk-text-repr-fallback {display: none;}</style><div id=\"sk-container-id-15\" class=\"sk-top-container\"><div class=\"sk-text-repr-fallback\"><pre>LinearRegression()</pre><b>In a Jupyter environment, please rerun this cell to show the HTML representation or trust the notebook. <br />On GitHub, the HTML representation is unable to render, please try loading this page with nbviewer.org.</b></div><div class=\"sk-container\" hidden><div class=\"sk-item\"><div class=\"sk-estimator sk-toggleable\"><input class=\"sk-toggleable__control sk-hidden--visually\" id=\"sk-estimator-id-15\" type=\"checkbox\" checked><label for=\"sk-estimator-id-15\" class=\"sk-toggleable__label sk-toggleable__label-arrow\">LinearRegression</label><div class=\"sk-toggleable__content\"><pre>LinearRegression()</pre></div></div></div></div></div>"
            ]
          },
          "metadata": {},
          "execution_count": 62
        }
      ]
    },
    {
      "cell_type": "code",
      "source": [
        "# [33] Xlarge, Ylarge 데이터 사용, XGBRegressor => model3\n",
        "dataL = make_sample(1234, 2000)     \n",
        "Xlarge = dataL[['height', 'weight']]\n",
        "Ylarge = dataL['BMI']\n",
        "model3 = XGBRegressor(n_estimators=900, objective='reg:squarederror', random_state=0)\n",
        "Model_Train_2(model3, Xlarge, Ylarge)  # 2000개!"
      ],
      "metadata": {
        "id": "KYI76X6R8Hj1",
        "colab": {
          "base_uri": "https://localhost:8080/",
          "height": 0
        },
        "outputId": "3b71a4e8-1861-4c52-b6bc-fb6c3aaec025"
      },
      "execution_count": 63,
      "outputs": [
        {
          "output_type": "stream",
          "name": "stdout",
          "text": [
            "<class 'xgboost.sklearn.XGBRegressor'>\n",
            "train: r2:1.0 mae:0.003165 mse:1.961e-05 msle:0.007564 rmse:0.004428 rmsle:0.08697\n",
            "test: r2:0.9967 mae:0.1408 mse:0.04675 msle:0.01826 rmse:0.2162 rmsle:0.1351\n",
            "\n"
          ]
        },
        {
          "output_type": "execute_result",
          "data": {
            "text/plain": [
              "XGBRegressor(base_score=None, booster=None, callbacks=None,\n",
              "             colsample_bylevel=None, colsample_bynode=None,\n",
              "             colsample_bytree=None, early_stopping_rounds=None,\n",
              "             enable_categorical=False, eval_metric=None, feature_types=None,\n",
              "             gamma=None, gpu_id=None, grow_policy=None, importance_type=None,\n",
              "             interaction_constraints=None, learning_rate=None, max_bin=None,\n",
              "             max_cat_threshold=None, max_cat_to_onehot=None,\n",
              "             max_delta_step=None, max_depth=None, max_leaves=None,\n",
              "             min_child_weight=None, missing=nan, monotone_constraints=None,\n",
              "             n_estimators=900, n_jobs=None, num_parallel_tree=None,\n",
              "             predictor=None, random_state=0, ...)"
            ],
            "text/html": [
              "<style>#sk-container-id-16 {color: black;background-color: white;}#sk-container-id-16 pre{padding: 0;}#sk-container-id-16 div.sk-toggleable {background-color: white;}#sk-container-id-16 label.sk-toggleable__label {cursor: pointer;display: block;width: 100%;margin-bottom: 0;padding: 0.3em;box-sizing: border-box;text-align: center;}#sk-container-id-16 label.sk-toggleable__label-arrow:before {content: \"▸\";float: left;margin-right: 0.25em;color: #696969;}#sk-container-id-16 label.sk-toggleable__label-arrow:hover:before {color: black;}#sk-container-id-16 div.sk-estimator:hover label.sk-toggleable__label-arrow:before {color: black;}#sk-container-id-16 div.sk-toggleable__content {max-height: 0;max-width: 0;overflow: hidden;text-align: left;background-color: #f0f8ff;}#sk-container-id-16 div.sk-toggleable__content pre {margin: 0.2em;color: black;border-radius: 0.25em;background-color: #f0f8ff;}#sk-container-id-16 input.sk-toggleable__control:checked~div.sk-toggleable__content {max-height: 200px;max-width: 100%;overflow: auto;}#sk-container-id-16 input.sk-toggleable__control:checked~label.sk-toggleable__label-arrow:before {content: \"▾\";}#sk-container-id-16 div.sk-estimator input.sk-toggleable__control:checked~label.sk-toggleable__label {background-color: #d4ebff;}#sk-container-id-16 div.sk-label input.sk-toggleable__control:checked~label.sk-toggleable__label {background-color: #d4ebff;}#sk-container-id-16 input.sk-hidden--visually {border: 0;clip: rect(1px 1px 1px 1px);clip: rect(1px, 1px, 1px, 1px);height: 1px;margin: -1px;overflow: hidden;padding: 0;position: absolute;width: 1px;}#sk-container-id-16 div.sk-estimator {font-family: monospace;background-color: #f0f8ff;border: 1px dotted black;border-radius: 0.25em;box-sizing: border-box;margin-bottom: 0.5em;}#sk-container-id-16 div.sk-estimator:hover {background-color: #d4ebff;}#sk-container-id-16 div.sk-parallel-item::after {content: \"\";width: 100%;border-bottom: 1px solid gray;flex-grow: 1;}#sk-container-id-16 div.sk-label:hover label.sk-toggleable__label {background-color: #d4ebff;}#sk-container-id-16 div.sk-serial::before {content: \"\";position: absolute;border-left: 1px solid gray;box-sizing: border-box;top: 0;bottom: 0;left: 50%;z-index: 0;}#sk-container-id-16 div.sk-serial {display: flex;flex-direction: column;align-items: center;background-color: white;padding-right: 0.2em;padding-left: 0.2em;position: relative;}#sk-container-id-16 div.sk-item {position: relative;z-index: 1;}#sk-container-id-16 div.sk-parallel {display: flex;align-items: stretch;justify-content: center;background-color: white;position: relative;}#sk-container-id-16 div.sk-item::before, #sk-container-id-16 div.sk-parallel-item::before {content: \"\";position: absolute;border-left: 1px solid gray;box-sizing: border-box;top: 0;bottom: 0;left: 50%;z-index: -1;}#sk-container-id-16 div.sk-parallel-item {display: flex;flex-direction: column;z-index: 1;position: relative;background-color: white;}#sk-container-id-16 div.sk-parallel-item:first-child::after {align-self: flex-end;width: 50%;}#sk-container-id-16 div.sk-parallel-item:last-child::after {align-self: flex-start;width: 50%;}#sk-container-id-16 div.sk-parallel-item:only-child::after {width: 0;}#sk-container-id-16 div.sk-dashed-wrapped {border: 1px dashed gray;margin: 0 0.4em 0.5em 0.4em;box-sizing: border-box;padding-bottom: 0.4em;background-color: white;}#sk-container-id-16 div.sk-label label {font-family: monospace;font-weight: bold;display: inline-block;line-height: 1.2em;}#sk-container-id-16 div.sk-label-container {text-align: center;}#sk-container-id-16 div.sk-container {/* jupyter's `normalize.less` sets `[hidden] { display: none; }` but bootstrap.min.css set `[hidden] { display: none !important; }` so we also need the `!important` here to be able to override the default hidden behavior on the sphinx rendered scikit-learn.org. See: https://github.com/scikit-learn/scikit-learn/issues/21755 */display: inline-block !important;position: relative;}#sk-container-id-16 div.sk-text-repr-fallback {display: none;}</style><div id=\"sk-container-id-16\" class=\"sk-top-container\"><div class=\"sk-text-repr-fallback\"><pre>XGBRegressor(base_score=None, booster=None, callbacks=None,\n",
              "             colsample_bylevel=None, colsample_bynode=None,\n",
              "             colsample_bytree=None, early_stopping_rounds=None,\n",
              "             enable_categorical=False, eval_metric=None, feature_types=None,\n",
              "             gamma=None, gpu_id=None, grow_policy=None, importance_type=None,\n",
              "             interaction_constraints=None, learning_rate=None, max_bin=None,\n",
              "             max_cat_threshold=None, max_cat_to_onehot=None,\n",
              "             max_delta_step=None, max_depth=None, max_leaves=None,\n",
              "             min_child_weight=None, missing=nan, monotone_constraints=None,\n",
              "             n_estimators=900, n_jobs=None, num_parallel_tree=None,\n",
              "             predictor=None, random_state=0, ...)</pre><b>In a Jupyter environment, please rerun this cell to show the HTML representation or trust the notebook. <br />On GitHub, the HTML representation is unable to render, please try loading this page with nbviewer.org.</b></div><div class=\"sk-container\" hidden><div class=\"sk-item\"><div class=\"sk-estimator sk-toggleable\"><input class=\"sk-toggleable__control sk-hidden--visually\" id=\"sk-estimator-id-16\" type=\"checkbox\" checked><label for=\"sk-estimator-id-16\" class=\"sk-toggleable__label sk-toggleable__label-arrow\">XGBRegressor</label><div class=\"sk-toggleable__content\"><pre>XGBRegressor(base_score=None, booster=None, callbacks=None,\n",
              "             colsample_bylevel=None, colsample_bynode=None,\n",
              "             colsample_bytree=None, early_stopping_rounds=None,\n",
              "             enable_categorical=False, eval_metric=None, feature_types=None,\n",
              "             gamma=None, gpu_id=None, grow_policy=None, importance_type=None,\n",
              "             interaction_constraints=None, learning_rate=None, max_bin=None,\n",
              "             max_cat_threshold=None, max_cat_to_onehot=None,\n",
              "             max_delta_step=None, max_depth=None, max_leaves=None,\n",
              "             min_child_weight=None, missing=nan, monotone_constraints=None,\n",
              "             n_estimators=900, n_jobs=None, num_parallel_tree=None,\n",
              "             predictor=None, random_state=0, ...)</pre></div></div></div></div></div>"
            ]
          },
          "metadata": {},
          "execution_count": 63
        }
      ]
    },
    {
      "cell_type": "code",
      "source": [
        "# [34] X_submission, Y_hidden 데이터를 사용하여 model1, model2, model3의 성능을 평가하여봄 \n",
        "# (실제는 할 수 없음)\n",
        "XF = X_submission[['height','weight']]\n",
        "YF = Y_hidden['BMI']\n",
        "XFpoly3 = poly3.fit_transform(XF)\n",
        "print(get_scores(model1, XF, YF))\n",
        "print(get_scores(model2, XFpoly3, YF))\n",
        "print(get_scores(model3, XF, YF))"
      ],
      "metadata": {
        "id": "nIRRRkkO8DR4",
        "colab": {
          "base_uri": "https://localhost:8080/"
        },
        "outputId": "6d1fb760-6c38-46d8-fe34-f75219fcb5b0"
      },
      "execution_count": 64,
      "outputs": [
        {
          "output_type": "stream",
          "name": "stdout",
          "text": [
            "r2:0.9892 mae:0.2701 mse:0.1499 msle:0.1135 rmse:0.3871 rmsle:0.3369\n",
            "r2:-1.55e+11 mae:1.146e+06 mse:2.156e+12 msle:74.95 rmse:1.468e+06 rmsle:8.658\n",
            "r2:0.9962 mae:0.1337 mse:0.05326 msle:0.1132 rmse:0.2308 rmsle:0.3365\n"
          ]
        }
      ]
    },
    {
      "cell_type": "code",
      "source": [
        "# [35] 제출파일 만들기 (실제 문제에서 요구하는 형태로 작성해야 함)\n",
        "# msle, rmsle (음수가 있으면 안됨) \n",
        "pred = model2.predict(XFpoly3)\n",
        "submission = pd.DataFrame({'ID': X_submission['ID'],\n",
        "                           'BMI': pred})\n",
        "#submission.head()\n",
        "submission.to_csv('0001100.csv', index=False)"
      ],
      "metadata": {
        "id": "0QWqC_0Kuiro"
      },
      "execution_count": 65,
      "outputs": []
    },
    {
      "cell_type": "markdown",
      "metadata": {
        "id": "XUPWlWuCVYYE"
      },
      "source": [
        "## 4.웹사이트 방문자 예측"
      ]
    },
    {
      "cell_type": "code",
      "metadata": {
        "id": "MIoEz7R4U_D9",
        "colab": {
          "base_uri": "https://localhost:8080/"
        },
        "outputId": "7ec66929-1919-4ea7-89b4-348c2fbb9274"
      },
      "source": [
        "!git clone https://github.com/Soyoung-Yoon/bigdata"
      ],
      "execution_count": 66,
      "outputs": [
        {
          "output_type": "stream",
          "name": "stdout",
          "text": [
            "Cloning into 'bigdata'...\n",
            "remote: Enumerating objects: 50, done.\u001b[K\n",
            "remote: Total 50 (delta 0), reused 0 (delta 0), pack-reused 50\u001b[K\n",
            "Unpacking objects: 100% (50/50), 14.20 MiB | 4.31 MiB/s, done.\n"
          ]
        }
      ]
    },
    {
      "cell_type": "markdown",
      "source": [
        "### 4-1. 데이터 이해, 생성\n",
        "- 1개 데이터를 나누어 시험용으로 변경해 보는 작업\n",
        "- 실제 시험에서는 이런 과정은 필요 없음\n"
      ],
      "metadata": {
        "id": "_5ler3JINPof"
      }
    },
    {
      "cell_type": "code",
      "source": [
        "# https://www.kaggle.com/bobnau/daily-website-visitors\n",
        "# Daily number of pages loaded\n",
        "# Daily number of visitors from whose IP addresses there haven't been hits on any page in over 6 hours\n",
        "# Number of unique visitors who do not have a cookie identifying them as a previous customer\n",
        "# Number of unique visitors minus first time visitors"
      ],
      "metadata": {
        "id": "YiZ7Sp3Gwp9C"
      },
      "execution_count": 67,
      "outputs": []
    },
    {
      "cell_type": "code",
      "source": [
        "# [0] 사용 라이브러리 import\n",
        "import pandas as pd\n",
        "\n",
        "# 데이타가 많은경우 모두 출력 안되고 ... 으로 생략해서 출력됨.\n",
        "# 시험환경에서는 아래와 같이 해야해서 수정했습니다 ^^*\n",
        "pd.options.display.max_rows = 500     #출력할 max row를 지정\n",
        "pd.options.display.max_columns = 20   #출력할 max columns를 지정\n",
        "#출력 format 지정 - 소수점아래 4자리까지\n",
        "pd.set_option('display.float_format', '{:.4f}'.format)"
      ],
      "metadata": {
        "id": "_T0dDgZSh33W"
      },
      "execution_count": 115,
      "outputs": []
    },
    {
      "cell_type": "code",
      "source": [
        "# [1] 'bigdata/daily-website-visitors.csv' 파일 불러오기, shape 확인하기\n",
        "df = pd.read_csv('bigdata/daily-website-visitors.csv')\n",
        "df.shape"
      ],
      "metadata": {
        "id": "axronwtctIX5",
        "colab": {
          "base_uri": "https://localhost:8080/"
        },
        "outputId": "b2f70add-5ccb-4225-9f7f-3bb2b161e186"
      },
      "execution_count": 69,
      "outputs": [
        {
          "output_type": "execute_result",
          "data": {
            "text/plain": [
              "(2167, 8)"
            ]
          },
          "metadata": {},
          "execution_count": 69
        }
      ]
    },
    {
      "cell_type": "code",
      "source": [
        "# [2] head를 사용해 데이터의 모습 확인\n",
        "# 컬럼명이 대소문자 섞여 있어 사용하기 좋지 않음 \n",
        "print(df.head(3))\n",
        "print(df.info())"
      ],
      "metadata": {
        "id": "-_MHO0lifyV0",
        "colab": {
          "base_uri": "https://localhost:8080/"
        },
        "outputId": "de7358a4-1215-4563-e4b4-8ee5608ce85e"
      },
      "execution_count": 70,
      "outputs": [
        {
          "output_type": "stream",
          "name": "stdout",
          "text": [
            "   Row      Day  Day.Of.Week       Date Page.Loads Unique.Visits  \\\n",
            "0    1   Sunday            1  9/14/2014      2,146         1,582   \n",
            "1    2   Monday            2  9/15/2014      3,621         2,528   \n",
            "2    3  Tuesday            3  9/16/2014      3,698         2,630   \n",
            "\n",
            "  First.Time.Visits Returning.Visits  \n",
            "0             1,430              152  \n",
            "1             2,297              231  \n",
            "2             2,352              278  \n",
            "<class 'pandas.core.frame.DataFrame'>\n",
            "RangeIndex: 2167 entries, 0 to 2166\n",
            "Data columns (total 8 columns):\n",
            " #   Column             Non-Null Count  Dtype \n",
            "---  ------             --------------  ----- \n",
            " 0   Row                2167 non-null   int64 \n",
            " 1   Day                2167 non-null   object\n",
            " 2   Day.Of.Week        2167 non-null   int64 \n",
            " 3   Date               2167 non-null   object\n",
            " 4   Page.Loads         2167 non-null   object\n",
            " 5   Unique.Visits      2167 non-null   object\n",
            " 6   First.Time.Visits  2167 non-null   object\n",
            " 7   Returning.Visits   2167 non-null   object\n",
            "dtypes: int64(2), object(6)\n",
            "memory usage: 135.6+ KB\n",
            "None\n"
          ]
        }
      ]
    },
    {
      "cell_type": "code",
      "source": [
        "# [3] 컬럼명 정리 - 소문자로 변경, '.'을 '-'로 변경\n",
        "df.columns = df.columns.str.replace('.','_',regex = True).str.lower()\n",
        "df.columns"
      ],
      "metadata": {
        "id": "FqihypH0f4Mb",
        "colab": {
          "base_uri": "https://localhost:8080/"
        },
        "outputId": "b94bd588-2661-4864-f998-8e2d8436ceef"
      },
      "execution_count": 71,
      "outputs": [
        {
          "output_type": "execute_result",
          "data": {
            "text/plain": [
              "Index(['row', 'day', 'day_of_week', 'date', 'page_loads', 'unique_visits',\n",
              "       'first_time_visits', 'returning_visits'],\n",
              "      dtype='object')"
            ]
          },
          "metadata": {},
          "execution_count": 71
        }
      ]
    },
    {
      "cell_type": "markdown",
      "source": [
        "컬럼 정보\n",
        "- row : 1번 부터 시작하는 일련번호\n",
        "- day : 요일 정보\n",
        "- day_of_week : 요일 정보\n",
        "- date : 날짜 정보\n",
        "- page_loads : 로드된 일별 페이지 수\n",
        "- unique_visits : 6시간 이상 페이지에서 조회되지 않은 IP 주소의 일일 방문자 수\n",
        "- first_time_visits : 이전 고객으로 식별되는 쿠키를 가지고 있지 않은 고유 방문자 수\n",
        "- returning_visits : unique_visits 수에서 first_time_visits 제외"
      ],
      "metadata": {
        "id": "XKttWN_7MNWC"
      }
    },
    {
      "cell_type": "code",
      "source": [
        "# [4] unique_visits를 예측하는 값으로 사용할 것이며, 수치데이터 이어야 함\n",
        "# 콤마 제거 후, int로 형변환\n",
        "df['unique_visits'] = df['unique_visits'].replace(',','',regex = True).astype(int)\n",
        "df.dtypes \n"
      ],
      "metadata": {
        "id": "EoIQUBSAiy-n",
        "colab": {
          "base_uri": "https://localhost:8080/"
        },
        "outputId": "fc79ab89-559c-4de2-b51d-6ee88061cbda"
      },
      "execution_count": 72,
      "outputs": [
        {
          "output_type": "execute_result",
          "data": {
            "text/plain": [
              "row                   int64\n",
              "day                  object\n",
              "day_of_week           int64\n",
              "date                 object\n",
              "page_loads           object\n",
              "unique_visits         int64\n",
              "first_time_visits    object\n",
              "returning_visits     object\n",
              "dtype: object"
            ]
          },
          "metadata": {},
          "execution_count": 72
        }
      ]
    },
    {
      "cell_type": "code",
      "source": [
        "# [5] 시험 형식으로 train, test 데이터로 나누어 저장합니다.  (6:4 비율)\n",
        "train_size = len(df) - int(len(df)*0.4)\n",
        "\n",
        "# 여러 가지 데이터가 고루 섞이도록 해야 함\n",
        "df = df.sample(frac = 1, random_state=1234)\n",
        "df['row'] = range(1, len(df)+1)\n",
        "train = df.iloc[:train_size,:]\n",
        "test = df.iloc[train_size:,:]\n",
        "print(train.shape, test.shape)\n",
        "y = 'unique_visits'\n",
        "X_train = train.drop(columns=y)\n",
        "Y_train = train[['row',y]]\n",
        "X_test =  test.drop(columns=y)\n",
        "Y_test = test[['row',y]]\n",
        "X_train.to_csv('x_train.csv', index = False)\n",
        "Y_train.to_csv('y_train.csv', index = False)\n",
        "X_test.to_csv('x_test.csv', index = False)\n",
        "Y_test.to_csv('y_test.csv', index = False)\n"
      ],
      "metadata": {
        "id": "qsEfTqNgfJEg",
        "colab": {
          "base_uri": "https://localhost:8080/"
        },
        "outputId": "d0e36114-d2a7-4d47-e73a-28ef934224f1"
      },
      "execution_count": 73,
      "outputs": [
        {
          "output_type": "stream",
          "name": "stdout",
          "text": [
            "(1301, 8) (866, 8)\n"
          ]
        }
      ]
    },
    {
      "cell_type": "markdown",
      "source": [
        "### 4-2. 데이터 불러오기, 전처리"
      ],
      "metadata": {
        "id": "viF3bn3BNIL6"
      }
    },
    {
      "cell_type": "code",
      "source": [
        "# [1] 데이터 파일 불러오기\n",
        "X_use = pd.read_csv('x_train.csv')\n",
        "X_submission = pd.read_csv('x_test.csv')\n",
        "Y = pd.read_csv('y_train.csv')\n",
        "Y_hidden = pd.read_csv('y_test.csv') #시험 제공안됨"
      ],
      "metadata": {
        "id": "3tYKt8HKhFli"
      },
      "execution_count": 74,
      "outputs": []
    },
    {
      "cell_type": "code",
      "source": [
        "# [2] dfX 만들기, dfX의 info() 확인\n",
        "# use, submission 데이터를 묶어 전처리 하기 위함\n",
        "dfX = pd.concat([X_use, X_submission], axis=0, ignore_index=True)\n",
        "dfX.info()"
      ],
      "metadata": {
        "id": "XH2HdhV2tl-S",
        "colab": {
          "base_uri": "https://localhost:8080/"
        },
        "outputId": "ada3db81-1eb2-494a-f55d-ceb58dcb10f0"
      },
      "execution_count": 75,
      "outputs": [
        {
          "output_type": "stream",
          "name": "stdout",
          "text": [
            "<class 'pandas.core.frame.DataFrame'>\n",
            "RangeIndex: 2167 entries, 0 to 2166\n",
            "Data columns (total 7 columns):\n",
            " #   Column             Non-Null Count  Dtype \n",
            "---  ------             --------------  ----- \n",
            " 0   row                2167 non-null   int64 \n",
            " 1   day                2167 non-null   object\n",
            " 2   day_of_week        2167 non-null   int64 \n",
            " 3   date               2167 non-null   object\n",
            " 4   page_loads         2167 non-null   object\n",
            " 5   first_time_visits  2167 non-null   object\n",
            " 6   returning_visits   2167 non-null   object\n",
            "dtypes: int64(2), object(5)\n",
            "memory usage: 118.6+ KB\n"
          ]
        }
      ]
    },
    {
      "cell_type": "code",
      "source": [
        "# [3] dfX의 object 값이 어떤 것인지 확인하기 위해 5줄 출력을 합니다.\n",
        "dfX.head(5)"
      ],
      "metadata": {
        "id": "g2WmU8GliOJT",
        "colab": {
          "base_uri": "https://localhost:8080/",
          "height": 206
        },
        "outputId": "f9a80669-ad34-42d5-dd7b-b4f6a58cfbb4"
      },
      "execution_count": 76,
      "outputs": [
        {
          "output_type": "execute_result",
          "data": {
            "text/plain": [
              "   row       day  day_of_week        date page_loads first_time_visits  \\\n",
              "0    1    Friday            6   6/26/2020      3,555             2,248   \n",
              "1    2  Thursday            5   8/29/2019      4,221             2,477   \n",
              "2    3    Friday            6  11/18/2016      4,767             2,734   \n",
              "3    4  Saturday            7  11/30/2019      3,301             2,053   \n",
              "4    5    Sunday            1    7/5/2020      2,948             1,836   \n",
              "\n",
              "  returning_visits  \n",
              "0              427  \n",
              "1              505  \n",
              "2              690  \n",
              "3              390  \n",
              "4              362  "
            ],
            "text/html": [
              "\n",
              "  <div id=\"df-5c69a060-88b6-4378-802f-020c6b3f3cba\">\n",
              "    <div class=\"colab-df-container\">\n",
              "      <div>\n",
              "<style scoped>\n",
              "    .dataframe tbody tr th:only-of-type {\n",
              "        vertical-align: middle;\n",
              "    }\n",
              "\n",
              "    .dataframe tbody tr th {\n",
              "        vertical-align: top;\n",
              "    }\n",
              "\n",
              "    .dataframe thead th {\n",
              "        text-align: right;\n",
              "    }\n",
              "</style>\n",
              "<table border=\"1\" class=\"dataframe\">\n",
              "  <thead>\n",
              "    <tr style=\"text-align: right;\">\n",
              "      <th></th>\n",
              "      <th>row</th>\n",
              "      <th>day</th>\n",
              "      <th>day_of_week</th>\n",
              "      <th>date</th>\n",
              "      <th>page_loads</th>\n",
              "      <th>first_time_visits</th>\n",
              "      <th>returning_visits</th>\n",
              "    </tr>\n",
              "  </thead>\n",
              "  <tbody>\n",
              "    <tr>\n",
              "      <th>0</th>\n",
              "      <td>1</td>\n",
              "      <td>Friday</td>\n",
              "      <td>6</td>\n",
              "      <td>6/26/2020</td>\n",
              "      <td>3,555</td>\n",
              "      <td>2,248</td>\n",
              "      <td>427</td>\n",
              "    </tr>\n",
              "    <tr>\n",
              "      <th>1</th>\n",
              "      <td>2</td>\n",
              "      <td>Thursday</td>\n",
              "      <td>5</td>\n",
              "      <td>8/29/2019</td>\n",
              "      <td>4,221</td>\n",
              "      <td>2,477</td>\n",
              "      <td>505</td>\n",
              "    </tr>\n",
              "    <tr>\n",
              "      <th>2</th>\n",
              "      <td>3</td>\n",
              "      <td>Friday</td>\n",
              "      <td>6</td>\n",
              "      <td>11/18/2016</td>\n",
              "      <td>4,767</td>\n",
              "      <td>2,734</td>\n",
              "      <td>690</td>\n",
              "    </tr>\n",
              "    <tr>\n",
              "      <th>3</th>\n",
              "      <td>4</td>\n",
              "      <td>Saturday</td>\n",
              "      <td>7</td>\n",
              "      <td>11/30/2019</td>\n",
              "      <td>3,301</td>\n",
              "      <td>2,053</td>\n",
              "      <td>390</td>\n",
              "    </tr>\n",
              "    <tr>\n",
              "      <th>4</th>\n",
              "      <td>5</td>\n",
              "      <td>Sunday</td>\n",
              "      <td>1</td>\n",
              "      <td>7/5/2020</td>\n",
              "      <td>2,948</td>\n",
              "      <td>1,836</td>\n",
              "      <td>362</td>\n",
              "    </tr>\n",
              "  </tbody>\n",
              "</table>\n",
              "</div>\n",
              "      <button class=\"colab-df-convert\" onclick=\"convertToInteractive('df-5c69a060-88b6-4378-802f-020c6b3f3cba')\"\n",
              "              title=\"Convert this dataframe to an interactive table.\"\n",
              "              style=\"display:none;\">\n",
              "        \n",
              "  <svg xmlns=\"http://www.w3.org/2000/svg\" height=\"24px\"viewBox=\"0 0 24 24\"\n",
              "       width=\"24px\">\n",
              "    <path d=\"M0 0h24v24H0V0z\" fill=\"none\"/>\n",
              "    <path d=\"M18.56 5.44l.94 2.06.94-2.06 2.06-.94-2.06-.94-.94-2.06-.94 2.06-2.06.94zm-11 1L8.5 8.5l.94-2.06 2.06-.94-2.06-.94L8.5 2.5l-.94 2.06-2.06.94zm10 10l.94 2.06.94-2.06 2.06-.94-2.06-.94-.94-2.06-.94 2.06-2.06.94z\"/><path d=\"M17.41 7.96l-1.37-1.37c-.4-.4-.92-.59-1.43-.59-.52 0-1.04.2-1.43.59L10.3 9.45l-7.72 7.72c-.78.78-.78 2.05 0 2.83L4 21.41c.39.39.9.59 1.41.59.51 0 1.02-.2 1.41-.59l7.78-7.78 2.81-2.81c.8-.78.8-2.07 0-2.86zM5.41 20L4 18.59l7.72-7.72 1.47 1.35L5.41 20z\"/>\n",
              "  </svg>\n",
              "      </button>\n",
              "      \n",
              "  <style>\n",
              "    .colab-df-container {\n",
              "      display:flex;\n",
              "      flex-wrap:wrap;\n",
              "      gap: 12px;\n",
              "    }\n",
              "\n",
              "    .colab-df-convert {\n",
              "      background-color: #E8F0FE;\n",
              "      border: none;\n",
              "      border-radius: 50%;\n",
              "      cursor: pointer;\n",
              "      display: none;\n",
              "      fill: #1967D2;\n",
              "      height: 32px;\n",
              "      padding: 0 0 0 0;\n",
              "      width: 32px;\n",
              "    }\n",
              "\n",
              "    .colab-df-convert:hover {\n",
              "      background-color: #E2EBFA;\n",
              "      box-shadow: 0px 1px 2px rgba(60, 64, 67, 0.3), 0px 1px 3px 1px rgba(60, 64, 67, 0.15);\n",
              "      fill: #174EA6;\n",
              "    }\n",
              "\n",
              "    [theme=dark] .colab-df-convert {\n",
              "      background-color: #3B4455;\n",
              "      fill: #D2E3FC;\n",
              "    }\n",
              "\n",
              "    [theme=dark] .colab-df-convert:hover {\n",
              "      background-color: #434B5C;\n",
              "      box-shadow: 0px 1px 3px 1px rgba(0, 0, 0, 0.15);\n",
              "      filter: drop-shadow(0px 1px 2px rgba(0, 0, 0, 0.3));\n",
              "      fill: #FFFFFF;\n",
              "    }\n",
              "  </style>\n",
              "\n",
              "      <script>\n",
              "        const buttonEl =\n",
              "          document.querySelector('#df-5c69a060-88b6-4378-802f-020c6b3f3cba button.colab-df-convert');\n",
              "        buttonEl.style.display =\n",
              "          google.colab.kernel.accessAllowed ? 'block' : 'none';\n",
              "\n",
              "        async function convertToInteractive(key) {\n",
              "          const element = document.querySelector('#df-5c69a060-88b6-4378-802f-020c6b3f3cba');\n",
              "          const dataTable =\n",
              "            await google.colab.kernel.invokeFunction('convertToInteractive',\n",
              "                                                     [key], {});\n",
              "          if (!dataTable) return;\n",
              "\n",
              "          const docLinkHtml = 'Like what you see? Visit the ' +\n",
              "            '<a target=\"_blank\" href=https://colab.research.google.com/notebooks/data_table.ipynb>data table notebook</a>'\n",
              "            + ' to learn more about interactive tables.';\n",
              "          element.innerHTML = '';\n",
              "          dataTable['output_type'] = 'display_data';\n",
              "          await google.colab.output.renderOutput(dataTable, element);\n",
              "          const docLink = document.createElement('div');\n",
              "          docLink.innerHTML = docLinkHtml;\n",
              "          element.appendChild(docLink);\n",
              "        }\n",
              "      </script>\n",
              "    </div>\n",
              "  </div>\n",
              "  "
            ]
          },
          "metadata": {},
          "execution_count": 76
        }
      ]
    },
    {
      "cell_type": "code",
      "source": [
        "# [4] 'page_loads', 'first_time_visits', 'returning_visits' 에 대해서 \n",
        "#  콤마를 없애고, int로 형변환 합니다\n",
        "# dfX['page_loads'].str.replace(',','',regex =True).astype(int)\n",
        "\n",
        "names = ['page_loads', 'first_time_visits', 'returning_visits']\n",
        "dfX[names] = dfX[names].replace(',','',regex =True).astype(int)\n",
        "\n",
        "dfX.info()"
      ],
      "metadata": {
        "id": "QEkHrVc1tjrN",
        "colab": {
          "base_uri": "https://localhost:8080/"
        },
        "outputId": "3da9b568-a29e-4cdd-a369-a1cea4385dcc"
      },
      "execution_count": 77,
      "outputs": [
        {
          "output_type": "stream",
          "name": "stdout",
          "text": [
            "<class 'pandas.core.frame.DataFrame'>\n",
            "RangeIndex: 2167 entries, 0 to 2166\n",
            "Data columns (total 7 columns):\n",
            " #   Column             Non-Null Count  Dtype \n",
            "---  ------             --------------  ----- \n",
            " 0   row                2167 non-null   int64 \n",
            " 1   day                2167 non-null   object\n",
            " 2   day_of_week        2167 non-null   int64 \n",
            " 3   date               2167 non-null   object\n",
            " 4   page_loads         2167 non-null   int64 \n",
            " 5   first_time_visits  2167 non-null   int64 \n",
            " 6   returning_visits   2167 non-null   int64 \n",
            "dtypes: int64(5), object(2)\n",
            "memory usage: 118.6+ KB\n"
          ]
        }
      ]
    },
    {
      "cell_type": "code",
      "source": [
        "# [5] 'date'에 대해서 datetime64로 형변환 합니다.\n",
        "# dfX['date'] = dfX['date'].astype('datetime64')\n",
        "dfX['date']= pd.to_datetime(dfX['date'],format='%m/%d/%Y')\n"
      ],
      "metadata": {
        "id": "kUt_sSsht6gR"
      },
      "execution_count": 78,
      "outputs": []
    },
    {
      "cell_type": "code",
      "source": [
        "# [6] 형변환이 올바르게 되었는지 확인합니다.\n",
        "dfX.info()"
      ],
      "metadata": {
        "id": "bGBU2gL0ulz6",
        "colab": {
          "base_uri": "https://localhost:8080/"
        },
        "outputId": "f1064f1f-0d7a-4f4c-ad36-e1d525c00dda"
      },
      "execution_count": 79,
      "outputs": [
        {
          "output_type": "stream",
          "name": "stdout",
          "text": [
            "<class 'pandas.core.frame.DataFrame'>\n",
            "RangeIndex: 2167 entries, 0 to 2166\n",
            "Data columns (total 7 columns):\n",
            " #   Column             Non-Null Count  Dtype         \n",
            "---  ------             --------------  -----         \n",
            " 0   row                2167 non-null   int64         \n",
            " 1   day                2167 non-null   object        \n",
            " 2   day_of_week        2167 non-null   int64         \n",
            " 3   date               2167 non-null   datetime64[ns]\n",
            " 4   page_loads         2167 non-null   int64         \n",
            " 5   first_time_visits  2167 non-null   int64         \n",
            " 6   returning_visits   2167 non-null   int64         \n",
            "dtypes: datetime64[ns](1), int64(5), object(1)\n",
            "memory usage: 118.6+ KB\n"
          ]
        }
      ]
    },
    {
      "cell_type": "code",
      "source": [
        "# [7] day, day_of_week를 확인해 보면 동일한 데이터 인 것을 알 수 있음\n",
        "# 'day' 컬럼을 제거합니다.\n",
        "dfX2 = dfX.drop(columns = 'day')"
      ],
      "metadata": {
        "id": "fexDlnyXkqNQ"
      },
      "execution_count": 80,
      "outputs": []
    },
    {
      "cell_type": "code",
      "source": [
        "# [8] 'date'에서 'year', 'month', 'day'에 대한 정보를 dfX3에 포함시키고, 'date' 를 제거합니다.\n",
        "# 상황에 따라 'quarter' 사용도 고려할 수 있음, 주말/주중으로 나눌 수도 있음 ...  \n",
        "date = pd.DataFrame()\n",
        "temp = dfX2['date'].dt\n",
        "date['year'] = temp.year\n",
        "date['month'] = temp.month\n",
        "date['day'] = temp.day\n",
        "dfX3 = dfX2.drop(columns='date')\n",
        "dfX3 = pd.concat([dfX3, date], axis=1)\n",
        "dfX3.info()"
      ],
      "metadata": {
        "id": "TmrffmuzvlZk",
        "colab": {
          "base_uri": "https://localhost:8080/"
        },
        "outputId": "ec20fc93-9e3f-4417-f23c-d4cb52ce657b"
      },
      "execution_count": 81,
      "outputs": [
        {
          "output_type": "stream",
          "name": "stdout",
          "text": [
            "<class 'pandas.core.frame.DataFrame'>\n",
            "RangeIndex: 2167 entries, 0 to 2166\n",
            "Data columns (total 8 columns):\n",
            " #   Column             Non-Null Count  Dtype\n",
            "---  ------             --------------  -----\n",
            " 0   row                2167 non-null   int64\n",
            " 1   day_of_week        2167 non-null   int64\n",
            " 2   page_loads         2167 non-null   int64\n",
            " 3   first_time_visits  2167 non-null   int64\n",
            " 4   returning_visits   2167 non-null   int64\n",
            " 5   year               2167 non-null   int64\n",
            " 6   month              2167 non-null   int64\n",
            " 7   day                2167 non-null   int64\n",
            "dtypes: int64(8)\n",
            "memory usage: 135.6 KB\n"
          ]
        }
      ]
    },
    {
      "cell_type": "code",
      "source": [
        "# [9] dfX3과 Y를 merge 합니다.\n",
        "# Y와 X의 feature의 관계를 분석해 보기 위해!\n",
        "dfXY = pd.merge(dfX3, Y)\n",
        "print(dfXY.shape, dfX3.shape, Y.shape)"
      ],
      "metadata": {
        "id": "ChRTc-WymkNo",
        "colab": {
          "base_uri": "https://localhost:8080/"
        },
        "outputId": "b0e26d23-1e01-4d1e-df2f-3031e2e23441"
      },
      "execution_count": 82,
      "outputs": [
        {
          "output_type": "stream",
          "name": "stdout",
          "text": [
            "(1301, 9) (2167, 8) (1301, 2)\n"
          ]
        }
      ]
    },
    {
      "cell_type": "code",
      "source": [
        "# [10] dfXY의 상관계수를 확인한다\n",
        "# 'unique_visits'와 상관이 매우 높은 feature들이 있음 (page_loads, first_time_visits, returning_visits)\n",
        "print(dfXY.corr()['unique_visits'])"
      ],
      "metadata": {
        "id": "3nYOXkR_9QpS",
        "colab": {
          "base_uri": "https://localhost:8080/"
        },
        "outputId": "f6a7c37a-46f3-4151-a061-4369b08634c4"
      },
      "execution_count": 83,
      "outputs": [
        {
          "output_type": "stream",
          "name": "stdout",
          "text": [
            "row                  0.0162\n",
            "day_of_week         -0.2592\n",
            "page_loads           0.9885\n",
            "first_time_visits    0.9962\n",
            "returning_visits     0.9059\n",
            "year                 0.0707\n",
            "month               -0.0478\n",
            "day                 -0.0353\n",
            "unique_visits        1.0000\n",
            "Name: unique_visits, dtype: float64\n"
          ]
        }
      ]
    },
    {
      "cell_type": "code",
      "source": [
        "# [11] 'day_of_week' 별 'unique_visits'의 평균을 구해본다.\n",
        "# 2, 3, 4, 5 가 높고 1, 6, 7이 낮은 것을 볼 수 있다.\n",
        "temp = dfXY.groupby('day_of_week')['unique_visits'].mean()\n",
        "temp"
      ],
      "metadata": {
        "id": "ro6K5c64wXuy",
        "colab": {
          "base_uri": "https://localhost:8080/"
        },
        "outputId": "a5a9f273-eae2-4ca4-bbe7-922fb9201222"
      },
      "execution_count": 84,
      "outputs": [
        {
          "output_type": "execute_result",
          "data": {
            "text/plain": [
              "day_of_week\n",
              "1   2351.3175\n",
              "2   3487.1016\n",
              "3   3590.0156\n",
              "4   3454.6684\n",
              "5   3362.2404\n",
              "6   2680.1477\n",
              "7   1784.1872\n",
              "Name: unique_visits, dtype: float64"
            ]
          },
          "metadata": {},
          "execution_count": 84
        }
      ]
    },
    {
      "cell_type": "code",
      "source": [
        "# [12] 'day_of_week' 별 평균이 높은 것에 대한 데이터를 high_day_of_week로 저장\n",
        "high_day_of_week = temp[temp > 3000].index.values\n",
        "high_day_of_week"
      ],
      "metadata": {
        "id": "44C1oXt4mJVy",
        "colab": {
          "base_uri": "https://localhost:8080/"
        },
        "outputId": "8982a392-534b-4e10-99a7-2b75a3a70119"
      },
      "execution_count": 85,
      "outputs": [
        {
          "output_type": "execute_result",
          "data": {
            "text/plain": [
              "array([2, 3, 4, 5])"
            ]
          },
          "metadata": {},
          "execution_count": 85
        }
      ]
    },
    {
      "cell_type": "code",
      "source": [
        "# [13] 'month' 별 'unique_visits'의 평균을 구해본다.\n",
        "# 2, 3, 4, 5, 10, 11이 높고 1, 6, 7이 낮은 것을 볼 수 있다.\n",
        "temp = dfXY.groupby('month')['unique_visits'].mean()\n",
        "temp"
      ],
      "metadata": {
        "id": "iDZX7wrdnF2M",
        "colab": {
          "base_uri": "https://localhost:8080/"
        },
        "outputId": "1359833a-3495-4578-9c96-d2da85c1fbc9"
      },
      "execution_count": 86,
      "outputs": [
        {
          "output_type": "execute_result",
          "data": {
            "text/plain": [
              "month\n",
              "1    2504.1947\n",
              "2    3164.8842\n",
              "3    3306.5798\n",
              "4    3835.3818\n",
              "5    3324.8396\n",
              "6    2619.0339\n",
              "7    2315.3505\n",
              "8    2266.5980\n",
              "9    2668.1776\n",
              "10   3188.5345\n",
              "11   3445.1504\n",
              "12   2776.1048\n",
              "Name: unique_visits, dtype: float64"
            ]
          },
          "metadata": {},
          "execution_count": 86
        }
      ]
    },
    {
      "cell_type": "code",
      "source": [
        "# [14] 'month' 별 평균이 높은 것에 대한 데이터를 high_month 저장\n",
        "high_month = temp[temp > 3000].index.values\n",
        "high_month"
      ],
      "metadata": {
        "id": "LLFI4SEtQwd9",
        "colab": {
          "base_uri": "https://localhost:8080/"
        },
        "outputId": "3a5f4391-f4aa-4d05-df4c-1b11c0b92c3e"
      },
      "execution_count": 87,
      "outputs": [
        {
          "output_type": "execute_result",
          "data": {
            "text/plain": [
              "array([ 2,  3,  4,  5, 10, 11])"
            ]
          },
          "metadata": {},
          "execution_count": 87
        }
      ]
    },
    {
      "cell_type": "code",
      "source": [
        "np.where(dfX3['day_of_week'].isin(high_day_of_week),1,0)"
      ],
      "metadata": {
        "colab": {
          "base_uri": "https://localhost:8080/"
        },
        "id": "_XUMcozW1J0_",
        "outputId": "43689747-d0da-4428-b9c7-ddb743723f6b"
      },
      "execution_count": 88,
      "outputs": [
        {
          "output_type": "execute_result",
          "data": {
            "text/plain": [
              "array([0, 1, 0, ..., 0, 1, 1])"
            ]
          },
          "metadata": {},
          "execution_count": 88
        }
      ]
    },
    {
      "cell_type": "code",
      "source": [
        "# [15] high_day_of_week, high_month의 index 정보를 사용해 파생 변수 생성\n",
        "# dfX3에 높은 평균을 갖는 요일과 달을 1, 아닌 것을 0으로 하는 dow_h, month_h 변수 추가\n",
        "import numpy as np\n",
        "# dfX3['dow_h'] = np.where(dfX3['day_of_week'].isin(high_day_of_week),1,0)\n",
        "dfX3['dow_h'] = dfX3['day_of_week'].isin(high_day_of_week).astype(int)\n",
        "dfX3['month_h'] = dfX3['month'].isin(high_month).astype(int)\n",
        "dfX3.head(5)"
      ],
      "metadata": {
        "id": "Pc2ZUmwOzigZ",
        "colab": {
          "base_uri": "https://localhost:8080/",
          "height": 206
        },
        "outputId": "d7b9695b-5bc2-4352-dd82-2406cd7a29bd"
      },
      "execution_count": 89,
      "outputs": [
        {
          "output_type": "execute_result",
          "data": {
            "text/plain": [
              "   row  day_of_week  page_loads  first_time_visits  returning_visits  year  \\\n",
              "0    1            6        3555               2248               427  2020   \n",
              "1    2            5        4221               2477               505  2019   \n",
              "2    3            6        4767               2734               690  2016   \n",
              "3    4            7        3301               2053               390  2019   \n",
              "4    5            1        2948               1836               362  2020   \n",
              "\n",
              "   month  day  dow_h  month_h  \n",
              "0      6   26      0        0  \n",
              "1      8   29      1        0  \n",
              "2     11   18      0        1  \n",
              "3     11   30      0        1  \n",
              "4      7    5      0        0  "
            ],
            "text/html": [
              "\n",
              "  <div id=\"df-de1ddd19-01d5-4bc8-852f-80c99d189aa3\">\n",
              "    <div class=\"colab-df-container\">\n",
              "      <div>\n",
              "<style scoped>\n",
              "    .dataframe tbody tr th:only-of-type {\n",
              "        vertical-align: middle;\n",
              "    }\n",
              "\n",
              "    .dataframe tbody tr th {\n",
              "        vertical-align: top;\n",
              "    }\n",
              "\n",
              "    .dataframe thead th {\n",
              "        text-align: right;\n",
              "    }\n",
              "</style>\n",
              "<table border=\"1\" class=\"dataframe\">\n",
              "  <thead>\n",
              "    <tr style=\"text-align: right;\">\n",
              "      <th></th>\n",
              "      <th>row</th>\n",
              "      <th>day_of_week</th>\n",
              "      <th>page_loads</th>\n",
              "      <th>first_time_visits</th>\n",
              "      <th>returning_visits</th>\n",
              "      <th>year</th>\n",
              "      <th>month</th>\n",
              "      <th>day</th>\n",
              "      <th>dow_h</th>\n",
              "      <th>month_h</th>\n",
              "    </tr>\n",
              "  </thead>\n",
              "  <tbody>\n",
              "    <tr>\n",
              "      <th>0</th>\n",
              "      <td>1</td>\n",
              "      <td>6</td>\n",
              "      <td>3555</td>\n",
              "      <td>2248</td>\n",
              "      <td>427</td>\n",
              "      <td>2020</td>\n",
              "      <td>6</td>\n",
              "      <td>26</td>\n",
              "      <td>0</td>\n",
              "      <td>0</td>\n",
              "    </tr>\n",
              "    <tr>\n",
              "      <th>1</th>\n",
              "      <td>2</td>\n",
              "      <td>5</td>\n",
              "      <td>4221</td>\n",
              "      <td>2477</td>\n",
              "      <td>505</td>\n",
              "      <td>2019</td>\n",
              "      <td>8</td>\n",
              "      <td>29</td>\n",
              "      <td>1</td>\n",
              "      <td>0</td>\n",
              "    </tr>\n",
              "    <tr>\n",
              "      <th>2</th>\n",
              "      <td>3</td>\n",
              "      <td>6</td>\n",
              "      <td>4767</td>\n",
              "      <td>2734</td>\n",
              "      <td>690</td>\n",
              "      <td>2016</td>\n",
              "      <td>11</td>\n",
              "      <td>18</td>\n",
              "      <td>0</td>\n",
              "      <td>1</td>\n",
              "    </tr>\n",
              "    <tr>\n",
              "      <th>3</th>\n",
              "      <td>4</td>\n",
              "      <td>7</td>\n",
              "      <td>3301</td>\n",
              "      <td>2053</td>\n",
              "      <td>390</td>\n",
              "      <td>2019</td>\n",
              "      <td>11</td>\n",
              "      <td>30</td>\n",
              "      <td>0</td>\n",
              "      <td>1</td>\n",
              "    </tr>\n",
              "    <tr>\n",
              "      <th>4</th>\n",
              "      <td>5</td>\n",
              "      <td>1</td>\n",
              "      <td>2948</td>\n",
              "      <td>1836</td>\n",
              "      <td>362</td>\n",
              "      <td>2020</td>\n",
              "      <td>7</td>\n",
              "      <td>5</td>\n",
              "      <td>0</td>\n",
              "      <td>0</td>\n",
              "    </tr>\n",
              "  </tbody>\n",
              "</table>\n",
              "</div>\n",
              "      <button class=\"colab-df-convert\" onclick=\"convertToInteractive('df-de1ddd19-01d5-4bc8-852f-80c99d189aa3')\"\n",
              "              title=\"Convert this dataframe to an interactive table.\"\n",
              "              style=\"display:none;\">\n",
              "        \n",
              "  <svg xmlns=\"http://www.w3.org/2000/svg\" height=\"24px\"viewBox=\"0 0 24 24\"\n",
              "       width=\"24px\">\n",
              "    <path d=\"M0 0h24v24H0V0z\" fill=\"none\"/>\n",
              "    <path d=\"M18.56 5.44l.94 2.06.94-2.06 2.06-.94-2.06-.94-.94-2.06-.94 2.06-2.06.94zm-11 1L8.5 8.5l.94-2.06 2.06-.94-2.06-.94L8.5 2.5l-.94 2.06-2.06.94zm10 10l.94 2.06.94-2.06 2.06-.94-2.06-.94-.94-2.06-.94 2.06-2.06.94z\"/><path d=\"M17.41 7.96l-1.37-1.37c-.4-.4-.92-.59-1.43-.59-.52 0-1.04.2-1.43.59L10.3 9.45l-7.72 7.72c-.78.78-.78 2.05 0 2.83L4 21.41c.39.39.9.59 1.41.59.51 0 1.02-.2 1.41-.59l7.78-7.78 2.81-2.81c.8-.78.8-2.07 0-2.86zM5.41 20L4 18.59l7.72-7.72 1.47 1.35L5.41 20z\"/>\n",
              "  </svg>\n",
              "      </button>\n",
              "      \n",
              "  <style>\n",
              "    .colab-df-container {\n",
              "      display:flex;\n",
              "      flex-wrap:wrap;\n",
              "      gap: 12px;\n",
              "    }\n",
              "\n",
              "    .colab-df-convert {\n",
              "      background-color: #E8F0FE;\n",
              "      border: none;\n",
              "      border-radius: 50%;\n",
              "      cursor: pointer;\n",
              "      display: none;\n",
              "      fill: #1967D2;\n",
              "      height: 32px;\n",
              "      padding: 0 0 0 0;\n",
              "      width: 32px;\n",
              "    }\n",
              "\n",
              "    .colab-df-convert:hover {\n",
              "      background-color: #E2EBFA;\n",
              "      box-shadow: 0px 1px 2px rgba(60, 64, 67, 0.3), 0px 1px 3px 1px rgba(60, 64, 67, 0.15);\n",
              "      fill: #174EA6;\n",
              "    }\n",
              "\n",
              "    [theme=dark] .colab-df-convert {\n",
              "      background-color: #3B4455;\n",
              "      fill: #D2E3FC;\n",
              "    }\n",
              "\n",
              "    [theme=dark] .colab-df-convert:hover {\n",
              "      background-color: #434B5C;\n",
              "      box-shadow: 0px 1px 3px 1px rgba(0, 0, 0, 0.15);\n",
              "      filter: drop-shadow(0px 1px 2px rgba(0, 0, 0, 0.3));\n",
              "      fill: #FFFFFF;\n",
              "    }\n",
              "  </style>\n",
              "\n",
              "      <script>\n",
              "        const buttonEl =\n",
              "          document.querySelector('#df-de1ddd19-01d5-4bc8-852f-80c99d189aa3 button.colab-df-convert');\n",
              "        buttonEl.style.display =\n",
              "          google.colab.kernel.accessAllowed ? 'block' : 'none';\n",
              "\n",
              "        async function convertToInteractive(key) {\n",
              "          const element = document.querySelector('#df-de1ddd19-01d5-4bc8-852f-80c99d189aa3');\n",
              "          const dataTable =\n",
              "            await google.colab.kernel.invokeFunction('convertToInteractive',\n",
              "                                                     [key], {});\n",
              "          if (!dataTable) return;\n",
              "\n",
              "          const docLinkHtml = 'Like what you see? Visit the ' +\n",
              "            '<a target=\"_blank\" href=https://colab.research.google.com/notebooks/data_table.ipynb>data table notebook</a>'\n",
              "            + ' to learn more about interactive tables.';\n",
              "          element.innerHTML = '';\n",
              "          dataTable['output_type'] = 'display_data';\n",
              "          await google.colab.output.renderOutput(dataTable, element);\n",
              "          const docLink = document.createElement('div');\n",
              "          docLink.innerHTML = docLinkHtml;\n",
              "          element.appendChild(docLink);\n",
              "        }\n",
              "      </script>\n",
              "    </div>\n",
              "  </div>\n",
              "  "
            ]
          },
          "metadata": {},
          "execution_count": 89
        }
      ]
    },
    {
      "cell_type": "code",
      "source": [
        "temp = dfXY.groupby('year')['unique_visits'].mean()\n",
        "temp"
      ],
      "metadata": {
        "colab": {
          "base_uri": "https://localhost:8080/"
        },
        "id": "g25vCoqo2a4v",
        "outputId": "5aa5713e-dba9-45e6-d1ad-fed676833a13"
      },
      "execution_count": 90,
      "outputs": [
        {
          "output_type": "execute_result",
          "data": {
            "text/plain": [
              "year\n",
              "2014   2588.9322\n",
              "2015   2946.1948\n",
              "2016   3240.0045\n",
              "2017   2502.0631\n",
              "2018   3027.3835\n",
              "2019   3069.0755\n",
              "2020   3155.5333\n",
              "Name: unique_visits, dtype: float64"
            ]
          },
          "metadata": {},
          "execution_count": 90
        }
      ]
    },
    {
      "cell_type": "markdown",
      "source": [
        "### 4-3.성능평가, 모델링 함수\n"
      ],
      "metadata": {
        "id": "vywUBzy4TETR"
      }
    },
    {
      "cell_type": "code",
      "source": [
        "#[16] 사용할 라이브러리 import\n",
        "from sklearn.model_selection import train_test_split\n",
        "from sklearn.linear_model import LinearRegression\n",
        "from sklearn.tree import DecisionTreeRegressor\n",
        "from sklearn.ensemble import RandomForestRegressor\n",
        "from xgboost import XGBRegressor\n",
        "\n",
        "from sklearn.preprocessing import PolynomialFeatures\n",
        "from sklearn.linear_model import Ridge, Lasso"
      ],
      "metadata": {
        "id": "0KjwP8wTSkuh"
      },
      "execution_count": 91,
      "outputs": []
    },
    {
      "cell_type": "code",
      "source": [
        "from sklearn.metrics import r2_score\n",
        "from sklearn.metrics import mean_absolute_error as mae\n",
        "from sklearn.metrics import mean_squared_error as mse\n",
        "from sklearn.metrics import mean_squared_log_error as msle\n",
        "\n",
        "# [17] r2_train, r2_test, mae, mse, rmse, msle, rmsle 를 구해 \n",
        "#      Series로 반환하는 함수를 작성합니다.\n",
        "def get_scores2(model, xtrain, xtest, ytrain, ytest):\n",
        "    pred1 = model.predict(xtrain)   #train\n",
        "    pred2 = model.predict(xtest)   #test\n",
        "    \n",
        "    # 음수가 있어도 상관없음\n",
        "    A1 = r2_score(ytrain,pred1)\n",
        "    A2 = r2_score(ytest,pred2)\n",
        "    B = mae(ytest,pred2)\n",
        "    C = mse(ytest,pred2)\n",
        "    E = np.sqrt(C)      #rmse\n",
        "    \n",
        "    # msle, rmsle는 음수가 있어서는 안됨\n",
        "    pred2 = np.where(pred2<0, 0, pred2) \n",
        "    # print(pred[0])\n",
        "    D = msle(ytest,pred2)\n",
        "    F = np.sqrt(D)      #rmsle\n",
        "    data = [round(x, 4) for x in [A1,A2,B,C,D,E,F]]\n",
        "    names = 'r2_train r2_test mae mse msle rmse rmsle'.split()\n",
        "    score = pd.Series(data, index=names)\n",
        "    return score"
      ],
      "metadata": {
        "id": "AhB-dduFf10t"
      },
      "execution_count": 92,
      "outputs": []
    },
    {
      "cell_type": "code",
      "source": [
        "# [18] 다양한 모델을 만들고 성능을 출력하는 함수 작성\n",
        "# 결과를 DataFrame으로 만듭니다\n",
        "def make_models(xtrain, xtest, ytrain, ytest, n=300, RL=False):\n",
        "    temp = pd.DataFrame()\n",
        "    \n",
        "    model1 = LinearRegression().fit(xtrain, ytrain)\n",
        "    temp['model1'] = get_scores2(model1, xtrain, xtest, ytrain, ytest)\n",
        "\n",
        "    if not RL:\n",
        "        model2 = DecisionTreeRegressor(random_state=0).fit(xtrain, ytrain)  # overfitting 나기 쉬움\n",
        "        temp['model2'] = get_scores2(model2, xtrain, xtest, ytrain, ytest)\n",
        "\n",
        "        for d in range(3, 9):\n",
        "            model2 = DecisionTreeRegressor(max_depth=d, random_state=0).fit(xtrain, ytrain)  \n",
        "            temp[f'model2_{d}'] = get_scores2(model2, xtrain, xtest, ytrain, ytest)\n",
        "\n",
        "        model3 = RandomForestRegressor(n, random_state=0).fit(xtrain, ytrain)  \n",
        "        temp['model3'] = get_scores2(model3, xtrain, xtest, ytrain, ytest)\n",
        "\n",
        "        for d in range(3, 9):\n",
        "            model3 = RandomForestRegressor(n, max_depth=d, random_state=0).fit(xtrain, ytrain) \n",
        "            temp[f'model3_{d}'] = get_scores2(model3, xtrain, xtest, ytrain, ytest)\n",
        "\n",
        "        model4 = XGBRegressor(objective='reg:squarederror').fit(xtrain, ytrain)  \n",
        "        temp['model4'] = get_scores2(model4, xtrain, xtest, ytrain, ytest)\n",
        "\n",
        "    if RL:\n",
        "        for a in [0.01, 0.1, 1, 2]:\n",
        "            model5 = Ridge(alpha=a).fit(xtrain, ytrain)  \n",
        "            temp[f'model5_{a}'] = get_scores2(model5, xtrain, xtest, ytrain, ytest)\n",
        "\n",
        "        for a in [0.01, 0.1, 1, 2]:\n",
        "            model6 = Lasso(alpha=a).fit(xtrain, ytrain)  \n",
        "            temp[f'model6_{a}'] = get_scores2(model6, xtrain, xtest, ytrain, ytest)\n",
        "\n",
        "\n",
        "    temp = temp.T\n",
        "    temp.insert(2, 'diff', (temp['r2_train'] - temp['r2_test']).abs())\n",
        "  \n",
        "    return temp\n",
        "\n",
        "\n"
      ],
      "metadata": {
        "id": "oTIj_pGIepyQ"
      },
      "execution_count": 123,
      "outputs": []
    },
    {
      "cell_type": "markdown",
      "source": [
        "### 4-4.데이터 분리, 모델적용"
      ],
      "metadata": {
        "id": "-rvYjMCWuxC6"
      }
    },
    {
      "cell_type": "code",
      "source": [
        "dfX3.columns"
      ],
      "metadata": {
        "colab": {
          "base_uri": "https://localhost:8080/"
        },
        "id": "Fq1z7U7FGSUN",
        "outputId": "bd9cac40-4857-47c3-ac9e-c7bc9c961944"
      },
      "execution_count": 94,
      "outputs": [
        {
          "output_type": "execute_result",
          "data": {
            "text/plain": [
              "Index(['row', 'day_of_week', 'page_loads', 'first_time_visits',\n",
              "       'returning_visits', 'year', 'month', 'day', 'dow_h', 'month_h'],\n",
              "      dtype='object')"
            ]
          },
          "metadata": {},
          "execution_count": 94
        }
      ]
    },
    {
      "cell_type": "code",
      "source": [
        "# [19] 학습에 사용할 feature 선택, \n",
        "# dfX4로 저장\n",
        "# 'page_loads','first_time_visits' => 이것을 사용하면 성능이 무지 좋아요. (높은 상관계수)\n",
        "from sklearn.preprocessing import MinMaxScaler\n",
        "\n",
        "Xfeatures = ['day_of_week', #'page_loads', 'first_time_visits',\n",
        "       'returning_visits', 'year', 'month', 'day', 'dow_h', 'month_h']\n",
        "\n",
        "dfX4 = dfX3[Xfeatures]\n",
        "dfX4 =MinMaxScaler().fit_transform(dfX4)  # dfX4 ndarray  객체\n",
        "print(dfX4.shape, type(dfX4))\n",
        "\n"
      ],
      "metadata": {
        "id": "5Byg4kqEunL-",
        "colab": {
          "base_uri": "https://localhost:8080/"
        },
        "outputId": "9e505b81-1a22-4ef4-ea37-ce6bc733cb2e"
      },
      "execution_count": 162,
      "outputs": [
        {
          "output_type": "stream",
          "name": "stdout",
          "text": [
            "(2167, 7) <class 'numpy.ndarray'>\n"
          ]
        }
      ]
    },
    {
      "cell_type": "code",
      "source": [
        "# [20] dfX4 데이터를 X_use, X_submission 으로 다시 분리\n",
        "# dfX4 분리에서는 X_use의 행의 개수 사용\n",
        "# YF, Y_submissionF 생성  Y에서 'unique_visits'만 선택\n",
        "train_size = len(X_use)\n",
        "XF = dfX4[:train_size,]            # 행 선택 ndarray , DataFrame 모두가능\n",
        "X_submissionF = dfX4[train_size:,] # 행 선택 ndarray , DataFrame 모두가능\n",
        "# XF = dfX4.iloc[:train_size,:]             # 행 선택\n",
        "# X_submissionF = dfX4.iloc[train_size:,:]  # 행 선택\n",
        "# print(X_useF.shape, X_submissionF.shape)\n",
        "YF = Y['unique_visits']\n",
        "Y_submissionF = Y_hidden['unique_visits']\n",
        "print([x.shape for x in [XF,X_submissionF,YF,Y_submissionF]])"
      ],
      "metadata": {
        "id": "k13UG-bDuLyg",
        "colab": {
          "base_uri": "https://localhost:8080/"
        },
        "outputId": "f442219f-1f2c-452a-b825-30243e457355"
      },
      "execution_count": 163,
      "outputs": [
        {
          "output_type": "stream",
          "name": "stdout",
          "text": [
            "[(1301, 7), (866, 7), (1301,), (866,)]\n"
          ]
        }
      ]
    },
    {
      "cell_type": "code",
      "source": [
        "# [21] XF, YF 데이터를 사용하여 데이터를 분리하고 make_models를 호출합니다.\n",
        "xtrain, xtest, ytrain, ytest =  train_test_split(XF,YF, test_size =0.3, random_state=1234)\n",
        "print([x.shape for x in [xtrain, xtest, ytrain, ytest]])\n",
        "models = make_models(xtrain, xtest, ytrain, ytest)\n",
        "print(models)"
      ],
      "metadata": {
        "id": "qdPSq0TRj0TM",
        "colab": {
          "base_uri": "https://localhost:8080/"
        },
        "outputId": "1e288530-a2a5-4d53-b689-1c1962c2aa65"
      },
      "execution_count": 164,
      "outputs": [
        {
          "output_type": "stream",
          "name": "stdout",
          "text": [
            "[(910, 7), (391, 7), (910,), (391,)]\n",
            "          r2_train  r2_test   diff      mae         mse   msle     rmse  rmsle\n",
            "model1      0.8530   0.8697 0.0167 299.7255 136163.3198 0.0226 369.0031 0.1504\n",
            "model2      1.0000   0.8900 0.1100 253.2199 114973.3785 0.0168 339.0772 0.1295\n",
            "model2_3    0.8096   0.8079 0.0017 366.3969 200785.1874 0.0292 448.0906 0.1708\n",
            "model2_4    0.8512   0.8497 0.0015 320.9280 157094.0770 0.0237 396.3510 0.1538\n",
            "model2_5    0.8886   0.8690 0.0196 295.6834 136875.3847 0.0202 369.9667 0.1421\n",
            "model2_6    0.9264   0.8904 0.0360 263.8738 114564.6151 0.0175 338.4740 0.1324\n",
            "model2_7    0.9507   0.9049 0.0458 249.9928  99413.1549 0.0153 315.2985 0.1236\n",
            "model2_8    0.9715   0.8928 0.0787 253.6991 112017.4356 0.0171 334.6901 0.1306\n",
            "model3      0.9913   0.9446 0.0467 188.1597  57920.1257 0.0092 240.6660 0.0962\n",
            "model3_3    0.8402   0.8374 0.0028 338.7378 169912.1095 0.0253 412.2040 0.1591\n",
            "model3_4    0.8869   0.8777 0.0092 290.7705 127784.0901 0.0198 357.4690 0.1406\n",
            "model3_5    0.9252   0.9065 0.0187 249.6344  97687.5128 0.0155 312.5500 0.1243\n",
            "model3_6    0.9488   0.9213 0.0275 226.7326  82210.4545 0.0131 286.7237 0.1144\n",
            "model3_7    0.9658   0.9321 0.0337 209.7099  70977.4326 0.0113 266.4159 0.1065\n",
            "model3_8    0.9770   0.9383 0.0387 198.9254  64505.5531 0.0103 253.9794 0.1014\n",
            "model4      0.9997   0.9652 0.0345 148.1477  36400.9907 0.0056 190.7904 0.0748\n"
          ]
        }
      ]
    },
    {
      "cell_type": "code",
      "source": [
        "# [22] 여러 가지 조건으로 정렬하고 평가할 수 있음\n",
        "print(models.sort_values('rmsle'))\n",
        "# model4      0.9997   0.9646 0.0351 148.5907  36982.6268 0.0057 192.3087 0.0754"
      ],
      "metadata": {
        "id": "Yk9QmemCqBUB",
        "colab": {
          "base_uri": "https://localhost:8080/"
        },
        "outputId": "16376599-a53d-4db6-be4a-b642db117fc6"
      },
      "execution_count": 165,
      "outputs": [
        {
          "output_type": "stream",
          "name": "stdout",
          "text": [
            "          r2_train  r2_test   diff      mae         mse   msle     rmse  rmsle\n",
            "model4      0.9997   0.9652 0.0345 148.1477  36400.9907 0.0056 190.7904 0.0748\n",
            "model3      0.9913   0.9446 0.0467 188.1597  57920.1257 0.0092 240.6660 0.0962\n",
            "model3_8    0.9770   0.9383 0.0387 198.9254  64505.5531 0.0103 253.9794 0.1014\n",
            "model3_7    0.9658   0.9321 0.0337 209.7099  70977.4326 0.0113 266.4159 0.1065\n",
            "model3_6    0.9488   0.9213 0.0275 226.7326  82210.4545 0.0131 286.7237 0.1144\n",
            "model2_7    0.9507   0.9049 0.0458 249.9928  99413.1549 0.0153 315.2985 0.1236\n",
            "model3_5    0.9252   0.9065 0.0187 249.6344  97687.5128 0.0155 312.5500 0.1243\n",
            "model2      1.0000   0.8900 0.1100 253.2199 114973.3785 0.0168 339.0772 0.1295\n",
            "model2_8    0.9715   0.8928 0.0787 253.6991 112017.4356 0.0171 334.6901 0.1306\n",
            "model2_6    0.9264   0.8904 0.0360 263.8738 114564.6151 0.0175 338.4740 0.1324\n",
            "model3_4    0.8869   0.8777 0.0092 290.7705 127784.0901 0.0198 357.4690 0.1406\n",
            "model2_5    0.8886   0.8690 0.0196 295.6834 136875.3847 0.0202 369.9667 0.1421\n",
            "model1      0.8530   0.8697 0.0167 299.7255 136163.3198 0.0226 369.0031 0.1504\n",
            "model2_4    0.8512   0.8497 0.0015 320.9280 157094.0770 0.0237 396.3510 0.1538\n",
            "model3_3    0.8402   0.8374 0.0028 338.7378 169912.1095 0.0253 412.2040 0.1591\n",
            "model2_3    0.8096   0.8079 0.0017 366.3969 200785.1874 0.0292 448.0906 0.1708\n"
          ]
        }
      ]
    },
    {
      "cell_type": "code",
      "source": [
        "# [23] Polynomial Regression  + Ridge, Lasso 실행\n",
        "dfX4 = dfX3[Xfeatures]\n",
        "Xscaled =MinMaxScaler().fit_transform(dfX4)  # Xscaled ndarray  객체\n",
        "Xpoly =  PolynomialFeatures(degree=3).fit_transform(Xscaled)\n",
        "XF2 = Xpoly[:train_size]                # 학습용\n",
        "X_submissionF2 = Xpoly[train_size:]       # 제출용\n",
        "\n",
        "xtrain2, xtest2, ytrain2, ytest2 =  train_test_split(XF2, YF, test_size =0.3, random_state=1234)\n",
        "print([x.shape for x in [xtrain2, xtest2, ytrain2, ytest2]])\n",
        "\n"
      ],
      "metadata": {
        "id": "DgfHbvsbXQ2W",
        "colab": {
          "base_uri": "https://localhost:8080/"
        },
        "outputId": "fc0918ac-eccb-4188-dbe2-98e08ffbaf67"
      },
      "execution_count": 166,
      "outputs": [
        {
          "output_type": "stream",
          "name": "stdout",
          "text": [
            "[(910, 120), (391, 120), (910,), (391,)]\n"
          ]
        }
      ]
    },
    {
      "cell_type": "code",
      "source": [
        "# [24] 여러 가지 조건으로 정렬하고 평가할 수 있음\n",
        "models = make_models(xtrain2, xtest2, ytrain2, ytest2, RL=True)\n",
        "print(models.sort_values('rmsle'))"
      ],
      "metadata": {
        "id": "Oz_YIYJpsJj5",
        "colab": {
          "base_uri": "https://localhost:8080/"
        },
        "outputId": "36972988-66d9-4762-c7dc-552be471b92e"
      },
      "execution_count": 167,
      "outputs": [
        {
          "output_type": "stream",
          "name": "stdout",
          "text": [
            "             r2_train  r2_test   diff      mae        mse   msle     rmse  \\\n",
            "model6_0.1     0.9506   0.9563 0.0057 170.1574 45614.3617 0.0073 213.5752   \n",
            "model5_0.1     0.9502   0.9557 0.0055 172.1693 46339.0726 0.0074 215.2651   \n",
            "model5_0.01    0.9558   0.9590 0.0032 164.4172 42804.0864 0.0077 206.8915   \n",
            "model1         0.9569   0.9581 0.0012 164.5621 43745.0940 0.0080 209.1533   \n",
            "model6_0.01    0.9542   0.9574 0.0032 168.3426 44471.0916 0.0080 210.8817   \n",
            "model6_1       0.9326   0.9421 0.0095 193.7864 60499.3490 0.0094 245.9662   \n",
            "model5_1       0.9379   0.9460 0.0081 187.2184 56397.5835 0.0094 237.4818   \n",
            "model5_2       0.9310   0.9394 0.0084 198.6490 63328.7074 0.0111 251.6520   \n",
            "model6_2       0.9227   0.9333 0.0106 210.0185 69749.6109 0.0112 264.1015   \n",
            "\n",
            "             rmsle  \n",
            "model6_0.1  0.0854  \n",
            "model5_0.1  0.0861  \n",
            "model5_0.01 0.0876  \n",
            "model1      0.0893  \n",
            "model6_0.01 0.0894  \n",
            "model6_1    0.0971  \n",
            "model5_1    0.0972  \n",
            "model5_2    0.1054  \n",
            "model6_2    0.1056  \n"
          ]
        }
      ]
    },
    {
      "cell_type": "code",
      "source": [
        "# XF, YF\n",
        "# model4         0.9997   0.9646 0.0351 148.5907  36982.6268 0.0057 192.3087 0.0754\n",
        "\n",
        "#데이터 품질 문제 과적합 번외\n",
        "# model3         0.9998   0.9988 0.0010  23.3129  1304.4445 0.0002  36.1171 0.0134\n",
        "\n",
        "\n",
        "# XF2, YF\n",
        "# model6_0.1     0.9506   0.9563 0.0057 170.1574 45614.3617 0.0073 213.5752 0.0854     "
      ],
      "metadata": {
        "id": "0RoSDZyQcVrL"
      },
      "execution_count": null,
      "outputs": []
    },
    {
      "cell_type": "code",
      "source": [
        "# [TIP] 학습 중 warning 메시지 없애기\n",
        "import warnings\n",
        "warnings.filterwarnings('ignore')"
      ],
      "metadata": {
        "id": "1d0GamF9cG0G"
      },
      "execution_count": 128,
      "outputs": []
    },
    {
      "cell_type": "markdown",
      "source": [
        "### 4-5. 모델 선택, 결과 제출"
      ],
      "metadata": {
        "id": "yZLKTfQMXDpL"
      }
    },
    {
      "cell_type": "code",
      "source": [
        "# [25] xtrain, ytrain으로 모델 학습시켜 model 로 저장\n",
        "model = XGBRegressor(objective='reg:squarederror').fit(xtrain, ytrain)  \n",
        "print(get_scores2(model, xtrain, xtest, ytrain, ytest))"
      ],
      "metadata": {
        "id": "jy0NcFz9OiLa",
        "colab": {
          "base_uri": "https://localhost:8080/"
        },
        "outputId": "3880c44d-828a-4699-8d2e-c0a81299a950"
      },
      "execution_count": 131,
      "outputs": [
        {
          "output_type": "stream",
          "name": "stdout",
          "text": [
            "r2_train       0.9997\n",
            "r2_test        0.9652\n",
            "mae          148.1477\n",
            "mse        36400.9907\n",
            "msle           0.0056\n",
            "rmse         190.7904\n",
            "rmsle          0.0748\n",
            "dtype: float64\n"
          ]
        }
      ]
    },
    {
      "cell_type": "code",
      "source": [
        "# [26] X_submissionF 데이터로 pred 구하고 submission DataFrame 생성\n",
        "pred = model.predict(X_submissionF)\n",
        "submission = pd.DataFrame({'row':X_submission['row'],'unique_visit':pred})\n",
        "submission.head()"
      ],
      "metadata": {
        "id": "tZNHCVbswAZm",
        "colab": {
          "base_uri": "https://localhost:8080/",
          "height": 206
        },
        "outputId": "9c2f892f-5bb8-426a-e8df-bd6b324d2fa1"
      },
      "execution_count": 135,
      "outputs": [
        {
          "output_type": "execute_result",
          "data": {
            "text/plain": [
              "    row  unique_visit\n",
              "0  1302     2531.4485\n",
              "1  1303     4166.7319\n",
              "2  1304     3268.5110\n",
              "3  1305     2736.3374\n",
              "4  1306     1233.5402"
            ],
            "text/html": [
              "\n",
              "  <div id=\"df-99fc3b40-7cc5-416a-bcc0-8d6559e76db2\">\n",
              "    <div class=\"colab-df-container\">\n",
              "      <div>\n",
              "<style scoped>\n",
              "    .dataframe tbody tr th:only-of-type {\n",
              "        vertical-align: middle;\n",
              "    }\n",
              "\n",
              "    .dataframe tbody tr th {\n",
              "        vertical-align: top;\n",
              "    }\n",
              "\n",
              "    .dataframe thead th {\n",
              "        text-align: right;\n",
              "    }\n",
              "</style>\n",
              "<table border=\"1\" class=\"dataframe\">\n",
              "  <thead>\n",
              "    <tr style=\"text-align: right;\">\n",
              "      <th></th>\n",
              "      <th>row</th>\n",
              "      <th>unique_visit</th>\n",
              "    </tr>\n",
              "  </thead>\n",
              "  <tbody>\n",
              "    <tr>\n",
              "      <th>0</th>\n",
              "      <td>1302</td>\n",
              "      <td>2531.4485</td>\n",
              "    </tr>\n",
              "    <tr>\n",
              "      <th>1</th>\n",
              "      <td>1303</td>\n",
              "      <td>4166.7319</td>\n",
              "    </tr>\n",
              "    <tr>\n",
              "      <th>2</th>\n",
              "      <td>1304</td>\n",
              "      <td>3268.5110</td>\n",
              "    </tr>\n",
              "    <tr>\n",
              "      <th>3</th>\n",
              "      <td>1305</td>\n",
              "      <td>2736.3374</td>\n",
              "    </tr>\n",
              "    <tr>\n",
              "      <th>4</th>\n",
              "      <td>1306</td>\n",
              "      <td>1233.5402</td>\n",
              "    </tr>\n",
              "  </tbody>\n",
              "</table>\n",
              "</div>\n",
              "      <button class=\"colab-df-convert\" onclick=\"convertToInteractive('df-99fc3b40-7cc5-416a-bcc0-8d6559e76db2')\"\n",
              "              title=\"Convert this dataframe to an interactive table.\"\n",
              "              style=\"display:none;\">\n",
              "        \n",
              "  <svg xmlns=\"http://www.w3.org/2000/svg\" height=\"24px\"viewBox=\"0 0 24 24\"\n",
              "       width=\"24px\">\n",
              "    <path d=\"M0 0h24v24H0V0z\" fill=\"none\"/>\n",
              "    <path d=\"M18.56 5.44l.94 2.06.94-2.06 2.06-.94-2.06-.94-.94-2.06-.94 2.06-2.06.94zm-11 1L8.5 8.5l.94-2.06 2.06-.94-2.06-.94L8.5 2.5l-.94 2.06-2.06.94zm10 10l.94 2.06.94-2.06 2.06-.94-2.06-.94-.94-2.06-.94 2.06-2.06.94z\"/><path d=\"M17.41 7.96l-1.37-1.37c-.4-.4-.92-.59-1.43-.59-.52 0-1.04.2-1.43.59L10.3 9.45l-7.72 7.72c-.78.78-.78 2.05 0 2.83L4 21.41c.39.39.9.59 1.41.59.51 0 1.02-.2 1.41-.59l7.78-7.78 2.81-2.81c.8-.78.8-2.07 0-2.86zM5.41 20L4 18.59l7.72-7.72 1.47 1.35L5.41 20z\"/>\n",
              "  </svg>\n",
              "      </button>\n",
              "      \n",
              "  <style>\n",
              "    .colab-df-container {\n",
              "      display:flex;\n",
              "      flex-wrap:wrap;\n",
              "      gap: 12px;\n",
              "    }\n",
              "\n",
              "    .colab-df-convert {\n",
              "      background-color: #E8F0FE;\n",
              "      border: none;\n",
              "      border-radius: 50%;\n",
              "      cursor: pointer;\n",
              "      display: none;\n",
              "      fill: #1967D2;\n",
              "      height: 32px;\n",
              "      padding: 0 0 0 0;\n",
              "      width: 32px;\n",
              "    }\n",
              "\n",
              "    .colab-df-convert:hover {\n",
              "      background-color: #E2EBFA;\n",
              "      box-shadow: 0px 1px 2px rgba(60, 64, 67, 0.3), 0px 1px 3px 1px rgba(60, 64, 67, 0.15);\n",
              "      fill: #174EA6;\n",
              "    }\n",
              "\n",
              "    [theme=dark] .colab-df-convert {\n",
              "      background-color: #3B4455;\n",
              "      fill: #D2E3FC;\n",
              "    }\n",
              "\n",
              "    [theme=dark] .colab-df-convert:hover {\n",
              "      background-color: #434B5C;\n",
              "      box-shadow: 0px 1px 3px 1px rgba(0, 0, 0, 0.15);\n",
              "      filter: drop-shadow(0px 1px 2px rgba(0, 0, 0, 0.3));\n",
              "      fill: #FFFFFF;\n",
              "    }\n",
              "  </style>\n",
              "\n",
              "      <script>\n",
              "        const buttonEl =\n",
              "          document.querySelector('#df-99fc3b40-7cc5-416a-bcc0-8d6559e76db2 button.colab-df-convert');\n",
              "        buttonEl.style.display =\n",
              "          google.colab.kernel.accessAllowed ? 'block' : 'none';\n",
              "\n",
              "        async function convertToInteractive(key) {\n",
              "          const element = document.querySelector('#df-99fc3b40-7cc5-416a-bcc0-8d6559e76db2');\n",
              "          const dataTable =\n",
              "            await google.colab.kernel.invokeFunction('convertToInteractive',\n",
              "                                                     [key], {});\n",
              "          if (!dataTable) return;\n",
              "\n",
              "          const docLinkHtml = 'Like what you see? Visit the ' +\n",
              "            '<a target=\"_blank\" href=https://colab.research.google.com/notebooks/data_table.ipynb>data table notebook</a>'\n",
              "            + ' to learn more about interactive tables.';\n",
              "          element.innerHTML = '';\n",
              "          dataTable['output_type'] = 'display_data';\n",
              "          await google.colab.output.renderOutput(dataTable, element);\n",
              "          const docLink = document.createElement('div');\n",
              "          docLink.innerHTML = docLinkHtml;\n",
              "          element.appendChild(docLink);\n",
              "        }\n",
              "      </script>\n",
              "    </div>\n",
              "  </div>\n",
              "  "
            ]
          },
          "metadata": {},
          "execution_count": 135
        }
      ]
    },
    {
      "cell_type": "code",
      "source": [
        "# [27] xtrain2, ytrain2으로 모델 학습시켜 model 로 저장\n",
        "model = Lasso(alpha=0.1).fit(xtrain2, ytrain2)  \n",
        "print(get_scores2(model, xtrain2, xtest2, ytrain2, ytest2))"
      ],
      "metadata": {
        "id": "g5lXhgCguFVC",
        "colab": {
          "base_uri": "https://localhost:8080/"
        },
        "outputId": "397770f9-f740-4cf4-c337-e47eba703b30"
      },
      "execution_count": 140,
      "outputs": [
        {
          "output_type": "stream",
          "name": "stdout",
          "text": [
            "r2_train       0.9506\n",
            "r2_test        0.9563\n",
            "mae          170.1574\n",
            "mse        45614.3617\n",
            "msle           0.0073\n",
            "rmse         213.5752\n",
            "rmsle          0.0854\n",
            "dtype: float64\n"
          ]
        }
      ]
    },
    {
      "cell_type": "markdown",
      "source": [],
      "metadata": {
        "id": "QKmwyEvSeLPk"
      }
    },
    {
      "cell_type": "code",
      "source": [
        "# [28] X_submissionF2 데이터로 pred 구하고 submission DataFrame 생성\n",
        "pred = model.predict(X_submissionF2)\n",
        "submission = pd.DataFrame({'row': X_submission['row'],\n",
        "                           'unique_visits': pred})\n",
        "submission.head()"
      ],
      "metadata": {
        "id": "0lP6ThERuE5q",
        "colab": {
          "base_uri": "https://localhost:8080/",
          "height": 206
        },
        "outputId": "2ba2edaa-0da5-46a2-c393-1e90d811d116"
      },
      "execution_count": 156,
      "outputs": [
        {
          "output_type": "execute_result",
          "data": {
            "text/plain": [
              "    row  unique_visits\n",
              "0  1302      2709.0922\n",
              "1  1303      4148.5377\n",
              "2  1304      3254.5924\n",
              "3  1305      2722.0792\n",
              "4  1306      1247.5313"
            ],
            "text/html": [
              "\n",
              "  <div id=\"df-17c37a7e-78f6-494f-9db7-e461d43369c8\">\n",
              "    <div class=\"colab-df-container\">\n",
              "      <div>\n",
              "<style scoped>\n",
              "    .dataframe tbody tr th:only-of-type {\n",
              "        vertical-align: middle;\n",
              "    }\n",
              "\n",
              "    .dataframe tbody tr th {\n",
              "        vertical-align: top;\n",
              "    }\n",
              "\n",
              "    .dataframe thead th {\n",
              "        text-align: right;\n",
              "    }\n",
              "</style>\n",
              "<table border=\"1\" class=\"dataframe\">\n",
              "  <thead>\n",
              "    <tr style=\"text-align: right;\">\n",
              "      <th></th>\n",
              "      <th>row</th>\n",
              "      <th>unique_visits</th>\n",
              "    </tr>\n",
              "  </thead>\n",
              "  <tbody>\n",
              "    <tr>\n",
              "      <th>0</th>\n",
              "      <td>1302</td>\n",
              "      <td>2709.0922</td>\n",
              "    </tr>\n",
              "    <tr>\n",
              "      <th>1</th>\n",
              "      <td>1303</td>\n",
              "      <td>4148.5377</td>\n",
              "    </tr>\n",
              "    <tr>\n",
              "      <th>2</th>\n",
              "      <td>1304</td>\n",
              "      <td>3254.5924</td>\n",
              "    </tr>\n",
              "    <tr>\n",
              "      <th>3</th>\n",
              "      <td>1305</td>\n",
              "      <td>2722.0792</td>\n",
              "    </tr>\n",
              "    <tr>\n",
              "      <th>4</th>\n",
              "      <td>1306</td>\n",
              "      <td>1247.5313</td>\n",
              "    </tr>\n",
              "  </tbody>\n",
              "</table>\n",
              "</div>\n",
              "      <button class=\"colab-df-convert\" onclick=\"convertToInteractive('df-17c37a7e-78f6-494f-9db7-e461d43369c8')\"\n",
              "              title=\"Convert this dataframe to an interactive table.\"\n",
              "              style=\"display:none;\">\n",
              "        \n",
              "  <svg xmlns=\"http://www.w3.org/2000/svg\" height=\"24px\"viewBox=\"0 0 24 24\"\n",
              "       width=\"24px\">\n",
              "    <path d=\"M0 0h24v24H0V0z\" fill=\"none\"/>\n",
              "    <path d=\"M18.56 5.44l.94 2.06.94-2.06 2.06-.94-2.06-.94-.94-2.06-.94 2.06-2.06.94zm-11 1L8.5 8.5l.94-2.06 2.06-.94-2.06-.94L8.5 2.5l-.94 2.06-2.06.94zm10 10l.94 2.06.94-2.06 2.06-.94-2.06-.94-.94-2.06-.94 2.06-2.06.94z\"/><path d=\"M17.41 7.96l-1.37-1.37c-.4-.4-.92-.59-1.43-.59-.52 0-1.04.2-1.43.59L10.3 9.45l-7.72 7.72c-.78.78-.78 2.05 0 2.83L4 21.41c.39.39.9.59 1.41.59.51 0 1.02-.2 1.41-.59l7.78-7.78 2.81-2.81c.8-.78.8-2.07 0-2.86zM5.41 20L4 18.59l7.72-7.72 1.47 1.35L5.41 20z\"/>\n",
              "  </svg>\n",
              "      </button>\n",
              "      \n",
              "  <style>\n",
              "    .colab-df-container {\n",
              "      display:flex;\n",
              "      flex-wrap:wrap;\n",
              "      gap: 12px;\n",
              "    }\n",
              "\n",
              "    .colab-df-convert {\n",
              "      background-color: #E8F0FE;\n",
              "      border: none;\n",
              "      border-radius: 50%;\n",
              "      cursor: pointer;\n",
              "      display: none;\n",
              "      fill: #1967D2;\n",
              "      height: 32px;\n",
              "      padding: 0 0 0 0;\n",
              "      width: 32px;\n",
              "    }\n",
              "\n",
              "    .colab-df-convert:hover {\n",
              "      background-color: #E2EBFA;\n",
              "      box-shadow: 0px 1px 2px rgba(60, 64, 67, 0.3), 0px 1px 3px 1px rgba(60, 64, 67, 0.15);\n",
              "      fill: #174EA6;\n",
              "    }\n",
              "\n",
              "    [theme=dark] .colab-df-convert {\n",
              "      background-color: #3B4455;\n",
              "      fill: #D2E3FC;\n",
              "    }\n",
              "\n",
              "    [theme=dark] .colab-df-convert:hover {\n",
              "      background-color: #434B5C;\n",
              "      box-shadow: 0px 1px 3px 1px rgba(0, 0, 0, 0.15);\n",
              "      filter: drop-shadow(0px 1px 2px rgba(0, 0, 0, 0.3));\n",
              "      fill: #FFFFFF;\n",
              "    }\n",
              "  </style>\n",
              "\n",
              "      <script>\n",
              "        const buttonEl =\n",
              "          document.querySelector('#df-17c37a7e-78f6-494f-9db7-e461d43369c8 button.colab-df-convert');\n",
              "        buttonEl.style.display =\n",
              "          google.colab.kernel.accessAllowed ? 'block' : 'none';\n",
              "\n",
              "        async function convertToInteractive(key) {\n",
              "          const element = document.querySelector('#df-17c37a7e-78f6-494f-9db7-e461d43369c8');\n",
              "          const dataTable =\n",
              "            await google.colab.kernel.invokeFunction('convertToInteractive',\n",
              "                                                     [key], {});\n",
              "          if (!dataTable) return;\n",
              "\n",
              "          const docLinkHtml = 'Like what you see? Visit the ' +\n",
              "            '<a target=\"_blank\" href=https://colab.research.google.com/notebooks/data_table.ipynb>data table notebook</a>'\n",
              "            + ' to learn more about interactive tables.';\n",
              "          element.innerHTML = '';\n",
              "          dataTable['output_type'] = 'display_data';\n",
              "          await google.colab.output.renderOutput(dataTable, element);\n",
              "          const docLink = document.createElement('div');\n",
              "          docLink.innerHTML = docLinkHtml;\n",
              "          element.appendChild(docLink);\n",
              "        }\n",
              "      </script>\n",
              "    </div>\n",
              "  </div>\n",
              "  "
            ]
          },
          "metadata": {},
          "execution_count": 156
        }
      ]
    },
    {
      "cell_type": "code",
      "source": [
        "# [29] 파일로 저장\n",
        "submission.to_csv('000010000.csv', index=False)"
      ],
      "metadata": {
        "id": "msbGSDVIwpdy"
      },
      "execution_count": 157,
      "outputs": []
    },
    {
      "cell_type": "markdown",
      "source": [
        "### 4-6.시험보러 가서는 이렇게\n",
        "- 직접 코드를 작성해 보세요."
      ],
      "metadata": {
        "id": "ppYH817ASPvp"
      }
    },
    {
      "cell_type": "code",
      "source": [
        "# 여기에 작성하시면 됩니다.\n",
        "# 영상에서 make_models_f 함수 내부의 \n",
        "# get_scores2 를  get_scores_f 로 변경을 안했네요 ^^! 수정해 주세요!\n",
        "\n",
        "# 실제 작업 - 복잡하게 했을 때 보다 성능이 더 좋아진것 같네요 ^^!\n",
        "\n",
        "# import 를 쭈우욱!! 작성\n",
        "import pandas as pd\n",
        "# 시험환경에서는 아래와 같이 해야해서 수정했습니다 ^^*\n",
        "pd.options.display.max_rows = 500     #출력할 max row를 지정\n",
        "pd.options.display.max_columns = 20   #출력할 max columns를 지정\n",
        "\n",
        "pd.set_option('display.float_format', '{:.4f}'.format)\n",
        "from sklearn.model_selection import train_test_split\n",
        "from sklearn.linear_model import LinearRegression\n",
        "from sklearn.tree import DecisionTreeRegressor\n",
        "from sklearn.ensemble import RandomForestRegressor\n",
        "from xgboost import XGBRegressor\n",
        "from sklearn.preprocessing import MinMaxScaler\n",
        "from sklearn.metrics import r2_score\n",
        "from sklearn.metrics import mean_absolute_error as mae\n",
        "from sklearn.metrics import mean_squared_error as mse\n",
        "from sklearn.metrics import mean_squared_log_error as msle\n",
        "import numpy as np  # 추가해야함\n",
        "\n",
        "# 함수들은 만들어야 합니다.\n",
        "\n",
        "def get_scores_f(model, xtrain, xtest, ytrain, ytest):\n",
        "    pred1 = model.predict(xtrain)   # train\n",
        "    pred2 = model.predict(xtest)    # test\n",
        "\n",
        "    # 음수가 있어도 상관없음\n",
        "    A1 = r2_score(ytrain, pred1)\n",
        "    A2 = r2_score(ytest, pred2)\n",
        "    # msle, rmsle 는 음수가 있어서는 안됨\n",
        "    pred2 = np.where(pred2<0, 0, pred2)\n",
        "    B = msle(ytest, pred2)    \n",
        "    C = np.sqrt(B)   # rmsle   \n",
        "    data = [round(x, 4) for x in [A1, A2, C]]\n",
        "    names = 'r2_train r2_test rmsle'.split()\n",
        "    scores = pd.Series(data, index=names)\n",
        "    return  scores\n",
        "\n",
        "# 앗 ^^  내부의 함수 이름도 바꾸었어야 하는데 강의에서 바꾸지 않았었네요 \n",
        "# get_scores_f!\n",
        "def make_models_f(xtrain, xtest, ytrain, ytest, n=300):\n",
        "    temp = pd.DataFrame()\n",
        "    \n",
        "    model1 = LinearRegression().fit(xtrain, ytrain)\n",
        "    temp['model1'] = get_scores_f(model1, xtrain, xtest, ytrain, ytest)\n",
        "\n",
        "    model2 = DecisionTreeRegressor(random_state=0).fit(xtrain, ytrain)  # overfitting 나기 쉬움\n",
        "    temp['model2'] = get_scores_f(model2, xtrain, xtest, ytrain, ytest)\n",
        "\n",
        "    for d in range(3, 9):\n",
        "        model2 = DecisionTreeRegressor(max_depth=d, random_state=0).fit(xtrain, ytrain)  \n",
        "        temp[f'model2_{d}'] = get_scores_f(model2, xtrain, xtest, ytrain, ytest)\n",
        "\n",
        "    model3 = RandomForestRegressor(n, random_state=0).fit(xtrain, ytrain)  \n",
        "    temp['model3'] = get_scores_f(model3, xtrain, xtest, ytrain, ytest)\n",
        "\n",
        "    for d in range(3, 9):\n",
        "        model3 = RandomForestRegressor(n, max_depth=d, random_state=0).fit(xtrain, ytrain) \n",
        "        temp[f'model3_{d}'] = get_scores_f(model3, xtrain, xtest, ytrain, ytest)\n",
        "\n",
        "    model4 = XGBRegressor(objective='reg:squarederror').fit(xtrain, ytrain)  \n",
        "    temp['model4'] = get_scores_f(model4, xtrain, xtest, ytrain, ytest)\n",
        "\n",
        "    temp = temp.T\n",
        "    temp.insert(2, 'diff', (temp['r2_train'] - temp['r2_test']).abs())\n",
        "  \n",
        "    return temp\n",
        "\n",
        "\n",
        "X_use = pd.read_csv('x_train.csv')\n",
        "X_submission = pd.read_csv('x_test.csv')\n",
        "Y = pd.read_csv('y_train.csv')\n",
        "\n",
        "dfX = pd.concat([X_use, X_submission], ignore_index=True, axis=0)\n",
        "dfX.info()\n",
        "\n",
        "names = ['page_loads', 'first_time_visits', 'returning_visits']\n",
        "dfX[names] = dfX[names].replace(',', '', regex=True).astype(int)\n",
        "\n",
        "dfX['date'] = pd.to_datetime(dfX['date'], format='%m/%d/%Y')\n",
        "dfX2 = dfX.drop(columns='day')\n",
        "\n",
        "date = pd.DataFrame()\n",
        "temp = dfX2['date'].dt\n",
        "date['year'] = temp.year\n",
        "date['month'] = temp.month\n",
        "date['day'] = temp.day\n",
        "dfX3 = dfX2.drop(columns='date')\n",
        "dfX3 = pd.concat([dfX3, date], axis=1)\n",
        "#print(dfX3.info())\n",
        "#dfXY = pd.merge(dfX3, Y)\n",
        "#print(dfXY.corr()['unique_visits'])\n",
        "\n",
        "Xfeatures = ['day_of_week', 'page_loads', 'first_time_visits',\n",
        "             'returning_visits', 'year', 'month', 'day']\n",
        "dfX4 = dfX3[Xfeatures]     \n",
        "#dfX4 = MinMaxScaler().fit_transform(dfX4)  # dfX4 ndarray 객체\n",
        "#print(dfX4.shape, type(dfX4))\n",
        "\n",
        "train_size = len(X_use)\n",
        "XF = dfX4[:train_size]  # 행 선택, ndarray, DataFrame 모두 가능\n",
        "X_submissionF = dfX4[train_size:]  # 행 선택, 제출용\n",
        "YF = Y['unique_visits']\n",
        "#print([x.shape for x in [XF, X_submissionF, YF]])\n",
        "\n",
        "xtrain, xtest, ytrain, ytest = train_test_split(XF, YF,\n",
        "                                                test_size = 0.3,\n",
        "                                                random_state=1234)\n",
        "#print([x.shape for x in [xtrain, xtest, ytrain, ytest]])\n",
        "models = make_models_f(xtrain, xtest, ytrain, ytest)\n",
        "# print(models)\n",
        "# print(models.sort_values('rmsle').head(7))\n",
        "\n",
        "model = XGBRegressor(objective='reg:squarederror').fit(xtrain, ytrain)  \n",
        "print(get_scores_f(model, xtrain, xtest, ytrain, ytest))\n",
        "pred = model.predict(X_submissionF)\n",
        "submission = pd.DataFrame({'row': X_submission['row'],\n",
        "                           'unique_visits': pred})\n",
        "#print(submission.head())\n",
        "submission.to_csv('00001000.csv', index=False)\n"
      ],
      "metadata": {
        "id": "RwI9-nLUSWmf",
        "colab": {
          "base_uri": "https://localhost:8080/"
        },
        "outputId": "242c7c3f-7bba-4787-d4f7-9656a2ab7aa1"
      },
      "execution_count": 172,
      "outputs": [
        {
          "output_type": "stream",
          "name": "stdout",
          "text": [
            "<class 'pandas.core.frame.DataFrame'>\n",
            "RangeIndex: 2167 entries, 0 to 2166\n",
            "Data columns (total 7 columns):\n",
            " #   Column             Non-Null Count  Dtype \n",
            "---  ------             --------------  ----- \n",
            " 0   row                2167 non-null   int64 \n",
            " 1   day                2167 non-null   object\n",
            " 2   day_of_week        2167 non-null   int64 \n",
            " 3   date               2167 non-null   object\n",
            " 4   page_loads         2167 non-null   object\n",
            " 5   first_time_visits  2167 non-null   object\n",
            " 6   returning_visits   2167 non-null   object\n",
            "dtypes: int64(2), object(5)\n",
            "memory usage: 118.6+ KB\n",
            "r2_train   1.0000\n",
            "r2_test    0.9989\n",
            "rmsle      0.0161\n",
            "dtype: float64\n"
          ]
        }
      ]
    },
    {
      "cell_type": "markdown",
      "source": [
        "## 5.보험 예측"
      ],
      "metadata": {
        "id": "TLifMZixB8Bp"
      }
    },
    {
      "cell_type": "code",
      "source": [
        "!git clone https://github.com/Soyoung-Yoon/bigdata"
      ],
      "metadata": {
        "id": "Mo8vMQXZyVrR",
        "colab": {
          "base_uri": "https://localhost:8080/"
        },
        "outputId": "45d96ac1-47d6-41a3-943a-b26c144a3072"
      },
      "execution_count": null,
      "outputs": [
        {
          "output_type": "stream",
          "name": "stdout",
          "text": [
            "Cloning into 'bigdata'...\n",
            "remote: Enumerating objects: 41, done.\u001b[K\n",
            "remote: Counting objects: 100% (41/41), done.\u001b[K\n",
            "remote: Compressing objects: 100% (41/41), done.\u001b[K\n",
            "remote: Total 41 (delta 11), reused 0 (delta 0), pack-reused 0\u001b[K\n",
            "Unpacking objects: 100% (41/41), done.\n"
          ]
        }
      ]
    },
    {
      "cell_type": "markdown",
      "source": [
        "### 5-1. 데이터 이해, 생성\n",
        "- 1개 데이터를 나누어 시험용으로 변경해 보는 작업\n",
        "- 실제 시험에서는 이런 과정은 필요 없음\n"
      ],
      "metadata": {
        "id": "xzQnxTtRzEOt"
      }
    },
    {
      "cell_type": "code",
      "source": [
        "# https://www.kaggle.com/qusaybtoush/insurance-forecast-by-using-linear-regression\n",
        "# Age: age of primary beneficiary\n",
        "# Sex: insurance contractor gender, female, male\n",
        "# bmi: Body mass index, providing an understanding of body, weights that are relatively high or low relative to height, objective index of body weight (kg / m ^ 2) using the ratio of height to weight, ideally 18.5 to 24.9\n",
        "# Children: Number of children covered by health insurance / Number of dependents\n",
        "# Smoker: Smoking\n",
        "# Region: the beneficiary's residential area in the US, northeast, southeast, southwest, northwest.\n",
        "# Charges: Individual medical costs billed by health insurance"
      ],
      "metadata": {
        "id": "qGvDHQe_E0yz"
      },
      "execution_count": null,
      "outputs": []
    },
    {
      "cell_type": "markdown",
      "source": [
        "컬럼 정보\n",
        "- age : 1차 수혜자 연령\n",
        "- sex : 보험 계약자 성별\n",
        "- bmi : 비만도 지수\n",
        "- children : 건강보험 적용 대상 아동 수\n",
        "- smoker : 흡연여부\n",
        "- regioin : 거주지역\n",
        "- charges : 의료 보험에서 청구하는 개별 의료비"
      ],
      "metadata": {
        "id": "h-lu6yPVzY52"
      }
    },
    {
      "cell_type": "code",
      "source": [
        "# [0] 사용 라이브러리 import\n",
        "import pandas as pd\n",
        "\n",
        "# 데이타가 많은경우 모두 출력 안되고 ... 으로 생략해서 출력됨.\n",
        "pd.set_option('max_rows',500)    #출력할 max row를 지정\n",
        "pd.set_option('max_columns',20)  #출력할 max columns를 지정\n",
        "#출력 format 지정 - 소수점아래 4자리까지\n",
        "pd.set_option('display.float_format', '{:.4f}'.format)"
      ],
      "metadata": {
        "id": "d78mXwPF7fIf"
      },
      "execution_count": null,
      "outputs": []
    },
    {
      "cell_type": "code",
      "source": [
        "# [1] 'bigdata/insurance.csv' 파일 불러오기, shape 확인하기\n",
        "df = pd.read_csv('bigdata/insurance.csv')\n",
        "df.shape"
      ],
      "metadata": {
        "id": "OZigg4mAE4Xn",
        "colab": {
          "base_uri": "https://localhost:8080/"
        },
        "outputId": "105d8e40-4469-4d69-cc34-a685ca9f128b"
      },
      "execution_count": null,
      "outputs": [
        {
          "output_type": "execute_result",
          "data": {
            "text/plain": [
              "(1338, 7)"
            ]
          },
          "metadata": {},
          "execution_count": 3
        }
      ]
    },
    {
      "cell_type": "code",
      "source": [
        "# [2] head를 사용해 데이터의 모습 확인  (Y => charges)\n",
        "df.head(2)"
      ],
      "metadata": {
        "colab": {
          "base_uri": "https://localhost:8080/",
          "height": 112
        },
        "id": "MSgOy8Bty8Mb",
        "outputId": "fcf518a5-8d04-481f-8ddd-024f8b486626"
      },
      "execution_count": null,
      "outputs": [
        {
          "output_type": "execute_result",
          "data": {
            "text/html": [
              "\n",
              "  <div id=\"df-ea390b4d-33f4-4923-8cec-47ce6b4c0a77\">\n",
              "    <div class=\"colab-df-container\">\n",
              "      <div>\n",
              "<style scoped>\n",
              "    .dataframe tbody tr th:only-of-type {\n",
              "        vertical-align: middle;\n",
              "    }\n",
              "\n",
              "    .dataframe tbody tr th {\n",
              "        vertical-align: top;\n",
              "    }\n",
              "\n",
              "    .dataframe thead th {\n",
              "        text-align: right;\n",
              "    }\n",
              "</style>\n",
              "<table border=\"1\" class=\"dataframe\">\n",
              "  <thead>\n",
              "    <tr style=\"text-align: right;\">\n",
              "      <th></th>\n",
              "      <th>age</th>\n",
              "      <th>sex</th>\n",
              "      <th>bmi</th>\n",
              "      <th>children</th>\n",
              "      <th>smoker</th>\n",
              "      <th>region</th>\n",
              "      <th>charges</th>\n",
              "    </tr>\n",
              "  </thead>\n",
              "  <tbody>\n",
              "    <tr>\n",
              "      <th>0</th>\n",
              "      <td>19</td>\n",
              "      <td>female</td>\n",
              "      <td>27.9000</td>\n",
              "      <td>0</td>\n",
              "      <td>yes</td>\n",
              "      <td>southwest</td>\n",
              "      <td>16884.9240</td>\n",
              "    </tr>\n",
              "    <tr>\n",
              "      <th>1</th>\n",
              "      <td>18</td>\n",
              "      <td>male</td>\n",
              "      <td>33.7700</td>\n",
              "      <td>1</td>\n",
              "      <td>no</td>\n",
              "      <td>southeast</td>\n",
              "      <td>1725.5523</td>\n",
              "    </tr>\n",
              "  </tbody>\n",
              "</table>\n",
              "</div>\n",
              "      <button class=\"colab-df-convert\" onclick=\"convertToInteractive('df-ea390b4d-33f4-4923-8cec-47ce6b4c0a77')\"\n",
              "              title=\"Convert this dataframe to an interactive table.\"\n",
              "              style=\"display:none;\">\n",
              "        \n",
              "  <svg xmlns=\"http://www.w3.org/2000/svg\" height=\"24px\"viewBox=\"0 0 24 24\"\n",
              "       width=\"24px\">\n",
              "    <path d=\"M0 0h24v24H0V0z\" fill=\"none\"/>\n",
              "    <path d=\"M18.56 5.44l.94 2.06.94-2.06 2.06-.94-2.06-.94-.94-2.06-.94 2.06-2.06.94zm-11 1L8.5 8.5l.94-2.06 2.06-.94-2.06-.94L8.5 2.5l-.94 2.06-2.06.94zm10 10l.94 2.06.94-2.06 2.06-.94-2.06-.94-.94-2.06-.94 2.06-2.06.94z\"/><path d=\"M17.41 7.96l-1.37-1.37c-.4-.4-.92-.59-1.43-.59-.52 0-1.04.2-1.43.59L10.3 9.45l-7.72 7.72c-.78.78-.78 2.05 0 2.83L4 21.41c.39.39.9.59 1.41.59.51 0 1.02-.2 1.41-.59l7.78-7.78 2.81-2.81c.8-.78.8-2.07 0-2.86zM5.41 20L4 18.59l7.72-7.72 1.47 1.35L5.41 20z\"/>\n",
              "  </svg>\n",
              "      </button>\n",
              "      \n",
              "  <style>\n",
              "    .colab-df-container {\n",
              "      display:flex;\n",
              "      flex-wrap:wrap;\n",
              "      gap: 12px;\n",
              "    }\n",
              "\n",
              "    .colab-df-convert {\n",
              "      background-color: #E8F0FE;\n",
              "      border: none;\n",
              "      border-radius: 50%;\n",
              "      cursor: pointer;\n",
              "      display: none;\n",
              "      fill: #1967D2;\n",
              "      height: 32px;\n",
              "      padding: 0 0 0 0;\n",
              "      width: 32px;\n",
              "    }\n",
              "\n",
              "    .colab-df-convert:hover {\n",
              "      background-color: #E2EBFA;\n",
              "      box-shadow: 0px 1px 2px rgba(60, 64, 67, 0.3), 0px 1px 3px 1px rgba(60, 64, 67, 0.15);\n",
              "      fill: #174EA6;\n",
              "    }\n",
              "\n",
              "    [theme=dark] .colab-df-convert {\n",
              "      background-color: #3B4455;\n",
              "      fill: #D2E3FC;\n",
              "    }\n",
              "\n",
              "    [theme=dark] .colab-df-convert:hover {\n",
              "      background-color: #434B5C;\n",
              "      box-shadow: 0px 1px 3px 1px rgba(0, 0, 0, 0.15);\n",
              "      filter: drop-shadow(0px 1px 2px rgba(0, 0, 0, 0.3));\n",
              "      fill: #FFFFFF;\n",
              "    }\n",
              "  </style>\n",
              "\n",
              "      <script>\n",
              "        const buttonEl =\n",
              "          document.querySelector('#df-ea390b4d-33f4-4923-8cec-47ce6b4c0a77 button.colab-df-convert');\n",
              "        buttonEl.style.display =\n",
              "          google.colab.kernel.accessAllowed ? 'block' : 'none';\n",
              "\n",
              "        async function convertToInteractive(key) {\n",
              "          const element = document.querySelector('#df-ea390b4d-33f4-4923-8cec-47ce6b4c0a77');\n",
              "          const dataTable =\n",
              "            await google.colab.kernel.invokeFunction('convertToInteractive',\n",
              "                                                     [key], {});\n",
              "          if (!dataTable) return;\n",
              "\n",
              "          const docLinkHtml = 'Like what you see? Visit the ' +\n",
              "            '<a target=\"_blank\" href=https://colab.research.google.com/notebooks/data_table.ipynb>data table notebook</a>'\n",
              "            + ' to learn more about interactive tables.';\n",
              "          element.innerHTML = '';\n",
              "          dataTable['output_type'] = 'display_data';\n",
              "          await google.colab.output.renderOutput(dataTable, element);\n",
              "          const docLink = document.createElement('div');\n",
              "          docLink.innerHTML = docLinkHtml;\n",
              "          element.appendChild(docLink);\n",
              "        }\n",
              "      </script>\n",
              "    </div>\n",
              "  </div>\n",
              "  "
            ],
            "text/plain": [
              "   age     sex     bmi  children smoker     region    charges\n",
              "0   19  female 27.9000         0    yes  southwest 16884.9240\n",
              "1   18    male 33.7700         1     no  southeast  1725.5523"
            ]
          },
          "metadata": {},
          "execution_count": 4
        }
      ]
    },
    {
      "cell_type": "code",
      "source": [
        "# [3] 시험 형식으로 train, test 데이터로 나누어 저장합니다.  (6:4 비율)\n",
        "\n",
        "train_size = len(df) - int(len(df)*0.4)\n",
        "\n",
        "# 여러 가지 데이터가 고루 섞이도록 해야 함\n",
        "df = df.sample(frac=1, random_state=1234)\n",
        "df.insert(0, 'ID', range(1, len(df)+1))\n",
        "\n",
        "train = df.iloc[:train_size, ]\n",
        "test = df.iloc[train_size:, ]\n",
        "print(train.shape, test.shape)\n",
        "ycolumn = 'charges'\n",
        "X_train = train.drop(columns=ycolumn)\n",
        "Y_train = train[['ID', ycolumn]]\n",
        "X_test = test.drop(columns=ycolumn)\n",
        "Y_test = test[['ID', ycolumn]]\n",
        "X_train.to_csv('x_train.csv', index=False)\n",
        "Y_train.to_csv('y_train.csv', index=False)\n",
        "X_test.to_csv('x_test.csv', index=False)\n",
        "Y_test.to_csv('y_test.csv', index=False)"
      ],
      "metadata": {
        "colab": {
          "base_uri": "https://localhost:8080/"
        },
        "id": "df5d4o8dzwqi",
        "outputId": "9714b6f6-0292-4057-d012-d3f22066f863"
      },
      "execution_count": null,
      "outputs": [
        {
          "output_type": "stream",
          "name": "stdout",
          "text": [
            "(803, 8) (535, 8)\n"
          ]
        }
      ]
    },
    {
      "cell_type": "markdown",
      "source": [
        "### 5-2. 데이터 불러오기, 전처리"
      ],
      "metadata": {
        "id": "B6XGaNVd0mPO"
      }
    },
    {
      "cell_type": "code",
      "source": [
        "# [1] 데이터 파일 불러오기\n",
        "X_use = pd.read_csv('x_train.csv')\n",
        "X_submission = pd.read_csv('x_test.csv')\n",
        "Y = pd.read_csv('y_train.csv')\n",
        "Y_hidden = pd.read_csv('y_test.csv')"
      ],
      "metadata": {
        "id": "O_uIi12d0llv"
      },
      "execution_count": null,
      "outputs": []
    },
    {
      "cell_type": "code",
      "source": [
        "# [2] dfX 만들기, dfX의 info() 확인\n",
        "# use, submission 데이터를 묶어 전처리 하기 위함\n"
      ],
      "metadata": {
        "id": "OjSLnWUf0td7"
      },
      "execution_count": null,
      "outputs": []
    },
    {
      "cell_type": "code",
      "source": [
        "# [3] 컬럼별 고윳값 데이터 수 개수 확인\n"
      ],
      "metadata": {
        "id": "CRjL1k-HFDOw"
      },
      "execution_count": null,
      "outputs": []
    },
    {
      "cell_type": "code",
      "source": [
        "# [4] object 컬럼들에 대해서 Encoding 실행 - 필수\n"
      ],
      "metadata": {
        "id": "Q562isfuFZio"
      },
      "execution_count": null,
      "outputs": []
    },
    {
      "cell_type": "code",
      "source": [
        "# [5] dfX와 Y를 합하여 dfXY 생성\n"
      ],
      "metadata": {
        "id": "xPfXImWG5AKu"
      },
      "execution_count": null,
      "outputs": []
    },
    {
      "cell_type": "code",
      "source": [
        "# [6] 'charges'와 다른 컬럼의 상관계수를 확인합니다.   (dfXY의 모든 것 확인해도 좋음)\n"
      ],
      "metadata": {
        "id": "jc-k30TA49ce"
      },
      "execution_count": null,
      "outputs": []
    },
    {
      "cell_type": "markdown",
      "source": [
        "### 5-3. 성능평가, 모델링 함수\n",
        "- 4-3의 것 그대로 사용"
      ],
      "metadata": {
        "id": "36fJ58Dx8xD9"
      }
    },
    {
      "cell_type": "code",
      "source": [
        "#  4-3 에서 [16] [17] [18] 실행"
      ],
      "metadata": {
        "id": "NHnvQIBS89Is"
      },
      "execution_count": null,
      "outputs": []
    },
    {
      "cell_type": "markdown",
      "source": [
        "### 5-4. 데이터 분리, 모델적용"
      ],
      "metadata": {
        "id": "Pz-fldKF9ECT"
      }
    },
    {
      "cell_type": "code",
      "source": [
        "# [7] X의 최종 전처리 버전인 dfX의 컬럼 확인\n"
      ],
      "metadata": {
        "id": "FxVTHKBOdy4a"
      },
      "execution_count": null,
      "outputs": []
    },
    {
      "cell_type": "code",
      "source": [
        "# [8] dfX 에서 사용할 feature 선택하여 dfX2로 저장\n"
      ],
      "metadata": {
        "id": "1Xq6-b2B-8IU"
      },
      "execution_count": null,
      "outputs": []
    },
    {
      "cell_type": "code",
      "source": [
        "# [9] dfX2 데이터를 XF, X_submissionF 로 다시 분리\n",
        "# dfX2 분리에서는 X_use의 행의 개수 사용\n",
        "# Y에서 'charges' 만 YF로 사용\n"
      ],
      "metadata": {
        "id": "Li5KrBU498P0"
      },
      "execution_count": null,
      "outputs": []
    },
    {
      "cell_type": "code",
      "source": [
        "# [10] XF, YF 데이터를 사용하여 데이터를 분리하고 make_models를 호출합니다.\n"
      ],
      "metadata": {
        "id": "c1gvANHpIPu2"
      },
      "execution_count": null,
      "outputs": []
    },
    {
      "cell_type": "code",
      "source": [
        "# [11] models를 평가기준으로 정렬하여 좋은 모델을 알아봄\n"
      ],
      "metadata": {
        "id": "Mb8OBWZt8ukE"
      },
      "execution_count": null,
      "outputs": []
    },
    {
      "cell_type": "markdown",
      "source": [
        "### 5-5. 모델 선택, 결과 제출"
      ],
      "metadata": {
        "id": "il7gFLPhYvXx"
      }
    },
    {
      "cell_type": "code",
      "source": [
        "# [12] 모델 학습시켜 model 로 저장, submission 만들기, 저장하기\n"
      ],
      "metadata": {
        "id": "Ka2onMnCYvX3"
      },
      "execution_count": null,
      "outputs": []
    },
    {
      "cell_type": "code",
      "source": [
        "# [13] Y_submissionF 를 사용하여 성능을 알아봄 (필수 아님)\n"
      ],
      "metadata": {
        "id": "H2b8_mZN0Qqq"
      },
      "execution_count": null,
      "outputs": []
    },
    {
      "cell_type": "code",
      "source": [],
      "metadata": {
        "id": "JyiClMfRSNdY"
      },
      "execution_count": null,
      "outputs": []
    },
    {
      "cell_type": "markdown",
      "source": [
        "### 5-6.시험보러 가서는 이렇게"
      ],
      "metadata": {
        "id": "OBaYfU2XISg8"
      }
    },
    {
      "cell_type": "code",
      "source": [
        "# 직접 작업해 보세요!\n",
        "\n",
        "\n"
      ],
      "metadata": {
        "id": "IccYG_rACnMe"
      },
      "execution_count": null,
      "outputs": []
    }
  ]
}