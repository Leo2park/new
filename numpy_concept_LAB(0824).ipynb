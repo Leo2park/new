{
  "nbformat": 4,
  "nbformat_minor": 0,
  "metadata": {
    "colab": {
      "provenance": [],
      "collapsed_sections": [
        "izOR5P5FRzoq",
        "9O5V_mLvRYut",
        "N5wKSDBISP9s",
        "HDM07aLpZ0QY",
        "9KmFk1z7bK2q",
        "2n6eI33UErrP",
        "rncb5OyWbKyj",
        "U25cgbTwco-C",
        "dLjp_acwkUUu",
        "tuoBLTrEEzeH",
        "QB0sFPXZF2j8",
        "bpNmyrSSUZzX",
        "AB9VmNw9Eb-R",
        "wSm7zi7VeCrF"
      ],
      "include_colab_link": true
    },
    "kernelspec": {
      "name": "python3",
      "display_name": "Python 3"
    }
  },
  "cells": [
    {
      "cell_type": "markdown",
      "metadata": {
        "id": "view-in-github",
        "colab_type": "text"
      },
      "source": [
        "<a href=\"https://colab.research.google.com/github/Leo2park/new/blob/main/numpy_concept_LAB(0824).ipynb\" target=\"_parent\"><img src=\"https://colab.research.google.com/assets/colab-badge.svg\" alt=\"Open In Colab\"/></a>"
      ]
    },
    {
      "cell_type": "markdown",
      "metadata": {
        "id": "nvMCPQGk0eB-"
      },
      "source": [
        "###1.ndarray 성능확인\n"
      ]
    },
    {
      "cell_type": "code",
      "metadata": {
        "id": "bDRChRKYXai7"
      },
      "source": [
        "import numpy as np"
      ],
      "execution_count": 1,
      "outputs": []
    },
    {
      "cell_type": "code",
      "metadata": {
        "id": "DMvqY88lXcig",
        "colab": {
          "base_uri": "https://localhost:8080/"
        },
        "outputId": "56967f18-3089-4981-f3ca-b633a4260e55"
      },
      "source": [
        "A = [1, 2, 3]\n",
        "B = [4, 5, 6]\n",
        "C = []\n",
        "for a, b in zip(A, B):\n",
        "  C.append(a + b)\n",
        "\n",
        "print(C)"
      ],
      "execution_count": 2,
      "outputs": [
        {
          "output_type": "stream",
          "name": "stdout",
          "text": [
            "[5, 7, 9]\n"
          ]
        }
      ]
    },
    {
      "cell_type": "code",
      "metadata": {
        "id": "FNpu7HAJXq5c",
        "colab": {
          "base_uri": "https://localhost:8080/"
        },
        "outputId": "d942ac75-aa03-48ef-bf17-57e33f5f7ffe"
      },
      "source": [
        "A = np.array([1, 2, 3])\n",
        "B = np.array([4, 5, 6])\n",
        "C = A + B\n",
        "print(C)"
      ],
      "execution_count": 3,
      "outputs": [
        {
          "output_type": "stream",
          "name": "stdout",
          "text": [
            "[5 7 9]\n"
          ]
        }
      ]
    },
    {
      "cell_type": "code",
      "metadata": {
        "id": "J-RgB4fX0Psj"
      },
      "source": [
        "a = [[ 1, 2, 3, 4 ] for _ in range(1000000)]  # a 1000000 행, 4 열 - list\n",
        "b = np.array(a) # ndarray\n",
        "\n",
        "def exchange_list(a):\n",
        "  c = []\n",
        "  for x in a:\n",
        "      x[2], x[3], x[0], x[1] = x\n",
        "      c.append(x)\n",
        "  return c\n",
        "\n",
        "def exchange_ndarray(a):\n",
        "   return a[ : ,[2, 3, 0, 1]]"
      ],
      "execution_count": 4,
      "outputs": []
    },
    {
      "cell_type": "code",
      "metadata": {
        "id": "74TT0lJUV3HL",
        "colab": {
          "base_uri": "https://localhost:8080/"
        },
        "outputId": "d561e9cd-101d-4f2b-99fd-27a7c884f1f8"
      },
      "source": [
        "print(a[:2], b[:2], sep='\\n')"
      ],
      "execution_count": 5,
      "outputs": [
        {
          "output_type": "stream",
          "name": "stdout",
          "text": [
            "[[1, 2, 3, 4], [1, 2, 3, 4]]\n",
            "[[1 2 3 4]\n",
            " [1 2 3 4]]\n"
          ]
        }
      ]
    },
    {
      "cell_type": "code",
      "metadata": {
        "id": "1UpQlMg21gZo",
        "colab": {
          "base_uri": "https://localhost:8080/"
        },
        "outputId": "e61d5c26-a455-4312-b9b2-b887b1673d29"
      },
      "source": [
        "c = exchange_list(a)\n",
        "d = exchange_ndarray(b)\n",
        "print(c[:2], d[:2], sep='\\n')"
      ],
      "execution_count": 6,
      "outputs": [
        {
          "output_type": "stream",
          "name": "stdout",
          "text": [
            "[[3, 4, 1, 2], [3, 4, 1, 2]]\n",
            "[[3 4 1 2]\n",
            " [3 4 1 2]]\n"
          ]
        }
      ]
    },
    {
      "cell_type": "code",
      "metadata": {
        "id": "b-w7jMVYVyeD",
        "colab": {
          "base_uri": "https://localhost:8080/"
        },
        "outputId": "3da97713-2aac-49ac-d398-13fe7e68fb9f"
      },
      "source": [
        "%timeit exchange_list(a)"
      ],
      "execution_count": 7,
      "outputs": [
        {
          "output_type": "stream",
          "name": "stdout",
          "text": [
            "189 ms ± 30.7 ms per loop (mean ± std. dev. of 7 runs, 10 loops each)\n"
          ]
        }
      ]
    },
    {
      "cell_type": "code",
      "metadata": {
        "id": "x_hIaQgpV0Ie",
        "colab": {
          "base_uri": "https://localhost:8080/"
        },
        "outputId": "b52f06d3-3ca1-4af5-ff96-4a5b7ce9d7c3"
      },
      "source": [
        "%timeit exchange_ndarray(b)"
      ],
      "execution_count": 8,
      "outputs": [
        {
          "output_type": "stream",
          "name": "stdout",
          "text": [
            "10.6 ms ± 258 µs per loop (mean ± std. dev. of 7 runs, 100 loops each)\n"
          ]
        }
      ]
    },
    {
      "cell_type": "markdown",
      "metadata": {
        "id": "oCa83IylZ1OA"
      },
      "source": [
        "###2.ndarray 속성"
      ]
    },
    {
      "cell_type": "code",
      "metadata": {
        "id": "gs7lgMK0tWaO"
      },
      "source": [
        "import numpy as np"
      ],
      "execution_count": 9,
      "outputs": []
    },
    {
      "cell_type": "code",
      "metadata": {
        "id": "R2KFZHEO2IMa",
        "colab": {
          "base_uri": "https://localhost:8080/"
        },
        "outputId": "48656d9d-619f-4505-f9e9-1407c19df975"
      },
      "source": [
        "#print array information\n",
        "def printInfo(a):\n",
        "    data = ['a.ndim', 'a.shape', 'a.size', 'a.dtype', 'a.itemsize', 'a.strides']\n",
        "    for x in data:\n",
        "        print('%-11s' % x, eval(x))\n",
        "\n",
        "a = np.array([[0,1,2],[3,4,5]])#, dtype=np.int32)\n",
        "printInfo(a)\n",
        "#print(a.ndim, a.shape, a.size, a.dtype, a.itemsize, a.strides)"
      ],
      "execution_count": 10,
      "outputs": [
        {
          "output_type": "stream",
          "name": "stdout",
          "text": [
            "a.ndim      2\n",
            "a.shape     (2, 3)\n",
            "a.size      6\n",
            "a.dtype     int64\n",
            "a.itemsize  8\n",
            "a.strides   (24, 8)\n"
          ]
        }
      ]
    },
    {
      "cell_type": "markdown",
      "metadata": {
        "id": "fAya-kGlZ1K-"
      },
      "source": [
        "###3.ndarray 생성"
      ]
    },
    {
      "cell_type": "code",
      "metadata": {
        "id": "m-EkRfePwavl"
      },
      "source": [
        "import numpy as np"
      ],
      "execution_count": 11,
      "outputs": []
    },
    {
      "cell_type": "code",
      "metadata": {
        "id": "yxyJwtur2a4_"
      },
      "source": [
        "def printary(*a):\n",
        "    for x in a:\n",
        "        print(f'{type(x)}\\n{x.dtype}\\n{x}', end='\\n\\n')\n",
        "\n",
        "    print(\"-\" * 30)"
      ],
      "execution_count": 12,
      "outputs": []
    },
    {
      "cell_type": "markdown",
      "metadata": {
        "id": "nAQcclcqRjpl"
      },
      "source": [
        "#####1) np.array 사용"
      ]
    },
    {
      "cell_type": "code",
      "metadata": {
        "id": "2drjTnoJ2cVS",
        "outputId": "ad57059f-aae1-4f1c-f711-9c09225a379b",
        "colab": {
          "base_uri": "https://localhost:8080/"
        }
      },
      "source": [
        "#np.array(object : array_like, dtype=None)\n",
        "a = np.array([1, 2, 3])\n",
        "b = np.array([[1, 2, 3], [4, 5, 6]])\n",
        "c = np.array([[1, 2, 3], [4, 5]])  # array_like가 아님\n",
        "printary(a, b, c)"
      ],
      "execution_count": 13,
      "outputs": [
        {
          "output_type": "stream",
          "name": "stdout",
          "text": [
            "<class 'numpy.ndarray'>\n",
            "int64\n",
            "[1 2 3]\n",
            "\n",
            "<class 'numpy.ndarray'>\n",
            "int64\n",
            "[[1 2 3]\n",
            " [4 5 6]]\n",
            "\n",
            "<class 'numpy.ndarray'>\n",
            "object\n",
            "[list([1, 2, 3]) list([4, 5])]\n",
            "\n",
            "------------------------------\n"
          ]
        },
        {
          "output_type": "stream",
          "name": "stderr",
          "text": [
            "<ipython-input-13-11519dfb240c>:4: VisibleDeprecationWarning: Creating an ndarray from ragged nested sequences (which is a list-or-tuple of lists-or-tuples-or ndarrays with different lengths or shapes) is deprecated. If you meant to do this, you must specify 'dtype=object' when creating the ndarray.\n",
            "  c = np.array([[1, 2, 3], [4, 5]])  # array_like가 아님\n"
          ]
        }
      ]
    },
    {
      "cell_type": "code",
      "metadata": {
        "id": "rTXLYJJZ2lNL",
        "colab": {
          "base_uri": "https://localhost:8080/"
        },
        "outputId": "49413189-ef8e-4d4a-f32f-8136a9b76425"
      },
      "source": [
        "# Structured Array\n",
        "sdtype = [('name', '<U10'), ('height', '<i4'), ('weight', np.float32)]\n",
        "value =  [('Tom', 178, 98.5), ('Jim', 183, 79.5), ('Adam',  175, 82.8)]\n",
        "\n",
        "a = np.array(value, dtype=sdtype)\n",
        "\n",
        "printary(a)\n",
        "a"
      ],
      "execution_count": 14,
      "outputs": [
        {
          "output_type": "stream",
          "name": "stdout",
          "text": [
            "<class 'numpy.ndarray'>\n",
            "[('name', '<U10'), ('height', '<i4'), ('weight', '<f4')]\n",
            "[('Tom', 178, 98.5) ('Jim', 183, 79.5) ('Adam', 175, 82.8)]\n",
            "\n",
            "------------------------------\n"
          ]
        },
        {
          "output_type": "execute_result",
          "data": {
            "text/plain": [
              "array([('Tom', 178, 98.5), ('Jim', 183, 79.5), ('Adam', 175, 82.8)],\n",
              "      dtype=[('name', '<U10'), ('height', '<i4'), ('weight', '<f4')])"
            ]
          },
          "metadata": {},
          "execution_count": 14
        }
      ]
    },
    {
      "cell_type": "code",
      "metadata": {
        "id": "y_h2M3cZzD5d",
        "outputId": "891c7677-3d54-4049-a6ad-f32dae8e8471",
        "colab": {
          "base_uri": "https://localhost:8080/"
        }
      },
      "source": [
        "printary(a['name'], a['height'], a['weight'])\n",
        "printary(a[0], a[1], a[2])\n",
        "print(a.shape, a.strides, a[0])   # a.strides - 1개 row에 해당하는 메모리 크기"
      ],
      "execution_count": 15,
      "outputs": [
        {
          "output_type": "stream",
          "name": "stdout",
          "text": [
            "<class 'numpy.ndarray'>\n",
            "<U10\n",
            "['Tom' 'Jim' 'Adam']\n",
            "\n",
            "<class 'numpy.ndarray'>\n",
            "int32\n",
            "[178 183 175]\n",
            "\n",
            "<class 'numpy.ndarray'>\n",
            "float32\n",
            "[98.5 79.5 82.8]\n",
            "\n",
            "------------------------------\n",
            "<class 'numpy.void'>\n",
            "[('name', '<U10'), ('height', '<i4'), ('weight', '<f4')]\n",
            "('Tom', 178, 98.5)\n",
            "\n",
            "<class 'numpy.void'>\n",
            "[('name', '<U10'), ('height', '<i4'), ('weight', '<f4')]\n",
            "('Jim', 183, 79.5)\n",
            "\n",
            "<class 'numpy.void'>\n",
            "[('name', '<U10'), ('height', '<i4'), ('weight', '<f4')]\n",
            "('Adam', 175, 82.8)\n",
            "\n",
            "------------------------------\n",
            "(3,) (48,) ('Tom', 178, 98.5)\n"
          ]
        }
      ]
    },
    {
      "cell_type": "markdown",
      "metadata": {
        "id": "fd3KaKnjRuPx"
      },
      "source": [
        "#####2) np.arange 사용"
      ]
    },
    {
      "cell_type": "code",
      "metadata": {
        "id": "BXykk-bv2vpx",
        "outputId": "3717244b-19d6-4094-f022-d480fb0d706f",
        "colab": {
          "base_uri": "https://localhost:8080/"
        }
      },
      "source": [
        "# np.arange(stop:number, dtype=None), np.arnage(start, stop), np.arange(start, stop, step)\n",
        "a = np.arange(5)\n",
        "b = np.arange(1, 10, 2)\n",
        "c = np.arange(1, 2, 0.1)\n",
        "printary(a, b, c)"
      ],
      "execution_count": 16,
      "outputs": [
        {
          "output_type": "stream",
          "name": "stdout",
          "text": [
            "<class 'numpy.ndarray'>\n",
            "int64\n",
            "[0 1 2 3 4]\n",
            "\n",
            "<class 'numpy.ndarray'>\n",
            "int64\n",
            "[1 3 5 7 9]\n",
            "\n",
            "<class 'numpy.ndarray'>\n",
            "float64\n",
            "[1.  1.1 1.2 1.3 1.4 1.5 1.6 1.7 1.8 1.9]\n",
            "\n",
            "------------------------------\n"
          ]
        }
      ]
    },
    {
      "cell_type": "code",
      "metadata": {
        "id": "Ja3Vmvp7XRKE",
        "colab": {
          "base_uri": "https://localhost:8080/"
        },
        "outputId": "553afb64-b96d-48fd-ee28-2ef5d4b8512d"
      },
      "source": [
        "#그래프 그릴때 축설정으로 사용 예\n",
        "import matplotlib.pyplot as plt\n",
        "x = np.arange(0, 10, 0.1)\n",
        "y = np.sin(x)\n",
        "print(x)\n",
        "print(y)\n",
        "plt.plot(x, y)\n",
        "plt.show()"
      ],
      "execution_count": 17,
      "outputs": [
        {
          "output_type": "stream",
          "name": "stdout",
          "text": [
            "[0.  0.1 0.2 0.3 0.4 0.5 0.6 0.7 0.8 0.9 1.  1.1 1.2 1.3 1.4 1.5 1.6 1.7\n",
            " 1.8 1.9 2.  2.1 2.2 2.3 2.4 2.5 2.6 2.7 2.8 2.9 3.  3.1 3.2 3.3 3.4 3.5\n",
            " 3.6 3.7 3.8 3.9 4.  4.1 4.2 4.3 4.4 4.5 4.6 4.7 4.8 4.9 5.  5.1 5.2 5.3\n",
            " 5.4 5.5 5.6 5.7 5.8 5.9 6.  6.1 6.2 6.3 6.4 6.5 6.6 6.7 6.8 6.9 7.  7.1\n",
            " 7.2 7.3 7.4 7.5 7.6 7.7 7.8 7.9 8.  8.1 8.2 8.3 8.4 8.5 8.6 8.7 8.8 8.9\n",
            " 9.  9.1 9.2 9.3 9.4 9.5 9.6 9.7 9.8 9.9]\n",
            "[ 0.          0.09983342  0.19866933  0.29552021  0.38941834  0.47942554\n",
            "  0.56464247  0.64421769  0.71735609  0.78332691  0.84147098  0.89120736\n",
            "  0.93203909  0.96355819  0.98544973  0.99749499  0.9995736   0.99166481\n",
            "  0.97384763  0.94630009  0.90929743  0.86320937  0.8084964   0.74570521\n",
            "  0.67546318  0.59847214  0.51550137  0.42737988  0.33498815  0.23924933\n",
            "  0.14112001  0.04158066 -0.05837414 -0.15774569 -0.2555411  -0.35078323\n",
            " -0.44252044 -0.52983614 -0.61185789 -0.68776616 -0.7568025  -0.81827711\n",
            " -0.87157577 -0.91616594 -0.95160207 -0.97753012 -0.993691   -0.99992326\n",
            " -0.99616461 -0.98245261 -0.95892427 -0.92581468 -0.88345466 -0.83226744\n",
            " -0.77276449 -0.70554033 -0.63126664 -0.55068554 -0.46460218 -0.37387666\n",
            " -0.2794155  -0.1821625  -0.0830894   0.0168139   0.1165492   0.21511999\n",
            "  0.31154136  0.40484992  0.49411335  0.57843976  0.6569866   0.72896904\n",
            "  0.79366786  0.85043662  0.8987081   0.93799998  0.96791967  0.98816823\n",
            "  0.99854335  0.99894134  0.98935825  0.96988981  0.94073056  0.90217183\n",
            "  0.85459891  0.79848711  0.7343971   0.66296923  0.58491719  0.50102086\n",
            "  0.41211849  0.31909836  0.22288991  0.12445442  0.02477543 -0.07515112\n",
            " -0.17432678 -0.27176063 -0.36647913 -0.45753589]\n"
          ]
        },
        {
          "output_type": "display_data",
          "data": {
            "text/plain": [
              "<Figure size 640x480 with 1 Axes>"
            ],
            "image/png": "[encoded data removed]"
          },
          "metadata": {}
        }
      ]
    },
    {
      "cell_type": "code",
      "metadata": {
        "id": "VffWhSum7NdP",
        "colab": {
          "base_uri": "https://localhost:8080/"
        },
        "outputId": "fae739b9-ef78-4736-b3db-05ab1e9dd6b3"
      },
      "source": [
        "# 1개 값도 array_like 이다\n",
        "x = np.array(1)\n",
        "print(x, type(x))"
      ],
      "execution_count": 18,
      "outputs": [
        {
          "output_type": "stream",
          "name": "stdout",
          "text": [
            "1 <class 'numpy.ndarray'>\n"
          ]
        }
      ]
    },
    {
      "cell_type": "markdown",
      "metadata": {
        "id": "izOR5P5FRzoq"
      },
      "source": [
        "#####3) np.linspace 사용"
      ]
    },
    {
      "cell_type": "code",
      "metadata": {
        "id": "SomZfC8i2v4t",
        "colab": {
          "base_uri": "https://localhost:8080/"
        },
        "outputId": "baa31a9a-1c25-4504-c049-ba34b4a81db3"
      },
      "source": [
        "# np.linspace(start:array_like, stop, num=50, endpoint=True, retstep=False, dtype=None)\n",
        "a = np.linspace(1, 5, 9)\n",
        "b = np.linspace(1, 5, 10, endpoint=False)\n",
        "c = np.linspace(1, 5, 9, retstep=True)\n",
        "print(a, b, c, sep=\"\\n\")"
      ],
      "execution_count": 19,
      "outputs": [
        {
          "output_type": "stream",
          "name": "stdout",
          "text": [
            "[1.  1.5 2.  2.5 3.  3.5 4.  4.5 5. ]\n",
            "[1.  1.4 1.8 2.2 2.6 3.  3.4 3.8 4.2 4.6]\n",
            "(array([1. , 1.5, 2. , 2.5, 3. , 3.5, 4. , 4.5, 5. ]), 0.5)\n"
          ]
        }
      ]
    },
    {
      "cell_type": "code",
      "metadata": {
        "id": "iN3D9iNX7ff2",
        "colab": {
          "base_uri": "https://localhost:8080/"
        },
        "outputId": "bdabe08f-68ed-483f-e0b3-6b7edaeeea85"
      },
      "source": [
        "x = np.linspace([1, 2, 3], [2, 4, 6], num=5)\n",
        "print(x)"
      ],
      "execution_count": 20,
      "outputs": [
        {
          "output_type": "stream",
          "name": "stdout",
          "text": [
            "[[1.   2.   3.  ]\n",
            " [1.25 2.5  3.75]\n",
            " [1.5  3.   4.5 ]\n",
            " [1.75 3.5  5.25]\n",
            " [2.   4.   6.  ]]\n"
          ]
        }
      ]
    },
    {
      "cell_type": "code",
      "metadata": {
        "id": "xtwBbyt3YQGD",
        "colab": {
          "base_uri": "https://localhost:8080/"
        },
        "outputId": "9dea4c68-03e1-446c-e344-ee31ecbdbe4e"
      },
      "source": [
        "x = np.linspace(0, 10, 60)\n",
        "y = np.sin(x)\n",
        "plt.plot(x, y)\n",
        "plt.show()"
      ],
      "execution_count": 21,
      "outputs": [
        {
          "output_type": "display_data",
          "data": {
            "text/plain": [
              "<Figure size 640x480 with 1 Axes>"
            ],
            "image/png": "[encoded data removed]"
          },
          "metadata": {}
        }
      ]
    },
    {
      "cell_type": "markdown",
      "metadata": {
        "id": "9O5V_mLvRYut"
      },
      "source": [
        "#####4) random 사용"
      ]
    },
    {
      "cell_type": "code",
      "metadata": {
        "id": "NeEBTlxPJoXq"
      },
      "source": [
        "import numpy as np\n",
        "import matplotlib.pyplot as plt"
      ],
      "execution_count": 22,
      "outputs": []
    },
    {
      "cell_type": "code",
      "metadata": {
        "id": "E2KeXp0vNmKl"
      },
      "source": [
        "np.set_printoptions(threshold=999,\n",
        "                    suppress=True,\n",
        "                    precision=4,\n",
        "                    edgeitems=3)"
      ],
      "execution_count": 23,
      "outputs": []
    },
    {
      "cell_type": "code",
      "metadata": {
        "id": "elDSwjaDYz5h"
      },
      "source": [
        "def printary(*a):\n",
        "    for x in a :\n",
        "        print(f\"shape : {x.shape}\")\n",
        "        print(f\"array : %s{x} \" % ('' if x.ndim == 1 else '\\n'))\n",
        "        print(\"mean  : %.3f, std : %.3f\" % (x.mean(), x.std()))\n",
        "        print(\"-\" * 30)"
      ],
      "execution_count": 24,
      "outputs": []
    },
    {
      "cell_type": "code",
      "metadata": {
        "id": "a-XJWhgzJUXV"
      },
      "source": [
        "def showHist(x):\n",
        "  plt.hist(x)\n",
        "  plt.show()"
      ],
      "execution_count": 25,
      "outputs": []
    },
    {
      "cell_type": "code",
      "metadata": {
        "id": "V8bwah-tY3yn",
        "colab": {
          "base_uri": "https://localhost:8080/"
        },
        "outputId": "0d40a064-e3f2-4283-fdb3-ca7fce41e88d"
      },
      "source": [
        "# np.random.rand(d0, d1, ...,dn)\n",
        "# 0~1 사이의 균일 분포로 실수 난수 배열 생성\n",
        "# d0, d1, ..., dn : 배열의 shape을 의미하는 정수\n",
        "a = np.random.rand(5)\n",
        "b = np.random.rand(2, 2, 3)\n",
        "printary(a, b)"
      ],
      "execution_count": 26,
      "outputs": [
        {
          "output_type": "stream",
          "name": "stdout",
          "text": [
            "shape : (5,)\n",
            "array : [0.8981 0.9595 0.2063 0.6511 0.6699] \n",
            "mean  : 0.677, std : 0.265\n",
            "------------------------------\n",
            "shape : (2, 2, 3)\n",
            "array : \n",
            "[[[0.341  0.2207 0.6049]\n",
            "  [0.8661 0.3399 0.3684]]\n",
            "\n",
            " [[0.6415 0.8903 0.9452]\n",
            "  [0.8187 0.0106 0.7968]]] \n",
            "mean  : 0.570, std : 0.293\n",
            "------------------------------\n"
          ]
        }
      ]
    },
    {
      "cell_type": "code",
      "metadata": {
        "id": "JUZGLTYwKUOp",
        "colab": {
          "base_uri": "https://localhost:8080/"
        },
        "outputId": "590f2312-0bab-46a2-ea9c-b7d99acff2db"
      },
      "source": [
        "showHist(np.random.rand(5000))"
      ],
      "execution_count": 27,
      "outputs": [
        {
          "output_type": "display_data",
          "data": {
            "text/plain": [
              "<Figure size 640x480 with 1 Axes>"
            ],
            "image/png": "[encoded data removed]"
          },
          "metadata": {}
        }
      ]
    },
    {
      "cell_type": "code",
      "metadata": {
        "id": "ENjYBYktZAW6",
        "colab": {
          "base_uri": "https://localhost:8080/"
        },
        "outputId": "02ff0164-dfd1-4377-dc54-e6a173136075"
      },
      "source": [
        "# np.random.randint(e, size=n)\n",
        "# np.random.randint(s, e, size=n)\n",
        "# 0~e-1, s~e-1 범위의 값을 갖는 균일 분포의 정수 난수 생성\n",
        "# size : 정수(1차원), tuple(1차원 이상)로 shape 지정\n",
        "a = np.random.randint(10, size=(5,))\n",
        "b = np.random.randint(50, 100, (2,4))\n",
        "printary(a, b)"
      ],
      "execution_count": 28,
      "outputs": [
        {
          "output_type": "stream",
          "name": "stdout",
          "text": [
            "shape : (5,)\n",
            "array : [8 5 1 1 9] \n",
            "mean  : 4.800, std : 3.370\n",
            "------------------------------\n",
            "shape : (2, 4)\n",
            "array : \n",
            "[[70 88 67 61]\n",
            " [98 63 65 68]] \n",
            "mean  : 72.500, std : 12.379\n",
            "------------------------------\n"
          ]
        }
      ]
    },
    {
      "cell_type": "code",
      "metadata": {
        "id": "quiwa313KgQP",
        "colab": {
          "base_uri": "https://localhost:8080/"
        },
        "outputId": "b72adc2d-989f-4e6e-a4a5-5f8f1ef3c909"
      },
      "source": [
        "showHist(np.random.randint(10, size=5000))"
      ],
      "execution_count": 29,
      "outputs": [
        {
          "output_type": "display_data",
          "data": {
            "text/plain": [
              "<Figure size 640x480 with 1 Axes>"
            ],
            "image/png": "[encoded data removed]"
          },
          "metadata": {}
        }
      ]
    },
    {
      "cell_type": "code",
      "metadata": {
        "id": "CDtECsWcZAt5",
        "colab": {
          "base_uri": "https://localhost:8080/"
        },
        "outputId": "16e688a3-f47c-494a-f748-574d12ada196"
      },
      "source": [
        "# np.random.randn(d0, d1, ... dn)\n",
        "# 평균 0, 표준편차 1을 갖는 가우시안 표준 정규 분포로 난수 배열 생성(음수 포함)\n",
        "a = np.random.randn(5)\n",
        "b = np.random.randn(200, 50)\n",
        "printary(a, b)"
      ],
      "execution_count": 30,
      "outputs": [
        {
          "output_type": "stream",
          "name": "stdout",
          "text": [
            "shape : (5,)\n",
            "array : [-0.6068  0.5365  1.4976  0.9604 -0.0894] \n",
            "mean  : 0.460, std : 0.745\n",
            "------------------------------\n",
            "shape : (200, 50)\n",
            "array : \n",
            "[[-1.3823 -0.7323  0.8206 ... -0.2627 -0.2303  0.0727]\n",
            " [ 1.8495 -0.9873 -0.2029 ... -1.2539 -0.2254 -0.0043]\n",
            " [-1.1179 -0.0081 -1.3806 ...  1.5131  0.6363  0.2201]\n",
            " ...\n",
            " [ 0.5969  0.4883  0.2405 ... -2.2278 -0.0652  0.5983]\n",
            " [ 0.9335  1.4558  0.0866 ...  0.6662 -1.5947  1.4228]\n",
            " [ 0.6387  0.3215 -0.2828 ... -0.3689 -0.0913 -0.6094]] \n",
            "mean  : 0.004, std : 0.986\n",
            "------------------------------\n"
          ]
        }
      ]
    },
    {
      "cell_type": "code",
      "metadata": {
        "id": "jYacgdPSLx40",
        "colab": {
          "base_uri": "https://localhost:8080/"
        },
        "outputId": "1817ac88-f470-4d87-ed11-c3ee8ad260c9"
      },
      "source": [
        "showHist(np.random.randn(5000))"
      ],
      "execution_count": 31,
      "outputs": [
        {
          "output_type": "display_data",
          "data": {
            "text/plain": [
              "<Figure size 640x480 with 1 Axes>"
            ],
            "image/png": "[encoded data removed]"
          },
          "metadata": {}
        }
      ]
    },
    {
      "cell_type": "code",
      "metadata": {
        "id": "wygHi7PjZEvG",
        "colab": {
          "base_uri": "https://localhost:8080/"
        },
        "outputId": "aa773614-106a-445e-89c2-4c8fc88f47fe"
      },
      "source": [
        "# np.random.normal(평균, 표준편차, size)\n",
        "# 생략하면 평균=0, 표준편차=1, size=1이 됨\n",
        "a = np.random.normal(2, 3, (100, 20))\n",
        "printary(a)"
      ],
      "execution_count": 32,
      "outputs": [
        {
          "output_type": "stream",
          "name": "stdout",
          "text": [
            "shape : (100, 20)\n",
            "array : \n",
            "[[-2.5434  2.6024  1.3395 ...  0.1432  0.7169  2.9582]\n",
            " [-6.3787 -0.8013  3.5343 ...  3.5973  3.972   4.4499]\n",
            " [ 3.9812  1.5076  0.1837 ...  4.809   7.2117  8.8135]\n",
            " ...\n",
            " [ 6.427   6.8093  4.0745 ... -0.4703 -0.0507 -1.5627]\n",
            " [ 1.8998  2.5016 -3.5801 ...  1.6133  4.5788  3.5829]\n",
            " [ 0.8948 -0.0737  4.4898 ...  5.5413  5.6482  5.4425]] \n",
            "mean  : 1.942, std : 2.939\n",
            "------------------------------\n"
          ]
        }
      ]
    },
    {
      "cell_type": "code",
      "metadata": {
        "id": "dW9EHc4KMFHq",
        "colab": {
          "base_uri": "https://localhost:8080/"
        },
        "outputId": "8d39e415-8cbd-4599-a34c-14eb2d78afeb"
      },
      "source": [
        "showHist(np.random.normal(2, 1, (5000,)))"
      ],
      "execution_count": 33,
      "outputs": [
        {
          "output_type": "display_data",
          "data": {
            "text/plain": [
              "<Figure size 640x480 with 1 Axes>"
            ],
            "image/png": "[encoded data removed]"
          },
          "metadata": {}
        }
      ]
    },
    {
      "cell_type": "code",
      "metadata": {
        "id": "RlkVVwimZGPU",
        "colab": {
          "base_uri": "https://localhost:8080/"
        },
        "outputId": "a442f7a2-e90d-4c3c-9c28-4c0282500a19"
      },
      "source": [
        "#np.random.permutation(e) : 0 ~ e-1 값을 갖는 정수의 무작위 순서 1차원 배열 생성\n",
        "#np.random.permutation(c) : c 요소들에 대해 무작위 순서로 변경된 1차원 배열 생성\n",
        "# e : 정수, c : array_like 객체\n",
        "a = np.random.permutation(10)\n",
        "\n",
        "data = np.array([1,3,4,5,3,1,3])\n",
        "b = np.random.permutation(data)\n",
        "\n",
        "mylist = [[1,2,3],[4,5,6],[7,8,9],[3,2,1]]\n",
        "c = np.random.permutation(mylist)\n",
        "\n",
        "printary(a, b, c)"
      ],
      "execution_count": 34,
      "outputs": [
        {
          "output_type": "stream",
          "name": "stdout",
          "text": [
            "shape : (10,)\n",
            "array : [7 4 6 9 1 8 3 5 2 0] \n",
            "mean  : 4.500, std : 2.872\n",
            "------------------------------\n",
            "shape : (7,)\n",
            "array : [4 5 3 1 3 1 3] \n",
            "mean  : 2.857, std : 1.355\n",
            "------------------------------\n",
            "shape : (4, 3)\n",
            "array : \n",
            "[[1 2 3]\n",
            " [7 8 9]\n",
            " [4 5 6]\n",
            " [3 2 1]] \n",
            "mean  : 4.250, std : 2.618\n",
            "------------------------------\n"
          ]
        }
      ]
    },
    {
      "cell_type": "markdown",
      "metadata": {
        "id": "N5wKSDBISP9s"
      },
      "source": [
        "#####5) 특정값으로 채워진 ndarray생성"
      ]
    },
    {
      "cell_type": "code",
      "metadata": {
        "id": "go9HTvACVz0o"
      },
      "source": [
        "import numpy as np"
      ],
      "execution_count": 35,
      "outputs": []
    },
    {
      "cell_type": "code",
      "metadata": {
        "id": "giV_NupJM07F"
      },
      "source": [
        "def printary(*a):\n",
        "    for x in a:\n",
        "        print(f'{x.dtype}\\n{x}')\n",
        "    print(\"-\" * 30)"
      ],
      "execution_count": 36,
      "outputs": []
    },
    {
      "cell_type": "code",
      "metadata": {
        "id": "UDOFqOp2M20K"
      },
      "source": [
        "mshape = (2, 3)"
      ],
      "execution_count": 37,
      "outputs": []
    },
    {
      "cell_type": "code",
      "metadata": {
        "id": "V-FFUiygW80K",
        "colab": {
          "base_uri": "https://localhost:8080/"
        },
        "outputId": "f965c966-783e-4c72-eea5-11b6e7c86dce"
      },
      "source": [
        "#np.zeros(shape, dtype=float64)\n",
        "#shape: 정수(1차원), tuple(1차원 이상)\n",
        "a = np.zeros(10, dtype = np.int32)\n",
        "b = np.zeros(mshape)\n",
        "printary(a, b)"
      ],
      "execution_count": 38,
      "outputs": [
        {
          "output_type": "stream",
          "name": "stdout",
          "text": [
            "int32\n",
            "[0 0 0 0 0 0 0 0 0 0]\n",
            "float64\n",
            "[[0. 0. 0.]\n",
            " [0. 0. 0.]]\n",
            "------------------------------\n"
          ]
        }
      ]
    },
    {
      "cell_type": "code",
      "metadata": {
        "id": "JVQ-9uQ8NBiC",
        "colab": {
          "base_uri": "https://localhost:8080/"
        },
        "outputId": "66b06e51-1f2f-4b98-c5a3-c4b9bf8d7f88"
      },
      "source": [
        "#np.empty(shape, dtype=float64)\n",
        "a = np.empty(10, dtype=np.int32)\n",
        "b = np.empty(mshape)\n",
        "printary(a, b)"
      ],
      "execution_count": 39,
      "outputs": [
        {
          "output_type": "stream",
          "name": "stdout",
          "text": [
            "int32\n",
            "[         0 1072693248          0 1073741824          0 1074003968\n",
            "          0 1075052544          0 1076101120]\n",
            "float64\n",
            "[[0. 0. 0.]\n",
            " [0. 0. 0.]]\n",
            "------------------------------\n"
          ]
        }
      ]
    },
    {
      "cell_type": "code",
      "metadata": {
        "id": "N6hR3FHBND2r",
        "colab": {
          "base_uri": "https://localhost:8080/"
        },
        "outputId": "72046859-3271-4948-e1ab-6c12de4ffe01"
      },
      "source": [
        "#np.ones(shape,dtype=float64)\n",
        "#np.full(shape, value, dtype=None)\n",
        "a = np.ones(mshape)\n",
        "b = np.full(mshape, 5)\n",
        "printary(a, b)"
      ],
      "execution_count": 40,
      "outputs": [
        {
          "output_type": "stream",
          "name": "stdout",
          "text": [
            "float64\n",
            "[[1. 1. 1.]\n",
            " [1. 1. 1.]]\n",
            "int64\n",
            "[[5 5 5]\n",
            " [5 5 5]]\n",
            "------------------------------\n"
          ]
        }
      ]
    },
    {
      "cell_type": "code",
      "metadata": {
        "id": "DofBjBf_V6yg",
        "colab": {
          "base_uri": "https://localhost:8080/"
        },
        "outputId": "56d7bc45-d4cf-4e37-fa9f-720da3df06be"
      },
      "source": [
        "#np.eye(N, M=None, k=0, dtype=float64)\n",
        "a = np.eye(3)\n",
        "b = np.eye(3, 5, 2)\n",
        "c = np.eye(3, 5, -1)\n",
        "printary(a, b, c)"
      ],
      "execution_count": 41,
      "outputs": [
        {
          "output_type": "stream",
          "name": "stdout",
          "text": [
            "float64\n",
            "[[1. 0. 0.]\n",
            " [0. 1. 0.]\n",
            " [0. 0. 1.]]\n",
            "float64\n",
            "[[0. 0. 1. 0. 0.]\n",
            " [0. 0. 0. 1. 0.]\n",
            " [0. 0. 0. 0. 1.]]\n",
            "float64\n",
            "[[0. 0. 0. 0. 0.]\n",
            " [1. 0. 0. 0. 0.]\n",
            " [0. 1. 0. 0. 0.]]\n",
            "------------------------------\n"
          ]
        }
      ]
    },
    {
      "cell_type": "code",
      "metadata": {
        "id": "15p7gou2NHYX",
        "colab": {
          "base_uri": "https://localhost:8080/"
        },
        "outputId": "468b80ce-69d6-48d2-d600-b250f16b8245"
      },
      "source": [
        "#np.zeros_like(array_like, dtype=None)\n",
        "a = np.zeros_like([1,2,3])\n",
        "b = np.empty_like([1,2,3])\n",
        "printary(a, b)"
      ],
      "execution_count": 42,
      "outputs": [
        {
          "output_type": "stream",
          "name": "stdout",
          "text": [
            "int64\n",
            "[0 0 0]\n",
            "int64\n",
            "[4611686018427387904 4616189618054758400 4618441417868443648]\n",
            "------------------------------\n"
          ]
        }
      ]
    },
    {
      "cell_type": "code",
      "metadata": {
        "id": "nYL2G9CyWb4C",
        "colab": {
          "base_uri": "https://localhost:8080/"
        },
        "outputId": "4fba9621-81ee-4e31-8442-e14eb4b41705"
      },
      "source": [
        "a = np.ones_like([[1,2,3],[4,5,6]], dtype=np.float32)\n",
        "b = np.full_like(np.arange(5), 5)\n",
        "printary(a, b)"
      ],
      "execution_count": 43,
      "outputs": [
        {
          "output_type": "stream",
          "name": "stdout",
          "text": [
            "float32\n",
            "[[1. 1. 1.]\n",
            " [1. 1. 1.]]\n",
            "int64\n",
            "[5 5 5 5 5]\n",
            "------------------------------\n"
          ]
        }
      ]
    },
    {
      "cell_type": "markdown",
      "source": [],
      "metadata": {
        "id": "z3bwL2qr_20a"
      }
    },
    {
      "cell_type": "markdown",
      "metadata": {
        "id": "HDM07aLpZ0QY"
      },
      "source": [
        "###4.view or copy"
      ]
    },
    {
      "cell_type": "code",
      "metadata": {
        "id": "pMXJUkFkaPf2"
      },
      "source": [
        "def npinfo(n, a, x):\n",
        "    print(\"name    :\", n)\n",
        "    print(\"share   :\", np.may_share_memory(a, x) )\n",
        "    print(\"data    :\", x.tolist())\n",
        "    print(\"ndim    :\", x.ndim)\n",
        "    print(\"shape   :\", x.shape)\n",
        "    print(\"dtype   :\", x.dtype)\n",
        "    print(\"-\" * 30)"
      ],
      "execution_count": 75,
      "outputs": []
    },
    {
      "cell_type": "code",
      "metadata": {
        "id": "WkEdtd79abHO",
        "colab": {
          "base_uri": "https://localhost:8080/"
        },
        "outputId": "b0b0a261-43d6-4922-ece0-e27c45fc5380"
      },
      "source": [
        "# copy\n",
        "a = np.array([[True, True], [False, False]], dtype=np.bool)\n",
        "b = a.copy()\n",
        "b[0, 0] = False  # 0 also can use\n",
        "npinfo(\"original\", a, a)\n",
        "npinfo(\"copy\", a, b)"
      ],
      "execution_count": 76,
      "outputs": [
        {
          "output_type": "stream",
          "name": "stdout",
          "text": [
            "name    : original\n",
            "share   : True\n",
            "data    : [[True, True], [False, False]]\n",
            "ndim    : 2\n",
            "shape   : (2, 2)\n",
            "dtype   : bool\n",
            "------------------------------\n",
            "name    : copy\n",
            "share   : False\n",
            "data    : [[False, True], [False, False]]\n",
            "ndim    : 2\n",
            "shape   : (2, 2)\n",
            "dtype   : bool\n",
            "------------------------------\n"
          ]
        },
        {
          "output_type": "stream",
          "name": "stderr",
          "text": [
            "<ipython-input-76-a38e532c143c>:2: DeprecationWarning: `np.bool` is a deprecated alias for the builtin `bool`. To silence this warning, use `bool` by itself. Doing this will not modify any behavior and is safe. If you specifically wanted the numpy scalar type, use `np.bool_` here.\n",
            "Deprecated in NumPy 1.20; for more details and guidance: https://numpy.org/devdocs/release/1.20.0-notes.html#deprecations\n",
            "  a = np.array([[True, True], [False, False]], dtype=np.bool)\n"
          ]
        }
      ]
    },
    {
      "cell_type": "code",
      "metadata": {
        "id": "ek_KJjLDabUn",
        "colab": {
          "base_uri": "https://localhost:8080/"
        },
        "outputId": "89a0ab3a-f199-4b0e-d7ad-45fbfe88bcf8"
      },
      "source": [
        "# view\n",
        "a = np.array([[True, True], [False, False]], dtype=np.bool)\n",
        "b = a.view(np.bool)\n",
        "b[0, 0] = 0\n",
        "npinfo(\"original\", a, a)\n",
        "npinfo(\"view\", a, b)"
      ],
      "execution_count": 77,
      "outputs": [
        {
          "output_type": "stream",
          "name": "stdout",
          "text": [
            "name    : original\n",
            "share   : True\n",
            "data    : [[False, True], [False, False]]\n",
            "ndim    : 2\n",
            "shape   : (2, 2)\n",
            "dtype   : bool\n",
            "------------------------------\n",
            "name    : view\n",
            "share   : True\n",
            "data    : [[False, True], [False, False]]\n",
            "ndim    : 2\n",
            "shape   : (2, 2)\n",
            "dtype   : bool\n",
            "------------------------------\n"
          ]
        },
        {
          "output_type": "stream",
          "name": "stderr",
          "text": [
            "<ipython-input-77-9a99409e6f5e>:2: DeprecationWarning: `np.bool` is a deprecated alias for the builtin `bool`. To silence this warning, use `bool` by itself. Doing this will not modify any behavior and is safe. If you specifically wanted the numpy scalar type, use `np.bool_` here.\n",
            "Deprecated in NumPy 1.20; for more details and guidance: https://numpy.org/devdocs/release/1.20.0-notes.html#deprecations\n",
            "  a = np.array([[True, True], [False, False]], dtype=np.bool)\n",
            "<ipython-input-77-9a99409e6f5e>:3: DeprecationWarning: `np.bool` is a deprecated alias for the builtin `bool`. To silence this warning, use `bool` by itself. Doing this will not modify any behavior and is safe. If you specifically wanted the numpy scalar type, use `np.bool_` here.\n",
            "Deprecated in NumPy 1.20; for more details and guidance: https://numpy.org/devdocs/release/1.20.0-notes.html#deprecations\n",
            "  b = a.view(np.bool)\n"
          ]
        }
      ]
    },
    {
      "cell_type": "markdown",
      "metadata": {
        "id": "9KmFk1z7bK2q"
      },
      "source": [
        "###5.ndarray 변환 (reshape, flatten)"
      ]
    },
    {
      "cell_type": "code",
      "metadata": {
        "id": "zgGKTwcGbS3R"
      },
      "source": [
        "import sys\n",
        "def npinfo(n, a, x):\n",
        "    print(\"name   :\", n)\n",
        "    print(\"share  :\", np.may_share_memory(a, x))\n",
        "    print(\"data   :\", x.tolist())\n",
        "    print(\"shape  :\", x.shape)\n",
        "    print(\"dtype  :\", x.dtype)\n",
        "    print(\"stride :\", x.strides)\n",
        "    print(\"addr   :\", x.__array_interface__['data'][0])\n",
        "    print(\"sizeof :\", sys.getsizeof(x))\n",
        "    print(\"-\" * 30)"
      ],
      "execution_count": 92,
      "outputs": []
    },
    {
      "cell_type": "code",
      "metadata": {
        "id": "FuKowQEnbaD1",
        "colab": {
          "base_uri": "https://localhost:8080/"
        },
        "outputId": "964a457c-24e1-44dc-87ca-ec7e3aaf1454"
      },
      "source": [
        "#np.reshape(a, newshape: int or tuple or ints, order='C')\n",
        "#arr.reshape(newshape: int or tuple or ints, order='C')\n",
        "a = np.array([[1,2,3],[4,5,6]]) #2행 3열\n",
        "b = a.reshape(1, -1) # (1,6) 행 / 열의 갯수 6을 잘못입력하면 에러나니까 -1로 하면 max 자동계산함\n",
        "npinfo(\"a.reshape(1, -1)\", a, b)"
      ],
      "execution_count": 93,
      "outputs": [
        {
          "output_type": "stream",
          "name": "stdout",
          "text": [
            "name   : a.reshape(1, -1)\n",
            "share  : True\n",
            "data   : [[1, 2, 3, 4, 5, 6]]\n",
            "shape  : (1, 6)\n",
            "dtype  : int64\n",
            "stride : (48, 8)\n",
            "addr   : 95931799319888\n",
            "sizeof : 128\n",
            "------------------------------\n"
          ]
        }
      ]
    },
    {
      "cell_type": "code",
      "metadata": {
        "id": "9C5cNwsBgG-a",
        "colab": {
          "base_uri": "https://localhost:8080/"
        },
        "outputId": "0873f643-1c93-4772-c11a-78e83b2478e6"
      },
      "source": [
        "b = a.reshape(-1)     #1차원으로 변경되고 사이즈는 알아서 계산해줘 (6,)\n",
        "# b[0] = 100\n",
        "npinfo(\"a.reshape(-1)\", a, b)\n",
        "# a.tolist(), b.tolist()"
      ],
      "execution_count": 94,
      "outputs": [
        {
          "output_type": "stream",
          "name": "stdout",
          "text": [
            "name   : a.reshape(-1)\n",
            "share  : True\n",
            "data   : [1, 2, 3, 4, 5, 6]\n",
            "shape  : (6,)\n",
            "dtype  : int64\n",
            "stride : (8,)\n",
            "addr   : 95931799319888\n",
            "sizeof : 112\n",
            "------------------------------\n"
          ]
        }
      ]
    },
    {
      "cell_type": "code",
      "metadata": {
        "id": "lYYJy0iUgV46",
        "colab": {
          "base_uri": "https://localhost:8080/"
        },
        "outputId": "57081703-bac5-4458-a46a-758bd0f9173c"
      },
      "source": [
        "b = a.reshape(-1, 1)       # 행을 -1로 하면 알아서 해줘 열은 1개짜리가 필요해\n",
        "npinfo(\"a.reshape(-1, 1)\", a, b)"
      ],
      "execution_count": 96,
      "outputs": [
        {
          "output_type": "stream",
          "name": "stdout",
          "text": [
            "name   : a.reshape(-1, 1)\n",
            "share  : True\n",
            "data   : [[1], [2], [3], [4], [5], [6]]\n",
            "shape  : (6, 1)\n",
            "dtype  : int64\n",
            "stride : (8, 8)\n",
            "addr   : 95931799319888\n",
            "sizeof : 128\n",
            "------------------------------\n"
          ]
        }
      ]
    },
    {
      "cell_type": "code",
      "metadata": {
        "id": "__d4C9AsgD8i",
        "colab": {
          "base_uri": "https://localhost:8080/"
        },
        "outputId": "ad9ff206-7c9e-4897-c527-70ab90fe474f"
      },
      "source": [
        "b = a.reshape(-1, 1, order='F')   #포트란 하면 순서가 완전히 바뀜 (열 순서 세소로 읽음)\n",
        "npinfo(\"a.reshape(-1, 1, order='F')\", a, b)"
      ],
      "execution_count": 98,
      "outputs": [
        {
          "output_type": "stream",
          "name": "stdout",
          "text": [
            "name   : a.reshape(-1, 1, order='F')\n",
            "share  : False\n",
            "data   : [[1], [4], [2], [5], [3], [6]]\n",
            "shape  : (6, 1)\n",
            "dtype  : int64\n",
            "stride : (8, 48)\n",
            "addr   : 95931798818784\n",
            "sizeof : 128\n",
            "------------------------------\n"
          ]
        }
      ]
    },
    {
      "cell_type": "code",
      "metadata": {
        "id": "9zqDDVlOmy71",
        "colab": {
          "base_uri": "https://localhost:8080/"
        },
        "outputId": "f386064a-b8ee-4b72-9d97-0708df8afb3b"
      },
      "source": [
        "a = np.array([[1,2,3], [4, 5, 6]], dtype=np.int32)\n",
        "print(a)"
      ],
      "execution_count": 99,
      "outputs": [
        {
          "output_type": "stream",
          "name": "stdout",
          "text": [
            "[[1 2 3]\n",
            " [4 5 6]]\n"
          ]
        }
      ]
    },
    {
      "cell_type": "code",
      "metadata": {
        "id": "GLsPy4mtglYe",
        "colab": {
          "base_uri": "https://localhost:8080/"
        },
        "outputId": "203ccdae-b8a5-46dd-89b4-cf97fe223dde"
      },
      "source": [
        "b = a.flatten()                 # 1차원으로 만들어주는거 차이점은 메모리를 카피해서 쓴거 VIEW가 아님 !!!\n",
        "b[0] = 100\n",
        "npinfo(\"a.flatten()\", a, b)\n",
        "a.tolist(), b.tolist()"
      ],
      "execution_count": 101,
      "outputs": [
        {
          "output_type": "stream",
          "name": "stdout",
          "text": [
            "name   : a.flatten()\n",
            "share  : False\n",
            "data   : [100, 2, 3, 4, 5, 6]\n",
            "shape  : (6,)\n",
            "dtype  : int32\n",
            "stride : (4,)\n",
            "addr   : 95931806668704\n",
            "sizeof : 136\n",
            "------------------------------\n"
          ]
        },
        {
          "output_type": "execute_result",
          "data": {
            "text/plain": [
              "([[1, 2, 3], [4, 5, 6]], [100, 2, 3, 4, 5, 6])"
            ]
          },
          "metadata": {},
          "execution_count": 101
        }
      ]
    },
    {
      "cell_type": "code",
      "metadata": {
        "id": "41sZIwcRbaQq",
        "colab": {
          "base_uri": "https://localhost:8080/"
        },
        "outputId": "712fe9ad-cc0c-4211-9850-b2cf8bc39199"
      },
      "source": [
        "a = np.array([[1,2,3],[4,5,6]])\n",
        "b = a.astype(np.int32)\n",
        "npinfo(\"a.astype(np.int32)\", a, b)"
      ],
      "execution_count": 54,
      "outputs": [
        {
          "output_type": "stream",
          "name": "stdout",
          "text": [
            "name   : a.astype(np.int32)\n",
            "share  : False\n",
            "data   : [[1, 2, 3], [4, 5, 6]]\n",
            "shape  : (2, 3)\n",
            "dtype  : int32\n",
            "stride : (12, 4)\n",
            "addr   : 95931791525888\n",
            "sizeof : 152\n",
            "------------------------------\n"
          ]
        }
      ]
    },
    {
      "cell_type": "markdown",
      "metadata": {
        "id": "2n6eI33UErrP"
      },
      "source": [
        "### 6.ndarray의 연산"
      ]
    },
    {
      "cell_type": "markdown",
      "metadata": {
        "id": "rncb5OyWbKyj"
      },
      "source": [
        "#### 1) ndarray 산술연산"
      ]
    },
    {
      "cell_type": "code",
      "metadata": {
        "id": "xJhvY3vAr4xK"
      },
      "source": [
        "import numpy as np"
      ],
      "execution_count": 102,
      "outputs": []
    },
    {
      "cell_type": "code",
      "metadata": {
        "id": "Y97R6B34b5E4",
        "colab": {
          "base_uri": "https://localhost:8080/"
        },
        "outputId": "9f1d516b-9773-4d9a-bb55-714b958b5184"
      },
      "source": [
        "#element-wise 방식으로 연산이 이루어짐\n",
        "a = np.array( range(1, 7) )\n",
        "b = np.array( range(7, 13) )\n",
        "print('a =', a)\n",
        "print('b =', b)\n",
        "print('a +  b =', a + b)\n",
        "print('b -  a =', b - a)\n",
        "print('a *  b =', a * b)\n",
        "print('b /  a =', b / a)\n",
        "print('b // a =', b // a)\n",
        "print('b %  a =', b % a)\n",
        "print('a +  2 =', a + 2)\n",
        "print('b -  1 =', b - 1)"
      ],
      "execution_count": 60,
      "outputs": [
        {
          "output_type": "stream",
          "name": "stdout",
          "text": [
            "a = [1 2 3 4 5 6]\n",
            "b = [ 7  8  9 10 11 12]\n",
            "a +  b = [ 8 10 12 14 16 18]\n",
            "b -  a = [6 6 6 6 6 6]\n",
            "a *  b = [ 7 16 27 40 55 72]\n",
            "b /  a = [7.  4.  3.  2.5 2.2 2. ]\n",
            "b // a = [7 4 3 2 2 2]\n",
            "b %  a = [0 0 0 2 1 0]\n",
            "a +  2 = [3 4 5 6 7 8]\n",
            "b -  1 = [ 6  7  8  9 10 11]\n"
          ]
        }
      ]
    },
    {
      "cell_type": "code",
      "metadata": {
        "id": "0Fby-36PcqHj",
        "colab": {
          "base_uri": "https://localhost:8080/"
        },
        "outputId": "e902dd42-76fe-4c98-c818-d1b2f977c786"
      },
      "source": [
        "# to_list()를 사용하여 list로 변환\n",
        "a = np.array(range(1, 7)).reshape(2,3)\n",
        "b = np.array(range(7, 13)).reshape(2,3)\n",
        "print(a)\n",
        "print(type(a.tolist()))\n",
        "print('a =', a.tolist())\n",
        "print('b =', b.tolist())\n",
        "print('a + b =', (a + b).tolist())\n",
        "print('a * b =', (a * b).tolist())"
      ],
      "execution_count": 107,
      "outputs": [
        {
          "output_type": "stream",
          "name": "stdout",
          "text": [
            "[[1 2 3]\n",
            " [4 5 6]]\n",
            "<class 'list'>\n",
            "a = [[1, 2, 3], [4, 5, 6]]\n",
            "b = [[7, 8, 9], [10, 11, 12]]\n",
            "a + b = [[8, 10, 12], [14, 16, 18]]\n",
            "a * b = [[7, 16, 27], [40, 55, 72]]\n"
          ]
        }
      ]
    },
    {
      "cell_type": "code",
      "metadata": {
        "id": "oqOIqJHNcThO"
      },
      "source": [
        "# # element-wise 성립하지 않음 (broadcasting안됨)\n",
        "# a = np.array( [1, 3, 5] )\n",
        "# c = np.array( [7, 9] )\n",
        "# print('a + c =', a + c)"
      ],
      "execution_count": 62,
      "outputs": []
    },
    {
      "cell_type": "markdown",
      "metadata": {
        "id": "U25cgbTwco-C"
      },
      "source": [
        "#### 2) ndarray broadcasting\n",
        "- broadcasting 이란?\n",
        "- element-wise가 성립하지 않는 경우 두 배열의 크기를 동일하게 만들어 연산가능하도록 하는 것  \n"
      ]
    },
    {
      "cell_type": "markdown",
      "source": [
        "![설명.png](data:image/png;base64,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)"
      ],
      "metadata": {
        "id": "McVcs3tFJKXg"
      }
    },
    {
      "cell_type": "code",
      "metadata": {
        "id": "kRUYezcZdQ-r"
      },
      "source": [
        "def printary(m, *a):\n",
        "    print(m)\n",
        "    for x in a:\n",
        "        print(x.shape)\n",
        "        print(x.tolist())"
      ],
      "execution_count": 114,
      "outputs": []
    },
    {
      "cell_type": "code",
      "metadata": {
        "id": "9sRnJPvNdE9j",
        "colab": {
          "base_uri": "https://localhost:8080/"
        },
        "outputId": "ca7944de-6af4-411a-a92c-fa72fba3fdb0"
      },
      "source": [
        "a=np.array([[1, 1, 1], [1, 1, 1]])\n",
        "b=np.array([[1, 1, 1], [2, 2, 2]])\n",
        "c=np.array([[1],[2],[3]])\n",
        "d=np.array([3, 3, 3])\n",
        "print(a.shape, b.shape, c.shape, d.shape)"
      ],
      "execution_count": 109,
      "outputs": [
        {
          "output_type": "stream",
          "name": "stdout",
          "text": [
            "(2, 3) (2, 3) (3, 1) (3,)\n"
          ]
        }
      ]
    },
    {
      "cell_type": "code",
      "metadata": {
        "id": "DHtZTnzP1VWA",
        "outputId": "f9306522-e072-4074-971d-921dbdc4e201",
        "colab": {
          "base_uri": "https://localhost:8080/"
        }
      },
      "source": [
        "printary(\"a+b\", a, b, a+b)"
      ],
      "execution_count": 110,
      "outputs": [
        {
          "output_type": "stream",
          "name": "stdout",
          "text": [
            "a+b\n",
            "(2, 3)\n",
            "[[1, 1, 1], [1, 1, 1]]\n",
            "(2, 3)\n",
            "[[1, 1, 1], [2, 2, 2]]\n",
            "(2, 3)\n",
            "[[2, 2, 2], [3, 3, 3]]\n"
          ]
        }
      ]
    },
    {
      "cell_type": "code",
      "metadata": {
        "id": "6PMwuRomyMGw",
        "outputId": "9f124514-5561-43a9-a9ff-4605368fe7a6",
        "colab": {
          "base_uri": "https://localhost:8080/"
        }
      },
      "source": [
        "printary(\"a+d\", a, d, a+d)"
      ],
      "execution_count": 111,
      "outputs": [
        {
          "output_type": "stream",
          "name": "stdout",
          "text": [
            "a+d\n",
            "(2, 3)\n",
            "[[1, 1, 1], [1, 1, 1]]\n",
            "(3,)\n",
            "[3, 3, 3]\n",
            "(2, 3)\n",
            "[[4, 4, 4], [4, 4, 4]]\n"
          ]
        }
      ]
    },
    {
      "cell_type": "code",
      "metadata": {
        "id": "mrX4qr92yOKh",
        "outputId": "69fe322d-74d2-4bac-8da0-7f8096bbb3fc",
        "colab": {
          "base_uri": "https://localhost:8080/"
        }
      },
      "source": [
        "printary(\"b+4\", b, b+4)"
      ],
      "execution_count": 112,
      "outputs": [
        {
          "output_type": "stream",
          "name": "stdout",
          "text": [
            "b+4\n",
            "(2, 3)\n",
            "[[1, 1, 1], [2, 2, 2]]\n",
            "(2, 3)\n",
            "[[5, 5, 5], [6, 6, 6]]\n"
          ]
        }
      ]
    },
    {
      "cell_type": "code",
      "metadata": {
        "id": "RQQB4oV0yPZw",
        "outputId": "73551008-0e1e-4613-8495-33f7c463fbae",
        "colab": {
          "base_uri": "https://localhost:8080/"
        }
      },
      "source": [
        "printary(\"c+d\", c, d, c+d)"
      ],
      "execution_count": 113,
      "outputs": [
        {
          "output_type": "stream",
          "name": "stdout",
          "text": [
            "c+d\n",
            "(3, 1)\n",
            "[[1], [2], [3]]\n",
            "(3,)\n",
            "[3, 3, 3]\n",
            "(3, 3)\n",
            "[[4, 4, 4], [5, 5, 5], [6, 6, 6]]\n"
          ]
        }
      ]
    },
    {
      "cell_type": "markdown",
      "metadata": {
        "id": "A6NNlRJgdDT4"
      },
      "source": [
        "#### 3) ndarray 비교연산\n",
        "- ==, !=, >, <, >=, <= : 결과 True/False\n",
        "- element-wise 방식 (필요시 broadcasting)"
      ]
    },
    {
      "cell_type": "markdown",
      "metadata": {
        "id": "Smy63qRa2hLz"
      },
      "source": [
        "##### 다음의 연산 결과의 shape을 예측해 보세요!"
      ]
    },
    {
      "cell_type": "code",
      "metadata": {
        "id": "JC2rNffmeTLd",
        "colab": {
          "base_uri": "https://localhost:8080/"
        },
        "outputId": "4c325913-5536-4d09-edc8-c8400568462e"
      },
      "source": [
        "a = np.array([[1],[2],[3],[4],[5]])  # (5, 1)\n",
        "b = np.array([1, 2, 3])              # (3,)\n",
        "c = a + b\n",
        "print(a.shape, b.shape, c.shape)"
      ],
      "execution_count": 121,
      "outputs": [
        {
          "output_type": "stream",
          "name": "stdout",
          "text": [
            "(5, 1) (3,) (5, 3)\n"
          ]
        }
      ]
    },
    {
      "cell_type": "code",
      "metadata": {
        "id": "f1Z4jYU57I8j",
        "outputId": "2e4691bf-4076-4652-a2f3-0c85f6106ba8",
        "colab": {
          "base_uri": "https://localhost:8080/"
        }
      },
      "source": [
        "print(a)\n",
        "print(b)\n",
        "print(c)"
      ],
      "execution_count": 122,
      "outputs": [
        {
          "output_type": "stream",
          "name": "stdout",
          "text": [
            "[[1]\n",
            " [2]\n",
            " [3]\n",
            " [4]\n",
            " [5]]\n",
            "[1 2 3]\n",
            "[[2 3 4]\n",
            " [3 4 5]\n",
            " [4 5 6]\n",
            " [5 6 7]\n",
            " [6 7 8]]\n"
          ]
        }
      ]
    },
    {
      "cell_type": "code",
      "metadata": {
        "id": "5z1hB-aMeF17"
      },
      "source": [
        "def printary(*a):\n",
        "    for x in a:\n",
        "        print(x.tolist(), end='\\n')\n",
        "        print(\"-\" * 45)"
      ],
      "execution_count": 123,
      "outputs": []
    },
    {
      "cell_type": "code",
      "metadata": {
        "id": "JVEmyaw_eoR0",
        "colab": {
          "base_uri": "https://localhost:8080/"
        },
        "outputId": "c104aed8-af31-400d-8cec-e681484fa5f4"
      },
      "source": [
        "a=np.array([[1, 2, 3], [4, 5, 6]])\n",
        "b=np.array([[1, 3, 5], [2, 4, 6]])\n",
        "printary(a==b, a!=b)"
      ],
      "execution_count": 124,
      "outputs": [
        {
          "output_type": "stream",
          "name": "stdout",
          "text": [
            "[[True, False, False], [False, False, True]]\n",
            "---------------------------------------------\n",
            "[[False, True, True], [True, True, False]]\n",
            "---------------------------------------------\n"
          ]
        }
      ]
    },
    {
      "cell_type": "code",
      "metadata": {
        "id": "GvZLoBW0jro3",
        "colab": {
          "base_uri": "https://localhost:8080/"
        },
        "outputId": "13892520-e121-4a1c-b5f5-490d2eb4628c"
      },
      "source": [
        "a=np.array([[1, 2, 3], [4, 5, 6]])\n",
        "b=np.array([[1, 3, 5], [2, 4, 6]])\n",
        "printary(a>b, a<b)"
      ],
      "execution_count": 125,
      "outputs": [
        {
          "output_type": "stream",
          "name": "stdout",
          "text": [
            "[[False, False, False], [True, True, False]]\n",
            "---------------------------------------------\n",
            "[[False, True, True], [False, False, False]]\n",
            "---------------------------------------------\n"
          ]
        }
      ]
    },
    {
      "cell_type": "code",
      "metadata": {
        "id": "x_TTDqlzjrzt",
        "colab": {
          "base_uri": "https://localhost:8080/"
        },
        "outputId": "8c439fb5-082c-49bc-c0be-7c6df2b50596"
      },
      "source": [
        "a=np.array([[1, 2, 3], [4, 5, 6]])  # (2, 3)\n",
        "b=np.array([[1, 3, 5], [2, 4, 6]])\n",
        "c=np.array([4, 3, 3])   # (3,)  # [[4, 3, 3], [4, 3, 3]]\n",
        "printary(a>=c, b<=3)    #  3    # [[3, 3, 3],[3, 3, 3]]"
      ],
      "execution_count": 126,
      "outputs": [
        {
          "output_type": "stream",
          "name": "stdout",
          "text": [
            "[[False, False, True], [True, True, True]]\n",
            "---------------------------------------------\n",
            "[[True, True, False], [True, False, False]]\n",
            "---------------------------------------------\n"
          ]
        }
      ]
    },
    {
      "cell_type": "markdown",
      "metadata": {
        "id": "kPifu3Xmp7AA"
      },
      "source": [
        "### 7.Indexing"
      ]
    },
    {
      "cell_type": "markdown",
      "metadata": {
        "id": "Rie2JA229Sfq"
      },
      "source": [
        "#### 1) ndarray indexing 이해\n",
        "- indexing을 사용하여 배열에서 원하는 데이터를 참조/변경한다\n",
        "- 배열 이름 뒤에 [ ] 를 사용하여 참조/변경 할 데이터를 표기한다\n",
        "- 결과는 원본의 view이며, view에 대입을 통해 데이터 변경이 가능함\n",
        "- ndim >= 2 인 경우 [ ] 내부에 콤마(,)를 사용하여 차원(축, axes, axis)을 구분함\n",
        "- 콤마(,) 사이에는 참조/변경하기 원하는 데이터에 대한 표기(indexer)가 포함되어야 함\n",
        "- axis=0을 제외한 차원에 대한 표기 생략가능, 생략은 “모두 선택”의 의미를 갖음\n"
      ]
    },
    {
      "cell_type": "code",
      "metadata": {
        "id": "kCS4p0CHkZ_q"
      },
      "source": [
        "# single element indexer의 사용 - 데이터 참조\n",
        "import numpy as np\n",
        "a = np.arange(9).reshape(3,3)\n",
        "\n",
        "print(a)\n",
        "print(a[1])\n",
        "print(a[0, 2])\n",
        "print(a[0][2])"
      ],
      "execution_count": null,
      "outputs": []
    },
    {
      "cell_type": "code",
      "metadata": {
        "id": "wyg2utW4_m2O"
      },
      "source": [
        "# single element indexer의 사용 - 데이터 변경\n",
        "a[0,2] = 100\n",
        "print(a)\n",
        "a[1][2] = 200\n",
        "print(a)\n",
        "a[2] = [10, '20', 3.67]\n",
        "print(a)"
      ],
      "execution_count": null,
      "outputs": []
    },
    {
      "cell_type": "markdown",
      "metadata": {
        "id": "dLjp_acwkUUu"
      },
      "source": [
        "#### 2) Indexer의 종류\n",
        "- single element index\n",
        "- slicing & stride index\n",
        "- index arrays\n",
        "- boolean array\n",
        "- structural indexing tools"
      ]
    },
    {
      "cell_type": "code",
      "metadata": {
        "id": "yRL7086hmAcL"
      },
      "source": [
        "a = np.arange(5)\n",
        "\n",
        "print(a[1], type(a[1]))\n",
        "print(a[[1]], type(a[[1]]))\n",
        "print(a[1:4:2])\n",
        "print(a[[0,1,-1]])\n",
        "print(a[[True, False, False, True, False]])\n",
        "print(a[..., np.newaxis])"
      ],
      "execution_count": null,
      "outputs": []
    },
    {
      "cell_type": "markdown",
      "metadata": {
        "id": "tuoBLTrEEzeH"
      },
      "source": [
        "#### 3) list와 ndarray의 indexing 차이점\n",
        "- ndarray의 indexing의 반환 값은 원본을 참조하는 view이다\n",
        "- 새로운 ndarray로 처리하려면 copy 함수나 메서드를 사용해야 한다\n"
      ]
    },
    {
      "cell_type": "code",
      "metadata": {
        "id": "bUmFZFihmRh1"
      },
      "source": [
        "# list of python\n",
        "x = [[1, 2, 3], [6, 7, 8]]\n",
        "z = x[:]  #  [id(x[0])][id(x[1])]\n",
        "z[0] = [10, 20, 30]\n",
        "z[1][0] = 100\n",
        "print(x, z, sep='\\n')\n",
        "print(id(x[1]), id(z[1]))\n",
        "print(\"-\"*25)"
      ],
      "execution_count": null,
      "outputs": []
    },
    {
      "cell_type": "code",
      "metadata": {
        "id": "G6xDf24omZAE"
      },
      "source": [
        "# ndarray of numpy\n",
        "x = np.array([[1, 2, 3], [6, 7, 8]])\n",
        "z = x[1:]\n",
        "z[0] = [10, 20, 30]\n",
        "print(x, z, sep='\\n')\n",
        "print(np.may_share_memory(x,z))\n",
        "print(x.__array_interface__['data'][0], z.__array_interface__['data'][0], x.dtype)"
      ],
      "execution_count": null,
      "outputs": []
    },
    {
      "cell_type": "markdown",
      "metadata": {
        "id": "QB0sFPXZF2j8"
      },
      "source": [
        "#### 4) single element index 사용\n",
        "- single element index의 사용이 1개 증가 할 때마다 배열의 차원(ndim)은 1씩 감소한다\n",
        "- axis=0부터 뒤쪽으로 콤마(,)를 기준으로 index를 나열함\n",
        "- index 표기되지 않은 차원은 “모두 선택”\n",
        "- 예) 2차원 배열에서 a[n]은 n번 행 전체를 반환 함\n",
        "- indexing을 연속으로 진행한 것과 콤마(,) 나열은 같은 결과\n",
        "- 예) a[n][m] == a[n, m]"
      ]
    },
    {
      "cell_type": "code",
      "metadata": {
        "id": "EiylIGGmHudh"
      },
      "source": [
        "a = np.arange(12).reshape(2,3,2)\n",
        "print(a.tolist())\n",
        "print(a[0].tolist())\n",
        "print(a[0, 0].tolist())\n",
        "print(a[0, 0, 0])"
      ],
      "execution_count": null,
      "outputs": []
    },
    {
      "cell_type": "markdown",
      "metadata": {
        "id": "L4X6ffq7I7KT"
      },
      "source": [
        "#### 5) slice & stride\n",
        "- arr[n:m:k]\n",
        "- n 부터 m-1 까지, k 씩 건너 뛴 위치 요소로 구성된 배열 반환\n",
        "- n, m, k는 생략 가능하며 생략시 n = 0, m = len(arr), k=1\n",
        "- slice & stride의 사용이 증가해도 배열의 차원(ndim)은 변화 없음\n",
        "- axis=0부터 뒤쪽으로 콤마(,)를 기준으로 indexer를 나열함\n",
        "- indexer가 표기되지 않은 axis는 “모두 선택”\n",
        "-  :  특정 axis에 대해 모든 범위를 의미함\n",
        "-  ... 나머지 모든 차원에 대해 모든 범위를 의미함\n"
      ]
    },
    {
      "cell_type": "code",
      "metadata": {
        "id": "4_MA6d_WJqjK"
      },
      "source": [
        "# 차원(ndim)의 변화는 없음\n",
        "a = np.arange(12).reshape(2,3,2)\n",
        "print(a.tolist())\n",
        "print(a[1:].tolist())\n",
        "print(a[..., ::-1].tolist())\n",
        "print(a[:, ::-1].tolist())"
      ],
      "execution_count": null,
      "outputs": []
    },
    {
      "cell_type": "markdown",
      "metadata": {
        "id": "B5nZYLYJLAZq"
      },
      "source": [
        "#### 6) index arrays\n",
        "- index_array은 dtype=int인 배열로, index 번호를 element로 갖는 배열임\n",
        "- index_array 의  형태에 따라 반환되는 배열의 ndim이 원본과 동일하거나, 증가, 감소 될 수 있음"
      ]
    },
    {
      "cell_type": "markdown",
      "metadata": {
        "id": "qmWwBXSORFOK"
      },
      "source": [
        "##### 1차원\n",
        "- index_array 에 포함된 index 항목들로 구성된 배열 반환\n",
        "- a[ [0, 2, 4] ] 는 a에서 0,2,4 번 index 항목으로 구성된 배열 반환\n",
        "- index_array 사용시 주의 사항\n",
        "   - index 중복 사용 가능\n",
        "   - 2차원 이상의 index_array 는 ndarray 를 사용( [[[ -> 사용 불가능)\n"
      ]
    },
    {
      "cell_type": "code",
      "metadata": {
        "id": "x1aHrW0nRLN-"
      },
      "source": [
        "import numpy as np\n",
        "a = np.arange(5) # [0 1 2 3 4]\n",
        "print( a[0], a[[0]], type(a[[0]]))\n",
        "print( a[[-1, 0, 1, 0]])\n",
        "#print( a[[[0, 2, 4], [1, 3, 3]]])\n",
        "print( a[np.array([[0, 2, 4], [1, 3, 3]])])"
      ],
      "execution_count": null,
      "outputs": []
    },
    {
      "cell_type": "markdown",
      "metadata": {
        "id": "R1aLK959XtzO"
      },
      "source": [
        "##### 2차원\n",
        "- idx_a1, idx_a2의 같은 위치 항들이 묶여 위치 정보가 됨\n",
        "- 다차원이 되면 콤마(,)로 나열하며 동일 길이로 구성되어야 함\n",
        "- a가 2D array인 경우\n",
        "  - a[ [0,0,1],[2,3,1] ] 은 [0,2], [0,3], [1,1] 항을 배열로 반환\n",
        "  - a[ [0, 1], 0] : a[ [0,0], [1,0] ] (broadcasting)  [0, 0], [1, 0] 항 반환"
      ]
    },
    {
      "cell_type": "code",
      "metadata": {
        "id": "nKOqXUc7X0nf"
      },
      "source": [
        "a = np.arange(12).reshape(3, -1)\n",
        "print(a)\n",
        "print(a[[0,0,1], [2,3,1]])\n",
        "print(a[[0,1], 0])"
      ],
      "execution_count": null,
      "outputs": []
    },
    {
      "cell_type": "markdown",
      "metadata": {
        "id": "bpNmyrSSUZzX"
      },
      "source": [
        "#### Mission 먼저 수행해보고 비교하세요\n",
        " (수행 전)\n"
      ]
    },
    {
      "cell_type": "code",
      "metadata": {
        "id": "u8jK6JGNUNsz"
      },
      "source": [
        "# index array를 사용하여 3차원 배열에서 원하는 항목만 1D로 indexing\n",
        "a = np.arange(12).reshape(2, 3, -1)\n",
        "print(a)\n",
        "# [0, 3, 8, 10]"
      ],
      "execution_count": null,
      "outputs": []
    },
    {
      "cell_type": "code",
      "metadata": {
        "id": "-Ebv7M8dUQpI"
      },
      "source": [
        "# index array를 사용하여 2차원 배열에서 원하는 항목만 2D로 indexing\n",
        "a = np.arange(12).reshape(4, -1)\n",
        "print(a)\n",
        "# [[1, 3], [8, 9]]"
      ],
      "execution_count": null,
      "outputs": []
    },
    {
      "cell_type": "markdown",
      "metadata": {
        "id": "AB9VmNw9Eb-R"
      },
      "source": [
        "#### Mission 먼저 수행해보고 비교하세요 (수행 후,Solution)\n",
        "\n"
      ]
    },
    {
      "cell_type": "code",
      "metadata": {
        "id": "Z2Adik77-jsI"
      },
      "source": [
        "# index array를 사용하여 3차원 배열에서 원하는 항목만 1D로 indexing\n",
        "a = np.arange(12).reshape(2, 3, -1)\n",
        "print(a)\n",
        "# [0, 3, 8, 10]\n",
        "# [0,0,0],[0,1,1],[1,1,0],[1,2,0]\n",
        "print(a[[0,0,1,1],[0,1,1,2],[0,1,0,0]])"
      ],
      "execution_count": null,
      "outputs": []
    },
    {
      "cell_type": "code",
      "metadata": {
        "id": "Q4VDfV5KAdr5"
      },
      "source": [
        "# index array를 사용하여 2차원 배열에서 원하는 항목만 2D로 indexing\n",
        "a = np.arange(12).reshape(4, -1)\n",
        "print(a)\n",
        "# [[1, 3], [8, 9]]\n",
        "# [0,1],[1,0],[2,2],[3,0]  - single element index\n",
        "print(a[np.array([[0,1],[2,3]]), np.array([[1,0],[2,0]])])"
      ],
      "execution_count": null,
      "outputs": []
    },
    {
      "cell_type": "markdown",
      "metadata": {
        "id": "8pSPklV4kUXn"
      },
      "source": [
        "#### 7) boolean array의 사용\n",
        "- boolean_array는 원본배열과 동일한  shape의 dtype=bool인 배열\n",
        "- 원본에서 boolean_array가 True인 위치의 것만을 대상으로하는 배열이 반환됨\n",
        "- boolean_array는 ndarray, list 등으로 작성하거나, 연산의 결과 일 수 있음\n",
        "- 주로 결과가 True/False인 비교연산식을 사용하여 작성함\n",
        "- 복잡한 조건은 np.logical_and(), np.logical_or(), np.logical_not() 활용\n",
        "- boolean array와 &, |,~ 연산자를 사용하여 조건작성 가능 (괄호 사용 중요)\n"
      ]
    },
    {
      "cell_type": "code",
      "metadata": {
        "id": "1iG9zEk5bi5X"
      },
      "source": [
        "a = np.arange(1, 7) # [1 2 3 4 5 6]\n",
        "b = np.array([True, False, True, True, False, True])\n",
        "print(a[b])\n",
        "print(a%2)\n",
        "print(a%2==0)\n",
        "print(a[a%2==0]) # boolean array  (dtype = bool)\n",
        "print(a[a%2])    # index array (dtype = int)"
      ],
      "execution_count": null,
      "outputs": []
    },
    {
      "cell_type": "code",
      "metadata": {
        "id": "_NRXM5PQm9cj"
      },
      "source": [
        "def printary(w1, w2, ary, *, sep='|'):\n",
        "    for x in ary.split(sep):\n",
        "        x = x.strip()\n",
        "        t = eval(x)\n",
        "        print(f'%-{w1}s %-{w2}s %s' % (x, t.shape, t.tolist()))\n",
        "    print(\"-\" * 30)"
      ],
      "execution_count": null,
      "outputs": []
    },
    {
      "cell_type": "code",
      "metadata": {
        "id": "spGWahBGkZgt"
      },
      "source": [
        "  a = np.random.permutation(10)\n",
        "  printary(10, 7, \"a | a[a%2==0]\")\n",
        "  printary(10, 7, \"a[a>=4]\")\n"
      ],
      "execution_count": null,
      "outputs": []
    },
    {
      "cell_type": "code",
      "metadata": {
        "id": "Qet-XpuVaHhh"
      },
      "source": [
        "  printary(32, 7, \"a[np.logical_or(a%3==0, a%2==0)]\")\n",
        "  printary(32, 7, \"a[(a%3==0) | (a%2==0)]\", sep='+')"
      ],
      "execution_count": null,
      "outputs": []
    },
    {
      "cell_type": "code",
      "metadata": {
        "id": "3OtW_UW2aJv3"
      },
      "source": [
        "  printary(32, 7, \"a[np.logical_and(a>=6,a<=9)]\")\n",
        "  printary(32, 7, \"a[(a>=6) & (a<=9)]\")"
      ],
      "execution_count": null,
      "outputs": []
    },
    {
      "cell_type": "code",
      "metadata": {
        "id": "PcJtb5LlaMJx"
      },
      "source": [
        "  printary(32, 7, \"a[np.logical_not(a%3==0)]\")\n",
        "  printary(32, 7, \"a[~(a%3==0)]\")"
      ],
      "execution_count": null,
      "outputs": []
    },
    {
      "cell_type": "code",
      "metadata": {
        "id": "rGSoKeTMdu1I"
      },
      "source": [
        "print(a)\n",
        "a[a%3==0] = -1\n",
        "print(a)"
      ],
      "execution_count": null,
      "outputs": []
    },
    {
      "cell_type": "markdown",
      "metadata": {
        "id": "wSm7zi7VeCrF"
      },
      "source": [
        "#### 8) combine index & slice"
      ]
    },
    {
      "cell_type": "code",
      "metadata": {
        "id": "rHpZQdvEeLhC"
      },
      "source": [
        "b = np.arange(1, 12, 2).reshape(3, -1)\n",
        "print(b)"
      ],
      "execution_count": null,
      "outputs": []
    },
    {
      "cell_type": "code",
      "metadata": {
        "id": "JUC5T8IVfSim"
      },
      "source": [
        "b[:,[-1]], b[:,[-1]].tolist()"
      ],
      "execution_count": null,
      "outputs": []
    },
    {
      "cell_type": "code",
      "metadata": {
        "id": "xiE2FePgg70a"
      },
      "source": [
        "b[:, -1].tolist()"
      ],
      "execution_count": null,
      "outputs": []
    },
    {
      "cell_type": "code",
      "metadata": {
        "id": "_knuf09Zhnms"
      },
      "source": [
        "c = np.arange(12).reshape(2,3,2)\n",
        "print(c)"
      ],
      "execution_count": null,
      "outputs": []
    },
    {
      "cell_type": "code",
      "metadata": {
        "id": "JAdkD2L4hOm4"
      },
      "source": [
        "c[:, -1]"
      ],
      "execution_count": null,
      "outputs": []
    },
    {
      "cell_type": "code",
      "metadata": {
        "id": "AMjVqAM9hhbz"
      },
      "source": [
        "c[..., -1]"
      ],
      "execution_count": null,
      "outputs": []
    },
    {
      "cell_type": "code",
      "metadata": {
        "id": "T1zqIWa_h03G"
      },
      "source": [
        "c[..., :1]"
      ],
      "execution_count": null,
      "outputs": []
    },
    {
      "cell_type": "code",
      "metadata": {
        "id": "bq87bvMCh4eJ"
      },
      "source": [
        "c[[0], 1]"
      ],
      "execution_count": null,
      "outputs": []
    },
    {
      "cell_type": "code",
      "metadata": {
        "id": "Z6zHqMXdibWj"
      },
      "source": [
        "c[[0], 1:]"
      ],
      "execution_count": null,
      "outputs": []
    },
    {
      "cell_type": "markdown",
      "metadata": {
        "id": "WiYCE_GfihTg"
      },
      "source": [
        "#### 9) indexing 활용"
      ]
    },
    {
      "cell_type": "code",
      "metadata": {
        "id": "HBC9VaLJipg6"
      },
      "source": [
        "aN3 = np.array([[0,-1,4],[-2,3,2],[1,-2,-1],[-4,3,-2]])\n",
        "print(aN3)"
      ],
      "execution_count": null,
      "outputs": []
    },
    {
      "cell_type": "code",
      "metadata": {
        "id": "mCURA7lskn64"
      },
      "source": [
        "aN3[:, [1, 0, 2]]"
      ],
      "execution_count": null,
      "outputs": []
    },
    {
      "cell_type": "code",
      "metadata": {
        "id": "1HsqLU6WcrZY"
      },
      "source": [
        "aN3[aN3[:,0] < 0]"
      ],
      "execution_count": null,
      "outputs": []
    },
    {
      "cell_type": "code",
      "metadata": {
        "id": "gIl1mJPacvDB"
      },
      "source": [
        "aN3[aN3[:,0]<0, 1:]"
      ],
      "execution_count": null,
      "outputs": []
    },
    {
      "cell_type": "code",
      "metadata": {
        "id": "9rkFYuuwkZQZ"
      },
      "source": [
        "a3N = np.array([[x] * 5 for x in range(3)])\n",
        "print(a3N)"
      ],
      "execution_count": null,
      "outputs": []
    },
    {
      "cell_type": "code",
      "metadata": {
        "id": "iI9KD6SmcUuX"
      },
      "source": [
        "a3N[[0,2,1], :]"
      ],
      "execution_count": null,
      "outputs": []
    },
    {
      "cell_type": "code",
      "metadata": {
        "id": "H7tmj9xnkcwl"
      },
      "source": [
        "aN  = np.arange(3)\n",
        "print(aN)"
      ],
      "execution_count": null,
      "outputs": []
    },
    {
      "cell_type": "code",
      "metadata": {
        "id": "l_ZhZ7T4cfCM"
      },
      "source": [
        "aN.reshape(-1, 1)"
      ],
      "execution_count": null,
      "outputs": []
    },
    {
      "cell_type": "code",
      "metadata": {
        "id": "wXnHzm6ScZQP"
      },
      "source": [
        "aN[:, None]"
      ],
      "execution_count": null,
      "outputs": []
    },
    {
      "cell_type": "code",
      "metadata": {
        "id": "A3Y8x9ECcbPz"
      },
      "source": [
        "aN[:, np.newaxis]"
      ],
      "execution_count": null,
      "outputs": []
    },
    {
      "cell_type": "markdown",
      "metadata": {
        "id": "5ObDK5YentuF"
      },
      "source": [
        "### 8.numpy의 유용한 필수 함수\n"
      ]
    },
    {
      "cell_type": "markdown",
      "metadata": {
        "id": "LZsF7WC7l-sN"
      },
      "source": [
        "#### 1) 정수값과 관련 있는 난수 발생\n",
        "- np.random.seed(정수)\n",
        "- 정수가 같으면 항상 같은 난수가 발생됨\n",
        "- np.random.randint(start, stop, size=shape)\n",
        "- start ~ stop-1까지의 정수로 구성된 size 모양의 난수 배열 반환\n",
        "- 1차원인 경우 size에 정수 사용가능\n"
      ]
    },
    {
      "cell_type": "code",
      "metadata": {
        "id": "o3JRelH1mQuV"
      },
      "source": [
        "import numpy as np\n",
        "#np.random.seed(101)\n",
        "x = np.random.randint(1, 5, size=(3,4))\n",
        "print(x)"
      ],
      "execution_count": null,
      "outputs": []
    },
    {
      "cell_type": "markdown",
      "metadata": {
        "id": "41qStLtMmsHp"
      },
      "source": [
        "#### 2) ndarray 객체 순서 무작위 변경\n",
        "- np.random.shuffle(ndarray객체)\n",
        "- None 반환"
      ]
    },
    {
      "cell_type": "code",
      "metadata": {
        "id": "fw9SKoklm6Th"
      },
      "source": [
        "a = np.arange(10)\n",
        "a = np.array([[1,2,3],[4,5,6],[3,4,5],[7,1,5]])\n",
        "np.random.shuffle(a)\n",
        "print(a)\n",
        "\n",
        "a = np.random.permutation(10)\n",
        "print(a)"
      ],
      "execution_count": null,
      "outputs": []
    },
    {
      "cell_type": "markdown",
      "metadata": {
        "id": "n64MfSyDnodg"
      },
      "source": [
        "#### 3) 중복 값 제거된 배열 생성\n",
        "- np.unique(a, return_counts=False)\n",
        "- a 가 다차원 배열인 경우 1차원으로 변경되어 작업 됨\n",
        "- return_counts 인수를 True로 설정하면 각 데이터 개수의 ndarray 배열도 생성하여 반환\n",
        "- (중복 값 제거된 배열, 각 데이터 개수의 배열) tuple 반환\n"
      ]
    },
    {
      "cell_type": "code",
      "metadata": {
        "id": "i_6F_MNknnWR"
      },
      "source": [
        "np.random.seed(1000)\n",
        "a = np.random.randint(1, 100000, size = 200000)\n",
        "b = a.reshape(1000, -1)"
      ],
      "execution_count": null,
      "outputs": []
    },
    {
      "cell_type": "code",
      "metadata": {
        "id": "cNUB9nCpH7yR"
      },
      "source": [
        "x1 = np.unique(a)\n",
        "x2 = np.unique(b)\n",
        "print(f'size={len(x1)}', x1, sep='\\n')\n",
        "print(f'size={len(x2)}', x2, sep='\\n')"
      ],
      "execution_count": null,
      "outputs": []
    },
    {
      "cell_type": "code",
      "metadata": {
        "id": "wftjr7qDIzCp"
      },
      "source": [
        "c = [ [1,2,3], [1,2,3], [1,3,5] ]\n",
        "d = [ [1,2,3], [1,2,3], [1,3] ]\n",
        "x3 = np.unique(c)\n",
        "x4 = np.unique(d)\n",
        "print(x3, x4, sep='\\n')"
      ],
      "execution_count": null,
      "outputs": []
    },
    {
      "cell_type": "code",
      "metadata": {
        "id": "KwmWEuEIJcQj"
      },
      "source": [
        "x5, rcount = np.unique(c, return_counts=True)\n",
        "print(x5, rcount, sep='\\n')"
      ],
      "execution_count": null,
      "outputs": []
    },
    {
      "cell_type": "markdown",
      "metadata": {
        "id": "Go_yT2K2KR-M"
      },
      "source": [
        "#### 4) 배열에서 가장 큰/작은 요소의 index 번호\n",
        "- np.argmax(a)\n",
        "- np.argmin(a)\n",
        "- index는 0번부터 시작\n",
        "- 2차원 이상인 경우 1차원으로 변경하여 작업 진행됨"
      ]
    },
    {
      "cell_type": "code",
      "metadata": {
        "id": "QRlz8iWfLC3Z"
      },
      "source": [
        "np.random.seed(1234)\n",
        "x1 = np.random.randint(100, size = 12)\n",
        "x2 = x1.reshape(2,3,2)\n",
        "print(x1, x2, sep='\\n')"
      ],
      "execution_count": null,
      "outputs": []
    },
    {
      "cell_type": "code",
      "metadata": {
        "id": "MIKYZm-GLQbW"
      },
      "source": [
        "print(f'x1 - argmax : {np.argmax(x1)}, argmin : {np.argmin(x1)}')\n",
        "print(f'x2 - argmax : {np.argmax(x2)}, argmin : {np.argmin(x2)}')"
      ],
      "execution_count": null,
      "outputs": []
    },
    {
      "cell_type": "markdown",
      "metadata": {
        "id": "-UeeRdmEMWlW"
      },
      "source": [
        "#### 5) min보다 작은 값을 min으로 max보다 큰 값을 max로 변경\n",
        "- np.clip(a, min, max, out=None)\n",
        "- 새로운 배열 반환, out에 a와 동일 크기의 배열 지정 가능\n",
        "- out 사용 시, out에 지정된 배열로도 결과가 반환됨 (배열내용변경)\n"
      ]
    },
    {
      "cell_type": "code",
      "metadata": {
        "id": "_V-KcxlxN9q6"
      },
      "source": [
        "np.random.seed(150)\n",
        "x = np.random.randint(30, 60, 10)\n",
        "y1 = np.clip(x, 35, 55)\n",
        "print(x, y1, sep='\\n')"
      ],
      "execution_count": null,
      "outputs": []
    },
    {
      "cell_type": "code",
      "metadata": {
        "id": "YM1PR59-OqRK"
      },
      "source": [
        "y2 = np.clip(x, 40, 50, out=x)\n",
        "print(x, y2,sep='\\n')"
      ],
      "execution_count": null,
      "outputs": []
    },
    {
      "cell_type": "markdown",
      "metadata": {
        "id": "OUtgDfMWpd70"
      },
      "source": [
        "#### 6) 조건에 따른 데이터 선택\n",
        "- np.where( 조건 [, c, d])\n",
        "- 조건 : 참, 거짓(=0, False, None)으로 이루어진\n",
        "- 조건 배열이 참일 때 c, 거짓일 때 d를 취한 배열 반환 (c, d는 스칼라 가능)\n",
        "- c, d 생략 시 조건이 참인 것에 대한 index 배열(ndarray) tuple 반환 (ndarray, ndarray, ...) 의 형태\n",
        "- 조건 배열의 ndim == len(tuple)\n",
        "- 복잡한 조건은  ~, &, |, 및 np.logical_and(), np.logical_or(), logical_not() 사용\n",
        "\n"
      ]
    },
    {
      "cell_type": "code",
      "metadata": {
        "id": "cSZ0NdnXoC0C"
      },
      "source": [
        "a = np.array([4, 8, 2, 5])\n",
        "b = np.array([3, 9, 1, 7])\n",
        "print(np.where(True, a, b))\n",
        "print(np.where(False, a, b))"
      ],
      "execution_count": null,
      "outputs": []
    },
    {
      "cell_type": "code",
      "metadata": {
        "id": "2ULEpZwFSd8L"
      },
      "source": [
        "print(np.where([[True, False], [False, True]],\n",
        "                [[3, 4], [5, 7]],\n",
        "                [[1, 2], [9, 2]]))"
      ],
      "execution_count": null,
      "outputs": []
    },
    {
      "cell_type": "code",
      "metadata": {
        "id": "-Qf9s2yCmdcO"
      },
      "source": [
        "print(np.where([[True, True], [False, True]]))"
      ],
      "execution_count": null,
      "outputs": []
    },
    {
      "cell_type": "markdown",
      "metadata": {
        "id": "NI5VdQA-hj4B"
      },
      "source": [
        "#### 7) 통계값 함수들\n",
        "- axis를 0 또는 1로 지정할 경우\n",
        "- axis=0은 index 방향으로 연산, axis=1은 column 방향으로 연산한 값을 배열로 반환함\n",
        "- ndarray에서 동일 동작을 하는 동일 이름의 메서드 있음 (arr.mean())\n"
      ]
    },
    {
      "cell_type": "code",
      "metadata": {
        "id": "Ey91LwR3nyUC"
      },
      "source": [
        "def printary(*a):\n",
        "    for x in a:\n",
        "        print(x)\n",
        "    print(\"-\" * 30)"
      ],
      "execution_count": null,
      "outputs": []
    },
    {
      "cell_type": "code",
      "metadata": {
        "id": "r7crpADdnz0V"
      },
      "source": [
        "# np.sum(a, axis=None)\n",
        "# 배열내 모든 원소의 합을 스칼라 값으로 반환\n",
        "a = np.arange(1,7).reshape((2,3))\n",
        "b = a.sum()\n",
        "c = a.sum(axis = 0)\n",
        "d = a.sum(axis = 1)\n",
        "printary(a, b, c, d)"
      ],
      "execution_count": null,
      "outputs": []
    },
    {
      "cell_type": "code",
      "metadata": {
        "id": "tjZOEVTzn6vL"
      },
      "source": [
        "# np.mean(a, axis=None)\n",
        "# 배열내 모든 원소의 평균을 스칼라 값으로 반환\n",
        "# median - 중앙값\n",
        "a = np.arange(1,7).reshape((2,3))\n",
        "b = a.mean()\n",
        "c = a.mean(axis = 0)\n",
        "d = a.mean(axis = 1)\n",
        "printary(a, b, c, d)"
      ],
      "execution_count": null,
      "outputs": []
    },
    {
      "cell_type": "code",
      "metadata": {
        "id": "WcdXXjNyn9bC"
      },
      "source": [
        "# np.std(a, axis=None)\n",
        "# 배열내 모든 원소의 분산을 스칼라 값으로 반환\n",
        "a = np.arange(1,7).reshape((2,3))\n",
        "b = a.std()\n",
        "c = a.std(axis = 0)\n",
        "d = a.std(axis = 1)\n",
        "printary(a, b, c, d)"
      ],
      "execution_count": null,
      "outputs": []
    },
    {
      "cell_type": "code",
      "metadata": {
        "id": "xjMd_bR0n_KM"
      },
      "source": [
        "# np.any(a, axis=None)\n",
        "# 배열의 원소들 중 참이 하나라도 있으면 True 반환\n",
        "# np.all(a, axis=None)\n",
        "# 배열의 모든 원소가 참인 경우 True 반환\n",
        "\n",
        "a = np.arange(6).reshape((2,3))\n",
        "a = np.arange(1, 6)\n",
        "printary(a.any(), a.all())"
      ],
      "execution_count": null,
      "outputs": []
    },
    {
      "cell_type": "markdown",
      "metadata": {
        "id": "qlWiOHmboTMe"
      },
      "source": [
        "### 9.ndarray 파일입출력"
      ]
    },
    {
      "cell_type": "code",
      "metadata": {
        "id": "NXloRXtYoX5E"
      },
      "source": [
        "def printary(*a):\n",
        "    for x in a:\n",
        "        print(x)\n",
        "    print(\"-\" * 30)"
      ],
      "execution_count": null,
      "outputs": []
    },
    {
      "cell_type": "code",
      "metadata": {
        "id": "_EA_itRFobHr"
      },
      "source": [
        "import numpy as np\n",
        "a1 = np.arange(20000)\n",
        "a2 = np.random.randint(1, 10000, size=(5, 1000))\n",
        "a3 = np.ones((1, 2, 1000), dtype=np.int32)\n",
        "path=\"/content/drive/My Drive/00_numpy/\"\n",
        "\n",
        "np.save(path+\"a1.npy\", a1)\n",
        "r = np.load(path+\"a1.npy\")\n",
        "printary(r)"
      ],
      "execution_count": null,
      "outputs": []
    },
    {
      "cell_type": "code",
      "metadata": {
        "id": "6VZfgc2Xomsr"
      },
      "source": [
        "#203.84KB\n",
        "np.savez(path+\"an.npz\", A1=a1, A2=a2, A3=a3)\n",
        "r = np.load(path+\"an.npz\")\n",
        "printary(r['A1'], r['A2'], r['A3'])"
      ],
      "execution_count": null,
      "outputs": []
    },
    {
      "cell_type": "code",
      "metadata": {
        "id": "2l2Nxv5vorUk"
      },
      "source": [
        "#42.59KB\n",
        "np.savez_compressed(path+\"c_an.npz\", A1=a1, A2=a2, A3=a3)\n",
        "r = np.load(path+\"c_an.npz\")\n",
        "printary(r['A1'], r['A2'], r['A3'])"
      ],
      "execution_count": null,
      "outputs": []
    },
    {
      "cell_type": "code",
      "metadata": {
        "id": "wkD73reEo5Ez"
      },
      "source": [
        "np.savetxt(path+\"a1.txt\", a1, fmt='%d')\n",
        "r = np.loadtxt(path+\"a1.txt\", dtype=np.int32)\n",
        "printary(r)"
      ],
      "execution_count": null,
      "outputs": []
    },
    {
      "cell_type": "markdown",
      "metadata": {
        "id": "hyN3fdoDpYjO"
      },
      "source": [
        "### 10.numpy의 nan, inf처리\n"
      ]
    },
    {
      "cell_type": "code",
      "metadata": {
        "id": "m_XLrrz_pfhS"
      },
      "source": [
        "print(np.nan, type(np.nan))\n",
        "print(np.inf, type(np.inf))"
      ],
      "execution_count": null,
      "outputs": []
    },
    {
      "cell_type": "code",
      "metadata": {
        "id": "G2xhtDfxpkVj"
      },
      "source": [
        "a = np.array([np.nan, 1, 0, -1, np.inf], dtype=np.float16)\n",
        "print(np.isnan(np.nan), np.isnan(a))\n",
        "print(np.isinf(np.inf), np.isinf(a))\n",
        "x = np.nan\n",
        "print(np.nan == x)\n",
        "print(np.nan is x)"
      ],
      "execution_count": null,
      "outputs": []
    },
    {
      "cell_type": "code",
      "metadata": {
        "id": "yr3IZQT8pnFL"
      },
      "source": [
        "def printary(*a):\n",
        "    for x in a:\n",
        "        print(x)\n",
        "    print('-'*30)"
      ],
      "execution_count": null,
      "outputs": []
    },
    {
      "cell_type": "code",
      "metadata": {
        "id": "6AxoxUQ4pqjD"
      },
      "source": [
        "a = np.array([1, np.nan, np.nan, np.inf, 2, np.inf], dtype=np.float16)\n",
        "b = np.array([1, np.inf, 1, 1, np.inf, np.nan], dtype=np.float16)\n",
        "printary(a, b, a+b, a+2)\n",
        "printary(a, a.sum(), a.cumsum(), a.all())\n",
        "printary(np.sqrt(a), np.unique(a), np.unique(b))"
      ],
      "execution_count": null,
      "outputs": []
    }
  ]
}