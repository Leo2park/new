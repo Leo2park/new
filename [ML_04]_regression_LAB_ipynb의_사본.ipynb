{
  "nbformat": 4,
  "nbformat_minor": 0,
  "metadata": {
    "colab": {
      "provenance": [],
      "collapsed_sections": [
        "xzQnxTtRzEOt",
        "B6XGaNVd0mPO",
        "36fJ58Dx8xD9",
        "Pz-fldKF9ECT"
      ],
      "include_colab_link": true
    },
    "kernelspec": {
      "name": "python3",
      "display_name": "Python 3"
    },
    "language_info": {
      "name": "python"
    }
  },
  "cells": [
    {
      "cell_type": "markdown",
      "metadata": {
        "id": "view-in-github",
        "colab_type": "text"
      },
      "source": [
        "<a href=\"https://colab.research.google.com/github/Leo2park/new/blob/main/%5BML_04%5D_regression_LAB_ipynb%EC%9D%98_%EC%82%AC%EB%B3%B8.ipynb\" target=\"_parent\"><img src=\"https://colab.research.google.com/assets/colab-badge.svg\" alt=\"Open In Colab\"/></a>"
      ]
    },
    {
      "cell_type": "markdown",
      "source": [
        "## 0.회귀 분석의 종류"
      ],
      "metadata": {
        "id": "nOeUlKKLLxRN"
      }
    },
    {
      "cell_type": "code",
      "source": [
        "# target(Y)\n",
        "# 분류 분석 : 범주형, 혈액형(A, B, O, AB), 성별(F, M), 숫자(0, 1, ~ 9)\n",
        "# 회귀 분석 : 연속형, 판매량(0, 1, 2, 3, ... 100, 101, 102..)\n",
        "#    주어진 값보다 더 큰값, 작은값, 사잇값 등이 있을 수 있는 것"
      ],
      "metadata": {
        "id": "5r0BFGGqvwLE"
      },
      "execution_count": 10,
      "outputs": []
    },
    {
      "cell_type": "markdown",
      "source": [
        "### Simple Linear Regression\n",
        "- 단순 선형 회귀\n",
        "- $y = \\beta_{0} + \\beta_{1} x + \\epsilon$\n",
        "- 하나의 X 값을 가지고 Y를 예측하는 것"
      ],
      "metadata": {
        "id": "0SmBkBDbL031"
      }
    },
    {
      "cell_type": "markdown",
      "source": [
        "### Multiple Linear Regression\n",
        "- 다중 회귀\n",
        "- $y = \\beta_{0} + \\beta_{1} x_{1} + \\beta_{2} x_{2} + ...+ \\epsilon$\n",
        "- 여러 개의 X 값을 가지고 Y를 예측하는 것"
      ],
      "metadata": {
        "id": "R5PVzyAeL6un"
      }
    },
    {
      "cell_type": "markdown",
      "source": [
        "### Polynomial Regression\n",
        "- 다항 회귀\n",
        "- 비선형 데이터 집합을 모델링 할 때 사용\n",
        "- 곡선의 다항식 선을 사용함\n",
        "- 과대적합이 나타나기 쉬움\n",
        "- $y = \\beta_{0} + \\beta_{1} x_{1} + \\beta_{2} x_{2} + \\beta_{3} x_{1}^{2} + \\beta_{4} x_{2}^{2} ...+ \\epsilon$\n",
        "- X를 다항식으로 변경하여 모델링의 데이터로 사용함"
      ],
      "metadata": {
        "id": "9CZ9M41nL-5I"
      }
    },
    {
      "cell_type": "markdown",
      "source": [
        "### Ridge, Lasso Regression\n",
        "- 독립변수들 간에 높은 상관 관계가 있는 경우 규제화 (regularization)를 적용해 모델의 복잡도를 줄임\n",
        "- Ridge : 계수값을 0 에 가깝게 만들지만 0 이 되지 않음\n",
        "- Lasso : 계수 값을 0 이 되게 함으로써 그에 해당하는 특성을 제외"
      ],
      "metadata": {
        "id": "zx-dq65DUIfs"
      }
    },
    {
      "cell_type": "markdown",
      "metadata": {
        "id": "VG7KimE0VTzs"
      },
      "source": [
        "## 1.데이터 만들기 "
      ]
    },
    {
      "cell_type": "markdown",
      "source": [
        "### 1-1.함수 만들기"
      ],
      "metadata": {
        "id": "B_hB6UnY-k1S"
      }
    },
    {
      "cell_type": "code",
      "source": [
        "# X : 키, 몸무게 \n",
        "# Y : BMI 예측"
      ],
      "metadata": {
        "id": "j6x5Ww3j7q7h"
      },
      "execution_count": 11,
      "outputs": []
    },
    {
      "cell_type": "code",
      "metadata": {
        "id": "CzNm04uTVTDP"
      },
      "source": [
        "import pandas as pd\n",
        "import numpy as np"
      ],
      "execution_count": 75,
      "outputs": []
    },
    {
      "cell_type": "code",
      "source": [
        "# https://rfriend.tistory.com/284\n",
        "# https://rfriend.tistory.com/352\n",
        "# https://namu.wiki/w/%ED%82%A4(%EC%8B%A0%EC%B2%B4)\n",
        "# https://123dok.co/document/eqodvrmz-%EC%A7%80%EC%97%AD%EC%A0%81-%EA%B1%B4%EA%B0%95%EB%B6%88%ED%8F%89%EB%93%B1%EA%B3%BC-%EA%B0%9C%EC%9D%B8-%EB%B0%8F-%EC%A7%80%EC%97%AD%EC%88%98%EC%A4%80%EC%9D%98-%EA%B1%B4%EA%B0%95%EA%B2%B0%EC%A0%95%EC%9A%94%EC%9D%B8.html"
      ],
      "metadata": {
        "id": "U2mbeD62Nwqa"
      },
      "execution_count": 13,
      "outputs": []
    },
    {
      "cell_type": "code",
      "source": [
        "# bmi = 몸무게(kg) ÷ (신장(m) × 신장(m))\n",
        "# 한국 표준 데이터 생성\n",
        "# seedno : 랜덤 수 발생 관련\n",
        "# size : sample의 개수\n",
        "# startno : ID의 시작 번호\n",
        "# outlier : 이상치 비율, 0.01 => 100개 정상데이터 1개 이상치\n",
        "def make_sample(seedno, size, startno=0, outlier=0):\n",
        "    np.random.seed(seedno)\n",
        "    outlier_len = int(size * outlier)\n",
        "    sizeh = size // 2\n",
        "    hm = np.random.normal(loc=175, scale=5.3, size = sizeh+1 if size % 2 else sizeh).round(1)\n",
        "    hw = np.random.normal(loc=162, scale=5.2, size = sizeh).round(1)\n",
        "    h = np.concatenate([hm, hw])\n",
        "    h /= 100  # 단위를 m로 변경\n",
        "    bmi = np.random.normal(loc=23, scale=4, size=len(h))\n",
        "    w = (h * h * bmi).round(1)\n",
        "    bmi = (w / (h*h)).round(2)\n",
        "    h *= 100  # 단위를 cm로 변경\n",
        "    data = np.column_stack([h, w, bmi])\n",
        "    \n",
        "    # 이상치 데이터 추가\n",
        "    if outlier_len != 0 :\n",
        "        data_outlier = make_outlier(seedno, outlier_len)\n",
        "        print(data_outlier, data_outlier.shape, sep='\\n')\n",
        "        data = np.concatenate([data, data_outlier])\n",
        "    \n",
        "    # ID를 포함한 DataFrame 생성 및 반환\n",
        "    data = pd.DataFrame(data, columns = ['height','weight', 'BMI'])\n",
        "    data = data.sample(frac=1)\n",
        "    data.insert(0, 'ID', np.arange(startno, startno + len(data),dtype='int'))\n",
        "    return data\n"
      ],
      "metadata": {
        "id": "xMzzkc_YNZyJ"
      },
      "execution_count": 14,
      "outputs": []
    },
    {
      "cell_type": "code",
      "source": [
        "1# bmi = #몸무게(kg) ÷ (신장(m) × 신장(m))\n",
        "# 키, 몸무게가 매우 작거나 큰 데이터 생성\n",
        "# seedno : 랜덤 수 발생 관련\n",
        "# size : sample의 개수\n",
        "def make_outlier(seedno, size):\n",
        "    np.random.seed(seedno)\n",
        "    sizeh = size//2\n",
        "    hlow = np.random.normal(loc=120, scale = 5.3, size = sizeh+1 if size % 2 else sizeh).round(1)\n",
        "    hhigh = np.random.normal(loc=220, scale = 5.2, size = sizeh).round(1)\n",
        "    h = np.concatenate([hlow,hhigh])\n",
        "    h /= 100\n",
        "    bmi = np.random.normal(loc=23, scale=10, size=len(h))\n",
        "    w = (h * h * bmi).round(1)\n",
        "    bmi = (w / (h*h)).round(2)\n",
        "    h *= 100\n",
        "    return np.column_stack([h,w,bmi])"
      ],
      "metadata": {
        "id": "7nc4nEEulMpA"
      },
      "execution_count": 15,
      "outputs": []
    },
    {
      "cell_type": "code",
      "source": [
        "df = make_outlier(1234,5)\n",
        "df"
      ],
      "metadata": {
        "colab": {
          "base_uri": "https://localhost:8080/"
        },
        "id": "3Vdq-x-ba3Ca",
        "outputId": "3a703cee-4a73-4bf4-9f60-2354e6e1b943"
      },
      "execution_count": 16,
      "outputs": [
        {
          "output_type": "execute_result",
          "data": {
            "text/plain": [
              "array([[122.5 ,  47.8 ,  31.85],\n",
              "       [113.7 ,  40.8 ,  31.56],\n",
              "       [127.6 ,  27.1 ,  16.64],\n",
              "       [218.4 , 110.5 ,  23.17],\n",
              "       [216.3 ,   2.7 ,   0.58]])"
            ]
          },
          "metadata": {},
          "execution_count": 16
        }
      ]
    },
    {
      "cell_type": "code",
      "source": [
        "# make_sample 사용연습\n",
        "df = make_sample(1234, 100, outlier = 0.05)\n",
        "df.shape\n",
        "# df.head(5)\n",
        "# df.describe()"
      ],
      "metadata": {
        "id": "8SsqBLlNXFbO",
        "colab": {
          "base_uri": "https://localhost:8080/"
        },
        "outputId": "42549a9d-7e4c-422e-83a5-05586db20121"
      },
      "execution_count": 17,
      "outputs": [
        {
          "output_type": "stream",
          "name": "stdout",
          "text": [
            "[[122.5   47.8   31.85]\n",
            " [113.7   40.8   31.56]\n",
            " [127.6   27.1   16.64]\n",
            " [218.4  110.5   23.17]\n",
            " [216.3    2.7    0.58]]\n",
            "(5, 3)\n"
          ]
        },
        {
          "output_type": "execute_result",
          "data": {
            "text/plain": [
              "(105, 4)"
            ]
          },
          "metadata": {},
          "execution_count": 17
        }
      ]
    },
    {
      "cell_type": "markdown",
      "source": [
        "### 1-2.train, test 데이터"
      ],
      "metadata": {
        "id": "ButSv7wB-pdu"
      }
    },
    {
      "cell_type": "code",
      "source": [
        "# [1] train, test 데이터 생성 및 파일로 저장하기\n",
        "train = make_sample(1234, 100)\n",
        "test = make_sample(1,100, len(train))\n",
        "Xfeature = ['ID','height','weight']\n",
        "Yfeature = ['ID','BMI']\n",
        "Xtrain = train[Xfeature]\n",
        "Ytrain = train[Yfeature]\n",
        "Xtest = test[Xfeature]\n",
        "Ytest = test[Yfeature] # 실제 시험에서는 주지 않음\n",
        "Xtrain.to_csv('X_train.csv',index = False)\n",
        "Ytrain.to_csv('Y_train.csv',index = False)\n",
        "Xtest.to_csv('X_test.csv',index = False)\n",
        "Ytest.to_csv('Y_test.csv',index = False) # 실제 시험에서는 주지 않음"
      ],
      "metadata": {
        "id": "E7UyUiz_awlU"
      },
      "execution_count": 18,
      "outputs": []
    },
    {
      "cell_type": "code",
      "source": [
        "# [2] 각 데이터를 파일에서 읽어오기\n",
        "# X_use, X_submission, Y, Y_hidden 이름 사용\n",
        "X_use = pd.read_csv('X_train.csv')\n",
        "X_submission = pd.read_csv('X_test.csv')\n",
        "Y = pd.read_csv('Y_train.csv')\n",
        "Y_hidden = pd.read_csv('Y_test.csv')"
      ],
      "metadata": {
        "id": "qlhzi2locSr2"
      },
      "execution_count": 19,
      "outputs": []
    },
    {
      "cell_type": "code",
      "source": [
        "# X_use, Y를 합쳐서 dfXY 생성\n",
        "dfXY = pd.merge(X_use, Y)\n",
        "dfXY.shape\n"
      ],
      "metadata": {
        "id": "1q3oe7ET_gNE",
        "colab": {
          "base_uri": "https://localhost:8080/"
        },
        "outputId": "3bd35fe0-2c31-4a54-db89-0dd19cca8e0a"
      },
      "execution_count": 20,
      "outputs": [
        {
          "output_type": "execute_result",
          "data": {
            "text/plain": [
              "(100, 4)"
            ]
          },
          "metadata": {},
          "execution_count": 20
        }
      ]
    },
    {
      "cell_type": "code",
      "source": [
        "# dfXY의 상관 관계 확인\n",
        "dfXY.corr()"
      ],
      "metadata": {
        "id": "YvEyrP4a_tXX",
        "colab": {
          "base_uri": "https://localhost:8080/",
          "height": 175
        },
        "outputId": "8a7cab6c-a985-4132-fedc-a95faacb9d69"
      },
      "execution_count": 21,
      "outputs": [
        {
          "output_type": "execute_result",
          "data": {
            "text/plain": [
              "              ID    height    weight       BMI\n",
              "ID      1.000000  0.140693 -0.022971 -0.108252\n",
              "height  0.140693  1.000000  0.604015  0.178859\n",
              "weight -0.022971  0.604015  1.000000  0.887726\n",
              "BMI    -0.108252  0.178859  0.887726  1.000000"
            ],
            "text/html": [
              "\n",
              "  <div id=\"df-fb5e4d9a-f5be-435b-92a9-01f794f99599\">\n",
              "    <div class=\"colab-df-container\">\n",
              "      <div>\n",
              "<style scoped>\n",
              "    .dataframe tbody tr th:only-of-type {\n",
              "        vertical-align: middle;\n",
              "    }\n",
              "\n",
              "    .dataframe tbody tr th {\n",
              "        vertical-align: top;\n",
              "    }\n",
              "\n",
              "    .dataframe thead th {\n",
              "        text-align: right;\n",
              "    }\n",
              "</style>\n",
              "<table border=\"1\" class=\"dataframe\">\n",
              "  <thead>\n",
              "    <tr style=\"text-align: right;\">\n",
              "      <th></th>\n",
              "      <th>ID</th>\n",
              "      <th>height</th>\n",
              "      <th>weight</th>\n",
              "      <th>BMI</th>\n",
              "    </tr>\n",
              "  </thead>\n",
              "  <tbody>\n",
              "    <tr>\n",
              "      <th>ID</th>\n",
              "      <td>1.000000</td>\n",
              "      <td>0.140693</td>\n",
              "      <td>-0.022971</td>\n",
              "      <td>-0.108252</td>\n",
              "    </tr>\n",
              "    <tr>\n",
              "      <th>height</th>\n",
              "      <td>0.140693</td>\n",
              "      <td>1.000000</td>\n",
              "      <td>0.604015</td>\n",
              "      <td>0.178859</td>\n",
              "    </tr>\n",
              "    <tr>\n",
              "      <th>weight</th>\n",
              "      <td>-0.022971</td>\n",
              "      <td>0.604015</td>\n",
              "      <td>1.000000</td>\n",
              "      <td>0.887726</td>\n",
              "    </tr>\n",
              "    <tr>\n",
              "      <th>BMI</th>\n",
              "      <td>-0.108252</td>\n",
              "      <td>0.178859</td>\n",
              "      <td>0.887726</td>\n",
              "      <td>1.000000</td>\n",
              "    </tr>\n",
              "  </tbody>\n",
              "</table>\n",
              "</div>\n",
              "      <button class=\"colab-df-convert\" onclick=\"convertToInteractive('df-fb5e4d9a-f5be-435b-92a9-01f794f99599')\"\n",
              "              title=\"Convert this dataframe to an interactive table.\"\n",
              "              style=\"display:none;\">\n",
              "        \n",
              "  <svg xmlns=\"http://www.w3.org/2000/svg\" height=\"24px\"viewBox=\"0 0 24 24\"\n",
              "       width=\"24px\">\n",
              "    <path d=\"M0 0h24v24H0V0z\" fill=\"none\"/>\n",
              "    <path d=\"M18.56 5.44l.94 2.06.94-2.06 2.06-.94-2.06-.94-.94-2.06-.94 2.06-2.06.94zm-11 1L8.5 8.5l.94-2.06 2.06-.94-2.06-.94L8.5 2.5l-.94 2.06-2.06.94zm10 10l.94 2.06.94-2.06 2.06-.94-2.06-.94-.94-2.06-.94 2.06-2.06.94z\"/><path d=\"M17.41 7.96l-1.37-1.37c-.4-.4-.92-.59-1.43-.59-.52 0-1.04.2-1.43.59L10.3 9.45l-7.72 7.72c-.78.78-.78 2.05 0 2.83L4 21.41c.39.39.9.59 1.41.59.51 0 1.02-.2 1.41-.59l7.78-7.78 2.81-2.81c.8-.78.8-2.07 0-2.86zM5.41 20L4 18.59l7.72-7.72 1.47 1.35L5.41 20z\"/>\n",
              "  </svg>\n",
              "      </button>\n",
              "      \n",
              "  <style>\n",
              "    .colab-df-container {\n",
              "      display:flex;\n",
              "      flex-wrap:wrap;\n",
              "      gap: 12px;\n",
              "    }\n",
              "\n",
              "    .colab-df-convert {\n",
              "      background-color: #E8F0FE;\n",
              "      border: none;\n",
              "      border-radius: 50%;\n",
              "      cursor: pointer;\n",
              "      display: none;\n",
              "      fill: #1967D2;\n",
              "      height: 32px;\n",
              "      padding: 0 0 0 0;\n",
              "      width: 32px;\n",
              "    }\n",
              "\n",
              "    .colab-df-convert:hover {\n",
              "      background-color: #E2EBFA;\n",
              "      box-shadow: 0px 1px 2px rgba(60, 64, 67, 0.3), 0px 1px 3px 1px rgba(60, 64, 67, 0.15);\n",
              "      fill: #174EA6;\n",
              "    }\n",
              "\n",
              "    [theme=dark] .colab-df-convert {\n",
              "      background-color: #3B4455;\n",
              "      fill: #D2E3FC;\n",
              "    }\n",
              "\n",
              "    [theme=dark] .colab-df-convert:hover {\n",
              "      background-color: #434B5C;\n",
              "      box-shadow: 0px 1px 3px 1px rgba(0, 0, 0, 0.15);\n",
              "      filter: drop-shadow(0px 1px 2px rgba(0, 0, 0, 0.3));\n",
              "      fill: #FFFFFF;\n",
              "    }\n",
              "  </style>\n",
              "\n",
              "      <script>\n",
              "        const buttonEl =\n",
              "          document.querySelector('#df-fb5e4d9a-f5be-435b-92a9-01f794f99599 button.colab-df-convert');\n",
              "        buttonEl.style.display =\n",
              "          google.colab.kernel.accessAllowed ? 'block' : 'none';\n",
              "\n",
              "        async function convertToInteractive(key) {\n",
              "          const element = document.querySelector('#df-fb5e4d9a-f5be-435b-92a9-01f794f99599');\n",
              "          const dataTable =\n",
              "            await google.colab.kernel.invokeFunction('convertToInteractive',\n",
              "                                                     [key], {});\n",
              "          if (!dataTable) return;\n",
              "\n",
              "          const docLinkHtml = 'Like what you see? Visit the ' +\n",
              "            '<a target=\"_blank\" href=https://colab.research.google.com/notebooks/data_table.ipynb>data table notebook</a>'\n",
              "            + ' to learn more about interactive tables.';\n",
              "          element.innerHTML = '';\n",
              "          dataTable['output_type'] = 'display_data';\n",
              "          await google.colab.output.renderOutput(dataTable, element);\n",
              "          const docLink = document.createElement('div');\n",
              "          docLink.innerHTML = docLinkHtml;\n",
              "          element.appendChild(docLink);\n",
              "        }\n",
              "      </script>\n",
              "    </div>\n",
              "  </div>\n",
              "  "
            ]
          },
          "metadata": {},
          "execution_count": 21
        }
      ]
    },
    {
      "cell_type": "markdown",
      "source": [
        "## 2.모델링, 성능평가"
      ],
      "metadata": {
        "id": "tzWVPdKehwLi"
      }
    },
    {
      "cell_type": "markdown",
      "source": [
        "### 2-1.모델링 함수"
      ],
      "metadata": {
        "id": "4G-DKs8-hwLi"
      }
    },
    {
      "cell_type": "code",
      "source": [
        "from sklearn.preprocessing import MinMaxScaler\n",
        "from sklearn.model_selection import train_test_split\n",
        "from sklearn.linear_model import LinearRegression"
      ],
      "metadata": {
        "id": "jFAFndlYhwLi"
      },
      "execution_count": 22,
      "outputs": []
    },
    {
      "cell_type": "code",
      "source": [
        "# [1] 데이터를 분리하고, 학습 한 뒤, R2_score를 구해 출력\n",
        "def Model_Train(model, XF, YF):\n",
        "    # 7:3 분리, random_state=321  (주의: stratify사용 안함 -> 분류 모델에서만 사용)\n",
        "    # Xscaled = MinMaxscaler().fit_transform(XF)\n",
        "    xtrain, xtest, ytrain, ytest = train_test_split(XF, YF, test_size =0.3, random_state=321)\n",
        "\n",
        "    model.fit(xtrain,ytrain)\n",
        "    A = model.score(xtrain,ytrain)\n",
        "    B = model.score(xtest,ytest)\n",
        "    print(f'{A:.4f},{B:.4F}')\n",
        "    return model\n",
        "    "
      ],
      "metadata": {
        "id": "BdqhZ2uLhwLj"
      },
      "execution_count": 23,
      "outputs": []
    },
    {
      "cell_type": "markdown",
      "source": [
        "### 2-2. Multiple Linear Regression\n",
        "- $y = \\beta_{0} + \\beta_{1} x_{1} + \\beta_{2} x_{2} + ...+ \\epsilon$\n",
        "- 오차(잔차)가 가장 적게 발생하는 계수, 절편 찾기"
      ],
      "metadata": {
        "id": "KCYQEzcbhwLj"
      }
    },
    {
      "cell_type": "code",
      "source": [
        "# [2] outlier가 포함되지 않은 경우, LinearRegression 모델 사용  \n",
        "Xnormal = X_use[['height','weight']]\n",
        "Ynormal = Y['BMI']\n",
        "model = LinearRegression()\n",
        "Model_Train(model, Xnormal, Ynormal)"
      ],
      "metadata": {
        "id": "jom6slz9hwLj",
        "colab": {
          "base_uri": "https://localhost:8080/",
          "height": 93
        },
        "outputId": "b335b3df-e11b-49ee-ec72-116f4c4dd58b"
      },
      "execution_count": 24,
      "outputs": [
        {
          "output_type": "stream",
          "name": "stdout",
          "text": [
            "0.9931,0.9625\n"
          ]
        },
        {
          "output_type": "execute_result",
          "data": {
            "text/plain": [
              "LinearRegression()"
            ],
            "text/html": [
              "<style>#sk-container-id-1 {color: black;background-color: white;}#sk-container-id-1 pre{padding: 0;}#sk-container-id-1 div.sk-toggleable {background-color: white;}#sk-container-id-1 label.sk-toggleable__label {cursor: pointer;display: block;width: 100%;margin-bottom: 0;padding: 0.3em;box-sizing: border-box;text-align: center;}#sk-container-id-1 label.sk-toggleable__label-arrow:before {content: \"▸\";float: left;margin-right: 0.25em;color: #696969;}#sk-container-id-1 label.sk-toggleable__label-arrow:hover:before {color: black;}#sk-container-id-1 div.sk-estimator:hover label.sk-toggleable__label-arrow:before {color: black;}#sk-container-id-1 div.sk-toggleable__content {max-height: 0;max-width: 0;overflow: hidden;text-align: left;background-color: #f0f8ff;}#sk-container-id-1 div.sk-toggleable__content pre {margin: 0.2em;color: black;border-radius: 0.25em;background-color: #f0f8ff;}#sk-container-id-1 input.sk-toggleable__control:checked~div.sk-toggleable__content {max-height: 200px;max-width: 100%;overflow: auto;}#sk-container-id-1 input.sk-toggleable__control:checked~label.sk-toggleable__label-arrow:before {content: \"▾\";}#sk-container-id-1 div.sk-estimator input.sk-toggleable__control:checked~label.sk-toggleable__label {background-color: #d4ebff;}#sk-container-id-1 div.sk-label input.sk-toggleable__control:checked~label.sk-toggleable__label {background-color: #d4ebff;}#sk-container-id-1 input.sk-hidden--visually {border: 0;clip: rect(1px 1px 1px 1px);clip: rect(1px, 1px, 1px, 1px);height: 1px;margin: -1px;overflow: hidden;padding: 0;position: absolute;width: 1px;}#sk-container-id-1 div.sk-estimator {font-family: monospace;background-color: #f0f8ff;border: 1px dotted black;border-radius: 0.25em;box-sizing: border-box;margin-bottom: 0.5em;}#sk-container-id-1 div.sk-estimator:hover {background-color: #d4ebff;}#sk-container-id-1 div.sk-parallel-item::after {content: \"\";width: 100%;border-bottom: 1px solid gray;flex-grow: 1;}#sk-container-id-1 div.sk-label:hover label.sk-toggleable__label {background-color: #d4ebff;}#sk-container-id-1 div.sk-serial::before {content: \"\";position: absolute;border-left: 1px solid gray;box-sizing: border-box;top: 0;bottom: 0;left: 50%;z-index: 0;}#sk-container-id-1 div.sk-serial {display: flex;flex-direction: column;align-items: center;background-color: white;padding-right: 0.2em;padding-left: 0.2em;position: relative;}#sk-container-id-1 div.sk-item {position: relative;z-index: 1;}#sk-container-id-1 div.sk-parallel {display: flex;align-items: stretch;justify-content: center;background-color: white;position: relative;}#sk-container-id-1 div.sk-item::before, #sk-container-id-1 div.sk-parallel-item::before {content: \"\";position: absolute;border-left: 1px solid gray;box-sizing: border-box;top: 0;bottom: 0;left: 50%;z-index: -1;}#sk-container-id-1 div.sk-parallel-item {display: flex;flex-direction: column;z-index: 1;position: relative;background-color: white;}#sk-container-id-1 div.sk-parallel-item:first-child::after {align-self: flex-end;width: 50%;}#sk-container-id-1 div.sk-parallel-item:last-child::after {align-self: flex-start;width: 50%;}#sk-container-id-1 div.sk-parallel-item:only-child::after {width: 0;}#sk-container-id-1 div.sk-dashed-wrapped {border: 1px dashed gray;margin: 0 0.4em 0.5em 0.4em;box-sizing: border-box;padding-bottom: 0.4em;background-color: white;}#sk-container-id-1 div.sk-label label {font-family: monospace;font-weight: bold;display: inline-block;line-height: 1.2em;}#sk-container-id-1 div.sk-label-container {text-align: center;}#sk-container-id-1 div.sk-container {/* jupyter's `normalize.less` sets `[hidden] { display: none; }` but bootstrap.min.css set `[hidden] { display: none !important; }` so we also need the `!important` here to be able to override the default hidden behavior on the sphinx rendered scikit-learn.org. See: https://github.com/scikit-learn/scikit-learn/issues/21755 */display: inline-block !important;position: relative;}#sk-container-id-1 div.sk-text-repr-fallback {display: none;}</style><div id=\"sk-container-id-1\" class=\"sk-top-container\"><div class=\"sk-text-repr-fallback\"><pre>LinearRegression()</pre><b>In a Jupyter environment, please rerun this cell to show the HTML representation or trust the notebook. <br />On GitHub, the HTML representation is unable to render, please try loading this page with nbviewer.org.</b></div><div class=\"sk-container\" hidden><div class=\"sk-item\"><div class=\"sk-estimator sk-toggleable\"><input class=\"sk-toggleable__control sk-hidden--visually\" id=\"sk-estimator-id-1\" type=\"checkbox\" checked><label for=\"sk-estimator-id-1\" class=\"sk-toggleable__label sk-toggleable__label-arrow\">LinearRegression</label><div class=\"sk-toggleable__content\"><pre>LinearRegression()</pre></div></div></div></div></div>"
            ]
          },
          "metadata": {},
          "execution_count": 24
        }
      ]
    },
    {
      "cell_type": "code",
      "source": [
        "# [3] 계수들과 절편 출력해 보기\n",
        "print(model.coef_, model.intercept_)"
      ],
      "metadata": {
        "id": "7mkPAFBXhwLj",
        "colab": {
          "base_uri": "https://localhost:8080/"
        },
        "outputId": "b1da8156-2998-425b-91a2-a6f3fa733a5d"
      },
      "execution_count": 25,
      "outputs": [
        {
          "output_type": "stream",
          "name": "stdout",
          "text": [
            "[-0.28008565  0.34383133] 47.629018625993695\n"
          ]
        }
      ]
    },
    {
      "cell_type": "markdown",
      "source": [
        "### 2-3.이상치"
      ],
      "metadata": {
        "id": "DP8zw9b_hwLj"
      }
    },
    {
      "cell_type": "code",
      "source": [
        "# [4] 이상치를 포함한 데이터 생성 (outlier=0.07 사용)\n",
        "Toutlier = make_sample(1234, 100, outlier=0.07)\n",
        "Xoutlier = Toutlier[['height','weight']]\n",
        "Youtlier = Toutlier[['BMI']]"
      ],
      "metadata": {
        "id": "b5puuafEhwLk",
        "colab": {
          "base_uri": "https://localhost:8080/"
        },
        "outputId": "f0dbee37-1d06-4ff2-a89f-6a6c13ecb74c"
      },
      "execution_count": 26,
      "outputs": [
        {
          "output_type": "stream",
          "name": "stdout",
          "text": [
            "[[122.5   25.    16.66]\n",
            " [113.7   29.9   23.13]\n",
            " [127.6    0.9    0.55]\n",
            " [118.3   48.3   34.51]\n",
            " [216.3  154.    32.92]\n",
            " [224.6  164.1   32.53]\n",
            " [224.5   14.     2.78]]\n",
            "(7, 3)\n"
          ]
        }
      ]
    },
    {
      "cell_type": "code",
      "source": [
        "# [5] 이상치가 포함된 경우, LinearRegression 모델 사용\n",
        "model2 = LinearRegression()\n",
        "Model_Train(model2, Xoutlier, Youtlier)"
      ],
      "metadata": {
        "id": "bVjAufx_hwLk",
        "colab": {
          "base_uri": "https://localhost:8080/",
          "height": 93
        },
        "outputId": "ae517d30-602f-402c-c275-fae3683aac14"
      },
      "execution_count": 87,
      "outputs": [
        {
          "output_type": "stream",
          "name": "stdout",
          "text": [
            "0.9296,0.4557\n"
          ]
        },
        {
          "output_type": "execute_result",
          "data": {
            "text/plain": [
              "LinearRegression()"
            ],
            "text/html": [
              "<style>#sk-container-id-16 {color: black;background-color: white;}#sk-container-id-16 pre{padding: 0;}#sk-container-id-16 div.sk-toggleable {background-color: white;}#sk-container-id-16 label.sk-toggleable__label {cursor: pointer;display: block;width: 100%;margin-bottom: 0;padding: 0.3em;box-sizing: border-box;text-align: center;}#sk-container-id-16 label.sk-toggleable__label-arrow:before {content: \"▸\";float: left;margin-right: 0.25em;color: #696969;}#sk-container-id-16 label.sk-toggleable__label-arrow:hover:before {color: black;}#sk-container-id-16 div.sk-estimator:hover label.sk-toggleable__label-arrow:before {color: black;}#sk-container-id-16 div.sk-toggleable__content {max-height: 0;max-width: 0;overflow: hidden;text-align: left;background-color: #f0f8ff;}#sk-container-id-16 div.sk-toggleable__content pre {margin: 0.2em;color: black;border-radius: 0.25em;background-color: #f0f8ff;}#sk-container-id-16 input.sk-toggleable__control:checked~div.sk-toggleable__content {max-height: 200px;max-width: 100%;overflow: auto;}#sk-container-id-16 input.sk-toggleable__control:checked~label.sk-toggleable__label-arrow:before {content: \"▾\";}#sk-container-id-16 div.sk-estimator input.sk-toggleable__control:checked~label.sk-toggleable__label {background-color: #d4ebff;}#sk-container-id-16 div.sk-label input.sk-toggleable__control:checked~label.sk-toggleable__label {background-color: #d4ebff;}#sk-container-id-16 input.sk-hidden--visually {border: 0;clip: rect(1px 1px 1px 1px);clip: rect(1px, 1px, 1px, 1px);height: 1px;margin: -1px;overflow: hidden;padding: 0;position: absolute;width: 1px;}#sk-container-id-16 div.sk-estimator {font-family: monospace;background-color: #f0f8ff;border: 1px dotted black;border-radius: 0.25em;box-sizing: border-box;margin-bottom: 0.5em;}#sk-container-id-16 div.sk-estimator:hover {background-color: #d4ebff;}#sk-container-id-16 div.sk-parallel-item::after {content: \"\";width: 100%;border-bottom: 1px solid gray;flex-grow: 1;}#sk-container-id-16 div.sk-label:hover label.sk-toggleable__label {background-color: #d4ebff;}#sk-container-id-16 div.sk-serial::before {content: \"\";position: absolute;border-left: 1px solid gray;box-sizing: border-box;top: 0;bottom: 0;left: 50%;z-index: 0;}#sk-container-id-16 div.sk-serial {display: flex;flex-direction: column;align-items: center;background-color: white;padding-right: 0.2em;padding-left: 0.2em;position: relative;}#sk-container-id-16 div.sk-item {position: relative;z-index: 1;}#sk-container-id-16 div.sk-parallel {display: flex;align-items: stretch;justify-content: center;background-color: white;position: relative;}#sk-container-id-16 div.sk-item::before, #sk-container-id-16 div.sk-parallel-item::before {content: \"\";position: absolute;border-left: 1px solid gray;box-sizing: border-box;top: 0;bottom: 0;left: 50%;z-index: -1;}#sk-container-id-16 div.sk-parallel-item {display: flex;flex-direction: column;z-index: 1;position: relative;background-color: white;}#sk-container-id-16 div.sk-parallel-item:first-child::after {align-self: flex-end;width: 50%;}#sk-container-id-16 div.sk-parallel-item:last-child::after {align-self: flex-start;width: 50%;}#sk-container-id-16 div.sk-parallel-item:only-child::after {width: 0;}#sk-container-id-16 div.sk-dashed-wrapped {border: 1px dashed gray;margin: 0 0.4em 0.5em 0.4em;box-sizing: border-box;padding-bottom: 0.4em;background-color: white;}#sk-container-id-16 div.sk-label label {font-family: monospace;font-weight: bold;display: inline-block;line-height: 1.2em;}#sk-container-id-16 div.sk-label-container {text-align: center;}#sk-container-id-16 div.sk-container {/* jupyter's `normalize.less` sets `[hidden] { display: none; }` but bootstrap.min.css set `[hidden] { display: none !important; }` so we also need the `!important` here to be able to override the default hidden behavior on the sphinx rendered scikit-learn.org. See: https://github.com/scikit-learn/scikit-learn/issues/21755 */display: inline-block !important;position: relative;}#sk-container-id-16 div.sk-text-repr-fallback {display: none;}</style><div id=\"sk-container-id-16\" class=\"sk-top-container\"><div class=\"sk-text-repr-fallback\"><pre>LinearRegression()</pre><b>In a Jupyter environment, please rerun this cell to show the HTML representation or trust the notebook. <br />On GitHub, the HTML representation is unable to render, please try loading this page with nbviewer.org.</b></div><div class=\"sk-container\" hidden><div class=\"sk-item\"><div class=\"sk-estimator sk-toggleable\"><input class=\"sk-toggleable__control sk-hidden--visually\" id=\"sk-estimator-id-16\" type=\"checkbox\" checked><label for=\"sk-estimator-id-16\" class=\"sk-toggleable__label sk-toggleable__label-arrow\">LinearRegression</label><div class=\"sk-toggleable__content\"><pre>LinearRegression()</pre></div></div></div></div></div>"
            ]
          },
          "metadata": {},
          "execution_count": 87
        }
      ]
    },
    {
      "cell_type": "code",
      "source": [
        "# [6] 그래프 사용하여 이상치 확인\n",
        "import matplotlib.pyplot as plt\n",
        "# Xoutlier.plot(kind='box')\n",
        "plt.boxplot(Xoutlier)\n",
        "plt.show()"
      ],
      "metadata": {
        "id": "IF73u314hwLk",
        "colab": {
          "base_uri": "https://localhost:8080/",
          "height": 430
        },
        "outputId": "c3b50f4c-ac3d-4f59-9d75-e52e17157b19"
      },
      "execution_count": 27,
      "outputs": [
        {
          "output_type": "display_data",
          "data": {
            "text/plain": [
              "<Figure size 640x480 with 1 Axes>"
            ],
            "image/png": "[encoded data removed]"
          },
          "metadata": {}
        }
      ]
    },
    {
      "cell_type": "code",
      "source": [
        "# [7] 각 feature별 Q1, Q3 확인\n",
        "Xoutlier.quantile([0.25, 0.75])"
      ],
      "metadata": {
        "colab": {
          "base_uri": "https://localhost:8080/",
          "height": 112
        },
        "id": "YDPxQgD2srKJ",
        "outputId": "cb910e9a-719e-4306-f220-a94f424d090c"
      },
      "execution_count": 28,
      "outputs": [
        {
          "output_type": "execute_result",
          "data": {
            "text/plain": [
              "      height  weight\n",
              "0.25  162.00   52.75\n",
              "0.75  175.85   75.00"
            ],
            "text/html": [
              "\n",
              "  <div id=\"df-5d8fa9bf-4916-453b-bdea-af0ed9167651\">\n",
              "    <div class=\"colab-df-container\">\n",
              "      <div>\n",
              "<style scoped>\n",
              "    .dataframe tbody tr th:only-of-type {\n",
              "        vertical-align: middle;\n",
              "    }\n",
              "\n",
              "    .dataframe tbody tr th {\n",
              "        vertical-align: top;\n",
              "    }\n",
              "\n",
              "    .dataframe thead th {\n",
              "        text-align: right;\n",
              "    }\n",
              "</style>\n",
              "<table border=\"1\" class=\"dataframe\">\n",
              "  <thead>\n",
              "    <tr style=\"text-align: right;\">\n",
              "      <th></th>\n",
              "      <th>height</th>\n",
              "      <th>weight</th>\n",
              "    </tr>\n",
              "  </thead>\n",
              "  <tbody>\n",
              "    <tr>\n",
              "      <th>0.25</th>\n",
              "      <td>162.00</td>\n",
              "      <td>52.75</td>\n",
              "    </tr>\n",
              "    <tr>\n",
              "      <th>0.75</th>\n",
              "      <td>175.85</td>\n",
              "      <td>75.00</td>\n",
              "    </tr>\n",
              "  </tbody>\n",
              "</table>\n",
              "</div>\n",
              "      <button class=\"colab-df-convert\" onclick=\"convertToInteractive('df-5d8fa9bf-4916-453b-bdea-af0ed9167651')\"\n",
              "              title=\"Convert this dataframe to an interactive table.\"\n",
              "              style=\"display:none;\">\n",
              "        \n",
              "  <svg xmlns=\"http://www.w3.org/2000/svg\" height=\"24px\"viewBox=\"0 0 24 24\"\n",
              "       width=\"24px\">\n",
              "    <path d=\"M0 0h24v24H0V0z\" fill=\"none\"/>\n",
              "    <path d=\"M18.56 5.44l.94 2.06.94-2.06 2.06-.94-2.06-.94-.94-2.06-.94 2.06-2.06.94zm-11 1L8.5 8.5l.94-2.06 2.06-.94-2.06-.94L8.5 2.5l-.94 2.06-2.06.94zm10 10l.94 2.06.94-2.06 2.06-.94-2.06-.94-.94-2.06-.94 2.06-2.06.94z\"/><path d=\"M17.41 7.96l-1.37-1.37c-.4-.4-.92-.59-1.43-.59-.52 0-1.04.2-1.43.59L10.3 9.45l-7.72 7.72c-.78.78-.78 2.05 0 2.83L4 21.41c.39.39.9.59 1.41.59.51 0 1.02-.2 1.41-.59l7.78-7.78 2.81-2.81c.8-.78.8-2.07 0-2.86zM5.41 20L4 18.59l7.72-7.72 1.47 1.35L5.41 20z\"/>\n",
              "  </svg>\n",
              "      </button>\n",
              "      \n",
              "  <style>\n",
              "    .colab-df-container {\n",
              "      display:flex;\n",
              "      flex-wrap:wrap;\n",
              "      gap: 12px;\n",
              "    }\n",
              "\n",
              "    .colab-df-convert {\n",
              "      background-color: #E8F0FE;\n",
              "      border: none;\n",
              "      border-radius: 50%;\n",
              "      cursor: pointer;\n",
              "      display: none;\n",
              "      fill: #1967D2;\n",
              "      height: 32px;\n",
              "      padding: 0 0 0 0;\n",
              "      width: 32px;\n",
              "    }\n",
              "\n",
              "    .colab-df-convert:hover {\n",
              "      background-color: #E2EBFA;\n",
              "      box-shadow: 0px 1px 2px rgba(60, 64, 67, 0.3), 0px 1px 3px 1px rgba(60, 64, 67, 0.15);\n",
              "      fill: #174EA6;\n",
              "    }\n",
              "\n",
              "    [theme=dark] .colab-df-convert {\n",
              "      background-color: #3B4455;\n",
              "      fill: #D2E3FC;\n",
              "    }\n",
              "\n",
              "    [theme=dark] .colab-df-convert:hover {\n",
              "      background-color: #434B5C;\n",
              "      box-shadow: 0px 1px 3px 1px rgba(0, 0, 0, 0.15);\n",
              "      filter: drop-shadow(0px 1px 2px rgba(0, 0, 0, 0.3));\n",
              "      fill: #FFFFFF;\n",
              "    }\n",
              "  </style>\n",
              "\n",
              "      <script>\n",
              "        const buttonEl =\n",
              "          document.querySelector('#df-5d8fa9bf-4916-453b-bdea-af0ed9167651 button.colab-df-convert');\n",
              "        buttonEl.style.display =\n",
              "          google.colab.kernel.accessAllowed ? 'block' : 'none';\n",
              "\n",
              "        async function convertToInteractive(key) {\n",
              "          const element = document.querySelector('#df-5d8fa9bf-4916-453b-bdea-af0ed9167651');\n",
              "          const dataTable =\n",
              "            await google.colab.kernel.invokeFunction('convertToInteractive',\n",
              "                                                     [key], {});\n",
              "          if (!dataTable) return;\n",
              "\n",
              "          const docLinkHtml = 'Like what you see? Visit the ' +\n",
              "            '<a target=\"_blank\" href=https://colab.research.google.com/notebooks/data_table.ipynb>data table notebook</a>'\n",
              "            + ' to learn more about interactive tables.';\n",
              "          element.innerHTML = '';\n",
              "          dataTable['output_type'] = 'display_data';\n",
              "          await google.colab.output.renderOutput(dataTable, element);\n",
              "          const docLink = document.createElement('div');\n",
              "          docLink.innerHTML = docLinkHtml;\n",
              "          element.appendChild(docLink);\n",
              "        }\n",
              "      </script>\n",
              "    </div>\n",
              "  </div>\n",
              "  "
            ]
          },
          "metadata": {},
          "execution_count": 28
        }
      ]
    },
    {
      "cell_type": "code",
      "source": [
        "# [7] 각 feature별 Q1, Q3 확인\n",
        "Q1,Q3 = Xoutlier['weight'].quantile([0.25, 0.75])\n",
        "IQR = Q3 - Q1\n",
        "lower_w = round(Q1-IQR*1.5, 3)\n",
        "upper_w = round(Q3+IQR*1.5, 3)\n",
        "print(lower_w, upper_w)"
      ],
      "metadata": {
        "colab": {
          "base_uri": "https://localhost:8080/"
        },
        "id": "LsSqRA3lt1_-",
        "outputId": "6da25984-1028-4f75-96a6-428c1e7138eb"
      },
      "execution_count": 29,
      "outputs": [
        {
          "output_type": "stream",
          "name": "stdout",
          "text": [
            "19.375 108.375\n"
          ]
        }
      ]
    },
    {
      "cell_type": "code",
      "source": [
        "# [8] height에 대한 outlier 확인\n",
        "Q1, Q3 = Xoutlier['height'].quantile([0.25, 0.75])\n",
        "IQR = Q3 - Q1\n",
        "lower_h = round(Q1 - IQR*1.5, 3)\n",
        "upper_h = round(Q3 + IQR*1.5, 3)\n",
        "print(lower_h, upper_h)"
      ],
      "metadata": {
        "id": "tUPJ7BBahwLk",
        "colab": {
          "base_uri": "https://localhost:8080/"
        },
        "outputId": "83f731fd-74e1-4993-f401-3ea4b918504e"
      },
      "execution_count": 30,
      "outputs": [
        {
          "output_type": "stream",
          "name": "stdout",
          "text": [
            "141.225 196.625\n"
          ]
        }
      ]
    },
    {
      "cell_type": "code",
      "source": [
        "# [9] weight에 대한 outlier 확인\n",
        "Q1, Q3 = Xoutlier['weight'].quantile([0.25, 0.75])\n",
        "IQR = Q3 - Q1\n",
        "lower_w = round(Q1 - IQR*1.5, 3)\n",
        "upper_w = round(Q3 + IQR*1.5, 3)\n",
        "print(lower_w, upper_w)"
      ],
      "metadata": {
        "id": "ne7YswiNhwLk",
        "colab": {
          "base_uri": "https://localhost:8080/"
        },
        "outputId": "58bb1a39-c093-4d54-b1dc-e60028d350bb"
      },
      "execution_count": 31,
      "outputs": [
        {
          "output_type": "stream",
          "name": "stdout",
          "text": [
            "19.375 108.375\n"
          ]
        }
      ]
    },
    {
      "cell_type": "code",
      "source": [
        "# [10] height에 대한 outlier 제거 및 학습\n",
        "height = Xoutlier['height'] \n",
        "outlier_h = Xoutlier[(height < lower_h) | (height > upper_h)] \n",
        "# print(outlier_h)\n",
        "Xoutlier_rh = Xoutlier.drop(index = outlier_h.index)\n",
        "Youtlier_rh = Youtlier.drop(index = outlier_h.index)\n",
        "# print(Xoutlier_rh.shape, Youtlier_rh.shape)\n",
        "model3 = LinearRegression()\n",
        "Model_Train(model3, Xoutlier_rh,Youtlier_rh)"
      ],
      "metadata": {
        "id": "ivKLXYhehwLl",
        "colab": {
          "base_uri": "https://localhost:8080/",
          "height": 93
        },
        "outputId": "2cf2dba4-e0a5-400e-ee98-c136fc05688d"
      },
      "execution_count": 32,
      "outputs": [
        {
          "output_type": "stream",
          "name": "stdout",
          "text": [
            "0.9868,0.9935\n"
          ]
        },
        {
          "output_type": "execute_result",
          "data": {
            "text/plain": [
              "LinearRegression()"
            ],
            "text/html": [
              "<style>#sk-container-id-2 {color: black;background-color: white;}#sk-container-id-2 pre{padding: 0;}#sk-container-id-2 div.sk-toggleable {background-color: white;}#sk-container-id-2 label.sk-toggleable__label {cursor: pointer;display: block;width: 100%;margin-bottom: 0;padding: 0.3em;box-sizing: border-box;text-align: center;}#sk-container-id-2 label.sk-toggleable__label-arrow:before {content: \"▸\";float: left;margin-right: 0.25em;color: #696969;}#sk-container-id-2 label.sk-toggleable__label-arrow:hover:before {color: black;}#sk-container-id-2 div.sk-estimator:hover label.sk-toggleable__label-arrow:before {color: black;}#sk-container-id-2 div.sk-toggleable__content {max-height: 0;max-width: 0;overflow: hidden;text-align: left;background-color: #f0f8ff;}#sk-container-id-2 div.sk-toggleable__content pre {margin: 0.2em;color: black;border-radius: 0.25em;background-color: #f0f8ff;}#sk-container-id-2 input.sk-toggleable__control:checked~div.sk-toggleable__content {max-height: 200px;max-width: 100%;overflow: auto;}#sk-container-id-2 input.sk-toggleable__control:checked~label.sk-toggleable__label-arrow:before {content: \"▾\";}#sk-container-id-2 div.sk-estimator input.sk-toggleable__control:checked~label.sk-toggleable__label {background-color: #d4ebff;}#sk-container-id-2 div.sk-label input.sk-toggleable__control:checked~label.sk-toggleable__label {background-color: #d4ebff;}#sk-container-id-2 input.sk-hidden--visually {border: 0;clip: rect(1px 1px 1px 1px);clip: rect(1px, 1px, 1px, 1px);height: 1px;margin: -1px;overflow: hidden;padding: 0;position: absolute;width: 1px;}#sk-container-id-2 div.sk-estimator {font-family: monospace;background-color: #f0f8ff;border: 1px dotted black;border-radius: 0.25em;box-sizing: border-box;margin-bottom: 0.5em;}#sk-container-id-2 div.sk-estimator:hover {background-color: #d4ebff;}#sk-container-id-2 div.sk-parallel-item::after {content: \"\";width: 100%;border-bottom: 1px solid gray;flex-grow: 1;}#sk-container-id-2 div.sk-label:hover label.sk-toggleable__label {background-color: #d4ebff;}#sk-container-id-2 div.sk-serial::before {content: \"\";position: absolute;border-left: 1px solid gray;box-sizing: border-box;top: 0;bottom: 0;left: 50%;z-index: 0;}#sk-container-id-2 div.sk-serial {display: flex;flex-direction: column;align-items: center;background-color: white;padding-right: 0.2em;padding-left: 0.2em;position: relative;}#sk-container-id-2 div.sk-item {position: relative;z-index: 1;}#sk-container-id-2 div.sk-parallel {display: flex;align-items: stretch;justify-content: center;background-color: white;position: relative;}#sk-container-id-2 div.sk-item::before, #sk-container-id-2 div.sk-parallel-item::before {content: \"\";position: absolute;border-left: 1px solid gray;box-sizing: border-box;top: 0;bottom: 0;left: 50%;z-index: -1;}#sk-container-id-2 div.sk-parallel-item {display: flex;flex-direction: column;z-index: 1;position: relative;background-color: white;}#sk-container-id-2 div.sk-parallel-item:first-child::after {align-self: flex-end;width: 50%;}#sk-container-id-2 div.sk-parallel-item:last-child::after {align-self: flex-start;width: 50%;}#sk-container-id-2 div.sk-parallel-item:only-child::after {width: 0;}#sk-container-id-2 div.sk-dashed-wrapped {border: 1px dashed gray;margin: 0 0.4em 0.5em 0.4em;box-sizing: border-box;padding-bottom: 0.4em;background-color: white;}#sk-container-id-2 div.sk-label label {font-family: monospace;font-weight: bold;display: inline-block;line-height: 1.2em;}#sk-container-id-2 div.sk-label-container {text-align: center;}#sk-container-id-2 div.sk-container {/* jupyter's `normalize.less` sets `[hidden] { display: none; }` but bootstrap.min.css set `[hidden] { display: none !important; }` so we also need the `!important` here to be able to override the default hidden behavior on the sphinx rendered scikit-learn.org. See: https://github.com/scikit-learn/scikit-learn/issues/21755 */display: inline-block !important;position: relative;}#sk-container-id-2 div.sk-text-repr-fallback {display: none;}</style><div id=\"sk-container-id-2\" class=\"sk-top-container\"><div class=\"sk-text-repr-fallback\"><pre>LinearRegression()</pre><b>In a Jupyter environment, please rerun this cell to show the HTML representation or trust the notebook. <br />On GitHub, the HTML representation is unable to render, please try loading this page with nbviewer.org.</b></div><div class=\"sk-container\" hidden><div class=\"sk-item\"><div class=\"sk-estimator sk-toggleable\"><input class=\"sk-toggleable__control sk-hidden--visually\" id=\"sk-estimator-id-2\" type=\"checkbox\" checked><label for=\"sk-estimator-id-2\" class=\"sk-toggleable__label sk-toggleable__label-arrow\">LinearRegression</label><div class=\"sk-toggleable__content\"><pre>LinearRegression()</pre></div></div></div></div></div>"
            ]
          },
          "metadata": {},
          "execution_count": 32
        }
      ]
    },
    {
      "cell_type": "code",
      "source": [
        "# [11] weight에 대한 outlier 제거 및 학습\n",
        "weight = Xoutlier['weight'] \n",
        "outlier_w = Xoutlier[(weight < lower_w) | (weight > upper_w)] \n",
        "print(outlier_w)\n",
        "Xoutlier_rw = Xoutlier.drop(index = outlier_w.index)\n",
        "Youtlier_rw = Youtlier.drop(index = outlier_w.index)\n",
        "print(Xoutlier_rw.shape, Youtlier_rw.shape)\n",
        "model3 = LinearRegression()\n",
        "Model_Train(model3, Xoutlier_rw,Youtlier_rw)"
      ],
      "metadata": {
        "id": "6B49WXqMhwLl",
        "colab": {
          "base_uri": "https://localhost:8080/",
          "height": 203
        },
        "outputId": "2bcadcc7-313e-4cc5-fe72-e9d185af74e4"
      },
      "execution_count": 79,
      "outputs": [
        {
          "output_type": "stream",
          "name": "stdout",
          "text": [
            "     height  weight\n",
            "102   127.6     0.9\n",
            "104   216.3   154.0\n",
            "105   224.6   164.1\n",
            "106   224.5    14.0\n",
            "(103, 2) (103, 1)\n",
            "0.9731,0.9217\n"
          ]
        },
        {
          "output_type": "execute_result",
          "data": {
            "text/plain": [
              "LinearRegression()"
            ],
            "text/html": [
              "<style>#sk-container-id-16 {color: black;background-color: white;}#sk-container-id-16 pre{padding: 0;}#sk-container-id-16 div.sk-toggleable {background-color: white;}#sk-container-id-16 label.sk-toggleable__label {cursor: pointer;display: block;width: 100%;margin-bottom: 0;padding: 0.3em;box-sizing: border-box;text-align: center;}#sk-container-id-16 label.sk-toggleable__label-arrow:before {content: \"▸\";float: left;margin-right: 0.25em;color: #696969;}#sk-container-id-16 label.sk-toggleable__label-arrow:hover:before {color: black;}#sk-container-id-16 div.sk-estimator:hover label.sk-toggleable__label-arrow:before {color: black;}#sk-container-id-16 div.sk-toggleable__content {max-height: 0;max-width: 0;overflow: hidden;text-align: left;background-color: #f0f8ff;}#sk-container-id-16 div.sk-toggleable__content pre {margin: 0.2em;color: black;border-radius: 0.25em;background-color: #f0f8ff;}#sk-container-id-16 input.sk-toggleable__control:checked~div.sk-toggleable__content {max-height: 200px;max-width: 100%;overflow: auto;}#sk-container-id-16 input.sk-toggleable__control:checked~label.sk-toggleable__label-arrow:before {content: \"▾\";}#sk-container-id-16 div.sk-estimator input.sk-toggleable__control:checked~label.sk-toggleable__label {background-color: #d4ebff;}#sk-container-id-16 div.sk-label input.sk-toggleable__control:checked~label.sk-toggleable__label {background-color: #d4ebff;}#sk-container-id-16 input.sk-hidden--visually {border: 0;clip: rect(1px 1px 1px 1px);clip: rect(1px, 1px, 1px, 1px);height: 1px;margin: -1px;overflow: hidden;padding: 0;position: absolute;width: 1px;}#sk-container-id-16 div.sk-estimator {font-family: monospace;background-color: #f0f8ff;border: 1px dotted black;border-radius: 0.25em;box-sizing: border-box;margin-bottom: 0.5em;}#sk-container-id-16 div.sk-estimator:hover {background-color: #d4ebff;}#sk-container-id-16 div.sk-parallel-item::after {content: \"\";width: 100%;border-bottom: 1px solid gray;flex-grow: 1;}#sk-container-id-16 div.sk-label:hover label.sk-toggleable__label {background-color: #d4ebff;}#sk-container-id-16 div.sk-serial::before {content: \"\";position: absolute;border-left: 1px solid gray;box-sizing: border-box;top: 0;bottom: 0;left: 50%;z-index: 0;}#sk-container-id-16 div.sk-serial {display: flex;flex-direction: column;align-items: center;background-color: white;padding-right: 0.2em;padding-left: 0.2em;position: relative;}#sk-container-id-16 div.sk-item {position: relative;z-index: 1;}#sk-container-id-16 div.sk-parallel {display: flex;align-items: stretch;justify-content: center;background-color: white;position: relative;}#sk-container-id-16 div.sk-item::before, #sk-container-id-16 div.sk-parallel-item::before {content: \"\";position: absolute;border-left: 1px solid gray;box-sizing: border-box;top: 0;bottom: 0;left: 50%;z-index: -1;}#sk-container-id-16 div.sk-parallel-item {display: flex;flex-direction: column;z-index: 1;position: relative;background-color: white;}#sk-container-id-16 div.sk-parallel-item:first-child::after {align-self: flex-end;width: 50%;}#sk-container-id-16 div.sk-parallel-item:last-child::after {align-self: flex-start;width: 50%;}#sk-container-id-16 div.sk-parallel-item:only-child::after {width: 0;}#sk-container-id-16 div.sk-dashed-wrapped {border: 1px dashed gray;margin: 0 0.4em 0.5em 0.4em;box-sizing: border-box;padding-bottom: 0.4em;background-color: white;}#sk-container-id-16 div.sk-label label {font-family: monospace;font-weight: bold;display: inline-block;line-height: 1.2em;}#sk-container-id-16 div.sk-label-container {text-align: center;}#sk-container-id-16 div.sk-container {/* jupyter's `normalize.less` sets `[hidden] { display: none; }` but bootstrap.min.css set `[hidden] { display: none !important; }` so we also need the `!important` here to be able to override the default hidden behavior on the sphinx rendered scikit-learn.org. See: https://github.com/scikit-learn/scikit-learn/issues/21755 */display: inline-block !important;position: relative;}#sk-container-id-16 div.sk-text-repr-fallback {display: none;}</style><div id=\"sk-container-id-16\" class=\"sk-top-container\"><div class=\"sk-text-repr-fallback\"><pre>LinearRegression()</pre><b>In a Jupyter environment, please rerun this cell to show the HTML representation or trust the notebook. <br />On GitHub, the HTML representation is unable to render, please try loading this page with nbviewer.org.</b></div><div class=\"sk-container\" hidden><div class=\"sk-item\"><div class=\"sk-estimator sk-toggleable\"><input class=\"sk-toggleable__control sk-hidden--visually\" id=\"sk-estimator-id-16\" type=\"checkbox\" checked><label for=\"sk-estimator-id-16\" class=\"sk-toggleable__label sk-toggleable__label-arrow\">LinearRegression</label><div class=\"sk-toggleable__content\"><pre>LinearRegression()</pre></div></div></div></div></div>"
            ]
          },
          "metadata": {},
          "execution_count": 79
        }
      ]
    },
    {
      "cell_type": "code",
      "source": [],
      "metadata": {
        "id": "YwesiONnDtcH"
      },
      "execution_count": null,
      "outputs": []
    },
    {
      "cell_type": "markdown",
      "source": [
        "### 2-4.Polynomial Regression\n",
        "- 다항 회귀\n",
        "- 비선형 데이터 집합을 모델링 할 때 사용\n",
        "- 곡선의 다항식 선을 사용함\n",
        "- 과대적합이 나타나기 쉬움\n",
        "- $y = \\beta_{0} + \\beta_{1} x_{1} + \\beta_{2} x_{2} + \\beta_{3} x_{1}^{2} + \\beta_{4} x_{2}^{2} ...+ \\epsilon$\n",
        "- X를 다항식으로 변경하여 모델링의 데이터로 사용함"
      ],
      "metadata": {
        "id": "PDnZReayLSVn"
      }
    },
    {
      "cell_type": "code",
      "source": [
        "# sklearn.preprocessing.PolynomialFeatures(degree=2, *, \n",
        "#               interaction_only=False, include_bias=True, order='C')"
      ],
      "metadata": {
        "id": "lINl7TLyZUTR"
      },
      "execution_count": null,
      "outputs": []
    },
    {
      "cell_type": "code",
      "source": [
        "# [12] PolynomialFeatures 사용하여 2차항이 포함되도록 \n",
        "# Xnormal을 변환 함 (PolynomialFeatures에 poly2, 변환 결과에 Xpoly2 이름 부여)\n",
        "from sklearn.preprocessing import PolynomialFeatures\n",
        "poly2 = PolynomialFeatures(degree=2,include_bias=False)#, interaction_only=True, )\n",
        "Xpoly2 = poly2.fit_transform(Xnormal)\n",
        "model = LinearRegression()\n",
        "Model_Train(model, Xpoly2, Ynormal)"
      ],
      "metadata": {
        "id": "Ov4tco4eLgzP",
        "colab": {
          "base_uri": "https://localhost:8080/",
          "height": 93
        },
        "outputId": "f2712383-d403-4467-c665-67b0dcca11ce"
      },
      "execution_count": 78,
      "outputs": [
        {
          "output_type": "stream",
          "name": "stdout",
          "text": [
            "1.0000,0.9988\n"
          ]
        },
        {
          "output_type": "execute_result",
          "data": {
            "text/plain": [
              "LinearRegression()"
            ],
            "text/html": [
              "<style>#sk-container-id-15 {color: black;background-color: white;}#sk-container-id-15 pre{padding: 0;}#sk-container-id-15 div.sk-toggleable {background-color: white;}#sk-container-id-15 label.sk-toggleable__label {cursor: pointer;display: block;width: 100%;margin-bottom: 0;padding: 0.3em;box-sizing: border-box;text-align: center;}#sk-container-id-15 label.sk-toggleable__label-arrow:before {content: \"▸\";float: left;margin-right: 0.25em;color: #696969;}#sk-container-id-15 label.sk-toggleable__label-arrow:hover:before {color: black;}#sk-container-id-15 div.sk-estimator:hover label.sk-toggleable__label-arrow:before {color: black;}#sk-container-id-15 div.sk-toggleable__content {max-height: 0;max-width: 0;overflow: hidden;text-align: left;background-color: #f0f8ff;}#sk-container-id-15 div.sk-toggleable__content pre {margin: 0.2em;color: black;border-radius: 0.25em;background-color: #f0f8ff;}#sk-container-id-15 input.sk-toggleable__control:checked~div.sk-toggleable__content {max-height: 200px;max-width: 100%;overflow: auto;}#sk-container-id-15 input.sk-toggleable__control:checked~label.sk-toggleable__label-arrow:before {content: \"▾\";}#sk-container-id-15 div.sk-estimator input.sk-toggleable__control:checked~label.sk-toggleable__label {background-color: #d4ebff;}#sk-container-id-15 div.sk-label input.sk-toggleable__control:checked~label.sk-toggleable__label {background-color: #d4ebff;}#sk-container-id-15 input.sk-hidden--visually {border: 0;clip: rect(1px 1px 1px 1px);clip: rect(1px, 1px, 1px, 1px);height: 1px;margin: -1px;overflow: hidden;padding: 0;position: absolute;width: 1px;}#sk-container-id-15 div.sk-estimator {font-family: monospace;background-color: #f0f8ff;border: 1px dotted black;border-radius: 0.25em;box-sizing: border-box;margin-bottom: 0.5em;}#sk-container-id-15 div.sk-estimator:hover {background-color: #d4ebff;}#sk-container-id-15 div.sk-parallel-item::after {content: \"\";width: 100%;border-bottom: 1px solid gray;flex-grow: 1;}#sk-container-id-15 div.sk-label:hover label.sk-toggleable__label {background-color: #d4ebff;}#sk-container-id-15 div.sk-serial::before {content: \"\";position: absolute;border-left: 1px solid gray;box-sizing: border-box;top: 0;bottom: 0;left: 50%;z-index: 0;}#sk-container-id-15 div.sk-serial {display: flex;flex-direction: column;align-items: center;background-color: white;padding-right: 0.2em;padding-left: 0.2em;position: relative;}#sk-container-id-15 div.sk-item {position: relative;z-index: 1;}#sk-container-id-15 div.sk-parallel {display: flex;align-items: stretch;justify-content: center;background-color: white;position: relative;}#sk-container-id-15 div.sk-item::before, #sk-container-id-15 div.sk-parallel-item::before {content: \"\";position: absolute;border-left: 1px solid gray;box-sizing: border-box;top: 0;bottom: 0;left: 50%;z-index: -1;}#sk-container-id-15 div.sk-parallel-item {display: flex;flex-direction: column;z-index: 1;position: relative;background-color: white;}#sk-container-id-15 div.sk-parallel-item:first-child::after {align-self: flex-end;width: 50%;}#sk-container-id-15 div.sk-parallel-item:last-child::after {align-self: flex-start;width: 50%;}#sk-container-id-15 div.sk-parallel-item:only-child::after {width: 0;}#sk-container-id-15 div.sk-dashed-wrapped {border: 1px dashed gray;margin: 0 0.4em 0.5em 0.4em;box-sizing: border-box;padding-bottom: 0.4em;background-color: white;}#sk-container-id-15 div.sk-label label {font-family: monospace;font-weight: bold;display: inline-block;line-height: 1.2em;}#sk-container-id-15 div.sk-label-container {text-align: center;}#sk-container-id-15 div.sk-container {/* jupyter's `normalize.less` sets `[hidden] { display: none; }` but bootstrap.min.css set `[hidden] { display: none !important; }` so we also need the `!important` here to be able to override the default hidden behavior on the sphinx rendered scikit-learn.org. See: https://github.com/scikit-learn/scikit-learn/issues/21755 */display: inline-block !important;position: relative;}#sk-container-id-15 div.sk-text-repr-fallback {display: none;}</style><div id=\"sk-container-id-15\" class=\"sk-top-container\"><div class=\"sk-text-repr-fallback\"><pre>LinearRegression()</pre><b>In a Jupyter environment, please rerun this cell to show the HTML representation or trust the notebook. <br />On GitHub, the HTML representation is unable to render, please try loading this page with nbviewer.org.</b></div><div class=\"sk-container\" hidden><div class=\"sk-item\"><div class=\"sk-estimator sk-toggleable\"><input class=\"sk-toggleable__control sk-hidden--visually\" id=\"sk-estimator-id-15\" type=\"checkbox\" checked><label for=\"sk-estimator-id-15\" class=\"sk-toggleable__label sk-toggleable__label-arrow\">LinearRegression</label><div class=\"sk-toggleable__content\"><pre>LinearRegression()</pre></div></div></div></div></div>"
            ]
          },
          "metadata": {},
          "execution_count": 78
        }
      ]
    },
    {
      "cell_type": "markdown",
      "source": [],
      "metadata": {
        "id": "mfiInGJqkKXe"
      }
    },
    {
      "cell_type": "code",
      "source": [
        "# [13] Xpoly2의 shape 확인\n",
        "print(Xnormal.shape, Xpoly2.shape)"
      ],
      "metadata": {
        "id": "x_0qvRi2ZHfy",
        "colab": {
          "base_uri": "https://localhost:8080/"
        },
        "outputId": "f6d91deb-1b2b-47a2-c616-25b7146ce976"
      },
      "execution_count": 80,
      "outputs": [
        {
          "output_type": "stream",
          "name": "stdout",
          "text": [
            "(100, 2) (100, 5)\n"
          ]
        }
      ]
    },
    {
      "cell_type": "code",
      "source": [
        "# [14] poly2의 feature_names 확인\n",
        "poly2.get_feature_names_out()"
      ],
      "metadata": {
        "id": "_sbLVWJJZKc7",
        "colab": {
          "base_uri": "https://localhost:8080/"
        },
        "outputId": "ea46a7e1-abaf-4425-8e21-84badca9f148"
      },
      "execution_count": 81,
      "outputs": [
        {
          "output_type": "execute_result",
          "data": {
            "text/plain": [
              "array(['height', 'weight', 'height^2', 'height weight', 'weight^2'],\n",
              "      dtype=object)"
            ]
          },
          "metadata": {},
          "execution_count": 81
        }
      ]
    },
    {
      "cell_type": "code",
      "source": [
        "# [15] Xpoly2의 상관계수 확인 \n",
        "pd.DataFrame(Xpoly2).corr()"
      ],
      "metadata": {
        "id": "KuvYv-_Zmc_l",
        "colab": {
          "base_uri": "https://localhost:8080/",
          "height": 206
        },
        "outputId": "da609d75-de63-4aa8-d243-a3867cba4d81"
      },
      "execution_count": 84,
      "outputs": [
        {
          "output_type": "execute_result",
          "data": {
            "text/plain": [
              "          0         1         2         3         4\n",
              "0  1.000000  0.604015  0.999526  0.715850  0.602221\n",
              "1  0.604015  1.000000  0.605356  0.987694  0.992038\n",
              "2  0.999526  0.605356  1.000000  0.717912  0.605105\n",
              "3  0.715850  0.987694  0.717912  1.000000  0.984456\n",
              "4  0.602221  0.992038  0.605105  0.984456  1.000000"
            ],
            "text/html": [
              "\n",
              "  <div id=\"df-2384c994-eb74-46ef-8812-e4520e32d87a\">\n",
              "    <div class=\"colab-df-container\">\n",
              "      <div>\n",
              "<style scoped>\n",
              "    .dataframe tbody tr th:only-of-type {\n",
              "        vertical-align: middle;\n",
              "    }\n",
              "\n",
              "    .dataframe tbody tr th {\n",
              "        vertical-align: top;\n",
              "    }\n",
              "\n",
              "    .dataframe thead th {\n",
              "        text-align: right;\n",
              "    }\n",
              "</style>\n",
              "<table border=\"1\" class=\"dataframe\">\n",
              "  <thead>\n",
              "    <tr style=\"text-align: right;\">\n",
              "      <th></th>\n",
              "      <th>0</th>\n",
              "      <th>1</th>\n",
              "      <th>2</th>\n",
              "      <th>3</th>\n",
              "      <th>4</th>\n",
              "    </tr>\n",
              "  </thead>\n",
              "  <tbody>\n",
              "    <tr>\n",
              "      <th>0</th>\n",
              "      <td>1.000000</td>\n",
              "      <td>0.604015</td>\n",
              "      <td>0.999526</td>\n",
              "      <td>0.715850</td>\n",
              "      <td>0.602221</td>\n",
              "    </tr>\n",
              "    <tr>\n",
              "      <th>1</th>\n",
              "      <td>0.604015</td>\n",
              "      <td>1.000000</td>\n",
              "      <td>0.605356</td>\n",
              "      <td>0.987694</td>\n",
              "      <td>0.992038</td>\n",
              "    </tr>\n",
              "    <tr>\n",
              "      <th>2</th>\n",
              "      <td>0.999526</td>\n",
              "      <td>0.605356</td>\n",
              "      <td>1.000000</td>\n",
              "      <td>0.717912</td>\n",
              "      <td>0.605105</td>\n",
              "    </tr>\n",
              "    <tr>\n",
              "      <th>3</th>\n",
              "      <td>0.715850</td>\n",
              "      <td>0.987694</td>\n",
              "      <td>0.717912</td>\n",
              "      <td>1.000000</td>\n",
              "      <td>0.984456</td>\n",
              "    </tr>\n",
              "    <tr>\n",
              "      <th>4</th>\n",
              "      <td>0.602221</td>\n",
              "      <td>0.992038</td>\n",
              "      <td>0.605105</td>\n",
              "      <td>0.984456</td>\n",
              "      <td>1.000000</td>\n",
              "    </tr>\n",
              "  </tbody>\n",
              "</table>\n",
              "</div>\n",
              "      <button class=\"colab-df-convert\" onclick=\"convertToInteractive('df-2384c994-eb74-46ef-8812-e4520e32d87a')\"\n",
              "              title=\"Convert this dataframe to an interactive table.\"\n",
              "              style=\"display:none;\">\n",
              "        \n",
              "  <svg xmlns=\"http://www.w3.org/2000/svg\" height=\"24px\"viewBox=\"0 0 24 24\"\n",
              "       width=\"24px\">\n",
              "    <path d=\"M0 0h24v24H0V0z\" fill=\"none\"/>\n",
              "    <path d=\"M18.56 5.44l.94 2.06.94-2.06 2.06-.94-2.06-.94-.94-2.06-.94 2.06-2.06.94zm-11 1L8.5 8.5l.94-2.06 2.06-.94-2.06-.94L8.5 2.5l-.94 2.06-2.06.94zm10 10l.94 2.06.94-2.06 2.06-.94-2.06-.94-.94-2.06-.94 2.06-2.06.94z\"/><path d=\"M17.41 7.96l-1.37-1.37c-.4-.4-.92-.59-1.43-.59-.52 0-1.04.2-1.43.59L10.3 9.45l-7.72 7.72c-.78.78-.78 2.05 0 2.83L4 21.41c.39.39.9.59 1.41.59.51 0 1.02-.2 1.41-.59l7.78-7.78 2.81-2.81c.8-.78.8-2.07 0-2.86zM5.41 20L4 18.59l7.72-7.72 1.47 1.35L5.41 20z\"/>\n",
              "  </svg>\n",
              "      </button>\n",
              "      \n",
              "  <style>\n",
              "    .colab-df-container {\n",
              "      display:flex;\n",
              "      flex-wrap:wrap;\n",
              "      gap: 12px;\n",
              "    }\n",
              "\n",
              "    .colab-df-convert {\n",
              "      background-color: #E8F0FE;\n",
              "      border: none;\n",
              "      border-radius: 50%;\n",
              "      cursor: pointer;\n",
              "      display: none;\n",
              "      fill: #1967D2;\n",
              "      height: 32px;\n",
              "      padding: 0 0 0 0;\n",
              "      width: 32px;\n",
              "    }\n",
              "\n",
              "    .colab-df-convert:hover {\n",
              "      background-color: #E2EBFA;\n",
              "      box-shadow: 0px 1px 2px rgba(60, 64, 67, 0.3), 0px 1px 3px 1px rgba(60, 64, 67, 0.15);\n",
              "      fill: #174EA6;\n",
              "    }\n",
              "\n",
              "    [theme=dark] .colab-df-convert {\n",
              "      background-color: #3B4455;\n",
              "      fill: #D2E3FC;\n",
              "    }\n",
              "\n",
              "    [theme=dark] .colab-df-convert:hover {\n",
              "      background-color: #434B5C;\n",
              "      box-shadow: 0px 1px 3px 1px rgba(0, 0, 0, 0.15);\n",
              "      filter: drop-shadow(0px 1px 2px rgba(0, 0, 0, 0.3));\n",
              "      fill: #FFFFFF;\n",
              "    }\n",
              "  </style>\n",
              "\n",
              "      <script>\n",
              "        const buttonEl =\n",
              "          document.querySelector('#df-2384c994-eb74-46ef-8812-e4520e32d87a button.colab-df-convert');\n",
              "        buttonEl.style.display =\n",
              "          google.colab.kernel.accessAllowed ? 'block' : 'none';\n",
              "\n",
              "        async function convertToInteractive(key) {\n",
              "          const element = document.querySelector('#df-2384c994-eb74-46ef-8812-e4520e32d87a');\n",
              "          const dataTable =\n",
              "            await google.colab.kernel.invokeFunction('convertToInteractive',\n",
              "                                                     [key], {});\n",
              "          if (!dataTable) return;\n",
              "\n",
              "          const docLinkHtml = 'Like what you see? Visit the ' +\n",
              "            '<a target=\"_blank\" href=https://colab.research.google.com/notebooks/data_table.ipynb>data table notebook</a>'\n",
              "            + ' to learn more about interactive tables.';\n",
              "          element.innerHTML = '';\n",
              "          dataTable['output_type'] = 'display_data';\n",
              "          await google.colab.output.renderOutput(dataTable, element);\n",
              "          const docLink = document.createElement('div');\n",
              "          docLink.innerHTML = docLinkHtml;\n",
              "          element.appendChild(docLink);\n",
              "        }\n",
              "      </script>\n",
              "    </div>\n",
              "  </div>\n",
              "  "
            ]
          },
          "metadata": {},
          "execution_count": 84
        }
      ]
    },
    {
      "cell_type": "code",
      "source": [
        "# [16] PolynomialFeatures 사용하여 3차항이 포함되도록\n",
        "# Xnormal을 변환 함 (PolynomialFeatures에 poly3, 변환 결과에 Xpoly3 이름 부여)\n",
        "poly3 = PolynomialFeatures(degree=3,include_bias=False)#, interaction_only=True, )\n",
        "Xpoly3 = poly3.fit_transform(Xnormal)\n",
        "model = LinearRegression()\n",
        "Model_Train(model, Xpoly3, Ynormal)"
      ],
      "metadata": {
        "id": "6Plr4Sl6Vwbq",
        "colab": {
          "base_uri": "https://localhost:8080/",
          "height": 93
        },
        "outputId": "9ade240e-847a-4a10-e0e6-770f6cdee9fb"
      },
      "execution_count": 96,
      "outputs": [
        {
          "output_type": "stream",
          "name": "stdout",
          "text": [
            "1.0000,1.0000\n"
          ]
        },
        {
          "output_type": "execute_result",
          "data": {
            "text/plain": [
              "LinearRegression()"
            ],
            "text/html": [
              "<style>#sk-container-id-19 {color: black;background-color: white;}#sk-container-id-19 pre{padding: 0;}#sk-container-id-19 div.sk-toggleable {background-color: white;}#sk-container-id-19 label.sk-toggleable__label {cursor: pointer;display: block;width: 100%;margin-bottom: 0;padding: 0.3em;box-sizing: border-box;text-align: center;}#sk-container-id-19 label.sk-toggleable__label-arrow:before {content: \"▸\";float: left;margin-right: 0.25em;color: #696969;}#sk-container-id-19 label.sk-toggleable__label-arrow:hover:before {color: black;}#sk-container-id-19 div.sk-estimator:hover label.sk-toggleable__label-arrow:before {color: black;}#sk-container-id-19 div.sk-toggleable__content {max-height: 0;max-width: 0;overflow: hidden;text-align: left;background-color: #f0f8ff;}#sk-container-id-19 div.sk-toggleable__content pre {margin: 0.2em;color: black;border-radius: 0.25em;background-color: #f0f8ff;}#sk-container-id-19 input.sk-toggleable__control:checked~div.sk-toggleable__content {max-height: 200px;max-width: 100%;overflow: auto;}#sk-container-id-19 input.sk-toggleable__control:checked~label.sk-toggleable__label-arrow:before {content: \"▾\";}#sk-container-id-19 div.sk-estimator input.sk-toggleable__control:checked~label.sk-toggleable__label {background-color: #d4ebff;}#sk-container-id-19 div.sk-label input.sk-toggleable__control:checked~label.sk-toggleable__label {background-color: #d4ebff;}#sk-container-id-19 input.sk-hidden--visually {border: 0;clip: rect(1px 1px 1px 1px);clip: rect(1px, 1px, 1px, 1px);height: 1px;margin: -1px;overflow: hidden;padding: 0;position: absolute;width: 1px;}#sk-container-id-19 div.sk-estimator {font-family: monospace;background-color: #f0f8ff;border: 1px dotted black;border-radius: 0.25em;box-sizing: border-box;margin-bottom: 0.5em;}#sk-container-id-19 div.sk-estimator:hover {background-color: #d4ebff;}#sk-container-id-19 div.sk-parallel-item::after {content: \"\";width: 100%;border-bottom: 1px solid gray;flex-grow: 1;}#sk-container-id-19 div.sk-label:hover label.sk-toggleable__label {background-color: #d4ebff;}#sk-container-id-19 div.sk-serial::before {content: \"\";position: absolute;border-left: 1px solid gray;box-sizing: border-box;top: 0;bottom: 0;left: 50%;z-index: 0;}#sk-container-id-19 div.sk-serial {display: flex;flex-direction: column;align-items: center;background-color: white;padding-right: 0.2em;padding-left: 0.2em;position: relative;}#sk-container-id-19 div.sk-item {position: relative;z-index: 1;}#sk-container-id-19 div.sk-parallel {display: flex;align-items: stretch;justify-content: center;background-color: white;position: relative;}#sk-container-id-19 div.sk-item::before, #sk-container-id-19 div.sk-parallel-item::before {content: \"\";position: absolute;border-left: 1px solid gray;box-sizing: border-box;top: 0;bottom: 0;left: 50%;z-index: -1;}#sk-container-id-19 div.sk-parallel-item {display: flex;flex-direction: column;z-index: 1;position: relative;background-color: white;}#sk-container-id-19 div.sk-parallel-item:first-child::after {align-self: flex-end;width: 50%;}#sk-container-id-19 div.sk-parallel-item:last-child::after {align-self: flex-start;width: 50%;}#sk-container-id-19 div.sk-parallel-item:only-child::after {width: 0;}#sk-container-id-19 div.sk-dashed-wrapped {border: 1px dashed gray;margin: 0 0.4em 0.5em 0.4em;box-sizing: border-box;padding-bottom: 0.4em;background-color: white;}#sk-container-id-19 div.sk-label label {font-family: monospace;font-weight: bold;display: inline-block;line-height: 1.2em;}#sk-container-id-19 div.sk-label-container {text-align: center;}#sk-container-id-19 div.sk-container {/* jupyter's `normalize.less` sets `[hidden] { display: none; }` but bootstrap.min.css set `[hidden] { display: none !important; }` so we also need the `!important` here to be able to override the default hidden behavior on the sphinx rendered scikit-learn.org. See: https://github.com/scikit-learn/scikit-learn/issues/21755 */display: inline-block !important;position: relative;}#sk-container-id-19 div.sk-text-repr-fallback {display: none;}</style><div id=\"sk-container-id-19\" class=\"sk-top-container\"><div class=\"sk-text-repr-fallback\"><pre>LinearRegression()</pre><b>In a Jupyter environment, please rerun this cell to show the HTML representation or trust the notebook. <br />On GitHub, the HTML representation is unable to render, please try loading this page with nbviewer.org.</b></div><div class=\"sk-container\" hidden><div class=\"sk-item\"><div class=\"sk-estimator sk-toggleable\"><input class=\"sk-toggleable__control sk-hidden--visually\" id=\"sk-estimator-id-19\" type=\"checkbox\" checked><label for=\"sk-estimator-id-19\" class=\"sk-toggleable__label sk-toggleable__label-arrow\">LinearRegression</label><div class=\"sk-toggleable__content\"><pre>LinearRegression()</pre></div></div></div></div></div>"
            ]
          },
          "metadata": {},
          "execution_count": 96
        }
      ]
    },
    {
      "cell_type": "code",
      "source": [
        "# [17] Xpoly3의 shape 확인\n",
        "print(Xpoly3.shape)"
      ],
      "metadata": {
        "id": "7oeTGAnaY7_J",
        "colab": {
          "base_uri": "https://localhost:8080/"
        },
        "outputId": "199d5cce-466e-4c2c-de8b-ba5778d9964b"
      },
      "execution_count": 97,
      "outputs": [
        {
          "output_type": "stream",
          "name": "stdout",
          "text": [
            "(100, 9)\n"
          ]
        }
      ]
    },
    {
      "cell_type": "code",
      "source": [
        "# [18] poly3의 shape 확인\n",
        "poly3.get_feature_names_out()"
      ],
      "metadata": {
        "id": "KY0x7BMLbrbs",
        "colab": {
          "base_uri": "https://localhost:8080/"
        },
        "outputId": "da9c9fa6-dc2a-492b-996a-9beb1d15048b"
      },
      "execution_count": 98,
      "outputs": [
        {
          "output_type": "execute_result",
          "data": {
            "text/plain": [
              "array(['height', 'weight', 'height^2', 'height weight', 'weight^2',\n",
              "       'height^3', 'height^2 weight', 'height weight^2', 'weight^3'],\n",
              "      dtype=object)"
            ]
          },
          "metadata": {},
          "execution_count": 98
        }
      ]
    },
    {
      "cell_type": "code",
      "source": [
        "Xpoly3[:5]"
      ],
      "metadata": {
        "id": "-F9MAfu2n70V",
        "outputId": "ceaa2b82-66f2-47a8-cd2e-91884505084d",
        "colab": {
          "base_uri": "https://localhost:8080/"
        }
      },
      "execution_count": 99,
      "outputs": [
        {
          "output_type": "execute_result",
          "data": {
            "text/plain": [
              "array([[1.63100000e+02, 7.13000000e+01, 2.66016100e+04, 1.16290300e+04,\n",
              "        5.08369000e+03, 4.33872259e+06, 1.89669479e+06, 8.29149839e+05,\n",
              "        3.62467097e+05],\n",
              "       [1.75100000e+02, 8.55000000e+01, 3.06600100e+04, 1.49710500e+04,\n",
              "        7.31025000e+03, 5.36856775e+06, 2.62143085e+06, 1.28002477e+06,\n",
              "        6.25026375e+05],\n",
              "       [1.74000000e+02, 7.80000000e+01, 3.02760000e+04, 1.35720000e+04,\n",
              "        6.08400000e+03, 5.26802400e+06, 2.36152800e+06, 1.05861600e+06,\n",
              "        4.74552000e+05],\n",
              "       [1.71200000e+02, 7.31000000e+01, 2.93094400e+04, 1.25147200e+04,\n",
              "        5.34361000e+03, 5.01777613e+06, 2.14252006e+06, 9.14826032e+05,\n",
              "        3.90617891e+05],\n",
              "       [1.60200000e+02, 5.74000000e+01, 2.56640400e+04, 9.19548000e+03,\n",
              "        3.29476000e+03, 4.11137921e+06, 1.47311590e+06, 5.27820552e+05,\n",
              "        1.89119224e+05]])"
            ]
          },
          "metadata": {},
          "execution_count": 99
        }
      ]
    },
    {
      "cell_type": "markdown",
      "source": [
        "### 2-5.Ridge Regression\n",
        "- sklearn.linear_model.Ridge(alpha=1.0, *, fit_intercept=True, normalize='deprecated', copy_X=True, max_iter=None, tol=0.001, solver='auto', positive=False, random_state=None)\n",
        "- coef(회귀계수)가 작아지지만 0이 되지는 않음"
      ],
      "metadata": {
        "id": "VGzRXeVWdTk-"
      }
    },
    {
      "cell_type": "code",
      "source": [
        "# alpha=0 : 규제를 주지 않음\n",
        "# alpha 값이 크다는 것은 규제를 크게 주겠다는 것을 의미 => coef_ 값들이 작아짐"
      ],
      "metadata": {
        "id": "ZrkTNOuIHx5g"
      },
      "execution_count": null,
      "outputs": []
    },
    {
      "cell_type": "code",
      "source": [
        "# [19] PolynomialFeatures degree=3과 Ridge를 사용한 모델링\n"
      ],
      "metadata": {
        "id": "0gQME2RMdXre"
      },
      "execution_count": null,
      "outputs": []
    },
    {
      "cell_type": "code",
      "source": [
        "# [20] ridge_coef 출력하여 회귀계수 확인\n"
      ],
      "metadata": {
        "id": "m9PYo-9nebFI"
      },
      "execution_count": null,
      "outputs": []
    },
    {
      "cell_type": "markdown",
      "source": [
        "### 2-6.Lasso Regression\n",
        "- sklearn.linear_model.Lasso(alpha=1.0, *, fit_intercept=True, normalize='deprecated', precompute=False, copy_X=True, max_iter=1000, tol=0.0001, warm_start=False, positive=False, random_state=None, selection='cyclic')\n",
        "- 규제강도가 커지면 회귀계수가 작아지고 0도 될 수 있다"
      ],
      "metadata": {
        "id": "9Rs-KNSBmN5V"
      }
    },
    {
      "cell_type": "code",
      "source": [
        "# [21] degree=3과 Lasso를 사용한 모델링\n"
      ],
      "metadata": {
        "id": "vgVW5zTNcuNV"
      },
      "execution_count": null,
      "outputs": []
    },
    {
      "cell_type": "code",
      "source": [
        "# [22] lasso_coef 출력하여 회귀계수 확인\n"
      ],
      "metadata": {
        "id": "GU-S6_NxgJD-"
      },
      "execution_count": null,
      "outputs": []
    },
    {
      "cell_type": "code",
      "source": [
        "# Ridge, Lasso는 overfitting 되는 데이터에 주로 사용하여 overfitting을 해결하는 용도로 사용한다"
      ],
      "metadata": {
        "id": "zQTU0Mc3gl8a"
      },
      "execution_count": null,
      "outputs": []
    },
    {
      "cell_type": "markdown",
      "source": [
        "### 2-7.DecisionTree \n",
        "- sklearn.tree.DecisionTreeRegressor(*, criterion='squared_error', splitter='best', max_depth=None, min_samples_split=2, min_samples_leaf=1, min_weight_fraction_leaf=0.0, max_features=None, random_state=None, max_leaf_nodes=None, min_impurity_decrease=0.0, ccp_alpha=0.0"
      ],
      "metadata": {
        "id": "O30hcJEqhAsr"
      }
    },
    {
      "cell_type": "code",
      "source": [
        "# [22] Xnormal, Ynormal 데이터에 DecisionTreeRegressor 사용\n"
      ],
      "metadata": {
        "id": "5hJOCWXahH6G"
      },
      "execution_count": null,
      "outputs": []
    },
    {
      "cell_type": "code",
      "source": [
        "# train  test   \n",
        "# 1.0000 0.7371  => overfitting, 과대적합\n",
        "# 과대적합 해결방법 => Ridge, Lasso, 앙상블\n",
        "#                      데이터의 크기를 늘리는 것, 함수의 parameter에 값을 변경"
      ],
      "metadata": {
        "id": "QyXvf0AFnWWD"
      },
      "execution_count": null,
      "outputs": []
    },
    {
      "cell_type": "code",
      "source": [
        "# [23] 데이터의 개수를 2000개로 늘려 DecisionTreeRegressor 사용 \n"
      ],
      "metadata": {
        "id": "-iB-OGUSiZJL"
      },
      "execution_count": null,
      "outputs": []
    },
    {
      "cell_type": "markdown",
      "source": [
        "### 2-8.앙상블"
      ],
      "metadata": {
        "id": "5CL28vrvm1p1"
      }
    },
    {
      "cell_type": "markdown",
      "source": [
        "- sklearn.ensemble.RandomForestRegressor(n_estimators=100, *, criterion='squared_error', max_depth=None, min_samples_split=2, min_samples_leaf=1, min_weight_fraction_leaf=0.0, max_features='auto', max_leaf_nodes=None, min_impurity_decrease=0.0, bootstrap=True, oob_score=False, n_jobs=None, random_state=None, verbose=0, warm_start=False, ccp_alpha=0.0, max_samples=None)\n",
        "- https://xgboost.readthedocs.io/en/latest/python/python_api.html#module-xgboost.sklearn"
      ],
      "metadata": {
        "id": "nn4KunPFkgUx"
      }
    },
    {
      "cell_type": "code",
      "source": [
        "# [24] Xnormal, Ynormal 데이터에 RandomForestRegressor 사용\n"
      ],
      "metadata": {
        "id": "J0_OCv2tm4MR"
      },
      "execution_count": null,
      "outputs": []
    },
    {
      "cell_type": "code",
      "source": [
        "# [25] Xnormal을 2차식으로 만든 후 RandomForestRegressor 사용\n"
      ],
      "metadata": {
        "id": "JGlu8lLne5yy"
      },
      "execution_count": null,
      "outputs": []
    },
    {
      "cell_type": "code",
      "source": [
        "# [26] 데이터의 개수를 2000개로 늘려 RandomForestRegressor 사용\n"
      ],
      "metadata": {
        "id": "fqbRgJvszzMM"
      },
      "execution_count": null,
      "outputs": []
    },
    {
      "cell_type": "markdown",
      "source": [
        "- XBGRegressor : max_depth=3, learning_rate=0.1, n_estimators=100, verbosity=1, silent=None, objective=\"reg:linear\", booster='gbtree', n_jobs=1, nthread=None, gamma=0, min_child_weight=1, max_delta_step=0, subsample=1, colsample_bytree=1, colsample_bylevel=1, colsample_bynode=1, reg_alpha=0, reg_lambda=1, scale_pos_weight=1, base_score=0.5, random_state=0, seed=None, missing=None, importance_type=\"gain\", **kwargs) "
      ],
      "metadata": {
        "id": "4roj2vVhrktv"
      }
    },
    {
      "cell_type": "code",
      "source": [
        "# [27] Xnormal, Ynormal 데이터에 XGBRegressor 사용\n"
      ],
      "metadata": {
        "id": "coyVxRcomyJg"
      },
      "execution_count": null,
      "outputs": []
    },
    {
      "cell_type": "code",
      "source": [
        "# [28] 데이터의 개수를 2000개로 늘려 XGBRegressor 사용\n"
      ],
      "metadata": {
        "id": "U_6xS0I82vmf"
      },
      "execution_count": null,
      "outputs": []
    },
    {
      "cell_type": "code",
      "source": [],
      "metadata": {
        "id": "SgrFIF7qDtWX"
      },
      "execution_count": null,
      "outputs": []
    },
    {
      "cell_type": "markdown",
      "source": [
        "## 3.회귀 모델 성능평가\n",
        "\n",
        "- $R^2$ score\n",
        "  - model.score(X, y)\n",
        "  - sklearn.metrics.r2_score(y_true, y_pred)\n",
        "  - 분산 기반으로 예측 성능을 평가\n",
        "  - 예측값 분산 / 실제값 분산\n",
        "- MAE(Mean Absolute Error)\n",
        "   - sklearn.metrics.mean_absolute_error(y_true, y_pred)\n",
        "   - 실제 값과 예측 값의 차이를 절댓값으로 변환해 평균한 것\n",
        "- MSE(Mean Squared Error)\n",
        "   - sklearn.metrics.mean_squared_error(y_true, y_pred)  \n",
        "   - 실제 값과 예측 값의 차이를 제곱해 평균한 것\n",
        "- RMSE(Root Mean Squared Error)\n",
        "   - sklearn API에 없음\n",
        "   - MSE에 np.sqrt() 또는 ** 0.5를 사용함\n",
        "   - MSE 값은 오류의 제곱을 구하므로 실제 오류 평균보다 더 커지는 특성이 있어 MSE에 루트를 씌운 것\n",
        "- MSLE(Mean Squared Log Error)\n",
        "   - sklearn.metrics.mean_squared_log_error(y_true, y_pred)\n",
        "   - MSE에 로그를 적용해준 지표\n",
        "- RMSLE(Root Mean Square Logarithmic Error) \n",
        "   - RMSE에 로그를 적용해준 지표\n",
        "   - 이상치가 있더라도 변동폭이 크지 않음(이상치에 강건함)\n",
        "   - 실제값보다 예측값이 작을 때 더 큰 패널티 부여\n",
        "   - 작게 예측하면 안되는 경우 사용하면 좋음 (배달 시간 예측)\n",
        "   - 실제값, 예측값에 음수가 있으면 안됨 (오류 발생)\n",
        "- 참조 : https://bkshin.tistory.com/entry/%EB%A8%B8%EC%8B%A0%EB%9F%AC%EB%8B%9D-17-%ED%9A%8C%EA%B7%80-%ED%8F%89%EA%B0%80-%EC%A7%80%ED%91%9C"
      ],
      "metadata": {
        "id": "tIUm-VR0wy9O"
      }
    },
    {
      "cell_type": "markdown",
      "source": [
        "### 3-1.성능평가 함수"
      ],
      "metadata": {
        "id": "ken5C_sI6xBL"
      }
    },
    {
      "cell_type": "code",
      "source": [
        "from sklearn.metrics import r2_score\n",
        "from sklearn.metrics import mean_absolute_error as mae\n",
        "from sklearn.metrics import mean_squared_error as mse\n",
        "from sklearn.metrics import mean_squared_log_error as msle\n",
        "\n",
        "# [29] r2_score, mae, mse, rmse, msle, rmsle 를 구해 반환하는 함수를 작성합니다.\n",
        "# 한 개의 행에 6가지 성능평가 결과를 소수점 아래 4자리까지 표시되도록 하여 작성합니다.\n",
        "def get_scores(model, X, Y):\n",
        "    pass"
      ],
      "metadata": {
        "id": "zFe05b6Uwewx"
      },
      "execution_count": null,
      "outputs": []
    },
    {
      "cell_type": "markdown",
      "source": [
        "### 3-2.모델링 함수"
      ],
      "metadata": {
        "id": "t6W7EcJJ61kU"
      }
    },
    {
      "cell_type": "code",
      "source": [
        "# [30] Model_Train함수를 수정해서 \n",
        "# train, test에 대한 6가지 성능평가 결과를 출력하는 Model_Train2 함수를 작성합니다.\n",
        "def Model_Train_2(model, XF, YF, scale=False):\n",
        "    # 7:3 분리, random_state=321  (주의: stratify사용 안함 -> 분류 모델에서만 사용)\n",
        "    if scale:\n",
        "        XF = MinMaxScaler().fit_transform(XF)\n",
        "    xtrain, xtest, ytrain, ytest = train_test_split(XF, YF, \n",
        "                                                    test_size=0.3, \n",
        "                                                    random_state=321)\n",
        "    model.fit(xtrain, ytrain)\n",
        "    #  코드 추가 부분\n",
        "    \n",
        "    \n",
        "    return model"
      ],
      "metadata": {
        "id": "MJRvdLx613F1"
      },
      "execution_count": null,
      "outputs": []
    },
    {
      "cell_type": "markdown",
      "source": [
        "### 3-3.여러 모델 적용"
      ],
      "metadata": {
        "id": "ar5RnjRV8f4G"
      }
    },
    {
      "cell_type": "code",
      "source": [
        "# [31] Xnormal, Ynormal 데이터 사용, LinearRegression => model1\n"
      ],
      "metadata": {
        "colab": {
          "base_uri": "https://localhost:8080/"
        },
        "id": "DPMCqpmL7UOB",
        "outputId": "f729f4bc-2479-4826-b792-2375e0d0f012"
      },
      "execution_count": null,
      "outputs": [
        {
          "output_type": "stream",
          "name": "stdout",
          "text": [
            "train : r2: 0.9931 mae: 0.2648 mse: 0.1200 msle: 0.0003 rmse: 0.3464 rmsle: 0.0165\n",
            "test : r2: 0.9625 mae: 0.3783 mse: 0.3626 msle: 0.0010 rmse: 0.6022 rmsle: 0.0313\n"
          ]
        },
        {
          "output_type": "execute_result",
          "data": {
            "text/plain": [
              "LinearRegression()"
            ]
          },
          "metadata": {},
          "execution_count": 133
        }
      ]
    },
    {
      "cell_type": "code",
      "source": [
        "# [32] Xpoly3, Ynormal 데이터 사용, LinearRegression => model2\n"
      ],
      "metadata": {
        "id": "CefaJ30077a3"
      },
      "execution_count": null,
      "outputs": []
    },
    {
      "cell_type": "code",
      "source": [
        "# [33] Xlarge, Ylarge 데이터 사용, XGBRegressor => model3\n"
      ],
      "metadata": {
        "id": "KYI76X6R8Hj1"
      },
      "execution_count": null,
      "outputs": []
    },
    {
      "cell_type": "code",
      "source": [
        "# [34] X_submission, Y_hidden 데이터를 사용하여 model1, model2, model3의 성능을 평가하여봄 \n",
        "# (실제는 할 수 없음)\n"
      ],
      "metadata": {
        "id": "nIRRRkkO8DR4"
      },
      "execution_count": null,
      "outputs": []
    },
    {
      "cell_type": "code",
      "source": [
        "# [35] 제출파일 만들기 (실제 문제에서 요구하는 형태로 작성해야 함)\n"
      ],
      "metadata": {
        "id": "0QWqC_0Kuiro"
      },
      "execution_count": null,
      "outputs": []
    },
    {
      "cell_type": "code",
      "source": [],
      "metadata": {
        "id": "tlwwVTRCnLCH"
      },
      "execution_count": null,
      "outputs": []
    },
    {
      "cell_type": "markdown",
      "metadata": {
        "id": "XUPWlWuCVYYE"
      },
      "source": [
        "## 4.웹사이트 방문자 예측"
      ]
    },
    {
      "cell_type": "code",
      "metadata": {
        "id": "MIoEz7R4U_D9",
        "colab": {
          "base_uri": "https://localhost:8080/"
        },
        "outputId": "a47653c6-2136-4214-85e0-7d15ac30814e"
      },
      "source": [
        "!git clone https://github.com/Soyoung-Yoon/bigdata"
      ],
      "execution_count": null,
      "outputs": [
        {
          "output_type": "stream",
          "name": "stdout",
          "text": [
            "Cloning into 'bigdata'...\n",
            "remote: Enumerating objects: 41, done.\u001b[K\n",
            "remote: Counting objects: 100% (41/41), done.\u001b[K\n",
            "remote: Compressing objects: 100% (41/41), done.\u001b[K\n",
            "remote: Total 41 (delta 11), reused 0 (delta 0), pack-reused 0\u001b[K\n",
            "Unpacking objects: 100% (41/41), done.\n"
          ]
        }
      ]
    },
    {
      "cell_type": "markdown",
      "source": [
        "### 4-1. 데이터 이해, 생성\n",
        "- 1개 데이터를 나누어 시험용으로 변경해 보는 작업\n",
        "- 실제 시험에서는 이런 과정은 필요 없음\n"
      ],
      "metadata": {
        "id": "_5ler3JINPof"
      }
    },
    {
      "cell_type": "code",
      "source": [
        "# https://www.kaggle.com/bobnau/daily-website-visitors\n",
        "# Daily number of pages loaded\n",
        "# Daily number of visitors from whose IP addresses there haven't been hits on any page in over 6 hours\n",
        "# Number of unique visitors who do not have a cookie identifying them as a previous customer\n",
        "# Number of unique visitors minus first time visitors"
      ],
      "metadata": {
        "id": "YiZ7Sp3Gwp9C"
      },
      "execution_count": null,
      "outputs": []
    },
    {
      "cell_type": "code",
      "source": [
        "# [1] 'bigdata/daily-website-visitors.csv' 파일 불러오기, shape 확인하기\n"
      ],
      "metadata": {
        "id": "axronwtctIX5"
      },
      "execution_count": null,
      "outputs": []
    },
    {
      "cell_type": "code",
      "source": [
        "# [2] head를 사용해 데이터의 모습 확인\n",
        "# 컬럼명이 대소문자 섞여 있어 사용하기 좋지 않음 \n"
      ],
      "metadata": {
        "id": "-_MHO0lifyV0"
      },
      "execution_count": null,
      "outputs": []
    },
    {
      "cell_type": "code",
      "source": [
        "# [3] 컬럼명 정리 - 소문자로 변경, '.'을 '-'로 변경\n"
      ],
      "metadata": {
        "id": "FqihypH0f4Mb"
      },
      "execution_count": null,
      "outputs": []
    },
    {
      "cell_type": "markdown",
      "source": [
        "컬럼 정보\n",
        "- row : 1번 부터 시작하는 일련번호\n",
        "- day : 요일 정보\n",
        "- day_of_week : 요일 정보\n",
        "- date : 날짜 정보\n",
        "- page_loads : 로드된 일별 페이지 수\n",
        "- unique_visits : 6시간 이상 페이지에서 조회되지 않은 IP 주소의 일일 방문자 수\n",
        "- first_time_visits : 이전 고객으로 식별되는 쿠키를 가지고 있지 않은 고유 방문자 수\n",
        "- returning_visits : unique_visits 수에서 first_time_visits 제외"
      ],
      "metadata": {
        "id": "XKttWN_7MNWC"
      }
    },
    {
      "cell_type": "code",
      "source": [
        "# [4] unique_visits를 예측하는 값으로 사용할 것이며, 수치데이터 이어야 함\n",
        "# 콤마 제거 후, int로 형변환\n"
      ],
      "metadata": {
        "id": "EoIQUBSAiy-n"
      },
      "execution_count": null,
      "outputs": []
    },
    {
      "cell_type": "code",
      "source": [
        "# [5] 시험 형식으로 train, test 데이터로 나누어 저장합니다.  (6:4 비율)\n",
        "\n",
        "\n",
        "# 여러 가지 데이터가 고루 섞이도록 해야 함\n"
      ],
      "metadata": {
        "id": "qsEfTqNgfJEg"
      },
      "execution_count": null,
      "outputs": []
    },
    {
      "cell_type": "markdown",
      "source": [
        "### 4-2. 데이터 불러오기, 전처리"
      ],
      "metadata": {
        "id": "viF3bn3BNIL6"
      }
    },
    {
      "cell_type": "code",
      "source": [
        "# [1] 데이터 파일 불러오기\n"
      ],
      "metadata": {
        "id": "3tYKt8HKhFli"
      },
      "execution_count": null,
      "outputs": []
    },
    {
      "cell_type": "code",
      "source": [
        "# [2] dfX 만들기, dfX의 info() 확인\n",
        "# use, submission 데이터를 묶어 전처리 하기 위함\n"
      ],
      "metadata": {
        "id": "XH2HdhV2tl-S"
      },
      "execution_count": null,
      "outputs": []
    },
    {
      "cell_type": "code",
      "source": [
        "# [3] dfX의 object 값이 어떤 것인지 확인하기 위해 5줄 출력을 합니다.\n"
      ],
      "metadata": {
        "id": "g2WmU8GliOJT"
      },
      "execution_count": null,
      "outputs": []
    },
    {
      "cell_type": "code",
      "source": [
        "# [4] 'page_loads', 'first_time_visits', 'returning_visits' 에 대해서 \n",
        "#  콤마를 없애고, int로 형변환 합니다\n"
      ],
      "metadata": {
        "id": "QEkHrVc1tjrN"
      },
      "execution_count": null,
      "outputs": []
    },
    {
      "cell_type": "code",
      "source": [
        "# [5] 'date'에 대해서 datetime64로 형변환 합니다.\n",
        "#dfX['date'] = dfX['date'].astype('datetime64')\n"
      ],
      "metadata": {
        "id": "kUt_sSsht6gR"
      },
      "execution_count": null,
      "outputs": []
    },
    {
      "cell_type": "code",
      "source": [
        "# [6] 형변환이 올바르게 되었는지 확인합니다.\n"
      ],
      "metadata": {
        "id": "bGBU2gL0ulz6"
      },
      "execution_count": null,
      "outputs": []
    },
    {
      "cell_type": "code",
      "source": [
        "# [7] day, day_of_week를 확인해 보면 동일한 데이터 인 것을 알 수 있음\n",
        "# 'day' 컬럼을 제거합니다.\n"
      ],
      "metadata": {
        "id": "fexDlnyXkqNQ"
      },
      "execution_count": null,
      "outputs": []
    },
    {
      "cell_type": "code",
      "source": [
        "# [8] 'date'에서 'year', 'month', 'day'에 대한 정보를 dfX3에 포함시키고, 'date' 를 제거합니다.\n",
        "# 상황에 따라 'quarter' 사용도 고려할 수 있음, 주말/주중으로 나눌 수도 있음 ...  \n"
      ],
      "metadata": {
        "id": "TmrffmuzvlZk"
      },
      "execution_count": null,
      "outputs": []
    },
    {
      "cell_type": "code",
      "source": [
        "# [9] dfX3과 Y를 merge 합니다.\n",
        "# Y와 X의 feature의 관계를 분석해 보기 위해!\n"
      ],
      "metadata": {
        "id": "ChRTc-WymkNo"
      },
      "execution_count": null,
      "outputs": []
    },
    {
      "cell_type": "code",
      "source": [
        "# [10] dfXY의 상관계수를 확인한다\n",
        "# 'unique_visits'와 상관이 매우 높은 feature들이 있음 (page_loads, first_time_visits, returning_visits)\n"
      ],
      "metadata": {
        "id": "3nYOXkR_9QpS"
      },
      "execution_count": null,
      "outputs": []
    },
    {
      "cell_type": "code",
      "source": [
        "# [11] 'day_of_week' 별 'unique_visits'의 평균을 구해본다.\n",
        "# 2, 3, 4, 5 가 높고 1, 6, 7이 낮은 것을 볼 수 있다.\n"
      ],
      "metadata": {
        "id": "ro6K5c64wXuy"
      },
      "execution_count": null,
      "outputs": []
    },
    {
      "cell_type": "code",
      "source": [
        "# [12] 'day_of_week' 별 평균이 높은 것에 대한 데이터를 high_day_of_week로 저장\n"
      ],
      "metadata": {
        "id": "44C1oXt4mJVy"
      },
      "execution_count": null,
      "outputs": []
    },
    {
      "cell_type": "code",
      "source": [
        "# [13] 'month' 별 'unique_visits'의 평균을 구해본다.\n",
        "# 2, 3, 4, 5, 10, 11이 높고 1, 6, 7이 낮은 것을 볼 수 있다.\n"
      ],
      "metadata": {
        "id": "iDZX7wrdnF2M"
      },
      "execution_count": null,
      "outputs": []
    },
    {
      "cell_type": "code",
      "source": [
        "# [14] 'month' 별 평균이 높은 것에 대한 데이터를 high_day_of_week로 저장\n"
      ],
      "metadata": {
        "id": "LLFI4SEtQwd9"
      },
      "execution_count": null,
      "outputs": []
    },
    {
      "cell_type": "code",
      "source": [
        "# [15] high_day_of_week, high_month의 index 정보를 사용해 파생 변수 생성\n",
        "# dfX3에 높은 평균을 갖는 요일과 달을 1, 아닌 것을 0으로 하는 dow_h, month_h 변수 추가\n",
        "import numpy as np\n"
      ],
      "metadata": {
        "id": "Pc2ZUmwOzigZ"
      },
      "execution_count": null,
      "outputs": []
    },
    {
      "cell_type": "code",
      "source": [],
      "metadata": {
        "id": "C31iCjPC7OQG"
      },
      "execution_count": null,
      "outputs": []
    },
    {
      "cell_type": "markdown",
      "source": [
        "### 4-3.성능평가, 모델링 함수\n"
      ],
      "metadata": {
        "id": "vywUBzy4TETR"
      }
    },
    {
      "cell_type": "code",
      "source": [
        "#[16] 사용할 라이브러리 import\n",
        "from sklearn.model_selection import train_test_split\n",
        "from sklearn.linear_model import LinearRegression\n",
        "from sklearn.tree import DecisionTreeRegressor\n",
        "from sklearn.ensemble import RandomForestRegressor\n",
        "from xgboost import XGBRegressor\n",
        "\n",
        "from sklearn.preprocessing import PolynomialFeatures\n",
        "from sklearn.linear_model import Ridge, Lasso"
      ],
      "metadata": {
        "id": "0KjwP8wTSkuh"
      },
      "execution_count": null,
      "outputs": []
    },
    {
      "cell_type": "code",
      "source": [
        "from sklearn.metrics import r2_score\n",
        "from sklearn.metrics import mean_absolute_error as mae\n",
        "from sklearn.metrics import mean_squared_error as mse\n",
        "from sklearn.metrics import mean_squared_log_error as msle\n",
        "\n",
        "# [17] r2_train, r2_test, mae, mse, rmse, msle, rmsle 를 구해 \n",
        "#      Series로 반환하는 함수를 작성합니다.\n",
        "def get_scores2(model, xtrain, xtest, ytrain, ytest):\n",
        "    scores = None\n",
        "    \n",
        "    return  scores"
      ],
      "metadata": {
        "id": "AhB-dduFf10t"
      },
      "execution_count": null,
      "outputs": []
    },
    {
      "cell_type": "code",
      "source": [
        "# [18] 다양한 모델을 만들고 성능을 출력하는 함수 작성\n",
        "# 결과를 DataFrame으로 만듭니다\n",
        "def make_models(xtrain, xtest, ytrain, ytest, n=300, RL=False):\n",
        "    temp = pd.DataFrame()\n",
        "    \n",
        "    return temp"
      ],
      "metadata": {
        "id": "oTIj_pGIepyQ"
      },
      "execution_count": null,
      "outputs": []
    },
    {
      "cell_type": "code",
      "source": [],
      "metadata": {
        "id": "_q4pbuRlKFEf"
      },
      "execution_count": null,
      "outputs": []
    },
    {
      "cell_type": "markdown",
      "source": [
        "### 4-4.데이터 분리, 모델적용"
      ],
      "metadata": {
        "id": "-rvYjMCWuxC6"
      }
    },
    {
      "cell_type": "code",
      "source": [
        "# [19] 학습에 사용할 feature 선택, \n",
        "# dfX4로 저장\n",
        "# 'page_loads','first_time_visits' => 이것을 사용하면 성능이 무지 좋아요. (높은 상관계수)\n",
        "\n"
      ],
      "metadata": {
        "id": "5Byg4kqEunL-"
      },
      "execution_count": null,
      "outputs": []
    },
    {
      "cell_type": "code",
      "source": [
        "# [20] dfX4 데이터를 X_use, X_submission 으로 다시 분리\n",
        "# dfX4 분리에서는 X_use의 행의 개수 사용\n",
        "# YF, Y_submissionF 생성  Y에서 'unique_visits'만 선택\n"
      ],
      "metadata": {
        "id": "k13UG-bDuLyg"
      },
      "execution_count": null,
      "outputs": []
    },
    {
      "cell_type": "code",
      "source": [
        "# [21] XF, YF 데이터를 사용하여 데이터를 분리하고 make_models를 호출합니다.\n"
      ],
      "metadata": {
        "id": "qdPSq0TRj0TM"
      },
      "execution_count": null,
      "outputs": []
    },
    {
      "cell_type": "code",
      "source": [
        "# [22] 여러 가지 조건으로 정렬하고 평가할 수 있음\n"
      ],
      "metadata": {
        "id": "Yk9QmemCqBUB"
      },
      "execution_count": null,
      "outputs": []
    },
    {
      "cell_type": "code",
      "source": [
        "# [23] Polynomial Regression  + Ridge, Lasso 실행\n"
      ],
      "metadata": {
        "id": "DgfHbvsbXQ2W"
      },
      "execution_count": null,
      "outputs": []
    },
    {
      "cell_type": "code",
      "source": [
        "# [24] 여러 가지 조건으로 정렬하고 평가할 수 있음\n"
      ],
      "metadata": {
        "id": "Oz_YIYJpsJj5"
      },
      "execution_count": null,
      "outputs": []
    },
    {
      "cell_type": "code",
      "source": [
        "# [TIP] 학습 중 warning 메시지 없애기\n",
        "import warnings\n",
        "warnings.filterwarnings('ignore')"
      ],
      "metadata": {
        "id": "1d0GamF9cG0G"
      },
      "execution_count": null,
      "outputs": []
    },
    {
      "cell_type": "code",
      "source": [],
      "metadata": {
        "id": "R2C8VQWe_-FN"
      },
      "execution_count": null,
      "outputs": []
    },
    {
      "cell_type": "markdown",
      "source": [
        "### 4-5. 모델 선택, 결과 제출"
      ],
      "metadata": {
        "id": "yZLKTfQMXDpL"
      }
    },
    {
      "cell_type": "code",
      "source": [
        "# [25] xtrain, ytrain으로 모델 학습시켜 model 로 저장\n"
      ],
      "metadata": {
        "id": "jy0NcFz9OiLa"
      },
      "execution_count": null,
      "outputs": []
    },
    {
      "cell_type": "code",
      "source": [
        "# [26] X_submissionF 데이터로 pred 구하고 submission DataFrame 생성\n"
      ],
      "metadata": {
        "id": "tZNHCVbswAZm"
      },
      "execution_count": null,
      "outputs": []
    },
    {
      "cell_type": "code",
      "source": [
        "# [27] xtrain2, ytrain2으로 모델 학습시켜 model 로 저장\n"
      ],
      "metadata": {
        "id": "g5lXhgCguFVC"
      },
      "execution_count": null,
      "outputs": []
    },
    {
      "cell_type": "code",
      "source": [
        "# [28] X_submissionF2 데이터로 pred 구하고 submission DataFrame 생성\n"
      ],
      "metadata": {
        "id": "0lP6ThERuE5q"
      },
      "execution_count": null,
      "outputs": []
    },
    {
      "cell_type": "code",
      "source": [
        "# [29] 파일로 저장"
      ],
      "metadata": {
        "id": "msbGSDVIwpdy"
      },
      "execution_count": null,
      "outputs": []
    },
    {
      "cell_type": "code",
      "source": [],
      "metadata": {
        "id": "5wumIOPw2pXC"
      },
      "execution_count": null,
      "outputs": []
    },
    {
      "cell_type": "markdown",
      "source": [
        "### 4-6.시험보러 가서는 이렇게\n",
        "- 직접 코드를 작성해 보세요."
      ],
      "metadata": {
        "id": "ppYH817ASPvp"
      }
    },
    {
      "cell_type": "code",
      "source": [
        "# 여기에 작성하시면 됩니다.\n",
        "# 영상에서 make_models_f 함수 내부의 \n",
        "# get_scores2 를  get_scores_f 로 변경을 안했네요 ^^! 수정해 주세요!\n",
        "\n",
        "\n",
        "\n"
      ],
      "metadata": {
        "id": "RwI9-nLUSWmf"
      },
      "execution_count": null,
      "outputs": []
    },
    {
      "cell_type": "markdown",
      "source": [
        "## 5.보험 예측"
      ],
      "metadata": {
        "id": "TLifMZixB8Bp"
      }
    },
    {
      "cell_type": "code",
      "source": [
        "!git clone https://github.com/Soyoung-Yoon/bigdata"
      ],
      "metadata": {
        "id": "Mo8vMQXZyVrR",
        "colab": {
          "base_uri": "https://localhost:8080/"
        },
        "outputId": "45d96ac1-47d6-41a3-943a-b26c144a3072"
      },
      "execution_count": null,
      "outputs": [
        {
          "output_type": "stream",
          "name": "stdout",
          "text": [
            "Cloning into 'bigdata'...\n",
            "remote: Enumerating objects: 41, done.\u001b[K\n",
            "remote: Counting objects: 100% (41/41), done.\u001b[K\n",
            "remote: Compressing objects: 100% (41/41), done.\u001b[K\n",
            "remote: Total 41 (delta 11), reused 0 (delta 0), pack-reused 0\u001b[K\n",
            "Unpacking objects: 100% (41/41), done.\n"
          ]
        }
      ]
    },
    {
      "cell_type": "markdown",
      "source": [
        "### 5-1. 데이터 이해, 생성\n",
        "- 1개 데이터를 나누어 시험용으로 변경해 보는 작업\n",
        "- 실제 시험에서는 이런 과정은 필요 없음\n"
      ],
      "metadata": {
        "id": "xzQnxTtRzEOt"
      }
    },
    {
      "cell_type": "code",
      "source": [
        "# https://www.kaggle.com/qusaybtoush/insurance-forecast-by-using-linear-regression\n",
        "# Age: age of primary beneficiary\n",
        "# Sex: insurance contractor gender, female, male\n",
        "# bmi: Body mass index, providing an understanding of body, weights that are relatively high or low relative to height, objective index of body weight (kg / m ^ 2) using the ratio of height to weight, ideally 18.5 to 24.9\n",
        "# Children: Number of children covered by health insurance / Number of dependents\n",
        "# Smoker: Smoking\n",
        "# Region: the beneficiary's residential area in the US, northeast, southeast, southwest, northwest.\n",
        "# Charges: Individual medical costs billed by health insurance"
      ],
      "metadata": {
        "id": "qGvDHQe_E0yz"
      },
      "execution_count": null,
      "outputs": []
    },
    {
      "cell_type": "markdown",
      "source": [
        "컬럼 정보\n",
        "- age : 1차 수혜자 연령\n",
        "- sex : 보험 계약자 성별\n",
        "- bmi : 비만도 지수\n",
        "- children : 건강보험 적용 대상 아동 수\n",
        "- smoker : 흡연여부\n",
        "- regioin : 거주지역\n",
        "- charges : 의료 보험에서 청구하는 개별 의료비"
      ],
      "metadata": {
        "id": "h-lu6yPVzY52"
      }
    },
    {
      "cell_type": "code",
      "source": [
        "# [0] 사용 라이브러리 import\n",
        "import pandas as pd\n",
        "\n",
        "# 데이타가 많은경우 모두 출력 안되고 ... 으로 생략해서 출력됨.\n",
        "pd.set_option('max_rows',500)    #출력할 max row를 지정\n",
        "pd.set_option('max_columns',20)  #출력할 max columns를 지정\n",
        "#출력 format 지정 - 소수점아래 4자리까지\n",
        "pd.set_option('display.float_format', '{:.4f}'.format)"
      ],
      "metadata": {
        "id": "d78mXwPF7fIf"
      },
      "execution_count": null,
      "outputs": []
    },
    {
      "cell_type": "code",
      "source": [
        "# [1] 'bigdata/insurance.csv' 파일 불러오기, shape 확인하기\n",
        "df = pd.read_csv('bigdata/insurance.csv')\n",
        "df.shape"
      ],
      "metadata": {
        "id": "OZigg4mAE4Xn",
        "colab": {
          "base_uri": "https://localhost:8080/"
        },
        "outputId": "105d8e40-4469-4d69-cc34-a685ca9f128b"
      },
      "execution_count": null,
      "outputs": [
        {
          "output_type": "execute_result",
          "data": {
            "text/plain": [
              "(1338, 7)"
            ]
          },
          "metadata": {},
          "execution_count": 3
        }
      ]
    },
    {
      "cell_type": "code",
      "source": [
        "# [2] head를 사용해 데이터의 모습 확인  (Y => charges)\n",
        "df.head(2)"
      ],
      "metadata": {
        "colab": {
          "base_uri": "https://localhost:8080/",
          "height": 112
        },
        "id": "MSgOy8Bty8Mb",
        "outputId": "fcf518a5-8d04-481f-8ddd-024f8b486626"
      },
      "execution_count": null,
      "outputs": [
        {
          "output_type": "execute_result",
          "data": {
            "text/html": [
              "\n",
              "  <div id=\"df-ea390b4d-33f4-4923-8cec-47ce6b4c0a77\">\n",
              "    <div class=\"colab-df-container\">\n",
              "      <div>\n",
              "<style scoped>\n",
              "    .dataframe tbody tr th:only-of-type {\n",
              "        vertical-align: middle;\n",
              "    }\n",
              "\n",
              "    .dataframe tbody tr th {\n",
              "        vertical-align: top;\n",
              "    }\n",
              "\n",
              "    .dataframe thead th {\n",
              "        text-align: right;\n",
              "    }\n",
              "</style>\n",
              "<table border=\"1\" class=\"dataframe\">\n",
              "  <thead>\n",
              "    <tr style=\"text-align: right;\">\n",
              "      <th></th>\n",
              "      <th>age</th>\n",
              "      <th>sex</th>\n",
              "      <th>bmi</th>\n",
              "      <th>children</th>\n",
              "      <th>smoker</th>\n",
              "      <th>region</th>\n",
              "      <th>charges</th>\n",
              "    </tr>\n",
              "  </thead>\n",
              "  <tbody>\n",
              "    <tr>\n",
              "      <th>0</th>\n",
              "      <td>19</td>\n",
              "      <td>female</td>\n",
              "      <td>27.9000</td>\n",
              "      <td>0</td>\n",
              "      <td>yes</td>\n",
              "      <td>southwest</td>\n",
              "      <td>16884.9240</td>\n",
              "    </tr>\n",
              "    <tr>\n",
              "      <th>1</th>\n",
              "      <td>18</td>\n",
              "      <td>male</td>\n",
              "      <td>33.7700</td>\n",
              "      <td>1</td>\n",
              "      <td>no</td>\n",
              "      <td>southeast</td>\n",
              "      <td>1725.5523</td>\n",
              "    </tr>\n",
              "  </tbody>\n",
              "</table>\n",
              "</div>\n",
              "      <button class=\"colab-df-convert\" onclick=\"convertToInteractive('df-ea390b4d-33f4-4923-8cec-47ce6b4c0a77')\"\n",
              "              title=\"Convert this dataframe to an interactive table.\"\n",
              "              style=\"display:none;\">\n",
              "        \n",
              "  <svg xmlns=\"http://www.w3.org/2000/svg\" height=\"24px\"viewBox=\"0 0 24 24\"\n",
              "       width=\"24px\">\n",
              "    <path d=\"M0 0h24v24H0V0z\" fill=\"none\"/>\n",
              "    <path d=\"M18.56 5.44l.94 2.06.94-2.06 2.06-.94-2.06-.94-.94-2.06-.94 2.06-2.06.94zm-11 1L8.5 8.5l.94-2.06 2.06-.94-2.06-.94L8.5 2.5l-.94 2.06-2.06.94zm10 10l.94 2.06.94-2.06 2.06-.94-2.06-.94-.94-2.06-.94 2.06-2.06.94z\"/><path d=\"M17.41 7.96l-1.37-1.37c-.4-.4-.92-.59-1.43-.59-.52 0-1.04.2-1.43.59L10.3 9.45l-7.72 7.72c-.78.78-.78 2.05 0 2.83L4 21.41c.39.39.9.59 1.41.59.51 0 1.02-.2 1.41-.59l7.78-7.78 2.81-2.81c.8-.78.8-2.07 0-2.86zM5.41 20L4 18.59l7.72-7.72 1.47 1.35L5.41 20z\"/>\n",
              "  </svg>\n",
              "      </button>\n",
              "      \n",
              "  <style>\n",
              "    .colab-df-container {\n",
              "      display:flex;\n",
              "      flex-wrap:wrap;\n",
              "      gap: 12px;\n",
              "    }\n",
              "\n",
              "    .colab-df-convert {\n",
              "      background-color: #E8F0FE;\n",
              "      border: none;\n",
              "      border-radius: 50%;\n",
              "      cursor: pointer;\n",
              "      display: none;\n",
              "      fill: #1967D2;\n",
              "      height: 32px;\n",
              "      padding: 0 0 0 0;\n",
              "      width: 32px;\n",
              "    }\n",
              "\n",
              "    .colab-df-convert:hover {\n",
              "      background-color: #E2EBFA;\n",
              "      box-shadow: 0px 1px 2px rgba(60, 64, 67, 0.3), 0px 1px 3px 1px rgba(60, 64, 67, 0.15);\n",
              "      fill: #174EA6;\n",
              "    }\n",
              "\n",
              "    [theme=dark] .colab-df-convert {\n",
              "      background-color: #3B4455;\n",
              "      fill: #D2E3FC;\n",
              "    }\n",
              "\n",
              "    [theme=dark] .colab-df-convert:hover {\n",
              "      background-color: #434B5C;\n",
              "      box-shadow: 0px 1px 3px 1px rgba(0, 0, 0, 0.15);\n",
              "      filter: drop-shadow(0px 1px 2px rgba(0, 0, 0, 0.3));\n",
              "      fill: #FFFFFF;\n",
              "    }\n",
              "  </style>\n",
              "\n",
              "      <script>\n",
              "        const buttonEl =\n",
              "          document.querySelector('#df-ea390b4d-33f4-4923-8cec-47ce6b4c0a77 button.colab-df-convert');\n",
              "        buttonEl.style.display =\n",
              "          google.colab.kernel.accessAllowed ? 'block' : 'none';\n",
              "\n",
              "        async function convertToInteractive(key) {\n",
              "          const element = document.querySelector('#df-ea390b4d-33f4-4923-8cec-47ce6b4c0a77');\n",
              "          const dataTable =\n",
              "            await google.colab.kernel.invokeFunction('convertToInteractive',\n",
              "                                                     [key], {});\n",
              "          if (!dataTable) return;\n",
              "\n",
              "          const docLinkHtml = 'Like what you see? Visit the ' +\n",
              "            '<a target=\"_blank\" href=https://colab.research.google.com/notebooks/data_table.ipynb>data table notebook</a>'\n",
              "            + ' to learn more about interactive tables.';\n",
              "          element.innerHTML = '';\n",
              "          dataTable['output_type'] = 'display_data';\n",
              "          await google.colab.output.renderOutput(dataTable, element);\n",
              "          const docLink = document.createElement('div');\n",
              "          docLink.innerHTML = docLinkHtml;\n",
              "          element.appendChild(docLink);\n",
              "        }\n",
              "      </script>\n",
              "    </div>\n",
              "  </div>\n",
              "  "
            ],
            "text/plain": [
              "   age     sex     bmi  children smoker     region    charges\n",
              "0   19  female 27.9000         0    yes  southwest 16884.9240\n",
              "1   18    male 33.7700         1     no  southeast  1725.5523"
            ]
          },
          "metadata": {},
          "execution_count": 4
        }
      ]
    },
    {
      "cell_type": "code",
      "source": [
        "# [3] 시험 형식으로 train, test 데이터로 나누어 저장합니다.  (6:4 비율)\n",
        "\n",
        "train_size = len(df) - int(len(df)*0.4)\n",
        "\n",
        "# 여러 가지 데이터가 고루 섞이도록 해야 함\n",
        "df = df.sample(frac=1, random_state=1234)\n",
        "df.insert(0, 'ID', range(1, len(df)+1))\n",
        "\n",
        "train = df.iloc[:train_size, ]\n",
        "test = df.iloc[train_size:, ]\n",
        "print(train.shape, test.shape)\n",
        "ycolumn = 'charges'\n",
        "X_train = train.drop(columns=ycolumn)\n",
        "Y_train = train[['ID', ycolumn]]\n",
        "X_test = test.drop(columns=ycolumn)\n",
        "Y_test = test[['ID', ycolumn]]\n",
        "X_train.to_csv('x_train.csv', index=False)\n",
        "Y_train.to_csv('y_train.csv', index=False)\n",
        "X_test.to_csv('x_test.csv', index=False)\n",
        "Y_test.to_csv('y_test.csv', index=False)"
      ],
      "metadata": {
        "colab": {
          "base_uri": "https://localhost:8080/"
        },
        "id": "df5d4o8dzwqi",
        "outputId": "9714b6f6-0292-4057-d012-d3f22066f863"
      },
      "execution_count": null,
      "outputs": [
        {
          "output_type": "stream",
          "name": "stdout",
          "text": [
            "(803, 8) (535, 8)\n"
          ]
        }
      ]
    },
    {
      "cell_type": "markdown",
      "source": [
        "### 5-2. 데이터 불러오기, 전처리"
      ],
      "metadata": {
        "id": "B6XGaNVd0mPO"
      }
    },
    {
      "cell_type": "code",
      "source": [
        "# [1] 데이터 파일 불러오기\n",
        "X_use = pd.read_csv('x_train.csv')\n",
        "X_submission = pd.read_csv('x_test.csv')\n",
        "Y = pd.read_csv('y_train.csv')\n",
        "Y_hidden = pd.read_csv('y_test.csv')"
      ],
      "metadata": {
        "id": "O_uIi12d0llv"
      },
      "execution_count": null,
      "outputs": []
    },
    {
      "cell_type": "code",
      "source": [
        "# [2] dfX 만들기, dfX의 info() 확인\n",
        "# use, submission 데이터를 묶어 전처리 하기 위함\n"
      ],
      "metadata": {
        "id": "OjSLnWUf0td7"
      },
      "execution_count": null,
      "outputs": []
    },
    {
      "cell_type": "code",
      "source": [
        "# [3] 컬럼별 고윳값 데이터 수 개수 확인\n"
      ],
      "metadata": {
        "id": "CRjL1k-HFDOw"
      },
      "execution_count": null,
      "outputs": []
    },
    {
      "cell_type": "code",
      "source": [
        "# [4] object 컬럼들에 대해서 Encoding 실행 - 필수\n"
      ],
      "metadata": {
        "id": "Q562isfuFZio"
      },
      "execution_count": null,
      "outputs": []
    },
    {
      "cell_type": "code",
      "source": [
        "# [5] dfX와 Y를 합하여 dfXY 생성\n"
      ],
      "metadata": {
        "id": "xPfXImWG5AKu"
      },
      "execution_count": null,
      "outputs": []
    },
    {
      "cell_type": "code",
      "source": [
        "# [6] 'charges'와 다른 컬럼의 상관계수를 확인합니다.   (dfXY의 모든 것 확인해도 좋음)\n"
      ],
      "metadata": {
        "id": "jc-k30TA49ce"
      },
      "execution_count": null,
      "outputs": []
    },
    {
      "cell_type": "markdown",
      "source": [
        "### 5-3. 성능평가, 모델링 함수\n",
        "- 4-3의 것 그대로 사용"
      ],
      "metadata": {
        "id": "36fJ58Dx8xD9"
      }
    },
    {
      "cell_type": "code",
      "source": [
        "#  4-3 에서 [16] [17] [18] 실행"
      ],
      "metadata": {
        "id": "NHnvQIBS89Is"
      },
      "execution_count": null,
      "outputs": []
    },
    {
      "cell_type": "markdown",
      "source": [
        "### 5-4. 데이터 분리, 모델적용"
      ],
      "metadata": {
        "id": "Pz-fldKF9ECT"
      }
    },
    {
      "cell_type": "code",
      "source": [
        "# [7] X의 최종 전처리 버전인 dfX의 컬럼 확인\n"
      ],
      "metadata": {
        "id": "FxVTHKBOdy4a"
      },
      "execution_count": null,
      "outputs": []
    },
    {
      "cell_type": "code",
      "source": [
        "# [8] dfX 에서 사용할 feature 선택하여 dfX2로 저장\n"
      ],
      "metadata": {
        "id": "1Xq6-b2B-8IU"
      },
      "execution_count": null,
      "outputs": []
    },
    {
      "cell_type": "code",
      "source": [
        "# [9] dfX2 데이터를 XF, X_submissionF 로 다시 분리\n",
        "# dfX2 분리에서는 X_use의 행의 개수 사용\n",
        "# Y에서 'charges' 만 YF로 사용\n"
      ],
      "metadata": {
        "id": "Li5KrBU498P0"
      },
      "execution_count": null,
      "outputs": []
    },
    {
      "cell_type": "code",
      "source": [
        "# [10] XF, YF 데이터를 사용하여 데이터를 분리하고 make_models를 호출합니다.\n"
      ],
      "metadata": {
        "id": "c1gvANHpIPu2"
      },
      "execution_count": null,
      "outputs": []
    },
    {
      "cell_type": "code",
      "source": [
        "# [11] models를 평가기준으로 정렬하여 좋은 모델을 알아봄\n"
      ],
      "metadata": {
        "id": "Mb8OBWZt8ukE"
      },
      "execution_count": null,
      "outputs": []
    },
    {
      "cell_type": "markdown",
      "source": [
        "### 5-5. 모델 선택, 결과 제출"
      ],
      "metadata": {
        "id": "il7gFLPhYvXx"
      }
    },
    {
      "cell_type": "code",
      "source": [
        "# [12] 모델 학습시켜 model 로 저장, submission 만들기, 저장하기\n"
      ],
      "metadata": {
        "id": "Ka2onMnCYvX3"
      },
      "execution_count": null,
      "outputs": []
    },
    {
      "cell_type": "code",
      "source": [
        "# [13] Y_submissionF 를 사용하여 성능을 알아봄 (필수 아님)\n"
      ],
      "metadata": {
        "id": "H2b8_mZN0Qqq"
      },
      "execution_count": null,
      "outputs": []
    },
    {
      "cell_type": "code",
      "source": [],
      "metadata": {
        "id": "JyiClMfRSNdY"
      },
      "execution_count": null,
      "outputs": []
    },
    {
      "cell_type": "markdown",
      "source": [
        "### 5-6.시험보러 가서는 이렇게"
      ],
      "metadata": {
        "id": "OBaYfU2XISg8"
      }
    },
    {
      "cell_type": "code",
      "source": [
        "# 직접 작업해 보세요!\n",
        "\n",
        "\n"
      ],
      "metadata": {
        "id": "IccYG_rACnMe"
      },
      "execution_count": null,
      "outputs": []
    }
  ]
}