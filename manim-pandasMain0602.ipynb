{
  "cells": [
    {
      "cell_type": "markdown",
      "metadata": {
        "id": "view-in-github",
        "colab_type": "text"
      },
      "source": [
        "<a href=\"https://colab.research.google.com/github/Leo2park/new/blob/main/manim-pandasMain0602.ipynb\" target=\"_parent\"><img src=\"https://colab.research.google.com/assets/colab-badge.svg\" alt=\"Open In Colab\"/></a>"
      ]
    },
    {
      "cell_type": "markdown",
      "metadata": {
        "id": "JlIkduQRf_wu"
      },
      "source": [
        "# 판다스 연습 튜토리얼"
      ]
    },
    {
      "cell_type": "markdown",
      "metadata": {
        "id": "_qHxQFxBf_ww"
      },
      "source": [
        "[![Hits](https://hits.seeyoufarm.com/api/count/incr/badge.svg?url=https%3A%2F%2Fwww.datamanim.com%2Fdataset%2F99_pandas%2FpandasMain.html&count_bg=%237B31AA&title_bg=%23555555&icon=&icon_color=%23E7E7E7&title=hits&edge_flat=false)](https://hits.seeyoufarm.com)"
      ]
    },
    {
      "cell_type": "markdown",
      "metadata": {
        "id": "Jx53EGADf_ww"
      },
      "source": [
        "```\n",
        "아 제발 홈페이지에 뜨는 광고 한번씩만 눌러줘요\n",
        "```"
      ]
    },
    {
      "cell_type": "markdown",
      "metadata": {
        "id": "U5BCbcLFf_wx"
      },
      "source": [
        "```{attention} \n",
        "목차 및 구성 출처 : [원본 깃헙주소](https://github.com/guipsamora/pandas_exercises)     \n",
        "**데이터 일부 수정 후 작업 진행했습니다.**\n",
        "```"
      ]
    },
    {
      "cell_type": "markdown",
      "metadata": {
        "id": "wGnQpGWqf_w0"
      },
      "source": [
        "```{admonition} 주피터 노트북 단축키 참고영상\n",
        ":class: dropdown\n",
        "<div style=\"text-align: center\"><iframe width=\"700\" height=\"500\" src=https://www.youtube.com/embed/PxTIbZJ3xrA?start=40&end=50></iframe></div>\n",
        "```"
      ]
    },
    {
      "cell_type": "markdown",
      "metadata": {
        "id": "SIGzfJ2Bf_w5"
      },
      "source": [
        "## 01 Getting & Knowing Data"
      ]
    },
    {
      "cell_type": "code",
      "execution_count": 7,
      "metadata": {
        "ExecuteTime": {
          "end_time": "2022-02-19T18:22:27.096949Z",
          "start_time": "2022-02-19T18:22:26.651425Z"
        },
        "id": "iK4MkFhnf_w-"
      },
      "outputs": [],
      "source": [
        "import pandas as pd"
      ]
    },
    {
      "cell_type": "markdown",
      "metadata": {
        "id": "xFPzSgf5f_xA"
      },
      "source": [
        "```{attention} \n",
        "롤 랭킹 데이터 : https://www.kaggle.com/datasnaek/league-of-legends    \n",
        "**DataUrl = 'https://raw.githubusercontent.com/Datamanim/pandas/main/lol.csv'**\n",
        "```"
      ]
    },
    {
      "cell_type": "markdown",
      "metadata": {
        "id": "Cta_2C5-f_xB"
      },
      "source": [
        "```{admonition} Question 1\n",
        "**데이터를 로드하라. 데이터는 \\t을 기준으로 구분되어있다.**\n",
        "```"
      ]
    },
    {
      "cell_type": "markdown",
      "metadata": {
        "id": "0JveVysBf_xB"
      },
      "source": [
        "\n",
        "```{admonition} 1번 , 주피터 노트북에서 메소드 사용법 유튜브 풀이\n",
        ":class: dropdown\n",
        "<div style=\"text-align: center\"><iframe width=\"700\" height=\"500\" src=https://www.youtube.com/embed/PxTIbZJ3xrA?start=214&end=580></iframe></div>\n",
        "```"
      ]
    },
    {
      "cell_type": "code",
      "execution_count": 8,
      "metadata": {
        "ExecuteTime": {
          "end_time": "2022-02-19T18:22:27.726606Z",
          "start_time": "2022-02-19T18:22:27.098129Z"
        },
        "id": "UQHnk84hf_xB"
      },
      "outputs": [],
      "source": [
        "DataUrl = 'https://raw.githubusercontent.com/Datamanim/pandas/main/lol.csv'\n",
        "df = pd.read_csv(DataUrl, sep='\\t')"
      ]
    },
    {
      "cell_type": "code",
      "execution_count": 9,
      "metadata": {
        "ExecuteTime": {
          "end_time": "2022-02-19T18:22:27.762653Z",
          "start_time": "2022-02-19T18:22:27.729491Z"
        },
        "id": "nSRulcu8f_xC",
        "outputId": "8beb6935-b0b1-40ec-b81e-e8ce77fac4d2",
        "colab": {
          "base_uri": "https://localhost:8080/"
        }
      },
      "outputs": [
        {
          "output_type": "execute_result",
          "data": {
            "text/plain": [
              "pandas.core.frame.DataFrame"
            ]
          },
          "metadata": {},
          "execution_count": 9
        }
      ],
      "source": [
        "type(df)"
      ]
    },
    {
      "cell_type": "markdown",
      "metadata": {
        "id": "RFm-NjnHf_xE"
      },
      "source": [
        "```{admonition} Question 2\n",
        "**데이터의 상위 5개 행을 출력하라**\n",
        "```"
      ]
    },
    {
      "cell_type": "markdown",
      "metadata": {
        "id": "sS1JgWdOf_xE"
      },
      "source": [
        "```{admonition} 2번 유튜브 풀이\n",
        ":class: dropdown\n",
        "<div style=\"text-align: center\"><iframe width=\"700\" height=\"500\" src=https://www.youtube.com/embed/PxTIbZJ3xrA?start=582&end=678></iframe></div>\n",
        "```"
      ]
    },
    {
      "cell_type": "code",
      "execution_count": 10,
      "metadata": {
        "ExecuteTime": {
          "end_time": "2022-02-19T18:22:27.766817Z",
          "start_time": "2022-02-19T18:22:27.764087Z"
        },
        "tags": [
          "hide-input"
        ],
        "id": "jPEJVhBUf_xE"
      },
      "outputs": [],
      "source": [
        "Ans = df.head(5)"
      ]
    },
    {
      "cell_type": "code",
      "execution_count": 11,
      "metadata": {
        "ExecuteTime": {
          "end_time": "2022-02-19T18:22:27.783537Z",
          "start_time": "2022-02-19T18:22:27.768463Z"
        },
        "id": "2dJ-BYfMf_xF",
        "outputId": "404d2030-b838-4b92-de1a-78535ec5a28a",
        "colab": {
          "base_uri": "https://localhost:8080/",
          "height": 299
        }
      },
      "outputs": [
        {
          "output_type": "execute_result",
          "data": {
            "text/plain": [
              "       gameId   creationTime  gameDuration  seasonId  winner  firstBlood  \\\n",
              "0  3326086514  1504279457970          1949         9       1           2   \n",
              "1  3229566029  1497848803862          1851         9       1           1   \n",
              "2  3327363504  1504360103310          1493         9       1           2   \n",
              "3  3326856598  1504348503996          1758         9       1           1   \n",
              "4  3330080762  1504554410899          2094         9       1           2   \n",
              "\n",
              "   firstTower  firstInhibitor  firstBaron  firstDragon  ...  t2_towerKills  \\\n",
              "0           1               1           1            1  ...              5   \n",
              "1           1               1           0            1  ...              2   \n",
              "2           1               1           1            2  ...              2   \n",
              "3           1               1           1            1  ...              0   \n",
              "4           1               1           1            1  ...              3   \n",
              "\n",
              "   t2_inhibitorKills  t2_baronKills  t2_dragonKills  t2_riftHeraldKills  \\\n",
              "0                  0              0               1                   1   \n",
              "1                  0              0               0                   0   \n",
              "2                  0              0               1                   0   \n",
              "3                  0              0               0                   0   \n",
              "4                  0              0               1                   0   \n",
              "\n",
              "   t2_ban1  t2_ban2  t2_ban3  t2_ban4  t2_ban5  \n",
              "0      114       67       43       16       51  \n",
              "1       11       67      238       51      420  \n",
              "2      157      238      121       57       28  \n",
              "3      164       18      141       40       51  \n",
              "4       86       11      201      122       18  \n",
              "\n",
              "[5 rows x 61 columns]"
            ],
            "text/html": [
              "\n",
              "  <div id=\"df-d788b362-d1b3-4fef-b672-beb3835582c3\">\n",
              "    <div class=\"colab-df-container\">\n",
              "      <div>\n",
              "<style scoped>\n",
              "    .dataframe tbody tr th:only-of-type {\n",
              "        vertical-align: middle;\n",
              "    }\n",
              "\n",
              "    .dataframe tbody tr th {\n",
              "        vertical-align: top;\n",
              "    }\n",
              "\n",
              "    .dataframe thead th {\n",
              "        text-align: right;\n",
              "    }\n",
              "</style>\n",
              "<table border=\"1\" class=\"dataframe\">\n",
              "  <thead>\n",
              "    <tr style=\"text-align: right;\">\n",
              "      <th></th>\n",
              "      <th>gameId</th>\n",
              "      <th>creationTime</th>\n",
              "      <th>gameDuration</th>\n",
              "      <th>seasonId</th>\n",
              "      <th>winner</th>\n",
              "      <th>firstBlood</th>\n",
              "      <th>firstTower</th>\n",
              "      <th>firstInhibitor</th>\n",
              "      <th>firstBaron</th>\n",
              "      <th>firstDragon</th>\n",
              "      <th>...</th>\n",
              "      <th>t2_towerKills</th>\n",
              "      <th>t2_inhibitorKills</th>\n",
              "      <th>t2_baronKills</th>\n",
              "      <th>t2_dragonKills</th>\n",
              "      <th>t2_riftHeraldKills</th>\n",
              "      <th>t2_ban1</th>\n",
              "      <th>t2_ban2</th>\n",
              "      <th>t2_ban3</th>\n",
              "      <th>t2_ban4</th>\n",
              "      <th>t2_ban5</th>\n",
              "    </tr>\n",
              "  </thead>\n",
              "  <tbody>\n",
              "    <tr>\n",
              "      <th>0</th>\n",
              "      <td>3326086514</td>\n",
              "      <td>1504279457970</td>\n",
              "      <td>1949</td>\n",
              "      <td>9</td>\n",
              "      <td>1</td>\n",
              "      <td>2</td>\n",
              "      <td>1</td>\n",
              "      <td>1</td>\n",
              "      <td>1</td>\n",
              "      <td>1</td>\n",
              "      <td>...</td>\n",
              "      <td>5</td>\n",
              "      <td>0</td>\n",
              "      <td>0</td>\n",
              "      <td>1</td>\n",
              "      <td>1</td>\n",
              "      <td>114</td>\n",
              "      <td>67</td>\n",
              "      <td>43</td>\n",
              "      <td>16</td>\n",
              "      <td>51</td>\n",
              "    </tr>\n",
              "    <tr>\n",
              "      <th>1</th>\n",
              "      <td>3229566029</td>\n",
              "      <td>1497848803862</td>\n",
              "      <td>1851</td>\n",
              "      <td>9</td>\n",
              "      <td>1</td>\n",
              "      <td>1</td>\n",
              "      <td>1</td>\n",
              "      <td>1</td>\n",
              "      <td>0</td>\n",
              "      <td>1</td>\n",
              "      <td>...</td>\n",
              "      <td>2</td>\n",
              "      <td>0</td>\n",
              "      <td>0</td>\n",
              "      <td>0</td>\n",
              "      <td>0</td>\n",
              "      <td>11</td>\n",
              "      <td>67</td>\n",
              "      <td>238</td>\n",
              "      <td>51</td>\n",
              "      <td>420</td>\n",
              "    </tr>\n",
              "    <tr>\n",
              "      <th>2</th>\n",
              "      <td>3327363504</td>\n",
              "      <td>1504360103310</td>\n",
              "      <td>1493</td>\n",
              "      <td>9</td>\n",
              "      <td>1</td>\n",
              "      <td>2</td>\n",
              "      <td>1</td>\n",
              "      <td>1</td>\n",
              "      <td>1</td>\n",
              "      <td>2</td>\n",
              "      <td>...</td>\n",
              "      <td>2</td>\n",
              "      <td>0</td>\n",
              "      <td>0</td>\n",
              "      <td>1</td>\n",
              "      <td>0</td>\n",
              "      <td>157</td>\n",
              "      <td>238</td>\n",
              "      <td>121</td>\n",
              "      <td>57</td>\n",
              "      <td>28</td>\n",
              "    </tr>\n",
              "    <tr>\n",
              "      <th>3</th>\n",
              "      <td>3326856598</td>\n",
              "      <td>1504348503996</td>\n",
              "      <td>1758</td>\n",
              "      <td>9</td>\n",
              "      <td>1</td>\n",
              "      <td>1</td>\n",
              "      <td>1</td>\n",
              "      <td>1</td>\n",
              "      <td>1</td>\n",
              "      <td>1</td>\n",
              "      <td>...</td>\n",
              "      <td>0</td>\n",
              "      <td>0</td>\n",
              "      <td>0</td>\n",
              "      <td>0</td>\n",
              "      <td>0</td>\n",
              "      <td>164</td>\n",
              "      <td>18</td>\n",
              "      <td>141</td>\n",
              "      <td>40</td>\n",
              "      <td>51</td>\n",
              "    </tr>\n",
              "    <tr>\n",
              "      <th>4</th>\n",
              "      <td>3330080762</td>\n",
              "      <td>1504554410899</td>\n",
              "      <td>2094</td>\n",
              "      <td>9</td>\n",
              "      <td>1</td>\n",
              "      <td>2</td>\n",
              "      <td>1</td>\n",
              "      <td>1</td>\n",
              "      <td>1</td>\n",
              "      <td>1</td>\n",
              "      <td>...</td>\n",
              "      <td>3</td>\n",
              "      <td>0</td>\n",
              "      <td>0</td>\n",
              "      <td>1</td>\n",
              "      <td>0</td>\n",
              "      <td>86</td>\n",
              "      <td>11</td>\n",
              "      <td>201</td>\n",
              "      <td>122</td>\n",
              "      <td>18</td>\n",
              "    </tr>\n",
              "  </tbody>\n",
              "</table>\n",
              "<p>5 rows × 61 columns</p>\n",
              "</div>\n",
              "      <button class=\"colab-df-convert\" onclick=\"convertToInteractive('df-d788b362-d1b3-4fef-b672-beb3835582c3')\"\n",
              "              title=\"Convert this dataframe to an interactive table.\"\n",
              "              style=\"display:none;\">\n",
              "        \n",
              "  <svg xmlns=\"http://www.w3.org/2000/svg\" height=\"24px\"viewBox=\"0 0 24 24\"\n",
              "       width=\"24px\">\n",
              "    <path d=\"M0 0h24v24H0V0z\" fill=\"none\"/>\n",
              "    <path d=\"M18.56 5.44l.94 2.06.94-2.06 2.06-.94-2.06-.94-.94-2.06-.94 2.06-2.06.94zm-11 1L8.5 8.5l.94-2.06 2.06-.94-2.06-.94L8.5 2.5l-.94 2.06-2.06.94zm10 10l.94 2.06.94-2.06 2.06-.94-2.06-.94-.94-2.06-.94 2.06-2.06.94z\"/><path d=\"M17.41 7.96l-1.37-1.37c-.4-.4-.92-.59-1.43-.59-.52 0-1.04.2-1.43.59L10.3 9.45l-7.72 7.72c-.78.78-.78 2.05 0 2.83L4 21.41c.39.39.9.59 1.41.59.51 0 1.02-.2 1.41-.59l7.78-7.78 2.81-2.81c.8-.78.8-2.07 0-2.86zM5.41 20L4 18.59l7.72-7.72 1.47 1.35L5.41 20z\"/>\n",
              "  </svg>\n",
              "      </button>\n",
              "      \n",
              "  <style>\n",
              "    .colab-df-container {\n",
              "      display:flex;\n",
              "      flex-wrap:wrap;\n",
              "      gap: 12px;\n",
              "    }\n",
              "\n",
              "    .colab-df-convert {\n",
              "      background-color: #E8F0FE;\n",
              "      border: none;\n",
              "      border-radius: 50%;\n",
              "      cursor: pointer;\n",
              "      display: none;\n",
              "      fill: #1967D2;\n",
              "      height: 32px;\n",
              "      padding: 0 0 0 0;\n",
              "      width: 32px;\n",
              "    }\n",
              "\n",
              "    .colab-df-convert:hover {\n",
              "      background-color: #E2EBFA;\n",
              "      box-shadow: 0px 1px 2px rgba(60, 64, 67, 0.3), 0px 1px 3px 1px rgba(60, 64, 67, 0.15);\n",
              "      fill: #174EA6;\n",
              "    }\n",
              "\n",
              "    [theme=dark] .colab-df-convert {\n",
              "      background-color: #3B4455;\n",
              "      fill: #D2E3FC;\n",
              "    }\n",
              "\n",
              "    [theme=dark] .colab-df-convert:hover {\n",
              "      background-color: #434B5C;\n",
              "      box-shadow: 0px 1px 3px 1px rgba(0, 0, 0, 0.15);\n",
              "      filter: drop-shadow(0px 1px 2px rgba(0, 0, 0, 0.3));\n",
              "      fill: #FFFFFF;\n",
              "    }\n",
              "  </style>\n",
              "\n",
              "      <script>\n",
              "        const buttonEl =\n",
              "          document.querySelector('#df-d788b362-d1b3-4fef-b672-beb3835582c3 button.colab-df-convert');\n",
              "        buttonEl.style.display =\n",
              "          google.colab.kernel.accessAllowed ? 'block' : 'none';\n",
              "\n",
              "        async function convertToInteractive(key) {\n",
              "          const element = document.querySelector('#df-d788b362-d1b3-4fef-b672-beb3835582c3');\n",
              "          const dataTable =\n",
              "            await google.colab.kernel.invokeFunction('convertToInteractive',\n",
              "                                                     [key], {});\n",
              "          if (!dataTable) return;\n",
              "\n",
              "          const docLinkHtml = 'Like what you see? Visit the ' +\n",
              "            '<a target=\"_blank\" href=https://colab.research.google.com/notebooks/data_table.ipynb>data table notebook</a>'\n",
              "            + ' to learn more about interactive tables.';\n",
              "          element.innerHTML = '';\n",
              "          dataTable['output_type'] = 'display_data';\n",
              "          await google.colab.output.renderOutput(dataTable, element);\n",
              "          const docLink = document.createElement('div');\n",
              "          docLink.innerHTML = docLinkHtml;\n",
              "          element.appendChild(docLink);\n",
              "        }\n",
              "      </script>\n",
              "    </div>\n",
              "  </div>\n",
              "  "
            ]
          },
          "metadata": {},
          "execution_count": 11
        }
      ],
      "source": [
        "Ans"
      ]
    },
    {
      "cell_type": "markdown",
      "metadata": {
        "id": "nSgWrvFwf_xF"
      },
      "source": [
        "```{admonition} Question 3\n",
        "**데이터의 행과 열의 갯수를 파악하라**\n",
        "```"
      ]
    },
    {
      "cell_type": "markdown",
      "metadata": {
        "id": "nQqXzn10f_xF"
      },
      "source": [
        "```{admonition} 3번 유튜브 풀이\n",
        ":class: dropdown\n",
        "<div style=\"text-align: center\"><iframe width=\"700\" height=\"500\" src=https://www.youtube.com/embed/PxTIbZJ3xrA?start=680&end=763></iframe></div>\n",
        "```"
      ]
    },
    {
      "cell_type": "code",
      "execution_count": 12,
      "metadata": {
        "ExecuteTime": {
          "end_time": "2022-02-19T18:22:27.788561Z",
          "start_time": "2022-02-19T18:22:27.785039Z"
        },
        "tags": [
          "hide-input"
        ],
        "id": "rNaIQ5oLf_xF",
        "outputId": "07a172da-c2d7-4202-e723-4def5d558907",
        "colab": {
          "base_uri": "https://localhost:8080/"
        }
      },
      "outputs": [
        {
          "output_type": "stream",
          "name": "stdout",
          "text": [
            "(51490, 61)\n",
            "행: 51490\n",
            "열: 61\n"
          ]
        }
      ],
      "source": [
        "print(df.shape)\n",
        "print('행:',df.shape[0])\n",
        "print('열:',df.shape[1])"
      ]
    },
    {
      "cell_type": "markdown",
      "metadata": {
        "id": "Vb6vJgx3f_xG"
      },
      "source": [
        "```{admonition} Question 4\n",
        "**전체 컬럼을 출력하라**\n",
        "```"
      ]
    },
    {
      "cell_type": "markdown",
      "metadata": {
        "id": "dvOEhkCXf_xG"
      },
      "source": [
        "```{admonition} 4번 유튜브 풀이\n",
        ":class: dropdown\n",
        "<div style=\"text-align: center\"><iframe width=\"700\" height=\"500\" src=https://www.youtube.com/embed/PxTIbZJ3xrA?start=765&end=833></iframe></div>\n",
        "```"
      ]
    },
    {
      "cell_type": "code",
      "execution_count": 13,
      "metadata": {
        "ExecuteTime": {
          "end_time": "2022-02-19T18:22:27.792618Z",
          "start_time": "2022-02-19T18:22:27.790293Z"
        },
        "tags": [
          "hide-input"
        ],
        "id": "3WQ9Qo7Sf_xG"
      },
      "outputs": [],
      "source": [
        "Ans = df.columns"
      ]
    },
    {
      "cell_type": "code",
      "execution_count": 14,
      "metadata": {
        "ExecuteTime": {
          "end_time": "2022-02-19T18:22:27.797725Z",
          "start_time": "2022-02-19T18:22:27.794189Z"
        },
        "id": "8BwdOohYf_xG",
        "outputId": "21157e21-7b91-4297-8ff3-1be632566eb8",
        "colab": {
          "base_uri": "https://localhost:8080/"
        }
      },
      "outputs": [
        {
          "output_type": "execute_result",
          "data": {
            "text/plain": [
              "Index(['gameId', 'creationTime', 'gameDuration', 'seasonId', 'winner',\n",
              "       'firstBlood', 'firstTower', 'firstInhibitor', 'firstBaron',\n",
              "       'firstDragon', 'firstRiftHerald', 't1_champ1id', 't1_champ1_sum1',\n",
              "       't1_champ1_sum2', 't1_champ2id', 't1_champ2_sum1', 't1_champ2_sum2',\n",
              "       't1_champ3id', 't1_champ3_sum1', 't1_champ3_sum2', 't1_champ4id',\n",
              "       't1_champ4_sum1', 't1_champ4_sum2', 't1_champ5id', 't1_champ5_sum1',\n",
              "       't1_champ5_sum2', 't1_towerKills', 't1_inhibitorKills', 't1_baronKills',\n",
              "       't1_dragonKills', 't1_riftHeraldKills', 't1_ban1', 't1_ban2', 't1_ban3',\n",
              "       't1_ban4', 't1_ban5', 't2_champ1id', 't2_champ1_sum1', 't2_champ1_sum2',\n",
              "       't2_champ2id', 't2_champ2_sum1', 't2_champ2_sum2', 't2_champ3id',\n",
              "       't2_champ3_sum1', 't2_champ3_sum2', 't2_champ4id', 't2_champ4_sum1',\n",
              "       't2_champ4_sum2', 't2_champ5id', 't2_champ5_sum1', 't2_champ5_sum2',\n",
              "       't2_towerKills', 't2_inhibitorKills', 't2_baronKills', 't2_dragonKills',\n",
              "       't2_riftHeraldKills', 't2_ban1', 't2_ban2', 't2_ban3', 't2_ban4',\n",
              "       't2_ban5'],\n",
              "      dtype='object')"
            ]
          },
          "metadata": {},
          "execution_count": 14
        }
      ],
      "source": [
        "Ans"
      ]
    },
    {
      "cell_type": "markdown",
      "metadata": {
        "id": "9t1QKTtBf_xG"
      },
      "source": [
        "```{admonition} Question 5\n",
        "**6번째 컬럼명을 출력하라**\n",
        "```"
      ]
    },
    {
      "cell_type": "markdown",
      "metadata": {
        "id": "e6pGwYLnf_xH"
      },
      "source": [
        "```{admonition} 5번 유튜브 풀이\n",
        ":class: dropdown\n",
        "<div style=\"text-align: center\"><iframe width=\"700\" height=\"500\" src=https://www.youtube.com/embed/PxTIbZJ3xrA?start=835&end=868></iframe></div>\n",
        "```"
      ]
    },
    {
      "cell_type": "code",
      "execution_count": 15,
      "metadata": {
        "ExecuteTime": {
          "end_time": "2022-02-19T18:22:27.803759Z",
          "start_time": "2022-02-19T18:22:27.801391Z"
        },
        "tags": [
          "hide-input"
        ],
        "id": "48e5R6WYf_xH"
      },
      "outputs": [],
      "source": [
        "Ans = df.columns[5]"
      ]
    },
    {
      "cell_type": "code",
      "execution_count": 16,
      "metadata": {
        "ExecuteTime": {
          "end_time": "2022-02-19T18:22:27.808678Z",
          "start_time": "2022-02-19T18:22:27.805345Z"
        },
        "id": "6ChulIuvf_xH",
        "outputId": "1cd43aab-f84d-4721-e929-bc567ec5c149",
        "colab": {
          "base_uri": "https://localhost:8080/",
          "height": 35
        }
      },
      "outputs": [
        {
          "output_type": "execute_result",
          "data": {
            "text/plain": [
              "'firstBlood'"
            ],
            "application/vnd.google.colaboratory.intrinsic+json": {
              "type": "string"
            }
          },
          "metadata": {},
          "execution_count": 16
        }
      ],
      "source": [
        "Ans"
      ]
    },
    {
      "cell_type": "markdown",
      "metadata": {
        "id": "c6_EVEVrf_xJ"
      },
      "source": [
        "```{admonition} Question 6\n",
        "**6번째 컬럼의 데이터 타입을 확인하라**\n",
        "```"
      ]
    },
    {
      "cell_type": "markdown",
      "metadata": {
        "id": "iytAo-8ef_xJ"
      },
      "source": [
        "```{admonition} 6번 유튜브 풀이\n",
        ":class: dropdown\n",
        "<div style=\"text-align: center\"><iframe width=\"700\" height=\"500\" src=https://www.youtube.com/embed/PxTIbZJ3xrA?start=870&end=1071></iframe></div>\n",
        "```"
      ]
    },
    {
      "cell_type": "code",
      "execution_count": 17,
      "metadata": {
        "ExecuteTime": {
          "end_time": "2022-02-19T18:22:27.813316Z",
          "start_time": "2022-02-19T18:22:27.810456Z"
        },
        "tags": [
          "hide-input"
        ],
        "id": "WJP-Ircsf_xJ"
      },
      "outputs": [],
      "source": [
        "Ans = df.iloc[:,5].dtype"
      ]
    },
    {
      "cell_type": "code",
      "execution_count": 18,
      "metadata": {
        "ExecuteTime": {
          "end_time": "2022-02-19T18:22:27.817980Z",
          "start_time": "2022-02-19T18:22:27.815001Z"
        },
        "id": "fTlI14CFf_xJ",
        "outputId": "12851ac5-9895-4362-c722-7283ce3699b8",
        "colab": {
          "base_uri": "https://localhost:8080/"
        }
      },
      "outputs": [
        {
          "output_type": "execute_result",
          "data": {
            "text/plain": [
              "dtype('int64')"
            ]
          },
          "metadata": {},
          "execution_count": 18
        }
      ],
      "source": [
        "Ans"
      ]
    },
    {
      "cell_type": "markdown",
      "metadata": {
        "id": "ZZE2uJRAf_xJ"
      },
      "source": [
        "```{admonition} Question 7\n",
        "**데이터셋의 인덱스 구성은 어떤가**\n",
        "```"
      ]
    },
    {
      "cell_type": "markdown",
      "metadata": {
        "id": "f4w4Z2-4f_xK"
      },
      "source": [
        "```{admonition} 7번 유튜브 풀이\n",
        ":class: dropdown\n",
        "<div style=\"text-align: center\"><iframe width=\"700\" height=\"500\" src=https://www.youtube.com/embed/PxTIbZJ3xrA?start=1073&end=1193></iframe></div>\n",
        "```"
      ]
    },
    {
      "cell_type": "code",
      "execution_count": 19,
      "metadata": {
        "ExecuteTime": {
          "end_time": "2022-02-19T18:22:27.821725Z",
          "start_time": "2022-02-19T18:22:27.819532Z"
        },
        "tags": [
          "hide-input"
        ],
        "id": "mmwl5Pmtf_xK"
      },
      "outputs": [],
      "source": [
        "Ans = df.index"
      ]
    },
    {
      "cell_type": "code",
      "execution_count": 20,
      "metadata": {
        "ExecuteTime": {
          "end_time": "2022-02-19T18:22:27.826800Z",
          "start_time": "2022-02-19T18:22:27.823591Z"
        },
        "id": "dmEi2tbpf_xK",
        "outputId": "df2e1fa8-b3a1-4153-b61c-1bbdb718fde7",
        "colab": {
          "base_uri": "https://localhost:8080/"
        }
      },
      "outputs": [
        {
          "output_type": "execute_result",
          "data": {
            "text/plain": [
              "RangeIndex(start=0, stop=51490, step=1)"
            ]
          },
          "metadata": {},
          "execution_count": 20
        }
      ],
      "source": [
        "Ans "
      ]
    },
    {
      "cell_type": "markdown",
      "metadata": {
        "id": "DXiLp-DGf_xK"
      },
      "source": [
        "```{admonition} Question 8\n",
        "**6번째 컬럼의 3번째 값은 무엇인가?**\n",
        "```"
      ]
    },
    {
      "cell_type": "markdown",
      "metadata": {
        "id": "kWUVGNzjf_xK"
      },
      "source": [
        "```{admonition} 8번 유튜브 풀이\n",
        ":class: dropdown\n",
        "<div style=\"text-align: center\"><iframe width=\"700\" height=\"500\" src=https://www.youtube.com/embed/PxTIbZJ3xrA?start=1195&end=1364></iframe></div>\n",
        "```"
      ]
    },
    {
      "cell_type": "code",
      "execution_count": 21,
      "metadata": {
        "ExecuteTime": {
          "end_time": "2022-02-19T18:22:27.830663Z",
          "start_time": "2022-02-19T18:22:27.828326Z"
        },
        "tags": [
          "hide-input"
        ],
        "id": "YqS6f-9jf_xK"
      },
      "outputs": [],
      "source": [
        "Ans = df.iloc[2,5]"
      ]
    },
    {
      "cell_type": "code",
      "execution_count": 22,
      "metadata": {
        "ExecuteTime": {
          "end_time": "2022-02-19T18:22:27.834927Z",
          "start_time": "2022-02-19T18:22:27.832095Z"
        },
        "id": "boQSggq7f_xK",
        "outputId": "e7142d3b-c253-463a-d7f4-74061af17275",
        "colab": {
          "base_uri": "https://localhost:8080/"
        }
      },
      "outputs": [
        {
          "output_type": "execute_result",
          "data": {
            "text/plain": [
              "2"
            ]
          },
          "metadata": {},
          "execution_count": 22
        }
      ],
      "source": [
        "Ans "
      ]
    },
    {
      "cell_type": "markdown",
      "metadata": {
        "id": "pfD4d4TLf_xS"
      },
      "source": [
        "```{attention} \n",
        "제주 날씨,인구에 따른 교통량데이터 : 출처 제주 데이터 허브\n",
        "**DataUrl = 'https://raw.githubusercontent.com/Datamanim/pandas/main/Jeju.csv'**\n",
        "```"
      ]
    },
    {
      "cell_type": "markdown",
      "metadata": {
        "id": "rRDn3N7Df_xS"
      },
      "source": [
        "```{admonition} Question 9\n",
        "**데이터를 로드하라. 컬럼이 한글이기에 적절한 처리해줘야함**\n",
        "```"
      ]
    },
    {
      "cell_type": "markdown",
      "metadata": {
        "id": "khLAjHR7f_xS"
      },
      "source": [
        "```{admonition} 9번 유튜브 풀이\n",
        ":class: dropdown\n",
        "<div style=\"text-align: center\"><iframe width=\"700\" height=\"500\" src=https://www.youtube.com/embed/PxTIbZJ3xrA?start=1366&end=1470></iframe></div>\n",
        "```"
      ]
    },
    {
      "cell_type": "code",
      "execution_count": 23,
      "metadata": {
        "ExecuteTime": {
          "end_time": "2022-02-19T18:22:27.977922Z",
          "start_time": "2022-02-19T18:22:27.836216Z"
        },
        "id": "bVhrRejqf_xS"
      },
      "outputs": [],
      "source": [
        "DataUrl = 'https://raw.githubusercontent.com/Datamanim/pandas/main/Jeju.csv'\n",
        "df = pd.read_csv(DataUrl,encoding='euc-kr')"
      ]
    },
    {
      "cell_type": "code",
      "execution_count": 24,
      "metadata": {
        "ExecuteTime": {
          "end_time": "2022-02-19T18:22:27.983266Z",
          "start_time": "2022-02-19T18:22:27.979393Z"
        },
        "id": "9cylRiuJf_xS",
        "outputId": "f4b471b9-e003-4d49-f03e-5bfea9bf3b06",
        "colab": {
          "base_uri": "https://localhost:8080/"
        }
      },
      "outputs": [
        {
          "output_type": "execute_result",
          "data": {
            "text/plain": [
              "pandas.core.frame.DataFrame"
            ]
          },
          "metadata": {},
          "execution_count": 24
        }
      ],
      "source": [
        "type(df)"
      ]
    },
    {
      "cell_type": "markdown",
      "metadata": {
        "id": "PpvUPa2tf_xT"
      },
      "source": [
        "```{admonition} Question 10\n",
        "**데이터 마지막 3개행을 출력하라**\n",
        "```"
      ]
    },
    {
      "cell_type": "markdown",
      "metadata": {
        "id": "oq9cPzBbf_xT"
      },
      "source": [
        "```{admonition} 10번 유튜브 풀이\n",
        ":class: dropdown\n",
        "<div style=\"text-align: center\"><iframe width=\"700\" height=\"500\" src=https://www.youtube.com/embed/PxTIbZJ3xrA?start=1472&end=1508></iframe></div>\n",
        "```"
      ]
    },
    {
      "cell_type": "code",
      "execution_count": 25,
      "metadata": {
        "ExecuteTime": {
          "end_time": "2022-02-19T18:22:27.987311Z",
          "start_time": "2022-02-19T18:22:27.984874Z"
        },
        "tags": [
          "hide-input"
        ],
        "id": "QMYj3hopf_xT"
      },
      "outputs": [],
      "source": [
        "Ans = df.tail(3)"
      ]
    },
    {
      "cell_type": "code",
      "execution_count": 26,
      "metadata": {
        "ExecuteTime": {
          "end_time": "2022-02-19T18:22:28.002522Z",
          "start_time": "2022-02-19T18:22:27.988809Z"
        },
        "id": "KvMt6qW6f_xT",
        "outputId": "c306ec7e-fc79-4b9b-e0bf-fddba7482764",
        "colab": {
          "base_uri": "https://localhost:8080/",
          "height": 143
        }
      },
      "outputs": [
        {
          "output_type": "execute_result",
          "data": {
            "text/plain": [
              "         id          일자   시도명 읍면동명         거주인구       근무인구        방문인구  \\\n",
              "9618  32066  2020-04-30   제주시  도두동    28397.481   3144.895   84052.697   \n",
              "9619  32067  2020-04-30  서귀포시  안덕면   348037.846  29106.286  251129.660   \n",
              "9620  32068  2020-04-30   제주시   연동  1010643.372  65673.477  447622.068   \n",
              "\n",
              "           총 유동인구   평균 속도  평균 소요 시간  평균 기온  일강수량  평균 풍속  \n",
              "9618   115595.073  41.053    29.421   20.3   0.0    3.0  \n",
              "9619   628273.792  46.595    49.189   17.6   0.0    3.5  \n",
              "9620  1523938.917  40.863    27.765   14.1   0.0    4.8  "
            ],
            "text/html": [
              "\n",
              "  <div id=\"df-709c2bbe-0a7f-4040-aae0-0a6bf5ae9ab4\">\n",
              "    <div class=\"colab-df-container\">\n",
              "      <div>\n",
              "<style scoped>\n",
              "    .dataframe tbody tr th:only-of-type {\n",
              "        vertical-align: middle;\n",
              "    }\n",
              "\n",
              "    .dataframe tbody tr th {\n",
              "        vertical-align: top;\n",
              "    }\n",
              "\n",
              "    .dataframe thead th {\n",
              "        text-align: right;\n",
              "    }\n",
              "</style>\n",
              "<table border=\"1\" class=\"dataframe\">\n",
              "  <thead>\n",
              "    <tr style=\"text-align: right;\">\n",
              "      <th></th>\n",
              "      <th>id</th>\n",
              "      <th>일자</th>\n",
              "      <th>시도명</th>\n",
              "      <th>읍면동명</th>\n",
              "      <th>거주인구</th>\n",
              "      <th>근무인구</th>\n",
              "      <th>방문인구</th>\n",
              "      <th>총 유동인구</th>\n",
              "      <th>평균 속도</th>\n",
              "      <th>평균 소요 시간</th>\n",
              "      <th>평균 기온</th>\n",
              "      <th>일강수량</th>\n",
              "      <th>평균 풍속</th>\n",
              "    </tr>\n",
              "  </thead>\n",
              "  <tbody>\n",
              "    <tr>\n",
              "      <th>9618</th>\n",
              "      <td>32066</td>\n",
              "      <td>2020-04-30</td>\n",
              "      <td>제주시</td>\n",
              "      <td>도두동</td>\n",
              "      <td>28397.481</td>\n",
              "      <td>3144.895</td>\n",
              "      <td>84052.697</td>\n",
              "      <td>115595.073</td>\n",
              "      <td>41.053</td>\n",
              "      <td>29.421</td>\n",
              "      <td>20.3</td>\n",
              "      <td>0.0</td>\n",
              "      <td>3.0</td>\n",
              "    </tr>\n",
              "    <tr>\n",
              "      <th>9619</th>\n",
              "      <td>32067</td>\n",
              "      <td>2020-04-30</td>\n",
              "      <td>서귀포시</td>\n",
              "      <td>안덕면</td>\n",
              "      <td>348037.846</td>\n",
              "      <td>29106.286</td>\n",
              "      <td>251129.660</td>\n",
              "      <td>628273.792</td>\n",
              "      <td>46.595</td>\n",
              "      <td>49.189</td>\n",
              "      <td>17.6</td>\n",
              "      <td>0.0</td>\n",
              "      <td>3.5</td>\n",
              "    </tr>\n",
              "    <tr>\n",
              "      <th>9620</th>\n",
              "      <td>32068</td>\n",
              "      <td>2020-04-30</td>\n",
              "      <td>제주시</td>\n",
              "      <td>연동</td>\n",
              "      <td>1010643.372</td>\n",
              "      <td>65673.477</td>\n",
              "      <td>447622.068</td>\n",
              "      <td>1523938.917</td>\n",
              "      <td>40.863</td>\n",
              "      <td>27.765</td>\n",
              "      <td>14.1</td>\n",
              "      <td>0.0</td>\n",
              "      <td>4.8</td>\n",
              "    </tr>\n",
              "  </tbody>\n",
              "</table>\n",
              "</div>\n",
              "      <button class=\"colab-df-convert\" onclick=\"convertToInteractive('df-709c2bbe-0a7f-4040-aae0-0a6bf5ae9ab4')\"\n",
              "              title=\"Convert this dataframe to an interactive table.\"\n",
              "              style=\"display:none;\">\n",
              "        \n",
              "  <svg xmlns=\"http://www.w3.org/2000/svg\" height=\"24px\"viewBox=\"0 0 24 24\"\n",
              "       width=\"24px\">\n",
              "    <path d=\"M0 0h24v24H0V0z\" fill=\"none\"/>\n",
              "    <path d=\"M18.56 5.44l.94 2.06.94-2.06 2.06-.94-2.06-.94-.94-2.06-.94 2.06-2.06.94zm-11 1L8.5 8.5l.94-2.06 2.06-.94-2.06-.94L8.5 2.5l-.94 2.06-2.06.94zm10 10l.94 2.06.94-2.06 2.06-.94-2.06-.94-.94-2.06-.94 2.06-2.06.94z\"/><path d=\"M17.41 7.96l-1.37-1.37c-.4-.4-.92-.59-1.43-.59-.52 0-1.04.2-1.43.59L10.3 9.45l-7.72 7.72c-.78.78-.78 2.05 0 2.83L4 21.41c.39.39.9.59 1.41.59.51 0 1.02-.2 1.41-.59l7.78-7.78 2.81-2.81c.8-.78.8-2.07 0-2.86zM5.41 20L4 18.59l7.72-7.72 1.47 1.35L5.41 20z\"/>\n",
              "  </svg>\n",
              "      </button>\n",
              "      \n",
              "  <style>\n",
              "    .colab-df-container {\n",
              "      display:flex;\n",
              "      flex-wrap:wrap;\n",
              "      gap: 12px;\n",
              "    }\n",
              "\n",
              "    .colab-df-convert {\n",
              "      background-color: #E8F0FE;\n",
              "      border: none;\n",
              "      border-radius: 50%;\n",
              "      cursor: pointer;\n",
              "      display: none;\n",
              "      fill: #1967D2;\n",
              "      height: 32px;\n",
              "      padding: 0 0 0 0;\n",
              "      width: 32px;\n",
              "    }\n",
              "\n",
              "    .colab-df-convert:hover {\n",
              "      background-color: #E2EBFA;\n",
              "      box-shadow: 0px 1px 2px rgba(60, 64, 67, 0.3), 0px 1px 3px 1px rgba(60, 64, 67, 0.15);\n",
              "      fill: #174EA6;\n",
              "    }\n",
              "\n",
              "    [theme=dark] .colab-df-convert {\n",
              "      background-color: #3B4455;\n",
              "      fill: #D2E3FC;\n",
              "    }\n",
              "\n",
              "    [theme=dark] .colab-df-convert:hover {\n",
              "      background-color: #434B5C;\n",
              "      box-shadow: 0px 1px 3px 1px rgba(0, 0, 0, 0.15);\n",
              "      filter: drop-shadow(0px 1px 2px rgba(0, 0, 0, 0.3));\n",
              "      fill: #FFFFFF;\n",
              "    }\n",
              "  </style>\n",
              "\n",
              "      <script>\n",
              "        const buttonEl =\n",
              "          document.querySelector('#df-709c2bbe-0a7f-4040-aae0-0a6bf5ae9ab4 button.colab-df-convert');\n",
              "        buttonEl.style.display =\n",
              "          google.colab.kernel.accessAllowed ? 'block' : 'none';\n",
              "\n",
              "        async function convertToInteractive(key) {\n",
              "          const element = document.querySelector('#df-709c2bbe-0a7f-4040-aae0-0a6bf5ae9ab4');\n",
              "          const dataTable =\n",
              "            await google.colab.kernel.invokeFunction('convertToInteractive',\n",
              "                                                     [key], {});\n",
              "          if (!dataTable) return;\n",
              "\n",
              "          const docLinkHtml = 'Like what you see? Visit the ' +\n",
              "            '<a target=\"_blank\" href=https://colab.research.google.com/notebooks/data_table.ipynb>data table notebook</a>'\n",
              "            + ' to learn more about interactive tables.';\n",
              "          element.innerHTML = '';\n",
              "          dataTable['output_type'] = 'display_data';\n",
              "          await google.colab.output.renderOutput(dataTable, element);\n",
              "          const docLink = document.createElement('div');\n",
              "          docLink.innerHTML = docLinkHtml;\n",
              "          element.appendChild(docLink);\n",
              "        }\n",
              "      </script>\n",
              "    </div>\n",
              "  </div>\n",
              "  "
            ]
          },
          "metadata": {},
          "execution_count": 26
        }
      ],
      "source": [
        "Ans"
      ]
    },
    {
      "cell_type": "markdown",
      "metadata": {
        "id": "SCiKkKdjf_xT"
      },
      "source": [
        "```{admonition} Question 11\n",
        "**수치형 변수를 가진 컬럼을 출력하라**\n",
        "```"
      ]
    },
    {
      "cell_type": "markdown",
      "metadata": {
        "id": "d3wyanVqf_xT"
      },
      "source": [
        "```{admonition} 11번 유튜브 풀이\n",
        ":class: dropdown\n",
        "<div style=\"text-align: center\"><iframe width=\"700\" height=\"500\" src=https://www.youtube.com/embed/PxTIbZJ3xrA?start=1510&end=1768></iframe></div>\n",
        "```\n",
        "    "
      ]
    },
    {
      "cell_type": "code",
      "execution_count": 27,
      "metadata": {
        "ExecuteTime": {
          "end_time": "2022-02-19T18:22:28.008001Z",
          "start_time": "2022-02-19T18:22:28.004130Z"
        },
        "tags": [
          "hide-input"
        ],
        "id": "1eUFlzE_f_xT"
      },
      "outputs": [],
      "source": [
        "Ans = df.select_dtypes(exclude=object).columns"
      ]
    },
    {
      "cell_type": "code",
      "execution_count": 28,
      "metadata": {
        "ExecuteTime": {
          "end_time": "2022-02-19T18:22:28.012843Z",
          "start_time": "2022-02-19T18:22:28.009446Z"
        },
        "id": "dJWev2udf_xT",
        "outputId": "3b4a1fb6-6305-4f98-d084-253569e8c12a",
        "colab": {
          "base_uri": "https://localhost:8080/"
        }
      },
      "outputs": [
        {
          "output_type": "execute_result",
          "data": {
            "text/plain": [
              "Index(['id', '거주인구', '근무인구', '방문인구', '총 유동인구', '평균 속도', '평균 소요 시간', '평균 기온',\n",
              "       '일강수량', '평균 풍속'],\n",
              "      dtype='object')"
            ]
          },
          "metadata": {},
          "execution_count": 28
        }
      ],
      "source": [
        "Ans"
      ]
    },
    {
      "cell_type": "markdown",
      "metadata": {
        "id": "IVjiqmqof_xU"
      },
      "source": [
        "```{admonition} Question 12\n",
        "**범주형 변수를 가진 컬럼을 출력하라**\n",
        "```"
      ]
    },
    {
      "cell_type": "markdown",
      "metadata": {
        "id": "czmRPAdHf_xU"
      },
      "source": [
        "```{admonition} 12번 유튜브 풀이\n",
        ":class: dropdown\n",
        "<div style=\"text-align: center\"><iframe width=\"700\" height=\"500\" src=https://www.youtube.com/embed/PxTIbZJ3xrA?start=1770&end=1918></iframe></div>\n",
        "```\n",
        "    "
      ]
    },
    {
      "cell_type": "code",
      "execution_count": 29,
      "metadata": {
        "ExecuteTime": {
          "end_time": "2022-02-19T18:22:28.017567Z",
          "start_time": "2022-02-19T18:22:28.014187Z"
        },
        "tags": [
          "hide-input"
        ],
        "id": "qFkK0tMVf_xU"
      },
      "outputs": [],
      "source": [
        "Ans = df.select_dtypes(include=object).columns"
      ]
    },
    {
      "cell_type": "code",
      "execution_count": 30,
      "metadata": {
        "ExecuteTime": {
          "end_time": "2022-02-19T18:22:28.021825Z",
          "start_time": "2022-02-19T18:22:28.018797Z"
        },
        "id": "dLYeUfRFf_xU",
        "outputId": "69917fad-a77e-491b-c397-5267478faa35",
        "colab": {
          "base_uri": "https://localhost:8080/"
        }
      },
      "outputs": [
        {
          "output_type": "execute_result",
          "data": {
            "text/plain": [
              "Index(['일자', '시도명', '읍면동명'], dtype='object')"
            ]
          },
          "metadata": {},
          "execution_count": 30
        }
      ],
      "source": [
        "Ans"
      ]
    },
    {
      "cell_type": "markdown",
      "metadata": {
        "id": "f-C9-13Vf_xU"
      },
      "source": [
        "```{admonition} Question 13\n",
        "**각 컬럼의 결측치 숫자를 파악하라**\n",
        "```"
      ]
    },
    {
      "cell_type": "markdown",
      "metadata": {
        "id": "_UFR3KOOf_xU"
      },
      "source": [
        "```{admonition} 13번 유튜브 풀이\n",
        ":class: dropdown\n",
        "<div style=\"text-align: center\"><iframe width=\"700\" height=\"500\" src=https://www.youtube.com/embed/PxTIbZJ3xrA?start=1920&end=2098></iframe></div>\n",
        "```"
      ]
    },
    {
      "cell_type": "code",
      "execution_count": 31,
      "metadata": {
        "ExecuteTime": {
          "end_time": "2022-02-19T18:22:28.027820Z",
          "start_time": "2022-02-19T18:22:28.023063Z"
        },
        "tags": [
          "hide-input"
        ],
        "id": "Befc5mVgf_xU"
      },
      "outputs": [],
      "source": [
        "Ans = df.isnull().sum()"
      ]
    },
    {
      "cell_type": "code",
      "execution_count": 32,
      "metadata": {
        "ExecuteTime": {
          "end_time": "2022-02-19T18:22:28.032666Z",
          "start_time": "2022-02-19T18:22:28.029137Z"
        },
        "id": "vtwTxZTEf_xV",
        "outputId": "a40b596a-a9ed-49d8-a91b-6b1e78a1842d",
        "colab": {
          "base_uri": "https://localhost:8080/"
        }
      },
      "outputs": [
        {
          "output_type": "execute_result",
          "data": {
            "text/plain": [
              "id          0\n",
              "일자          0\n",
              "시도명         0\n",
              "읍면동명        0\n",
              "거주인구        0\n",
              "근무인구        0\n",
              "방문인구        0\n",
              "총 유동인구      0\n",
              "평균 속도       0\n",
              "평균 소요 시간    0\n",
              "평균 기온       0\n",
              "일강수량        0\n",
              "평균 풍속       0\n",
              "dtype: int64"
            ]
          },
          "metadata": {},
          "execution_count": 32
        }
      ],
      "source": [
        "Ans"
      ]
    },
    {
      "cell_type": "markdown",
      "metadata": {
        "id": "_VE6jRpgf_xV"
      },
      "source": [
        "```{admonition} Question 14\n",
        "**각 컬럼의 데이터수, 데이터타입을 한번에 확인하라**\n",
        "```"
      ]
    },
    {
      "cell_type": "markdown",
      "metadata": {
        "id": "qSKpFj0tf_xV"
      },
      "source": [
        "```{admonition} 14번 유튜브 풀이\n",
        ":class: dropdown\n",
        "<div style=\"text-align: center\"><iframe width=\"700\" height=\"500\" src=https://www.youtube.com/embed/PxTIbZJ3xrA?start=2100&end=2137></iframe></div>\n",
        "```"
      ]
    },
    {
      "cell_type": "code",
      "execution_count": 33,
      "metadata": {
        "ExecuteTime": {
          "end_time": "2022-02-19T18:22:28.049431Z",
          "start_time": "2022-02-19T18:22:28.040288Z"
        },
        "tags": [
          "hide-input"
        ],
        "id": "hRUrhAvAf_xV",
        "outputId": "71ef0c40-dbe2-4ffc-81cb-c3cd7697ff78",
        "colab": {
          "base_uri": "https://localhost:8080/"
        }
      },
      "outputs": [
        {
          "output_type": "stream",
          "name": "stdout",
          "text": [
            "<class 'pandas.core.frame.DataFrame'>\n",
            "RangeIndex: 9621 entries, 0 to 9620\n",
            "Data columns (total 13 columns):\n",
            " #   Column    Non-Null Count  Dtype  \n",
            "---  ------    --------------  -----  \n",
            " 0   id        9621 non-null   int64  \n",
            " 1   일자        9621 non-null   object \n",
            " 2   시도명       9621 non-null   object \n",
            " 3   읍면동명      9621 non-null   object \n",
            " 4   거주인구      9621 non-null   float64\n",
            " 5   근무인구      9621 non-null   float64\n",
            " 6   방문인구      9621 non-null   float64\n",
            " 7   총 유동인구    9621 non-null   float64\n",
            " 8   평균 속도     9621 non-null   float64\n",
            " 9   평균 소요 시간  9621 non-null   float64\n",
            " 10  평균 기온     9621 non-null   float64\n",
            " 11  일강수량      9621 non-null   float64\n",
            " 12  평균 풍속     9621 non-null   float64\n",
            "dtypes: float64(9), int64(1), object(3)\n",
            "memory usage: 977.3+ KB\n"
          ]
        }
      ],
      "source": [
        "df.info()"
      ]
    },
    {
      "cell_type": "markdown",
      "metadata": {
        "id": "fhgt8ZmSf_xV"
      },
      "source": [
        "```{admonition} Question 15\n",
        "**각 수치형 변수의 분포(사분위, 평균, 표준편차, 최대 , 최소)를 확인하라**\n",
        "```"
      ]
    },
    {
      "cell_type": "markdown",
      "metadata": {
        "id": "UloAux3ff_xV"
      },
      "source": [
        "```{admonition} 15번 유튜브 풀이\n",
        ":class: dropdown\n",
        "<div style=\"text-align: center\"><iframe width=\"700\" height=\"500\" src=https://www.youtube.com/embed/PxTIbZJ3xrA?start=2139&end=2203></iframe></div>\n",
        "```\n",
        "    "
      ]
    },
    {
      "cell_type": "code",
      "execution_count": 34,
      "metadata": {
        "ExecuteTime": {
          "end_time": "2022-02-19T18:22:28.070462Z",
          "start_time": "2022-02-19T18:22:28.050631Z"
        },
        "tags": [
          "hide-input"
        ],
        "id": "1hbsFKvqf_xV"
      },
      "outputs": [],
      "source": [
        "Ans = df.describe()"
      ]
    },
    {
      "cell_type": "code",
      "execution_count": 35,
      "metadata": {
        "ExecuteTime": {
          "end_time": "2022-02-19T18:22:28.082577Z",
          "start_time": "2022-02-19T18:22:28.071936Z"
        },
        "id": "Qxno7TGIf_xV",
        "outputId": "b4245e95-3dcd-4193-d0c8-697a7ddf2e5d",
        "colab": {
          "base_uri": "https://localhost:8080/",
          "height": 300
        }
      },
      "outputs": [
        {
          "output_type": "execute_result",
          "data": {
            "text/plain": [
              "                 id          거주인구           근무인구           방문인구        총 유동인구  \\\n",
              "count   9621.000000  9.621000e+03    9621.000000    9621.000000  9.621000e+03   \n",
              "mean   27258.000000  3.174315e+05   35471.201510  195889.561802  5.487922e+05   \n",
              "std     2777.487804  2.982079e+05   40381.214775  140706.090325  4.608802e+05   \n",
              "min    22448.000000  9.305552e+03    1407.936000   11538.322000  2.225181e+04   \n",
              "25%    24853.000000  9.539939e+04   12074.498000   99632.153000  2.216910e+05   \n",
              "50%    27258.000000  2.221105e+05   21960.928000  152805.335000  3.866935e+05   \n",
              "75%    29663.000000  4.106671e+05   40192.032000  236325.109000  6.406918e+05   \n",
              "max    32068.000000  1.364504e+06  263476.965000  723459.209000  2.066484e+06   \n",
              "\n",
              "             평균 속도     평균 소요 시간        평균 기온         일강수량        평균 풍속  \n",
              "count  9621.000000  9621.000000  9621.000000  9621.000000  9621.000000  \n",
              "mean     41.109084    37.215873    13.550828     6.972426     2.753171  \n",
              "std       8.758631    12.993786     7.745515    27.617260     1.498538  \n",
              "min      24.333000    12.667000    -9.600000     0.000000     0.000000  \n",
              "25%      34.250000    27.889000     7.600000     0.000000     1.700000  \n",
              "50%      39.640000    34.500000    13.400000     0.000000     2.400000  \n",
              "75%      49.105000    46.176000    19.700000     1.500000     3.400000  \n",
              "max     103.000000   172.200000    30.400000   587.500000    13.333000  "
            ],
            "text/html": [
              "\n",
              "  <div id=\"df-a22cb332-e92a-4263-9377-e6fa41edad96\">\n",
              "    <div class=\"colab-df-container\">\n",
              "      <div>\n",
              "<style scoped>\n",
              "    .dataframe tbody tr th:only-of-type {\n",
              "        vertical-align: middle;\n",
              "    }\n",
              "\n",
              "    .dataframe tbody tr th {\n",
              "        vertical-align: top;\n",
              "    }\n",
              "\n",
              "    .dataframe thead th {\n",
              "        text-align: right;\n",
              "    }\n",
              "</style>\n",
              "<table border=\"1\" class=\"dataframe\">\n",
              "  <thead>\n",
              "    <tr style=\"text-align: right;\">\n",
              "      <th></th>\n",
              "      <th>id</th>\n",
              "      <th>거주인구</th>\n",
              "      <th>근무인구</th>\n",
              "      <th>방문인구</th>\n",
              "      <th>총 유동인구</th>\n",
              "      <th>평균 속도</th>\n",
              "      <th>평균 소요 시간</th>\n",
              "      <th>평균 기온</th>\n",
              "      <th>일강수량</th>\n",
              "      <th>평균 풍속</th>\n",
              "    </tr>\n",
              "  </thead>\n",
              "  <tbody>\n",
              "    <tr>\n",
              "      <th>count</th>\n",
              "      <td>9621.000000</td>\n",
              "      <td>9.621000e+03</td>\n",
              "      <td>9621.000000</td>\n",
              "      <td>9621.000000</td>\n",
              "      <td>9.621000e+03</td>\n",
              "      <td>9621.000000</td>\n",
              "      <td>9621.000000</td>\n",
              "      <td>9621.000000</td>\n",
              "      <td>9621.000000</td>\n",
              "      <td>9621.000000</td>\n",
              "    </tr>\n",
              "    <tr>\n",
              "      <th>mean</th>\n",
              "      <td>27258.000000</td>\n",
              "      <td>3.174315e+05</td>\n",
              "      <td>35471.201510</td>\n",
              "      <td>195889.561802</td>\n",
              "      <td>5.487922e+05</td>\n",
              "      <td>41.109084</td>\n",
              "      <td>37.215873</td>\n",
              "      <td>13.550828</td>\n",
              "      <td>6.972426</td>\n",
              "      <td>2.753171</td>\n",
              "    </tr>\n",
              "    <tr>\n",
              "      <th>std</th>\n",
              "      <td>2777.487804</td>\n",
              "      <td>2.982079e+05</td>\n",
              "      <td>40381.214775</td>\n",
              "      <td>140706.090325</td>\n",
              "      <td>4.608802e+05</td>\n",
              "      <td>8.758631</td>\n",
              "      <td>12.993786</td>\n",
              "      <td>7.745515</td>\n",
              "      <td>27.617260</td>\n",
              "      <td>1.498538</td>\n",
              "    </tr>\n",
              "    <tr>\n",
              "      <th>min</th>\n",
              "      <td>22448.000000</td>\n",
              "      <td>9.305552e+03</td>\n",
              "      <td>1407.936000</td>\n",
              "      <td>11538.322000</td>\n",
              "      <td>2.225181e+04</td>\n",
              "      <td>24.333000</td>\n",
              "      <td>12.667000</td>\n",
              "      <td>-9.600000</td>\n",
              "      <td>0.000000</td>\n",
              "      <td>0.000000</td>\n",
              "    </tr>\n",
              "    <tr>\n",
              "      <th>25%</th>\n",
              "      <td>24853.000000</td>\n",
              "      <td>9.539939e+04</td>\n",
              "      <td>12074.498000</td>\n",
              "      <td>99632.153000</td>\n",
              "      <td>2.216910e+05</td>\n",
              "      <td>34.250000</td>\n",
              "      <td>27.889000</td>\n",
              "      <td>7.600000</td>\n",
              "      <td>0.000000</td>\n",
              "      <td>1.700000</td>\n",
              "    </tr>\n",
              "    <tr>\n",
              "      <th>50%</th>\n",
              "      <td>27258.000000</td>\n",
              "      <td>2.221105e+05</td>\n",
              "      <td>21960.928000</td>\n",
              "      <td>152805.335000</td>\n",
              "      <td>3.866935e+05</td>\n",
              "      <td>39.640000</td>\n",
              "      <td>34.500000</td>\n",
              "      <td>13.400000</td>\n",
              "      <td>0.000000</td>\n",
              "      <td>2.400000</td>\n",
              "    </tr>\n",
              "    <tr>\n",
              "      <th>75%</th>\n",
              "      <td>29663.000000</td>\n",
              "      <td>4.106671e+05</td>\n",
              "      <td>40192.032000</td>\n",
              "      <td>236325.109000</td>\n",
              "      <td>6.406918e+05</td>\n",
              "      <td>49.105000</td>\n",
              "      <td>46.176000</td>\n",
              "      <td>19.700000</td>\n",
              "      <td>1.500000</td>\n",
              "      <td>3.400000</td>\n",
              "    </tr>\n",
              "    <tr>\n",
              "      <th>max</th>\n",
              "      <td>32068.000000</td>\n",
              "      <td>1.364504e+06</td>\n",
              "      <td>263476.965000</td>\n",
              "      <td>723459.209000</td>\n",
              "      <td>2.066484e+06</td>\n",
              "      <td>103.000000</td>\n",
              "      <td>172.200000</td>\n",
              "      <td>30.400000</td>\n",
              "      <td>587.500000</td>\n",
              "      <td>13.333000</td>\n",
              "    </tr>\n",
              "  </tbody>\n",
              "</table>\n",
              "</div>\n",
              "      <button class=\"colab-df-convert\" onclick=\"convertToInteractive('df-a22cb332-e92a-4263-9377-e6fa41edad96')\"\n",
              "              title=\"Convert this dataframe to an interactive table.\"\n",
              "              style=\"display:none;\">\n",
              "        \n",
              "  <svg xmlns=\"http://www.w3.org/2000/svg\" height=\"24px\"viewBox=\"0 0 24 24\"\n",
              "       width=\"24px\">\n",
              "    <path d=\"M0 0h24v24H0V0z\" fill=\"none\"/>\n",
              "    <path d=\"M18.56 5.44l.94 2.06.94-2.06 2.06-.94-2.06-.94-.94-2.06-.94 2.06-2.06.94zm-11 1L8.5 8.5l.94-2.06 2.06-.94-2.06-.94L8.5 2.5l-.94 2.06-2.06.94zm10 10l.94 2.06.94-2.06 2.06-.94-2.06-.94-.94-2.06-.94 2.06-2.06.94z\"/><path d=\"M17.41 7.96l-1.37-1.37c-.4-.4-.92-.59-1.43-.59-.52 0-1.04.2-1.43.59L10.3 9.45l-7.72 7.72c-.78.78-.78 2.05 0 2.83L4 21.41c.39.39.9.59 1.41.59.51 0 1.02-.2 1.41-.59l7.78-7.78 2.81-2.81c.8-.78.8-2.07 0-2.86zM5.41 20L4 18.59l7.72-7.72 1.47 1.35L5.41 20z\"/>\n",
              "  </svg>\n",
              "      </button>\n",
              "      \n",
              "  <style>\n",
              "    .colab-df-container {\n",
              "      display:flex;\n",
              "      flex-wrap:wrap;\n",
              "      gap: 12px;\n",
              "    }\n",
              "\n",
              "    .colab-df-convert {\n",
              "      background-color: #E8F0FE;\n",
              "      border: none;\n",
              "      border-radius: 50%;\n",
              "      cursor: pointer;\n",
              "      display: none;\n",
              "      fill: #1967D2;\n",
              "      height: 32px;\n",
              "      padding: 0 0 0 0;\n",
              "      width: 32px;\n",
              "    }\n",
              "\n",
              "    .colab-df-convert:hover {\n",
              "      background-color: #E2EBFA;\n",
              "      box-shadow: 0px 1px 2px rgba(60, 64, 67, 0.3), 0px 1px 3px 1px rgba(60, 64, 67, 0.15);\n",
              "      fill: #174EA6;\n",
              "    }\n",
              "\n",
              "    [theme=dark] .colab-df-convert {\n",
              "      background-color: #3B4455;\n",
              "      fill: #D2E3FC;\n",
              "    }\n",
              "\n",
              "    [theme=dark] .colab-df-convert:hover {\n",
              "      background-color: #434B5C;\n",
              "      box-shadow: 0px 1px 3px 1px rgba(0, 0, 0, 0.15);\n",
              "      filter: drop-shadow(0px 1px 2px rgba(0, 0, 0, 0.3));\n",
              "      fill: #FFFFFF;\n",
              "    }\n",
              "  </style>\n",
              "\n",
              "      <script>\n",
              "        const buttonEl =\n",
              "          document.querySelector('#df-a22cb332-e92a-4263-9377-e6fa41edad96 button.colab-df-convert');\n",
              "        buttonEl.style.display =\n",
              "          google.colab.kernel.accessAllowed ? 'block' : 'none';\n",
              "\n",
              "        async function convertToInteractive(key) {\n",
              "          const element = document.querySelector('#df-a22cb332-e92a-4263-9377-e6fa41edad96');\n",
              "          const dataTable =\n",
              "            await google.colab.kernel.invokeFunction('convertToInteractive',\n",
              "                                                     [key], {});\n",
              "          if (!dataTable) return;\n",
              "\n",
              "          const docLinkHtml = 'Like what you see? Visit the ' +\n",
              "            '<a target=\"_blank\" href=https://colab.research.google.com/notebooks/data_table.ipynb>data table notebook</a>'\n",
              "            + ' to learn more about interactive tables.';\n",
              "          element.innerHTML = '';\n",
              "          dataTable['output_type'] = 'display_data';\n",
              "          await google.colab.output.renderOutput(dataTable, element);\n",
              "          const docLink = document.createElement('div');\n",
              "          docLink.innerHTML = docLinkHtml;\n",
              "          element.appendChild(docLink);\n",
              "        }\n",
              "      </script>\n",
              "    </div>\n",
              "  </div>\n",
              "  "
            ]
          },
          "metadata": {},
          "execution_count": 35
        }
      ],
      "source": [
        "Ans"
      ]
    },
    {
      "cell_type": "markdown",
      "metadata": {
        "id": "BkBDlfn9f_xW"
      },
      "source": [
        "```{admonition} Question 16\n",
        "**거주인구 컬럼의 값들을 출력하라**\n",
        "```"
      ]
    },
    {
      "cell_type": "markdown",
      "metadata": {
        "id": "Fbhge4Inf_xW"
      },
      "source": [
        "```{admonition} 16번 유튜브 풀이\n",
        ":class: dropdown\n",
        "<div style=\"text-align: center\"><iframe width=\"700\" height=\"500\" src=https://www.youtube.com/embed/PxTIbZJ3xrA?start=2205&end=2370></iframe></div>\n",
        "```"
      ]
    },
    {
      "cell_type": "code",
      "execution_count": 36,
      "metadata": {
        "ExecuteTime": {
          "end_time": "2022-02-19T18:22:28.086195Z",
          "start_time": "2022-02-19T18:22:28.083923Z"
        },
        "tags": [
          "hide-input"
        ],
        "id": "O75KDLZ2f_xW"
      },
      "outputs": [],
      "source": [
        "Ans = df['거주인구']"
      ]
    },
    {
      "cell_type": "code",
      "execution_count": 37,
      "metadata": {
        "ExecuteTime": {
          "end_time": "2022-02-19T18:22:28.091720Z",
          "start_time": "2022-02-19T18:22:28.087518Z"
        },
        "id": "t1yQF-fEf_xW",
        "outputId": "ecedb44e-8cc8-4da3-a456-da2756cfc1d9",
        "colab": {
          "base_uri": "https://localhost:8080/"
        }
      },
      "outputs": [
        {
          "output_type": "execute_result",
          "data": {
            "text/plain": [
              "0         32249.987\n",
              "1        213500.997\n",
              "2       1212382.218\n",
              "3         33991.653\n",
              "4        155036.925\n",
              "           ...     \n",
              "9616     228260.005\n",
              "9617     459959.064\n",
              "9618      28397.481\n",
              "9619     348037.846\n",
              "9620    1010643.372\n",
              "Name: 거주인구, Length: 9621, dtype: float64"
            ]
          },
          "metadata": {},
          "execution_count": 37
        }
      ],
      "source": [
        "Ans"
      ]
    },
    {
      "cell_type": "markdown",
      "metadata": {
        "id": "dbww2Gq2f_xW"
      },
      "source": [
        "```{admonition} Question 17\n",
        "**평균 속도 컬럼의 4분위 범위(IQR) 값을 구하여라**\n",
        "```"
      ]
    },
    {
      "cell_type": "markdown",
      "metadata": {
        "id": "lXonGFVnf_xW"
      },
      "source": [
        "\n",
        "```{admonition} 17번 유튜브 풀이\n",
        ":class: dropdown\n",
        "<div style=\"text-align: center\"><iframe width=\"700\" height=\"500\" src=https://www.youtube.com/embed/PxTIbZJ3xrA?start=2372&end=2546></iframe></div>\n",
        "```"
      ]
    },
    {
      "cell_type": "code",
      "execution_count": 38,
      "metadata": {
        "ExecuteTime": {
          "end_time": "2022-02-19T18:22:28.097422Z",
          "start_time": "2022-02-19T18:22:28.093294Z"
        },
        "tags": [
          "hide-input"
        ],
        "id": "HrG-7wFRf_xW"
      },
      "outputs": [],
      "source": [
        "Ans  = df['평균 속도'].quantile(0.75) -df['평균 속도'].quantile(0.25)"
      ]
    },
    {
      "cell_type": "code",
      "execution_count": 39,
      "metadata": {
        "ExecuteTime": {
          "end_time": "2022-02-19T18:22:28.101635Z",
          "start_time": "2022-02-19T18:22:28.098778Z"
        },
        "id": "wNNylrluf_xW",
        "outputId": "9717cf26-2275-4277-b410-450eeb5e6d54",
        "colab": {
          "base_uri": "https://localhost:8080/"
        }
      },
      "outputs": [
        {
          "output_type": "execute_result",
          "data": {
            "text/plain": [
              "14.854999999999997"
            ]
          },
          "metadata": {},
          "execution_count": 39
        }
      ],
      "source": [
        "Ans"
      ]
    },
    {
      "cell_type": "markdown",
      "metadata": {
        "id": "j33S-19yf_xX"
      },
      "source": [
        "```{admonition} Question 18\n",
        "**읍면동명 컬럼의 유일값 갯수를 출력하라**\n",
        "```"
      ]
    },
    {
      "cell_type": "markdown",
      "metadata": {
        "id": "aD624Zq3f_xX"
      },
      "source": [
        "```{admonition} 18번 유튜브 풀이\n",
        ":class: dropdown\n",
        "<div style=\"text-align: center\"><iframe width=\"700\" height=\"500\" src=https://www.youtube.com/embed/PxTIbZJ3xrA?start=2548&end=2638></iframe></div>\n",
        "```"
      ]
    },
    {
      "cell_type": "code",
      "execution_count": 40,
      "metadata": {
        "ExecuteTime": {
          "end_time": "2022-02-19T18:22:28.105188Z",
          "start_time": "2022-02-19T18:22:28.102746Z"
        },
        "tags": [
          "hide-input"
        ],
        "id": "Pj_y-1A5f_xX"
      },
      "outputs": [],
      "source": [
        "Ans = df.읍면동명.nunique()"
      ]
    },
    {
      "cell_type": "code",
      "execution_count": 41,
      "metadata": {
        "ExecuteTime": {
          "end_time": "2022-02-19T18:22:28.109460Z",
          "start_time": "2022-02-19T18:22:28.106646Z"
        },
        "id": "DdHm2Qiof_xY",
        "outputId": "84778c83-0cbe-435f-b636-067502350530",
        "colab": {
          "base_uri": "https://localhost:8080/"
        }
      },
      "outputs": [
        {
          "output_type": "execute_result",
          "data": {
            "text/plain": [
              "41"
            ]
          },
          "metadata": {},
          "execution_count": 41
        }
      ],
      "source": [
        "Ans"
      ]
    },
    {
      "cell_type": "markdown",
      "metadata": {
        "id": "L9EjIlcpf_xY"
      },
      "source": [
        "```{admonition} Question 19\n",
        "**읍면동명 컬럼의 유일값을 모두 출력하라**\n",
        "```"
      ]
    },
    {
      "cell_type": "markdown",
      "metadata": {
        "id": "H0fbmDgzf_xY"
      },
      "source": [
        "```{admonition} 19번 유튜브 풀이\n",
        ":class: dropdown\n",
        "<div style=\"text-align: center\"><iframe width=\"700\" height=\"500\" src=https://www.youtube.com/embed/PxTIbZJ3xrA?start=2640&end=2673></iframe></div>\n",
        "```"
      ]
    },
    {
      "cell_type": "code",
      "execution_count": 42,
      "metadata": {
        "ExecuteTime": {
          "end_time": "2022-02-19T18:22:28.113058Z",
          "start_time": "2022-02-19T18:22:28.110748Z"
        },
        "tags": [
          "hide-input"
        ],
        "id": "o281EvrHf_xY"
      },
      "outputs": [],
      "source": [
        "Ans = df.읍면동명.unique()"
      ]
    },
    {
      "cell_type": "code",
      "execution_count": 43,
      "metadata": {
        "ExecuteTime": {
          "end_time": "2022-02-19T18:22:28.117223Z",
          "start_time": "2022-02-19T18:22:28.114310Z"
        },
        "id": "6zfQH3g7f_xY",
        "outputId": "b5d9c791-0c98-49d5-ffd6-e2eff8c25059",
        "colab": {
          "base_uri": "https://localhost:8080/"
        }
      },
      "outputs": [
        {
          "output_type": "execute_result",
          "data": {
            "text/plain": [
              "array(['도두동', '외도동', '이도2동', '일도1동', '대천동', '서홍동', '한경면', '송산동', '조천읍',\n",
              "       '일도2동', '영천동', '예래동', '대륜동', '삼도1동', '이호동', '건입동', '중앙동', '삼양동',\n",
              "       '삼도2동', '이도1동', '남원읍', '대정읍', '정방동', '효돈동', '아라동', '한림읍', '구좌읍',\n",
              "       '용담1동', '오라동', '화북동', '연동', '표선면', '중문동', '성산읍', '안덕면', '천지동',\n",
              "       '노형동', '동홍동', '용담2동', '봉개동', '애월읍'], dtype=object)"
            ]
          },
          "metadata": {},
          "execution_count": 43
        }
      ],
      "source": [
        "Ans"
      ]
    },
    {
      "cell_type": "markdown",
      "metadata": {
        "id": "ZaFbFLVjf_xZ"
      },
      "source": [
        "## 02 Filtering & Sorting"
      ]
    },
    {
      "cell_type": "markdown",
      "metadata": {
        "id": "opu3uRYaf_xZ"
      },
      "source": [
        "```{attention} \n",
        "식당데이터 : https://github.com/justmarkham/DAT8/blob/master/data/chipotle.tsv  \n",
        "**DataUrl = 'https://raw.githubusercontent.com/Datamanim/pandas/main/chipo.csv'**\n",
        "```"
      ]
    },
    {
      "cell_type": "markdown",
      "metadata": {
        "id": "B4y2biplf_xZ"
      },
      "source": [
        "```{admonition} Question 20\n",
        "**데이터를 로드하라.**\n",
        "```"
      ]
    },
    {
      "cell_type": "markdown",
      "metadata": {
        "id": "a3yKP9rqf_xZ"
      },
      "source": [
        "```{admonition} 20번 유튜브 풀이\n",
        ":class: dropdown\n",
        "<div style=\"text-align: center\"><iframe width=\"700\" height=\"500\" src=https://www.youtube.com/embed/PxTIbZJ3xrA?start=2675&end=2714></iframe></div>\n",
        "```"
      ]
    },
    {
      "cell_type": "code",
      "execution_count": 44,
      "metadata": {
        "ExecuteTime": {
          "end_time": "2022-02-19T18:22:28.169580Z",
          "start_time": "2022-02-19T18:22:28.118547Z"
        },
        "id": "6Jrz62rLf_xZ"
      },
      "outputs": [],
      "source": [
        "DataUrl = 'https://raw.githubusercontent.com/Datamanim/pandas/main/chipo.csv'\n",
        "df = pd.read_csv(DataUrl)\n",
        "Ans = type(df)"
      ]
    },
    {
      "cell_type": "code",
      "execution_count": 45,
      "metadata": {
        "ExecuteTime": {
          "end_time": "2022-02-19T18:22:28.174653Z",
          "start_time": "2022-02-19T18:22:28.171342Z"
        },
        "id": "JzLAtg9sf_xZ",
        "outputId": "2c768ff9-6b36-4f85-a40a-148977ff2c4d",
        "colab": {
          "base_uri": "https://localhost:8080/"
        }
      },
      "outputs": [
        {
          "output_type": "execute_result",
          "data": {
            "text/plain": [
              "pandas.core.frame.DataFrame"
            ]
          },
          "metadata": {},
          "execution_count": 45
        }
      ],
      "source": [
        "Ans"
      ]
    },
    {
      "cell_type": "markdown",
      "metadata": {
        "id": "SJEs9zH6f_xa"
      },
      "source": [
        "```{admonition} Question 21\n",
        "**quantity컬럼 값이 3인 데이터를 추출하여 첫 5행을 출력하라**\n",
        "```"
      ]
    },
    {
      "cell_type": "markdown",
      "metadata": {
        "id": "Vt6HSGHbf_xa"
      },
      "source": [
        "```{admonition} 21번 유튜브 풀이\n",
        ":class: dropdown\n",
        "<div style=\"text-align: center\"><iframe width=\"700\" height=\"500\" src=https://www.youtube.com/embed/PxTIbZJ3xrA?start=2716&end=3028></iframe></div>\n",
        "```"
      ]
    },
    {
      "cell_type": "code",
      "execution_count": 46,
      "metadata": {
        "ExecuteTime": {
          "end_time": "2022-02-19T18:22:28.179428Z",
          "start_time": "2022-02-19T18:22:28.176010Z"
        },
        "tags": [
          "hide-input"
        ],
        "id": "CF_U7leCf_xa"
      },
      "outputs": [],
      "source": [
        "Ans = df.loc[df['quantity']==3].head()"
      ]
    },
    {
      "cell_type": "code",
      "execution_count": 47,
      "metadata": {
        "ExecuteTime": {
          "end_time": "2022-02-19T18:22:28.189147Z",
          "start_time": "2022-02-19T18:22:28.181147Z"
        },
        "id": "JTvr-puCf_xa",
        "outputId": "2706b3c8-3504-495a-db90-75be1e9954fc",
        "colab": {
          "base_uri": "https://localhost:8080/",
          "height": 206
        }
      },
      "outputs": [
        {
          "output_type": "execute_result",
          "data": {
            "text/plain": [
              "     order_id  quantity          item_name  \\\n",
              "409       178         3       Chicken Bowl   \n",
              "445       193         3               Bowl   \n",
              "689       284         3  Canned Soft Drink   \n",
              "818       338         3      Bottled Water   \n",
              "850       350         3  Canned Soft Drink   \n",
              "\n",
              "                                    choice_description item_price  \n",
              "409  [[Fresh Tomato Salsa (Mild), Tomatillo-Green C...    $32.94   \n",
              "445  [Braised Carnitas, Pinto Beans, [Sour Cream, C...    $22.20   \n",
              "689                                        [Diet Coke]     $3.75   \n",
              "818                                                NaN     $3.27   \n",
              "850                                           [Sprite]     $3.75   "
            ],
            "text/html": [
              "\n",
              "  <div id=\"df-ac22bf9a-81cd-4bef-afba-3e4a9fda811d\">\n",
              "    <div class=\"colab-df-container\">\n",
              "      <div>\n",
              "<style scoped>\n",
              "    .dataframe tbody tr th:only-of-type {\n",
              "        vertical-align: middle;\n",
              "    }\n",
              "\n",
              "    .dataframe tbody tr th {\n",
              "        vertical-align: top;\n",
              "    }\n",
              "\n",
              "    .dataframe thead th {\n",
              "        text-align: right;\n",
              "    }\n",
              "</style>\n",
              "<table border=\"1\" class=\"dataframe\">\n",
              "  <thead>\n",
              "    <tr style=\"text-align: right;\">\n",
              "      <th></th>\n",
              "      <th>order_id</th>\n",
              "      <th>quantity</th>\n",
              "      <th>item_name</th>\n",
              "      <th>choice_description</th>\n",
              "      <th>item_price</th>\n",
              "    </tr>\n",
              "  </thead>\n",
              "  <tbody>\n",
              "    <tr>\n",
              "      <th>409</th>\n",
              "      <td>178</td>\n",
              "      <td>3</td>\n",
              "      <td>Chicken Bowl</td>\n",
              "      <td>[[Fresh Tomato Salsa (Mild), Tomatillo-Green C...</td>\n",
              "      <td>$32.94</td>\n",
              "    </tr>\n",
              "    <tr>\n",
              "      <th>445</th>\n",
              "      <td>193</td>\n",
              "      <td>3</td>\n",
              "      <td>Bowl</td>\n",
              "      <td>[Braised Carnitas, Pinto Beans, [Sour Cream, C...</td>\n",
              "      <td>$22.20</td>\n",
              "    </tr>\n",
              "    <tr>\n",
              "      <th>689</th>\n",
              "      <td>284</td>\n",
              "      <td>3</td>\n",
              "      <td>Canned Soft Drink</td>\n",
              "      <td>[Diet Coke]</td>\n",
              "      <td>$3.75</td>\n",
              "    </tr>\n",
              "    <tr>\n",
              "      <th>818</th>\n",
              "      <td>338</td>\n",
              "      <td>3</td>\n",
              "      <td>Bottled Water</td>\n",
              "      <td>NaN</td>\n",
              "      <td>$3.27</td>\n",
              "    </tr>\n",
              "    <tr>\n",
              "      <th>850</th>\n",
              "      <td>350</td>\n",
              "      <td>3</td>\n",
              "      <td>Canned Soft Drink</td>\n",
              "      <td>[Sprite]</td>\n",
              "      <td>$3.75</td>\n",
              "    </tr>\n",
              "  </tbody>\n",
              "</table>\n",
              "</div>\n",
              "      <button class=\"colab-df-convert\" onclick=\"convertToInteractive('df-ac22bf9a-81cd-4bef-afba-3e4a9fda811d')\"\n",
              "              title=\"Convert this dataframe to an interactive table.\"\n",
              "              style=\"display:none;\">\n",
              "        \n",
              "  <svg xmlns=\"http://www.w3.org/2000/svg\" height=\"24px\"viewBox=\"0 0 24 24\"\n",
              "       width=\"24px\">\n",
              "    <path d=\"M0 0h24v24H0V0z\" fill=\"none\"/>\n",
              "    <path d=\"M18.56 5.44l.94 2.06.94-2.06 2.06-.94-2.06-.94-.94-2.06-.94 2.06-2.06.94zm-11 1L8.5 8.5l.94-2.06 2.06-.94-2.06-.94L8.5 2.5l-.94 2.06-2.06.94zm10 10l.94 2.06.94-2.06 2.06-.94-2.06-.94-.94-2.06-.94 2.06-2.06.94z\"/><path d=\"M17.41 7.96l-1.37-1.37c-.4-.4-.92-.59-1.43-.59-.52 0-1.04.2-1.43.59L10.3 9.45l-7.72 7.72c-.78.78-.78 2.05 0 2.83L4 21.41c.39.39.9.59 1.41.59.51 0 1.02-.2 1.41-.59l7.78-7.78 2.81-2.81c.8-.78.8-2.07 0-2.86zM5.41 20L4 18.59l7.72-7.72 1.47 1.35L5.41 20z\"/>\n",
              "  </svg>\n",
              "      </button>\n",
              "      \n",
              "  <style>\n",
              "    .colab-df-container {\n",
              "      display:flex;\n",
              "      flex-wrap:wrap;\n",
              "      gap: 12px;\n",
              "    }\n",
              "\n",
              "    .colab-df-convert {\n",
              "      background-color: #E8F0FE;\n",
              "      border: none;\n",
              "      border-radius: 50%;\n",
              "      cursor: pointer;\n",
              "      display: none;\n",
              "      fill: #1967D2;\n",
              "      height: 32px;\n",
              "      padding: 0 0 0 0;\n",
              "      width: 32px;\n",
              "    }\n",
              "\n",
              "    .colab-df-convert:hover {\n",
              "      background-color: #E2EBFA;\n",
              "      box-shadow: 0px 1px 2px rgba(60, 64, 67, 0.3), 0px 1px 3px 1px rgba(60, 64, 67, 0.15);\n",
              "      fill: #174EA6;\n",
              "    }\n",
              "\n",
              "    [theme=dark] .colab-df-convert {\n",
              "      background-color: #3B4455;\n",
              "      fill: #D2E3FC;\n",
              "    }\n",
              "\n",
              "    [theme=dark] .colab-df-convert:hover {\n",
              "      background-color: #434B5C;\n",
              "      box-shadow: 0px 1px 3px 1px rgba(0, 0, 0, 0.15);\n",
              "      filter: drop-shadow(0px 1px 2px rgba(0, 0, 0, 0.3));\n",
              "      fill: #FFFFFF;\n",
              "    }\n",
              "  </style>\n",
              "\n",
              "      <script>\n",
              "        const buttonEl =\n",
              "          document.querySelector('#df-ac22bf9a-81cd-4bef-afba-3e4a9fda811d button.colab-df-convert');\n",
              "        buttonEl.style.display =\n",
              "          google.colab.kernel.accessAllowed ? 'block' : 'none';\n",
              "\n",
              "        async function convertToInteractive(key) {\n",
              "          const element = document.querySelector('#df-ac22bf9a-81cd-4bef-afba-3e4a9fda811d');\n",
              "          const dataTable =\n",
              "            await google.colab.kernel.invokeFunction('convertToInteractive',\n",
              "                                                     [key], {});\n",
              "          if (!dataTable) return;\n",
              "\n",
              "          const docLinkHtml = 'Like what you see? Visit the ' +\n",
              "            '<a target=\"_blank\" href=https://colab.research.google.com/notebooks/data_table.ipynb>data table notebook</a>'\n",
              "            + ' to learn more about interactive tables.';\n",
              "          element.innerHTML = '';\n",
              "          dataTable['output_type'] = 'display_data';\n",
              "          await google.colab.output.renderOutput(dataTable, element);\n",
              "          const docLink = document.createElement('div');\n",
              "          docLink.innerHTML = docLinkHtml;\n",
              "          element.appendChild(docLink);\n",
              "        }\n",
              "      </script>\n",
              "    </div>\n",
              "  </div>\n",
              "  "
            ]
          },
          "metadata": {},
          "execution_count": 47
        }
      ],
      "source": [
        "Ans"
      ]
    },
    {
      "cell_type": "markdown",
      "metadata": {
        "id": "U4fTYdFyf_xa"
      },
      "source": [
        "```{admonition} Question 22\n",
        "**quantity컬럼 값이 3인 데이터를 추출하여 index를 0부터 정렬하고 첫 5행을 출력하라**\n",
        "```"
      ]
    },
    {
      "cell_type": "markdown",
      "metadata": {
        "id": "6AP2TcUTf_xb"
      },
      "source": [
        "```{admonition} 22번 유튜브 풀이\n",
        ":class: dropdown\n",
        "<div style=\"text-align: center\"><iframe width=\"700\" height=\"500\" src=https://www.youtube.com/embed/PxTIbZJ3xrA?start=3030&end=3133></iframe></div>\n",
        "```"
      ]
    },
    {
      "cell_type": "code",
      "execution_count": 48,
      "metadata": {
        "ExecuteTime": {
          "end_time": "2022-02-19T18:22:28.193938Z",
          "start_time": "2022-02-19T18:22:28.190836Z"
        },
        "tags": [
          "hide-input"
        ],
        "id": "rh4scyTaf_xb"
      },
      "outputs": [],
      "source": [
        "Ans = df.loc[df['quantity']==3].head().reset_index(drop=True)"
      ]
    },
    {
      "cell_type": "code",
      "execution_count": 49,
      "metadata": {
        "ExecuteTime": {
          "end_time": "2022-02-19T18:22:28.201865Z",
          "start_time": "2022-02-19T18:22:28.195411Z"
        },
        "id": "gzd1Jgd7f_xb",
        "outputId": "c3224842-85c4-4e00-987a-5230f03a4083",
        "colab": {
          "base_uri": "https://localhost:8080/",
          "height": 206
        }
      },
      "outputs": [
        {
          "output_type": "execute_result",
          "data": {
            "text/plain": [
              "   order_id  quantity          item_name  \\\n",
              "0       178         3       Chicken Bowl   \n",
              "1       193         3               Bowl   \n",
              "2       284         3  Canned Soft Drink   \n",
              "3       338         3      Bottled Water   \n",
              "4       350         3  Canned Soft Drink   \n",
              "\n",
              "                                  choice_description item_price  \n",
              "0  [[Fresh Tomato Salsa (Mild), Tomatillo-Green C...    $32.94   \n",
              "1  [Braised Carnitas, Pinto Beans, [Sour Cream, C...    $22.20   \n",
              "2                                        [Diet Coke]     $3.75   \n",
              "3                                                NaN     $3.27   \n",
              "4                                           [Sprite]     $3.75   "
            ],
            "text/html": [
              "\n",
              "  <div id=\"df-8e7049e2-49de-41df-890e-0127d8ea2385\">\n",
              "    <div class=\"colab-df-container\">\n",
              "      <div>\n",
              "<style scoped>\n",
              "    .dataframe tbody tr th:only-of-type {\n",
              "        vertical-align: middle;\n",
              "    }\n",
              "\n",
              "    .dataframe tbody tr th {\n",
              "        vertical-align: top;\n",
              "    }\n",
              "\n",
              "    .dataframe thead th {\n",
              "        text-align: right;\n",
              "    }\n",
              "</style>\n",
              "<table border=\"1\" class=\"dataframe\">\n",
              "  <thead>\n",
              "    <tr style=\"text-align: right;\">\n",
              "      <th></th>\n",
              "      <th>order_id</th>\n",
              "      <th>quantity</th>\n",
              "      <th>item_name</th>\n",
              "      <th>choice_description</th>\n",
              "      <th>item_price</th>\n",
              "    </tr>\n",
              "  </thead>\n",
              "  <tbody>\n",
              "    <tr>\n",
              "      <th>0</th>\n",
              "      <td>178</td>\n",
              "      <td>3</td>\n",
              "      <td>Chicken Bowl</td>\n",
              "      <td>[[Fresh Tomato Salsa (Mild), Tomatillo-Green C...</td>\n",
              "      <td>$32.94</td>\n",
              "    </tr>\n",
              "    <tr>\n",
              "      <th>1</th>\n",
              "      <td>193</td>\n",
              "      <td>3</td>\n",
              "      <td>Bowl</td>\n",
              "      <td>[Braised Carnitas, Pinto Beans, [Sour Cream, C...</td>\n",
              "      <td>$22.20</td>\n",
              "    </tr>\n",
              "    <tr>\n",
              "      <th>2</th>\n",
              "      <td>284</td>\n",
              "      <td>3</td>\n",
              "      <td>Canned Soft Drink</td>\n",
              "      <td>[Diet Coke]</td>\n",
              "      <td>$3.75</td>\n",
              "    </tr>\n",
              "    <tr>\n",
              "      <th>3</th>\n",
              "      <td>338</td>\n",
              "      <td>3</td>\n",
              "      <td>Bottled Water</td>\n",
              "      <td>NaN</td>\n",
              "      <td>$3.27</td>\n",
              "    </tr>\n",
              "    <tr>\n",
              "      <th>4</th>\n",
              "      <td>350</td>\n",
              "      <td>3</td>\n",
              "      <td>Canned Soft Drink</td>\n",
              "      <td>[Sprite]</td>\n",
              "      <td>$3.75</td>\n",
              "    </tr>\n",
              "  </tbody>\n",
              "</table>\n",
              "</div>\n",
              "      <button class=\"colab-df-convert\" onclick=\"convertToInteractive('df-8e7049e2-49de-41df-890e-0127d8ea2385')\"\n",
              "              title=\"Convert this dataframe to an interactive table.\"\n",
              "              style=\"display:none;\">\n",
              "        \n",
              "  <svg xmlns=\"http://www.w3.org/2000/svg\" height=\"24px\"viewBox=\"0 0 24 24\"\n",
              "       width=\"24px\">\n",
              "    <path d=\"M0 0h24v24H0V0z\" fill=\"none\"/>\n",
              "    <path d=\"M18.56 5.44l.94 2.06.94-2.06 2.06-.94-2.06-.94-.94-2.06-.94 2.06-2.06.94zm-11 1L8.5 8.5l.94-2.06 2.06-.94-2.06-.94L8.5 2.5l-.94 2.06-2.06.94zm10 10l.94 2.06.94-2.06 2.06-.94-2.06-.94-.94-2.06-.94 2.06-2.06.94z\"/><path d=\"M17.41 7.96l-1.37-1.37c-.4-.4-.92-.59-1.43-.59-.52 0-1.04.2-1.43.59L10.3 9.45l-7.72 7.72c-.78.78-.78 2.05 0 2.83L4 21.41c.39.39.9.59 1.41.59.51 0 1.02-.2 1.41-.59l7.78-7.78 2.81-2.81c.8-.78.8-2.07 0-2.86zM5.41 20L4 18.59l7.72-7.72 1.47 1.35L5.41 20z\"/>\n",
              "  </svg>\n",
              "      </button>\n",
              "      \n",
              "  <style>\n",
              "    .colab-df-container {\n",
              "      display:flex;\n",
              "      flex-wrap:wrap;\n",
              "      gap: 12px;\n",
              "    }\n",
              "\n",
              "    .colab-df-convert {\n",
              "      background-color: #E8F0FE;\n",
              "      border: none;\n",
              "      border-radius: 50%;\n",
              "      cursor: pointer;\n",
              "      display: none;\n",
              "      fill: #1967D2;\n",
              "      height: 32px;\n",
              "      padding: 0 0 0 0;\n",
              "      width: 32px;\n",
              "    }\n",
              "\n",
              "    .colab-df-convert:hover {\n",
              "      background-color: #E2EBFA;\n",
              "      box-shadow: 0px 1px 2px rgba(60, 64, 67, 0.3), 0px 1px 3px 1px rgba(60, 64, 67, 0.15);\n",
              "      fill: #174EA6;\n",
              "    }\n",
              "\n",
              "    [theme=dark] .colab-df-convert {\n",
              "      background-color: #3B4455;\n",
              "      fill: #D2E3FC;\n",
              "    }\n",
              "\n",
              "    [theme=dark] .colab-df-convert:hover {\n",
              "      background-color: #434B5C;\n",
              "      box-shadow: 0px 1px 3px 1px rgba(0, 0, 0, 0.15);\n",
              "      filter: drop-shadow(0px 1px 2px rgba(0, 0, 0, 0.3));\n",
              "      fill: #FFFFFF;\n",
              "    }\n",
              "  </style>\n",
              "\n",
              "      <script>\n",
              "        const buttonEl =\n",
              "          document.querySelector('#df-8e7049e2-49de-41df-890e-0127d8ea2385 button.colab-df-convert');\n",
              "        buttonEl.style.display =\n",
              "          google.colab.kernel.accessAllowed ? 'block' : 'none';\n",
              "\n",
              "        async function convertToInteractive(key) {\n",
              "          const element = document.querySelector('#df-8e7049e2-49de-41df-890e-0127d8ea2385');\n",
              "          const dataTable =\n",
              "            await google.colab.kernel.invokeFunction('convertToInteractive',\n",
              "                                                     [key], {});\n",
              "          if (!dataTable) return;\n",
              "\n",
              "          const docLinkHtml = 'Like what you see? Visit the ' +\n",
              "            '<a target=\"_blank\" href=https://colab.research.google.com/notebooks/data_table.ipynb>data table notebook</a>'\n",
              "            + ' to learn more about interactive tables.';\n",
              "          element.innerHTML = '';\n",
              "          dataTable['output_type'] = 'display_data';\n",
              "          await google.colab.output.renderOutput(dataTable, element);\n",
              "          const docLink = document.createElement('div');\n",
              "          docLink.innerHTML = docLinkHtml;\n",
              "          element.appendChild(docLink);\n",
              "        }\n",
              "      </script>\n",
              "    </div>\n",
              "  </div>\n",
              "  "
            ]
          },
          "metadata": {},
          "execution_count": 49
        }
      ],
      "source": [
        "Ans"
      ]
    },
    {
      "cell_type": "markdown",
      "metadata": {
        "id": "G7frhli3f_xb"
      },
      "source": [
        "```{admonition} Question 23\n",
        "**quantity , item_price 두개의 컬럼으로 구성된 새로운 데이터 프레임을 정의하라**\n",
        "```"
      ]
    },
    {
      "cell_type": "markdown",
      "metadata": {
        "id": "HG-R-J7Zf_xb"
      },
      "source": [
        "```{admonition} 23번 유튜브 풀이\n",
        ":class: dropdown\n",
        "<div style=\"text-align: center\"><iframe width=\"700\" height=\"500\" src=https://www.youtube.com/embed/PxTIbZJ3xrA?start=3135&end=3262></iframe></div>\n",
        "```"
      ]
    },
    {
      "cell_type": "code",
      "execution_count": 50,
      "metadata": {
        "ExecuteTime": {
          "end_time": "2022-02-19T18:22:28.205882Z",
          "start_time": "2022-02-19T18:22:28.203031Z"
        },
        "tags": [
          "hide-input"
        ],
        "id": "6YYCciZ9f_xb"
      },
      "outputs": [],
      "source": [
        "Ans =df[['quantity','item_price']]"
      ]
    },
    {
      "cell_type": "code",
      "execution_count": 51,
      "metadata": {
        "ExecuteTime": {
          "end_time": "2022-02-19T18:22:28.213596Z",
          "start_time": "2022-02-19T18:22:28.207212Z"
        },
        "id": "nMIiMytQf_xc",
        "outputId": "0add9bdf-015b-4fd3-96af-de2a73d2ae85",
        "colab": {
          "base_uri": "https://localhost:8080/",
          "height": 423
        }
      },
      "outputs": [
        {
          "output_type": "execute_result",
          "data": {
            "text/plain": [
              "      quantity item_price\n",
              "0            1     $2.39 \n",
              "1            1     $3.39 \n",
              "2            1     $3.39 \n",
              "3            1     $2.39 \n",
              "4            2    $16.98 \n",
              "...        ...        ...\n",
              "4617         1    $11.75 \n",
              "4618         1    $11.75 \n",
              "4619         1    $11.25 \n",
              "4620         1     $8.75 \n",
              "4621         1     $8.75 \n",
              "\n",
              "[4622 rows x 2 columns]"
            ],
            "text/html": [
              "\n",
              "  <div id=\"df-3b498b7f-b8fe-4567-aaad-d2fcfa53e938\">\n",
              "    <div class=\"colab-df-container\">\n",
              "      <div>\n",
              "<style scoped>\n",
              "    .dataframe tbody tr th:only-of-type {\n",
              "        vertical-align: middle;\n",
              "    }\n",
              "\n",
              "    .dataframe tbody tr th {\n",
              "        vertical-align: top;\n",
              "    }\n",
              "\n",
              "    .dataframe thead th {\n",
              "        text-align: right;\n",
              "    }\n",
              "</style>\n",
              "<table border=\"1\" class=\"dataframe\">\n",
              "  <thead>\n",
              "    <tr style=\"text-align: right;\">\n",
              "      <th></th>\n",
              "      <th>quantity</th>\n",
              "      <th>item_price</th>\n",
              "    </tr>\n",
              "  </thead>\n",
              "  <tbody>\n",
              "    <tr>\n",
              "      <th>0</th>\n",
              "      <td>1</td>\n",
              "      <td>$2.39</td>\n",
              "    </tr>\n",
              "    <tr>\n",
              "      <th>1</th>\n",
              "      <td>1</td>\n",
              "      <td>$3.39</td>\n",
              "    </tr>\n",
              "    <tr>\n",
              "      <th>2</th>\n",
              "      <td>1</td>\n",
              "      <td>$3.39</td>\n",
              "    </tr>\n",
              "    <tr>\n",
              "      <th>3</th>\n",
              "      <td>1</td>\n",
              "      <td>$2.39</td>\n",
              "    </tr>\n",
              "    <tr>\n",
              "      <th>4</th>\n",
              "      <td>2</td>\n",
              "      <td>$16.98</td>\n",
              "    </tr>\n",
              "    <tr>\n",
              "      <th>...</th>\n",
              "      <td>...</td>\n",
              "      <td>...</td>\n",
              "    </tr>\n",
              "    <tr>\n",
              "      <th>4617</th>\n",
              "      <td>1</td>\n",
              "      <td>$11.75</td>\n",
              "    </tr>\n",
              "    <tr>\n",
              "      <th>4618</th>\n",
              "      <td>1</td>\n",
              "      <td>$11.75</td>\n",
              "    </tr>\n",
              "    <tr>\n",
              "      <th>4619</th>\n",
              "      <td>1</td>\n",
              "      <td>$11.25</td>\n",
              "    </tr>\n",
              "    <tr>\n",
              "      <th>4620</th>\n",
              "      <td>1</td>\n",
              "      <td>$8.75</td>\n",
              "    </tr>\n",
              "    <tr>\n",
              "      <th>4621</th>\n",
              "      <td>1</td>\n",
              "      <td>$8.75</td>\n",
              "    </tr>\n",
              "  </tbody>\n",
              "</table>\n",
              "<p>4622 rows × 2 columns</p>\n",
              "</div>\n",
              "      <button class=\"colab-df-convert\" onclick=\"convertToInteractive('df-3b498b7f-b8fe-4567-aaad-d2fcfa53e938')\"\n",
              "              title=\"Convert this dataframe to an interactive table.\"\n",
              "              style=\"display:none;\">\n",
              "        \n",
              "  <svg xmlns=\"http://www.w3.org/2000/svg\" height=\"24px\"viewBox=\"0 0 24 24\"\n",
              "       width=\"24px\">\n",
              "    <path d=\"M0 0h24v24H0V0z\" fill=\"none\"/>\n",
              "    <path d=\"M18.56 5.44l.94 2.06.94-2.06 2.06-.94-2.06-.94-.94-2.06-.94 2.06-2.06.94zm-11 1L8.5 8.5l.94-2.06 2.06-.94-2.06-.94L8.5 2.5l-.94 2.06-2.06.94zm10 10l.94 2.06.94-2.06 2.06-.94-2.06-.94-.94-2.06-.94 2.06-2.06.94z\"/><path d=\"M17.41 7.96l-1.37-1.37c-.4-.4-.92-.59-1.43-.59-.52 0-1.04.2-1.43.59L10.3 9.45l-7.72 7.72c-.78.78-.78 2.05 0 2.83L4 21.41c.39.39.9.59 1.41.59.51 0 1.02-.2 1.41-.59l7.78-7.78 2.81-2.81c.8-.78.8-2.07 0-2.86zM5.41 20L4 18.59l7.72-7.72 1.47 1.35L5.41 20z\"/>\n",
              "  </svg>\n",
              "      </button>\n",
              "      \n",
              "  <style>\n",
              "    .colab-df-container {\n",
              "      display:flex;\n",
              "      flex-wrap:wrap;\n",
              "      gap: 12px;\n",
              "    }\n",
              "\n",
              "    .colab-df-convert {\n",
              "      background-color: #E8F0FE;\n",
              "      border: none;\n",
              "      border-radius: 50%;\n",
              "      cursor: pointer;\n",
              "      display: none;\n",
              "      fill: #1967D2;\n",
              "      height: 32px;\n",
              "      padding: 0 0 0 0;\n",
              "      width: 32px;\n",
              "    }\n",
              "\n",
              "    .colab-df-convert:hover {\n",
              "      background-color: #E2EBFA;\n",
              "      box-shadow: 0px 1px 2px rgba(60, 64, 67, 0.3), 0px 1px 3px 1px rgba(60, 64, 67, 0.15);\n",
              "      fill: #174EA6;\n",
              "    }\n",
              "\n",
              "    [theme=dark] .colab-df-convert {\n",
              "      background-color: #3B4455;\n",
              "      fill: #D2E3FC;\n",
              "    }\n",
              "\n",
              "    [theme=dark] .colab-df-convert:hover {\n",
              "      background-color: #434B5C;\n",
              "      box-shadow: 0px 1px 3px 1px rgba(0, 0, 0, 0.15);\n",
              "      filter: drop-shadow(0px 1px 2px rgba(0, 0, 0, 0.3));\n",
              "      fill: #FFFFFF;\n",
              "    }\n",
              "  </style>\n",
              "\n",
              "      <script>\n",
              "        const buttonEl =\n",
              "          document.querySelector('#df-3b498b7f-b8fe-4567-aaad-d2fcfa53e938 button.colab-df-convert');\n",
              "        buttonEl.style.display =\n",
              "          google.colab.kernel.accessAllowed ? 'block' : 'none';\n",
              "\n",
              "        async function convertToInteractive(key) {\n",
              "          const element = document.querySelector('#df-3b498b7f-b8fe-4567-aaad-d2fcfa53e938');\n",
              "          const dataTable =\n",
              "            await google.colab.kernel.invokeFunction('convertToInteractive',\n",
              "                                                     [key], {});\n",
              "          if (!dataTable) return;\n",
              "\n",
              "          const docLinkHtml = 'Like what you see? Visit the ' +\n",
              "            '<a target=\"_blank\" href=https://colab.research.google.com/notebooks/data_table.ipynb>data table notebook</a>'\n",
              "            + ' to learn more about interactive tables.';\n",
              "          element.innerHTML = '';\n",
              "          dataTable['output_type'] = 'display_data';\n",
              "          await google.colab.output.renderOutput(dataTable, element);\n",
              "          const docLink = document.createElement('div');\n",
              "          docLink.innerHTML = docLinkHtml;\n",
              "          element.appendChild(docLink);\n",
              "        }\n",
              "      </script>\n",
              "    </div>\n",
              "  </div>\n",
              "  "
            ]
          },
          "metadata": {},
          "execution_count": 51
        }
      ],
      "source": [
        "Ans"
      ]
    },
    {
      "cell_type": "markdown",
      "metadata": {
        "id": "0z9Twfnvf_xc"
      },
      "source": [
        "```{admonition} Question 24\n",
        "**item_price 컬럼의 달러표시 문자를 제거하고 float 타입으로 저장하여 new_price 컬럼에 저장하라**\n",
        "```"
      ]
    },
    {
      "cell_type": "markdown",
      "metadata": {
        "id": "dd229ngkf_xc"
      },
      "source": [
        "```{admonition} 24번 유튜브 풀이\n",
        ":class: dropdown\n",
        "<div style=\"text-align: center\"><iframe width=\"700\" height=\"500\" src=https://www.youtube.com/embed/PxTIbZJ3xrA?start=3264&end=3773></iframe></div>\n",
        "```"
      ]
    },
    {
      "cell_type": "code",
      "execution_count": 52,
      "metadata": {
        "ExecuteTime": {
          "end_time": "2022-02-19T18:22:28.219871Z",
          "start_time": "2022-02-19T18:22:28.214962Z"
        },
        "tags": [
          "hide-input"
        ],
        "id": "eKUpSgUqf_xc"
      },
      "outputs": [],
      "source": [
        "df['new_price'] = df['item_price'].str[1:].astype('float')\n",
        "Ans = df['new_price'].head()"
      ]
    },
    {
      "cell_type": "code",
      "execution_count": 53,
      "metadata": {
        "ExecuteTime": {
          "end_time": "2022-02-19T18:22:28.224612Z",
          "start_time": "2022-02-19T18:22:28.221271Z"
        },
        "id": "JxIedEKqf_xc",
        "outputId": "45ed8d61-956e-43cb-f1b5-fae009cd7227",
        "colab": {
          "base_uri": "https://localhost:8080/"
        }
      },
      "outputs": [
        {
          "output_type": "execute_result",
          "data": {
            "text/plain": [
              "0     2.39\n",
              "1     3.39\n",
              "2     3.39\n",
              "3     2.39\n",
              "4    16.98\n",
              "Name: new_price, dtype: float64"
            ]
          },
          "metadata": {},
          "execution_count": 53
        }
      ],
      "source": [
        "Ans"
      ]
    },
    {
      "cell_type": "markdown",
      "metadata": {
        "id": "6XbzFp4Cf_xc"
      },
      "source": [
        "```{admonition} Question 25\n",
        "**new_price 컬럼이 5이하의 값을 가지는 데이터프레임을 추출하고, 전체 갯수를 구하여라**\n",
        "```"
      ]
    },
    {
      "cell_type": "markdown",
      "metadata": {
        "id": "C4GOfS83f_xd"
      },
      "source": [
        "```{admonition} 25번 유튜브 풀이\n",
        ":class: dropdown\n",
        "<div style=\"text-align: center\"><iframe width=\"700\" height=\"500\" src=https://www.youtube.com/embed/PxTIbZJ3xrA?start=3775&end=3826></iframe></div>\n",
        "```"
      ]
    },
    {
      "cell_type": "code",
      "execution_count": 54,
      "metadata": {
        "ExecuteTime": {
          "end_time": "2022-02-19T18:22:28.228697Z",
          "start_time": "2022-02-19T18:22:28.225894Z"
        },
        "tags": [
          "hide-input"
        ],
        "id": "scBR_5mbf_xd"
      },
      "outputs": [],
      "source": [
        "Ans = len(df.loc[df.new_price <=5])"
      ]
    },
    {
      "cell_type": "code",
      "execution_count": 55,
      "metadata": {
        "ExecuteTime": {
          "end_time": "2022-02-19T18:22:28.232655Z",
          "start_time": "2022-02-19T18:22:28.229709Z"
        },
        "id": "gXhHr6P4f_xd",
        "outputId": "a61328b2-a543-4615-c07e-30f5d3ab284f",
        "colab": {
          "base_uri": "https://localhost:8080/"
        }
      },
      "outputs": [
        {
          "output_type": "execute_result",
          "data": {
            "text/plain": [
              "1652"
            ]
          },
          "metadata": {},
          "execution_count": 55
        }
      ],
      "source": [
        "Ans"
      ]
    },
    {
      "cell_type": "markdown",
      "metadata": {
        "id": "fjUIURlbf_xd"
      },
      "source": [
        "```{admonition} Question 26\n",
        "**item_name명이 Chicken Salad Bowl 인 데이터 프레임을 추출하라고 index 값을 초기화 하여라**\n",
        "```"
      ]
    },
    {
      "cell_type": "markdown",
      "metadata": {
        "id": "QGsbDsADf_xd"
      },
      "source": [
        "```{admonition} 26번 유튜브 풀이\n",
        ":class: dropdown\n",
        "<div style=\"text-align: center\"><iframe width=\"700\" height=\"500\" src=https://www.youtube.com/embed/PxTIbZJ3xrA?start=3828&end=3886></iframe></div>\n",
        "```"
      ]
    },
    {
      "cell_type": "code",
      "execution_count": 56,
      "metadata": {
        "ExecuteTime": {
          "end_time": "2022-02-19T18:22:28.237178Z",
          "start_time": "2022-02-19T18:22:28.233959Z"
        },
        "tags": [
          "hide-input"
        ],
        "id": "9sqBeFf_f_xd"
      },
      "outputs": [],
      "source": [
        "Ans = df.loc[df.item_name =='Chicken Salad Bowl'].reset_index(drop=True)"
      ]
    },
    {
      "cell_type": "code",
      "execution_count": 57,
      "metadata": {
        "ExecuteTime": {
          "end_time": "2022-02-19T18:22:28.245471Z",
          "start_time": "2022-02-19T18:22:28.238632Z"
        },
        "id": "oRGom0jvf_xd",
        "outputId": "5a7c46cb-d0b5-4d21-c612-d47b948525b3",
        "colab": {
          "base_uri": "https://localhost:8080/",
          "height": 143
        }
      },
      "outputs": [
        {
          "output_type": "execute_result",
          "data": {
            "text/plain": [
              "   order_id  quantity           item_name  \\\n",
              "0        20         1  Chicken Salad Bowl   \n",
              "1        60         2  Chicken Salad Bowl   \n",
              "2        94         2  Chicken Salad Bowl   \n",
              "\n",
              "                                  choice_description item_price  new_price  \n",
              "0  [Fresh Tomato Salsa, [Fajita Vegetables, Pinto...     $8.75        8.75  \n",
              "1  [Tomatillo Green Chili Salsa, [Sour Cream, Che...    $22.50       22.50  \n",
              "2  [Fresh Tomato Salsa, [Fajita Vegetables, Pinto...    $22.50       22.50  "
            ],
            "text/html": [
              "\n",
              "  <div id=\"df-d7f2927a-6a88-45f6-8360-cf4269e1abd8\">\n",
              "    <div class=\"colab-df-container\">\n",
              "      <div>\n",
              "<style scoped>\n",
              "    .dataframe tbody tr th:only-of-type {\n",
              "        vertical-align: middle;\n",
              "    }\n",
              "\n",
              "    .dataframe tbody tr th {\n",
              "        vertical-align: top;\n",
              "    }\n",
              "\n",
              "    .dataframe thead th {\n",
              "        text-align: right;\n",
              "    }\n",
              "</style>\n",
              "<table border=\"1\" class=\"dataframe\">\n",
              "  <thead>\n",
              "    <tr style=\"text-align: right;\">\n",
              "      <th></th>\n",
              "      <th>order_id</th>\n",
              "      <th>quantity</th>\n",
              "      <th>item_name</th>\n",
              "      <th>choice_description</th>\n",
              "      <th>item_price</th>\n",
              "      <th>new_price</th>\n",
              "    </tr>\n",
              "  </thead>\n",
              "  <tbody>\n",
              "    <tr>\n",
              "      <th>0</th>\n",
              "      <td>20</td>\n",
              "      <td>1</td>\n",
              "      <td>Chicken Salad Bowl</td>\n",
              "      <td>[Fresh Tomato Salsa, [Fajita Vegetables, Pinto...</td>\n",
              "      <td>$8.75</td>\n",
              "      <td>8.75</td>\n",
              "    </tr>\n",
              "    <tr>\n",
              "      <th>1</th>\n",
              "      <td>60</td>\n",
              "      <td>2</td>\n",
              "      <td>Chicken Salad Bowl</td>\n",
              "      <td>[Tomatillo Green Chili Salsa, [Sour Cream, Che...</td>\n",
              "      <td>$22.50</td>\n",
              "      <td>22.50</td>\n",
              "    </tr>\n",
              "    <tr>\n",
              "      <th>2</th>\n",
              "      <td>94</td>\n",
              "      <td>2</td>\n",
              "      <td>Chicken Salad Bowl</td>\n",
              "      <td>[Fresh Tomato Salsa, [Fajita Vegetables, Pinto...</td>\n",
              "      <td>$22.50</td>\n",
              "      <td>22.50</td>\n",
              "    </tr>\n",
              "  </tbody>\n",
              "</table>\n",
              "</div>\n",
              "      <button class=\"colab-df-convert\" onclick=\"convertToInteractive('df-d7f2927a-6a88-45f6-8360-cf4269e1abd8')\"\n",
              "              title=\"Convert this dataframe to an interactive table.\"\n",
              "              style=\"display:none;\">\n",
              "        \n",
              "  <svg xmlns=\"http://www.w3.org/2000/svg\" height=\"24px\"viewBox=\"0 0 24 24\"\n",
              "       width=\"24px\">\n",
              "    <path d=\"M0 0h24v24H0V0z\" fill=\"none\"/>\n",
              "    <path d=\"M18.56 5.44l.94 2.06.94-2.06 2.06-.94-2.06-.94-.94-2.06-.94 2.06-2.06.94zm-11 1L8.5 8.5l.94-2.06 2.06-.94-2.06-.94L8.5 2.5l-.94 2.06-2.06.94zm10 10l.94 2.06.94-2.06 2.06-.94-2.06-.94-.94-2.06-.94 2.06-2.06.94z\"/><path d=\"M17.41 7.96l-1.37-1.37c-.4-.4-.92-.59-1.43-.59-.52 0-1.04.2-1.43.59L10.3 9.45l-7.72 7.72c-.78.78-.78 2.05 0 2.83L4 21.41c.39.39.9.59 1.41.59.51 0 1.02-.2 1.41-.59l7.78-7.78 2.81-2.81c.8-.78.8-2.07 0-2.86zM5.41 20L4 18.59l7.72-7.72 1.47 1.35L5.41 20z\"/>\n",
              "  </svg>\n",
              "      </button>\n",
              "      \n",
              "  <style>\n",
              "    .colab-df-container {\n",
              "      display:flex;\n",
              "      flex-wrap:wrap;\n",
              "      gap: 12px;\n",
              "    }\n",
              "\n",
              "    .colab-df-convert {\n",
              "      background-color: #E8F0FE;\n",
              "      border: none;\n",
              "      border-radius: 50%;\n",
              "      cursor: pointer;\n",
              "      display: none;\n",
              "      fill: #1967D2;\n",
              "      height: 32px;\n",
              "      padding: 0 0 0 0;\n",
              "      width: 32px;\n",
              "    }\n",
              "\n",
              "    .colab-df-convert:hover {\n",
              "      background-color: #E2EBFA;\n",
              "      box-shadow: 0px 1px 2px rgba(60, 64, 67, 0.3), 0px 1px 3px 1px rgba(60, 64, 67, 0.15);\n",
              "      fill: #174EA6;\n",
              "    }\n",
              "\n",
              "    [theme=dark] .colab-df-convert {\n",
              "      background-color: #3B4455;\n",
              "      fill: #D2E3FC;\n",
              "    }\n",
              "\n",
              "    [theme=dark] .colab-df-convert:hover {\n",
              "      background-color: #434B5C;\n",
              "      box-shadow: 0px 1px 3px 1px rgba(0, 0, 0, 0.15);\n",
              "      filter: drop-shadow(0px 1px 2px rgba(0, 0, 0, 0.3));\n",
              "      fill: #FFFFFF;\n",
              "    }\n",
              "  </style>\n",
              "\n",
              "      <script>\n",
              "        const buttonEl =\n",
              "          document.querySelector('#df-d7f2927a-6a88-45f6-8360-cf4269e1abd8 button.colab-df-convert');\n",
              "        buttonEl.style.display =\n",
              "          google.colab.kernel.accessAllowed ? 'block' : 'none';\n",
              "\n",
              "        async function convertToInteractive(key) {\n",
              "          const element = document.querySelector('#df-d7f2927a-6a88-45f6-8360-cf4269e1abd8');\n",
              "          const dataTable =\n",
              "            await google.colab.kernel.invokeFunction('convertToInteractive',\n",
              "                                                     [key], {});\n",
              "          if (!dataTable) return;\n",
              "\n",
              "          const docLinkHtml = 'Like what you see? Visit the ' +\n",
              "            '<a target=\"_blank\" href=https://colab.research.google.com/notebooks/data_table.ipynb>data table notebook</a>'\n",
              "            + ' to learn more about interactive tables.';\n",
              "          element.innerHTML = '';\n",
              "          dataTable['output_type'] = 'display_data';\n",
              "          await google.colab.output.renderOutput(dataTable, element);\n",
              "          const docLink = document.createElement('div');\n",
              "          docLink.innerHTML = docLinkHtml;\n",
              "          element.appendChild(docLink);\n",
              "        }\n",
              "      </script>\n",
              "    </div>\n",
              "  </div>\n",
              "  "
            ]
          },
          "metadata": {},
          "execution_count": 57
        }
      ],
      "source": [
        "Ans.head(3)"
      ]
    },
    {
      "cell_type": "markdown",
      "metadata": {
        "id": "4In62sxYf_xe"
      },
      "source": [
        "```{admonition} Question 27\n",
        "**new_price값이 9 이하이고 item_name 값이 Chicken Salad Bowl 인 데이터 프레임을 추출하라**\n",
        "```"
      ]
    },
    {
      "cell_type": "markdown",
      "metadata": {
        "id": "Pnr-KPP4f_xe"
      },
      "source": [
        "```{admonition} 27번 유튜브 풀이\n",
        ":class: dropdown\n",
        "<div style=\"text-align: center\"><iframe width=\"700\" height=\"500\" src=https://www.youtube.com/embed/PxTIbZJ3xrA?start=3888&end=4006></iframe></div>\n",
        "```"
      ]
    },
    {
      "cell_type": "code",
      "execution_count": 58,
      "metadata": {
        "ExecuteTime": {
          "end_time": "2022-02-19T18:22:28.250097Z",
          "start_time": "2022-02-19T18:22:28.246827Z"
        },
        "tags": [
          "hide-input"
        ],
        "id": "rVol-BAPf_xe"
      },
      "outputs": [],
      "source": [
        "Ans = df.loc[(df.item_name =='Chicken Salad Bowl') & (df.new_price <= 9)]"
      ]
    },
    {
      "cell_type": "code",
      "execution_count": 59,
      "metadata": {
        "ExecuteTime": {
          "end_time": "2022-02-19T18:22:28.258646Z",
          "start_time": "2022-02-19T18:22:28.251423Z"
        },
        "id": "YhpXU4BPf_xe",
        "outputId": "a48cb83d-1b1a-4745-8f7f-8d41b0f03145",
        "colab": {
          "base_uri": "https://localhost:8080/",
          "height": 206
        }
      },
      "outputs": [
        {
          "output_type": "execute_result",
          "data": {
            "text/plain": [
              "     order_id  quantity           item_name  \\\n",
              "44         20         1  Chicken Salad Bowl   \n",
              "256       111         1  Chicken Salad Bowl   \n",
              "526       220         1  Chicken Salad Bowl   \n",
              "528       221         1  Chicken Salad Bowl   \n",
              "529       221         1  Chicken Salad Bowl   \n",
              "\n",
              "                                    choice_description item_price  new_price  \n",
              "44   [Fresh Tomato Salsa, [Fajita Vegetables, Pinto...     $8.75        8.75  \n",
              "256  [Fresh Tomato Salsa, [Fajita Vegetables, Rice,...     $8.75        8.75  \n",
              "526  [Roasted Chili Corn Salsa, [Black Beans, Sour ...     $8.75        8.75  \n",
              "528  [Tomatillo Green Chili Salsa, [Fajita Vegetabl...     $8.75        8.75  \n",
              "529  [Tomatillo Green Chili Salsa, [Fajita Vegetabl...     $8.75        8.75  "
            ],
            "text/html": [
              "\n",
              "  <div id=\"df-6dccdc29-6a8b-422c-80ec-e4738d33d48a\">\n",
              "    <div class=\"colab-df-container\">\n",
              "      <div>\n",
              "<style scoped>\n",
              "    .dataframe tbody tr th:only-of-type {\n",
              "        vertical-align: middle;\n",
              "    }\n",
              "\n",
              "    .dataframe tbody tr th {\n",
              "        vertical-align: top;\n",
              "    }\n",
              "\n",
              "    .dataframe thead th {\n",
              "        text-align: right;\n",
              "    }\n",
              "</style>\n",
              "<table border=\"1\" class=\"dataframe\">\n",
              "  <thead>\n",
              "    <tr style=\"text-align: right;\">\n",
              "      <th></th>\n",
              "      <th>order_id</th>\n",
              "      <th>quantity</th>\n",
              "      <th>item_name</th>\n",
              "      <th>choice_description</th>\n",
              "      <th>item_price</th>\n",
              "      <th>new_price</th>\n",
              "    </tr>\n",
              "  </thead>\n",
              "  <tbody>\n",
              "    <tr>\n",
              "      <th>44</th>\n",
              "      <td>20</td>\n",
              "      <td>1</td>\n",
              "      <td>Chicken Salad Bowl</td>\n",
              "      <td>[Fresh Tomato Salsa, [Fajita Vegetables, Pinto...</td>\n",
              "      <td>$8.75</td>\n",
              "      <td>8.75</td>\n",
              "    </tr>\n",
              "    <tr>\n",
              "      <th>256</th>\n",
              "      <td>111</td>\n",
              "      <td>1</td>\n",
              "      <td>Chicken Salad Bowl</td>\n",
              "      <td>[Fresh Tomato Salsa, [Fajita Vegetables, Rice,...</td>\n",
              "      <td>$8.75</td>\n",
              "      <td>8.75</td>\n",
              "    </tr>\n",
              "    <tr>\n",
              "      <th>526</th>\n",
              "      <td>220</td>\n",
              "      <td>1</td>\n",
              "      <td>Chicken Salad Bowl</td>\n",
              "      <td>[Roasted Chili Corn Salsa, [Black Beans, Sour ...</td>\n",
              "      <td>$8.75</td>\n",
              "      <td>8.75</td>\n",
              "    </tr>\n",
              "    <tr>\n",
              "      <th>528</th>\n",
              "      <td>221</td>\n",
              "      <td>1</td>\n",
              "      <td>Chicken Salad Bowl</td>\n",
              "      <td>[Tomatillo Green Chili Salsa, [Fajita Vegetabl...</td>\n",
              "      <td>$8.75</td>\n",
              "      <td>8.75</td>\n",
              "    </tr>\n",
              "    <tr>\n",
              "      <th>529</th>\n",
              "      <td>221</td>\n",
              "      <td>1</td>\n",
              "      <td>Chicken Salad Bowl</td>\n",
              "      <td>[Tomatillo Green Chili Salsa, [Fajita Vegetabl...</td>\n",
              "      <td>$8.75</td>\n",
              "      <td>8.75</td>\n",
              "    </tr>\n",
              "  </tbody>\n",
              "</table>\n",
              "</div>\n",
              "      <button class=\"colab-df-convert\" onclick=\"convertToInteractive('df-6dccdc29-6a8b-422c-80ec-e4738d33d48a')\"\n",
              "              title=\"Convert this dataframe to an interactive table.\"\n",
              "              style=\"display:none;\">\n",
              "        \n",
              "  <svg xmlns=\"http://www.w3.org/2000/svg\" height=\"24px\"viewBox=\"0 0 24 24\"\n",
              "       width=\"24px\">\n",
              "    <path d=\"M0 0h24v24H0V0z\" fill=\"none\"/>\n",
              "    <path d=\"M18.56 5.44l.94 2.06.94-2.06 2.06-.94-2.06-.94-.94-2.06-.94 2.06-2.06.94zm-11 1L8.5 8.5l.94-2.06 2.06-.94-2.06-.94L8.5 2.5l-.94 2.06-2.06.94zm10 10l.94 2.06.94-2.06 2.06-.94-2.06-.94-.94-2.06-.94 2.06-2.06.94z\"/><path d=\"M17.41 7.96l-1.37-1.37c-.4-.4-.92-.59-1.43-.59-.52 0-1.04.2-1.43.59L10.3 9.45l-7.72 7.72c-.78.78-.78 2.05 0 2.83L4 21.41c.39.39.9.59 1.41.59.51 0 1.02-.2 1.41-.59l7.78-7.78 2.81-2.81c.8-.78.8-2.07 0-2.86zM5.41 20L4 18.59l7.72-7.72 1.47 1.35L5.41 20z\"/>\n",
              "  </svg>\n",
              "      </button>\n",
              "      \n",
              "  <style>\n",
              "    .colab-df-container {\n",
              "      display:flex;\n",
              "      flex-wrap:wrap;\n",
              "      gap: 12px;\n",
              "    }\n",
              "\n",
              "    .colab-df-convert {\n",
              "      background-color: #E8F0FE;\n",
              "      border: none;\n",
              "      border-radius: 50%;\n",
              "      cursor: pointer;\n",
              "      display: none;\n",
              "      fill: #1967D2;\n",
              "      height: 32px;\n",
              "      padding: 0 0 0 0;\n",
              "      width: 32px;\n",
              "    }\n",
              "\n",
              "    .colab-df-convert:hover {\n",
              "      background-color: #E2EBFA;\n",
              "      box-shadow: 0px 1px 2px rgba(60, 64, 67, 0.3), 0px 1px 3px 1px rgba(60, 64, 67, 0.15);\n",
              "      fill: #174EA6;\n",
              "    }\n",
              "\n",
              "    [theme=dark] .colab-df-convert {\n",
              "      background-color: #3B4455;\n",
              "      fill: #D2E3FC;\n",
              "    }\n",
              "\n",
              "    [theme=dark] .colab-df-convert:hover {\n",
              "      background-color: #434B5C;\n",
              "      box-shadow: 0px 1px 3px 1px rgba(0, 0, 0, 0.15);\n",
              "      filter: drop-shadow(0px 1px 2px rgba(0, 0, 0, 0.3));\n",
              "      fill: #FFFFFF;\n",
              "    }\n",
              "  </style>\n",
              "\n",
              "      <script>\n",
              "        const buttonEl =\n",
              "          document.querySelector('#df-6dccdc29-6a8b-422c-80ec-e4738d33d48a button.colab-df-convert');\n",
              "        buttonEl.style.display =\n",
              "          google.colab.kernel.accessAllowed ? 'block' : 'none';\n",
              "\n",
              "        async function convertToInteractive(key) {\n",
              "          const element = document.querySelector('#df-6dccdc29-6a8b-422c-80ec-e4738d33d48a');\n",
              "          const dataTable =\n",
              "            await google.colab.kernel.invokeFunction('convertToInteractive',\n",
              "                                                     [key], {});\n",
              "          if (!dataTable) return;\n",
              "\n",
              "          const docLinkHtml = 'Like what you see? Visit the ' +\n",
              "            '<a target=\"_blank\" href=https://colab.research.google.com/notebooks/data_table.ipynb>data table notebook</a>'\n",
              "            + ' to learn more about interactive tables.';\n",
              "          element.innerHTML = '';\n",
              "          dataTable['output_type'] = 'display_data';\n",
              "          await google.colab.output.renderOutput(dataTable, element);\n",
              "          const docLink = document.createElement('div');\n",
              "          docLink.innerHTML = docLinkHtml;\n",
              "          element.appendChild(docLink);\n",
              "        }\n",
              "      </script>\n",
              "    </div>\n",
              "  </div>\n",
              "  "
            ]
          },
          "metadata": {},
          "execution_count": 59
        }
      ],
      "source": [
        "Ans.head(5)"
      ]
    },
    {
      "cell_type": "markdown",
      "metadata": {
        "id": "9VmsSFtaf_xe"
      },
      "source": [
        "```{admonition} Question 28\n",
        "**df의 new_price 컬럼 값에 따라 오름차순으로 정리하고 index를 초기화 하여라**\n",
        "```"
      ]
    },
    {
      "cell_type": "markdown",
      "metadata": {
        "id": "9fQXi5n1f_xe"
      },
      "source": [
        "```{admonition} 28번 유튜브 풀이\n",
        ":class: dropdown\n",
        "<div style=\"text-align: center\"><iframe width=\"700\" height=\"500\" src=https://www.youtube.com/embed/PxTIbZJ3xrA?start=4008&end=4163></iframe></div>\n",
        "```"
      ]
    },
    {
      "cell_type": "code",
      "execution_count": 60,
      "metadata": {
        "ExecuteTime": {
          "end_time": "2022-02-19T18:22:28.263045Z",
          "start_time": "2022-02-19T18:22:28.259732Z"
        },
        "tags": [
          "hide-input"
        ],
        "id": "wOqkfgZif_xe"
      },
      "outputs": [],
      "source": [
        "Ans = df.sort_values('new_price').reset_index(drop=True)"
      ]
    },
    {
      "cell_type": "code",
      "execution_count": 61,
      "metadata": {
        "ExecuteTime": {
          "end_time": "2022-02-19T18:22:28.271159Z",
          "start_time": "2022-02-19T18:22:28.264264Z"
        },
        "id": "_swZO2j6f_xe",
        "outputId": "65f6ef5f-e89f-4acc-d02c-f2e9a1ed3147",
        "colab": {
          "base_uri": "https://localhost:8080/",
          "height": 175
        }
      },
      "outputs": [
        {
          "output_type": "execute_result",
          "data": {
            "text/plain": [
              "   order_id  quantity      item_name choice_description item_price  new_price\n",
              "0       471         1  Bottled Water                NaN     $1.09        1.09\n",
              "1       338         1    Canned Soda        [Coca Cola]     $1.09        1.09\n",
              "2      1575         1    Canned Soda       [Dr. Pepper]     $1.09        1.09\n",
              "3        47         1    Canned Soda       [Dr. Pepper]     $1.09        1.09"
            ],
            "text/html": [
              "\n",
              "  <div id=\"df-9e3074ac-9832-49c6-b95f-4b9d8589764c\">\n",
              "    <div class=\"colab-df-container\">\n",
              "      <div>\n",
              "<style scoped>\n",
              "    .dataframe tbody tr th:only-of-type {\n",
              "        vertical-align: middle;\n",
              "    }\n",
              "\n",
              "    .dataframe tbody tr th {\n",
              "        vertical-align: top;\n",
              "    }\n",
              "\n",
              "    .dataframe thead th {\n",
              "        text-align: right;\n",
              "    }\n",
              "</style>\n",
              "<table border=\"1\" class=\"dataframe\">\n",
              "  <thead>\n",
              "    <tr style=\"text-align: right;\">\n",
              "      <th></th>\n",
              "      <th>order_id</th>\n",
              "      <th>quantity</th>\n",
              "      <th>item_name</th>\n",
              "      <th>choice_description</th>\n",
              "      <th>item_price</th>\n",
              "      <th>new_price</th>\n",
              "    </tr>\n",
              "  </thead>\n",
              "  <tbody>\n",
              "    <tr>\n",
              "      <th>0</th>\n",
              "      <td>471</td>\n",
              "      <td>1</td>\n",
              "      <td>Bottled Water</td>\n",
              "      <td>NaN</td>\n",
              "      <td>$1.09</td>\n",
              "      <td>1.09</td>\n",
              "    </tr>\n",
              "    <tr>\n",
              "      <th>1</th>\n",
              "      <td>338</td>\n",
              "      <td>1</td>\n",
              "      <td>Canned Soda</td>\n",
              "      <td>[Coca Cola]</td>\n",
              "      <td>$1.09</td>\n",
              "      <td>1.09</td>\n",
              "    </tr>\n",
              "    <tr>\n",
              "      <th>2</th>\n",
              "      <td>1575</td>\n",
              "      <td>1</td>\n",
              "      <td>Canned Soda</td>\n",
              "      <td>[Dr. Pepper]</td>\n",
              "      <td>$1.09</td>\n",
              "      <td>1.09</td>\n",
              "    </tr>\n",
              "    <tr>\n",
              "      <th>3</th>\n",
              "      <td>47</td>\n",
              "      <td>1</td>\n",
              "      <td>Canned Soda</td>\n",
              "      <td>[Dr. Pepper]</td>\n",
              "      <td>$1.09</td>\n",
              "      <td>1.09</td>\n",
              "    </tr>\n",
              "  </tbody>\n",
              "</table>\n",
              "</div>\n",
              "      <button class=\"colab-df-convert\" onclick=\"convertToInteractive('df-9e3074ac-9832-49c6-b95f-4b9d8589764c')\"\n",
              "              title=\"Convert this dataframe to an interactive table.\"\n",
              "              style=\"display:none;\">\n",
              "        \n",
              "  <svg xmlns=\"http://www.w3.org/2000/svg\" height=\"24px\"viewBox=\"0 0 24 24\"\n",
              "       width=\"24px\">\n",
              "    <path d=\"M0 0h24v24H0V0z\" fill=\"none\"/>\n",
              "    <path d=\"M18.56 5.44l.94 2.06.94-2.06 2.06-.94-2.06-.94-.94-2.06-.94 2.06-2.06.94zm-11 1L8.5 8.5l.94-2.06 2.06-.94-2.06-.94L8.5 2.5l-.94 2.06-2.06.94zm10 10l.94 2.06.94-2.06 2.06-.94-2.06-.94-.94-2.06-.94 2.06-2.06.94z\"/><path d=\"M17.41 7.96l-1.37-1.37c-.4-.4-.92-.59-1.43-.59-.52 0-1.04.2-1.43.59L10.3 9.45l-7.72 7.72c-.78.78-.78 2.05 0 2.83L4 21.41c.39.39.9.59 1.41.59.51 0 1.02-.2 1.41-.59l7.78-7.78 2.81-2.81c.8-.78.8-2.07 0-2.86zM5.41 20L4 18.59l7.72-7.72 1.47 1.35L5.41 20z\"/>\n",
              "  </svg>\n",
              "      </button>\n",
              "      \n",
              "  <style>\n",
              "    .colab-df-container {\n",
              "      display:flex;\n",
              "      flex-wrap:wrap;\n",
              "      gap: 12px;\n",
              "    }\n",
              "\n",
              "    .colab-df-convert {\n",
              "      background-color: #E8F0FE;\n",
              "      border: none;\n",
              "      border-radius: 50%;\n",
              "      cursor: pointer;\n",
              "      display: none;\n",
              "      fill: #1967D2;\n",
              "      height: 32px;\n",
              "      padding: 0 0 0 0;\n",
              "      width: 32px;\n",
              "    }\n",
              "\n",
              "    .colab-df-convert:hover {\n",
              "      background-color: #E2EBFA;\n",
              "      box-shadow: 0px 1px 2px rgba(60, 64, 67, 0.3), 0px 1px 3px 1px rgba(60, 64, 67, 0.15);\n",
              "      fill: #174EA6;\n",
              "    }\n",
              "\n",
              "    [theme=dark] .colab-df-convert {\n",
              "      background-color: #3B4455;\n",
              "      fill: #D2E3FC;\n",
              "    }\n",
              "\n",
              "    [theme=dark] .colab-df-convert:hover {\n",
              "      background-color: #434B5C;\n",
              "      box-shadow: 0px 1px 3px 1px rgba(0, 0, 0, 0.15);\n",
              "      filter: drop-shadow(0px 1px 2px rgba(0, 0, 0, 0.3));\n",
              "      fill: #FFFFFF;\n",
              "    }\n",
              "  </style>\n",
              "\n",
              "      <script>\n",
              "        const buttonEl =\n",
              "          document.querySelector('#df-9e3074ac-9832-49c6-b95f-4b9d8589764c button.colab-df-convert');\n",
              "        buttonEl.style.display =\n",
              "          google.colab.kernel.accessAllowed ? 'block' : 'none';\n",
              "\n",
              "        async function convertToInteractive(key) {\n",
              "          const element = document.querySelector('#df-9e3074ac-9832-49c6-b95f-4b9d8589764c');\n",
              "          const dataTable =\n",
              "            await google.colab.kernel.invokeFunction('convertToInteractive',\n",
              "                                                     [key], {});\n",
              "          if (!dataTable) return;\n",
              "\n",
              "          const docLinkHtml = 'Like what you see? Visit the ' +\n",
              "            '<a target=\"_blank\" href=https://colab.research.google.com/notebooks/data_table.ipynb>data table notebook</a>'\n",
              "            + ' to learn more about interactive tables.';\n",
              "          element.innerHTML = '';\n",
              "          dataTable['output_type'] = 'display_data';\n",
              "          await google.colab.output.renderOutput(dataTable, element);\n",
              "          const docLink = document.createElement('div');\n",
              "          docLink.innerHTML = docLinkHtml;\n",
              "          element.appendChild(docLink);\n",
              "        }\n",
              "      </script>\n",
              "    </div>\n",
              "  </div>\n",
              "  "
            ]
          },
          "metadata": {},
          "execution_count": 61
        }
      ],
      "source": [
        "Ans.head(4)"
      ]
    },
    {
      "cell_type": "markdown",
      "metadata": {
        "id": "BoBSL_Tbf_xf"
      },
      "source": [
        "```{admonition} Question 29\n",
        "**df의 item_name 컬럼 값중 Chips 포함하는 경우의 데이터를 출력하라**\n",
        "```"
      ]
    },
    {
      "cell_type": "markdown",
      "metadata": {
        "id": "4oWnD_oWf_xf"
      },
      "source": [
        "```{admonition} 29번 유튜브 풀이\n",
        ":class: dropdown\n",
        "<div style=\"text-align: center\"><iframe width=\"700\" height=\"500\" src=https://www.youtube.com/embed/PxTIbZJ3xrA?start=4165&end=4313></iframe></div>\n",
        "```"
      ]
    },
    {
      "cell_type": "code",
      "execution_count": 62,
      "metadata": {
        "ExecuteTime": {
          "end_time": "2022-02-19T18:22:28.277344Z",
          "start_time": "2022-02-19T18:22:28.272613Z"
        },
        "tags": [
          "hide-input"
        ],
        "id": "cfmiiIUNf_xf"
      },
      "outputs": [],
      "source": [
        "Ans = df.loc[df.item_name.str.contains('Chips')]"
      ]
    },
    {
      "cell_type": "code",
      "execution_count": 63,
      "metadata": {
        "ExecuteTime": {
          "end_time": "2022-02-19T18:22:28.286193Z",
          "start_time": "2022-02-19T18:22:28.278716Z"
        },
        "id": "GsY_sC3Xf_xf",
        "outputId": "448e9815-2cee-4524-b793-759bcc304e7c",
        "colab": {
          "base_uri": "https://localhost:8080/",
          "height": 206
        }
      },
      "outputs": [
        {
          "output_type": "execute_result",
          "data": {
            "text/plain": [
              "    order_id  quantity                              item_name  \\\n",
              "0          1         1           Chips and Fresh Tomato Salsa   \n",
              "3          1         1  Chips and Tomatillo-Green Chili Salsa   \n",
              "6          3         1                          Side of Chips   \n",
              "10         5         1                    Chips and Guacamole   \n",
              "14         7         1                    Chips and Guacamole   \n",
              "\n",
              "   choice_description item_price  new_price  \n",
              "0                 NaN     $2.39        2.39  \n",
              "3                 NaN     $2.39        2.39  \n",
              "6                 NaN     $1.69        1.69  \n",
              "10                NaN     $4.45        4.45  \n",
              "14                NaN     $4.45        4.45  "
            ],
            "text/html": [
              "\n",
              "  <div id=\"df-4ff21f09-0050-4f74-a98e-ae4105804998\">\n",
              "    <div class=\"colab-df-container\">\n",
              "      <div>\n",
              "<style scoped>\n",
              "    .dataframe tbody tr th:only-of-type {\n",
              "        vertical-align: middle;\n",
              "    }\n",
              "\n",
              "    .dataframe tbody tr th {\n",
              "        vertical-align: top;\n",
              "    }\n",
              "\n",
              "    .dataframe thead th {\n",
              "        text-align: right;\n",
              "    }\n",
              "</style>\n",
              "<table border=\"1\" class=\"dataframe\">\n",
              "  <thead>\n",
              "    <tr style=\"text-align: right;\">\n",
              "      <th></th>\n",
              "      <th>order_id</th>\n",
              "      <th>quantity</th>\n",
              "      <th>item_name</th>\n",
              "      <th>choice_description</th>\n",
              "      <th>item_price</th>\n",
              "      <th>new_price</th>\n",
              "    </tr>\n",
              "  </thead>\n",
              "  <tbody>\n",
              "    <tr>\n",
              "      <th>0</th>\n",
              "      <td>1</td>\n",
              "      <td>1</td>\n",
              "      <td>Chips and Fresh Tomato Salsa</td>\n",
              "      <td>NaN</td>\n",
              "      <td>$2.39</td>\n",
              "      <td>2.39</td>\n",
              "    </tr>\n",
              "    <tr>\n",
              "      <th>3</th>\n",
              "      <td>1</td>\n",
              "      <td>1</td>\n",
              "      <td>Chips and Tomatillo-Green Chili Salsa</td>\n",
              "      <td>NaN</td>\n",
              "      <td>$2.39</td>\n",
              "      <td>2.39</td>\n",
              "    </tr>\n",
              "    <tr>\n",
              "      <th>6</th>\n",
              "      <td>3</td>\n",
              "      <td>1</td>\n",
              "      <td>Side of Chips</td>\n",
              "      <td>NaN</td>\n",
              "      <td>$1.69</td>\n",
              "      <td>1.69</td>\n",
              "    </tr>\n",
              "    <tr>\n",
              "      <th>10</th>\n",
              "      <td>5</td>\n",
              "      <td>1</td>\n",
              "      <td>Chips and Guacamole</td>\n",
              "      <td>NaN</td>\n",
              "      <td>$4.45</td>\n",
              "      <td>4.45</td>\n",
              "    </tr>\n",
              "    <tr>\n",
              "      <th>14</th>\n",
              "      <td>7</td>\n",
              "      <td>1</td>\n",
              "      <td>Chips and Guacamole</td>\n",
              "      <td>NaN</td>\n",
              "      <td>$4.45</td>\n",
              "      <td>4.45</td>\n",
              "    </tr>\n",
              "  </tbody>\n",
              "</table>\n",
              "</div>\n",
              "      <button class=\"colab-df-convert\" onclick=\"convertToInteractive('df-4ff21f09-0050-4f74-a98e-ae4105804998')\"\n",
              "              title=\"Convert this dataframe to an interactive table.\"\n",
              "              style=\"display:none;\">\n",
              "        \n",
              "  <svg xmlns=\"http://www.w3.org/2000/svg\" height=\"24px\"viewBox=\"0 0 24 24\"\n",
              "       width=\"24px\">\n",
              "    <path d=\"M0 0h24v24H0V0z\" fill=\"none\"/>\n",
              "    <path d=\"M18.56 5.44l.94 2.06.94-2.06 2.06-.94-2.06-.94-.94-2.06-.94 2.06-2.06.94zm-11 1L8.5 8.5l.94-2.06 2.06-.94-2.06-.94L8.5 2.5l-.94 2.06-2.06.94zm10 10l.94 2.06.94-2.06 2.06-.94-2.06-.94-.94-2.06-.94 2.06-2.06.94z\"/><path d=\"M17.41 7.96l-1.37-1.37c-.4-.4-.92-.59-1.43-.59-.52 0-1.04.2-1.43.59L10.3 9.45l-7.72 7.72c-.78.78-.78 2.05 0 2.83L4 21.41c.39.39.9.59 1.41.59.51 0 1.02-.2 1.41-.59l7.78-7.78 2.81-2.81c.8-.78.8-2.07 0-2.86zM5.41 20L4 18.59l7.72-7.72 1.47 1.35L5.41 20z\"/>\n",
              "  </svg>\n",
              "      </button>\n",
              "      \n",
              "  <style>\n",
              "    .colab-df-container {\n",
              "      display:flex;\n",
              "      flex-wrap:wrap;\n",
              "      gap: 12px;\n",
              "    }\n",
              "\n",
              "    .colab-df-convert {\n",
              "      background-color: #E8F0FE;\n",
              "      border: none;\n",
              "      border-radius: 50%;\n",
              "      cursor: pointer;\n",
              "      display: none;\n",
              "      fill: #1967D2;\n",
              "      height: 32px;\n",
              "      padding: 0 0 0 0;\n",
              "      width: 32px;\n",
              "    }\n",
              "\n",
              "    .colab-df-convert:hover {\n",
              "      background-color: #E2EBFA;\n",
              "      box-shadow: 0px 1px 2px rgba(60, 64, 67, 0.3), 0px 1px 3px 1px rgba(60, 64, 67, 0.15);\n",
              "      fill: #174EA6;\n",
              "    }\n",
              "\n",
              "    [theme=dark] .colab-df-convert {\n",
              "      background-color: #3B4455;\n",
              "      fill: #D2E3FC;\n",
              "    }\n",
              "\n",
              "    [theme=dark] .colab-df-convert:hover {\n",
              "      background-color: #434B5C;\n",
              "      box-shadow: 0px 1px 3px 1px rgba(0, 0, 0, 0.15);\n",
              "      filter: drop-shadow(0px 1px 2px rgba(0, 0, 0, 0.3));\n",
              "      fill: #FFFFFF;\n",
              "    }\n",
              "  </style>\n",
              "\n",
              "      <script>\n",
              "        const buttonEl =\n",
              "          document.querySelector('#df-4ff21f09-0050-4f74-a98e-ae4105804998 button.colab-df-convert');\n",
              "        buttonEl.style.display =\n",
              "          google.colab.kernel.accessAllowed ? 'block' : 'none';\n",
              "\n",
              "        async function convertToInteractive(key) {\n",
              "          const element = document.querySelector('#df-4ff21f09-0050-4f74-a98e-ae4105804998');\n",
              "          const dataTable =\n",
              "            await google.colab.kernel.invokeFunction('convertToInteractive',\n",
              "                                                     [key], {});\n",
              "          if (!dataTable) return;\n",
              "\n",
              "          const docLinkHtml = 'Like what you see? Visit the ' +\n",
              "            '<a target=\"_blank\" href=https://colab.research.google.com/notebooks/data_table.ipynb>data table notebook</a>'\n",
              "            + ' to learn more about interactive tables.';\n",
              "          element.innerHTML = '';\n",
              "          dataTable['output_type'] = 'display_data';\n",
              "          await google.colab.output.renderOutput(dataTable, element);\n",
              "          const docLink = document.createElement('div');\n",
              "          docLink.innerHTML = docLinkHtml;\n",
              "          element.appendChild(docLink);\n",
              "        }\n",
              "      </script>\n",
              "    </div>\n",
              "  </div>\n",
              "  "
            ]
          },
          "metadata": {},
          "execution_count": 63
        }
      ],
      "source": [
        "Ans.head(5)"
      ]
    },
    {
      "cell_type": "markdown",
      "metadata": {
        "id": "c4ZDb9ptf_xf"
      },
      "source": [
        "```{admonition} Question 30\n",
        "**df의 짝수번째 컬럼만을 포함하는 데이터프레임을 출력하라**\n",
        "```"
      ]
    },
    {
      "cell_type": "markdown",
      "metadata": {
        "id": "uCKPT1Izf_xf"
      },
      "source": [
        "```{admonition} 30번 유튜브 풀이\n",
        ":class: dropdown\n",
        "<div style=\"text-align: center\"><iframe width=\"700\" height=\"500\" src=https://www.youtube.com/embed/PxTIbZJ3xrA?start=4315&end=4498></iframe></div>\n",
        "```"
      ]
    },
    {
      "cell_type": "code",
      "execution_count": 64,
      "metadata": {
        "ExecuteTime": {
          "end_time": "2022-02-19T18:22:28.290258Z",
          "start_time": "2022-02-19T18:22:28.287547Z"
        },
        "tags": [
          "hide-input"
        ],
        "id": "IQEBFN1Uf_xg"
      },
      "outputs": [],
      "source": [
        "Ans = df.iloc[:,::2]"
      ]
    },
    {
      "cell_type": "code",
      "execution_count": 65,
      "metadata": {
        "ExecuteTime": {
          "end_time": "2022-02-19T18:22:28.297242Z",
          "start_time": "2022-02-19T18:22:28.291585Z"
        },
        "id": "ioaa0DEMf_xg",
        "outputId": "3b0d549f-eb4f-4e40-d03d-75831795b269",
        "colab": {
          "base_uri": "https://localhost:8080/",
          "height": 206
        }
      },
      "outputs": [
        {
          "output_type": "execute_result",
          "data": {
            "text/plain": [
              "   order_id                              item_name item_price\n",
              "0         1           Chips and Fresh Tomato Salsa     $2.39 \n",
              "1         1                                   Izze     $3.39 \n",
              "2         1                       Nantucket Nectar     $3.39 \n",
              "3         1  Chips and Tomatillo-Green Chili Salsa     $2.39 \n",
              "4         2                           Chicken Bowl    $16.98 "
            ],
            "text/html": [
              "\n",
              "  <div id=\"df-a99235c3-96f0-4411-bfc7-3fca448e70e2\">\n",
              "    <div class=\"colab-df-container\">\n",
              "      <div>\n",
              "<style scoped>\n",
              "    .dataframe tbody tr th:only-of-type {\n",
              "        vertical-align: middle;\n",
              "    }\n",
              "\n",
              "    .dataframe tbody tr th {\n",
              "        vertical-align: top;\n",
              "    }\n",
              "\n",
              "    .dataframe thead th {\n",
              "        text-align: right;\n",
              "    }\n",
              "</style>\n",
              "<table border=\"1\" class=\"dataframe\">\n",
              "  <thead>\n",
              "    <tr style=\"text-align: right;\">\n",
              "      <th></th>\n",
              "      <th>order_id</th>\n",
              "      <th>item_name</th>\n",
              "      <th>item_price</th>\n",
              "    </tr>\n",
              "  </thead>\n",
              "  <tbody>\n",
              "    <tr>\n",
              "      <th>0</th>\n",
              "      <td>1</td>\n",
              "      <td>Chips and Fresh Tomato Salsa</td>\n",
              "      <td>$2.39</td>\n",
              "    </tr>\n",
              "    <tr>\n",
              "      <th>1</th>\n",
              "      <td>1</td>\n",
              "      <td>Izze</td>\n",
              "      <td>$3.39</td>\n",
              "    </tr>\n",
              "    <tr>\n",
              "      <th>2</th>\n",
              "      <td>1</td>\n",
              "      <td>Nantucket Nectar</td>\n",
              "      <td>$3.39</td>\n",
              "    </tr>\n",
              "    <tr>\n",
              "      <th>3</th>\n",
              "      <td>1</td>\n",
              "      <td>Chips and Tomatillo-Green Chili Salsa</td>\n",
              "      <td>$2.39</td>\n",
              "    </tr>\n",
              "    <tr>\n",
              "      <th>4</th>\n",
              "      <td>2</td>\n",
              "      <td>Chicken Bowl</td>\n",
              "      <td>$16.98</td>\n",
              "    </tr>\n",
              "  </tbody>\n",
              "</table>\n",
              "</div>\n",
              "      <button class=\"colab-df-convert\" onclick=\"convertToInteractive('df-a99235c3-96f0-4411-bfc7-3fca448e70e2')\"\n",
              "              title=\"Convert this dataframe to an interactive table.\"\n",
              "              style=\"display:none;\">\n",
              "        \n",
              "  <svg xmlns=\"http://www.w3.org/2000/svg\" height=\"24px\"viewBox=\"0 0 24 24\"\n",
              "       width=\"24px\">\n",
              "    <path d=\"M0 0h24v24H0V0z\" fill=\"none\"/>\n",
              "    <path d=\"M18.56 5.44l.94 2.06.94-2.06 2.06-.94-2.06-.94-.94-2.06-.94 2.06-2.06.94zm-11 1L8.5 8.5l.94-2.06 2.06-.94-2.06-.94L8.5 2.5l-.94 2.06-2.06.94zm10 10l.94 2.06.94-2.06 2.06-.94-2.06-.94-.94-2.06-.94 2.06-2.06.94z\"/><path d=\"M17.41 7.96l-1.37-1.37c-.4-.4-.92-.59-1.43-.59-.52 0-1.04.2-1.43.59L10.3 9.45l-7.72 7.72c-.78.78-.78 2.05 0 2.83L4 21.41c.39.39.9.59 1.41.59.51 0 1.02-.2 1.41-.59l7.78-7.78 2.81-2.81c.8-.78.8-2.07 0-2.86zM5.41 20L4 18.59l7.72-7.72 1.47 1.35L5.41 20z\"/>\n",
              "  </svg>\n",
              "      </button>\n",
              "      \n",
              "  <style>\n",
              "    .colab-df-container {\n",
              "      display:flex;\n",
              "      flex-wrap:wrap;\n",
              "      gap: 12px;\n",
              "    }\n",
              "\n",
              "    .colab-df-convert {\n",
              "      background-color: #E8F0FE;\n",
              "      border: none;\n",
              "      border-radius: 50%;\n",
              "      cursor: pointer;\n",
              "      display: none;\n",
              "      fill: #1967D2;\n",
              "      height: 32px;\n",
              "      padding: 0 0 0 0;\n",
              "      width: 32px;\n",
              "    }\n",
              "\n",
              "    .colab-df-convert:hover {\n",
              "      background-color: #E2EBFA;\n",
              "      box-shadow: 0px 1px 2px rgba(60, 64, 67, 0.3), 0px 1px 3px 1px rgba(60, 64, 67, 0.15);\n",
              "      fill: #174EA6;\n",
              "    }\n",
              "\n",
              "    [theme=dark] .colab-df-convert {\n",
              "      background-color: #3B4455;\n",
              "      fill: #D2E3FC;\n",
              "    }\n",
              "\n",
              "    [theme=dark] .colab-df-convert:hover {\n",
              "      background-color: #434B5C;\n",
              "      box-shadow: 0px 1px 3px 1px rgba(0, 0, 0, 0.15);\n",
              "      filter: drop-shadow(0px 1px 2px rgba(0, 0, 0, 0.3));\n",
              "      fill: #FFFFFF;\n",
              "    }\n",
              "  </style>\n",
              "\n",
              "      <script>\n",
              "        const buttonEl =\n",
              "          document.querySelector('#df-a99235c3-96f0-4411-bfc7-3fca448e70e2 button.colab-df-convert');\n",
              "        buttonEl.style.display =\n",
              "          google.colab.kernel.accessAllowed ? 'block' : 'none';\n",
              "\n",
              "        async function convertToInteractive(key) {\n",
              "          const element = document.querySelector('#df-a99235c3-96f0-4411-bfc7-3fca448e70e2');\n",
              "          const dataTable =\n",
              "            await google.colab.kernel.invokeFunction('convertToInteractive',\n",
              "                                                     [key], {});\n",
              "          if (!dataTable) return;\n",
              "\n",
              "          const docLinkHtml = 'Like what you see? Visit the ' +\n",
              "            '<a target=\"_blank\" href=https://colab.research.google.com/notebooks/data_table.ipynb>data table notebook</a>'\n",
              "            + ' to learn more about interactive tables.';\n",
              "          element.innerHTML = '';\n",
              "          dataTable['output_type'] = 'display_data';\n",
              "          await google.colab.output.renderOutput(dataTable, element);\n",
              "          const docLink = document.createElement('div');\n",
              "          docLink.innerHTML = docLinkHtml;\n",
              "          element.appendChild(docLink);\n",
              "        }\n",
              "      </script>\n",
              "    </div>\n",
              "  </div>\n",
              "  "
            ]
          },
          "metadata": {},
          "execution_count": 65
        }
      ],
      "source": [
        "Ans.head(5)"
      ]
    },
    {
      "cell_type": "markdown",
      "metadata": {
        "id": "qrlp8SYkf_xg"
      },
      "source": [
        "```{admonition} Question 31\n",
        "**df의 new_price 컬럼 값에 따라 내림차순으로 정리하고 index를 초기화 하여라**\n",
        "```"
      ]
    },
    {
      "cell_type": "markdown",
      "metadata": {
        "id": "2GPNdGhhf_xg"
      },
      "source": [
        "```{admonition} 31번 유튜브 풀이\n",
        ":class: dropdown\n",
        "<div style=\"text-align: center\"><iframe width=\"700\" height=\"500\" src=https://www.youtube.com/embed/PxTIbZJ3xrA?start=4500&end=4559></iframe></div>\n",
        "```"
      ]
    },
    {
      "cell_type": "code",
      "execution_count": 66,
      "metadata": {
        "ExecuteTime": {
          "end_time": "2022-02-19T18:22:28.301719Z",
          "start_time": "2022-02-19T18:22:28.298500Z"
        },
        "tags": [
          "hide-input"
        ],
        "id": "0cj4khPmf_xg"
      },
      "outputs": [],
      "source": [
        "Ans = df.sort_values('new_price',ascending=False).reset_index(drop=True)"
      ]
    },
    {
      "cell_type": "code",
      "execution_count": 67,
      "metadata": {
        "ExecuteTime": {
          "end_time": "2022-02-19T18:22:28.310329Z",
          "start_time": "2022-02-19T18:22:28.302960Z"
        },
        "scrolled": true,
        "id": "pvrt11cLf_xg",
        "outputId": "f43dd409-a386-49ba-e306-ec954f20858c",
        "colab": {
          "base_uri": "https://localhost:8080/",
          "height": 175
        }
      },
      "outputs": [
        {
          "output_type": "execute_result",
          "data": {
            "text/plain": [
              "   order_id  quantity                     item_name  \\\n",
              "0      1443        15  Chips and Fresh Tomato Salsa   \n",
              "1      1398         3                 Carnitas Bowl   \n",
              "2       511         4               Chicken Burrito   \n",
              "3      1443         4               Chicken Burrito   \n",
              "\n",
              "                                  choice_description item_price  new_price  \n",
              "0                                                NaN    $44.25       44.25  \n",
              "1  [Roasted Chili Corn Salsa, [Fajita Vegetables,...    $35.25       35.25  \n",
              "2  [Fresh Tomato Salsa, [Fajita Vegetables, Rice,...    $35.00       35.00  \n",
              "3  [Fresh Tomato Salsa, [Rice, Black Beans, Chees...    $35.00       35.00  "
            ],
            "text/html": [
              "\n",
              "  <div id=\"df-3e18513d-71ec-4d5a-ae95-d6f066d6689d\">\n",
              "    <div class=\"colab-df-container\">\n",
              "      <div>\n",
              "<style scoped>\n",
              "    .dataframe tbody tr th:only-of-type {\n",
              "        vertical-align: middle;\n",
              "    }\n",
              "\n",
              "    .dataframe tbody tr th {\n",
              "        vertical-align: top;\n",
              "    }\n",
              "\n",
              "    .dataframe thead th {\n",
              "        text-align: right;\n",
              "    }\n",
              "</style>\n",
              "<table border=\"1\" class=\"dataframe\">\n",
              "  <thead>\n",
              "    <tr style=\"text-align: right;\">\n",
              "      <th></th>\n",
              "      <th>order_id</th>\n",
              "      <th>quantity</th>\n",
              "      <th>item_name</th>\n",
              "      <th>choice_description</th>\n",
              "      <th>item_price</th>\n",
              "      <th>new_price</th>\n",
              "    </tr>\n",
              "  </thead>\n",
              "  <tbody>\n",
              "    <tr>\n",
              "      <th>0</th>\n",
              "      <td>1443</td>\n",
              "      <td>15</td>\n",
              "      <td>Chips and Fresh Tomato Salsa</td>\n",
              "      <td>NaN</td>\n",
              "      <td>$44.25</td>\n",
              "      <td>44.25</td>\n",
              "    </tr>\n",
              "    <tr>\n",
              "      <th>1</th>\n",
              "      <td>1398</td>\n",
              "      <td>3</td>\n",
              "      <td>Carnitas Bowl</td>\n",
              "      <td>[Roasted Chili Corn Salsa, [Fajita Vegetables,...</td>\n",
              "      <td>$35.25</td>\n",
              "      <td>35.25</td>\n",
              "    </tr>\n",
              "    <tr>\n",
              "      <th>2</th>\n",
              "      <td>511</td>\n",
              "      <td>4</td>\n",
              "      <td>Chicken Burrito</td>\n",
              "      <td>[Fresh Tomato Salsa, [Fajita Vegetables, Rice,...</td>\n",
              "      <td>$35.00</td>\n",
              "      <td>35.00</td>\n",
              "    </tr>\n",
              "    <tr>\n",
              "      <th>3</th>\n",
              "      <td>1443</td>\n",
              "      <td>4</td>\n",
              "      <td>Chicken Burrito</td>\n",
              "      <td>[Fresh Tomato Salsa, [Rice, Black Beans, Chees...</td>\n",
              "      <td>$35.00</td>\n",
              "      <td>35.00</td>\n",
              "    </tr>\n",
              "  </tbody>\n",
              "</table>\n",
              "</div>\n",
              "      <button class=\"colab-df-convert\" onclick=\"convertToInteractive('df-3e18513d-71ec-4d5a-ae95-d6f066d6689d')\"\n",
              "              title=\"Convert this dataframe to an interactive table.\"\n",
              "              style=\"display:none;\">\n",
              "        \n",
              "  <svg xmlns=\"http://www.w3.org/2000/svg\" height=\"24px\"viewBox=\"0 0 24 24\"\n",
              "       width=\"24px\">\n",
              "    <path d=\"M0 0h24v24H0V0z\" fill=\"none\"/>\n",
              "    <path d=\"M18.56 5.44l.94 2.06.94-2.06 2.06-.94-2.06-.94-.94-2.06-.94 2.06-2.06.94zm-11 1L8.5 8.5l.94-2.06 2.06-.94-2.06-.94L8.5 2.5l-.94 2.06-2.06.94zm10 10l.94 2.06.94-2.06 2.06-.94-2.06-.94-.94-2.06-.94 2.06-2.06.94z\"/><path d=\"M17.41 7.96l-1.37-1.37c-.4-.4-.92-.59-1.43-.59-.52 0-1.04.2-1.43.59L10.3 9.45l-7.72 7.72c-.78.78-.78 2.05 0 2.83L4 21.41c.39.39.9.59 1.41.59.51 0 1.02-.2 1.41-.59l7.78-7.78 2.81-2.81c.8-.78.8-2.07 0-2.86zM5.41 20L4 18.59l7.72-7.72 1.47 1.35L5.41 20z\"/>\n",
              "  </svg>\n",
              "      </button>\n",
              "      \n",
              "  <style>\n",
              "    .colab-df-container {\n",
              "      display:flex;\n",
              "      flex-wrap:wrap;\n",
              "      gap: 12px;\n",
              "    }\n",
              "\n",
              "    .colab-df-convert {\n",
              "      background-color: #E8F0FE;\n",
              "      border: none;\n",
              "      border-radius: 50%;\n",
              "      cursor: pointer;\n",
              "      display: none;\n",
              "      fill: #1967D2;\n",
              "      height: 32px;\n",
              "      padding: 0 0 0 0;\n",
              "      width: 32px;\n",
              "    }\n",
              "\n",
              "    .colab-df-convert:hover {\n",
              "      background-color: #E2EBFA;\n",
              "      box-shadow: 0px 1px 2px rgba(60, 64, 67, 0.3), 0px 1px 3px 1px rgba(60, 64, 67, 0.15);\n",
              "      fill: #174EA6;\n",
              "    }\n",
              "\n",
              "    [theme=dark] .colab-df-convert {\n",
              "      background-color: #3B4455;\n",
              "      fill: #D2E3FC;\n",
              "    }\n",
              "\n",
              "    [theme=dark] .colab-df-convert:hover {\n",
              "      background-color: #434B5C;\n",
              "      box-shadow: 0px 1px 3px 1px rgba(0, 0, 0, 0.15);\n",
              "      filter: drop-shadow(0px 1px 2px rgba(0, 0, 0, 0.3));\n",
              "      fill: #FFFFFF;\n",
              "    }\n",
              "  </style>\n",
              "\n",
              "      <script>\n",
              "        const buttonEl =\n",
              "          document.querySelector('#df-3e18513d-71ec-4d5a-ae95-d6f066d6689d button.colab-df-convert');\n",
              "        buttonEl.style.display =\n",
              "          google.colab.kernel.accessAllowed ? 'block' : 'none';\n",
              "\n",
              "        async function convertToInteractive(key) {\n",
              "          const element = document.querySelector('#df-3e18513d-71ec-4d5a-ae95-d6f066d6689d');\n",
              "          const dataTable =\n",
              "            await google.colab.kernel.invokeFunction('convertToInteractive',\n",
              "                                                     [key], {});\n",
              "          if (!dataTable) return;\n",
              "\n",
              "          const docLinkHtml = 'Like what you see? Visit the ' +\n",
              "            '<a target=\"_blank\" href=https://colab.research.google.com/notebooks/data_table.ipynb>data table notebook</a>'\n",
              "            + ' to learn more about interactive tables.';\n",
              "          element.innerHTML = '';\n",
              "          dataTable['output_type'] = 'display_data';\n",
              "          await google.colab.output.renderOutput(dataTable, element);\n",
              "          const docLink = document.createElement('div');\n",
              "          docLink.innerHTML = docLinkHtml;\n",
              "          element.appendChild(docLink);\n",
              "        }\n",
              "      </script>\n",
              "    </div>\n",
              "  </div>\n",
              "  "
            ]
          },
          "metadata": {},
          "execution_count": 67
        }
      ],
      "source": [
        "Ans.head(4)"
      ]
    },
    {
      "cell_type": "markdown",
      "metadata": {
        "id": "ku8X1058f_xg"
      },
      "source": [
        "```{admonition} Question 32\n",
        "**df의 item_name 컬럼 값이 Steak Salad 또는 Bowl 인 데이터를 인덱싱하라**\n",
        "```"
      ]
    },
    {
      "cell_type": "markdown",
      "metadata": {
        "id": "j6Nz_EObf_xg"
      },
      "source": [
        "```{admonition} 32번 유튜브 풀이\n",
        ":class: dropdown\n",
        "<div style=\"text-align: center\"><iframe width=\"700\" height=\"500\" src=https://www.youtube.com/embed/PxTIbZJ3xrA?start=4561&end=10000></iframe></div>\n",
        "```"
      ]
    },
    {
      "cell_type": "code",
      "execution_count": 68,
      "metadata": {
        "ExecuteTime": {
          "end_time": "2022-02-19T18:22:28.315124Z",
          "start_time": "2022-02-19T18:22:28.311678Z"
        },
        "tags": [
          "hide-input"
        ],
        "id": "ceujijWyf_xh"
      },
      "outputs": [],
      "source": [
        "Ans = df.loc[(df.item_name =='Steak Salad') | (df.item_name =='Bowl')]"
      ]
    },
    {
      "cell_type": "code",
      "execution_count": 69,
      "metadata": {
        "ExecuteTime": {
          "end_time": "2022-02-19T18:22:28.323330Z",
          "start_time": "2022-02-19T18:22:28.316526Z"
        },
        "id": "YIwTYuvEf_xh",
        "outputId": "5b8e32fc-267d-4d22-b208-77a1b1663ec0",
        "colab": {
          "base_uri": "https://localhost:8080/",
          "height": 237
        }
      },
      "outputs": [
        {
          "output_type": "execute_result",
          "data": {
            "text/plain": [
              "      order_id  quantity    item_name  \\\n",
              "445        193         3         Bowl   \n",
              "664        276         1  Steak Salad   \n",
              "673        279         1         Bowl   \n",
              "752        311         1  Steak Salad   \n",
              "893        369         1  Steak Salad   \n",
              "3502      1406         1  Steak Salad   \n",
              "\n",
              "                                     choice_description item_price  new_price  \n",
              "445   [Braised Carnitas, Pinto Beans, [Sour Cream, C...    $22.20       22.20  \n",
              "664   [Tomatillo-Red Chili Salsa (Hot), [Black Beans...     $8.99        8.99  \n",
              "673   [Adobo-Marinated and Grilled Steak, [Sour Crea...     $7.40        7.40  \n",
              "752   [Tomatillo-Red Chili Salsa (Hot), [Black Beans...     $8.99        8.99  \n",
              "893   [Fresh Tomato Salsa (Mild), [Rice, Cheese, Sou...     $8.99        8.99  \n",
              "3502                        [[Lettuce, Fajita Veggies]]     $8.69        8.69  "
            ],
            "text/html": [
              "\n",
              "  <div id=\"df-2441967d-3b95-4432-92d2-73016fa96d18\">\n",
              "    <div class=\"colab-df-container\">\n",
              "      <div>\n",
              "<style scoped>\n",
              "    .dataframe tbody tr th:only-of-type {\n",
              "        vertical-align: middle;\n",
              "    }\n",
              "\n",
              "    .dataframe tbody tr th {\n",
              "        vertical-align: top;\n",
              "    }\n",
              "\n",
              "    .dataframe thead th {\n",
              "        text-align: right;\n",
              "    }\n",
              "</style>\n",
              "<table border=\"1\" class=\"dataframe\">\n",
              "  <thead>\n",
              "    <tr style=\"text-align: right;\">\n",
              "      <th></th>\n",
              "      <th>order_id</th>\n",
              "      <th>quantity</th>\n",
              "      <th>item_name</th>\n",
              "      <th>choice_description</th>\n",
              "      <th>item_price</th>\n",
              "      <th>new_price</th>\n",
              "    </tr>\n",
              "  </thead>\n",
              "  <tbody>\n",
              "    <tr>\n",
              "      <th>445</th>\n",
              "      <td>193</td>\n",
              "      <td>3</td>\n",
              "      <td>Bowl</td>\n",
              "      <td>[Braised Carnitas, Pinto Beans, [Sour Cream, C...</td>\n",
              "      <td>$22.20</td>\n",
              "      <td>22.20</td>\n",
              "    </tr>\n",
              "    <tr>\n",
              "      <th>664</th>\n",
              "      <td>276</td>\n",
              "      <td>1</td>\n",
              "      <td>Steak Salad</td>\n",
              "      <td>[Tomatillo-Red Chili Salsa (Hot), [Black Beans...</td>\n",
              "      <td>$8.99</td>\n",
              "      <td>8.99</td>\n",
              "    </tr>\n",
              "    <tr>\n",
              "      <th>673</th>\n",
              "      <td>279</td>\n",
              "      <td>1</td>\n",
              "      <td>Bowl</td>\n",
              "      <td>[Adobo-Marinated and Grilled Steak, [Sour Crea...</td>\n",
              "      <td>$7.40</td>\n",
              "      <td>7.40</td>\n",
              "    </tr>\n",
              "    <tr>\n",
              "      <th>752</th>\n",
              "      <td>311</td>\n",
              "      <td>1</td>\n",
              "      <td>Steak Salad</td>\n",
              "      <td>[Tomatillo-Red Chili Salsa (Hot), [Black Beans...</td>\n",
              "      <td>$8.99</td>\n",
              "      <td>8.99</td>\n",
              "    </tr>\n",
              "    <tr>\n",
              "      <th>893</th>\n",
              "      <td>369</td>\n",
              "      <td>1</td>\n",
              "      <td>Steak Salad</td>\n",
              "      <td>[Fresh Tomato Salsa (Mild), [Rice, Cheese, Sou...</td>\n",
              "      <td>$8.99</td>\n",
              "      <td>8.99</td>\n",
              "    </tr>\n",
              "    <tr>\n",
              "      <th>3502</th>\n",
              "      <td>1406</td>\n",
              "      <td>1</td>\n",
              "      <td>Steak Salad</td>\n",
              "      <td>[[Lettuce, Fajita Veggies]]</td>\n",
              "      <td>$8.69</td>\n",
              "      <td>8.69</td>\n",
              "    </tr>\n",
              "  </tbody>\n",
              "</table>\n",
              "</div>\n",
              "      <button class=\"colab-df-convert\" onclick=\"convertToInteractive('df-2441967d-3b95-4432-92d2-73016fa96d18')\"\n",
              "              title=\"Convert this dataframe to an interactive table.\"\n",
              "              style=\"display:none;\">\n",
              "        \n",
              "  <svg xmlns=\"http://www.w3.org/2000/svg\" height=\"24px\"viewBox=\"0 0 24 24\"\n",
              "       width=\"24px\">\n",
              "    <path d=\"M0 0h24v24H0V0z\" fill=\"none\"/>\n",
              "    <path d=\"M18.56 5.44l.94 2.06.94-2.06 2.06-.94-2.06-.94-.94-2.06-.94 2.06-2.06.94zm-11 1L8.5 8.5l.94-2.06 2.06-.94-2.06-.94L8.5 2.5l-.94 2.06-2.06.94zm10 10l.94 2.06.94-2.06 2.06-.94-2.06-.94-.94-2.06-.94 2.06-2.06.94z\"/><path d=\"M17.41 7.96l-1.37-1.37c-.4-.4-.92-.59-1.43-.59-.52 0-1.04.2-1.43.59L10.3 9.45l-7.72 7.72c-.78.78-.78 2.05 0 2.83L4 21.41c.39.39.9.59 1.41.59.51 0 1.02-.2 1.41-.59l7.78-7.78 2.81-2.81c.8-.78.8-2.07 0-2.86zM5.41 20L4 18.59l7.72-7.72 1.47 1.35L5.41 20z\"/>\n",
              "  </svg>\n",
              "      </button>\n",
              "      \n",
              "  <style>\n",
              "    .colab-df-container {\n",
              "      display:flex;\n",
              "      flex-wrap:wrap;\n",
              "      gap: 12px;\n",
              "    }\n",
              "\n",
              "    .colab-df-convert {\n",
              "      background-color: #E8F0FE;\n",
              "      border: none;\n",
              "      border-radius: 50%;\n",
              "      cursor: pointer;\n",
              "      display: none;\n",
              "      fill: #1967D2;\n",
              "      height: 32px;\n",
              "      padding: 0 0 0 0;\n",
              "      width: 32px;\n",
              "    }\n",
              "\n",
              "    .colab-df-convert:hover {\n",
              "      background-color: #E2EBFA;\n",
              "      box-shadow: 0px 1px 2px rgba(60, 64, 67, 0.3), 0px 1px 3px 1px rgba(60, 64, 67, 0.15);\n",
              "      fill: #174EA6;\n",
              "    }\n",
              "\n",
              "    [theme=dark] .colab-df-convert {\n",
              "      background-color: #3B4455;\n",
              "      fill: #D2E3FC;\n",
              "    }\n",
              "\n",
              "    [theme=dark] .colab-df-convert:hover {\n",
              "      background-color: #434B5C;\n",
              "      box-shadow: 0px 1px 3px 1px rgba(0, 0, 0, 0.15);\n",
              "      filter: drop-shadow(0px 1px 2px rgba(0, 0, 0, 0.3));\n",
              "      fill: #FFFFFF;\n",
              "    }\n",
              "  </style>\n",
              "\n",
              "      <script>\n",
              "        const buttonEl =\n",
              "          document.querySelector('#df-2441967d-3b95-4432-92d2-73016fa96d18 button.colab-df-convert');\n",
              "        buttonEl.style.display =\n",
              "          google.colab.kernel.accessAllowed ? 'block' : 'none';\n",
              "\n",
              "        async function convertToInteractive(key) {\n",
              "          const element = document.querySelector('#df-2441967d-3b95-4432-92d2-73016fa96d18');\n",
              "          const dataTable =\n",
              "            await google.colab.kernel.invokeFunction('convertToInteractive',\n",
              "                                                     [key], {});\n",
              "          if (!dataTable) return;\n",
              "\n",
              "          const docLinkHtml = 'Like what you see? Visit the ' +\n",
              "            '<a target=\"_blank\" href=https://colab.research.google.com/notebooks/data_table.ipynb>data table notebook</a>'\n",
              "            + ' to learn more about interactive tables.';\n",
              "          element.innerHTML = '';\n",
              "          dataTable['output_type'] = 'display_data';\n",
              "          await google.colab.output.renderOutput(dataTable, element);\n",
              "          const docLink = document.createElement('div');\n",
              "          docLink.innerHTML = docLinkHtml;\n",
              "          element.appendChild(docLink);\n",
              "        }\n",
              "      </script>\n",
              "    </div>\n",
              "  </div>\n",
              "  "
            ]
          },
          "metadata": {},
          "execution_count": 69
        }
      ],
      "source": [
        "Ans"
      ]
    },
    {
      "cell_type": "markdown",
      "metadata": {
        "id": "1ECeMD9If_xh"
      },
      "source": [
        "```{admonition} Question 33\n",
        "**df의 item_name 컬럼 값이 Steak Salad 또는 Bowl 인 데이터를 데이터 프레임화 한 후, item_name를 기준으로 중복행이 있으면 제거하되 첫번째 케이스만 남겨라**\n",
        "```"
      ]
    },
    {
      "cell_type": "markdown",
      "metadata": {
        "id": "Krc58b_Qf_xh"
      },
      "source": [
        "```{admonition} 33번 유튜브 풀이\n",
        ":class: dropdown\n",
        "<div style=\"text-align: center\"><iframe width=\"700\" height=\"500\" src=https://www.youtube.com/embed/00rctVVSSoA?start=0&end=227></iframe></div>\n",
        "```"
      ]
    },
    {
      "cell_type": "code",
      "execution_count": 70,
      "metadata": {
        "ExecuteTime": {
          "end_time": "2022-02-19T18:22:28.329183Z",
          "start_time": "2022-02-19T18:22:28.324640Z"
        },
        "tags": [
          "hide-input"
        ],
        "id": "cMYKuEIwf_xh"
      },
      "outputs": [],
      "source": [
        "Ans = df.loc[(df.item_name =='Steak Salad') | (df.item_name =='Bowl')]\n",
        "Ans = Ans.drop_duplicates('item_name')"
      ]
    },
    {
      "cell_type": "code",
      "execution_count": 71,
      "metadata": {
        "ExecuteTime": {
          "end_time": "2022-02-19T18:22:28.336808Z",
          "start_time": "2022-02-19T18:22:28.330357Z"
        },
        "id": "MmDgY1dgf_xh",
        "outputId": "d9fa1815-4196-4495-afbf-8268d9fefda9",
        "colab": {
          "base_uri": "https://localhost:8080/",
          "height": 112
        }
      },
      "outputs": [
        {
          "output_type": "execute_result",
          "data": {
            "text/plain": [
              "     order_id  quantity    item_name  \\\n",
              "445       193         3         Bowl   \n",
              "664       276         1  Steak Salad   \n",
              "\n",
              "                                    choice_description item_price  new_price  \n",
              "445  [Braised Carnitas, Pinto Beans, [Sour Cream, C...    $22.20       22.20  \n",
              "664  [Tomatillo-Red Chili Salsa (Hot), [Black Beans...     $8.99        8.99  "
            ],
            "text/html": [
              "\n",
              "  <div id=\"df-b6bd1ca5-9e67-49ef-8f15-a0847c543bc2\">\n",
              "    <div class=\"colab-df-container\">\n",
              "      <div>\n",
              "<style scoped>\n",
              "    .dataframe tbody tr th:only-of-type {\n",
              "        vertical-align: middle;\n",
              "    }\n",
              "\n",
              "    .dataframe tbody tr th {\n",
              "        vertical-align: top;\n",
              "    }\n",
              "\n",
              "    .dataframe thead th {\n",
              "        text-align: right;\n",
              "    }\n",
              "</style>\n",
              "<table border=\"1\" class=\"dataframe\">\n",
              "  <thead>\n",
              "    <tr style=\"text-align: right;\">\n",
              "      <th></th>\n",
              "      <th>order_id</th>\n",
              "      <th>quantity</th>\n",
              "      <th>item_name</th>\n",
              "      <th>choice_description</th>\n",
              "      <th>item_price</th>\n",
              "      <th>new_price</th>\n",
              "    </tr>\n",
              "  </thead>\n",
              "  <tbody>\n",
              "    <tr>\n",
              "      <th>445</th>\n",
              "      <td>193</td>\n",
              "      <td>3</td>\n",
              "      <td>Bowl</td>\n",
              "      <td>[Braised Carnitas, Pinto Beans, [Sour Cream, C...</td>\n",
              "      <td>$22.20</td>\n",
              "      <td>22.20</td>\n",
              "    </tr>\n",
              "    <tr>\n",
              "      <th>664</th>\n",
              "      <td>276</td>\n",
              "      <td>1</td>\n",
              "      <td>Steak Salad</td>\n",
              "      <td>[Tomatillo-Red Chili Salsa (Hot), [Black Beans...</td>\n",
              "      <td>$8.99</td>\n",
              "      <td>8.99</td>\n",
              "    </tr>\n",
              "  </tbody>\n",
              "</table>\n",
              "</div>\n",
              "      <button class=\"colab-df-convert\" onclick=\"convertToInteractive('df-b6bd1ca5-9e67-49ef-8f15-a0847c543bc2')\"\n",
              "              title=\"Convert this dataframe to an interactive table.\"\n",
              "              style=\"display:none;\">\n",
              "        \n",
              "  <svg xmlns=\"http://www.w3.org/2000/svg\" height=\"24px\"viewBox=\"0 0 24 24\"\n",
              "       width=\"24px\">\n",
              "    <path d=\"M0 0h24v24H0V0z\" fill=\"none\"/>\n",
              "    <path d=\"M18.56 5.44l.94 2.06.94-2.06 2.06-.94-2.06-.94-.94-2.06-.94 2.06-2.06.94zm-11 1L8.5 8.5l.94-2.06 2.06-.94-2.06-.94L8.5 2.5l-.94 2.06-2.06.94zm10 10l.94 2.06.94-2.06 2.06-.94-2.06-.94-.94-2.06-.94 2.06-2.06.94z\"/><path d=\"M17.41 7.96l-1.37-1.37c-.4-.4-.92-.59-1.43-.59-.52 0-1.04.2-1.43.59L10.3 9.45l-7.72 7.72c-.78.78-.78 2.05 0 2.83L4 21.41c.39.39.9.59 1.41.59.51 0 1.02-.2 1.41-.59l7.78-7.78 2.81-2.81c.8-.78.8-2.07 0-2.86zM5.41 20L4 18.59l7.72-7.72 1.47 1.35L5.41 20z\"/>\n",
              "  </svg>\n",
              "      </button>\n",
              "      \n",
              "  <style>\n",
              "    .colab-df-container {\n",
              "      display:flex;\n",
              "      flex-wrap:wrap;\n",
              "      gap: 12px;\n",
              "    }\n",
              "\n",
              "    .colab-df-convert {\n",
              "      background-color: #E8F0FE;\n",
              "      border: none;\n",
              "      border-radius: 50%;\n",
              "      cursor: pointer;\n",
              "      display: none;\n",
              "      fill: #1967D2;\n",
              "      height: 32px;\n",
              "      padding: 0 0 0 0;\n",
              "      width: 32px;\n",
              "    }\n",
              "\n",
              "    .colab-df-convert:hover {\n",
              "      background-color: #E2EBFA;\n",
              "      box-shadow: 0px 1px 2px rgba(60, 64, 67, 0.3), 0px 1px 3px 1px rgba(60, 64, 67, 0.15);\n",
              "      fill: #174EA6;\n",
              "    }\n",
              "\n",
              "    [theme=dark] .colab-df-convert {\n",
              "      background-color: #3B4455;\n",
              "      fill: #D2E3FC;\n",
              "    }\n",
              "\n",
              "    [theme=dark] .colab-df-convert:hover {\n",
              "      background-color: #434B5C;\n",
              "      box-shadow: 0px 1px 3px 1px rgba(0, 0, 0, 0.15);\n",
              "      filter: drop-shadow(0px 1px 2px rgba(0, 0, 0, 0.3));\n",
              "      fill: #FFFFFF;\n",
              "    }\n",
              "  </style>\n",
              "\n",
              "      <script>\n",
              "        const buttonEl =\n",
              "          document.querySelector('#df-b6bd1ca5-9e67-49ef-8f15-a0847c543bc2 button.colab-df-convert');\n",
              "        buttonEl.style.display =\n",
              "          google.colab.kernel.accessAllowed ? 'block' : 'none';\n",
              "\n",
              "        async function convertToInteractive(key) {\n",
              "          const element = document.querySelector('#df-b6bd1ca5-9e67-49ef-8f15-a0847c543bc2');\n",
              "          const dataTable =\n",
              "            await google.colab.kernel.invokeFunction('convertToInteractive',\n",
              "                                                     [key], {});\n",
              "          if (!dataTable) return;\n",
              "\n",
              "          const docLinkHtml = 'Like what you see? Visit the ' +\n",
              "            '<a target=\"_blank\" href=https://colab.research.google.com/notebooks/data_table.ipynb>data table notebook</a>'\n",
              "            + ' to learn more about interactive tables.';\n",
              "          element.innerHTML = '';\n",
              "          dataTable['output_type'] = 'display_data';\n",
              "          await google.colab.output.renderOutput(dataTable, element);\n",
              "          const docLink = document.createElement('div');\n",
              "          docLink.innerHTML = docLinkHtml;\n",
              "          element.appendChild(docLink);\n",
              "        }\n",
              "      </script>\n",
              "    </div>\n",
              "  </div>\n",
              "  "
            ]
          },
          "metadata": {},
          "execution_count": 71
        }
      ],
      "source": [
        "Ans"
      ]
    },
    {
      "cell_type": "markdown",
      "metadata": {
        "id": "am-PMEr-f_xi"
      },
      "source": [
        "```{admonition} Question 34\n",
        "**df의 item_name 컬럼 값이 Steak Salad 또는 Bowl 인 데이터를 데이터 프레임화 한 후, item_name를 기준으로 중복행이 있으면 제거하되 마지막 케이스만 남겨라**\n",
        "```"
      ]
    },
    {
      "cell_type": "markdown",
      "metadata": {
        "id": "6nogVRhaf_xi"
      },
      "source": [
        "```{admonition} 34번 유튜브 풀이\n",
        ":class: dropdown\n",
        "<div style=\"text-align: center\"><iframe width=\"700\" height=\"500\" src=https://www.youtube.com/embed/00rctVVSSoA?start=229&end=388></iframe></div>\n",
        "```"
      ]
    },
    {
      "cell_type": "code",
      "execution_count": 72,
      "metadata": {
        "ExecuteTime": {
          "end_time": "2022-02-19T18:22:28.342791Z",
          "start_time": "2022-02-19T18:22:28.338230Z"
        },
        "tags": [
          "hide-input"
        ],
        "id": "dTtCVuEBf_xi"
      },
      "outputs": [],
      "source": [
        "Ans = df.loc[(df.item_name =='Steak Salad') | (df.item_name =='Bowl')]\n",
        "Ans = Ans.drop_duplicates('item_name',keep='last')"
      ]
    },
    {
      "cell_type": "code",
      "execution_count": 73,
      "metadata": {
        "ExecuteTime": {
          "end_time": "2022-02-19T18:22:28.351218Z",
          "start_time": "2022-02-19T18:22:28.344192Z"
        },
        "id": "wHFxAP14f_xi",
        "outputId": "a196bf80-8842-4716-ce44-74613f6063af",
        "colab": {
          "base_uri": "https://localhost:8080/",
          "height": 112
        }
      },
      "outputs": [
        {
          "output_type": "execute_result",
          "data": {
            "text/plain": [
              "      order_id  quantity    item_name  \\\n",
              "673        279         1         Bowl   \n",
              "3502      1406         1  Steak Salad   \n",
              "\n",
              "                                     choice_description item_price  new_price  \n",
              "673   [Adobo-Marinated and Grilled Steak, [Sour Crea...     $7.40        7.40  \n",
              "3502                        [[Lettuce, Fajita Veggies]]     $8.69        8.69  "
            ],
            "text/html": [
              "\n",
              "  <div id=\"df-e3a1bf16-2e28-44e8-a8a5-ba265d04978c\">\n",
              "    <div class=\"colab-df-container\">\n",
              "      <div>\n",
              "<style scoped>\n",
              "    .dataframe tbody tr th:only-of-type {\n",
              "        vertical-align: middle;\n",
              "    }\n",
              "\n",
              "    .dataframe tbody tr th {\n",
              "        vertical-align: top;\n",
              "    }\n",
              "\n",
              "    .dataframe thead th {\n",
              "        text-align: right;\n",
              "    }\n",
              "</style>\n",
              "<table border=\"1\" class=\"dataframe\">\n",
              "  <thead>\n",
              "    <tr style=\"text-align: right;\">\n",
              "      <th></th>\n",
              "      <th>order_id</th>\n",
              "      <th>quantity</th>\n",
              "      <th>item_name</th>\n",
              "      <th>choice_description</th>\n",
              "      <th>item_price</th>\n",
              "      <th>new_price</th>\n",
              "    </tr>\n",
              "  </thead>\n",
              "  <tbody>\n",
              "    <tr>\n",
              "      <th>673</th>\n",
              "      <td>279</td>\n",
              "      <td>1</td>\n",
              "      <td>Bowl</td>\n",
              "      <td>[Adobo-Marinated and Grilled Steak, [Sour Crea...</td>\n",
              "      <td>$7.40</td>\n",
              "      <td>7.40</td>\n",
              "    </tr>\n",
              "    <tr>\n",
              "      <th>3502</th>\n",
              "      <td>1406</td>\n",
              "      <td>1</td>\n",
              "      <td>Steak Salad</td>\n",
              "      <td>[[Lettuce, Fajita Veggies]]</td>\n",
              "      <td>$8.69</td>\n",
              "      <td>8.69</td>\n",
              "    </tr>\n",
              "  </tbody>\n",
              "</table>\n",
              "</div>\n",
              "      <button class=\"colab-df-convert\" onclick=\"convertToInteractive('df-e3a1bf16-2e28-44e8-a8a5-ba265d04978c')\"\n",
              "              title=\"Convert this dataframe to an interactive table.\"\n",
              "              style=\"display:none;\">\n",
              "        \n",
              "  <svg xmlns=\"http://www.w3.org/2000/svg\" height=\"24px\"viewBox=\"0 0 24 24\"\n",
              "       width=\"24px\">\n",
              "    <path d=\"M0 0h24v24H0V0z\" fill=\"none\"/>\n",
              "    <path d=\"M18.56 5.44l.94 2.06.94-2.06 2.06-.94-2.06-.94-.94-2.06-.94 2.06-2.06.94zm-11 1L8.5 8.5l.94-2.06 2.06-.94-2.06-.94L8.5 2.5l-.94 2.06-2.06.94zm10 10l.94 2.06.94-2.06 2.06-.94-2.06-.94-.94-2.06-.94 2.06-2.06.94z\"/><path d=\"M17.41 7.96l-1.37-1.37c-.4-.4-.92-.59-1.43-.59-.52 0-1.04.2-1.43.59L10.3 9.45l-7.72 7.72c-.78.78-.78 2.05 0 2.83L4 21.41c.39.39.9.59 1.41.59.51 0 1.02-.2 1.41-.59l7.78-7.78 2.81-2.81c.8-.78.8-2.07 0-2.86zM5.41 20L4 18.59l7.72-7.72 1.47 1.35L5.41 20z\"/>\n",
              "  </svg>\n",
              "      </button>\n",
              "      \n",
              "  <style>\n",
              "    .colab-df-container {\n",
              "      display:flex;\n",
              "      flex-wrap:wrap;\n",
              "      gap: 12px;\n",
              "    }\n",
              "\n",
              "    .colab-df-convert {\n",
              "      background-color: #E8F0FE;\n",
              "      border: none;\n",
              "      border-radius: 50%;\n",
              "      cursor: pointer;\n",
              "      display: none;\n",
              "      fill: #1967D2;\n",
              "      height: 32px;\n",
              "      padding: 0 0 0 0;\n",
              "      width: 32px;\n",
              "    }\n",
              "\n",
              "    .colab-df-convert:hover {\n",
              "      background-color: #E2EBFA;\n",
              "      box-shadow: 0px 1px 2px rgba(60, 64, 67, 0.3), 0px 1px 3px 1px rgba(60, 64, 67, 0.15);\n",
              "      fill: #174EA6;\n",
              "    }\n",
              "\n",
              "    [theme=dark] .colab-df-convert {\n",
              "      background-color: #3B4455;\n",
              "      fill: #D2E3FC;\n",
              "    }\n",
              "\n",
              "    [theme=dark] .colab-df-convert:hover {\n",
              "      background-color: #434B5C;\n",
              "      box-shadow: 0px 1px 3px 1px rgba(0, 0, 0, 0.15);\n",
              "      filter: drop-shadow(0px 1px 2px rgba(0, 0, 0, 0.3));\n",
              "      fill: #FFFFFF;\n",
              "    }\n",
              "  </style>\n",
              "\n",
              "      <script>\n",
              "        const buttonEl =\n",
              "          document.querySelector('#df-e3a1bf16-2e28-44e8-a8a5-ba265d04978c button.colab-df-convert');\n",
              "        buttonEl.style.display =\n",
              "          google.colab.kernel.accessAllowed ? 'block' : 'none';\n",
              "\n",
              "        async function convertToInteractive(key) {\n",
              "          const element = document.querySelector('#df-e3a1bf16-2e28-44e8-a8a5-ba265d04978c');\n",
              "          const dataTable =\n",
              "            await google.colab.kernel.invokeFunction('convertToInteractive',\n",
              "                                                     [key], {});\n",
              "          if (!dataTable) return;\n",
              "\n",
              "          const docLinkHtml = 'Like what you see? Visit the ' +\n",
              "            '<a target=\"_blank\" href=https://colab.research.google.com/notebooks/data_table.ipynb>data table notebook</a>'\n",
              "            + ' to learn more about interactive tables.';\n",
              "          element.innerHTML = '';\n",
              "          dataTable['output_type'] = 'display_data';\n",
              "          await google.colab.output.renderOutput(dataTable, element);\n",
              "          const docLink = document.createElement('div');\n",
              "          docLink.innerHTML = docLinkHtml;\n",
              "          element.appendChild(docLink);\n",
              "        }\n",
              "      </script>\n",
              "    </div>\n",
              "  </div>\n",
              "  "
            ]
          },
          "metadata": {},
          "execution_count": 73
        }
      ],
      "source": [
        "Ans"
      ]
    },
    {
      "cell_type": "markdown",
      "metadata": {
        "id": "dRPUpEP_f_xi"
      },
      "source": [
        "```{admonition} Question 35\n",
        "**df의 데이터 중 new_price값이 new_price값의 평균값 이상을 가지는 데이터들을 인덱싱하라**\n",
        "```"
      ]
    },
    {
      "cell_type": "markdown",
      "metadata": {
        "id": "yiP2W0Ycf_xi"
      },
      "source": [
        "```{admonition} 35번 유튜브 풀이\n",
        ":class: dropdown\n",
        "<div style=\"text-align: center\"><iframe width=\"700\" height=\"500\" src=https://www.youtube.com/embed/00rctVVSSoA?start=390&end=598></iframe></div>\n",
        "```"
      ]
    },
    {
      "cell_type": "code",
      "execution_count": 74,
      "metadata": {
        "ExecuteTime": {
          "end_time": "2022-02-19T18:22:28.355598Z",
          "start_time": "2022-02-19T18:22:28.352433Z"
        },
        "tags": [
          "hide-input"
        ],
        "id": "Ty4Eob5Of_xj"
      },
      "outputs": [],
      "source": [
        "Ans = df.loc[df.new_price >= df.new_price.mean()]"
      ]
    },
    {
      "cell_type": "code",
      "execution_count": 75,
      "metadata": {
        "ExecuteTime": {
          "end_time": "2022-02-19T18:22:28.364166Z",
          "start_time": "2022-02-19T18:22:28.356898Z"
        },
        "id": "n3kg3eqQf_xj",
        "outputId": "796407d1-2c5b-4139-d9e2-3d32450ec75e",
        "colab": {
          "base_uri": "https://localhost:8080/",
          "height": 206
        }
      },
      "outputs": [
        {
          "output_type": "execute_result",
          "data": {
            "text/plain": [
              "   order_id  quantity         item_name  \\\n",
              "4         2         2      Chicken Bowl   \n",
              "5         3         1      Chicken Bowl   \n",
              "7         4         1     Steak Burrito   \n",
              "8         4         1  Steak Soft Tacos   \n",
              "9         5         1     Steak Burrito   \n",
              "\n",
              "                                  choice_description item_price  new_price  \n",
              "4  [Tomatillo-Red Chili Salsa (Hot), [Black Beans...    $16.98       16.98  \n",
              "5  [Fresh Tomato Salsa (Mild), [Rice, Cheese, Sou...    $10.98       10.98  \n",
              "7  [Tomatillo Red Chili Salsa, [Fajita Vegetables...    $11.75       11.75  \n",
              "8  [Tomatillo Green Chili Salsa, [Pinto Beans, Ch...     $9.25        9.25  \n",
              "9  [Fresh Tomato Salsa, [Rice, Black Beans, Pinto...     $9.25        9.25  "
            ],
            "text/html": [
              "\n",
              "  <div id=\"df-446c546e-eea6-4398-a54a-2fc767d5e52d\">\n",
              "    <div class=\"colab-df-container\">\n",
              "      <div>\n",
              "<style scoped>\n",
              "    .dataframe tbody tr th:only-of-type {\n",
              "        vertical-align: middle;\n",
              "    }\n",
              "\n",
              "    .dataframe tbody tr th {\n",
              "        vertical-align: top;\n",
              "    }\n",
              "\n",
              "    .dataframe thead th {\n",
              "        text-align: right;\n",
              "    }\n",
              "</style>\n",
              "<table border=\"1\" class=\"dataframe\">\n",
              "  <thead>\n",
              "    <tr style=\"text-align: right;\">\n",
              "      <th></th>\n",
              "      <th>order_id</th>\n",
              "      <th>quantity</th>\n",
              "      <th>item_name</th>\n",
              "      <th>choice_description</th>\n",
              "      <th>item_price</th>\n",
              "      <th>new_price</th>\n",
              "    </tr>\n",
              "  </thead>\n",
              "  <tbody>\n",
              "    <tr>\n",
              "      <th>4</th>\n",
              "      <td>2</td>\n",
              "      <td>2</td>\n",
              "      <td>Chicken Bowl</td>\n",
              "      <td>[Tomatillo-Red Chili Salsa (Hot), [Black Beans...</td>\n",
              "      <td>$16.98</td>\n",
              "      <td>16.98</td>\n",
              "    </tr>\n",
              "    <tr>\n",
              "      <th>5</th>\n",
              "      <td>3</td>\n",
              "      <td>1</td>\n",
              "      <td>Chicken Bowl</td>\n",
              "      <td>[Fresh Tomato Salsa (Mild), [Rice, Cheese, Sou...</td>\n",
              "      <td>$10.98</td>\n",
              "      <td>10.98</td>\n",
              "    </tr>\n",
              "    <tr>\n",
              "      <th>7</th>\n",
              "      <td>4</td>\n",
              "      <td>1</td>\n",
              "      <td>Steak Burrito</td>\n",
              "      <td>[Tomatillo Red Chili Salsa, [Fajita Vegetables...</td>\n",
              "      <td>$11.75</td>\n",
              "      <td>11.75</td>\n",
              "    </tr>\n",
              "    <tr>\n",
              "      <th>8</th>\n",
              "      <td>4</td>\n",
              "      <td>1</td>\n",
              "      <td>Steak Soft Tacos</td>\n",
              "      <td>[Tomatillo Green Chili Salsa, [Pinto Beans, Ch...</td>\n",
              "      <td>$9.25</td>\n",
              "      <td>9.25</td>\n",
              "    </tr>\n",
              "    <tr>\n",
              "      <th>9</th>\n",
              "      <td>5</td>\n",
              "      <td>1</td>\n",
              "      <td>Steak Burrito</td>\n",
              "      <td>[Fresh Tomato Salsa, [Rice, Black Beans, Pinto...</td>\n",
              "      <td>$9.25</td>\n",
              "      <td>9.25</td>\n",
              "    </tr>\n",
              "  </tbody>\n",
              "</table>\n",
              "</div>\n",
              "      <button class=\"colab-df-convert\" onclick=\"convertToInteractive('df-446c546e-eea6-4398-a54a-2fc767d5e52d')\"\n",
              "              title=\"Convert this dataframe to an interactive table.\"\n",
              "              style=\"display:none;\">\n",
              "        \n",
              "  <svg xmlns=\"http://www.w3.org/2000/svg\" height=\"24px\"viewBox=\"0 0 24 24\"\n",
              "       width=\"24px\">\n",
              "    <path d=\"M0 0h24v24H0V0z\" fill=\"none\"/>\n",
              "    <path d=\"M18.56 5.44l.94 2.06.94-2.06 2.06-.94-2.06-.94-.94-2.06-.94 2.06-2.06.94zm-11 1L8.5 8.5l.94-2.06 2.06-.94-2.06-.94L8.5 2.5l-.94 2.06-2.06.94zm10 10l.94 2.06.94-2.06 2.06-.94-2.06-.94-.94-2.06-.94 2.06-2.06.94z\"/><path d=\"M17.41 7.96l-1.37-1.37c-.4-.4-.92-.59-1.43-.59-.52 0-1.04.2-1.43.59L10.3 9.45l-7.72 7.72c-.78.78-.78 2.05 0 2.83L4 21.41c.39.39.9.59 1.41.59.51 0 1.02-.2 1.41-.59l7.78-7.78 2.81-2.81c.8-.78.8-2.07 0-2.86zM5.41 20L4 18.59l7.72-7.72 1.47 1.35L5.41 20z\"/>\n",
              "  </svg>\n",
              "      </button>\n",
              "      \n",
              "  <style>\n",
              "    .colab-df-container {\n",
              "      display:flex;\n",
              "      flex-wrap:wrap;\n",
              "      gap: 12px;\n",
              "    }\n",
              "\n",
              "    .colab-df-convert {\n",
              "      background-color: #E8F0FE;\n",
              "      border: none;\n",
              "      border-radius: 50%;\n",
              "      cursor: pointer;\n",
              "      display: none;\n",
              "      fill: #1967D2;\n",
              "      height: 32px;\n",
              "      padding: 0 0 0 0;\n",
              "      width: 32px;\n",
              "    }\n",
              "\n",
              "    .colab-df-convert:hover {\n",
              "      background-color: #E2EBFA;\n",
              "      box-shadow: 0px 1px 2px rgba(60, 64, 67, 0.3), 0px 1px 3px 1px rgba(60, 64, 67, 0.15);\n",
              "      fill: #174EA6;\n",
              "    }\n",
              "\n",
              "    [theme=dark] .colab-df-convert {\n",
              "      background-color: #3B4455;\n",
              "      fill: #D2E3FC;\n",
              "    }\n",
              "\n",
              "    [theme=dark] .colab-df-convert:hover {\n",
              "      background-color: #434B5C;\n",
              "      box-shadow: 0px 1px 3px 1px rgba(0, 0, 0, 0.15);\n",
              "      filter: drop-shadow(0px 1px 2px rgba(0, 0, 0, 0.3));\n",
              "      fill: #FFFFFF;\n",
              "    }\n",
              "  </style>\n",
              "\n",
              "      <script>\n",
              "        const buttonEl =\n",
              "          document.querySelector('#df-446c546e-eea6-4398-a54a-2fc767d5e52d button.colab-df-convert');\n",
              "        buttonEl.style.display =\n",
              "          google.colab.kernel.accessAllowed ? 'block' : 'none';\n",
              "\n",
              "        async function convertToInteractive(key) {\n",
              "          const element = document.querySelector('#df-446c546e-eea6-4398-a54a-2fc767d5e52d');\n",
              "          const dataTable =\n",
              "            await google.colab.kernel.invokeFunction('convertToInteractive',\n",
              "                                                     [key], {});\n",
              "          if (!dataTable) return;\n",
              "\n",
              "          const docLinkHtml = 'Like what you see? Visit the ' +\n",
              "            '<a target=\"_blank\" href=https://colab.research.google.com/notebooks/data_table.ipynb>data table notebook</a>'\n",
              "            + ' to learn more about interactive tables.';\n",
              "          element.innerHTML = '';\n",
              "          dataTable['output_type'] = 'display_data';\n",
              "          await google.colab.output.renderOutput(dataTable, element);\n",
              "          const docLink = document.createElement('div');\n",
              "          docLink.innerHTML = docLinkHtml;\n",
              "          element.appendChild(docLink);\n",
              "        }\n",
              "      </script>\n",
              "    </div>\n",
              "  </div>\n",
              "  "
            ]
          },
          "metadata": {},
          "execution_count": 75
        }
      ],
      "source": [
        "Ans.head(5)"
      ]
    },
    {
      "cell_type": "markdown",
      "metadata": {
        "id": "C5Alex93f_xj"
      },
      "source": [
        "```{admonition} Question 36\n",
        "**df의 데이터 중 item_name의 값이 Izze 데이터를 Fizzy Lizzy로 수정하라**\n",
        "```"
      ]
    },
    {
      "cell_type": "markdown",
      "metadata": {
        "id": "2KR2JEpFf_xj"
      },
      "source": [
        "```{admonition} 36번 유튜브 풀이\n",
        ":class: dropdown\n",
        "<div style=\"text-align: center\"><iframe width=\"700\" height=\"500\" src=https://www.youtube.com/embed/00rctVVSSoA?start=600&end=658></iframe></div>\n",
        "```"
      ]
    },
    {
      "cell_type": "code",
      "execution_count": 76,
      "metadata": {
        "ExecuteTime": {
          "end_time": "2022-02-19T18:22:28.368623Z",
          "start_time": "2022-02-19T18:22:28.365471Z"
        },
        "tags": [
          "hide-input"
        ],
        "id": "K8oriRYef_xj"
      },
      "outputs": [],
      "source": [
        "df.loc[df.item_name =='Izze','item_name'] = 'Fizzy Lizzy'\n",
        "Ans = df"
      ]
    },
    {
      "cell_type": "code",
      "execution_count": 77,
      "metadata": {
        "ExecuteTime": {
          "end_time": "2022-02-19T18:22:28.376942Z",
          "start_time": "2022-02-19T18:22:28.369908Z"
        },
        "id": "ocN_tMnXf_xj",
        "outputId": "365f0918-7b94-4946-ad55-8a9dfc6dd218",
        "colab": {
          "base_uri": "https://localhost:8080/",
          "height": 143
        }
      },
      "outputs": [
        {
          "output_type": "execute_result",
          "data": {
            "text/plain": [
              "   order_id  quantity                     item_name choice_description  \\\n",
              "0         1         1  Chips and Fresh Tomato Salsa                NaN   \n",
              "1         1         1                   Fizzy Lizzy       [Clementine]   \n",
              "2         1         1              Nantucket Nectar            [Apple]   \n",
              "\n",
              "  item_price  new_price  \n",
              "0     $2.39        2.39  \n",
              "1     $3.39        3.39  \n",
              "2     $3.39        3.39  "
            ],
            "text/html": [
              "\n",
              "  <div id=\"df-acca4173-0e00-459f-a03b-2f267debc453\">\n",
              "    <div class=\"colab-df-container\">\n",
              "      <div>\n",
              "<style scoped>\n",
              "    .dataframe tbody tr th:only-of-type {\n",
              "        vertical-align: middle;\n",
              "    }\n",
              "\n",
              "    .dataframe tbody tr th {\n",
              "        vertical-align: top;\n",
              "    }\n",
              "\n",
              "    .dataframe thead th {\n",
              "        text-align: right;\n",
              "    }\n",
              "</style>\n",
              "<table border=\"1\" class=\"dataframe\">\n",
              "  <thead>\n",
              "    <tr style=\"text-align: right;\">\n",
              "      <th></th>\n",
              "      <th>order_id</th>\n",
              "      <th>quantity</th>\n",
              "      <th>item_name</th>\n",
              "      <th>choice_description</th>\n",
              "      <th>item_price</th>\n",
              "      <th>new_price</th>\n",
              "    </tr>\n",
              "  </thead>\n",
              "  <tbody>\n",
              "    <tr>\n",
              "      <th>0</th>\n",
              "      <td>1</td>\n",
              "      <td>1</td>\n",
              "      <td>Chips and Fresh Tomato Salsa</td>\n",
              "      <td>NaN</td>\n",
              "      <td>$2.39</td>\n",
              "      <td>2.39</td>\n",
              "    </tr>\n",
              "    <tr>\n",
              "      <th>1</th>\n",
              "      <td>1</td>\n",
              "      <td>1</td>\n",
              "      <td>Fizzy Lizzy</td>\n",
              "      <td>[Clementine]</td>\n",
              "      <td>$3.39</td>\n",
              "      <td>3.39</td>\n",
              "    </tr>\n",
              "    <tr>\n",
              "      <th>2</th>\n",
              "      <td>1</td>\n",
              "      <td>1</td>\n",
              "      <td>Nantucket Nectar</td>\n",
              "      <td>[Apple]</td>\n",
              "      <td>$3.39</td>\n",
              "      <td>3.39</td>\n",
              "    </tr>\n",
              "  </tbody>\n",
              "</table>\n",
              "</div>\n",
              "      <button class=\"colab-df-convert\" onclick=\"convertToInteractive('df-acca4173-0e00-459f-a03b-2f267debc453')\"\n",
              "              title=\"Convert this dataframe to an interactive table.\"\n",
              "              style=\"display:none;\">\n",
              "        \n",
              "  <svg xmlns=\"http://www.w3.org/2000/svg\" height=\"24px\"viewBox=\"0 0 24 24\"\n",
              "       width=\"24px\">\n",
              "    <path d=\"M0 0h24v24H0V0z\" fill=\"none\"/>\n",
              "    <path d=\"M18.56 5.44l.94 2.06.94-2.06 2.06-.94-2.06-.94-.94-2.06-.94 2.06-2.06.94zm-11 1L8.5 8.5l.94-2.06 2.06-.94-2.06-.94L8.5 2.5l-.94 2.06-2.06.94zm10 10l.94 2.06.94-2.06 2.06-.94-2.06-.94-.94-2.06-.94 2.06-2.06.94z\"/><path d=\"M17.41 7.96l-1.37-1.37c-.4-.4-.92-.59-1.43-.59-.52 0-1.04.2-1.43.59L10.3 9.45l-7.72 7.72c-.78.78-.78 2.05 0 2.83L4 21.41c.39.39.9.59 1.41.59.51 0 1.02-.2 1.41-.59l7.78-7.78 2.81-2.81c.8-.78.8-2.07 0-2.86zM5.41 20L4 18.59l7.72-7.72 1.47 1.35L5.41 20z\"/>\n",
              "  </svg>\n",
              "      </button>\n",
              "      \n",
              "  <style>\n",
              "    .colab-df-container {\n",
              "      display:flex;\n",
              "      flex-wrap:wrap;\n",
              "      gap: 12px;\n",
              "    }\n",
              "\n",
              "    .colab-df-convert {\n",
              "      background-color: #E8F0FE;\n",
              "      border: none;\n",
              "      border-radius: 50%;\n",
              "      cursor: pointer;\n",
              "      display: none;\n",
              "      fill: #1967D2;\n",
              "      height: 32px;\n",
              "      padding: 0 0 0 0;\n",
              "      width: 32px;\n",
              "    }\n",
              "\n",
              "    .colab-df-convert:hover {\n",
              "      background-color: #E2EBFA;\n",
              "      box-shadow: 0px 1px 2px rgba(60, 64, 67, 0.3), 0px 1px 3px 1px rgba(60, 64, 67, 0.15);\n",
              "      fill: #174EA6;\n",
              "    }\n",
              "\n",
              "    [theme=dark] .colab-df-convert {\n",
              "      background-color: #3B4455;\n",
              "      fill: #D2E3FC;\n",
              "    }\n",
              "\n",
              "    [theme=dark] .colab-df-convert:hover {\n",
              "      background-color: #434B5C;\n",
              "      box-shadow: 0px 1px 3px 1px rgba(0, 0, 0, 0.15);\n",
              "      filter: drop-shadow(0px 1px 2px rgba(0, 0, 0, 0.3));\n",
              "      fill: #FFFFFF;\n",
              "    }\n",
              "  </style>\n",
              "\n",
              "      <script>\n",
              "        const buttonEl =\n",
              "          document.querySelector('#df-acca4173-0e00-459f-a03b-2f267debc453 button.colab-df-convert');\n",
              "        buttonEl.style.display =\n",
              "          google.colab.kernel.accessAllowed ? 'block' : 'none';\n",
              "\n",
              "        async function convertToInteractive(key) {\n",
              "          const element = document.querySelector('#df-acca4173-0e00-459f-a03b-2f267debc453');\n",
              "          const dataTable =\n",
              "            await google.colab.kernel.invokeFunction('convertToInteractive',\n",
              "                                                     [key], {});\n",
              "          if (!dataTable) return;\n",
              "\n",
              "          const docLinkHtml = 'Like what you see? Visit the ' +\n",
              "            '<a target=\"_blank\" href=https://colab.research.google.com/notebooks/data_table.ipynb>data table notebook</a>'\n",
              "            + ' to learn more about interactive tables.';\n",
              "          element.innerHTML = '';\n",
              "          dataTable['output_type'] = 'display_data';\n",
              "          await google.colab.output.renderOutput(dataTable, element);\n",
              "          const docLink = document.createElement('div');\n",
              "          docLink.innerHTML = docLinkHtml;\n",
              "          element.appendChild(docLink);\n",
              "        }\n",
              "      </script>\n",
              "    </div>\n",
              "  </div>\n",
              "  "
            ]
          },
          "metadata": {},
          "execution_count": 77
        }
      ],
      "source": [
        "Ans.head(3)"
      ]
    },
    {
      "cell_type": "markdown",
      "metadata": {
        "id": "Mvc1qkASf_xj"
      },
      "source": [
        "```{admonition} Question 37\n",
        "**df의 데이터 중 choice_description 값이 NaN 인 데이터의 갯수를 구하여라**\n",
        "```"
      ]
    },
    {
      "cell_type": "markdown",
      "metadata": {
        "id": "sjrbOtt_f_xj"
      },
      "source": [
        "```{admonition} 37번 유튜브 풀이\n",
        ":class: dropdown\n",
        "<div style=\"text-align: center\"><iframe width=\"700\" height=\"500\" src=https://www.youtube.com/embed/00rctVVSSoA?start=660&end=792></iframe></div>\n",
        "```"
      ]
    },
    {
      "cell_type": "code",
      "execution_count": 78,
      "metadata": {
        "ExecuteTime": {
          "end_time": "2022-02-19T18:22:28.380894Z",
          "start_time": "2022-02-19T18:22:28.378281Z"
        },
        "scrolled": true,
        "tags": [
          "hide-input"
        ],
        "id": "Pu8UeLB2f_xk"
      },
      "outputs": [],
      "source": [
        "Ans = df.choice_description.isnull().sum()"
      ]
    },
    {
      "cell_type": "code",
      "execution_count": null,
      "metadata": {
        "ExecuteTime": {
          "end_time": "2022-02-19T18:22:28.384996Z",
          "start_time": "2022-02-19T18:22:28.382305Z"
        },
        "id": "Zm4V_o_Zf_xk",
        "outputId": "4ce38f42-2a9e-4f21-9c64-53ca84cbe6ae"
      },
      "outputs": [
        {
          "data": {
            "text/plain": [
              "1246"
            ]
          },
          "execution_count": 73,
          "metadata": {},
          "output_type": "execute_result"
        }
      ],
      "source": [
        "Ans"
      ]
    },
    {
      "cell_type": "markdown",
      "metadata": {
        "id": "DT8G0MqMf_xk"
      },
      "source": [
        "```{admonition} Question 38\n",
        "**df의 데이터 중 choice_description 값이 NaN 인 데이터를 NoData 값으로 대체하라(loc 이용)**\n",
        "```"
      ]
    },
    {
      "cell_type": "markdown",
      "metadata": {
        "id": "9v62sHBif_xk"
      },
      "source": [
        "```{admonition} 38번 유튜브 풀이\n",
        ":class: dropdown\n",
        "<div style=\"text-align: center\"><iframe width=\"700\" height=\"500\" src=https://www.youtube.com/embed/00rctVVSSoA?start=794&end=1093></iframe></div>\n",
        "```"
      ]
    },
    {
      "cell_type": "code",
      "execution_count": 79,
      "metadata": {
        "ExecuteTime": {
          "end_time": "2022-02-19T18:22:28.390010Z",
          "start_time": "2022-02-19T18:22:28.386777Z"
        },
        "tags": [
          "hide-input"
        ],
        "id": "pKsBrur6f_xl"
      },
      "outputs": [],
      "source": [
        "df.loc[df.choice_description.isnull(),'choice_description'] ='NoData'\n",
        "Ans = df"
      ]
    },
    {
      "cell_type": "code",
      "execution_count": 80,
      "metadata": {
        "ExecuteTime": {
          "end_time": "2022-02-19T18:22:28.398579Z",
          "start_time": "2022-02-19T18:22:28.391398Z"
        },
        "id": "f0Gjnh2jf_xl",
        "outputId": "d5589edc-f5ac-4522-fe05-23c09713a1a2",
        "colab": {
          "base_uri": "https://localhost:8080/",
          "height": 206
        }
      },
      "outputs": [
        {
          "output_type": "execute_result",
          "data": {
            "text/plain": [
              "   order_id  quantity                              item_name  \\\n",
              "0         1         1           Chips and Fresh Tomato Salsa   \n",
              "1         1         1                            Fizzy Lizzy   \n",
              "2         1         1                       Nantucket Nectar   \n",
              "3         1         1  Chips and Tomatillo-Green Chili Salsa   \n",
              "4         2         2                           Chicken Bowl   \n",
              "\n",
              "                                  choice_description item_price  new_price  \n",
              "0                                             NoData     $2.39        2.39  \n",
              "1                                       [Clementine]     $3.39        3.39  \n",
              "2                                            [Apple]     $3.39        3.39  \n",
              "3                                             NoData     $2.39        2.39  \n",
              "4  [Tomatillo-Red Chili Salsa (Hot), [Black Beans...    $16.98       16.98  "
            ],
            "text/html": [
              "\n",
              "  <div id=\"df-d0e38354-b7f4-4f3d-a5e4-9306bf6f4ab0\">\n",
              "    <div class=\"colab-df-container\">\n",
              "      <div>\n",
              "<style scoped>\n",
              "    .dataframe tbody tr th:only-of-type {\n",
              "        vertical-align: middle;\n",
              "    }\n",
              "\n",
              "    .dataframe tbody tr th {\n",
              "        vertical-align: top;\n",
              "    }\n",
              "\n",
              "    .dataframe thead th {\n",
              "        text-align: right;\n",
              "    }\n",
              "</style>\n",
              "<table border=\"1\" class=\"dataframe\">\n",
              "  <thead>\n",
              "    <tr style=\"text-align: right;\">\n",
              "      <th></th>\n",
              "      <th>order_id</th>\n",
              "      <th>quantity</th>\n",
              "      <th>item_name</th>\n",
              "      <th>choice_description</th>\n",
              "      <th>item_price</th>\n",
              "      <th>new_price</th>\n",
              "    </tr>\n",
              "  </thead>\n",
              "  <tbody>\n",
              "    <tr>\n",
              "      <th>0</th>\n",
              "      <td>1</td>\n",
              "      <td>1</td>\n",
              "      <td>Chips and Fresh Tomato Salsa</td>\n",
              "      <td>NoData</td>\n",
              "      <td>$2.39</td>\n",
              "      <td>2.39</td>\n",
              "    </tr>\n",
              "    <tr>\n",
              "      <th>1</th>\n",
              "      <td>1</td>\n",
              "      <td>1</td>\n",
              "      <td>Fizzy Lizzy</td>\n",
              "      <td>[Clementine]</td>\n",
              "      <td>$3.39</td>\n",
              "      <td>3.39</td>\n",
              "    </tr>\n",
              "    <tr>\n",
              "      <th>2</th>\n",
              "      <td>1</td>\n",
              "      <td>1</td>\n",
              "      <td>Nantucket Nectar</td>\n",
              "      <td>[Apple]</td>\n",
              "      <td>$3.39</td>\n",
              "      <td>3.39</td>\n",
              "    </tr>\n",
              "    <tr>\n",
              "      <th>3</th>\n",
              "      <td>1</td>\n",
              "      <td>1</td>\n",
              "      <td>Chips and Tomatillo-Green Chili Salsa</td>\n",
              "      <td>NoData</td>\n",
              "      <td>$2.39</td>\n",
              "      <td>2.39</td>\n",
              "    </tr>\n",
              "    <tr>\n",
              "      <th>4</th>\n",
              "      <td>2</td>\n",
              "      <td>2</td>\n",
              "      <td>Chicken Bowl</td>\n",
              "      <td>[Tomatillo-Red Chili Salsa (Hot), [Black Beans...</td>\n",
              "      <td>$16.98</td>\n",
              "      <td>16.98</td>\n",
              "    </tr>\n",
              "  </tbody>\n",
              "</table>\n",
              "</div>\n",
              "      <button class=\"colab-df-convert\" onclick=\"convertToInteractive('df-d0e38354-b7f4-4f3d-a5e4-9306bf6f4ab0')\"\n",
              "              title=\"Convert this dataframe to an interactive table.\"\n",
              "              style=\"display:none;\">\n",
              "        \n",
              "  <svg xmlns=\"http://www.w3.org/2000/svg\" height=\"24px\"viewBox=\"0 0 24 24\"\n",
              "       width=\"24px\">\n",
              "    <path d=\"M0 0h24v24H0V0z\" fill=\"none\"/>\n",
              "    <path d=\"M18.56 5.44l.94 2.06.94-2.06 2.06-.94-2.06-.94-.94-2.06-.94 2.06-2.06.94zm-11 1L8.5 8.5l.94-2.06 2.06-.94-2.06-.94L8.5 2.5l-.94 2.06-2.06.94zm10 10l.94 2.06.94-2.06 2.06-.94-2.06-.94-.94-2.06-.94 2.06-2.06.94z\"/><path d=\"M17.41 7.96l-1.37-1.37c-.4-.4-.92-.59-1.43-.59-.52 0-1.04.2-1.43.59L10.3 9.45l-7.72 7.72c-.78.78-.78 2.05 0 2.83L4 21.41c.39.39.9.59 1.41.59.51 0 1.02-.2 1.41-.59l7.78-7.78 2.81-2.81c.8-.78.8-2.07 0-2.86zM5.41 20L4 18.59l7.72-7.72 1.47 1.35L5.41 20z\"/>\n",
              "  </svg>\n",
              "      </button>\n",
              "      \n",
              "  <style>\n",
              "    .colab-df-container {\n",
              "      display:flex;\n",
              "      flex-wrap:wrap;\n",
              "      gap: 12px;\n",
              "    }\n",
              "\n",
              "    .colab-df-convert {\n",
              "      background-color: #E8F0FE;\n",
              "      border: none;\n",
              "      border-radius: 50%;\n",
              "      cursor: pointer;\n",
              "      display: none;\n",
              "      fill: #1967D2;\n",
              "      height: 32px;\n",
              "      padding: 0 0 0 0;\n",
              "      width: 32px;\n",
              "    }\n",
              "\n",
              "    .colab-df-convert:hover {\n",
              "      background-color: #E2EBFA;\n",
              "      box-shadow: 0px 1px 2px rgba(60, 64, 67, 0.3), 0px 1px 3px 1px rgba(60, 64, 67, 0.15);\n",
              "      fill: #174EA6;\n",
              "    }\n",
              "\n",
              "    [theme=dark] .colab-df-convert {\n",
              "      background-color: #3B4455;\n",
              "      fill: #D2E3FC;\n",
              "    }\n",
              "\n",
              "    [theme=dark] .colab-df-convert:hover {\n",
              "      background-color: #434B5C;\n",
              "      box-shadow: 0px 1px 3px 1px rgba(0, 0, 0, 0.15);\n",
              "      filter: drop-shadow(0px 1px 2px rgba(0, 0, 0, 0.3));\n",
              "      fill: #FFFFFF;\n",
              "    }\n",
              "  </style>\n",
              "\n",
              "      <script>\n",
              "        const buttonEl =\n",
              "          document.querySelector('#df-d0e38354-b7f4-4f3d-a5e4-9306bf6f4ab0 button.colab-df-convert');\n",
              "        buttonEl.style.display =\n",
              "          google.colab.kernel.accessAllowed ? 'block' : 'none';\n",
              "\n",
              "        async function convertToInteractive(key) {\n",
              "          const element = document.querySelector('#df-d0e38354-b7f4-4f3d-a5e4-9306bf6f4ab0');\n",
              "          const dataTable =\n",
              "            await google.colab.kernel.invokeFunction('convertToInteractive',\n",
              "                                                     [key], {});\n",
              "          if (!dataTable) return;\n",
              "\n",
              "          const docLinkHtml = 'Like what you see? Visit the ' +\n",
              "            '<a target=\"_blank\" href=https://colab.research.google.com/notebooks/data_table.ipynb>data table notebook</a>'\n",
              "            + ' to learn more about interactive tables.';\n",
              "          element.innerHTML = '';\n",
              "          dataTable['output_type'] = 'display_data';\n",
              "          await google.colab.output.renderOutput(dataTable, element);\n",
              "          const docLink = document.createElement('div');\n",
              "          docLink.innerHTML = docLinkHtml;\n",
              "          element.appendChild(docLink);\n",
              "        }\n",
              "      </script>\n",
              "    </div>\n",
              "  </div>\n",
              "  "
            ]
          },
          "metadata": {},
          "execution_count": 80
        }
      ],
      "source": [
        "Ans.head()"
      ]
    },
    {
      "cell_type": "markdown",
      "metadata": {
        "id": "rSiWkYpOf_xl"
      },
      "source": [
        "```{admonition} Question 39\n",
        "**df의 데이터 중 choice_description 값에 Black이 들어가는 경우를 인덱싱하라**\n",
        "```"
      ]
    },
    {
      "cell_type": "markdown",
      "metadata": {
        "id": "cHy1YZ8Mf_xm"
      },
      "source": [
        "```{admonition} 39번 유튜브 풀이\n",
        ":class: dropdown\n",
        "<div style=\"text-align: center\"><iframe width=\"700\" height=\"500\" src=https://www.youtube.com/embed/00rctVVSSoA?start=1095&end=1188></iframe></div>\n",
        "```"
      ]
    },
    {
      "cell_type": "code",
      "execution_count": 81,
      "metadata": {
        "ExecuteTime": {
          "end_time": "2022-02-19T18:22:28.404792Z",
          "start_time": "2022-02-19T18:22:28.399881Z"
        },
        "tags": [
          "hide-input"
        ],
        "id": "AK4ZJ1RYf_xm"
      },
      "outputs": [],
      "source": [
        "Ans = df[df.choice_description.str.contains('Black')]"
      ]
    },
    {
      "cell_type": "code",
      "execution_count": 83,
      "metadata": {
        "ExecuteTime": {
          "end_time": "2022-02-19T18:22:28.413658Z",
          "start_time": "2022-02-19T18:22:28.406059Z"
        },
        "id": "JvGr25tHf_xm",
        "outputId": "198abd02-1bd4-4da5-be55-04fa1ac03393",
        "colab": {
          "base_uri": "https://localhost:8080/",
          "height": 206
        }
      },
      "outputs": [
        {
          "output_type": "execute_result",
          "data": {
            "text/plain": [
              "    order_id  quantity             item_name  \\\n",
              "4          2         2          Chicken Bowl   \n",
              "7          4         1         Steak Burrito   \n",
              "9          5         1         Steak Burrito   \n",
              "11         6         1  Chicken Crispy Tacos   \n",
              "12         6         1    Chicken Soft Tacos   \n",
              "\n",
              "                                   choice_description item_price  new_price  \n",
              "4   [Tomatillo-Red Chili Salsa (Hot), [Black Beans...    $16.98       16.98  \n",
              "7   [Tomatillo Red Chili Salsa, [Fajita Vegetables...    $11.75       11.75  \n",
              "9   [Fresh Tomato Salsa, [Rice, Black Beans, Pinto...     $9.25        9.25  \n",
              "11  [Roasted Chili Corn Salsa, [Fajita Vegetables,...     $8.75        8.75  \n",
              "12  [Roasted Chili Corn Salsa, [Rice, Black Beans,...     $8.75        8.75  "
            ],
            "text/html": [
              "\n",
              "  <div id=\"df-7308a7af-9213-4417-b81a-2eeb3ed619e4\">\n",
              "    <div class=\"colab-df-container\">\n",
              "      <div>\n",
              "<style scoped>\n",
              "    .dataframe tbody tr th:only-of-type {\n",
              "        vertical-align: middle;\n",
              "    }\n",
              "\n",
              "    .dataframe tbody tr th {\n",
              "        vertical-align: top;\n",
              "    }\n",
              "\n",
              "    .dataframe thead th {\n",
              "        text-align: right;\n",
              "    }\n",
              "</style>\n",
              "<table border=\"1\" class=\"dataframe\">\n",
              "  <thead>\n",
              "    <tr style=\"text-align: right;\">\n",
              "      <th></th>\n",
              "      <th>order_id</th>\n",
              "      <th>quantity</th>\n",
              "      <th>item_name</th>\n",
              "      <th>choice_description</th>\n",
              "      <th>item_price</th>\n",
              "      <th>new_price</th>\n",
              "    </tr>\n",
              "  </thead>\n",
              "  <tbody>\n",
              "    <tr>\n",
              "      <th>4</th>\n",
              "      <td>2</td>\n",
              "      <td>2</td>\n",
              "      <td>Chicken Bowl</td>\n",
              "      <td>[Tomatillo-Red Chili Salsa (Hot), [Black Beans...</td>\n",
              "      <td>$16.98</td>\n",
              "      <td>16.98</td>\n",
              "    </tr>\n",
              "    <tr>\n",
              "      <th>7</th>\n",
              "      <td>4</td>\n",
              "      <td>1</td>\n",
              "      <td>Steak Burrito</td>\n",
              "      <td>[Tomatillo Red Chili Salsa, [Fajita Vegetables...</td>\n",
              "      <td>$11.75</td>\n",
              "      <td>11.75</td>\n",
              "    </tr>\n",
              "    <tr>\n",
              "      <th>9</th>\n",
              "      <td>5</td>\n",
              "      <td>1</td>\n",
              "      <td>Steak Burrito</td>\n",
              "      <td>[Fresh Tomato Salsa, [Rice, Black Beans, Pinto...</td>\n",
              "      <td>$9.25</td>\n",
              "      <td>9.25</td>\n",
              "    </tr>\n",
              "    <tr>\n",
              "      <th>11</th>\n",
              "      <td>6</td>\n",
              "      <td>1</td>\n",
              "      <td>Chicken Crispy Tacos</td>\n",
              "      <td>[Roasted Chili Corn Salsa, [Fajita Vegetables,...</td>\n",
              "      <td>$8.75</td>\n",
              "      <td>8.75</td>\n",
              "    </tr>\n",
              "    <tr>\n",
              "      <th>12</th>\n",
              "      <td>6</td>\n",
              "      <td>1</td>\n",
              "      <td>Chicken Soft Tacos</td>\n",
              "      <td>[Roasted Chili Corn Salsa, [Rice, Black Beans,...</td>\n",
              "      <td>$8.75</td>\n",
              "      <td>8.75</td>\n",
              "    </tr>\n",
              "  </tbody>\n",
              "</table>\n",
              "</div>\n",
              "      <button class=\"colab-df-convert\" onclick=\"convertToInteractive('df-7308a7af-9213-4417-b81a-2eeb3ed619e4')\"\n",
              "              title=\"Convert this dataframe to an interactive table.\"\n",
              "              style=\"display:none;\">\n",
              "        \n",
              "  <svg xmlns=\"http://www.w3.org/2000/svg\" height=\"24px\"viewBox=\"0 0 24 24\"\n",
              "       width=\"24px\">\n",
              "    <path d=\"M0 0h24v24H0V0z\" fill=\"none\"/>\n",
              "    <path d=\"M18.56 5.44l.94 2.06.94-2.06 2.06-.94-2.06-.94-.94-2.06-.94 2.06-2.06.94zm-11 1L8.5 8.5l.94-2.06 2.06-.94-2.06-.94L8.5 2.5l-.94 2.06-2.06.94zm10 10l.94 2.06.94-2.06 2.06-.94-2.06-.94-.94-2.06-.94 2.06-2.06.94z\"/><path d=\"M17.41 7.96l-1.37-1.37c-.4-.4-.92-.59-1.43-.59-.52 0-1.04.2-1.43.59L10.3 9.45l-7.72 7.72c-.78.78-.78 2.05 0 2.83L4 21.41c.39.39.9.59 1.41.59.51 0 1.02-.2 1.41-.59l7.78-7.78 2.81-2.81c.8-.78.8-2.07 0-2.86zM5.41 20L4 18.59l7.72-7.72 1.47 1.35L5.41 20z\"/>\n",
              "  </svg>\n",
              "      </button>\n",
              "      \n",
              "  <style>\n",
              "    .colab-df-container {\n",
              "      display:flex;\n",
              "      flex-wrap:wrap;\n",
              "      gap: 12px;\n",
              "    }\n",
              "\n",
              "    .colab-df-convert {\n",
              "      background-color: #E8F0FE;\n",
              "      border: none;\n",
              "      border-radius: 50%;\n",
              "      cursor: pointer;\n",
              "      display: none;\n",
              "      fill: #1967D2;\n",
              "      height: 32px;\n",
              "      padding: 0 0 0 0;\n",
              "      width: 32px;\n",
              "    }\n",
              "\n",
              "    .colab-df-convert:hover {\n",
              "      background-color: #E2EBFA;\n",
              "      box-shadow: 0px 1px 2px rgba(60, 64, 67, 0.3), 0px 1px 3px 1px rgba(60, 64, 67, 0.15);\n",
              "      fill: #174EA6;\n",
              "    }\n",
              "\n",
              "    [theme=dark] .colab-df-convert {\n",
              "      background-color: #3B4455;\n",
              "      fill: #D2E3FC;\n",
              "    }\n",
              "\n",
              "    [theme=dark] .colab-df-convert:hover {\n",
              "      background-color: #434B5C;\n",
              "      box-shadow: 0px 1px 3px 1px rgba(0, 0, 0, 0.15);\n",
              "      filter: drop-shadow(0px 1px 2px rgba(0, 0, 0, 0.3));\n",
              "      fill: #FFFFFF;\n",
              "    }\n",
              "  </style>\n",
              "\n",
              "      <script>\n",
              "        const buttonEl =\n",
              "          document.querySelector('#df-7308a7af-9213-4417-b81a-2eeb3ed619e4 button.colab-df-convert');\n",
              "        buttonEl.style.display =\n",
              "          google.colab.kernel.accessAllowed ? 'block' : 'none';\n",
              "\n",
              "        async function convertToInteractive(key) {\n",
              "          const element = document.querySelector('#df-7308a7af-9213-4417-b81a-2eeb3ed619e4');\n",
              "          const dataTable =\n",
              "            await google.colab.kernel.invokeFunction('convertToInteractive',\n",
              "                                                     [key], {});\n",
              "          if (!dataTable) return;\n",
              "\n",
              "          const docLinkHtml = 'Like what you see? Visit the ' +\n",
              "            '<a target=\"_blank\" href=https://colab.research.google.com/notebooks/data_table.ipynb>data table notebook</a>'\n",
              "            + ' to learn more about interactive tables.';\n",
              "          element.innerHTML = '';\n",
              "          dataTable['output_type'] = 'display_data';\n",
              "          await google.colab.output.renderOutput(dataTable, element);\n",
              "          const docLink = document.createElement('div');\n",
              "          docLink.innerHTML = docLinkHtml;\n",
              "          element.appendChild(docLink);\n",
              "        }\n",
              "      </script>\n",
              "    </div>\n",
              "  </div>\n",
              "  "
            ]
          },
          "metadata": {},
          "execution_count": 83
        }
      ],
      "source": [
        "Ans.head(5)"
      ]
    },
    {
      "cell_type": "markdown",
      "metadata": {
        "id": "DioN9vL5f_xm"
      },
      "source": [
        "```{admonition} Question 40\n",
        "**df의 데이터 중 choice_description 값에 Vegetables 들어가지 않는 경우의 갯수를 출력하라**\n",
        "```"
      ]
    },
    {
      "cell_type": "markdown",
      "metadata": {
        "id": "ZPMJGUmmf_xm"
      },
      "source": [
        "```{admonition} 40번 유튜브 풀이\n",
        ":class: dropdown\n",
        "<div style=\"text-align: center\"><iframe width=\"700\" height=\"500\" src=https://www.youtube.com/embed/00rctVVSSoA?start=1190&end=1323></iframe></div>\n",
        "```\n"
      ]
    },
    {
      "cell_type": "code",
      "execution_count": 88,
      "metadata": {
        "ExecuteTime": {
          "end_time": "2022-02-19T18:22:28.419596Z",
          "start_time": "2022-02-19T18:22:28.414950Z"
        },
        "tags": [
          "hide-input"
        ],
        "id": "7KjqVBhpf_xm"
      },
      "outputs": [],
      "source": [
        "Ans = len(df.loc[~df.choice_description.str.contains('Vegetables')])"
      ]
    },
    {
      "cell_type": "code",
      "execution_count": 89,
      "metadata": {
        "ExecuteTime": {
          "end_time": "2022-02-19T18:22:28.423679Z",
          "start_time": "2022-02-19T18:22:28.420851Z"
        },
        "id": "Gzn__zLMf_xn",
        "outputId": "e29a3618-37ba-4f8b-c713-a46300b2d5f7",
        "colab": {
          "base_uri": "https://localhost:8080/"
        }
      },
      "outputs": [
        {
          "output_type": "execute_result",
          "data": {
            "text/plain": [
              "3900"
            ]
          },
          "metadata": {},
          "execution_count": 89
        }
      ],
      "source": [
        "Ans"
      ]
    },
    {
      "cell_type": "markdown",
      "metadata": {
        "id": "0cWySpeVf_xn"
      },
      "source": [
        "```{admonition} Question 41\n",
        "**df의 데이터 중 item_name 값이 N으로 시작하는 데이터를 모두 추출하라**\n",
        "```"
      ]
    },
    {
      "cell_type": "markdown",
      "metadata": {
        "id": "yA1WYTlLf_xn"
      },
      "source": [
        "```{admonition} 41번 유튜브 풀이\n",
        ":class: dropdown\n",
        "<div style=\"text-align: center\"><iframe width=\"700\" height=\"500\" src=https://www.youtube.com/embed/00rctVVSSoA?start=1325&end=1498></iframe></div>\n",
        "```"
      ]
    },
    {
      "cell_type": "code",
      "execution_count": 93,
      "metadata": {
        "ExecuteTime": {
          "end_time": "2022-02-19T18:22:28.429035Z",
          "start_time": "2022-02-19T18:22:28.424928Z"
        },
        "scrolled": true,
        "tags": [
          "hide-input"
        ],
        "id": "JUQFrXUbf_xn"
      },
      "outputs": [],
      "source": [
        "Ans = df[df.item_name.str.startswith('N')]"
      ]
    },
    {
      "cell_type": "code",
      "execution_count": 94,
      "metadata": {
        "ExecuteTime": {
          "end_time": "2022-02-19T18:22:28.452510Z",
          "start_time": "2022-02-19T18:22:28.445337Z"
        },
        "id": "7YddCBJPf_xn",
        "outputId": "14b60138-d145-4636-9ccd-3bc805e41472",
        "colab": {
          "base_uri": "https://localhost:8080/",
          "height": 143
        }
      },
      "outputs": [
        {
          "output_type": "execute_result",
          "data": {
            "text/plain": [
              "     order_id  quantity         item_name         choice_description  \\\n",
              "2           1         1  Nantucket Nectar                    [Apple]   \n",
              "22         11         1  Nantucket Nectar       [Pomegranate Cherry]   \n",
              "105        46         1  Nantucket Nectar  [Pineapple Orange Banana]   \n",
              "\n",
              "    item_price  new_price  \n",
              "2       $3.39        3.39  \n",
              "22      $3.39        3.39  \n",
              "105     $3.39        3.39  "
            ],
            "text/html": [
              "\n",
              "  <div id=\"df-6d10f2d5-093b-456f-80d6-cc7c5c730384\">\n",
              "    <div class=\"colab-df-container\">\n",
              "      <div>\n",
              "<style scoped>\n",
              "    .dataframe tbody tr th:only-of-type {\n",
              "        vertical-align: middle;\n",
              "    }\n",
              "\n",
              "    .dataframe tbody tr th {\n",
              "        vertical-align: top;\n",
              "    }\n",
              "\n",
              "    .dataframe thead th {\n",
              "        text-align: right;\n",
              "    }\n",
              "</style>\n",
              "<table border=\"1\" class=\"dataframe\">\n",
              "  <thead>\n",
              "    <tr style=\"text-align: right;\">\n",
              "      <th></th>\n",
              "      <th>order_id</th>\n",
              "      <th>quantity</th>\n",
              "      <th>item_name</th>\n",
              "      <th>choice_description</th>\n",
              "      <th>item_price</th>\n",
              "      <th>new_price</th>\n",
              "    </tr>\n",
              "  </thead>\n",
              "  <tbody>\n",
              "    <tr>\n",
              "      <th>2</th>\n",
              "      <td>1</td>\n",
              "      <td>1</td>\n",
              "      <td>Nantucket Nectar</td>\n",
              "      <td>[Apple]</td>\n",
              "      <td>$3.39</td>\n",
              "      <td>3.39</td>\n",
              "    </tr>\n",
              "    <tr>\n",
              "      <th>22</th>\n",
              "      <td>11</td>\n",
              "      <td>1</td>\n",
              "      <td>Nantucket Nectar</td>\n",
              "      <td>[Pomegranate Cherry]</td>\n",
              "      <td>$3.39</td>\n",
              "      <td>3.39</td>\n",
              "    </tr>\n",
              "    <tr>\n",
              "      <th>105</th>\n",
              "      <td>46</td>\n",
              "      <td>1</td>\n",
              "      <td>Nantucket Nectar</td>\n",
              "      <td>[Pineapple Orange Banana]</td>\n",
              "      <td>$3.39</td>\n",
              "      <td>3.39</td>\n",
              "    </tr>\n",
              "  </tbody>\n",
              "</table>\n",
              "</div>\n",
              "      <button class=\"colab-df-convert\" onclick=\"convertToInteractive('df-6d10f2d5-093b-456f-80d6-cc7c5c730384')\"\n",
              "              title=\"Convert this dataframe to an interactive table.\"\n",
              "              style=\"display:none;\">\n",
              "        \n",
              "  <svg xmlns=\"http://www.w3.org/2000/svg\" height=\"24px\"viewBox=\"0 0 24 24\"\n",
              "       width=\"24px\">\n",
              "    <path d=\"M0 0h24v24H0V0z\" fill=\"none\"/>\n",
              "    <path d=\"M18.56 5.44l.94 2.06.94-2.06 2.06-.94-2.06-.94-.94-2.06-.94 2.06-2.06.94zm-11 1L8.5 8.5l.94-2.06 2.06-.94-2.06-.94L8.5 2.5l-.94 2.06-2.06.94zm10 10l.94 2.06.94-2.06 2.06-.94-2.06-.94-.94-2.06-.94 2.06-2.06.94z\"/><path d=\"M17.41 7.96l-1.37-1.37c-.4-.4-.92-.59-1.43-.59-.52 0-1.04.2-1.43.59L10.3 9.45l-7.72 7.72c-.78.78-.78 2.05 0 2.83L4 21.41c.39.39.9.59 1.41.59.51 0 1.02-.2 1.41-.59l7.78-7.78 2.81-2.81c.8-.78.8-2.07 0-2.86zM5.41 20L4 18.59l7.72-7.72 1.47 1.35L5.41 20z\"/>\n",
              "  </svg>\n",
              "      </button>\n",
              "      \n",
              "  <style>\n",
              "    .colab-df-container {\n",
              "      display:flex;\n",
              "      flex-wrap:wrap;\n",
              "      gap: 12px;\n",
              "    }\n",
              "\n",
              "    .colab-df-convert {\n",
              "      background-color: #E8F0FE;\n",
              "      border: none;\n",
              "      border-radius: 50%;\n",
              "      cursor: pointer;\n",
              "      display: none;\n",
              "      fill: #1967D2;\n",
              "      height: 32px;\n",
              "      padding: 0 0 0 0;\n",
              "      width: 32px;\n",
              "    }\n",
              "\n",
              "    .colab-df-convert:hover {\n",
              "      background-color: #E2EBFA;\n",
              "      box-shadow: 0px 1px 2px rgba(60, 64, 67, 0.3), 0px 1px 3px 1px rgba(60, 64, 67, 0.15);\n",
              "      fill: #174EA6;\n",
              "    }\n",
              "\n",
              "    [theme=dark] .colab-df-convert {\n",
              "      background-color: #3B4455;\n",
              "      fill: #D2E3FC;\n",
              "    }\n",
              "\n",
              "    [theme=dark] .colab-df-convert:hover {\n",
              "      background-color: #434B5C;\n",
              "      box-shadow: 0px 1px 3px 1px rgba(0, 0, 0, 0.15);\n",
              "      filter: drop-shadow(0px 1px 2px rgba(0, 0, 0, 0.3));\n",
              "      fill: #FFFFFF;\n",
              "    }\n",
              "  </style>\n",
              "\n",
              "      <script>\n",
              "        const buttonEl =\n",
              "          document.querySelector('#df-6d10f2d5-093b-456f-80d6-cc7c5c730384 button.colab-df-convert');\n",
              "        buttonEl.style.display =\n",
              "          google.colab.kernel.accessAllowed ? 'block' : 'none';\n",
              "\n",
              "        async function convertToInteractive(key) {\n",
              "          const element = document.querySelector('#df-6d10f2d5-093b-456f-80d6-cc7c5c730384');\n",
              "          const dataTable =\n",
              "            await google.colab.kernel.invokeFunction('convertToInteractive',\n",
              "                                                     [key], {});\n",
              "          if (!dataTable) return;\n",
              "\n",
              "          const docLinkHtml = 'Like what you see? Visit the ' +\n",
              "            '<a target=\"_blank\" href=https://colab.research.google.com/notebooks/data_table.ipynb>data table notebook</a>'\n",
              "            + ' to learn more about interactive tables.';\n",
              "          element.innerHTML = '';\n",
              "          dataTable['output_type'] = 'display_data';\n",
              "          await google.colab.output.renderOutput(dataTable, element);\n",
              "          const docLink = document.createElement('div');\n",
              "          docLink.innerHTML = docLinkHtml;\n",
              "          element.appendChild(docLink);\n",
              "        }\n",
              "      </script>\n",
              "    </div>\n",
              "  </div>\n",
              "  "
            ]
          },
          "metadata": {},
          "execution_count": 94
        }
      ],
      "source": [
        "Ans.head(3)"
      ]
    },
    {
      "cell_type": "markdown",
      "metadata": {
        "id": "TebDSMf_f_xn"
      },
      "source": [
        "```{admonition} Question 42\n",
        "**df의 데이터 중 item_name 값의 단어갯수가 15개 이상인 데이터를 인덱싱하라**\n",
        "```"
      ]
    },
    {
      "cell_type": "markdown",
      "metadata": {
        "id": "8xlq8kBJf_xo"
      },
      "source": [
        "\n",
        "```{admonition} 42번 유튜브 풀이\n",
        ":class: dropdown\n",
        "<div style=\"text-align: center\"><iframe width=\"700\" height=\"500\" src=https://www.youtube.com/embed/00rctVVSSoA?start=1500&end=1688></iframe></div>\n",
        "```"
      ]
    },
    {
      "cell_type": "code",
      "execution_count": 98,
      "metadata": {
        "ExecuteTime": {
          "end_time": "2022-02-19T18:22:28.457840Z",
          "start_time": "2022-02-19T18:22:28.453611Z"
        },
        "tags": [
          "hide-input"
        ],
        "id": "F1EoJeyxf_xo"
      },
      "outputs": [],
      "source": [
        "Ans= df[df.item_name.str.len() >=15]"
      ]
    },
    {
      "cell_type": "code",
      "execution_count": 99,
      "metadata": {
        "ExecuteTime": {
          "end_time": "2022-02-19T18:22:28.465958Z",
          "start_time": "2022-02-19T18:22:28.459118Z"
        },
        "id": "fuL8AB3rf_xo",
        "outputId": "6a734c54-c854-4ef5-df79-bf7b01eb3016",
        "colab": {
          "base_uri": "https://localhost:8080/",
          "height": 143
        }
      },
      "outputs": [
        {
          "output_type": "execute_result",
          "data": {
            "text/plain": [
              "   order_id  quantity                              item_name  \\\n",
              "0         1         1           Chips and Fresh Tomato Salsa   \n",
              "2         1         1                       Nantucket Nectar   \n",
              "3         1         1  Chips and Tomatillo-Green Chili Salsa   \n",
              "\n",
              "  choice_description item_price  new_price  \n",
              "0             NoData     $2.39        2.39  \n",
              "2            [Apple]     $3.39        3.39  \n",
              "3             NoData     $2.39        2.39  "
            ],
            "text/html": [
              "\n",
              "  <div id=\"df-80bf4e10-c014-4efb-a4a3-b8fc71547579\">\n",
              "    <div class=\"colab-df-container\">\n",
              "      <div>\n",
              "<style scoped>\n",
              "    .dataframe tbody tr th:only-of-type {\n",
              "        vertical-align: middle;\n",
              "    }\n",
              "\n",
              "    .dataframe tbody tr th {\n",
              "        vertical-align: top;\n",
              "    }\n",
              "\n",
              "    .dataframe thead th {\n",
              "        text-align: right;\n",
              "    }\n",
              "</style>\n",
              "<table border=\"1\" class=\"dataframe\">\n",
              "  <thead>\n",
              "    <tr style=\"text-align: right;\">\n",
              "      <th></th>\n",
              "      <th>order_id</th>\n",
              "      <th>quantity</th>\n",
              "      <th>item_name</th>\n",
              "      <th>choice_description</th>\n",
              "      <th>item_price</th>\n",
              "      <th>new_price</th>\n",
              "    </tr>\n",
              "  </thead>\n",
              "  <tbody>\n",
              "    <tr>\n",
              "      <th>0</th>\n",
              "      <td>1</td>\n",
              "      <td>1</td>\n",
              "      <td>Chips and Fresh Tomato Salsa</td>\n",
              "      <td>NoData</td>\n",
              "      <td>$2.39</td>\n",
              "      <td>2.39</td>\n",
              "    </tr>\n",
              "    <tr>\n",
              "      <th>2</th>\n",
              "      <td>1</td>\n",
              "      <td>1</td>\n",
              "      <td>Nantucket Nectar</td>\n",
              "      <td>[Apple]</td>\n",
              "      <td>$3.39</td>\n",
              "      <td>3.39</td>\n",
              "    </tr>\n",
              "    <tr>\n",
              "      <th>3</th>\n",
              "      <td>1</td>\n",
              "      <td>1</td>\n",
              "      <td>Chips and Tomatillo-Green Chili Salsa</td>\n",
              "      <td>NoData</td>\n",
              "      <td>$2.39</td>\n",
              "      <td>2.39</td>\n",
              "    </tr>\n",
              "  </tbody>\n",
              "</table>\n",
              "</div>\n",
              "      <button class=\"colab-df-convert\" onclick=\"convertToInteractive('df-80bf4e10-c014-4efb-a4a3-b8fc71547579')\"\n",
              "              title=\"Convert this dataframe to an interactive table.\"\n",
              "              style=\"display:none;\">\n",
              "        \n",
              "  <svg xmlns=\"http://www.w3.org/2000/svg\" height=\"24px\"viewBox=\"0 0 24 24\"\n",
              "       width=\"24px\">\n",
              "    <path d=\"M0 0h24v24H0V0z\" fill=\"none\"/>\n",
              "    <path d=\"M18.56 5.44l.94 2.06.94-2.06 2.06-.94-2.06-.94-.94-2.06-.94 2.06-2.06.94zm-11 1L8.5 8.5l.94-2.06 2.06-.94-2.06-.94L8.5 2.5l-.94 2.06-2.06.94zm10 10l.94 2.06.94-2.06 2.06-.94-2.06-.94-.94-2.06-.94 2.06-2.06.94z\"/><path d=\"M17.41 7.96l-1.37-1.37c-.4-.4-.92-.59-1.43-.59-.52 0-1.04.2-1.43.59L10.3 9.45l-7.72 7.72c-.78.78-.78 2.05 0 2.83L4 21.41c.39.39.9.59 1.41.59.51 0 1.02-.2 1.41-.59l7.78-7.78 2.81-2.81c.8-.78.8-2.07 0-2.86zM5.41 20L4 18.59l7.72-7.72 1.47 1.35L5.41 20z\"/>\n",
              "  </svg>\n",
              "      </button>\n",
              "      \n",
              "  <style>\n",
              "    .colab-df-container {\n",
              "      display:flex;\n",
              "      flex-wrap:wrap;\n",
              "      gap: 12px;\n",
              "    }\n",
              "\n",
              "    .colab-df-convert {\n",
              "      background-color: #E8F0FE;\n",
              "      border: none;\n",
              "      border-radius: 50%;\n",
              "      cursor: pointer;\n",
              "      display: none;\n",
              "      fill: #1967D2;\n",
              "      height: 32px;\n",
              "      padding: 0 0 0 0;\n",
              "      width: 32px;\n",
              "    }\n",
              "\n",
              "    .colab-df-convert:hover {\n",
              "      background-color: #E2EBFA;\n",
              "      box-shadow: 0px 1px 2px rgba(60, 64, 67, 0.3), 0px 1px 3px 1px rgba(60, 64, 67, 0.15);\n",
              "      fill: #174EA6;\n",
              "    }\n",
              "\n",
              "    [theme=dark] .colab-df-convert {\n",
              "      background-color: #3B4455;\n",
              "      fill: #D2E3FC;\n",
              "    }\n",
              "\n",
              "    [theme=dark] .colab-df-convert:hover {\n",
              "      background-color: #434B5C;\n",
              "      box-shadow: 0px 1px 3px 1px rgba(0, 0, 0, 0.15);\n",
              "      filter: drop-shadow(0px 1px 2px rgba(0, 0, 0, 0.3));\n",
              "      fill: #FFFFFF;\n",
              "    }\n",
              "  </style>\n",
              "\n",
              "      <script>\n",
              "        const buttonEl =\n",
              "          document.querySelector('#df-80bf4e10-c014-4efb-a4a3-b8fc71547579 button.colab-df-convert');\n",
              "        buttonEl.style.display =\n",
              "          google.colab.kernel.accessAllowed ? 'block' : 'none';\n",
              "\n",
              "        async function convertToInteractive(key) {\n",
              "          const element = document.querySelector('#df-80bf4e10-c014-4efb-a4a3-b8fc71547579');\n",
              "          const dataTable =\n",
              "            await google.colab.kernel.invokeFunction('convertToInteractive',\n",
              "                                                     [key], {});\n",
              "          if (!dataTable) return;\n",
              "\n",
              "          const docLinkHtml = 'Like what you see? Visit the ' +\n",
              "            '<a target=\"_blank\" href=https://colab.research.google.com/notebooks/data_table.ipynb>data table notebook</a>'\n",
              "            + ' to learn more about interactive tables.';\n",
              "          element.innerHTML = '';\n",
              "          dataTable['output_type'] = 'display_data';\n",
              "          await google.colab.output.renderOutput(dataTable, element);\n",
              "          const docLink = document.createElement('div');\n",
              "          docLink.innerHTML = docLinkHtml;\n",
              "          element.appendChild(docLink);\n",
              "        }\n",
              "      </script>\n",
              "    </div>\n",
              "  </div>\n",
              "  "
            ]
          },
          "metadata": {},
          "execution_count": 99
        }
      ],
      "source": [
        "Ans.head(3)"
      ]
    },
    {
      "cell_type": "markdown",
      "metadata": {
        "id": "qQgGRm5Uf_xp"
      },
      "source": [
        "```{admonition} Question 43\n",
        "**df의 데이터 중 new_price값이 lst에 해당하는 경우의 데이터 프레임을 구하고 그 갯수를 출력하라**\n",
        "lst =[1.69, 2.39, 3.39, 4.45, 9.25, 10.98, 11.75, 16.98]\n",
        "```"
      ]
    },
    {
      "cell_type": "markdown",
      "metadata": {
        "id": "-YanJBAFf_xt"
      },
      "source": [
        "```{admonition} 43번 유튜브 풀이\n",
        ":class: dropdown\n",
        "<div style=\"text-align: center\"><iframe width=\"700\" height=\"500\" src=https://www.youtube.com/embed/00rctVVSSoA?start=1690&end=1836></iframe></div>\n",
        "```"
      ]
    },
    {
      "cell_type": "code",
      "execution_count": 109,
      "metadata": {
        "ExecuteTime": {
          "end_time": "2022-02-19T18:22:28.470500Z",
          "start_time": "2022-02-19T18:22:28.467323Z"
        },
        "id": "iQGtfOFUf_xv"
      },
      "outputs": [],
      "source": [
        "lst =[1.69, 2.39, 3.39, 4.45, 9.25, 10.98, 11.75, 16.98]\n",
        "\n",
        "Ans = df.loc[df.new_price.isin(lst)]"
      ]
    },
    {
      "cell_type": "code",
      "execution_count": 110,
      "metadata": {
        "ExecuteTime": {
          "end_time": "2022-02-19T18:22:28.482634Z",
          "start_time": "2022-02-19T18:22:28.471545Z"
        },
        "id": "5HyCbn0Uf_xx",
        "outputId": "90168572-0568-4ca1-e5c7-218d66b35c4a",
        "colab": {
          "base_uri": "https://localhost:8080/",
          "height": 162
        }
      },
      "outputs": [
        {
          "output_type": "display_data",
          "data": {
            "text/plain": [
              "   order_id  quantity                     item_name choice_description  \\\n",
              "0         1         1  Chips and Fresh Tomato Salsa             NoData   \n",
              "1         1         1                   Fizzy Lizzy       [Clementine]   \n",
              "2         1         1              Nantucket Nectar            [Apple]   \n",
              "\n",
              "  item_price  new_price  \n",
              "0     $2.39        2.39  \n",
              "1     $3.39        3.39  \n",
              "2     $3.39        3.39  "
            ],
            "text/html": [
              "\n",
              "  <div id=\"df-111a49df-515f-413d-a4e1-1f63548feb84\">\n",
              "    <div class=\"colab-df-container\">\n",
              "      <div>\n",
              "<style scoped>\n",
              "    .dataframe tbody tr th:only-of-type {\n",
              "        vertical-align: middle;\n",
              "    }\n",
              "\n",
              "    .dataframe tbody tr th {\n",
              "        vertical-align: top;\n",
              "    }\n",
              "\n",
              "    .dataframe thead th {\n",
              "        text-align: right;\n",
              "    }\n",
              "</style>\n",
              "<table border=\"1\" class=\"dataframe\">\n",
              "  <thead>\n",
              "    <tr style=\"text-align: right;\">\n",
              "      <th></th>\n",
              "      <th>order_id</th>\n",
              "      <th>quantity</th>\n",
              "      <th>item_name</th>\n",
              "      <th>choice_description</th>\n",
              "      <th>item_price</th>\n",
              "      <th>new_price</th>\n",
              "    </tr>\n",
              "  </thead>\n",
              "  <tbody>\n",
              "    <tr>\n",
              "      <th>0</th>\n",
              "      <td>1</td>\n",
              "      <td>1</td>\n",
              "      <td>Chips and Fresh Tomato Salsa</td>\n",
              "      <td>NoData</td>\n",
              "      <td>$2.39</td>\n",
              "      <td>2.39</td>\n",
              "    </tr>\n",
              "    <tr>\n",
              "      <th>1</th>\n",
              "      <td>1</td>\n",
              "      <td>1</td>\n",
              "      <td>Fizzy Lizzy</td>\n",
              "      <td>[Clementine]</td>\n",
              "      <td>$3.39</td>\n",
              "      <td>3.39</td>\n",
              "    </tr>\n",
              "    <tr>\n",
              "      <th>2</th>\n",
              "      <td>1</td>\n",
              "      <td>1</td>\n",
              "      <td>Nantucket Nectar</td>\n",
              "      <td>[Apple]</td>\n",
              "      <td>$3.39</td>\n",
              "      <td>3.39</td>\n",
              "    </tr>\n",
              "  </tbody>\n",
              "</table>\n",
              "</div>\n",
              "      <button class=\"colab-df-convert\" onclick=\"convertToInteractive('df-111a49df-515f-413d-a4e1-1f63548feb84')\"\n",
              "              title=\"Convert this dataframe to an interactive table.\"\n",
              "              style=\"display:none;\">\n",
              "        \n",
              "  <svg xmlns=\"http://www.w3.org/2000/svg\" height=\"24px\"viewBox=\"0 0 24 24\"\n",
              "       width=\"24px\">\n",
              "    <path d=\"M0 0h24v24H0V0z\" fill=\"none\"/>\n",
              "    <path d=\"M18.56 5.44l.94 2.06.94-2.06 2.06-.94-2.06-.94-.94-2.06-.94 2.06-2.06.94zm-11 1L8.5 8.5l.94-2.06 2.06-.94-2.06-.94L8.5 2.5l-.94 2.06-2.06.94zm10 10l.94 2.06.94-2.06 2.06-.94-2.06-.94-.94-2.06-.94 2.06-2.06.94z\"/><path d=\"M17.41 7.96l-1.37-1.37c-.4-.4-.92-.59-1.43-.59-.52 0-1.04.2-1.43.59L10.3 9.45l-7.72 7.72c-.78.78-.78 2.05 0 2.83L4 21.41c.39.39.9.59 1.41.59.51 0 1.02-.2 1.41-.59l7.78-7.78 2.81-2.81c.8-.78.8-2.07 0-2.86zM5.41 20L4 18.59l7.72-7.72 1.47 1.35L5.41 20z\"/>\n",
              "  </svg>\n",
              "      </button>\n",
              "      \n",
              "  <style>\n",
              "    .colab-df-container {\n",
              "      display:flex;\n",
              "      flex-wrap:wrap;\n",
              "      gap: 12px;\n",
              "    }\n",
              "\n",
              "    .colab-df-convert {\n",
              "      background-color: #E8F0FE;\n",
              "      border: none;\n",
              "      border-radius: 50%;\n",
              "      cursor: pointer;\n",
              "      display: none;\n",
              "      fill: #1967D2;\n",
              "      height: 32px;\n",
              "      padding: 0 0 0 0;\n",
              "      width: 32px;\n",
              "    }\n",
              "\n",
              "    .colab-df-convert:hover {\n",
              "      background-color: #E2EBFA;\n",
              "      box-shadow: 0px 1px 2px rgba(60, 64, 67, 0.3), 0px 1px 3px 1px rgba(60, 64, 67, 0.15);\n",
              "      fill: #174EA6;\n",
              "    }\n",
              "\n",
              "    [theme=dark] .colab-df-convert {\n",
              "      background-color: #3B4455;\n",
              "      fill: #D2E3FC;\n",
              "    }\n",
              "\n",
              "    [theme=dark] .colab-df-convert:hover {\n",
              "      background-color: #434B5C;\n",
              "      box-shadow: 0px 1px 3px 1px rgba(0, 0, 0, 0.15);\n",
              "      filter: drop-shadow(0px 1px 2px rgba(0, 0, 0, 0.3));\n",
              "      fill: #FFFFFF;\n",
              "    }\n",
              "  </style>\n",
              "\n",
              "      <script>\n",
              "        const buttonEl =\n",
              "          document.querySelector('#df-111a49df-515f-413d-a4e1-1f63548feb84 button.colab-df-convert');\n",
              "        buttonEl.style.display =\n",
              "          google.colab.kernel.accessAllowed ? 'block' : 'none';\n",
              "\n",
              "        async function convertToInteractive(key) {\n",
              "          const element = document.querySelector('#df-111a49df-515f-413d-a4e1-1f63548feb84');\n",
              "          const dataTable =\n",
              "            await google.colab.kernel.invokeFunction('convertToInteractive',\n",
              "                                                     [key], {});\n",
              "          if (!dataTable) return;\n",
              "\n",
              "          const docLinkHtml = 'Like what you see? Visit the ' +\n",
              "            '<a target=\"_blank\" href=https://colab.research.google.com/notebooks/data_table.ipynb>data table notebook</a>'\n",
              "            + ' to learn more about interactive tables.';\n",
              "          element.innerHTML = '';\n",
              "          dataTable['output_type'] = 'display_data';\n",
              "          await google.colab.output.renderOutput(dataTable, element);\n",
              "          const docLink = document.createElement('div');\n",
              "          docLink.innerHTML = docLinkHtml;\n",
              "          element.appendChild(docLink);\n",
              "        }\n",
              "      </script>\n",
              "    </div>\n",
              "  </div>\n",
              "  "
            ]
          },
          "metadata": {}
        },
        {
          "output_type": "stream",
          "name": "stdout",
          "text": [
            "1393\n"
          ]
        }
      ],
      "source": [
        "display(Ans.head(3))\n",
        "print(len(Ans))"
      ]
    },
    {
      "cell_type": "markdown",
      "metadata": {
        "id": "dqhcsXKef_x0"
      },
      "source": [
        "## 03_Grouping"
      ]
    },
    {
      "cell_type": "markdown",
      "metadata": {
        "id": "h8zRLsJof_x2"
      },
      "source": [
        "```{attention} \n",
        "뉴욕 airBnB : https://www.kaggle.com/ptoscano230382/air-bnb-ny-2019\n",
        "**DataUrl = 'https://raw.githubusercontent.com/Datamanim/pandas/main/AB_NYC_2019.csv'**\n",
        "```"
      ]
    },
    {
      "cell_type": "markdown",
      "metadata": {
        "id": "AqOZmdFOf_x2"
      },
      "source": [
        "```{admonition} Question 44\n",
        "**데이터를 로드하고 상위 5개 컬럼을 출력하라**\n",
        "```"
      ]
    },
    {
      "cell_type": "markdown",
      "metadata": {
        "id": "s7iSjvMvf_x2"
      },
      "source": [
        "```{admonition} 44번 유튜브 풀이\n",
        ":class: dropdown\n",
        "<div style=\"text-align: center\"><iframe width=\"700\" height=\"500\" src=https://www.youtube.com/embed/00rctVVSSoA?start=1838&end=1858></iframe></div>\n",
        "```"
      ]
    },
    {
      "cell_type": "code",
      "execution_count": 111,
      "metadata": {
        "ExecuteTime": {
          "end_time": "2022-02-19T18:22:28.981972Z",
          "start_time": "2022-02-19T18:22:28.483852Z"
        },
        "id": "zN0muSqjf_x2"
      },
      "outputs": [],
      "source": [
        "df= pd.read_csv('https://raw.githubusercontent.com/Datamanim/pandas/main/AB_NYC_2019.csv')\n",
        "\n",
        "Ans =df.head(5)"
      ]
    },
    {
      "cell_type": "code",
      "execution_count": 112,
      "metadata": {
        "ExecuteTime": {
          "end_time": "2022-02-19T18:22:28.994976Z",
          "start_time": "2022-02-19T18:22:28.983330Z"
        },
        "id": "y1_CO6dJf_x2",
        "outputId": "f172f7e1-3983-44eb-a196-d6cdaa9b9bca",
        "colab": {
          "base_uri": "https://localhost:8080/",
          "height": 461
        }
      },
      "outputs": [
        {
          "output_type": "execute_result",
          "data": {
            "text/plain": [
              "     id                                              name  host_id  \\\n",
              "0  2539                Clean & quiet apt home by the park     2787   \n",
              "1  2595                             Skylit Midtown Castle     2845   \n",
              "2  3647               THE VILLAGE OF HARLEM....NEW YORK !     4632   \n",
              "3  3831                   Cozy Entire Floor of Brownstone     4869   \n",
              "4  5022  Entire Apt: Spacious Studio/Loft by central park     7192   \n",
              "\n",
              "     host_name neighbourhood_group neighbourhood  latitude  longitude  \\\n",
              "0         John            Brooklyn    Kensington  40.64749  -73.97237   \n",
              "1     Jennifer           Manhattan       Midtown  40.75362  -73.98377   \n",
              "2    Elisabeth           Manhattan        Harlem  40.80902  -73.94190   \n",
              "3  LisaRoxanne            Brooklyn  Clinton Hill  40.68514  -73.95976   \n",
              "4        Laura           Manhattan   East Harlem  40.79851  -73.94399   \n",
              "\n",
              "         room_type  price  minimum_nights  number_of_reviews last_review  \\\n",
              "0     Private room    149               1                  9  2018-10-19   \n",
              "1  Entire home/apt    225               1                 45  2019-05-21   \n",
              "2     Private room    150               3                  0         NaN   \n",
              "3  Entire home/apt     89               1                270  2019-07-05   \n",
              "4  Entire home/apt     80              10                  9  2018-11-19   \n",
              "\n",
              "   reviews_per_month  calculated_host_listings_count  availability_365  \n",
              "0               0.21                               6               365  \n",
              "1               0.38                               2               355  \n",
              "2                NaN                               1               365  \n",
              "3               4.64                               1               194  \n",
              "4               0.10                               1                 0  "
            ],
            "text/html": [
              "\n",
              "  <div id=\"df-a8f98ccd-e3c6-436f-8378-1e22232fa98b\">\n",
              "    <div class=\"colab-df-container\">\n",
              "      <div>\n",
              "<style scoped>\n",
              "    .dataframe tbody tr th:only-of-type {\n",
              "        vertical-align: middle;\n",
              "    }\n",
              "\n",
              "    .dataframe tbody tr th {\n",
              "        vertical-align: top;\n",
              "    }\n",
              "\n",
              "    .dataframe thead th {\n",
              "        text-align: right;\n",
              "    }\n",
              "</style>\n",
              "<table border=\"1\" class=\"dataframe\">\n",
              "  <thead>\n",
              "    <tr style=\"text-align: right;\">\n",
              "      <th></th>\n",
              "      <th>id</th>\n",
              "      <th>name</th>\n",
              "      <th>host_id</th>\n",
              "      <th>host_name</th>\n",
              "      <th>neighbourhood_group</th>\n",
              "      <th>neighbourhood</th>\n",
              "      <th>latitude</th>\n",
              "      <th>longitude</th>\n",
              "      <th>room_type</th>\n",
              "      <th>price</th>\n",
              "      <th>minimum_nights</th>\n",
              "      <th>number_of_reviews</th>\n",
              "      <th>last_review</th>\n",
              "      <th>reviews_per_month</th>\n",
              "      <th>calculated_host_listings_count</th>\n",
              "      <th>availability_365</th>\n",
              "    </tr>\n",
              "  </thead>\n",
              "  <tbody>\n",
              "    <tr>\n",
              "      <th>0</th>\n",
              "      <td>2539</td>\n",
              "      <td>Clean &amp; quiet apt home by the park</td>\n",
              "      <td>2787</td>\n",
              "      <td>John</td>\n",
              "      <td>Brooklyn</td>\n",
              "      <td>Kensington</td>\n",
              "      <td>40.64749</td>\n",
              "      <td>-73.97237</td>\n",
              "      <td>Private room</td>\n",
              "      <td>149</td>\n",
              "      <td>1</td>\n",
              "      <td>9</td>\n",
              "      <td>2018-10-19</td>\n",
              "      <td>0.21</td>\n",
              "      <td>6</td>\n",
              "      <td>365</td>\n",
              "    </tr>\n",
              "    <tr>\n",
              "      <th>1</th>\n",
              "      <td>2595</td>\n",
              "      <td>Skylit Midtown Castle</td>\n",
              "      <td>2845</td>\n",
              "      <td>Jennifer</td>\n",
              "      <td>Manhattan</td>\n",
              "      <td>Midtown</td>\n",
              "      <td>40.75362</td>\n",
              "      <td>-73.98377</td>\n",
              "      <td>Entire home/apt</td>\n",
              "      <td>225</td>\n",
              "      <td>1</td>\n",
              "      <td>45</td>\n",
              "      <td>2019-05-21</td>\n",
              "      <td>0.38</td>\n",
              "      <td>2</td>\n",
              "      <td>355</td>\n",
              "    </tr>\n",
              "    <tr>\n",
              "      <th>2</th>\n",
              "      <td>3647</td>\n",
              "      <td>THE VILLAGE OF HARLEM....NEW YORK !</td>\n",
              "      <td>4632</td>\n",
              "      <td>Elisabeth</td>\n",
              "      <td>Manhattan</td>\n",
              "      <td>Harlem</td>\n",
              "      <td>40.80902</td>\n",
              "      <td>-73.94190</td>\n",
              "      <td>Private room</td>\n",
              "      <td>150</td>\n",
              "      <td>3</td>\n",
              "      <td>0</td>\n",
              "      <td>NaN</td>\n",
              "      <td>NaN</td>\n",
              "      <td>1</td>\n",
              "      <td>365</td>\n",
              "    </tr>\n",
              "    <tr>\n",
              "      <th>3</th>\n",
              "      <td>3831</td>\n",
              "      <td>Cozy Entire Floor of Brownstone</td>\n",
              "      <td>4869</td>\n",
              "      <td>LisaRoxanne</td>\n",
              "      <td>Brooklyn</td>\n",
              "      <td>Clinton Hill</td>\n",
              "      <td>40.68514</td>\n",
              "      <td>-73.95976</td>\n",
              "      <td>Entire home/apt</td>\n",
              "      <td>89</td>\n",
              "      <td>1</td>\n",
              "      <td>270</td>\n",
              "      <td>2019-07-05</td>\n",
              "      <td>4.64</td>\n",
              "      <td>1</td>\n",
              "      <td>194</td>\n",
              "    </tr>\n",
              "    <tr>\n",
              "      <th>4</th>\n",
              "      <td>5022</td>\n",
              "      <td>Entire Apt: Spacious Studio/Loft by central park</td>\n",
              "      <td>7192</td>\n",
              "      <td>Laura</td>\n",
              "      <td>Manhattan</td>\n",
              "      <td>East Harlem</td>\n",
              "      <td>40.79851</td>\n",
              "      <td>-73.94399</td>\n",
              "      <td>Entire home/apt</td>\n",
              "      <td>80</td>\n",
              "      <td>10</td>\n",
              "      <td>9</td>\n",
              "      <td>2018-11-19</td>\n",
              "      <td>0.10</td>\n",
              "      <td>1</td>\n",
              "      <td>0</td>\n",
              "    </tr>\n",
              "  </tbody>\n",
              "</table>\n",
              "</div>\n",
              "      <button class=\"colab-df-convert\" onclick=\"convertToInteractive('df-a8f98ccd-e3c6-436f-8378-1e22232fa98b')\"\n",
              "              title=\"Convert this dataframe to an interactive table.\"\n",
              "              style=\"display:none;\">\n",
              "        \n",
              "  <svg xmlns=\"http://www.w3.org/2000/svg\" height=\"24px\"viewBox=\"0 0 24 24\"\n",
              "       width=\"24px\">\n",
              "    <path d=\"M0 0h24v24H0V0z\" fill=\"none\"/>\n",
              "    <path d=\"M18.56 5.44l.94 2.06.94-2.06 2.06-.94-2.06-.94-.94-2.06-.94 2.06-2.06.94zm-11 1L8.5 8.5l.94-2.06 2.06-.94-2.06-.94L8.5 2.5l-.94 2.06-2.06.94zm10 10l.94 2.06.94-2.06 2.06-.94-2.06-.94-.94-2.06-.94 2.06-2.06.94z\"/><path d=\"M17.41 7.96l-1.37-1.37c-.4-.4-.92-.59-1.43-.59-.52 0-1.04.2-1.43.59L10.3 9.45l-7.72 7.72c-.78.78-.78 2.05 0 2.83L4 21.41c.39.39.9.59 1.41.59.51 0 1.02-.2 1.41-.59l7.78-7.78 2.81-2.81c.8-.78.8-2.07 0-2.86zM5.41 20L4 18.59l7.72-7.72 1.47 1.35L5.41 20z\"/>\n",
              "  </svg>\n",
              "      </button>\n",
              "      \n",
              "  <style>\n",
              "    .colab-df-container {\n",
              "      display:flex;\n",
              "      flex-wrap:wrap;\n",
              "      gap: 12px;\n",
              "    }\n",
              "\n",
              "    .colab-df-convert {\n",
              "      background-color: #E8F0FE;\n",
              "      border: none;\n",
              "      border-radius: 50%;\n",
              "      cursor: pointer;\n",
              "      display: none;\n",
              "      fill: #1967D2;\n",
              "      height: 32px;\n",
              "      padding: 0 0 0 0;\n",
              "      width: 32px;\n",
              "    }\n",
              "\n",
              "    .colab-df-convert:hover {\n",
              "      background-color: #E2EBFA;\n",
              "      box-shadow: 0px 1px 2px rgba(60, 64, 67, 0.3), 0px 1px 3px 1px rgba(60, 64, 67, 0.15);\n",
              "      fill: #174EA6;\n",
              "    }\n",
              "\n",
              "    [theme=dark] .colab-df-convert {\n",
              "      background-color: #3B4455;\n",
              "      fill: #D2E3FC;\n",
              "    }\n",
              "\n",
              "    [theme=dark] .colab-df-convert:hover {\n",
              "      background-color: #434B5C;\n",
              "      box-shadow: 0px 1px 3px 1px rgba(0, 0, 0, 0.15);\n",
              "      filter: drop-shadow(0px 1px 2px rgba(0, 0, 0, 0.3));\n",
              "      fill: #FFFFFF;\n",
              "    }\n",
              "  </style>\n",
              "\n",
              "      <script>\n",
              "        const buttonEl =\n",
              "          document.querySelector('#df-a8f98ccd-e3c6-436f-8378-1e22232fa98b button.colab-df-convert');\n",
              "        buttonEl.style.display =\n",
              "          google.colab.kernel.accessAllowed ? 'block' : 'none';\n",
              "\n",
              "        async function convertToInteractive(key) {\n",
              "          const element = document.querySelector('#df-a8f98ccd-e3c6-436f-8378-1e22232fa98b');\n",
              "          const dataTable =\n",
              "            await google.colab.kernel.invokeFunction('convertToInteractive',\n",
              "                                                     [key], {});\n",
              "          if (!dataTable) return;\n",
              "\n",
              "          const docLinkHtml = 'Like what you see? Visit the ' +\n",
              "            '<a target=\"_blank\" href=https://colab.research.google.com/notebooks/data_table.ipynb>data table notebook</a>'\n",
              "            + ' to learn more about interactive tables.';\n",
              "          element.innerHTML = '';\n",
              "          dataTable['output_type'] = 'display_data';\n",
              "          await google.colab.output.renderOutput(dataTable, element);\n",
              "          const docLink = document.createElement('div');\n",
              "          docLink.innerHTML = docLinkHtml;\n",
              "          element.appendChild(docLink);\n",
              "        }\n",
              "      </script>\n",
              "    </div>\n",
              "  </div>\n",
              "  "
            ]
          },
          "metadata": {},
          "execution_count": 112
        }
      ],
      "source": [
        "Ans"
      ]
    },
    {
      "cell_type": "markdown",
      "metadata": {
        "id": "9cyX44OKf_x3"
      },
      "source": [
        "```{admonition} Question 45\n",
        "**데이터의 각 host_name의 빈도수를 구하고 host_name으로 정렬하여 상위 5개를 출력하라**\n",
        "```"
      ]
    },
    {
      "cell_type": "markdown",
      "metadata": {
        "id": "_I5nhmjif_x3"
      },
      "source": [
        "```{admonition} 45번 유튜브 풀이\n",
        ":class: dropdown\n",
        "<div style=\"text-align: center\"><iframe width=\"700\" height=\"500\" src=https://www.youtube.com/embed/00rctVVSSoA?start=1860&end=2054></iframe></div>\n",
        "```"
      ]
    },
    {
      "cell_type": "code",
      "execution_count": 128,
      "metadata": {
        "ExecuteTime": {
          "end_time": "2022-02-19T18:22:29.025449Z",
          "start_time": "2022-02-19T18:22:28.996320Z"
        },
        "tags": [
          "hide-input"
        ],
        "id": "PBlPvYl3f_x3"
      },
      "outputs": [],
      "source": [
        "Ans = df.groupby('host_name').size()\n",
        "\n",
        "# or\n",
        "\n",
        "Ans = df.host_name.value_counts().sort_index()"
      ]
    },
    {
      "cell_type": "code",
      "execution_count": 131,
      "metadata": {
        "ExecuteTime": {
          "end_time": "2022-02-19T18:22:29.030734Z",
          "start_time": "2022-02-19T18:22:29.026807Z"
        },
        "id": "dsRbvn9rf_x3",
        "outputId": "6035b03b-3578-49ec-b520-925d02a908d1",
        "colab": {
          "base_uri": "https://localhost:8080/"
        }
      },
      "outputs": [
        {
          "output_type": "execute_result",
          "data": {
            "text/plain": [
              "'Cil                        1\n",
              "(Ari) HENRY LEE             1\n",
              "(Email hidden by Airbnb)    6\n",
              "(Mary) Haiy                 1\n",
              "-TheQueensCornerLot         1\n",
              "Name: host_name, dtype: int64"
            ]
          },
          "metadata": {},
          "execution_count": 131
        }
      ],
      "source": [
        "Ans.head(5)"
      ]
    },
    {
      "cell_type": "markdown",
      "metadata": {
        "id": "Vrk70pEef_x3"
      },
      "source": [
        "```{admonition} Question 46\n",
        "**데이터의 각 host_name의 빈도수를 구하고 빈도수 기준 내림차순 정렬한 데이터 프레임을 만들어라. 빈도수 컬럼은 counts로 명명하라**\n",
        "```"
      ]
    },
    {
      "cell_type": "markdown",
      "metadata": {
        "id": "GmOviyNCf_x3"
      },
      "source": [
        "```{admonition} 46번 유튜브 풀이\n",
        ":class: dropdown\n",
        "<div style=\"text-align: center\"><iframe width=\"700\" height=\"500\" src=https://www.youtube.com/embed/00rctVVSSoA?start=2056&end=2196></iframe></div>\n",
        "```"
      ]
    },
    {
      "cell_type": "code",
      "execution_count": 135,
      "metadata": {
        "ExecuteTime": {
          "end_time": "2022-02-19T18:22:29.049740Z",
          "start_time": "2022-02-19T18:22:29.032048Z"
        },
        "tags": [
          "hide-input"
        ],
        "id": "PoVZtVpTf_x3"
      },
      "outputs": [],
      "source": [
        "Ans = df.groupby('host_name').size().\\\n",
        "                to_frame().rename(columns={0:'counts'}).\\\n",
        "                sort_values('counts',ascending=False)"
      ]
    },
    {
      "cell_type": "code",
      "execution_count": 136,
      "metadata": {
        "ExecuteTime": {
          "end_time": "2022-02-19T18:22:29.056449Z",
          "start_time": "2022-02-19T18:22:29.050957Z"
        },
        "id": "asBpcxAif_x3",
        "outputId": "7204a0f8-6665-471d-e151-2e9350017b27",
        "colab": {
          "base_uri": "https://localhost:8080/",
          "height": 237
        }
      },
      "outputs": [
        {
          "output_type": "execute_result",
          "data": {
            "text/plain": [
              "              counts\n",
              "host_name           \n",
              "Michael          417\n",
              "David            403\n",
              "Sonder (NYC)     327\n",
              "John             294\n",
              "Alex             279"
            ],
            "text/html": [
              "\n",
              "  <div id=\"df-3a8f1b04-1130-4e87-aa2f-9b4da5d0e04b\">\n",
              "    <div class=\"colab-df-container\">\n",
              "      <div>\n",
              "<style scoped>\n",
              "    .dataframe tbody tr th:only-of-type {\n",
              "        vertical-align: middle;\n",
              "    }\n",
              "\n",
              "    .dataframe tbody tr th {\n",
              "        vertical-align: top;\n",
              "    }\n",
              "\n",
              "    .dataframe thead th {\n",
              "        text-align: right;\n",
              "    }\n",
              "</style>\n",
              "<table border=\"1\" class=\"dataframe\">\n",
              "  <thead>\n",
              "    <tr style=\"text-align: right;\">\n",
              "      <th></th>\n",
              "      <th>counts</th>\n",
              "    </tr>\n",
              "    <tr>\n",
              "      <th>host_name</th>\n",
              "      <th></th>\n",
              "    </tr>\n",
              "  </thead>\n",
              "  <tbody>\n",
              "    <tr>\n",
              "      <th>Michael</th>\n",
              "      <td>417</td>\n",
              "    </tr>\n",
              "    <tr>\n",
              "      <th>David</th>\n",
              "      <td>403</td>\n",
              "    </tr>\n",
              "    <tr>\n",
              "      <th>Sonder (NYC)</th>\n",
              "      <td>327</td>\n",
              "    </tr>\n",
              "    <tr>\n",
              "      <th>John</th>\n",
              "      <td>294</td>\n",
              "    </tr>\n",
              "    <tr>\n",
              "      <th>Alex</th>\n",
              "      <td>279</td>\n",
              "    </tr>\n",
              "  </tbody>\n",
              "</table>\n",
              "</div>\n",
              "      <button class=\"colab-df-convert\" onclick=\"convertToInteractive('df-3a8f1b04-1130-4e87-aa2f-9b4da5d0e04b')\"\n",
              "              title=\"Convert this dataframe to an interactive table.\"\n",
              "              style=\"display:none;\">\n",
              "        \n",
              "  <svg xmlns=\"http://www.w3.org/2000/svg\" height=\"24px\"viewBox=\"0 0 24 24\"\n",
              "       width=\"24px\">\n",
              "    <path d=\"M0 0h24v24H0V0z\" fill=\"none\"/>\n",
              "    <path d=\"M18.56 5.44l.94 2.06.94-2.06 2.06-.94-2.06-.94-.94-2.06-.94 2.06-2.06.94zm-11 1L8.5 8.5l.94-2.06 2.06-.94-2.06-.94L8.5 2.5l-.94 2.06-2.06.94zm10 10l.94 2.06.94-2.06 2.06-.94-2.06-.94-.94-2.06-.94 2.06-2.06.94z\"/><path d=\"M17.41 7.96l-1.37-1.37c-.4-.4-.92-.59-1.43-.59-.52 0-1.04.2-1.43.59L10.3 9.45l-7.72 7.72c-.78.78-.78 2.05 0 2.83L4 21.41c.39.39.9.59 1.41.59.51 0 1.02-.2 1.41-.59l7.78-7.78 2.81-2.81c.8-.78.8-2.07 0-2.86zM5.41 20L4 18.59l7.72-7.72 1.47 1.35L5.41 20z\"/>\n",
              "  </svg>\n",
              "      </button>\n",
              "      \n",
              "  <style>\n",
              "    .colab-df-container {\n",
              "      display:flex;\n",
              "      flex-wrap:wrap;\n",
              "      gap: 12px;\n",
              "    }\n",
              "\n",
              "    .colab-df-convert {\n",
              "      background-color: #E8F0FE;\n",
              "      border: none;\n",
              "      border-radius: 50%;\n",
              "      cursor: pointer;\n",
              "      display: none;\n",
              "      fill: #1967D2;\n",
              "      height: 32px;\n",
              "      padding: 0 0 0 0;\n",
              "      width: 32px;\n",
              "    }\n",
              "\n",
              "    .colab-df-convert:hover {\n",
              "      background-color: #E2EBFA;\n",
              "      box-shadow: 0px 1px 2px rgba(60, 64, 67, 0.3), 0px 1px 3px 1px rgba(60, 64, 67, 0.15);\n",
              "      fill: #174EA6;\n",
              "    }\n",
              "\n",
              "    [theme=dark] .colab-df-convert {\n",
              "      background-color: #3B4455;\n",
              "      fill: #D2E3FC;\n",
              "    }\n",
              "\n",
              "    [theme=dark] .colab-df-convert:hover {\n",
              "      background-color: #434B5C;\n",
              "      box-shadow: 0px 1px 3px 1px rgba(0, 0, 0, 0.15);\n",
              "      filter: drop-shadow(0px 1px 2px rgba(0, 0, 0, 0.3));\n",
              "      fill: #FFFFFF;\n",
              "    }\n",
              "  </style>\n",
              "\n",
              "      <script>\n",
              "        const buttonEl =\n",
              "          document.querySelector('#df-3a8f1b04-1130-4e87-aa2f-9b4da5d0e04b button.colab-df-convert');\n",
              "        buttonEl.style.display =\n",
              "          google.colab.kernel.accessAllowed ? 'block' : 'none';\n",
              "\n",
              "        async function convertToInteractive(key) {\n",
              "          const element = document.querySelector('#df-3a8f1b04-1130-4e87-aa2f-9b4da5d0e04b');\n",
              "          const dataTable =\n",
              "            await google.colab.kernel.invokeFunction('convertToInteractive',\n",
              "                                                     [key], {});\n",
              "          if (!dataTable) return;\n",
              "\n",
              "          const docLinkHtml = 'Like what you see? Visit the ' +\n",
              "            '<a target=\"_blank\" href=https://colab.research.google.com/notebooks/data_table.ipynb>data table notebook</a>'\n",
              "            + ' to learn more about interactive tables.';\n",
              "          element.innerHTML = '';\n",
              "          dataTable['output_type'] = 'display_data';\n",
              "          await google.colab.output.renderOutput(dataTable, element);\n",
              "          const docLink = document.createElement('div');\n",
              "          docLink.innerHTML = docLinkHtml;\n",
              "          element.appendChild(docLink);\n",
              "        }\n",
              "      </script>\n",
              "    </div>\n",
              "  </div>\n",
              "  "
            ]
          },
          "metadata": {},
          "execution_count": 136
        }
      ],
      "source": [
        "Ans.head(5)"
      ]
    },
    {
      "cell_type": "markdown",
      "metadata": {
        "id": "3Ob69iCaf_x3"
      },
      "source": [
        "```{admonition} Question 47\n",
        "**neighbourhood_group의 값에 따른 neighbourhood컬럼 값의 갯수를 구하여라**\n",
        "```"
      ]
    },
    {
      "cell_type": "markdown",
      "metadata": {
        "id": "SNama-Zmf_x4"
      },
      "source": [
        "```{admonition} 47번 유튜브 풀이\n",
        ":class: dropdown\n",
        "<div style=\"text-align: center\"><iframe width=\"700\" height=\"500\" src=https://www.youtube.com/embed/00rctVVSSoA?start=2198&end=2483></iframe></div>\n",
        "```\n",
        "    "
      ]
    },
    {
      "cell_type": "code",
      "execution_count": 140,
      "metadata": {
        "ExecuteTime": {
          "end_time": "2022-02-19T18:22:29.067913Z",
          "start_time": "2022-02-19T18:22:29.057739Z"
        },
        "scrolled": true,
        "tags": [
          "hide-input"
        ],
        "id": "lwfCG70rf_x4"
      },
      "outputs": [],
      "source": [
        "Ans = df.groupby(['neighbourhood_group','neighbourhood'], as_index=False).size()"
      ]
    },
    {
      "cell_type": "code",
      "execution_count": 141,
      "metadata": {
        "ExecuteTime": {
          "end_time": "2022-02-19T18:22:29.074811Z",
          "start_time": "2022-02-19T18:22:29.069335Z"
        },
        "id": "2kWdiAzTf_x4",
        "outputId": "13147d89-ef19-4eee-eb46-9716dffa63b1",
        "colab": {
          "base_uri": "https://localhost:8080/",
          "height": 175
        }
      },
      "outputs": [
        {
          "output_type": "execute_result",
          "data": {
            "text/plain": [
              "  neighbourhood_group neighbourhood  size\n",
              "0               Bronx      Allerton    42\n",
              "1               Bronx    Baychester     7\n",
              "2               Bronx       Belmont    24\n",
              "3               Bronx     Bronxdale    19"
            ],
            "text/html": [
              "\n",
              "  <div id=\"df-4bdb9136-668e-4d08-82b3-cbedf4eae904\">\n",
              "    <div class=\"colab-df-container\">\n",
              "      <div>\n",
              "<style scoped>\n",
              "    .dataframe tbody tr th:only-of-type {\n",
              "        vertical-align: middle;\n",
              "    }\n",
              "\n",
              "    .dataframe tbody tr th {\n",
              "        vertical-align: top;\n",
              "    }\n",
              "\n",
              "    .dataframe thead th {\n",
              "        text-align: right;\n",
              "    }\n",
              "</style>\n",
              "<table border=\"1\" class=\"dataframe\">\n",
              "  <thead>\n",
              "    <tr style=\"text-align: right;\">\n",
              "      <th></th>\n",
              "      <th>neighbourhood_group</th>\n",
              "      <th>neighbourhood</th>\n",
              "      <th>size</th>\n",
              "    </tr>\n",
              "  </thead>\n",
              "  <tbody>\n",
              "    <tr>\n",
              "      <th>0</th>\n",
              "      <td>Bronx</td>\n",
              "      <td>Allerton</td>\n",
              "      <td>42</td>\n",
              "    </tr>\n",
              "    <tr>\n",
              "      <th>1</th>\n",
              "      <td>Bronx</td>\n",
              "      <td>Baychester</td>\n",
              "      <td>7</td>\n",
              "    </tr>\n",
              "    <tr>\n",
              "      <th>2</th>\n",
              "      <td>Bronx</td>\n",
              "      <td>Belmont</td>\n",
              "      <td>24</td>\n",
              "    </tr>\n",
              "    <tr>\n",
              "      <th>3</th>\n",
              "      <td>Bronx</td>\n",
              "      <td>Bronxdale</td>\n",
              "      <td>19</td>\n",
              "    </tr>\n",
              "  </tbody>\n",
              "</table>\n",
              "</div>\n",
              "      <button class=\"colab-df-convert\" onclick=\"convertToInteractive('df-4bdb9136-668e-4d08-82b3-cbedf4eae904')\"\n",
              "              title=\"Convert this dataframe to an interactive table.\"\n",
              "              style=\"display:none;\">\n",
              "        \n",
              "  <svg xmlns=\"http://www.w3.org/2000/svg\" height=\"24px\"viewBox=\"0 0 24 24\"\n",
              "       width=\"24px\">\n",
              "    <path d=\"M0 0h24v24H0V0z\" fill=\"none\"/>\n",
              "    <path d=\"M18.56 5.44l.94 2.06.94-2.06 2.06-.94-2.06-.94-.94-2.06-.94 2.06-2.06.94zm-11 1L8.5 8.5l.94-2.06 2.06-.94-2.06-.94L8.5 2.5l-.94 2.06-2.06.94zm10 10l.94 2.06.94-2.06 2.06-.94-2.06-.94-.94-2.06-.94 2.06-2.06.94z\"/><path d=\"M17.41 7.96l-1.37-1.37c-.4-.4-.92-.59-1.43-.59-.52 0-1.04.2-1.43.59L10.3 9.45l-7.72 7.72c-.78.78-.78 2.05 0 2.83L4 21.41c.39.39.9.59 1.41.59.51 0 1.02-.2 1.41-.59l7.78-7.78 2.81-2.81c.8-.78.8-2.07 0-2.86zM5.41 20L4 18.59l7.72-7.72 1.47 1.35L5.41 20z\"/>\n",
              "  </svg>\n",
              "      </button>\n",
              "      \n",
              "  <style>\n",
              "    .colab-df-container {\n",
              "      display:flex;\n",
              "      flex-wrap:wrap;\n",
              "      gap: 12px;\n",
              "    }\n",
              "\n",
              "    .colab-df-convert {\n",
              "      background-color: #E8F0FE;\n",
              "      border: none;\n",
              "      border-radius: 50%;\n",
              "      cursor: pointer;\n",
              "      display: none;\n",
              "      fill: #1967D2;\n",
              "      height: 32px;\n",
              "      padding: 0 0 0 0;\n",
              "      width: 32px;\n",
              "    }\n",
              "\n",
              "    .colab-df-convert:hover {\n",
              "      background-color: #E2EBFA;\n",
              "      box-shadow: 0px 1px 2px rgba(60, 64, 67, 0.3), 0px 1px 3px 1px rgba(60, 64, 67, 0.15);\n",
              "      fill: #174EA6;\n",
              "    }\n",
              "\n",
              "    [theme=dark] .colab-df-convert {\n",
              "      background-color: #3B4455;\n",
              "      fill: #D2E3FC;\n",
              "    }\n",
              "\n",
              "    [theme=dark] .colab-df-convert:hover {\n",
              "      background-color: #434B5C;\n",
              "      box-shadow: 0px 1px 3px 1px rgba(0, 0, 0, 0.15);\n",
              "      filter: drop-shadow(0px 1px 2px rgba(0, 0, 0, 0.3));\n",
              "      fill: #FFFFFF;\n",
              "    }\n",
              "  </style>\n",
              "\n",
              "      <script>\n",
              "        const buttonEl =\n",
              "          document.querySelector('#df-4bdb9136-668e-4d08-82b3-cbedf4eae904 button.colab-df-convert');\n",
              "        buttonEl.style.display =\n",
              "          google.colab.kernel.accessAllowed ? 'block' : 'none';\n",
              "\n",
              "        async function convertToInteractive(key) {\n",
              "          const element = document.querySelector('#df-4bdb9136-668e-4d08-82b3-cbedf4eae904');\n",
              "          const dataTable =\n",
              "            await google.colab.kernel.invokeFunction('convertToInteractive',\n",
              "                                                     [key], {});\n",
              "          if (!dataTable) return;\n",
              "\n",
              "          const docLinkHtml = 'Like what you see? Visit the ' +\n",
              "            '<a target=\"_blank\" href=https://colab.research.google.com/notebooks/data_table.ipynb>data table notebook</a>'\n",
              "            + ' to learn more about interactive tables.';\n",
              "          element.innerHTML = '';\n",
              "          dataTable['output_type'] = 'display_data';\n",
              "          await google.colab.output.renderOutput(dataTable, element);\n",
              "          const docLink = document.createElement('div');\n",
              "          docLink.innerHTML = docLinkHtml;\n",
              "          element.appendChild(docLink);\n",
              "        }\n",
              "      </script>\n",
              "    </div>\n",
              "  </div>\n",
              "  "
            ]
          },
          "metadata": {},
          "execution_count": 141
        }
      ],
      "source": [
        "Ans.head(4)"
      ]
    },
    {
      "cell_type": "markdown",
      "metadata": {
        "id": "WtPbBz54f_x4"
      },
      "source": [
        "```{admonition} Question 48\n",
        "**neighbourhood_group의 값에 따른 neighbourhood컬럼 값 중 neighbourhood_group그룹의 최댓값들을 출력하라**\n",
        "```"
      ]
    },
    {
      "cell_type": "markdown",
      "metadata": {
        "id": "rZmV4gZqf_x4"
      },
      "source": [
        "```{admonition} 48번 유튜브 풀이\n",
        ":class: dropdown\n",
        "<div style=\"text-align: center\"><iframe width=\"700\" height=\"500\" src=https://www.youtube.com/embed/00rctVVSSoA?start=2485&end=2723></iframe></div>\n",
        "```"
      ]
    },
    {
      "cell_type": "code",
      "execution_count": 145,
      "metadata": {
        "ExecuteTime": {
          "end_time": "2022-02-19T18:22:29.089173Z",
          "start_time": "2022-02-19T18:22:29.075808Z"
        },
        "scrolled": true,
        "tags": [
          "hide-input"
        ],
        "id": "HIfYFNWqf_x4"
      },
      "outputs": [],
      "source": [
        "Ans= df.groupby(['neighbourhood_group','neighbourhood'], as_index=False).size()\\\n",
        "                  .groupby(['neighbourhood_group'], as_index=False).max()"
      ]
    },
    {
      "cell_type": "code",
      "execution_count": 146,
      "metadata": {
        "ExecuteTime": {
          "end_time": "2022-02-19T18:22:29.096083Z",
          "start_time": "2022-02-19T18:22:29.090363Z"
        },
        "id": "PtRyur1kf_x4",
        "outputId": "962d6cf7-2554-4e4e-a468-b3199cacd7b6",
        "colab": {
          "base_uri": "https://localhost:8080/",
          "height": 206
        }
      },
      "outputs": [
        {
          "output_type": "execute_result",
          "data": {
            "text/plain": [
              "  neighbourhood_group    neighbourhood  size\n",
              "0               Bronx         Woodlawn    70\n",
              "1            Brooklyn  Windsor Terrace  3920\n",
              "2           Manhattan     West Village  2658\n",
              "3              Queens         Woodside   900\n",
              "4       Staten Island          Woodrow    48"
            ],
            "text/html": [
              "\n",
              "  <div id=\"df-1a36e372-ae0a-4c43-a087-270f9a008583\">\n",
              "    <div class=\"colab-df-container\">\n",
              "      <div>\n",
              "<style scoped>\n",
              "    .dataframe tbody tr th:only-of-type {\n",
              "        vertical-align: middle;\n",
              "    }\n",
              "\n",
              "    .dataframe tbody tr th {\n",
              "        vertical-align: top;\n",
              "    }\n",
              "\n",
              "    .dataframe thead th {\n",
              "        text-align: right;\n",
              "    }\n",
              "</style>\n",
              "<table border=\"1\" class=\"dataframe\">\n",
              "  <thead>\n",
              "    <tr style=\"text-align: right;\">\n",
              "      <th></th>\n",
              "      <th>neighbourhood_group</th>\n",
              "      <th>neighbourhood</th>\n",
              "      <th>size</th>\n",
              "    </tr>\n",
              "  </thead>\n",
              "  <tbody>\n",
              "    <tr>\n",
              "      <th>0</th>\n",
              "      <td>Bronx</td>\n",
              "      <td>Woodlawn</td>\n",
              "      <td>70</td>\n",
              "    </tr>\n",
              "    <tr>\n",
              "      <th>1</th>\n",
              "      <td>Brooklyn</td>\n",
              "      <td>Windsor Terrace</td>\n",
              "      <td>3920</td>\n",
              "    </tr>\n",
              "    <tr>\n",
              "      <th>2</th>\n",
              "      <td>Manhattan</td>\n",
              "      <td>West Village</td>\n",
              "      <td>2658</td>\n",
              "    </tr>\n",
              "    <tr>\n",
              "      <th>3</th>\n",
              "      <td>Queens</td>\n",
              "      <td>Woodside</td>\n",
              "      <td>900</td>\n",
              "    </tr>\n",
              "    <tr>\n",
              "      <th>4</th>\n",
              "      <td>Staten Island</td>\n",
              "      <td>Woodrow</td>\n",
              "      <td>48</td>\n",
              "    </tr>\n",
              "  </tbody>\n",
              "</table>\n",
              "</div>\n",
              "      <button class=\"colab-df-convert\" onclick=\"convertToInteractive('df-1a36e372-ae0a-4c43-a087-270f9a008583')\"\n",
              "              title=\"Convert this dataframe to an interactive table.\"\n",
              "              style=\"display:none;\">\n",
              "        \n",
              "  <svg xmlns=\"http://www.w3.org/2000/svg\" height=\"24px\"viewBox=\"0 0 24 24\"\n",
              "       width=\"24px\">\n",
              "    <path d=\"M0 0h24v24H0V0z\" fill=\"none\"/>\n",
              "    <path d=\"M18.56 5.44l.94 2.06.94-2.06 2.06-.94-2.06-.94-.94-2.06-.94 2.06-2.06.94zm-11 1L8.5 8.5l.94-2.06 2.06-.94-2.06-.94L8.5 2.5l-.94 2.06-2.06.94zm10 10l.94 2.06.94-2.06 2.06-.94-2.06-.94-.94-2.06-.94 2.06-2.06.94z\"/><path d=\"M17.41 7.96l-1.37-1.37c-.4-.4-.92-.59-1.43-.59-.52 0-1.04.2-1.43.59L10.3 9.45l-7.72 7.72c-.78.78-.78 2.05 0 2.83L4 21.41c.39.39.9.59 1.41.59.51 0 1.02-.2 1.41-.59l7.78-7.78 2.81-2.81c.8-.78.8-2.07 0-2.86zM5.41 20L4 18.59l7.72-7.72 1.47 1.35L5.41 20z\"/>\n",
              "  </svg>\n",
              "      </button>\n",
              "      \n",
              "  <style>\n",
              "    .colab-df-container {\n",
              "      display:flex;\n",
              "      flex-wrap:wrap;\n",
              "      gap: 12px;\n",
              "    }\n",
              "\n",
              "    .colab-df-convert {\n",
              "      background-color: #E8F0FE;\n",
              "      border: none;\n",
              "      border-radius: 50%;\n",
              "      cursor: pointer;\n",
              "      display: none;\n",
              "      fill: #1967D2;\n",
              "      height: 32px;\n",
              "      padding: 0 0 0 0;\n",
              "      width: 32px;\n",
              "    }\n",
              "\n",
              "    .colab-df-convert:hover {\n",
              "      background-color: #E2EBFA;\n",
              "      box-shadow: 0px 1px 2px rgba(60, 64, 67, 0.3), 0px 1px 3px 1px rgba(60, 64, 67, 0.15);\n",
              "      fill: #174EA6;\n",
              "    }\n",
              "\n",
              "    [theme=dark] .colab-df-convert {\n",
              "      background-color: #3B4455;\n",
              "      fill: #D2E3FC;\n",
              "    }\n",
              "\n",
              "    [theme=dark] .colab-df-convert:hover {\n",
              "      background-color: #434B5C;\n",
              "      box-shadow: 0px 1px 3px 1px rgba(0, 0, 0, 0.15);\n",
              "      filter: drop-shadow(0px 1px 2px rgba(0, 0, 0, 0.3));\n",
              "      fill: #FFFFFF;\n",
              "    }\n",
              "  </style>\n",
              "\n",
              "      <script>\n",
              "        const buttonEl =\n",
              "          document.querySelector('#df-1a36e372-ae0a-4c43-a087-270f9a008583 button.colab-df-convert');\n",
              "        buttonEl.style.display =\n",
              "          google.colab.kernel.accessAllowed ? 'block' : 'none';\n",
              "\n",
              "        async function convertToInteractive(key) {\n",
              "          const element = document.querySelector('#df-1a36e372-ae0a-4c43-a087-270f9a008583');\n",
              "          const dataTable =\n",
              "            await google.colab.kernel.invokeFunction('convertToInteractive',\n",
              "                                                     [key], {});\n",
              "          if (!dataTable) return;\n",
              "\n",
              "          const docLinkHtml = 'Like what you see? Visit the ' +\n",
              "            '<a target=\"_blank\" href=https://colab.research.google.com/notebooks/data_table.ipynb>data table notebook</a>'\n",
              "            + ' to learn more about interactive tables.';\n",
              "          element.innerHTML = '';\n",
              "          dataTable['output_type'] = 'display_data';\n",
              "          await google.colab.output.renderOutput(dataTable, element);\n",
              "          const docLink = document.createElement('div');\n",
              "          docLink.innerHTML = docLinkHtml;\n",
              "          element.appendChild(docLink);\n",
              "        }\n",
              "      </script>\n",
              "    </div>\n",
              "  </div>\n",
              "  "
            ]
          },
          "metadata": {},
          "execution_count": 146
        }
      ],
      "source": [
        "Ans"
      ]
    },
    {
      "cell_type": "markdown",
      "metadata": {
        "id": "MLHDtZmzf_x5"
      },
      "source": [
        "```{admonition} Question 49\n",
        "**neighbourhood_group 값에 따른 price값의 평균, 분산, 최대, 최소 값을 구하여라**\n",
        "```"
      ]
    },
    {
      "cell_type": "markdown",
      "metadata": {
        "id": "MOrFzOLWf_x5"
      },
      "source": [
        "```{admonition} 49번 유튜브 풀이\n",
        ":class: dropdown\n",
        "<div style=\"text-align: center\"><iframe width=\"700\" height=\"500\" src=https://www.youtube.com/embed/00rctVVSSoA?start=2725&end=2893></iframe></div>\n",
        "```"
      ]
    },
    {
      "cell_type": "code",
      "execution_count": 149,
      "metadata": {
        "ExecuteTime": {
          "end_time": "2022-02-19T18:22:29.107423Z",
          "start_time": "2022-02-19T18:22:29.097431Z"
        },
        "scrolled": true,
        "tags": [
          "hide-input"
        ],
        "id": "GemoqstSf_x5"
      },
      "outputs": [],
      "source": [
        "Ans = df[['neighbourhood_group','price']].groupby('neighbourhood_group').agg(['mean','var','max','min'])"
      ]
    },
    {
      "cell_type": "code",
      "execution_count": 150,
      "metadata": {
        "ExecuteTime": {
          "end_time": "2022-02-19T18:22:29.115770Z",
          "start_time": "2022-02-19T18:22:29.108690Z"
        },
        "id": "pdLufxBbf_x5",
        "outputId": "c4624f35-a8ce-4003-953e-36e2646aedd8",
        "colab": {
          "base_uri": "https://localhost:8080/",
          "height": 269
        }
      },
      "outputs": [
        {
          "output_type": "execute_result",
          "data": {
            "text/plain": [
              "                          price                         \n",
              "                           mean           var    max min\n",
              "neighbourhood_group                                     \n",
              "Bronx                 87.496792  11386.885081   2500   0\n",
              "Brooklyn             124.383207  34921.719135  10000   0\n",
              "Manhattan            196.875814  84904.159185  10000   0\n",
              "Queens                99.517649  27923.130227  10000  10\n",
              "Staten Island        114.812332  77073.088342   5000  13"
            ],
            "text/html": [
              "\n",
              "  <div id=\"df-bb2c2e56-9308-4a1e-8d56-34ebc6d13094\">\n",
              "    <div class=\"colab-df-container\">\n",
              "      <div>\n",
              "<style scoped>\n",
              "    .dataframe tbody tr th:only-of-type {\n",
              "        vertical-align: middle;\n",
              "    }\n",
              "\n",
              "    .dataframe tbody tr th {\n",
              "        vertical-align: top;\n",
              "    }\n",
              "\n",
              "    .dataframe thead tr th {\n",
              "        text-align: left;\n",
              "    }\n",
              "\n",
              "    .dataframe thead tr:last-of-type th {\n",
              "        text-align: right;\n",
              "    }\n",
              "</style>\n",
              "<table border=\"1\" class=\"dataframe\">\n",
              "  <thead>\n",
              "    <tr>\n",
              "      <th></th>\n",
              "      <th colspan=\"4\" halign=\"left\">price</th>\n",
              "    </tr>\n",
              "    <tr>\n",
              "      <th></th>\n",
              "      <th>mean</th>\n",
              "      <th>var</th>\n",
              "      <th>max</th>\n",
              "      <th>min</th>\n",
              "    </tr>\n",
              "    <tr>\n",
              "      <th>neighbourhood_group</th>\n",
              "      <th></th>\n",
              "      <th></th>\n",
              "      <th></th>\n",
              "      <th></th>\n",
              "    </tr>\n",
              "  </thead>\n",
              "  <tbody>\n",
              "    <tr>\n",
              "      <th>Bronx</th>\n",
              "      <td>87.496792</td>\n",
              "      <td>11386.885081</td>\n",
              "      <td>2500</td>\n",
              "      <td>0</td>\n",
              "    </tr>\n",
              "    <tr>\n",
              "      <th>Brooklyn</th>\n",
              "      <td>124.383207</td>\n",
              "      <td>34921.719135</td>\n",
              "      <td>10000</td>\n",
              "      <td>0</td>\n",
              "    </tr>\n",
              "    <tr>\n",
              "      <th>Manhattan</th>\n",
              "      <td>196.875814</td>\n",
              "      <td>84904.159185</td>\n",
              "      <td>10000</td>\n",
              "      <td>0</td>\n",
              "    </tr>\n",
              "    <tr>\n",
              "      <th>Queens</th>\n",
              "      <td>99.517649</td>\n",
              "      <td>27923.130227</td>\n",
              "      <td>10000</td>\n",
              "      <td>10</td>\n",
              "    </tr>\n",
              "    <tr>\n",
              "      <th>Staten Island</th>\n",
              "      <td>114.812332</td>\n",
              "      <td>77073.088342</td>\n",
              "      <td>5000</td>\n",
              "      <td>13</td>\n",
              "    </tr>\n",
              "  </tbody>\n",
              "</table>\n",
              "</div>\n",
              "      <button class=\"colab-df-convert\" onclick=\"convertToInteractive('df-bb2c2e56-9308-4a1e-8d56-34ebc6d13094')\"\n",
              "              title=\"Convert this dataframe to an interactive table.\"\n",
              "              style=\"display:none;\">\n",
              "        \n",
              "  <svg xmlns=\"http://www.w3.org/2000/svg\" height=\"24px\"viewBox=\"0 0 24 24\"\n",
              "       width=\"24px\">\n",
              "    <path d=\"M0 0h24v24H0V0z\" fill=\"none\"/>\n",
              "    <path d=\"M18.56 5.44l.94 2.06.94-2.06 2.06-.94-2.06-.94-.94-2.06-.94 2.06-2.06.94zm-11 1L8.5 8.5l.94-2.06 2.06-.94-2.06-.94L8.5 2.5l-.94 2.06-2.06.94zm10 10l.94 2.06.94-2.06 2.06-.94-2.06-.94-.94-2.06-.94 2.06-2.06.94z\"/><path d=\"M17.41 7.96l-1.37-1.37c-.4-.4-.92-.59-1.43-.59-.52 0-1.04.2-1.43.59L10.3 9.45l-7.72 7.72c-.78.78-.78 2.05 0 2.83L4 21.41c.39.39.9.59 1.41.59.51 0 1.02-.2 1.41-.59l7.78-7.78 2.81-2.81c.8-.78.8-2.07 0-2.86zM5.41 20L4 18.59l7.72-7.72 1.47 1.35L5.41 20z\"/>\n",
              "  </svg>\n",
              "      </button>\n",
              "      \n",
              "  <style>\n",
              "    .colab-df-container {\n",
              "      display:flex;\n",
              "      flex-wrap:wrap;\n",
              "      gap: 12px;\n",
              "    }\n",
              "\n",
              "    .colab-df-convert {\n",
              "      background-color: #E8F0FE;\n",
              "      border: none;\n",
              "      border-radius: 50%;\n",
              "      cursor: pointer;\n",
              "      display: none;\n",
              "      fill: #1967D2;\n",
              "      height: 32px;\n",
              "      padding: 0 0 0 0;\n",
              "      width: 32px;\n",
              "    }\n",
              "\n",
              "    .colab-df-convert:hover {\n",
              "      background-color: #E2EBFA;\n",
              "      box-shadow: 0px 1px 2px rgba(60, 64, 67, 0.3), 0px 1px 3px 1px rgba(60, 64, 67, 0.15);\n",
              "      fill: #174EA6;\n",
              "    }\n",
              "\n",
              "    [theme=dark] .colab-df-convert {\n",
              "      background-color: #3B4455;\n",
              "      fill: #D2E3FC;\n",
              "    }\n",
              "\n",
              "    [theme=dark] .colab-df-convert:hover {\n",
              "      background-color: #434B5C;\n",
              "      box-shadow: 0px 1px 3px 1px rgba(0, 0, 0, 0.15);\n",
              "      filter: drop-shadow(0px 1px 2px rgba(0, 0, 0, 0.3));\n",
              "      fill: #FFFFFF;\n",
              "    }\n",
              "  </style>\n",
              "\n",
              "      <script>\n",
              "        const buttonEl =\n",
              "          document.querySelector('#df-bb2c2e56-9308-4a1e-8d56-34ebc6d13094 button.colab-df-convert');\n",
              "        buttonEl.style.display =\n",
              "          google.colab.kernel.accessAllowed ? 'block' : 'none';\n",
              "\n",
              "        async function convertToInteractive(key) {\n",
              "          const element = document.querySelector('#df-bb2c2e56-9308-4a1e-8d56-34ebc6d13094');\n",
              "          const dataTable =\n",
              "            await google.colab.kernel.invokeFunction('convertToInteractive',\n",
              "                                                     [key], {});\n",
              "          if (!dataTable) return;\n",
              "\n",
              "          const docLinkHtml = 'Like what you see? Visit the ' +\n",
              "            '<a target=\"_blank\" href=https://colab.research.google.com/notebooks/data_table.ipynb>data table notebook</a>'\n",
              "            + ' to learn more about interactive tables.';\n",
              "          element.innerHTML = '';\n",
              "          dataTable['output_type'] = 'display_data';\n",
              "          await google.colab.output.renderOutput(dataTable, element);\n",
              "          const docLink = document.createElement('div');\n",
              "          docLink.innerHTML = docLinkHtml;\n",
              "          element.appendChild(docLink);\n",
              "        }\n",
              "      </script>\n",
              "    </div>\n",
              "  </div>\n",
              "  "
            ]
          },
          "metadata": {},
          "execution_count": 150
        }
      ],
      "source": [
        "Ans"
      ]
    },
    {
      "cell_type": "markdown",
      "metadata": {
        "id": "fc19x02xf_x5"
      },
      "source": [
        "```{admonition} Question 50\n",
        "**neighbourhood_group 값에 따른 reviews_per_month 평균, 분산, 최대, 최소 값을 구하여라**\n",
        "```"
      ]
    },
    {
      "cell_type": "markdown",
      "metadata": {
        "id": "0LFRxTOrf_x5"
      },
      "source": [
        "```{admonition} 50번 유튜브 풀이\n",
        ":class: dropdown\n",
        "<div style=\"text-align: center\"><iframe width=\"700\" height=\"500\" src=https://www.youtube.com/embed/00rctVVSSoA?start=2895&end=2956></iframe></div>\n",
        "```"
      ]
    },
    {
      "cell_type": "code",
      "execution_count": 153,
      "metadata": {
        "ExecuteTime": {
          "end_time": "2022-02-19T18:22:29.126063Z",
          "start_time": "2022-02-19T18:22:29.116973Z"
        },
        "scrolled": true,
        "tags": [
          "hide-input"
        ],
        "id": "wTijzPAEf_x5"
      },
      "outputs": [],
      "source": [
        "Ans = df[['neighbourhood_group','reviews_per_month']].groupby('neighbourhood_group').agg(['mean','var','max','min'])"
      ]
    },
    {
      "cell_type": "code",
      "execution_count": 154,
      "metadata": {
        "ExecuteTime": {
          "end_time": "2022-02-19T18:22:29.135374Z",
          "start_time": "2022-02-19T18:22:29.127449Z"
        },
        "id": "jf-KuNLif_x5",
        "outputId": "e68ea358-f18d-40c4-fe00-a99dd0bd048a",
        "colab": {
          "base_uri": "https://localhost:8080/",
          "height": 269
        }
      },
      "outputs": [
        {
          "output_type": "execute_result",
          "data": {
            "text/plain": [
              "                    reviews_per_month                       \n",
              "                                 mean       var    max   min\n",
              "neighbourhood_group                                         \n",
              "Bronx                        1.837831  2.799878  10.34  0.02\n",
              "Brooklyn                     1.283212  2.299040  14.00  0.01\n",
              "Manhattan                    1.272131  2.651206  58.50  0.01\n",
              "Queens                       1.941200  4.897848  20.94  0.01\n",
              "Staten Island                1.872580  2.840895  10.12  0.02"
            ],
            "text/html": [
              "\n",
              "  <div id=\"df-e359ce92-fa02-42c9-b3d2-54eb6c5155eb\">\n",
              "    <div class=\"colab-df-container\">\n",
              "      <div>\n",
              "<style scoped>\n",
              "    .dataframe tbody tr th:only-of-type {\n",
              "        vertical-align: middle;\n",
              "    }\n",
              "\n",
              "    .dataframe tbody tr th {\n",
              "        vertical-align: top;\n",
              "    }\n",
              "\n",
              "    .dataframe thead tr th {\n",
              "        text-align: left;\n",
              "    }\n",
              "\n",
              "    .dataframe thead tr:last-of-type th {\n",
              "        text-align: right;\n",
              "    }\n",
              "</style>\n",
              "<table border=\"1\" class=\"dataframe\">\n",
              "  <thead>\n",
              "    <tr>\n",
              "      <th></th>\n",
              "      <th colspan=\"4\" halign=\"left\">reviews_per_month</th>\n",
              "    </tr>\n",
              "    <tr>\n",
              "      <th></th>\n",
              "      <th>mean</th>\n",
              "      <th>var</th>\n",
              "      <th>max</th>\n",
              "      <th>min</th>\n",
              "    </tr>\n",
              "    <tr>\n",
              "      <th>neighbourhood_group</th>\n",
              "      <th></th>\n",
              "      <th></th>\n",
              "      <th></th>\n",
              "      <th></th>\n",
              "    </tr>\n",
              "  </thead>\n",
              "  <tbody>\n",
              "    <tr>\n",
              "      <th>Bronx</th>\n",
              "      <td>1.837831</td>\n",
              "      <td>2.799878</td>\n",
              "      <td>10.34</td>\n",
              "      <td>0.02</td>\n",
              "    </tr>\n",
              "    <tr>\n",
              "      <th>Brooklyn</th>\n",
              "      <td>1.283212</td>\n",
              "      <td>2.299040</td>\n",
              "      <td>14.00</td>\n",
              "      <td>0.01</td>\n",
              "    </tr>\n",
              "    <tr>\n",
              "      <th>Manhattan</th>\n",
              "      <td>1.272131</td>\n",
              "      <td>2.651206</td>\n",
              "      <td>58.50</td>\n",
              "      <td>0.01</td>\n",
              "    </tr>\n",
              "    <tr>\n",
              "      <th>Queens</th>\n",
              "      <td>1.941200</td>\n",
              "      <td>4.897848</td>\n",
              "      <td>20.94</td>\n",
              "      <td>0.01</td>\n",
              "    </tr>\n",
              "    <tr>\n",
              "      <th>Staten Island</th>\n",
              "      <td>1.872580</td>\n",
              "      <td>2.840895</td>\n",
              "      <td>10.12</td>\n",
              "      <td>0.02</td>\n",
              "    </tr>\n",
              "  </tbody>\n",
              "</table>\n",
              "</div>\n",
              "      <button class=\"colab-df-convert\" onclick=\"convertToInteractive('df-e359ce92-fa02-42c9-b3d2-54eb6c5155eb')\"\n",
              "              title=\"Convert this dataframe to an interactive table.\"\n",
              "              style=\"display:none;\">\n",
              "        \n",
              "  <svg xmlns=\"http://www.w3.org/2000/svg\" height=\"24px\"viewBox=\"0 0 24 24\"\n",
              "       width=\"24px\">\n",
              "    <path d=\"M0 0h24v24H0V0z\" fill=\"none\"/>\n",
              "    <path d=\"M18.56 5.44l.94 2.06.94-2.06 2.06-.94-2.06-.94-.94-2.06-.94 2.06-2.06.94zm-11 1L8.5 8.5l.94-2.06 2.06-.94-2.06-.94L8.5 2.5l-.94 2.06-2.06.94zm10 10l.94 2.06.94-2.06 2.06-.94-2.06-.94-.94-2.06-.94 2.06-2.06.94z\"/><path d=\"M17.41 7.96l-1.37-1.37c-.4-.4-.92-.59-1.43-.59-.52 0-1.04.2-1.43.59L10.3 9.45l-7.72 7.72c-.78.78-.78 2.05 0 2.83L4 21.41c.39.39.9.59 1.41.59.51 0 1.02-.2 1.41-.59l7.78-7.78 2.81-2.81c.8-.78.8-2.07 0-2.86zM5.41 20L4 18.59l7.72-7.72 1.47 1.35L5.41 20z\"/>\n",
              "  </svg>\n",
              "      </button>\n",
              "      \n",
              "  <style>\n",
              "    .colab-df-container {\n",
              "      display:flex;\n",
              "      flex-wrap:wrap;\n",
              "      gap: 12px;\n",
              "    }\n",
              "\n",
              "    .colab-df-convert {\n",
              "      background-color: #E8F0FE;\n",
              "      border: none;\n",
              "      border-radius: 50%;\n",
              "      cursor: pointer;\n",
              "      display: none;\n",
              "      fill: #1967D2;\n",
              "      height: 32px;\n",
              "      padding: 0 0 0 0;\n",
              "      width: 32px;\n",
              "    }\n",
              "\n",
              "    .colab-df-convert:hover {\n",
              "      background-color: #E2EBFA;\n",
              "      box-shadow: 0px 1px 2px rgba(60, 64, 67, 0.3), 0px 1px 3px 1px rgba(60, 64, 67, 0.15);\n",
              "      fill: #174EA6;\n",
              "    }\n",
              "\n",
              "    [theme=dark] .colab-df-convert {\n",
              "      background-color: #3B4455;\n",
              "      fill: #D2E3FC;\n",
              "    }\n",
              "\n",
              "    [theme=dark] .colab-df-convert:hover {\n",
              "      background-color: #434B5C;\n",
              "      box-shadow: 0px 1px 3px 1px rgba(0, 0, 0, 0.15);\n",
              "      filter: drop-shadow(0px 1px 2px rgba(0, 0, 0, 0.3));\n",
              "      fill: #FFFFFF;\n",
              "    }\n",
              "  </style>\n",
              "\n",
              "      <script>\n",
              "        const buttonEl =\n",
              "          document.querySelector('#df-e359ce92-fa02-42c9-b3d2-54eb6c5155eb button.colab-df-convert');\n",
              "        buttonEl.style.display =\n",
              "          google.colab.kernel.accessAllowed ? 'block' : 'none';\n",
              "\n",
              "        async function convertToInteractive(key) {\n",
              "          const element = document.querySelector('#df-e359ce92-fa02-42c9-b3d2-54eb6c5155eb');\n",
              "          const dataTable =\n",
              "            await google.colab.kernel.invokeFunction('convertToInteractive',\n",
              "                                                     [key], {});\n",
              "          if (!dataTable) return;\n",
              "\n",
              "          const docLinkHtml = 'Like what you see? Visit the ' +\n",
              "            '<a target=\"_blank\" href=https://colab.research.google.com/notebooks/data_table.ipynb>data table notebook</a>'\n",
              "            + ' to learn more about interactive tables.';\n",
              "          element.innerHTML = '';\n",
              "          dataTable['output_type'] = 'display_data';\n",
              "          await google.colab.output.renderOutput(dataTable, element);\n",
              "          const docLink = document.createElement('div');\n",
              "          docLink.innerHTML = docLinkHtml;\n",
              "          element.appendChild(docLink);\n",
              "        }\n",
              "      </script>\n",
              "    </div>\n",
              "  </div>\n",
              "  "
            ]
          },
          "metadata": {},
          "execution_count": 154
        }
      ],
      "source": [
        "Ans"
      ]
    },
    {
      "cell_type": "markdown",
      "metadata": {
        "id": "R8sujHrxf_x5"
      },
      "source": [
        "```{admonition} Question 51\n",
        "**neighbourhood 값과 neighbourhood_group 값에 따른 price 의 평균을 구하라**\n",
        "```"
      ]
    },
    {
      "cell_type": "markdown",
      "metadata": {
        "id": "qn3026bAf_x6"
      },
      "source": [
        "```{admonition} 51번 유튜브 풀이\n",
        ":class: dropdown\n",
        "<div style=\"text-align: center\"><iframe width=\"700\" height=\"500\" src=https://www.youtube.com/embed/00rctVVSSoA?start=2958&end=3031></iframe></div>\n",
        "```"
      ]
    },
    {
      "cell_type": "code",
      "execution_count": 167,
      "metadata": {
        "ExecuteTime": {
          "end_time": "2022-02-19T18:22:29.145832Z",
          "start_time": "2022-02-19T18:22:29.136780Z"
        },
        "scrolled": true,
        "tags": [
          "hide-input"
        ],
        "id": "eGhHzrQMf_x6"
      },
      "outputs": [],
      "source": [
        "Ans = df.groupby(['neighbourhood','neighbourhood_group']).price.mean()"
      ]
    },
    {
      "cell_type": "code",
      "execution_count": 168,
      "metadata": {
        "ExecuteTime": {
          "end_time": "2022-02-19T18:22:29.152235Z",
          "start_time": "2022-02-19T18:22:29.147044Z"
        },
        "id": "MMQWX4U8f_x6",
        "outputId": "ce1c50ce-00b0-4245-fea6-cd8d60a84b43",
        "colab": {
          "base_uri": "https://localhost:8080/"
        }
      },
      "outputs": [
        {
          "output_type": "execute_result",
          "data": {
            "text/plain": [
              "neighbourhood    neighbourhood_group\n",
              "Allerton         Bronx                   87.595238\n",
              "Arden Heights    Staten Island           67.250000\n",
              "Arrochar         Staten Island          115.000000\n",
              "Arverne          Queens                 171.779221\n",
              "Astoria          Queens                 117.187778\n",
              "                                           ...    \n",
              "Windsor Terrace  Brooklyn               138.993631\n",
              "Woodhaven        Queens                  67.170455\n",
              "Woodlawn         Bronx                   60.090909\n",
              "Woodrow          Staten Island          700.000000\n",
              "Woodside         Queens                  85.097872\n",
              "Name: price, Length: 221, dtype: float64"
            ]
          },
          "metadata": {},
          "execution_count": 168
        }
      ],
      "source": [
        "Ans"
      ]
    },
    {
      "cell_type": "markdown",
      "metadata": {
        "id": "fezhO8IVf_x6"
      },
      "source": [
        "```{admonition} Question 52\n",
        "**neighbourhood 값과 neighbourhood_group 값에 따른 price 의 평균을 계층적 indexing 없이 구하라**\n",
        "```"
      ]
    },
    {
      "cell_type": "markdown",
      "metadata": {
        "id": "15jKtZPHf_x6"
      },
      "source": [
        "```{admonition} 52번 유튜브 풀이\n",
        ":class: dropdown\n",
        "<div style=\"text-align: center\"><iframe width=\"700\" height=\"500\" src=https://www.youtube.com/embed/00rctVVSSoA?start=3033&end=3127></iframe></div>\n",
        "```"
      ]
    },
    {
      "cell_type": "code",
      "execution_count": 173,
      "metadata": {
        "ExecuteTime": {
          "end_time": "2022-02-19T18:22:29.163235Z",
          "start_time": "2022-02-19T18:22:29.153675Z"
        },
        "tags": [
          "hide-input"
        ],
        "id": "3sUsB-0ff_x6"
      },
      "outputs": [],
      "source": [
        "Ans = df.groupby(['neighbourhood','neighbourhood_group']).price.mean().unstack()"
      ]
    },
    {
      "cell_type": "code",
      "execution_count": 174,
      "metadata": {
        "ExecuteTime": {
          "end_time": "2022-02-19T18:22:29.173418Z",
          "start_time": "2022-02-19T18:22:29.164602Z"
        },
        "id": "TM-5svGEf_x6",
        "outputId": "f5ebf080-5bec-4f0d-afce-7b9d741062c7",
        "colab": {
          "base_uri": "https://localhost:8080/",
          "height": 455
        }
      },
      "outputs": [
        {
          "output_type": "execute_result",
          "data": {
            "text/plain": [
              "neighbourhood_group      Bronx    Brooklyn  Manhattan      Queens  \\\n",
              "neighbourhood                                                       \n",
              "Allerton             87.595238         NaN        NaN         NaN   \n",
              "Arden Heights              NaN         NaN        NaN         NaN   \n",
              "Arrochar                   NaN         NaN        NaN         NaN   \n",
              "Arverne                    NaN         NaN        NaN  171.779221   \n",
              "Astoria                    NaN         NaN        NaN  117.187778   \n",
              "...                        ...         ...        ...         ...   \n",
              "Windsor Terrace            NaN  138.993631        NaN         NaN   \n",
              "Woodhaven                  NaN         NaN        NaN   67.170455   \n",
              "Woodlawn             60.090909         NaN        NaN         NaN   \n",
              "Woodrow                    NaN         NaN        NaN         NaN   \n",
              "Woodside                   NaN         NaN        NaN   85.097872   \n",
              "\n",
              "neighbourhood_group  Staten Island  \n",
              "neighbourhood                       \n",
              "Allerton                       NaN  \n",
              "Arden Heights                67.25  \n",
              "Arrochar                    115.00  \n",
              "Arverne                        NaN  \n",
              "Astoria                        NaN  \n",
              "...                            ...  \n",
              "Windsor Terrace                NaN  \n",
              "Woodhaven                      NaN  \n",
              "Woodlawn                       NaN  \n",
              "Woodrow                     700.00  \n",
              "Woodside                       NaN  \n",
              "\n",
              "[221 rows x 5 columns]"
            ],
            "text/html": [
              "\n",
              "  <div id=\"df-ab43fe82-7385-4e45-bbe5-f4ed5db18ce6\">\n",
              "    <div class=\"colab-df-container\">\n",
              "      <div>\n",
              "<style scoped>\n",
              "    .dataframe tbody tr th:only-of-type {\n",
              "        vertical-align: middle;\n",
              "    }\n",
              "\n",
              "    .dataframe tbody tr th {\n",
              "        vertical-align: top;\n",
              "    }\n",
              "\n",
              "    .dataframe thead th {\n",
              "        text-align: right;\n",
              "    }\n",
              "</style>\n",
              "<table border=\"1\" class=\"dataframe\">\n",
              "  <thead>\n",
              "    <tr style=\"text-align: right;\">\n",
              "      <th>neighbourhood_group</th>\n",
              "      <th>Bronx</th>\n",
              "      <th>Brooklyn</th>\n",
              "      <th>Manhattan</th>\n",
              "      <th>Queens</th>\n",
              "      <th>Staten Island</th>\n",
              "    </tr>\n",
              "    <tr>\n",
              "      <th>neighbourhood</th>\n",
              "      <th></th>\n",
              "      <th></th>\n",
              "      <th></th>\n",
              "      <th></th>\n",
              "      <th></th>\n",
              "    </tr>\n",
              "  </thead>\n",
              "  <tbody>\n",
              "    <tr>\n",
              "      <th>Allerton</th>\n",
              "      <td>87.595238</td>\n",
              "      <td>NaN</td>\n",
              "      <td>NaN</td>\n",
              "      <td>NaN</td>\n",
              "      <td>NaN</td>\n",
              "    </tr>\n",
              "    <tr>\n",
              "      <th>Arden Heights</th>\n",
              "      <td>NaN</td>\n",
              "      <td>NaN</td>\n",
              "      <td>NaN</td>\n",
              "      <td>NaN</td>\n",
              "      <td>67.25</td>\n",
              "    </tr>\n",
              "    <tr>\n",
              "      <th>Arrochar</th>\n",
              "      <td>NaN</td>\n",
              "      <td>NaN</td>\n",
              "      <td>NaN</td>\n",
              "      <td>NaN</td>\n",
              "      <td>115.00</td>\n",
              "    </tr>\n",
              "    <tr>\n",
              "      <th>Arverne</th>\n",
              "      <td>NaN</td>\n",
              "      <td>NaN</td>\n",
              "      <td>NaN</td>\n",
              "      <td>171.779221</td>\n",
              "      <td>NaN</td>\n",
              "    </tr>\n",
              "    <tr>\n",
              "      <th>Astoria</th>\n",
              "      <td>NaN</td>\n",
              "      <td>NaN</td>\n",
              "      <td>NaN</td>\n",
              "      <td>117.187778</td>\n",
              "      <td>NaN</td>\n",
              "    </tr>\n",
              "    <tr>\n",
              "      <th>...</th>\n",
              "      <td>...</td>\n",
              "      <td>...</td>\n",
              "      <td>...</td>\n",
              "      <td>...</td>\n",
              "      <td>...</td>\n",
              "    </tr>\n",
              "    <tr>\n",
              "      <th>Windsor Terrace</th>\n",
              "      <td>NaN</td>\n",
              "      <td>138.993631</td>\n",
              "      <td>NaN</td>\n",
              "      <td>NaN</td>\n",
              "      <td>NaN</td>\n",
              "    </tr>\n",
              "    <tr>\n",
              "      <th>Woodhaven</th>\n",
              "      <td>NaN</td>\n",
              "      <td>NaN</td>\n",
              "      <td>NaN</td>\n",
              "      <td>67.170455</td>\n",
              "      <td>NaN</td>\n",
              "    </tr>\n",
              "    <tr>\n",
              "      <th>Woodlawn</th>\n",
              "      <td>60.090909</td>\n",
              "      <td>NaN</td>\n",
              "      <td>NaN</td>\n",
              "      <td>NaN</td>\n",
              "      <td>NaN</td>\n",
              "    </tr>\n",
              "    <tr>\n",
              "      <th>Woodrow</th>\n",
              "      <td>NaN</td>\n",
              "      <td>NaN</td>\n",
              "      <td>NaN</td>\n",
              "      <td>NaN</td>\n",
              "      <td>700.00</td>\n",
              "    </tr>\n",
              "    <tr>\n",
              "      <th>Woodside</th>\n",
              "      <td>NaN</td>\n",
              "      <td>NaN</td>\n",
              "      <td>NaN</td>\n",
              "      <td>85.097872</td>\n",
              "      <td>NaN</td>\n",
              "    </tr>\n",
              "  </tbody>\n",
              "</table>\n",
              "<p>221 rows × 5 columns</p>\n",
              "</div>\n",
              "      <button class=\"colab-df-convert\" onclick=\"convertToInteractive('df-ab43fe82-7385-4e45-bbe5-f4ed5db18ce6')\"\n",
              "              title=\"Convert this dataframe to an interactive table.\"\n",
              "              style=\"display:none;\">\n",
              "        \n",
              "  <svg xmlns=\"http://www.w3.org/2000/svg\" height=\"24px\"viewBox=\"0 0 24 24\"\n",
              "       width=\"24px\">\n",
              "    <path d=\"M0 0h24v24H0V0z\" fill=\"none\"/>\n",
              "    <path d=\"M18.56 5.44l.94 2.06.94-2.06 2.06-.94-2.06-.94-.94-2.06-.94 2.06-2.06.94zm-11 1L8.5 8.5l.94-2.06 2.06-.94-2.06-.94L8.5 2.5l-.94 2.06-2.06.94zm10 10l.94 2.06.94-2.06 2.06-.94-2.06-.94-.94-2.06-.94 2.06-2.06.94z\"/><path d=\"M17.41 7.96l-1.37-1.37c-.4-.4-.92-.59-1.43-.59-.52 0-1.04.2-1.43.59L10.3 9.45l-7.72 7.72c-.78.78-.78 2.05 0 2.83L4 21.41c.39.39.9.59 1.41.59.51 0 1.02-.2 1.41-.59l7.78-7.78 2.81-2.81c.8-.78.8-2.07 0-2.86zM5.41 20L4 18.59l7.72-7.72 1.47 1.35L5.41 20z\"/>\n",
              "  </svg>\n",
              "      </button>\n",
              "      \n",
              "  <style>\n",
              "    .colab-df-container {\n",
              "      display:flex;\n",
              "      flex-wrap:wrap;\n",
              "      gap: 12px;\n",
              "    }\n",
              "\n",
              "    .colab-df-convert {\n",
              "      background-color: #E8F0FE;\n",
              "      border: none;\n",
              "      border-radius: 50%;\n",
              "      cursor: pointer;\n",
              "      display: none;\n",
              "      fill: #1967D2;\n",
              "      height: 32px;\n",
              "      padding: 0 0 0 0;\n",
              "      width: 32px;\n",
              "    }\n",
              "\n",
              "    .colab-df-convert:hover {\n",
              "      background-color: #E2EBFA;\n",
              "      box-shadow: 0px 1px 2px rgba(60, 64, 67, 0.3), 0px 1px 3px 1px rgba(60, 64, 67, 0.15);\n",
              "      fill: #174EA6;\n",
              "    }\n",
              "\n",
              "    [theme=dark] .colab-df-convert {\n",
              "      background-color: #3B4455;\n",
              "      fill: #D2E3FC;\n",
              "    }\n",
              "\n",
              "    [theme=dark] .colab-df-convert:hover {\n",
              "      background-color: #434B5C;\n",
              "      box-shadow: 0px 1px 3px 1px rgba(0, 0, 0, 0.15);\n",
              "      filter: drop-shadow(0px 1px 2px rgba(0, 0, 0, 0.3));\n",
              "      fill: #FFFFFF;\n",
              "    }\n",
              "  </style>\n",
              "\n",
              "      <script>\n",
              "        const buttonEl =\n",
              "          document.querySelector('#df-ab43fe82-7385-4e45-bbe5-f4ed5db18ce6 button.colab-df-convert');\n",
              "        buttonEl.style.display =\n",
              "          google.colab.kernel.accessAllowed ? 'block' : 'none';\n",
              "\n",
              "        async function convertToInteractive(key) {\n",
              "          const element = document.querySelector('#df-ab43fe82-7385-4e45-bbe5-f4ed5db18ce6');\n",
              "          const dataTable =\n",
              "            await google.colab.kernel.invokeFunction('convertToInteractive',\n",
              "                                                     [key], {});\n",
              "          if (!dataTable) return;\n",
              "\n",
              "          const docLinkHtml = 'Like what you see? Visit the ' +\n",
              "            '<a target=\"_blank\" href=https://colab.research.google.com/notebooks/data_table.ipynb>data table notebook</a>'\n",
              "            + ' to learn more about interactive tables.';\n",
              "          element.innerHTML = '';\n",
              "          dataTable['output_type'] = 'display_data';\n",
              "          await google.colab.output.renderOutput(dataTable, element);\n",
              "          const docLink = document.createElement('div');\n",
              "          docLink.innerHTML = docLinkHtml;\n",
              "          element.appendChild(docLink);\n",
              "        }\n",
              "      </script>\n",
              "    </div>\n",
              "  </div>\n",
              "  "
            ]
          },
          "metadata": {},
          "execution_count": 174
        }
      ],
      "source": [
        "Ans"
      ]
    },
    {
      "cell_type": "markdown",
      "metadata": {
        "id": "HQWWijLzf_x6"
      },
      "source": [
        "```{admonition} Question 53\n",
        "**neighbourhood 값과 neighbourhood_group 값에 따른 price 의 평균을 계층적 indexing 없이 구하고 nan 값은 -999값으로 채워라**\n",
        "```"
      ]
    },
    {
      "cell_type": "markdown",
      "metadata": {
        "id": "69Wzo5aJf_x7"
      },
      "source": [
        "```{admonition} 53번 유튜브 풀이\n",
        ":class: dropdown\n",
        "<div style=\"text-align: center\"><iframe width=\"700\" height=\"500\" src=https://www.youtube.com/embed/00rctVVSSoA?start=3129&end=3238></iframe></div>\n",
        "```\n"
      ]
    },
    {
      "cell_type": "code",
      "execution_count": 176,
      "metadata": {
        "ExecuteTime": {
          "end_time": "2022-02-19T18:22:29.184175Z",
          "start_time": "2022-02-19T18:22:29.174509Z"
        },
        "tags": [
          "hide-input"
        ],
        "id": "us93RdSEf_x7"
      },
      "outputs": [],
      "source": [
        "Ans = df.groupby(['neighbourhood','neighbourhood_group']).price.mean().unstack().fillna(-999)"
      ]
    },
    {
      "cell_type": "code",
      "execution_count": 177,
      "metadata": {
        "ExecuteTime": {
          "end_time": "2022-02-19T18:22:29.193318Z",
          "start_time": "2022-02-19T18:22:29.185510Z"
        },
        "scrolled": false,
        "id": "SN8bWgcYf_x7",
        "outputId": "51605854-f8ec-4fe0-cf77-79529c2cfed6",
        "colab": {
          "base_uri": "https://localhost:8080/",
          "height": 206
        }
      },
      "outputs": [
        {
          "output_type": "execute_result",
          "data": {
            "text/plain": [
              "neighbourhood_group       Bronx  Brooklyn  Manhattan      Queens  \\\n",
              "neighbourhood                                                      \n",
              "Allerton              87.595238    -999.0     -999.0 -999.000000   \n",
              "Arden Heights       -999.000000    -999.0     -999.0 -999.000000   \n",
              "Arrochar            -999.000000    -999.0     -999.0 -999.000000   \n",
              "Arverne             -999.000000    -999.0     -999.0  171.779221   \n",
              "\n",
              "neighbourhood_group  Staten Island  \n",
              "neighbourhood                       \n",
              "Allerton                   -999.00  \n",
              "Arden Heights                67.25  \n",
              "Arrochar                    115.00  \n",
              "Arverne                    -999.00  "
            ],
            "text/html": [
              "\n",
              "  <div id=\"df-f0943769-ff8c-4e4b-81d1-e18e91084f18\">\n",
              "    <div class=\"colab-df-container\">\n",
              "      <div>\n",
              "<style scoped>\n",
              "    .dataframe tbody tr th:only-of-type {\n",
              "        vertical-align: middle;\n",
              "    }\n",
              "\n",
              "    .dataframe tbody tr th {\n",
              "        vertical-align: top;\n",
              "    }\n",
              "\n",
              "    .dataframe thead th {\n",
              "        text-align: right;\n",
              "    }\n",
              "</style>\n",
              "<table border=\"1\" class=\"dataframe\">\n",
              "  <thead>\n",
              "    <tr style=\"text-align: right;\">\n",
              "      <th>neighbourhood_group</th>\n",
              "      <th>Bronx</th>\n",
              "      <th>Brooklyn</th>\n",
              "      <th>Manhattan</th>\n",
              "      <th>Queens</th>\n",
              "      <th>Staten Island</th>\n",
              "    </tr>\n",
              "    <tr>\n",
              "      <th>neighbourhood</th>\n",
              "      <th></th>\n",
              "      <th></th>\n",
              "      <th></th>\n",
              "      <th></th>\n",
              "      <th></th>\n",
              "    </tr>\n",
              "  </thead>\n",
              "  <tbody>\n",
              "    <tr>\n",
              "      <th>Allerton</th>\n",
              "      <td>87.595238</td>\n",
              "      <td>-999.0</td>\n",
              "      <td>-999.0</td>\n",
              "      <td>-999.000000</td>\n",
              "      <td>-999.00</td>\n",
              "    </tr>\n",
              "    <tr>\n",
              "      <th>Arden Heights</th>\n",
              "      <td>-999.000000</td>\n",
              "      <td>-999.0</td>\n",
              "      <td>-999.0</td>\n",
              "      <td>-999.000000</td>\n",
              "      <td>67.25</td>\n",
              "    </tr>\n",
              "    <tr>\n",
              "      <th>Arrochar</th>\n",
              "      <td>-999.000000</td>\n",
              "      <td>-999.0</td>\n",
              "      <td>-999.0</td>\n",
              "      <td>-999.000000</td>\n",
              "      <td>115.00</td>\n",
              "    </tr>\n",
              "    <tr>\n",
              "      <th>Arverne</th>\n",
              "      <td>-999.000000</td>\n",
              "      <td>-999.0</td>\n",
              "      <td>-999.0</td>\n",
              "      <td>171.779221</td>\n",
              "      <td>-999.00</td>\n",
              "    </tr>\n",
              "  </tbody>\n",
              "</table>\n",
              "</div>\n",
              "      <button class=\"colab-df-convert\" onclick=\"convertToInteractive('df-f0943769-ff8c-4e4b-81d1-e18e91084f18')\"\n",
              "              title=\"Convert this dataframe to an interactive table.\"\n",
              "              style=\"display:none;\">\n",
              "        \n",
              "  <svg xmlns=\"http://www.w3.org/2000/svg\" height=\"24px\"viewBox=\"0 0 24 24\"\n",
              "       width=\"24px\">\n",
              "    <path d=\"M0 0h24v24H0V0z\" fill=\"none\"/>\n",
              "    <path d=\"M18.56 5.44l.94 2.06.94-2.06 2.06-.94-2.06-.94-.94-2.06-.94 2.06-2.06.94zm-11 1L8.5 8.5l.94-2.06 2.06-.94-2.06-.94L8.5 2.5l-.94 2.06-2.06.94zm10 10l.94 2.06.94-2.06 2.06-.94-2.06-.94-.94-2.06-.94 2.06-2.06.94z\"/><path d=\"M17.41 7.96l-1.37-1.37c-.4-.4-.92-.59-1.43-.59-.52 0-1.04.2-1.43.59L10.3 9.45l-7.72 7.72c-.78.78-.78 2.05 0 2.83L4 21.41c.39.39.9.59 1.41.59.51 0 1.02-.2 1.41-.59l7.78-7.78 2.81-2.81c.8-.78.8-2.07 0-2.86zM5.41 20L4 18.59l7.72-7.72 1.47 1.35L5.41 20z\"/>\n",
              "  </svg>\n",
              "      </button>\n",
              "      \n",
              "  <style>\n",
              "    .colab-df-container {\n",
              "      display:flex;\n",
              "      flex-wrap:wrap;\n",
              "      gap: 12px;\n",
              "    }\n",
              "\n",
              "    .colab-df-convert {\n",
              "      background-color: #E8F0FE;\n",
              "      border: none;\n",
              "      border-radius: 50%;\n",
              "      cursor: pointer;\n",
              "      display: none;\n",
              "      fill: #1967D2;\n",
              "      height: 32px;\n",
              "      padding: 0 0 0 0;\n",
              "      width: 32px;\n",
              "    }\n",
              "\n",
              "    .colab-df-convert:hover {\n",
              "      background-color: #E2EBFA;\n",
              "      box-shadow: 0px 1px 2px rgba(60, 64, 67, 0.3), 0px 1px 3px 1px rgba(60, 64, 67, 0.15);\n",
              "      fill: #174EA6;\n",
              "    }\n",
              "\n",
              "    [theme=dark] .colab-df-convert {\n",
              "      background-color: #3B4455;\n",
              "      fill: #D2E3FC;\n",
              "    }\n",
              "\n",
              "    [theme=dark] .colab-df-convert:hover {\n",
              "      background-color: #434B5C;\n",
              "      box-shadow: 0px 1px 3px 1px rgba(0, 0, 0, 0.15);\n",
              "      filter: drop-shadow(0px 1px 2px rgba(0, 0, 0, 0.3));\n",
              "      fill: #FFFFFF;\n",
              "    }\n",
              "  </style>\n",
              "\n",
              "      <script>\n",
              "        const buttonEl =\n",
              "          document.querySelector('#df-f0943769-ff8c-4e4b-81d1-e18e91084f18 button.colab-df-convert');\n",
              "        buttonEl.style.display =\n",
              "          google.colab.kernel.accessAllowed ? 'block' : 'none';\n",
              "\n",
              "        async function convertToInteractive(key) {\n",
              "          const element = document.querySelector('#df-f0943769-ff8c-4e4b-81d1-e18e91084f18');\n",
              "          const dataTable =\n",
              "            await google.colab.kernel.invokeFunction('convertToInteractive',\n",
              "                                                     [key], {});\n",
              "          if (!dataTable) return;\n",
              "\n",
              "          const docLinkHtml = 'Like what you see? Visit the ' +\n",
              "            '<a target=\"_blank\" href=https://colab.research.google.com/notebooks/data_table.ipynb>data table notebook</a>'\n",
              "            + ' to learn more about interactive tables.';\n",
              "          element.innerHTML = '';\n",
              "          dataTable['output_type'] = 'display_data';\n",
              "          await google.colab.output.renderOutput(dataTable, element);\n",
              "          const docLink = document.createElement('div');\n",
              "          docLink.innerHTML = docLinkHtml;\n",
              "          element.appendChild(docLink);\n",
              "        }\n",
              "      </script>\n",
              "    </div>\n",
              "  </div>\n",
              "  "
            ]
          },
          "metadata": {},
          "execution_count": 177
        }
      ],
      "source": [
        "Ans.head(4)"
      ]
    },
    {
      "cell_type": "markdown",
      "metadata": {
        "id": "r96LsOwnf_x7"
      },
      "source": [
        "```{admonition} Question 54\n",
        "**데이터중 neighbourhood_group 값이 Queens값을 가지는 데이터들 중 neighbourhood 그룹별로 price값의 평균, 분산, 최대, 최소값을 구하라**\n",
        "```"
      ]
    },
    {
      "cell_type": "markdown",
      "metadata": {
        "id": "PWxnaVvQf_x7"
      },
      "source": [
        "```{admonition} 54번 유튜브 풀이\n",
        ":class: dropdown\n",
        "<div style=\"text-align: center\"><iframe width=\"700\" height=\"500\" src=https://www.youtube.com/embed/00rctVVSSoA?start=3240&end=3348></iframe></div>\n",
        "```"
      ]
    },
    {
      "cell_type": "code",
      "execution_count": 180,
      "metadata": {
        "ExecuteTime": {
          "end_time": "2022-02-19T18:22:29.203112Z",
          "start_time": "2022-02-19T18:22:29.194734Z"
        },
        "tags": [
          "hide-input"
        ],
        "id": "pyAuUMBsf_x7"
      },
      "outputs": [],
      "source": [
        "Ans = df[df.neighbourhood_group=='Queens'].groupby(['neighbourhood']).price.agg(['mean','var','max','min'])"
      ]
    },
    {
      "cell_type": "code",
      "execution_count": 181,
      "metadata": {
        "ExecuteTime": {
          "end_time": "2022-02-19T18:22:29.210453Z",
          "start_time": "2022-02-19T18:22:29.204428Z"
        },
        "id": "Lfw0_wDbf_x7",
        "outputId": "b2ef04c9-e883-4674-ebe3-8da559dd1cd8",
        "colab": {
          "base_uri": "https://localhost:8080/",
          "height": 206
        }
      },
      "outputs": [
        {
          "output_type": "execute_result",
          "data": {
            "text/plain": [
              "                     mean            var    max  min\n",
              "neighbourhood                                       \n",
              "Arverne        171.779221   37383.411141   1500   35\n",
              "Astoria        117.187778  122428.811196  10000   25\n",
              "Bay Terrace    142.000000    6816.400000    258   32\n",
              "Bayside        157.948718  166106.470985   2600   30"
            ],
            "text/html": [
              "\n",
              "  <div id=\"df-809b1572-9935-47f7-8108-58ff2eb3b316\">\n",
              "    <div class=\"colab-df-container\">\n",
              "      <div>\n",
              "<style scoped>\n",
              "    .dataframe tbody tr th:only-of-type {\n",
              "        vertical-align: middle;\n",
              "    }\n",
              "\n",
              "    .dataframe tbody tr th {\n",
              "        vertical-align: top;\n",
              "    }\n",
              "\n",
              "    .dataframe thead th {\n",
              "        text-align: right;\n",
              "    }\n",
              "</style>\n",
              "<table border=\"1\" class=\"dataframe\">\n",
              "  <thead>\n",
              "    <tr style=\"text-align: right;\">\n",
              "      <th></th>\n",
              "      <th>mean</th>\n",
              "      <th>var</th>\n",
              "      <th>max</th>\n",
              "      <th>min</th>\n",
              "    </tr>\n",
              "    <tr>\n",
              "      <th>neighbourhood</th>\n",
              "      <th></th>\n",
              "      <th></th>\n",
              "      <th></th>\n",
              "      <th></th>\n",
              "    </tr>\n",
              "  </thead>\n",
              "  <tbody>\n",
              "    <tr>\n",
              "      <th>Arverne</th>\n",
              "      <td>171.779221</td>\n",
              "      <td>37383.411141</td>\n",
              "      <td>1500</td>\n",
              "      <td>35</td>\n",
              "    </tr>\n",
              "    <tr>\n",
              "      <th>Astoria</th>\n",
              "      <td>117.187778</td>\n",
              "      <td>122428.811196</td>\n",
              "      <td>10000</td>\n",
              "      <td>25</td>\n",
              "    </tr>\n",
              "    <tr>\n",
              "      <th>Bay Terrace</th>\n",
              "      <td>142.000000</td>\n",
              "      <td>6816.400000</td>\n",
              "      <td>258</td>\n",
              "      <td>32</td>\n",
              "    </tr>\n",
              "    <tr>\n",
              "      <th>Bayside</th>\n",
              "      <td>157.948718</td>\n",
              "      <td>166106.470985</td>\n",
              "      <td>2600</td>\n",
              "      <td>30</td>\n",
              "    </tr>\n",
              "  </tbody>\n",
              "</table>\n",
              "</div>\n",
              "      <button class=\"colab-df-convert\" onclick=\"convertToInteractive('df-809b1572-9935-47f7-8108-58ff2eb3b316')\"\n",
              "              title=\"Convert this dataframe to an interactive table.\"\n",
              "              style=\"display:none;\">\n",
              "        \n",
              "  <svg xmlns=\"http://www.w3.org/2000/svg\" height=\"24px\"viewBox=\"0 0 24 24\"\n",
              "       width=\"24px\">\n",
              "    <path d=\"M0 0h24v24H0V0z\" fill=\"none\"/>\n",
              "    <path d=\"M18.56 5.44l.94 2.06.94-2.06 2.06-.94-2.06-.94-.94-2.06-.94 2.06-2.06.94zm-11 1L8.5 8.5l.94-2.06 2.06-.94-2.06-.94L8.5 2.5l-.94 2.06-2.06.94zm10 10l.94 2.06.94-2.06 2.06-.94-2.06-.94-.94-2.06-.94 2.06-2.06.94z\"/><path d=\"M17.41 7.96l-1.37-1.37c-.4-.4-.92-.59-1.43-.59-.52 0-1.04.2-1.43.59L10.3 9.45l-7.72 7.72c-.78.78-.78 2.05 0 2.83L4 21.41c.39.39.9.59 1.41.59.51 0 1.02-.2 1.41-.59l7.78-7.78 2.81-2.81c.8-.78.8-2.07 0-2.86zM5.41 20L4 18.59l7.72-7.72 1.47 1.35L5.41 20z\"/>\n",
              "  </svg>\n",
              "      </button>\n",
              "      \n",
              "  <style>\n",
              "    .colab-df-container {\n",
              "      display:flex;\n",
              "      flex-wrap:wrap;\n",
              "      gap: 12px;\n",
              "    }\n",
              "\n",
              "    .colab-df-convert {\n",
              "      background-color: #E8F0FE;\n",
              "      border: none;\n",
              "      border-radius: 50%;\n",
              "      cursor: pointer;\n",
              "      display: none;\n",
              "      fill: #1967D2;\n",
              "      height: 32px;\n",
              "      padding: 0 0 0 0;\n",
              "      width: 32px;\n",
              "    }\n",
              "\n",
              "    .colab-df-convert:hover {\n",
              "      background-color: #E2EBFA;\n",
              "      box-shadow: 0px 1px 2px rgba(60, 64, 67, 0.3), 0px 1px 3px 1px rgba(60, 64, 67, 0.15);\n",
              "      fill: #174EA6;\n",
              "    }\n",
              "\n",
              "    [theme=dark] .colab-df-convert {\n",
              "      background-color: #3B4455;\n",
              "      fill: #D2E3FC;\n",
              "    }\n",
              "\n",
              "    [theme=dark] .colab-df-convert:hover {\n",
              "      background-color: #434B5C;\n",
              "      box-shadow: 0px 1px 3px 1px rgba(0, 0, 0, 0.15);\n",
              "      filter: drop-shadow(0px 1px 2px rgba(0, 0, 0, 0.3));\n",
              "      fill: #FFFFFF;\n",
              "    }\n",
              "  </style>\n",
              "\n",
              "      <script>\n",
              "        const buttonEl =\n",
              "          document.querySelector('#df-809b1572-9935-47f7-8108-58ff2eb3b316 button.colab-df-convert');\n",
              "        buttonEl.style.display =\n",
              "          google.colab.kernel.accessAllowed ? 'block' : 'none';\n",
              "\n",
              "        async function convertToInteractive(key) {\n",
              "          const element = document.querySelector('#df-809b1572-9935-47f7-8108-58ff2eb3b316');\n",
              "          const dataTable =\n",
              "            await google.colab.kernel.invokeFunction('convertToInteractive',\n",
              "                                                     [key], {});\n",
              "          if (!dataTable) return;\n",
              "\n",
              "          const docLinkHtml = 'Like what you see? Visit the ' +\n",
              "            '<a target=\"_blank\" href=https://colab.research.google.com/notebooks/data_table.ipynb>data table notebook</a>'\n",
              "            + ' to learn more about interactive tables.';\n",
              "          element.innerHTML = '';\n",
              "          dataTable['output_type'] = 'display_data';\n",
              "          await google.colab.output.renderOutput(dataTable, element);\n",
              "          const docLink = document.createElement('div');\n",
              "          docLink.innerHTML = docLinkHtml;\n",
              "          element.appendChild(docLink);\n",
              "        }\n",
              "      </script>\n",
              "    </div>\n",
              "  </div>\n",
              "  "
            ]
          },
          "metadata": {},
          "execution_count": 181
        }
      ],
      "source": [
        "Ans.head(4)"
      ]
    },
    {
      "cell_type": "markdown",
      "metadata": {
        "id": "jjIsDGYwf_x7"
      },
      "source": [
        "```{admonition} Question 55\n",
        "**데이터중 neighbourhood_group 값에 따른 room_type 컬럼의 숫자를 구하고 neighbourhood_group 값을 기준으로 각 값의 비율을 구하여라**\n",
        "```"
      ]
    },
    {
      "cell_type": "markdown",
      "metadata": {
        "id": "06FnyhITf_x8"
      },
      "source": [
        "```{admonition} 55번 유튜브 풀이\n",
        ":class: dropdown\n",
        "<div style=\"text-align: center\"><iframe width=\"700\" height=\"500\" src=https://www.youtube.com/embed/00rctVVSSoA?start=3350&end=4128></iframe></div>\n",
        "```"
      ]
    },
    {
      "cell_type": "code",
      "execution_count": 186,
      "metadata": {
        "ExecuteTime": {
          "end_time": "2022-02-19T18:22:29.223481Z",
          "start_time": "2022-02-19T18:22:29.211690Z"
        },
        "tags": [
          "hide-input"
        ],
        "id": "3qIndP5Wf_x8"
      },
      "outputs": [],
      "source": [
        "Ans = df[['neighbourhood_group','room_type']].groupby(['neighbourhood_group','room_type']).size().unstack()\n",
        "Ans.loc[:,:] = (Ans.values /Ans.sum(axis=1).values.reshape(-1,1))"
      ]
    },
    {
      "cell_type": "code",
      "execution_count": 187,
      "metadata": {
        "ExecuteTime": {
          "end_time": "2022-02-19T18:22:29.230581Z",
          "start_time": "2022-02-19T18:22:29.224869Z"
        },
        "id": "5sVWsTX_f_x8",
        "outputId": "7ea73c08-7bc5-4a6d-d0fa-a0531db483fa",
        "colab": {
          "base_uri": "https://localhost:8080/",
          "height": 237
        }
      },
      "outputs": [
        {
          "output_type": "execute_result",
          "data": {
            "text/plain": [
              "room_type            Entire home/apt  Private room  Shared room\n",
              "neighbourhood_group                                            \n",
              "Bronx                       0.347388      0.597617     0.054995\n",
              "Brooklyn                    0.475478      0.503979     0.020543\n",
              "Manhattan                   0.609344      0.368496     0.022160\n",
              "Queens                      0.369926      0.595129     0.034945\n",
              "Staten Island               0.471850      0.504021     0.024129"
            ],
            "text/html": [
              "\n",
              "  <div id=\"df-9402ec9c-ae0d-43a3-a02d-c420a07201f6\">\n",
              "    <div class=\"colab-df-container\">\n",
              "      <div>\n",
              "<style scoped>\n",
              "    .dataframe tbody tr th:only-of-type {\n",
              "        vertical-align: middle;\n",
              "    }\n",
              "\n",
              "    .dataframe tbody tr th {\n",
              "        vertical-align: top;\n",
              "    }\n",
              "\n",
              "    .dataframe thead th {\n",
              "        text-align: right;\n",
              "    }\n",
              "</style>\n",
              "<table border=\"1\" class=\"dataframe\">\n",
              "  <thead>\n",
              "    <tr style=\"text-align: right;\">\n",
              "      <th>room_type</th>\n",
              "      <th>Entire home/apt</th>\n",
              "      <th>Private room</th>\n",
              "      <th>Shared room</th>\n",
              "    </tr>\n",
              "    <tr>\n",
              "      <th>neighbourhood_group</th>\n",
              "      <th></th>\n",
              "      <th></th>\n",
              "      <th></th>\n",
              "    </tr>\n",
              "  </thead>\n",
              "  <tbody>\n",
              "    <tr>\n",
              "      <th>Bronx</th>\n",
              "      <td>0.347388</td>\n",
              "      <td>0.597617</td>\n",
              "      <td>0.054995</td>\n",
              "    </tr>\n",
              "    <tr>\n",
              "      <th>Brooklyn</th>\n",
              "      <td>0.475478</td>\n",
              "      <td>0.503979</td>\n",
              "      <td>0.020543</td>\n",
              "    </tr>\n",
              "    <tr>\n",
              "      <th>Manhattan</th>\n",
              "      <td>0.609344</td>\n",
              "      <td>0.368496</td>\n",
              "      <td>0.022160</td>\n",
              "    </tr>\n",
              "    <tr>\n",
              "      <th>Queens</th>\n",
              "      <td>0.369926</td>\n",
              "      <td>0.595129</td>\n",
              "      <td>0.034945</td>\n",
              "    </tr>\n",
              "    <tr>\n",
              "      <th>Staten Island</th>\n",
              "      <td>0.471850</td>\n",
              "      <td>0.504021</td>\n",
              "      <td>0.024129</td>\n",
              "    </tr>\n",
              "  </tbody>\n",
              "</table>\n",
              "</div>\n",
              "      <button class=\"colab-df-convert\" onclick=\"convertToInteractive('df-9402ec9c-ae0d-43a3-a02d-c420a07201f6')\"\n",
              "              title=\"Convert this dataframe to an interactive table.\"\n",
              "              style=\"display:none;\">\n",
              "        \n",
              "  <svg xmlns=\"http://www.w3.org/2000/svg\" height=\"24px\"viewBox=\"0 0 24 24\"\n",
              "       width=\"24px\">\n",
              "    <path d=\"M0 0h24v24H0V0z\" fill=\"none\"/>\n",
              "    <path d=\"M18.56 5.44l.94 2.06.94-2.06 2.06-.94-2.06-.94-.94-2.06-.94 2.06-2.06.94zm-11 1L8.5 8.5l.94-2.06 2.06-.94-2.06-.94L8.5 2.5l-.94 2.06-2.06.94zm10 10l.94 2.06.94-2.06 2.06-.94-2.06-.94-.94-2.06-.94 2.06-2.06.94z\"/><path d=\"M17.41 7.96l-1.37-1.37c-.4-.4-.92-.59-1.43-.59-.52 0-1.04.2-1.43.59L10.3 9.45l-7.72 7.72c-.78.78-.78 2.05 0 2.83L4 21.41c.39.39.9.59 1.41.59.51 0 1.02-.2 1.41-.59l7.78-7.78 2.81-2.81c.8-.78.8-2.07 0-2.86zM5.41 20L4 18.59l7.72-7.72 1.47 1.35L5.41 20z\"/>\n",
              "  </svg>\n",
              "      </button>\n",
              "      \n",
              "  <style>\n",
              "    .colab-df-container {\n",
              "      display:flex;\n",
              "      flex-wrap:wrap;\n",
              "      gap: 12px;\n",
              "    }\n",
              "\n",
              "    .colab-df-convert {\n",
              "      background-color: #E8F0FE;\n",
              "      border: none;\n",
              "      border-radius: 50%;\n",
              "      cursor: pointer;\n",
              "      display: none;\n",
              "      fill: #1967D2;\n",
              "      height: 32px;\n",
              "      padding: 0 0 0 0;\n",
              "      width: 32px;\n",
              "    }\n",
              "\n",
              "    .colab-df-convert:hover {\n",
              "      background-color: #E2EBFA;\n",
              "      box-shadow: 0px 1px 2px rgba(60, 64, 67, 0.3), 0px 1px 3px 1px rgba(60, 64, 67, 0.15);\n",
              "      fill: #174EA6;\n",
              "    }\n",
              "\n",
              "    [theme=dark] .colab-df-convert {\n",
              "      background-color: #3B4455;\n",
              "      fill: #D2E3FC;\n",
              "    }\n",
              "\n",
              "    [theme=dark] .colab-df-convert:hover {\n",
              "      background-color: #434B5C;\n",
              "      box-shadow: 0px 1px 3px 1px rgba(0, 0, 0, 0.15);\n",
              "      filter: drop-shadow(0px 1px 2px rgba(0, 0, 0, 0.3));\n",
              "      fill: #FFFFFF;\n",
              "    }\n",
              "  </style>\n",
              "\n",
              "      <script>\n",
              "        const buttonEl =\n",
              "          document.querySelector('#df-9402ec9c-ae0d-43a3-a02d-c420a07201f6 button.colab-df-convert');\n",
              "        buttonEl.style.display =\n",
              "          google.colab.kernel.accessAllowed ? 'block' : 'none';\n",
              "\n",
              "        async function convertToInteractive(key) {\n",
              "          const element = document.querySelector('#df-9402ec9c-ae0d-43a3-a02d-c420a07201f6');\n",
              "          const dataTable =\n",
              "            await google.colab.kernel.invokeFunction('convertToInteractive',\n",
              "                                                     [key], {});\n",
              "          if (!dataTable) return;\n",
              "\n",
              "          const docLinkHtml = 'Like what you see? Visit the ' +\n",
              "            '<a target=\"_blank\" href=https://colab.research.google.com/notebooks/data_table.ipynb>data table notebook</a>'\n",
              "            + ' to learn more about interactive tables.';\n",
              "          element.innerHTML = '';\n",
              "          dataTable['output_type'] = 'display_data';\n",
              "          await google.colab.output.renderOutput(dataTable, element);\n",
              "          const docLink = document.createElement('div');\n",
              "          docLink.innerHTML = docLinkHtml;\n",
              "          element.appendChild(docLink);\n",
              "        }\n",
              "      </script>\n",
              "    </div>\n",
              "  </div>\n",
              "  "
            ]
          },
          "metadata": {},
          "execution_count": 187
        }
      ],
      "source": [
        "Ans"
      ]
    },
    {
      "cell_type": "markdown",
      "metadata": {
        "id": "_wssceUFf_x8"
      },
      "source": [
        "\n",
        "## 04_Apply , Map"
      ]
    },
    {
      "cell_type": "markdown",
      "metadata": {
        "id": "7XsJA84lf_x8"
      },
      "source": [
        "```{attention} \n",
        "카드이용데이터 : https://www.kaggle.com/sakshigoyal7/credit-card-customers\n",
        "**DataUrl = 'https://raw.githubusercontent.com/Datamanim/pandas/main/BankChurnersUp.csv'**\n",
        "```"
      ]
    },
    {
      "cell_type": "markdown",
      "metadata": {
        "id": "-7Hwm08hf_x8"
      },
      "source": [
        "```{admonition} Question 56\n",
        "**데이터를 로드하고 데이터 행과 열의 갯수를 출력하라**\n",
        "```"
      ]
    },
    {
      "cell_type": "markdown",
      "metadata": {
        "id": "b3B9ghOJf_x8"
      },
      "source": [
        "```{admonition} 56번 유튜브 풀이\n",
        ":class: dropdown\n",
        "<div style=\"text-align: center\"><iframe width=\"700\" height=\"500\" src=https://www.youtube.com/embed/00rctVVSSoA?start=4130&end=4143></iframe></div>\n",
        "```"
      ]
    },
    {
      "cell_type": "code",
      "execution_count": 190,
      "metadata": {
        "ExecuteTime": {
          "end_time": "2022-08-02T11:41:02.896731Z",
          "start_time": "2022-08-02T11:41:01.024208Z"
        },
        "tags": [
          "hide-input"
        ],
        "id": "fNI7vS5_f_x8"
      },
      "outputs": [],
      "source": [
        "df =pd.read_csv('https://raw.githubusercontent.com/Datamanim/pandas/main/BankChurnersUp.csv',index_col=0)\n",
        "Ans =df.shape"
      ]
    },
    {
      "cell_type": "code",
      "execution_count": 191,
      "metadata": {
        "ExecuteTime": {
          "end_time": "2022-08-02T11:41:02.903718Z",
          "start_time": "2022-08-02T11:41:02.899956Z"
        },
        "id": "eDB6Ifsof_x8",
        "outputId": "7bb9f673-a8c2-49b6-b158-576dafd3c913",
        "colab": {
          "base_uri": "https://localhost:8080/"
        }
      },
      "outputs": [
        {
          "output_type": "execute_result",
          "data": {
            "text/plain": [
              "(10127, 18)"
            ]
          },
          "metadata": {},
          "execution_count": 191
        }
      ],
      "source": [
        "Ans"
      ]
    },
    {
      "cell_type": "markdown",
      "metadata": {
        "id": "L_SQcdPHf_x9"
      },
      "source": [
        "```{admonition} Question 57\n",
        "**Income_Category의 카테고리를 map 함수를 이용하여 다음과 같이 변경하여 newIncome 컬럼에 매핑하라**\n",
        "Unknown        : N    \n",
        "Less than \\$40K : a    \n",
        "\\$40K - \\$60K    : b    \n",
        "\\$60K - \\$80K    : c    \n",
        "\\$80K - \\$120K   : d    \n",
        "\\$120K +'       : e     \n",
        "```"
      ]
    },
    {
      "cell_type": "markdown",
      "metadata": {
        "id": "u6sJFw9zf_x9"
      },
      "source": [
        "```{admonition} 57번 유튜브 풀이\n",
        ":class: dropdown\n",
        "<div style=\"text-align: center\"><iframe width=\"700\" height=\"500\" src=https://www.youtube.com/embed/00rctVVSSoA?start=4145&end=4498></iframe></div>\n",
        "```"
      ]
    },
    {
      "cell_type": "code",
      "execution_count": 204,
      "metadata": {
        "ExecuteTime": {
          "end_time": "2022-08-02T11:42:37.438593Z",
          "start_time": "2022-08-02T11:42:37.433137Z"
        },
        "tags": [
          "hide-input"
        ],
        "id": "Yxs1cCOvf_x9"
      },
      "outputs": [],
      "source": [
        "dic = {\n",
        "    'Unknown'        : 'N',\n",
        "    'Less than $40K' : 'a',\n",
        "    '$40K - $60K'    : 'b',\n",
        "    '$60K - $80K'    : 'c',\n",
        "    '$80K - $120K'   : 'd',\n",
        "    '$120K +'        : 'e'   \n",
        "}\n",
        "\n",
        "df['newIncome']  =df.Income_Category.map(lambda x: dic[x])\n",
        "\n",
        "Ans = df['newIncome']"
      ]
    },
    {
      "cell_type": "code",
      "source": [
        "df"
      ],
      "metadata": {
        "id": "JL64Cq78LRUk",
        "outputId": "a8b95e14-b2c6-459d-fa8d-6db92a95aac6",
        "colab": {
          "base_uri": "https://localhost:8080/",
          "height": 661
        }
      },
      "execution_count": 207,
      "outputs": [
        {
          "output_type": "execute_result",
          "data": {
            "text/plain": [
              "       CLIENTNUM     Attrition_Flag  Customer_Age Gender  Dependent_count  \\\n",
              "0      768805383  Existing Customer            45      M                3   \n",
              "1      818770008  Existing Customer            49      F                5   \n",
              "2      713982108  Existing Customer            51      M                3   \n",
              "3      769911858  Existing Customer            40      F                4   \n",
              "4      709106358  Existing Customer            40      M                3   \n",
              "...          ...                ...           ...    ...              ...   \n",
              "10122  772366833  Existing Customer            50      M                2   \n",
              "10123  710638233  Attrited Customer            41      M                2   \n",
              "10124  716506083  Attrited Customer            44      F                1   \n",
              "10125  717406983  Attrited Customer            30      M                2   \n",
              "10126  714337233  Attrited Customer            43      F                2   \n",
              "\n",
              "      Education_Level Marital_Status Income_Category Card_Category  \\\n",
              "0         High School        Married     $60K - $80K          Blue   \n",
              "1            Graduate         Single  Less than $40K          Blue   \n",
              "2            Graduate        Married    $80K - $120K          Blue   \n",
              "3         High School        Unknown  Less than $40K          Blue   \n",
              "4          Uneducated        Married     $60K - $80K          Blue   \n",
              "...               ...            ...             ...           ...   \n",
              "10122        Graduate         Single     $40K - $60K          Blue   \n",
              "10123         Unknown       Divorced     $40K - $60K          Blue   \n",
              "10124     High School        Married  Less than $40K          Blue   \n",
              "10125        Graduate        Unknown     $40K - $60K          Blue   \n",
              "10126        Graduate        Married  Less than $40K        Silver   \n",
              "\n",
              "       Months_on_book  Total_Relationship_Count  Months_Inactive_12_mon  \\\n",
              "0                  39                         5                       1   \n",
              "1                  44                         6                       1   \n",
              "2                  36                         4                       1   \n",
              "3                  34                         3                       4   \n",
              "4                  21                         5                       1   \n",
              "...               ...                       ...                     ...   \n",
              "10122              40                         3                       2   \n",
              "10123              25                         4                       2   \n",
              "10124              36                         5                       3   \n",
              "10125              36                         4                       3   \n",
              "10126              25                         6                       2   \n",
              "\n",
              "       Contacts_Count_12_mon  Credit_Limit  Total_Revolving_Bal  \\\n",
              "0                          3       12691.0                  777   \n",
              "1                          2        8256.0                  864   \n",
              "2                          0        3418.0                    0   \n",
              "3                          1        3313.0                 2517   \n",
              "4                          0        4716.0                    0   \n",
              "...                      ...           ...                  ...   \n",
              "10122                      3        4003.0                 1851   \n",
              "10123                      3        4277.0                 2186   \n",
              "10124                      4        5409.0                    0   \n",
              "10125                      3        5281.0                    0   \n",
              "10126                      4       10388.0                 1961   \n",
              "\n",
              "       Avg_Open_To_Buy  Total_Amt_Chng_Q4_Q1  Total_Trans_Amt newIncome  \n",
              "0              11914.0                 1.335             1144         c  \n",
              "1               7392.0                 1.541             1291         a  \n",
              "2               3418.0                 2.594             1887         d  \n",
              "3                796.0                 1.405             1171         a  \n",
              "4               4716.0                 2.175              816         c  \n",
              "...                ...                   ...              ...       ...  \n",
              "10122           2152.0                 0.703            15476         b  \n",
              "10123           2091.0                 0.804             8764         b  \n",
              "10124           5409.0                 0.819            10291         a  \n",
              "10125           5281.0                 0.535             8395         b  \n",
              "10126           8427.0                 0.703            10294         a  \n",
              "\n",
              "[10127 rows x 19 columns]"
            ],
            "text/html": [
              "\n",
              "  <div id=\"df-8ae0217e-2fc1-4925-b8df-5e51f7330d6f\">\n",
              "    <div class=\"colab-df-container\">\n",
              "      <div>\n",
              "<style scoped>\n",
              "    .dataframe tbody tr th:only-of-type {\n",
              "        vertical-align: middle;\n",
              "    }\n",
              "\n",
              "    .dataframe tbody tr th {\n",
              "        vertical-align: top;\n",
              "    }\n",
              "\n",
              "    .dataframe thead th {\n",
              "        text-align: right;\n",
              "    }\n",
              "</style>\n",
              "<table border=\"1\" class=\"dataframe\">\n",
              "  <thead>\n",
              "    <tr style=\"text-align: right;\">\n",
              "      <th></th>\n",
              "      <th>CLIENTNUM</th>\n",
              "      <th>Attrition_Flag</th>\n",
              "      <th>Customer_Age</th>\n",
              "      <th>Gender</th>\n",
              "      <th>Dependent_count</th>\n",
              "      <th>Education_Level</th>\n",
              "      <th>Marital_Status</th>\n",
              "      <th>Income_Category</th>\n",
              "      <th>Card_Category</th>\n",
              "      <th>Months_on_book</th>\n",
              "      <th>Total_Relationship_Count</th>\n",
              "      <th>Months_Inactive_12_mon</th>\n",
              "      <th>Contacts_Count_12_mon</th>\n",
              "      <th>Credit_Limit</th>\n",
              "      <th>Total_Revolving_Bal</th>\n",
              "      <th>Avg_Open_To_Buy</th>\n",
              "      <th>Total_Amt_Chng_Q4_Q1</th>\n",
              "      <th>Total_Trans_Amt</th>\n",
              "      <th>newIncome</th>\n",
              "    </tr>\n",
              "  </thead>\n",
              "  <tbody>\n",
              "    <tr>\n",
              "      <th>0</th>\n",
              "      <td>768805383</td>\n",
              "      <td>Existing Customer</td>\n",
              "      <td>45</td>\n",
              "      <td>M</td>\n",
              "      <td>3</td>\n",
              "      <td>High School</td>\n",
              "      <td>Married</td>\n",
              "      <td>$60K - $80K</td>\n",
              "      <td>Blue</td>\n",
              "      <td>39</td>\n",
              "      <td>5</td>\n",
              "      <td>1</td>\n",
              "      <td>3</td>\n",
              "      <td>12691.0</td>\n",
              "      <td>777</td>\n",
              "      <td>11914.0</td>\n",
              "      <td>1.335</td>\n",
              "      <td>1144</td>\n",
              "      <td>c</td>\n",
              "    </tr>\n",
              "    <tr>\n",
              "      <th>1</th>\n",
              "      <td>818770008</td>\n",
              "      <td>Existing Customer</td>\n",
              "      <td>49</td>\n",
              "      <td>F</td>\n",
              "      <td>5</td>\n",
              "      <td>Graduate</td>\n",
              "      <td>Single</td>\n",
              "      <td>Less than $40K</td>\n",
              "      <td>Blue</td>\n",
              "      <td>44</td>\n",
              "      <td>6</td>\n",
              "      <td>1</td>\n",
              "      <td>2</td>\n",
              "      <td>8256.0</td>\n",
              "      <td>864</td>\n",
              "      <td>7392.0</td>\n",
              "      <td>1.541</td>\n",
              "      <td>1291</td>\n",
              "      <td>a</td>\n",
              "    </tr>\n",
              "    <tr>\n",
              "      <th>2</th>\n",
              "      <td>713982108</td>\n",
              "      <td>Existing Customer</td>\n",
              "      <td>51</td>\n",
              "      <td>M</td>\n",
              "      <td>3</td>\n",
              "      <td>Graduate</td>\n",
              "      <td>Married</td>\n",
              "      <td>$80K - $120K</td>\n",
              "      <td>Blue</td>\n",
              "      <td>36</td>\n",
              "      <td>4</td>\n",
              "      <td>1</td>\n",
              "      <td>0</td>\n",
              "      <td>3418.0</td>\n",
              "      <td>0</td>\n",
              "      <td>3418.0</td>\n",
              "      <td>2.594</td>\n",
              "      <td>1887</td>\n",
              "      <td>d</td>\n",
              "    </tr>\n",
              "    <tr>\n",
              "      <th>3</th>\n",
              "      <td>769911858</td>\n",
              "      <td>Existing Customer</td>\n",
              "      <td>40</td>\n",
              "      <td>F</td>\n",
              "      <td>4</td>\n",
              "      <td>High School</td>\n",
              "      <td>Unknown</td>\n",
              "      <td>Less than $40K</td>\n",
              "      <td>Blue</td>\n",
              "      <td>34</td>\n",
              "      <td>3</td>\n",
              "      <td>4</td>\n",
              "      <td>1</td>\n",
              "      <td>3313.0</td>\n",
              "      <td>2517</td>\n",
              "      <td>796.0</td>\n",
              "      <td>1.405</td>\n",
              "      <td>1171</td>\n",
              "      <td>a</td>\n",
              "    </tr>\n",
              "    <tr>\n",
              "      <th>4</th>\n",
              "      <td>709106358</td>\n",
              "      <td>Existing Customer</td>\n",
              "      <td>40</td>\n",
              "      <td>M</td>\n",
              "      <td>3</td>\n",
              "      <td>Uneducated</td>\n",
              "      <td>Married</td>\n",
              "      <td>$60K - $80K</td>\n",
              "      <td>Blue</td>\n",
              "      <td>21</td>\n",
              "      <td>5</td>\n",
              "      <td>1</td>\n",
              "      <td>0</td>\n",
              "      <td>4716.0</td>\n",
              "      <td>0</td>\n",
              "      <td>4716.0</td>\n",
              "      <td>2.175</td>\n",
              "      <td>816</td>\n",
              "      <td>c</td>\n",
              "    </tr>\n",
              "    <tr>\n",
              "      <th>...</th>\n",
              "      <td>...</td>\n",
              "      <td>...</td>\n",
              "      <td>...</td>\n",
              "      <td>...</td>\n",
              "      <td>...</td>\n",
              "      <td>...</td>\n",
              "      <td>...</td>\n",
              "      <td>...</td>\n",
              "      <td>...</td>\n",
              "      <td>...</td>\n",
              "      <td>...</td>\n",
              "      <td>...</td>\n",
              "      <td>...</td>\n",
              "      <td>...</td>\n",
              "      <td>...</td>\n",
              "      <td>...</td>\n",
              "      <td>...</td>\n",
              "      <td>...</td>\n",
              "      <td>...</td>\n",
              "    </tr>\n",
              "    <tr>\n",
              "      <th>10122</th>\n",
              "      <td>772366833</td>\n",
              "      <td>Existing Customer</td>\n",
              "      <td>50</td>\n",
              "      <td>M</td>\n",
              "      <td>2</td>\n",
              "      <td>Graduate</td>\n",
              "      <td>Single</td>\n",
              "      <td>$40K - $60K</td>\n",
              "      <td>Blue</td>\n",
              "      <td>40</td>\n",
              "      <td>3</td>\n",
              "      <td>2</td>\n",
              "      <td>3</td>\n",
              "      <td>4003.0</td>\n",
              "      <td>1851</td>\n",
              "      <td>2152.0</td>\n",
              "      <td>0.703</td>\n",
              "      <td>15476</td>\n",
              "      <td>b</td>\n",
              "    </tr>\n",
              "    <tr>\n",
              "      <th>10123</th>\n",
              "      <td>710638233</td>\n",
              "      <td>Attrited Customer</td>\n",
              "      <td>41</td>\n",
              "      <td>M</td>\n",
              "      <td>2</td>\n",
              "      <td>Unknown</td>\n",
              "      <td>Divorced</td>\n",
              "      <td>$40K - $60K</td>\n",
              "      <td>Blue</td>\n",
              "      <td>25</td>\n",
              "      <td>4</td>\n",
              "      <td>2</td>\n",
              "      <td>3</td>\n",
              "      <td>4277.0</td>\n",
              "      <td>2186</td>\n",
              "      <td>2091.0</td>\n",
              "      <td>0.804</td>\n",
              "      <td>8764</td>\n",
              "      <td>b</td>\n",
              "    </tr>\n",
              "    <tr>\n",
              "      <th>10124</th>\n",
              "      <td>716506083</td>\n",
              "      <td>Attrited Customer</td>\n",
              "      <td>44</td>\n",
              "      <td>F</td>\n",
              "      <td>1</td>\n",
              "      <td>High School</td>\n",
              "      <td>Married</td>\n",
              "      <td>Less than $40K</td>\n",
              "      <td>Blue</td>\n",
              "      <td>36</td>\n",
              "      <td>5</td>\n",
              "      <td>3</td>\n",
              "      <td>4</td>\n",
              "      <td>5409.0</td>\n",
              "      <td>0</td>\n",
              "      <td>5409.0</td>\n",
              "      <td>0.819</td>\n",
              "      <td>10291</td>\n",
              "      <td>a</td>\n",
              "    </tr>\n",
              "    <tr>\n",
              "      <th>10125</th>\n",
              "      <td>717406983</td>\n",
              "      <td>Attrited Customer</td>\n",
              "      <td>30</td>\n",
              "      <td>M</td>\n",
              "      <td>2</td>\n",
              "      <td>Graduate</td>\n",
              "      <td>Unknown</td>\n",
              "      <td>$40K - $60K</td>\n",
              "      <td>Blue</td>\n",
              "      <td>36</td>\n",
              "      <td>4</td>\n",
              "      <td>3</td>\n",
              "      <td>3</td>\n",
              "      <td>5281.0</td>\n",
              "      <td>0</td>\n",
              "      <td>5281.0</td>\n",
              "      <td>0.535</td>\n",
              "      <td>8395</td>\n",
              "      <td>b</td>\n",
              "    </tr>\n",
              "    <tr>\n",
              "      <th>10126</th>\n",
              "      <td>714337233</td>\n",
              "      <td>Attrited Customer</td>\n",
              "      <td>43</td>\n",
              "      <td>F</td>\n",
              "      <td>2</td>\n",
              "      <td>Graduate</td>\n",
              "      <td>Married</td>\n",
              "      <td>Less than $40K</td>\n",
              "      <td>Silver</td>\n",
              "      <td>25</td>\n",
              "      <td>6</td>\n",
              "      <td>2</td>\n",
              "      <td>4</td>\n",
              "      <td>10388.0</td>\n",
              "      <td>1961</td>\n",
              "      <td>8427.0</td>\n",
              "      <td>0.703</td>\n",
              "      <td>10294</td>\n",
              "      <td>a</td>\n",
              "    </tr>\n",
              "  </tbody>\n",
              "</table>\n",
              "<p>10127 rows × 19 columns</p>\n",
              "</div>\n",
              "      <button class=\"colab-df-convert\" onclick=\"convertToInteractive('df-8ae0217e-2fc1-4925-b8df-5e51f7330d6f')\"\n",
              "              title=\"Convert this dataframe to an interactive table.\"\n",
              "              style=\"display:none;\">\n",
              "        \n",
              "  <svg xmlns=\"http://www.w3.org/2000/svg\" height=\"24px\"viewBox=\"0 0 24 24\"\n",
              "       width=\"24px\">\n",
              "    <path d=\"M0 0h24v24H0V0z\" fill=\"none\"/>\n",
              "    <path d=\"M18.56 5.44l.94 2.06.94-2.06 2.06-.94-2.06-.94-.94-2.06-.94 2.06-2.06.94zm-11 1L8.5 8.5l.94-2.06 2.06-.94-2.06-.94L8.5 2.5l-.94 2.06-2.06.94zm10 10l.94 2.06.94-2.06 2.06-.94-2.06-.94-.94-2.06-.94 2.06-2.06.94z\"/><path d=\"M17.41 7.96l-1.37-1.37c-.4-.4-.92-.59-1.43-.59-.52 0-1.04.2-1.43.59L10.3 9.45l-7.72 7.72c-.78.78-.78 2.05 0 2.83L4 21.41c.39.39.9.59 1.41.59.51 0 1.02-.2 1.41-.59l7.78-7.78 2.81-2.81c.8-.78.8-2.07 0-2.86zM5.41 20L4 18.59l7.72-7.72 1.47 1.35L5.41 20z\"/>\n",
              "  </svg>\n",
              "      </button>\n",
              "      \n",
              "  <style>\n",
              "    .colab-df-container {\n",
              "      display:flex;\n",
              "      flex-wrap:wrap;\n",
              "      gap: 12px;\n",
              "    }\n",
              "\n",
              "    .colab-df-convert {\n",
              "      background-color: #E8F0FE;\n",
              "      border: none;\n",
              "      border-radius: 50%;\n",
              "      cursor: pointer;\n",
              "      display: none;\n",
              "      fill: #1967D2;\n",
              "      height: 32px;\n",
              "      padding: 0 0 0 0;\n",
              "      width: 32px;\n",
              "    }\n",
              "\n",
              "    .colab-df-convert:hover {\n",
              "      background-color: #E2EBFA;\n",
              "      box-shadow: 0px 1px 2px rgba(60, 64, 67, 0.3), 0px 1px 3px 1px rgba(60, 64, 67, 0.15);\n",
              "      fill: #174EA6;\n",
              "    }\n",
              "\n",
              "    [theme=dark] .colab-df-convert {\n",
              "      background-color: #3B4455;\n",
              "      fill: #D2E3FC;\n",
              "    }\n",
              "\n",
              "    [theme=dark] .colab-df-convert:hover {\n",
              "      background-color: #434B5C;\n",
              "      box-shadow: 0px 1px 3px 1px rgba(0, 0, 0, 0.15);\n",
              "      filter: drop-shadow(0px 1px 2px rgba(0, 0, 0, 0.3));\n",
              "      fill: #FFFFFF;\n",
              "    }\n",
              "  </style>\n",
              "\n",
              "      <script>\n",
              "        const buttonEl =\n",
              "          document.querySelector('#df-8ae0217e-2fc1-4925-b8df-5e51f7330d6f button.colab-df-convert');\n",
              "        buttonEl.style.display =\n",
              "          google.colab.kernel.accessAllowed ? 'block' : 'none';\n",
              "\n",
              "        async function convertToInteractive(key) {\n",
              "          const element = document.querySelector('#df-8ae0217e-2fc1-4925-b8df-5e51f7330d6f');\n",
              "          const dataTable =\n",
              "            await google.colab.kernel.invokeFunction('convertToInteractive',\n",
              "                                                     [key], {});\n",
              "          if (!dataTable) return;\n",
              "\n",
              "          const docLinkHtml = 'Like what you see? Visit the ' +\n",
              "            '<a target=\"_blank\" href=https://colab.research.google.com/notebooks/data_table.ipynb>data table notebook</a>'\n",
              "            + ' to learn more about interactive tables.';\n",
              "          element.innerHTML = '';\n",
              "          dataTable['output_type'] = 'display_data';\n",
              "          await google.colab.output.renderOutput(dataTable, element);\n",
              "          const docLink = document.createElement('div');\n",
              "          docLink.innerHTML = docLinkHtml;\n",
              "          element.appendChild(docLink);\n",
              "        }\n",
              "      </script>\n",
              "    </div>\n",
              "  </div>\n",
              "  "
            ]
          },
          "metadata": {},
          "execution_count": 207
        }
      ]
    },
    {
      "cell_type": "code",
      "execution_count": null,
      "metadata": {
        "ExecuteTime": {
          "end_time": "2022-08-02T11:41:45.497402Z",
          "start_time": "2022-08-02T11:41:45.492370Z"
        },
        "outputId": "998e4fd3-afb9-474e-cb36-29708c421d06",
        "colab": {
          "base_uri": "https://localhost:8080/"
        },
        "id": "qFDiFo_JLT_9"
      },
      "outputs": [
        {
          "output_type": "execute_result",
          "data": {
            "text/plain": [
              "0    c\n",
              "1    a\n",
              "2    d\n",
              "3    a\n",
              "Name: newIncome, dtype: object"
            ]
          },
          "metadata": {},
          "execution_count": 205
        }
      ],
      "source": [
        "Ans.head(4)"
      ]
    },
    {
      "cell_type": "code",
      "execution_count": 205,
      "metadata": {
        "ExecuteTime": {
          "end_time": "2022-08-02T11:41:45.497402Z",
          "start_time": "2022-08-02T11:41:45.492370Z"
        },
        "id": "OiqQ3ymff_x9",
        "outputId": "998e4fd3-afb9-474e-cb36-29708c421d06",
        "colab": {
          "base_uri": "https://localhost:8080/"
        }
      },
      "outputs": [
        {
          "output_type": "execute_result",
          "data": {
            "text/plain": [
              "0    c\n",
              "1    a\n",
              "2    d\n",
              "3    a\n",
              "Name: newIncome, dtype: object"
            ]
          },
          "metadata": {},
          "execution_count": 205
        }
      ],
      "source": [
        "Ans.head(4)"
      ]
    },
    {
      "cell_type": "markdown",
      "metadata": {
        "scrolled": true,
        "tags": [
          "hide-input"
        ],
        "id": "YThj6oTYf_x9"
      },
      "source": [
        "```{admonition} Question 58\n",
        "**Income_Category의 카테고리를 apply 함수를 이용하여 다음과 같이 변경하여 newIncome 컬럼에 매핑하라**\n",
        "Unknown        : N    \n",
        "Less than \\$40K : a    \n",
        "\\$40K - \\$60K    : b    \n",
        "\\$60K - \\$80K    : c    \n",
        "\\$80K - \\$120K   : d    \n",
        "\\$120K +'       : e     \n",
        "```"
      ]
    },
    {
      "cell_type": "markdown",
      "metadata": {
        "id": "EGnheaOQf_x9"
      },
      "source": [
        "```{admonition} 58번 유튜브 풀이\n",
        ":class: dropdown\n",
        "<div style=\"text-align: center\"><iframe width=\"700\" height=\"500\" src=https://www.youtube.com/embed/00rctVVSSoA?start=4500&end=4687></iframe></div>\n",
        "```"
      ]
    },
    {
      "cell_type": "code",
      "execution_count": 208,
      "metadata": {
        "ExecuteTime": {
          "end_time": "2022-02-19T18:22:29.370725Z",
          "start_time": "2022-02-19T18:22:29.364899Z"
        },
        "id": "RenfHbOKf_x9"
      },
      "outputs": [],
      "source": [
        "def changeCategory(x):\n",
        "    if x =='Unknown':\n",
        "        return 'N'\n",
        "    elif x =='Less than $40K':\n",
        "        return 'a'\n",
        "    elif x =='$40K - $60K':   \n",
        "        return 'b'\n",
        "    elif x =='$60K - $80K':    \n",
        "        return 'c'\n",
        "    elif x =='$80K - $120K':   \n",
        "        return 'd'\n",
        "    elif x =='$120K +' :     \n",
        "        return 'e'\n",
        "\n",
        "df['newIncome']  =df.Income_Category.apply(changeCategory)\n",
        "\n",
        "Ans = df['newIncome']"
      ]
    },
    {
      "cell_type": "code",
      "execution_count": 209,
      "metadata": {
        "ExecuteTime": {
          "end_time": "2022-02-19T18:22:29.375892Z",
          "start_time": "2022-02-19T18:22:29.372078Z"
        },
        "scrolled": true,
        "id": "07y6p73df_x9",
        "outputId": "18ce48b5-6381-489e-acc5-03f5b256b184",
        "colab": {
          "base_uri": "https://localhost:8080/"
        }
      },
      "outputs": [
        {
          "output_type": "execute_result",
          "data": {
            "text/plain": [
              "0    c\n",
              "1    a\n",
              "2    d\n",
              "3    a\n",
              "Name: newIncome, dtype: object"
            ]
          },
          "metadata": {},
          "execution_count": 209
        }
      ],
      "source": [
        "Ans.head(4)"
      ]
    },
    {
      "cell_type": "markdown",
      "metadata": {
        "id": "nV6gruVvf_x9"
      },
      "source": [
        "```{admonition} Question 59\n",
        "**Customer_Age의 값을 이용하여 나이 구간을 AgeState 컬럼으로 정의하라. (0~9 : 0 , 10~19 :10 , 20~29 :20 ... 각 구간의 빈도수를 출력하라**\n",
        "```"
      ]
    },
    {
      "cell_type": "markdown",
      "metadata": {
        "id": "nNoQsb4rf_x-"
      },
      "source": [
        "```{admonition} 59번 유튜브 풀이\n",
        ":class: dropdown\n",
        "<div style=\"text-align: center\"><iframe width=\"700\" height=\"500\" src=https://www.youtube.com/embed/00rctVVSSoA?start=4689&end=4842></iframe></div>\n",
        "```"
      ]
    },
    {
      "cell_type": "code",
      "execution_count": null,
      "metadata": {
        "ExecuteTime": {
          "end_time": "2022-02-19T18:22:29.383759Z",
          "start_time": "2022-02-19T18:22:29.377247Z"
        },
        "scrolled": true,
        "tags": [
          "hide-input"
        ],
        "id": "ufUPFGe1f_x-"
      },
      "outputs": [],
      "source": [
        "df['AgeState']  = df.Customer_Age.map(lambda x: x//10 *10)\n",
        "\n",
        "Ans = df['AgeState'].value_counts().sort_index()"
      ]
    },
    {
      "cell_type": "code",
      "execution_count": null,
      "metadata": {
        "ExecuteTime": {
          "end_time": "2022-02-19T18:22:29.388364Z",
          "start_time": "2022-02-19T18:22:29.385066Z"
        },
        "id": "VLyqEbMef_x-",
        "outputId": "654f5cbe-8ac6-45aa-bce8-bffc0a2ce3f3"
      },
      "outputs": [
        {
          "data": {
            "text/plain": [
              "20     195\n",
              "30    1841\n",
              "40    4561\n",
              "50    2998\n",
              "60     530\n",
              "70       2\n",
              "Name: AgeState, dtype: int64"
            ]
          },
          "execution_count": 117,
          "metadata": {},
          "output_type": "execute_result"
        }
      ],
      "source": [
        "Ans"
      ]
    },
    {
      "cell_type": "markdown",
      "metadata": {
        "id": "Audwk-l9f_x-"
      },
      "source": [
        "```{admonition} Question 60\n",
        "**Education_Level의 값중 Graduate단어가 포함되는 값은 1 그렇지 않은 경우에는 0으로 변경하여 newEduLevel 컬럼을 정의하고 빈도수를 출력하라**\n",
        "```"
      ]
    },
    {
      "cell_type": "markdown",
      "metadata": {
        "id": "qBhhR8c8f_x-"
      },
      "source": [
        "```{admonition} 60번 유튜브 풀이\n",
        ":class: dropdown\n",
        "<div style=\"text-align: center\"><iframe width=\"700\" height=\"500\" src=https://www.youtube.com/embed/00rctVVSSoA?start=4844&end=5168></iframe></div>\n",
        "```"
      ]
    },
    {
      "cell_type": "code",
      "execution_count": null,
      "metadata": {
        "ExecuteTime": {
          "end_time": "2022-02-19T18:22:29.395958Z",
          "start_time": "2022-02-19T18:22:29.389826Z"
        },
        "tags": [
          "hide-input"
        ],
        "id": "PrW-vUFUf_x-"
      },
      "outputs": [],
      "source": [
        "df['newEduLevel'] = df.Education_Level.map(lambda x : 1 if 'Graduate' in x else 0)\n",
        "Ans = df['newEduLevel'].value_counts()"
      ]
    },
    {
      "cell_type": "code",
      "execution_count": null,
      "metadata": {
        "ExecuteTime": {
          "end_time": "2022-02-19T18:22:29.400397Z",
          "start_time": "2022-02-19T18:22:29.397215Z"
        },
        "id": "46PbKmz1f_x-",
        "outputId": "ba9f1513-691e-4b83-a3da-9ff8d4174180"
      },
      "outputs": [
        {
          "data": {
            "text/plain": [
              "0    6483\n",
              "1    3644\n",
              "Name: newEduLevel, dtype: int64"
            ]
          },
          "execution_count": 119,
          "metadata": {},
          "output_type": "execute_result"
        }
      ],
      "source": [
        "Ans"
      ]
    },
    {
      "cell_type": "markdown",
      "metadata": {
        "id": "AqdO4Vg3f_x-"
      },
      "source": [
        "```{admonition} Question 61\n",
        "**Credit_Limit 컬럼값이 4500 이상인 경우 1 그외의 경우에는 모두 0으로 하는 newLimit 정의하라. newLimit 각 값들의 빈도수를 출력하라**\n",
        "```"
      ]
    },
    {
      "cell_type": "markdown",
      "metadata": {
        "id": "0yH9dLldf_x-"
      },
      "source": [
        "```{admonition} 61번 유튜브 풀이\n",
        ":class: dropdown\n",
        "<div style=\"text-align: center\"><iframe width=\"700\" height=\"500\" src=https://www.youtube.com/embed/00rctVVSSoA?start=5170&end=5228></iframe></div>\n",
        "```"
      ]
    },
    {
      "cell_type": "code",
      "execution_count": null,
      "metadata": {
        "ExecuteTime": {
          "end_time": "2022-02-19T18:22:29.408194Z",
          "start_time": "2022-02-19T18:22:29.401630Z"
        },
        "scrolled": true,
        "tags": [
          "hide-input"
        ],
        "id": "A49pNhRBf_x_"
      },
      "outputs": [],
      "source": [
        "df['newLimit'] = df.Credit_Limit.map(lambda x : 1 if x>=4500 else 0)\n",
        "Ans = df['newLimit'].value_counts()"
      ]
    },
    {
      "cell_type": "code",
      "execution_count": null,
      "metadata": {
        "ExecuteTime": {
          "end_time": "2022-02-19T18:22:29.412856Z",
          "start_time": "2022-02-19T18:22:29.409440Z"
        },
        "id": "p2xRDlnHf_x_",
        "outputId": "5e689f54-37b5-4ca2-89c6-f6bdef97d5b3"
      },
      "outputs": [
        {
          "data": {
            "text/plain": [
              "1    5096\n",
              "0    5031\n",
              "Name: newLimit, dtype: int64"
            ]
          },
          "execution_count": 121,
          "metadata": {},
          "output_type": "execute_result"
        }
      ],
      "source": [
        "Ans"
      ]
    },
    {
      "cell_type": "markdown",
      "metadata": {
        "id": "0R_Gz-Fzf_x_"
      },
      "source": [
        "```{admonition} Question 62\n",
        "**Marital_Status 컬럼값이 Married 이고 Card_Category 컬럼의 값이 Platinum인 경우 1 그외의 경우에는 모두 0으로 하는 newState컬럼을 정의하라. newState의 각 값들의 빈도수를 출력하라**\n",
        "```"
      ]
    },
    {
      "cell_type": "markdown",
      "metadata": {
        "id": "Ii0JKUQLf_x_"
      },
      "source": [
        "```{admonition} 62번 유튜브 풀이\n",
        ":class: dropdown\n",
        "<div style=\"text-align: center\"><iframe width=\"700\" height=\"500\" src=https://www.youtube.com/embed/00rctVVSSoA?start=5230&end=5748></iframe></div>\n",
        "```"
      ]
    },
    {
      "cell_type": "code",
      "execution_count": null,
      "metadata": {
        "ExecuteTime": {
          "end_time": "2022-02-19T18:22:29.559786Z",
          "start_time": "2022-02-19T18:22:29.414224Z"
        },
        "tags": [
          "hide-input"
        ],
        "id": "_8bkrbDbf_x_"
      },
      "outputs": [],
      "source": [
        "def check(x):\n",
        "    if x.Marital_Status =='Married' and x.Card_Category =='Platinum':\n",
        "        return 1\n",
        "    else:\n",
        "        return 0\n",
        "\n",
        "\n",
        "df['newState'] = df.apply(check,axis=1)\n",
        "\n",
        "Ans  = df['newState'].value_counts()"
      ]
    },
    {
      "cell_type": "code",
      "execution_count": null,
      "metadata": {
        "ExecuteTime": {
          "end_time": "2022-02-19T18:22:29.565299Z",
          "start_time": "2022-02-19T18:22:29.561133Z"
        },
        "id": "epuV1uqtf_x_",
        "outputId": "0c6aea15-1449-4057-ce27-84652e7c2056"
      },
      "outputs": [
        {
          "data": {
            "text/plain": [
              "0    10120\n",
              "1        7\n",
              "Name: newState, dtype: int64"
            ]
          },
          "execution_count": 123,
          "metadata": {},
          "output_type": "execute_result"
        }
      ],
      "source": [
        "Ans"
      ]
    },
    {
      "cell_type": "markdown",
      "metadata": {
        "id": "dTaXlObXf_x_"
      },
      "source": [
        "```{admonition} Question 63\n",
        "**Gender 컬럼값 M인 경우 male F인 경우 female로 값을 변경하여 Gender 컬럼에 새롭게 정의하라. 각 value의 빈도를 출력하라**\n",
        "```"
      ]
    },
    {
      "cell_type": "markdown",
      "metadata": {
        "id": "y7dhgdDlf_x_"
      },
      "source": [
        "```{admonition} 63번 유튜브 풀이\n",
        ":class: dropdown\n",
        "<div style=\"text-align: center\"><iframe width=\"700\" height=\"500\" src=https://www.youtube.com/embed/00rctVVSSoA?start=5750&end=5866></iframe></div>\n",
        "```"
      ]
    },
    {
      "cell_type": "code",
      "execution_count": null,
      "metadata": {
        "ExecuteTime": {
          "end_time": "2022-02-19T18:22:29.571997Z",
          "start_time": "2022-02-19T18:22:29.566699Z"
        },
        "tags": [
          "hide-input"
        ],
        "id": "T6yY9OZxf_yA"
      },
      "outputs": [],
      "source": [
        "def changeGender(x):\n",
        "    if x =='M':\n",
        "        return 'male'\n",
        "    else:\n",
        "        return 'female'\n",
        "df['Gender'] = df.Gender.apply(changeGender)\n",
        "Ans = df['Gender'].value_counts()"
      ]
    },
    {
      "cell_type": "code",
      "execution_count": null,
      "metadata": {
        "ExecuteTime": {
          "end_time": "2022-02-19T18:22:29.576573Z",
          "start_time": "2022-02-19T18:22:29.573079Z"
        },
        "id": "PHsTctOxf_yA",
        "outputId": "789dd5ae-3bc4-4b54-9608-26c89c85efae"
      },
      "outputs": [
        {
          "data": {
            "text/plain": [
              "female    5358\n",
              "male      4769\n",
              "Name: Gender, dtype: int64"
            ]
          },
          "execution_count": 125,
          "metadata": {},
          "output_type": "execute_result"
        }
      ],
      "source": [
        "Ans"
      ]
    },
    {
      "cell_type": "markdown",
      "metadata": {
        "id": "KlBtaRJrf_yA"
      },
      "source": [
        "## 05_Time_Series"
      ]
    },
    {
      "cell_type": "markdown",
      "metadata": {
        "id": "a9u8cgExf_yA"
      },
      "source": [
        "```{attention} \n",
        "주가 데이터 : https://raw.githubusercontent.com/guipsamora/pandas_exercises/master/06_Stats/Wind_Stats/wind.data\n",
        "**DataUrl = 'https://raw.githubusercontent.com/Datamanim/pandas/main/timeTest.csv'**\n",
        "```"
      ]
    },
    {
      "cell_type": "markdown",
      "metadata": {
        "id": "NghKV28yf_yA"
      },
      "source": [
        "```{admonition} Question 64\n",
        "**데이터를 로드하고 각 열의 데이터 타입을 파악하라**\n",
        "```"
      ]
    },
    {
      "cell_type": "markdown",
      "metadata": {
        "id": "tJij0g0Gf_yA"
      },
      "source": [
        "```{admonition} 64번 유튜브 풀이\n",
        ":class: dropdown\n",
        "<div style=\"text-align: center\"><iframe width=\"700\" height=\"500\" src=https://www.youtube.com/embed/00rctVVSSoA?start=5868&end=5922></iframe></div>\n",
        "```"
      ]
    },
    {
      "cell_type": "code",
      "execution_count": null,
      "metadata": {
        "ExecuteTime": {
          "end_time": "2022-08-02T11:40:15.609975Z",
          "start_time": "2022-08-02T11:40:14.196685Z"
        },
        "scrolled": true,
        "tags": [
          "hide-input"
        ],
        "id": "5TuhsucDf_yA",
        "outputId": "32285453-a5b7-403f-d4fb-932238820ff0"
      },
      "outputs": [
        {
          "name": "stdout",
          "output_type": "stream",
          "text": [
            "<class 'pandas.core.frame.DataFrame'>\n",
            "RangeIndex: 6574 entries, 0 to 6573\n",
            "Data columns (total 13 columns):\n",
            " #   Column    Non-Null Count  Dtype  \n",
            "---  ------    --------------  -----  \n",
            " 0   Yr_Mo_Dy  6574 non-null   object \n",
            " 1   RPT       6568 non-null   float64\n",
            " 2   VAL       6571 non-null   float64\n",
            " 3   ROS       6572 non-null   float64\n",
            " 4   KIL       6569 non-null   float64\n",
            " 5   SHA       6572 non-null   float64\n",
            " 6   BIR       6574 non-null   float64\n",
            " 7   DUB       6571 non-null   float64\n",
            " 8   CLA       6572 non-null   float64\n",
            " 9   MUL       6571 non-null   float64\n",
            " 10  CLO       6573 non-null   float64\n",
            " 11  BEL       6574 non-null   float64\n",
            " 12  MAL       6570 non-null   float64\n",
            "dtypes: float64(12), object(1)\n",
            "memory usage: 667.8+ KB\n"
          ]
        }
      ],
      "source": [
        "df = pd.read_csv('https://raw.githubusercontent.com/Datamanim/pandas/main/timeTest.csv')\n",
        "\n",
        "df.info()"
      ]
    },
    {
      "cell_type": "markdown",
      "metadata": {
        "id": "0oZakOssf_yA"
      },
      "source": [
        "```{admonition} Question 65\n",
        "**Yr_Mo_Dy을 판다스에서 인식할 수 있는 datetime64타입으로 변경하라**\n",
        "```"
      ]
    },
    {
      "cell_type": "markdown",
      "metadata": {
        "id": "wB6GVBFHf_yB"
      },
      "source": [
        "```{admonition} 65번 유튜브 풀이\n",
        ":class: dropdown\n",
        "<div style=\"text-align: center\"><iframe width=\"700\" height=\"500\" src=https://www.youtube.com/embed/00rctVVSSoA?start=5924&end=6118></iframe></div>\n",
        "```"
      ]
    },
    {
      "cell_type": "code",
      "execution_count": null,
      "metadata": {
        "ExecuteTime": {
          "end_time": "2022-08-02T11:40:15.935470Z",
          "start_time": "2022-08-02T11:40:15.930587Z"
        },
        "tags": [
          "hide-input"
        ],
        "id": "1z3npiXaf_yB"
      },
      "outputs": [],
      "source": [
        "df.Yr_Mo_Dy = pd.to_datetime(df.Yr_Mo_Dy)\n",
        "Ans = df.Yr_Mo_Dy"
      ]
    },
    {
      "cell_type": "code",
      "execution_count": null,
      "metadata": {
        "ExecuteTime": {
          "end_time": "2022-08-02T11:40:16.367062Z",
          "start_time": "2022-08-02T11:40:16.361359Z"
        },
        "id": "SNby9CEhf_yB",
        "outputId": "871dc1b8-5fcc-435f-b815-6624708900be"
      },
      "outputs": [
        {
          "data": {
            "text/plain": [
              "0   2061-01-01\n",
              "1   2061-01-02\n",
              "2   2061-01-03\n",
              "3   2061-01-04\n",
              "Name: Yr_Mo_Dy, dtype: datetime64[ns]"
            ]
          },
          "execution_count": 31,
          "metadata": {},
          "output_type": "execute_result"
        }
      ],
      "source": [
        "Ans.head(4)"
      ]
    },
    {
      "cell_type": "markdown",
      "metadata": {
        "id": "Kuqzzfpef_yB"
      },
      "source": [
        "```{admonition} Question 66\n",
        "**Yr_Mo_Dy에 존재하는 년도의 유일값을 모두 출력하라**\n",
        "```"
      ]
    },
    {
      "cell_type": "markdown",
      "metadata": {
        "id": "_joshd0Xf_yB"
      },
      "source": [
        "```{admonition} 66번 유튜브 풀이\n",
        ":class: dropdown\n",
        "<div style=\"text-align: center\"><iframe width=\"700\" height=\"500\" src=https://www.youtube.com/embed/00rctVVSSoA?start=6120&end=6358></iframe></div>\n",
        "```\n",
        "    "
      ]
    },
    {
      "cell_type": "code",
      "execution_count": null,
      "metadata": {
        "ExecuteTime": {
          "end_time": "2022-08-02T11:40:17.098357Z",
          "start_time": "2022-08-02T11:40:17.094961Z"
        },
        "tags": [
          "hide-input"
        ],
        "id": "L2r4E1m8f_yB"
      },
      "outputs": [],
      "source": [
        "Ans = df.Yr_Mo_Dy.dt.year.unique()"
      ]
    },
    {
      "cell_type": "code",
      "execution_count": null,
      "metadata": {
        "ExecuteTime": {
          "end_time": "2022-08-02T11:40:17.362109Z",
          "start_time": "2022-08-02T11:40:17.358025Z"
        },
        "id": "IT9oy0tsf_yB",
        "outputId": "1adf1940-4325-4f45-adc9-a47cd0b43839"
      },
      "outputs": [
        {
          "data": {
            "text/plain": [
              "array([2061, 2062, 2063, 2064, 2065, 2066, 2067, 2068, 2069, 2070, 1971,\n",
              "       1972, 1973, 1974, 1975, 1976, 1977, 1978])"
            ]
          },
          "execution_count": 33,
          "metadata": {},
          "output_type": "execute_result"
        }
      ],
      "source": [
        "Ans"
      ]
    },
    {
      "cell_type": "markdown",
      "metadata": {
        "id": "v-RN6zqsf_yB"
      },
      "source": [
        "```{admonition} Question 67\n",
        "**Yr_Mo_Dy에 년도가 2061년 이상의 경우에는 모두 잘못된 데이터이다. 해당경우의 값은 100을 빼서 새롭게 날짜를 Yr_Mo_Dy 컬럼에 정의하라**\n",
        "```"
      ]
    },
    {
      "cell_type": "markdown",
      "metadata": {
        "id": "ezfoQJhwf_yC"
      },
      "source": [
        "```{admonition} 67번 유튜브 풀이\n",
        ":class: dropdown\n",
        "<div style=\"text-align: center\"><iframe width=\"700\" height=\"500\" src=https://www.youtube.com/embed/00rctVVSSoA?start=6360&end=6698></iframe></div>\n",
        "```"
      ]
    },
    {
      "cell_type": "code",
      "execution_count": null,
      "metadata": {
        "ExecuteTime": {
          "end_time": "2022-08-02T11:40:18.820751Z",
          "start_time": "2022-08-02T11:40:18.392128Z"
        },
        "scrolled": true,
        "tags": [
          "hide-input"
        ],
        "id": "KuL4IbPff_yC"
      },
      "outputs": [],
      "source": [
        "def fix_century(x):\n",
        "    import datetime\n",
        "    \n",
        "    year = x.year - 100 if x.year >= 2061 else x.year\n",
        "    return pd.to_datetime(datetime.date(year, x.month, x.day))\n",
        "\n",
        "\n",
        "df['Yr_Mo_Dy'] = df['Yr_Mo_Dy'].apply(fix_century)\n",
        "\n",
        "Ans = df.head(4)"
      ]
    },
    {
      "cell_type": "code",
      "execution_count": null,
      "metadata": {
        "ExecuteTime": {
          "end_time": "2022-08-02T11:40:24.821332Z",
          "start_time": "2022-08-02T11:40:24.805356Z"
        },
        "id": "Lu_-exwGf_yC",
        "outputId": "216b6841-112b-479f-b666-b313e21e9eb0"
      },
      "outputs": [
        {
          "data": {
            "text/html": [
              "<div>\n",
              "<style scoped>\n",
              "    .dataframe tbody tr th:only-of-type {\n",
              "        vertical-align: middle;\n",
              "    }\n",
              "\n",
              "    .dataframe tbody tr th {\n",
              "        vertical-align: top;\n",
              "    }\n",
              "\n",
              "    .dataframe thead th {\n",
              "        text-align: right;\n",
              "    }\n",
              "</style>\n",
              "<table border=\"1\" class=\"dataframe\">\n",
              "  <thead>\n",
              "    <tr style=\"text-align: right;\">\n",
              "      <th></th>\n",
              "      <th>Yr_Mo_Dy</th>\n",
              "      <th>RPT</th>\n",
              "      <th>VAL</th>\n",
              "      <th>ROS</th>\n",
              "      <th>KIL</th>\n",
              "      <th>SHA</th>\n",
              "      <th>BIR</th>\n",
              "      <th>DUB</th>\n",
              "      <th>CLA</th>\n",
              "      <th>MUL</th>\n",
              "      <th>CLO</th>\n",
              "      <th>BEL</th>\n",
              "      <th>MAL</th>\n",
              "    </tr>\n",
              "  </thead>\n",
              "  <tbody>\n",
              "    <tr>\n",
              "      <th>0</th>\n",
              "      <td>1961-01-01</td>\n",
              "      <td>15.04</td>\n",
              "      <td>14.96</td>\n",
              "      <td>13.17</td>\n",
              "      <td>9.29</td>\n",
              "      <td>NaN</td>\n",
              "      <td>9.87</td>\n",
              "      <td>13.67</td>\n",
              "      <td>10.25</td>\n",
              "      <td>10.83</td>\n",
              "      <td>12.58</td>\n",
              "      <td>18.50</td>\n",
              "      <td>15.04</td>\n",
              "    </tr>\n",
              "    <tr>\n",
              "      <th>1</th>\n",
              "      <td>1961-01-02</td>\n",
              "      <td>14.71</td>\n",
              "      <td>NaN</td>\n",
              "      <td>10.83</td>\n",
              "      <td>6.50</td>\n",
              "      <td>12.62</td>\n",
              "      <td>7.67</td>\n",
              "      <td>11.50</td>\n",
              "      <td>10.04</td>\n",
              "      <td>9.79</td>\n",
              "      <td>9.67</td>\n",
              "      <td>17.54</td>\n",
              "      <td>13.83</td>\n",
              "    </tr>\n",
              "    <tr>\n",
              "      <th>2</th>\n",
              "      <td>1961-01-03</td>\n",
              "      <td>18.50</td>\n",
              "      <td>16.88</td>\n",
              "      <td>12.33</td>\n",
              "      <td>10.13</td>\n",
              "      <td>11.17</td>\n",
              "      <td>6.17</td>\n",
              "      <td>11.25</td>\n",
              "      <td>NaN</td>\n",
              "      <td>8.50</td>\n",
              "      <td>7.67</td>\n",
              "      <td>12.75</td>\n",
              "      <td>12.71</td>\n",
              "    </tr>\n",
              "    <tr>\n",
              "      <th>3</th>\n",
              "      <td>1961-01-04</td>\n",
              "      <td>10.58</td>\n",
              "      <td>6.63</td>\n",
              "      <td>11.75</td>\n",
              "      <td>4.58</td>\n",
              "      <td>4.54</td>\n",
              "      <td>2.88</td>\n",
              "      <td>8.63</td>\n",
              "      <td>1.79</td>\n",
              "      <td>5.83</td>\n",
              "      <td>5.88</td>\n",
              "      <td>5.46</td>\n",
              "      <td>10.88</td>\n",
              "    </tr>\n",
              "  </tbody>\n",
              "</table>\n",
              "</div>"
            ],
            "text/plain": [
              "    Yr_Mo_Dy    RPT    VAL    ROS    KIL    SHA   BIR    DUB    CLA    MUL  \\\n",
              "0 1961-01-01  15.04  14.96  13.17   9.29    NaN  9.87  13.67  10.25  10.83   \n",
              "1 1961-01-02  14.71    NaN  10.83   6.50  12.62  7.67  11.50  10.04   9.79   \n",
              "2 1961-01-03  18.50  16.88  12.33  10.13  11.17  6.17  11.25    NaN   8.50   \n",
              "3 1961-01-04  10.58   6.63  11.75   4.58   4.54  2.88   8.63   1.79   5.83   \n",
              "\n",
              "     CLO    BEL    MAL  \n",
              "0  12.58  18.50  15.04  \n",
              "1   9.67  17.54  13.83  \n",
              "2   7.67  12.75  12.71  \n",
              "3   5.88   5.46  10.88  "
            ]
          },
          "execution_count": 36,
          "metadata": {},
          "output_type": "execute_result"
        }
      ],
      "source": [
        "Ans"
      ]
    },
    {
      "cell_type": "markdown",
      "metadata": {
        "id": "J4ILVVRrf_yC"
      },
      "source": [
        "```{admonition} Question 68\n",
        "**년도별 각컬럼의 평균값을 구하여라**\n",
        "```"
      ]
    },
    {
      "cell_type": "markdown",
      "metadata": {
        "id": "8zOGVV2qf_yC"
      },
      "source": [
        "```{admonition} 68번 유튜브 풀이\n",
        ":class: dropdown\n",
        "<div style=\"text-align: center\"><iframe width=\"700\" height=\"500\" src=https://www.youtube.com/embed/00rctVVSSoA?start=6700&end=6808></iframe></div>\n",
        "```"
      ]
    },
    {
      "cell_type": "code",
      "execution_count": null,
      "metadata": {
        "ExecuteTime": {
          "end_time": "2022-08-02T11:40:28.758413Z",
          "start_time": "2022-08-02T11:40:28.752978Z"
        },
        "tags": [
          "hide-input"
        ],
        "id": "bfDJBDjwf_yC"
      },
      "outputs": [],
      "source": [
        "Ans = df.groupby(df.Yr_Mo_Dy.dt.year).mean()"
      ]
    },
    {
      "cell_type": "code",
      "execution_count": null,
      "metadata": {
        "ExecuteTime": {
          "end_time": "2022-08-02T11:40:29.013634Z",
          "start_time": "2022-08-02T11:40:29.000134Z"
        },
        "id": "6tnr2goEf_yC",
        "outputId": "87caf2f7-ccc7-4a0d-9235-a3d9fedf7319"
      },
      "outputs": [
        {
          "data": {
            "text/html": [
              "<div>\n",
              "<style scoped>\n",
              "    .dataframe tbody tr th:only-of-type {\n",
              "        vertical-align: middle;\n",
              "    }\n",
              "\n",
              "    .dataframe tbody tr th {\n",
              "        vertical-align: top;\n",
              "    }\n",
              "\n",
              "    .dataframe thead th {\n",
              "        text-align: right;\n",
              "    }\n",
              "</style>\n",
              "<table border=\"1\" class=\"dataframe\">\n",
              "  <thead>\n",
              "    <tr style=\"text-align: right;\">\n",
              "      <th></th>\n",
              "      <th>RPT</th>\n",
              "      <th>VAL</th>\n",
              "      <th>ROS</th>\n",
              "      <th>KIL</th>\n",
              "      <th>SHA</th>\n",
              "      <th>BIR</th>\n",
              "      <th>DUB</th>\n",
              "      <th>CLA</th>\n",
              "      <th>MUL</th>\n",
              "      <th>CLO</th>\n",
              "      <th>BEL</th>\n",
              "      <th>MAL</th>\n",
              "    </tr>\n",
              "    <tr>\n",
              "      <th>Yr_Mo_Dy</th>\n",
              "      <th></th>\n",
              "      <th></th>\n",
              "      <th></th>\n",
              "      <th></th>\n",
              "      <th></th>\n",
              "      <th></th>\n",
              "      <th></th>\n",
              "      <th></th>\n",
              "      <th></th>\n",
              "      <th></th>\n",
              "      <th></th>\n",
              "      <th></th>\n",
              "    </tr>\n",
              "  </thead>\n",
              "  <tbody>\n",
              "    <tr>\n",
              "      <th>1961</th>\n",
              "      <td>12.299583</td>\n",
              "      <td>10.351796</td>\n",
              "      <td>11.362369</td>\n",
              "      <td>6.958227</td>\n",
              "      <td>10.881763</td>\n",
              "      <td>7.729726</td>\n",
              "      <td>9.733923</td>\n",
              "      <td>8.858788</td>\n",
              "      <td>8.647652</td>\n",
              "      <td>9.835577</td>\n",
              "      <td>13.502795</td>\n",
              "      <td>13.680773</td>\n",
              "    </tr>\n",
              "    <tr>\n",
              "      <th>1962</th>\n",
              "      <td>12.246923</td>\n",
              "      <td>10.110438</td>\n",
              "      <td>11.732712</td>\n",
              "      <td>6.960440</td>\n",
              "      <td>10.657918</td>\n",
              "      <td>7.393068</td>\n",
              "      <td>11.020712</td>\n",
              "      <td>8.793753</td>\n",
              "      <td>8.316822</td>\n",
              "      <td>9.676247</td>\n",
              "      <td>12.930685</td>\n",
              "      <td>14.323956</td>\n",
              "    </tr>\n",
              "    <tr>\n",
              "      <th>1963</th>\n",
              "      <td>12.813452</td>\n",
              "      <td>10.836986</td>\n",
              "      <td>12.541151</td>\n",
              "      <td>7.330055</td>\n",
              "      <td>11.724110</td>\n",
              "      <td>8.434712</td>\n",
              "      <td>11.075699</td>\n",
              "      <td>10.336548</td>\n",
              "      <td>8.903589</td>\n",
              "      <td>10.224438</td>\n",
              "      <td>13.638877</td>\n",
              "      <td>14.999014</td>\n",
              "    </tr>\n",
              "    <tr>\n",
              "      <th>1964</th>\n",
              "      <td>12.363661</td>\n",
              "      <td>10.920164</td>\n",
              "      <td>12.104372</td>\n",
              "      <td>6.787787</td>\n",
              "      <td>11.454481</td>\n",
              "      <td>7.570874</td>\n",
              "      <td>10.259153</td>\n",
              "      <td>9.467350</td>\n",
              "      <td>7.789016</td>\n",
              "      <td>10.207951</td>\n",
              "      <td>13.740546</td>\n",
              "      <td>14.910301</td>\n",
              "    </tr>\n",
              "  </tbody>\n",
              "</table>\n",
              "</div>"
            ],
            "text/plain": [
              "                RPT        VAL        ROS       KIL        SHA       BIR  \\\n",
              "Yr_Mo_Dy                                                                   \n",
              "1961      12.299583  10.351796  11.362369  6.958227  10.881763  7.729726   \n",
              "1962      12.246923  10.110438  11.732712  6.960440  10.657918  7.393068   \n",
              "1963      12.813452  10.836986  12.541151  7.330055  11.724110  8.434712   \n",
              "1964      12.363661  10.920164  12.104372  6.787787  11.454481  7.570874   \n",
              "\n",
              "                DUB        CLA       MUL        CLO        BEL        MAL  \n",
              "Yr_Mo_Dy                                                                   \n",
              "1961       9.733923   8.858788  8.647652   9.835577  13.502795  13.680773  \n",
              "1962      11.020712   8.793753  8.316822   9.676247  12.930685  14.323956  \n",
              "1963      11.075699  10.336548  8.903589  10.224438  13.638877  14.999014  \n",
              "1964      10.259153   9.467350  7.789016  10.207951  13.740546  14.910301  "
            ]
          },
          "execution_count": 38,
          "metadata": {},
          "output_type": "execute_result"
        }
      ],
      "source": [
        "Ans.head(4)"
      ]
    },
    {
      "cell_type": "markdown",
      "metadata": {
        "id": "eMrE8FdTf_yC"
      },
      "source": [
        "```{admonition} Question 69\n",
        "**weekday컬럼을 만들고 요일별로 매핑하라 ( 월요일: 0 ~ 일요일 :6)**\n",
        "```"
      ]
    },
    {
      "cell_type": "markdown",
      "metadata": {
        "id": "A9C60jwUf_yC"
      },
      "source": [
        "```{admonition} 69번 유튜브 풀이\n",
        ":class: dropdown\n",
        "<div style=\"text-align: center\"><iframe width=\"700\" height=\"500\" src=https://www.youtube.com/embed/00rctVVSSoA?start=6810&end=6933></iframe></div>\n",
        "```"
      ]
    },
    {
      "cell_type": "code",
      "execution_count": null,
      "metadata": {
        "ExecuteTime": {
          "end_time": "2022-02-19T18:22:30.171467Z",
          "start_time": "2022-02-19T18:22:30.167436Z"
        },
        "tags": [
          "hide-input"
        ],
        "id": "rzEDbWl2f_yD"
      },
      "outputs": [],
      "source": [
        "df['weekday'] = df.Yr_Mo_Dy.dt.weekday\n",
        "\n",
        "Ans = df['weekday'].head(3).to_frame()"
      ]
    },
    {
      "cell_type": "code",
      "execution_count": null,
      "metadata": {
        "ExecuteTime": {
          "end_time": "2022-02-19T18:22:30.177478Z",
          "start_time": "2022-02-19T18:22:30.172967Z"
        },
        "id": "vsxqYv5Rf_yD",
        "outputId": "fda2cd8c-4c9f-46ab-b1cc-aa839bc18796"
      },
      "outputs": [
        {
          "data": {
            "text/html": [
              "<div>\n",
              "<style scoped>\n",
              "    .dataframe tbody tr th:only-of-type {\n",
              "        vertical-align: middle;\n",
              "    }\n",
              "\n",
              "    .dataframe tbody tr th {\n",
              "        vertical-align: top;\n",
              "    }\n",
              "\n",
              "    .dataframe thead th {\n",
              "        text-align: right;\n",
              "    }\n",
              "</style>\n",
              "<table border=\"1\" class=\"dataframe\">\n",
              "  <thead>\n",
              "    <tr style=\"text-align: right;\">\n",
              "      <th></th>\n",
              "      <th>weekday</th>\n",
              "    </tr>\n",
              "  </thead>\n",
              "  <tbody>\n",
              "    <tr>\n",
              "      <th>0</th>\n",
              "      <td>6</td>\n",
              "    </tr>\n",
              "    <tr>\n",
              "      <th>1</th>\n",
              "      <td>0</td>\n",
              "    </tr>\n",
              "    <tr>\n",
              "      <th>2</th>\n",
              "      <td>1</td>\n",
              "    </tr>\n",
              "  </tbody>\n",
              "</table>\n",
              "</div>"
            ],
            "text/plain": [
              "   weekday\n",
              "0        6\n",
              "1        0\n",
              "2        1"
            ]
          },
          "execution_count": 136,
          "metadata": {},
          "output_type": "execute_result"
        }
      ],
      "source": [
        "Ans"
      ]
    },
    {
      "cell_type": "markdown",
      "metadata": {
        "id": "PqqqTasbf_yD"
      },
      "source": [
        "```{admonition} Question 70\n",
        "**weekday컬럼을 기준으로 주말이면 1 평일이면 0의 값을 가지는 WeekCheck 컬럼을 만들어라**\n",
        "```"
      ]
    },
    {
      "cell_type": "markdown",
      "metadata": {
        "id": "hJ6Yh317f_yD"
      },
      "source": [
        "```{admonition} 70번 유튜브 풀이\n",
        ":class: dropdown\n",
        "<div style=\"text-align: center\"><iframe width=\"700\" height=\"500\" src=https://www.youtube.com/embed/00rctVVSSoA?start=6935&end=7055></iframe></div>\n",
        "```"
      ]
    },
    {
      "cell_type": "code",
      "execution_count": null,
      "metadata": {
        "ExecuteTime": {
          "end_time": "2022-02-19T18:22:30.184573Z",
          "start_time": "2022-02-19T18:22:30.178967Z"
        },
        "scrolled": true,
        "tags": [
          "hide-input"
        ],
        "id": "kfjTAyNff_yD"
      },
      "outputs": [],
      "source": [
        "df['WeekCheck']  = df['weekday'].map(lambda x : 1 if x in [5,6] else 0)\n",
        "\n",
        "Ans = df['WeekCheck'].head(3).to_frame()"
      ]
    },
    {
      "cell_type": "code",
      "execution_count": null,
      "metadata": {
        "ExecuteTime": {
          "end_time": "2022-02-19T18:22:30.190442Z",
          "start_time": "2022-02-19T18:22:30.185878Z"
        },
        "id": "zyxhuUapf_yD",
        "outputId": "9dc08e87-2202-4b05-ebfc-d6d874a47156"
      },
      "outputs": [
        {
          "data": {
            "text/html": [
              "<div>\n",
              "<style scoped>\n",
              "    .dataframe tbody tr th:only-of-type {\n",
              "        vertical-align: middle;\n",
              "    }\n",
              "\n",
              "    .dataframe tbody tr th {\n",
              "        vertical-align: top;\n",
              "    }\n",
              "\n",
              "    .dataframe thead th {\n",
              "        text-align: right;\n",
              "    }\n",
              "</style>\n",
              "<table border=\"1\" class=\"dataframe\">\n",
              "  <thead>\n",
              "    <tr style=\"text-align: right;\">\n",
              "      <th></th>\n",
              "      <th>WeekCheck</th>\n",
              "    </tr>\n",
              "  </thead>\n",
              "  <tbody>\n",
              "    <tr>\n",
              "      <th>0</th>\n",
              "      <td>1</td>\n",
              "    </tr>\n",
              "    <tr>\n",
              "      <th>1</th>\n",
              "      <td>0</td>\n",
              "    </tr>\n",
              "    <tr>\n",
              "      <th>2</th>\n",
              "      <td>0</td>\n",
              "    </tr>\n",
              "  </tbody>\n",
              "</table>\n",
              "</div>"
            ],
            "text/plain": [
              "   WeekCheck\n",
              "0          1\n",
              "1          0\n",
              "2          0"
            ]
          },
          "execution_count": 138,
          "metadata": {},
          "output_type": "execute_result"
        }
      ],
      "source": [
        "Ans"
      ]
    },
    {
      "cell_type": "markdown",
      "metadata": {
        "id": "onGhkD5Ef_yD"
      },
      "source": [
        "```{admonition} Question 71\n",
        "**년도, 일자 상관없이 모든 컬럼의 각 달의 평균을 구하여라**\n",
        "```"
      ]
    },
    {
      "cell_type": "markdown",
      "metadata": {
        "id": "uInFTiX5f_yD"
      },
      "source": [
        "```{admonition} 71번 유튜브 풀이\n",
        ":class: dropdown\n",
        "<div style=\"text-align: center\"><iframe width=\"700\" height=\"500\" src=https://www.youtube.com/embed/00rctVVSSoA?start=7057&end=7104></iframe></div>\n",
        "```"
      ]
    },
    {
      "cell_type": "code",
      "execution_count": null,
      "metadata": {
        "ExecuteTime": {
          "end_time": "2022-02-19T18:22:30.210111Z",
          "start_time": "2022-02-19T18:22:30.191842Z"
        },
        "tags": [
          "hide-input"
        ],
        "id": "L4U1en0mf_yE"
      },
      "outputs": [],
      "source": [
        "Ans = df.groupby(df.Yr_Mo_Dy.dt.month).mean()"
      ]
    },
    {
      "cell_type": "code",
      "execution_count": null,
      "metadata": {
        "ExecuteTime": {
          "end_time": "2022-02-19T18:22:30.223673Z",
          "start_time": "2022-02-19T18:22:30.211285Z"
        },
        "id": "Ig5gcbuHf_yE",
        "outputId": "eaa0ce14-bf99-41e2-be25-bbb1fa6ade19"
      },
      "outputs": [
        {
          "data": {
            "text/html": [
              "<div>\n",
              "<style scoped>\n",
              "    .dataframe tbody tr th:only-of-type {\n",
              "        vertical-align: middle;\n",
              "    }\n",
              "\n",
              "    .dataframe tbody tr th {\n",
              "        vertical-align: top;\n",
              "    }\n",
              "\n",
              "    .dataframe thead th {\n",
              "        text-align: right;\n",
              "    }\n",
              "</style>\n",
              "<table border=\"1\" class=\"dataframe\">\n",
              "  <thead>\n",
              "    <tr style=\"text-align: right;\">\n",
              "      <th></th>\n",
              "      <th>RPT</th>\n",
              "      <th>VAL</th>\n",
              "      <th>ROS</th>\n",
              "      <th>KIL</th>\n",
              "      <th>SHA</th>\n",
              "      <th>BIR</th>\n",
              "      <th>DUB</th>\n",
              "      <th>CLA</th>\n",
              "      <th>MUL</th>\n",
              "      <th>CLO</th>\n",
              "      <th>BEL</th>\n",
              "      <th>MAL</th>\n",
              "      <th>weekday</th>\n",
              "      <th>WeekCheck</th>\n",
              "    </tr>\n",
              "    <tr>\n",
              "      <th>Yr_Mo_Dy</th>\n",
              "      <th></th>\n",
              "      <th></th>\n",
              "      <th></th>\n",
              "      <th></th>\n",
              "      <th></th>\n",
              "      <th></th>\n",
              "      <th></th>\n",
              "      <th></th>\n",
              "      <th></th>\n",
              "      <th></th>\n",
              "      <th></th>\n",
              "      <th></th>\n",
              "      <th></th>\n",
              "      <th></th>\n",
              "    </tr>\n",
              "  </thead>\n",
              "  <tbody>\n",
              "    <tr>\n",
              "      <th>1</th>\n",
              "      <td>14.847325</td>\n",
              "      <td>12.914560</td>\n",
              "      <td>13.299624</td>\n",
              "      <td>7.199498</td>\n",
              "      <td>11.667734</td>\n",
              "      <td>8.054839</td>\n",
              "      <td>11.819355</td>\n",
              "      <td>9.512047</td>\n",
              "      <td>9.543208</td>\n",
              "      <td>10.053566</td>\n",
              "      <td>14.550520</td>\n",
              "      <td>18.028763</td>\n",
              "      <td>2.989247</td>\n",
              "      <td>0.284946</td>\n",
              "    </tr>\n",
              "    <tr>\n",
              "      <th>2</th>\n",
              "      <td>13.710906</td>\n",
              "      <td>12.111122</td>\n",
              "      <td>12.879132</td>\n",
              "      <td>6.942411</td>\n",
              "      <td>11.551772</td>\n",
              "      <td>7.633858</td>\n",
              "      <td>11.206024</td>\n",
              "      <td>9.341437</td>\n",
              "      <td>9.313169</td>\n",
              "      <td>9.518051</td>\n",
              "      <td>13.728898</td>\n",
              "      <td>17.156142</td>\n",
              "      <td>3.005906</td>\n",
              "      <td>0.287402</td>\n",
              "    </tr>\n",
              "    <tr>\n",
              "      <th>3</th>\n",
              "      <td>13.158687</td>\n",
              "      <td>11.505842</td>\n",
              "      <td>12.648118</td>\n",
              "      <td>7.265907</td>\n",
              "      <td>11.554516</td>\n",
              "      <td>7.959409</td>\n",
              "      <td>11.310179</td>\n",
              "      <td>9.635896</td>\n",
              "      <td>9.700324</td>\n",
              "      <td>10.096953</td>\n",
              "      <td>13.810609</td>\n",
              "      <td>16.909317</td>\n",
              "      <td>3.000000</td>\n",
              "      <td>0.283154</td>\n",
              "    </tr>\n",
              "    <tr>\n",
              "      <th>4</th>\n",
              "      <td>12.555648</td>\n",
              "      <td>10.429759</td>\n",
              "      <td>12.204815</td>\n",
              "      <td>6.898037</td>\n",
              "      <td>10.677667</td>\n",
              "      <td>7.441389</td>\n",
              "      <td>10.221315</td>\n",
              "      <td>8.909056</td>\n",
              "      <td>8.930870</td>\n",
              "      <td>9.158019</td>\n",
              "      <td>12.664759</td>\n",
              "      <td>14.937611</td>\n",
              "      <td>3.011111</td>\n",
              "      <td>0.288889</td>\n",
              "    </tr>\n",
              "  </tbody>\n",
              "</table>\n",
              "</div>"
            ],
            "text/plain": [
              "                RPT        VAL        ROS       KIL        SHA       BIR  \\\n",
              "Yr_Mo_Dy                                                                   \n",
              "1         14.847325  12.914560  13.299624  7.199498  11.667734  8.054839   \n",
              "2         13.710906  12.111122  12.879132  6.942411  11.551772  7.633858   \n",
              "3         13.158687  11.505842  12.648118  7.265907  11.554516  7.959409   \n",
              "4         12.555648  10.429759  12.204815  6.898037  10.677667  7.441389   \n",
              "\n",
              "                DUB       CLA       MUL        CLO        BEL        MAL  \\\n",
              "Yr_Mo_Dy                                                                   \n",
              "1         11.819355  9.512047  9.543208  10.053566  14.550520  18.028763   \n",
              "2         11.206024  9.341437  9.313169   9.518051  13.728898  17.156142   \n",
              "3         11.310179  9.635896  9.700324  10.096953  13.810609  16.909317   \n",
              "4         10.221315  8.909056  8.930870   9.158019  12.664759  14.937611   \n",
              "\n",
              "           weekday  WeekCheck  \n",
              "Yr_Mo_Dy                       \n",
              "1         2.989247   0.284946  \n",
              "2         3.005906   0.287402  \n",
              "3         3.000000   0.283154  \n",
              "4         3.011111   0.288889  "
            ]
          },
          "execution_count": 140,
          "metadata": {},
          "output_type": "execute_result"
        }
      ],
      "source": [
        "Ans.head(4)"
      ]
    },
    {
      "cell_type": "markdown",
      "metadata": {
        "id": "ZShBpuMZf_yE"
      },
      "source": [
        "```{admonition} Question 72\n",
        "**모든 결측치는 컬럼기준 직전의 값으로 대체하고 첫번째 행에 결측치가 있을경우 뒤에있는 값으로 대채하라**\n",
        "```"
      ]
    },
    {
      "cell_type": "markdown",
      "metadata": {
        "id": "3kRUPZiJf_yE"
      },
      "source": [
        "```{admonition} 72번 유튜브 풀이\n",
        ":class: dropdown\n",
        "<div style=\"text-align: center\"><iframe width=\"700\" height=\"500\" src=https://www.youtube.com/embed/00rctVVSSoA?start=7106&end=7348></iframe></div>\n",
        "```"
      ]
    },
    {
      "cell_type": "code",
      "execution_count": null,
      "metadata": {
        "ExecuteTime": {
          "end_time": "2022-02-19T18:22:30.228530Z",
          "start_time": "2022-02-19T18:22:30.224898Z"
        },
        "tags": [
          "hide-input"
        ],
        "id": "tRB_XBv8f_yE"
      },
      "outputs": [],
      "source": [
        "df = df.fillna(method='ffill').fillna(method='bfill')"
      ]
    },
    {
      "cell_type": "code",
      "execution_count": null,
      "metadata": {
        "ExecuteTime": {
          "end_time": "2022-02-19T18:22:30.234796Z",
          "start_time": "2022-02-19T18:22:30.229823Z"
        },
        "id": "Fsm8s-_jf_yF",
        "outputId": "9561bc81-f9f2-4dbc-dad3-d21589406ddc"
      },
      "outputs": [
        {
          "data": {
            "text/plain": [
              "Yr_Mo_Dy     0\n",
              "RPT          0\n",
              "VAL          0\n",
              "ROS          0\n",
              "KIL          0\n",
              "SHA          0\n",
              "BIR          0\n",
              "DUB          0\n",
              "CLA          0\n",
              "MUL          0\n",
              "CLO          0\n",
              "BEL          0\n",
              "MAL          0\n",
              "weekday      0\n",
              "WeekCheck    0\n",
              "dtype: int64"
            ]
          },
          "execution_count": 142,
          "metadata": {},
          "output_type": "execute_result"
        }
      ],
      "source": [
        "df.isnull().sum()"
      ]
    },
    {
      "cell_type": "markdown",
      "metadata": {
        "id": "RjttWx1Af_yF"
      },
      "source": [
        "```{admonition} Question 73\n",
        "**년도 - 월을 기준으로 모든 컬럼의 평균값을 구하여라**\n",
        "```"
      ]
    },
    {
      "cell_type": "markdown",
      "metadata": {
        "id": "ieO0nS_af_yF"
      },
      "source": [
        "```{admonition} 73번 유튜브 풀이\n",
        ":class: dropdown\n",
        "<div style=\"text-align: center\"><iframe width=\"700\" height=\"500\" src=https://www.youtube.com/embed/00rctVVSSoA?start=7350&end=7593></iframe></div>\n",
        "```"
      ]
    },
    {
      "cell_type": "code",
      "execution_count": null,
      "metadata": {
        "ExecuteTime": {
          "end_time": "2022-02-19T18:22:30.241137Z",
          "start_time": "2022-02-19T18:22:30.236127Z"
        },
        "tags": [
          "hide-input"
        ],
        "id": "HXsCNr7ff_yF"
      },
      "outputs": [],
      "source": [
        "Ans = df.groupby(df.Yr_Mo_Dy.dt.to_period('M')).mean()"
      ]
    },
    {
      "cell_type": "code",
      "execution_count": null,
      "metadata": {
        "ExecuteTime": {
          "end_time": "2022-02-19T18:22:30.253673Z",
          "start_time": "2022-02-19T18:22:30.242353Z"
        },
        "id": "uRPGHV_ff_yF",
        "outputId": "edd3f90a-40de-48ca-d828-bbf214fb870f"
      },
      "outputs": [
        {
          "data": {
            "text/html": [
              "<div>\n",
              "<style scoped>\n",
              "    .dataframe tbody tr th:only-of-type {\n",
              "        vertical-align: middle;\n",
              "    }\n",
              "\n",
              "    .dataframe tbody tr th {\n",
              "        vertical-align: top;\n",
              "    }\n",
              "\n",
              "    .dataframe thead th {\n",
              "        text-align: right;\n",
              "    }\n",
              "</style>\n",
              "<table border=\"1\" class=\"dataframe\">\n",
              "  <thead>\n",
              "    <tr style=\"text-align: right;\">\n",
              "      <th></th>\n",
              "      <th>RPT</th>\n",
              "      <th>VAL</th>\n",
              "      <th>ROS</th>\n",
              "      <th>KIL</th>\n",
              "      <th>SHA</th>\n",
              "      <th>BIR</th>\n",
              "      <th>DUB</th>\n",
              "      <th>CLA</th>\n",
              "      <th>MUL</th>\n",
              "      <th>CLO</th>\n",
              "      <th>BEL</th>\n",
              "      <th>MAL</th>\n",
              "      <th>weekday</th>\n",
              "      <th>WeekCheck</th>\n",
              "    </tr>\n",
              "    <tr>\n",
              "      <th>Yr_Mo_Dy</th>\n",
              "      <th></th>\n",
              "      <th></th>\n",
              "      <th></th>\n",
              "      <th></th>\n",
              "      <th></th>\n",
              "      <th></th>\n",
              "      <th></th>\n",
              "      <th></th>\n",
              "      <th></th>\n",
              "      <th></th>\n",
              "      <th></th>\n",
              "      <th></th>\n",
              "      <th></th>\n",
              "      <th></th>\n",
              "    </tr>\n",
              "  </thead>\n",
              "  <tbody>\n",
              "    <tr>\n",
              "      <th>1961-01</th>\n",
              "      <td>14.932581</td>\n",
              "      <td>12.084194</td>\n",
              "      <td>13.431613</td>\n",
              "      <td>7.736774</td>\n",
              "      <td>11.215806</td>\n",
              "      <td>8.588065</td>\n",
              "      <td>11.184839</td>\n",
              "      <td>9.270968</td>\n",
              "      <td>9.085806</td>\n",
              "      <td>10.107419</td>\n",
              "      <td>13.880968</td>\n",
              "      <td>14.703226</td>\n",
              "      <td>2.935484</td>\n",
              "      <td>0.290323</td>\n",
              "    </tr>\n",
              "    <tr>\n",
              "      <th>1961-02</th>\n",
              "      <td>16.269286</td>\n",
              "      <td>14.975357</td>\n",
              "      <td>14.324643</td>\n",
              "      <td>9.116786</td>\n",
              "      <td>13.852143</td>\n",
              "      <td>10.937500</td>\n",
              "      <td>11.890714</td>\n",
              "      <td>11.846071</td>\n",
              "      <td>11.821429</td>\n",
              "      <td>12.714286</td>\n",
              "      <td>18.583214</td>\n",
              "      <td>15.411786</td>\n",
              "      <td>3.000000</td>\n",
              "      <td>0.285714</td>\n",
              "    </tr>\n",
              "    <tr>\n",
              "      <th>1961-03</th>\n",
              "      <td>11.015806</td>\n",
              "      <td>11.296452</td>\n",
              "      <td>10.752903</td>\n",
              "      <td>7.137742</td>\n",
              "      <td>10.509355</td>\n",
              "      <td>8.866774</td>\n",
              "      <td>9.644194</td>\n",
              "      <td>9.829677</td>\n",
              "      <td>10.646129</td>\n",
              "      <td>11.251935</td>\n",
              "      <td>16.410968</td>\n",
              "      <td>15.637742</td>\n",
              "      <td>3.000000</td>\n",
              "      <td>0.258065</td>\n",
              "    </tr>\n",
              "  </tbody>\n",
              "</table>\n",
              "</div>"
            ],
            "text/plain": [
              "                RPT        VAL        ROS       KIL        SHA        BIR  \\\n",
              "Yr_Mo_Dy                                                                    \n",
              "1961-01   14.932581  12.084194  13.431613  7.736774  11.215806   8.588065   \n",
              "1961-02   16.269286  14.975357  14.324643  9.116786  13.852143  10.937500   \n",
              "1961-03   11.015806  11.296452  10.752903  7.137742  10.509355   8.866774   \n",
              "\n",
              "                DUB        CLA        MUL        CLO        BEL        MAL  \\\n",
              "Yr_Mo_Dy                                                                     \n",
              "1961-01   11.184839   9.270968   9.085806  10.107419  13.880968  14.703226   \n",
              "1961-02   11.890714  11.846071  11.821429  12.714286  18.583214  15.411786   \n",
              "1961-03    9.644194   9.829677  10.646129  11.251935  16.410968  15.637742   \n",
              "\n",
              "           weekday  WeekCheck  \n",
              "Yr_Mo_Dy                       \n",
              "1961-01   2.935484   0.290323  \n",
              "1961-02   3.000000   0.285714  \n",
              "1961-03   3.000000   0.258065  "
            ]
          },
          "execution_count": 144,
          "metadata": {},
          "output_type": "execute_result"
        }
      ],
      "source": [
        "Ans.head(3)"
      ]
    },
    {
      "cell_type": "markdown",
      "metadata": {
        "id": "mXYcwxxGf_yF"
      },
      "source": [
        "```{admonition} Question 74\n",
        "**RPT 컬럼의 값을 일자별 기준으로 1차차분하라**\n",
        "```"
      ]
    },
    {
      "cell_type": "markdown",
      "metadata": {
        "id": "V3GquPzyf_yF"
      },
      "source": [
        "```{admonition} 74번 유튜브 풀이\n",
        ":class: dropdown\n",
        "<div style=\"text-align: center\"><iframe width=\"700\" height=\"500\" src=https://www.youtube.com/embed/00rctVVSSoA?start=7595&end=7648></iframe></div>\n",
        "```"
      ]
    },
    {
      "cell_type": "code",
      "execution_count": null,
      "metadata": {
        "ExecuteTime": {
          "end_time": "2022-02-19T18:22:30.257050Z",
          "start_time": "2022-02-19T18:22:30.254686Z"
        },
        "tags": [
          "hide-input"
        ],
        "id": "VYVND11Rf_yF"
      },
      "outputs": [],
      "source": [
        "Ans = df['RPT'].diff()"
      ]
    },
    {
      "cell_type": "code",
      "execution_count": null,
      "metadata": {
        "ExecuteTime": {
          "end_time": "2022-02-19T18:22:30.261878Z",
          "start_time": "2022-02-19T18:22:30.258315Z"
        },
        "id": "PHAoctrSf_yG",
        "outputId": "d6f5c845-f4dc-4361-9af0-cfe14fac0d50"
      },
      "outputs": [
        {
          "data": {
            "text/plain": [
              "0     NaN\n",
              "1   -0.33\n",
              "2    3.79\n",
              "Name: RPT, dtype: float64"
            ]
          },
          "execution_count": 146,
          "metadata": {},
          "output_type": "execute_result"
        }
      ],
      "source": [
        "Ans.head(3)"
      ]
    },
    {
      "cell_type": "markdown",
      "metadata": {
        "id": "xUNwfeD0f_yG"
      },
      "source": [
        "```{admonition} Question 75\n",
        "**RPT와 VAL의 컬럼을 일주일 간격으로 각각 이동평균한값을 구하여라**\n",
        "```"
      ]
    },
    {
      "cell_type": "markdown",
      "metadata": {
        "id": "40iePP9Jf_yG"
      },
      "source": [
        "```{admonition} 75번 유튜브 풀이\n",
        ":class: dropdown\n",
        "<div style=\"text-align: center\"><iframe width=\"700\" height=\"500\" src=https://www.youtube.com/embed/00rctVVSSoA?start=7650&end=7756></iframe></div>\n",
        "```"
      ]
    },
    {
      "cell_type": "code",
      "execution_count": null,
      "metadata": {
        "ExecuteTime": {
          "end_time": "2022-02-19T18:22:30.266742Z",
          "start_time": "2022-02-19T18:22:30.263052Z"
        },
        "scrolled": true,
        "tags": [
          "hide-input"
        ],
        "id": "pxfhdciif_yG"
      },
      "outputs": [],
      "source": [
        "Ans= df[['RPT','VAL']].rolling(7).mean()\n"
      ]
    },
    {
      "cell_type": "code",
      "execution_count": null,
      "metadata": {
        "ExecuteTime": {
          "end_time": "2022-02-19T18:22:30.274064Z",
          "start_time": "2022-02-19T18:22:30.268110Z"
        },
        "id": "ICqnaFevf_yG",
        "outputId": "d50a9a0b-d768-4827-855c-164e5f804a2f"
      },
      "outputs": [
        {
          "data": {
            "text/html": [
              "<div>\n",
              "<style scoped>\n",
              "    .dataframe tbody tr th:only-of-type {\n",
              "        vertical-align: middle;\n",
              "    }\n",
              "\n",
              "    .dataframe tbody tr th {\n",
              "        vertical-align: top;\n",
              "    }\n",
              "\n",
              "    .dataframe thead th {\n",
              "        text-align: right;\n",
              "    }\n",
              "</style>\n",
              "<table border=\"1\" class=\"dataframe\">\n",
              "  <thead>\n",
              "    <tr style=\"text-align: right;\">\n",
              "      <th></th>\n",
              "      <th>RPT</th>\n",
              "      <th>VAL</th>\n",
              "    </tr>\n",
              "  </thead>\n",
              "  <tbody>\n",
              "    <tr>\n",
              "      <th>0</th>\n",
              "      <td>NaN</td>\n",
              "      <td>NaN</td>\n",
              "    </tr>\n",
              "    <tr>\n",
              "      <th>1</th>\n",
              "      <td>NaN</td>\n",
              "      <td>NaN</td>\n",
              "    </tr>\n",
              "    <tr>\n",
              "      <th>2</th>\n",
              "      <td>NaN</td>\n",
              "      <td>NaN</td>\n",
              "    </tr>\n",
              "    <tr>\n",
              "      <th>3</th>\n",
              "      <td>NaN</td>\n",
              "      <td>NaN</td>\n",
              "    </tr>\n",
              "    <tr>\n",
              "      <th>4</th>\n",
              "      <td>NaN</td>\n",
              "      <td>NaN</td>\n",
              "    </tr>\n",
              "    <tr>\n",
              "      <th>5</th>\n",
              "      <td>NaN</td>\n",
              "      <td>NaN</td>\n",
              "    </tr>\n",
              "    <tr>\n",
              "      <th>6</th>\n",
              "      <td>14.124286</td>\n",
              "      <td>12.727143</td>\n",
              "    </tr>\n",
              "    <tr>\n",
              "      <th>7</th>\n",
              "      <td>13.541429</td>\n",
              "      <td>11.982857</td>\n",
              "    </tr>\n",
              "    <tr>\n",
              "      <th>8</th>\n",
              "      <td>13.237143</td>\n",
              "      <td>11.392857</td>\n",
              "    </tr>\n",
              "  </tbody>\n",
              "</table>\n",
              "</div>"
            ],
            "text/plain": [
              "         RPT        VAL\n",
              "0        NaN        NaN\n",
              "1        NaN        NaN\n",
              "2        NaN        NaN\n",
              "3        NaN        NaN\n",
              "4        NaN        NaN\n",
              "5        NaN        NaN\n",
              "6  14.124286  12.727143\n",
              "7  13.541429  11.982857\n",
              "8  13.237143  11.392857"
            ]
          },
          "execution_count": 148,
          "metadata": {},
          "output_type": "execute_result"
        }
      ],
      "source": [
        "Ans.head(9)"
      ]
    },
    {
      "cell_type": "markdown",
      "metadata": {
        "id": "vkJ8GLCXf_yG"
      },
      "source": [
        "```{attention} \n",
        "서울시 미세먼지 데이터 : https://www.airkorea.or.kr/web/realSearch?pMENU_NO=97\n",
        "**DataUrl = 'https://raw.githubusercontent.com/Datamanim/pandas/main/seoul_pm.csv'**\n",
        "```"
      ]
    },
    {
      "cell_type": "code",
      "execution_count": null,
      "metadata": {
        "ExecuteTime": {
          "end_time": "2022-02-19T18:22:30.307160Z",
          "start_time": "2022-02-19T18:22:30.275470Z"
        },
        "id": "Q3DgD4AKf_yG"
      },
      "outputs": [],
      "source": [
        "df =pd.read_csv('https://raw.githubusercontent.com/Datamanim/pandas/main/seoul_pm.csv')"
      ]
    },
    {
      "cell_type": "markdown",
      "metadata": {
        "id": "G3Ans5eEf_yG"
      },
      "source": [
        "```{admonition} Question 76\n",
        "**년-월-일:시 컬럼을 pandas에서 인식할 수 있는 datetime 형태로 변경하라. 서울시의 제공데이터의 경우 0시가 24시로 표현된다**\n",
        "```"
      ]
    },
    {
      "cell_type": "markdown",
      "metadata": {
        "id": "HtN8kylsf_yH"
      },
      "source": [
        "```{admonition} 76번 유튜브 풀이\n",
        ":class: dropdown\n",
        "<div style=\"text-align: center\"><iframe width=\"700\" height=\"500\" src=https://www.youtube.com/embed/00rctVVSSoA?start=7758&end=8278></iframe></div>\n",
        "```"
      ]
    },
    {
      "cell_type": "code",
      "execution_count": null,
      "metadata": {
        "ExecuteTime": {
          "end_time": "2022-02-19T18:22:30.412827Z",
          "start_time": "2022-02-19T18:22:30.308394Z"
        },
        "tags": [
          "hide-input"
        ],
        "id": "AWu8zGMIf_yH"
      },
      "outputs": [],
      "source": [
        "def change_date(x):\n",
        "    import datetime\n",
        "    hour = x.split(':')[1]\n",
        "    date = x.split(\":\")[0]\n",
        "    \n",
        "    if hour =='24':\n",
        "        hour ='00:00:00'\n",
        "        \n",
        "        FinalDate = pd.to_datetime(date +\" \"+hour) +datetime.timedelta(days=1)\n",
        "        \n",
        "    else:\n",
        "        hour = hour +':00:00'\n",
        "        FinalDate = pd.to_datetime(date +\" \"+hour)\n",
        "    \n",
        "    return FinalDate\n",
        "\n",
        "df['(년-월-일:시)'] = df['(년-월-일:시)'].apply(change_date)\n",
        "\n",
        "Ans = df\n"
      ]
    },
    {
      "cell_type": "code",
      "execution_count": null,
      "metadata": {
        "ExecuteTime": {
          "end_time": "2022-02-19T18:22:30.426124Z",
          "start_time": "2022-02-19T18:22:30.414107Z"
        },
        "id": "pei3Zzw-f_yH",
        "outputId": "d5e5bd4f-e2a5-4b93-fb9f-087a62540847"
      },
      "outputs": [
        {
          "data": {
            "text/html": [
              "<div>\n",
              "<style scoped>\n",
              "    .dataframe tbody tr th:only-of-type {\n",
              "        vertical-align: middle;\n",
              "    }\n",
              "\n",
              "    .dataframe tbody tr th {\n",
              "        vertical-align: top;\n",
              "    }\n",
              "\n",
              "    .dataframe thead th {\n",
              "        text-align: right;\n",
              "    }\n",
              "</style>\n",
              "<table border=\"1\" class=\"dataframe\">\n",
              "  <thead>\n",
              "    <tr style=\"text-align: right;\">\n",
              "      <th></th>\n",
              "      <th>(년-월-일:시)</th>\n",
              "      <th>PM10등급</th>\n",
              "      <th>PM10</th>\n",
              "      <th>PM2.5등급</th>\n",
              "      <th>PM2.5</th>\n",
              "      <th>오존등급</th>\n",
              "      <th>오존</th>\n",
              "      <th>이산화질소등급</th>\n",
              "      <th>이산화질소</th>\n",
              "      <th>일산화탄소등급</th>\n",
              "      <th>일산화탄소</th>\n",
              "      <th>아황산가스등급</th>\n",
              "      <th>아황산가스</th>\n",
              "    </tr>\n",
              "  </thead>\n",
              "  <tbody>\n",
              "    <tr>\n",
              "      <th>0</th>\n",
              "      <td>2021-05-15 15:00:00</td>\n",
              "      <td>보통</td>\n",
              "      <td>47.0</td>\n",
              "      <td>보통</td>\n",
              "      <td>19.0</td>\n",
              "      <td>좋음</td>\n",
              "      <td>0.017</td>\n",
              "      <td>좋음</td>\n",
              "      <td>0.023</td>\n",
              "      <td>좋음</td>\n",
              "      <td>0.4</td>\n",
              "      <td>좋음</td>\n",
              "      <td>0.003</td>\n",
              "    </tr>\n",
              "    <tr>\n",
              "      <th>1</th>\n",
              "      <td>2021-05-15 14:00:00</td>\n",
              "      <td>보통</td>\n",
              "      <td>43.0</td>\n",
              "      <td>보통</td>\n",
              "      <td>20.0</td>\n",
              "      <td>좋음</td>\n",
              "      <td>0.024</td>\n",
              "      <td>좋음</td>\n",
              "      <td>0.019</td>\n",
              "      <td>좋음</td>\n",
              "      <td>0.3</td>\n",
              "      <td>좋음</td>\n",
              "      <td>0.003</td>\n",
              "    </tr>\n",
              "    <tr>\n",
              "      <th>2</th>\n",
              "      <td>2021-05-15 13:00:00</td>\n",
              "      <td>보통</td>\n",
              "      <td>34.0</td>\n",
              "      <td>보통</td>\n",
              "      <td>24.0</td>\n",
              "      <td>보통</td>\n",
              "      <td>0.035</td>\n",
              "      <td>좋음</td>\n",
              "      <td>0.017</td>\n",
              "      <td>좋음</td>\n",
              "      <td>0.4</td>\n",
              "      <td>좋음</td>\n",
              "      <td>0.004</td>\n",
              "    </tr>\n",
              "  </tbody>\n",
              "</table>\n",
              "</div>"
            ],
            "text/plain": [
              "            (년-월-일:시) PM10등급  PM10 PM2.5등급  PM2.5 오존등급     오존 이산화질소등급  이산화질소  \\\n",
              "0 2021-05-15 15:00:00     보통  47.0      보통   19.0   좋음  0.017      좋음  0.023   \n",
              "1 2021-05-15 14:00:00     보통  43.0      보통   20.0   좋음  0.024      좋음  0.019   \n",
              "2 2021-05-15 13:00:00     보통  34.0      보통   24.0   보통  0.035      좋음  0.017   \n",
              "\n",
              "  일산화탄소등급  일산화탄소 아황산가스등급  아황산가스  \n",
              "0      좋음    0.4      좋음  0.003  \n",
              "1      좋음    0.3      좋음  0.003  \n",
              "2      좋음    0.4      좋음  0.004  "
            ]
          },
          "execution_count": 151,
          "metadata": {},
          "output_type": "execute_result"
        }
      ],
      "source": [
        "Ans.head(3)"
      ]
    },
    {
      "cell_type": "markdown",
      "metadata": {
        "id": "q9VVKoCZf_yH"
      },
      "source": [
        "```{admonition} Question 77\n",
        "**일자별 영어요일 이름을 dayName 컬럼에 저장하라**\n",
        "```"
      ]
    },
    {
      "cell_type": "markdown",
      "metadata": {
        "id": "itOv4Hpff_yH"
      },
      "source": [
        "```{admonition} 77번 유튜브 풀이\n",
        ":class: dropdown\n",
        "<div style=\"text-align: center\"><iframe width=\"700\" height=\"500\" src=https://www.youtube.com/embed/00rctVVSSoA?start=8280&end=8376></iframe></div>\n",
        "```"
      ]
    },
    {
      "cell_type": "code",
      "execution_count": null,
      "metadata": {
        "ExecuteTime": {
          "end_time": "2022-02-19T18:22:30.430738Z",
          "start_time": "2022-02-19T18:22:30.427457Z"
        },
        "tags": [
          "hide-input"
        ],
        "id": "WCeVEyUlf_yH"
      },
      "outputs": [],
      "source": [
        "df['dayName']  =df['(년-월-일:시)'].dt.day_name()\n",
        "Ans =df['dayName'] "
      ]
    },
    {
      "cell_type": "code",
      "execution_count": null,
      "metadata": {
        "ExecuteTime": {
          "end_time": "2022-02-19T18:22:30.436039Z",
          "start_time": "2022-02-19T18:22:30.431980Z"
        },
        "id": "f4o2JCQ9f_yH",
        "outputId": "d9ded059-a41e-422c-bd7c-db87686c052a"
      },
      "outputs": [
        {
          "data": {
            "text/plain": [
              "0    Saturday\n",
              "1    Saturday\n",
              "2    Saturday\n",
              "3    Saturday\n",
              "4    Saturday\n",
              "Name: dayName, dtype: object"
            ]
          },
          "execution_count": 153,
          "metadata": {},
          "output_type": "execute_result"
        }
      ],
      "source": [
        "Ans.head(5)"
      ]
    },
    {
      "cell_type": "markdown",
      "metadata": {
        "id": "g655cedFf_yH"
      },
      "source": [
        "```{admonition} Question 78\n",
        "**일자별 각 PM10등급의 빈도수를 파악하라**\n",
        "```"
      ]
    },
    {
      "cell_type": "markdown",
      "metadata": {
        "id": "h71FH_EOf_yH"
      },
      "source": [
        "```{admonition} 78번 유튜브 풀이\n",
        ":class: dropdown\n",
        "<div style=\"text-align: center\"><iframe width=\"700\" height=\"500\" src=https://www.youtube.com/embed/00rctVVSSoA?start=8378&end=8518></iframe></div>\n",
        "```"
      ]
    },
    {
      "cell_type": "code",
      "execution_count": null,
      "metadata": {
        "ExecuteTime": {
          "end_time": "2022-02-19T18:22:30.444593Z",
          "start_time": "2022-02-19T18:22:30.437630Z"
        },
        "tags": [
          "hide-input"
        ],
        "id": "g2u2_UkOf_yH"
      },
      "outputs": [],
      "source": [
        "Ans1 = df.groupby(['dayName','PM10등급'],as_index=False).size()\n",
        "Ans2 = Ans1.pivot(index='dayName',columns='PM10등급',values='size').fillna(0)"
      ]
    },
    {
      "cell_type": "code",
      "execution_count": null,
      "metadata": {
        "ExecuteTime": {
          "end_time": "2022-02-19T18:22:30.451291Z",
          "start_time": "2022-02-19T18:22:30.445849Z"
        },
        "id": "ouaFtaxvf_yI",
        "outputId": "378c71e0-413e-4fd7-f74a-3344dcb4f5d8"
      },
      "outputs": [
        {
          "data": {
            "text/html": [
              "<div>\n",
              "<style scoped>\n",
              "    .dataframe tbody tr th:only-of-type {\n",
              "        vertical-align: middle;\n",
              "    }\n",
              "\n",
              "    .dataframe tbody tr th {\n",
              "        vertical-align: top;\n",
              "    }\n",
              "\n",
              "    .dataframe thead th {\n",
              "        text-align: right;\n",
              "    }\n",
              "</style>\n",
              "<table border=\"1\" class=\"dataframe\">\n",
              "  <thead>\n",
              "    <tr style=\"text-align: right;\">\n",
              "      <th></th>\n",
              "      <th>dayName</th>\n",
              "      <th>PM10등급</th>\n",
              "      <th>size</th>\n",
              "    </tr>\n",
              "  </thead>\n",
              "  <tbody>\n",
              "    <tr>\n",
              "      <th>0</th>\n",
              "      <td>Friday</td>\n",
              "      <td>나쁨</td>\n",
              "      <td>31</td>\n",
              "    </tr>\n",
              "    <tr>\n",
              "      <th>1</th>\n",
              "      <td>Friday</td>\n",
              "      <td>매우나쁨</td>\n",
              "      <td>17</td>\n",
              "    </tr>\n",
              "    <tr>\n",
              "      <th>2</th>\n",
              "      <td>Friday</td>\n",
              "      <td>보통</td>\n",
              "      <td>120</td>\n",
              "    </tr>\n",
              "    <tr>\n",
              "      <th>3</th>\n",
              "      <td>Friday</td>\n",
              "      <td>좋음</td>\n",
              "      <td>21</td>\n",
              "    </tr>\n",
              "    <tr>\n",
              "      <th>4</th>\n",
              "      <td>Monday</td>\n",
              "      <td>나쁨</td>\n",
              "      <td>1</td>\n",
              "    </tr>\n",
              "  </tbody>\n",
              "</table>\n",
              "</div>"
            ],
            "text/plain": [
              "  dayName PM10등급  size\n",
              "0  Friday     나쁨    31\n",
              "1  Friday   매우나쁨    17\n",
              "2  Friday     보통   120\n",
              "3  Friday     좋음    21\n",
              "4  Monday     나쁨     1"
            ]
          },
          "execution_count": 155,
          "metadata": {},
          "output_type": "execute_result"
        }
      ],
      "source": [
        "Ans1.head()"
      ]
    },
    {
      "cell_type": "code",
      "execution_count": null,
      "metadata": {
        "ExecuteTime": {
          "end_time": "2022-02-19T18:22:30.460717Z",
          "start_time": "2022-02-19T18:22:30.452518Z"
        },
        "id": "A2S1T5q1f_yI",
        "outputId": "aba7f0bb-2bbb-4650-9ce5-65e51d37a7a7"
      },
      "outputs": [
        {
          "data": {
            "text/html": [
              "<div>\n",
              "<style scoped>\n",
              "    .dataframe tbody tr th:only-of-type {\n",
              "        vertical-align: middle;\n",
              "    }\n",
              "\n",
              "    .dataframe tbody tr th {\n",
              "        vertical-align: top;\n",
              "    }\n",
              "\n",
              "    .dataframe thead th {\n",
              "        text-align: right;\n",
              "    }\n",
              "</style>\n",
              "<table border=\"1\" class=\"dataframe\">\n",
              "  <thead>\n",
              "    <tr style=\"text-align: right;\">\n",
              "      <th>PM10등급</th>\n",
              "      <th>나쁨</th>\n",
              "      <th>매우나쁨</th>\n",
              "      <th>보통</th>\n",
              "      <th>좋음</th>\n",
              "    </tr>\n",
              "    <tr>\n",
              "      <th>dayName</th>\n",
              "      <th></th>\n",
              "      <th></th>\n",
              "      <th></th>\n",
              "      <th></th>\n",
              "    </tr>\n",
              "  </thead>\n",
              "  <tbody>\n",
              "    <tr>\n",
              "      <th>Friday</th>\n",
              "      <td>31.0</td>\n",
              "      <td>17.0</td>\n",
              "      <td>120.0</td>\n",
              "      <td>21.0</td>\n",
              "    </tr>\n",
              "    <tr>\n",
              "      <th>Monday</th>\n",
              "      <td>1.0</td>\n",
              "      <td>21.0</td>\n",
              "      <td>83.0</td>\n",
              "      <td>63.0</td>\n",
              "    </tr>\n",
              "    <tr>\n",
              "      <th>Saturday</th>\n",
              "      <td>31.0</td>\n",
              "      <td>27.0</td>\n",
              "      <td>71.0</td>\n",
              "      <td>54.0</td>\n",
              "    </tr>\n",
              "    <tr>\n",
              "      <th>Sunday</th>\n",
              "      <td>2.0</td>\n",
              "      <td>1.0</td>\n",
              "      <td>67.0</td>\n",
              "      <td>98.0</td>\n",
              "    </tr>\n",
              "    <tr>\n",
              "      <th>Thursday</th>\n",
              "      <td>41.0</td>\n",
              "      <td>0.0</td>\n",
              "      <td>144.0</td>\n",
              "      <td>5.0</td>\n",
              "    </tr>\n",
              "    <tr>\n",
              "      <th>Tuesday</th>\n",
              "      <td>13.0</td>\n",
              "      <td>10.0</td>\n",
              "      <td>71.0</td>\n",
              "      <td>74.0</td>\n",
              "    </tr>\n",
              "    <tr>\n",
              "      <th>Wednesday</th>\n",
              "      <td>26.0</td>\n",
              "      <td>0.0</td>\n",
              "      <td>95.0</td>\n",
              "      <td>46.0</td>\n",
              "    </tr>\n",
              "  </tbody>\n",
              "</table>\n",
              "</div>"
            ],
            "text/plain": [
              "PM10등급       나쁨  매우나쁨     보통    좋음\n",
              "dayName                           \n",
              "Friday     31.0  17.0  120.0  21.0\n",
              "Monday      1.0  21.0   83.0  63.0\n",
              "Saturday   31.0  27.0   71.0  54.0\n",
              "Sunday      2.0   1.0   67.0  98.0\n",
              "Thursday   41.0   0.0  144.0   5.0\n",
              "Tuesday    13.0  10.0   71.0  74.0\n",
              "Wednesday  26.0   0.0   95.0  46.0"
            ]
          },
          "execution_count": 156,
          "metadata": {},
          "output_type": "execute_result"
        }
      ],
      "source": [
        "Ans2"
      ]
    },
    {
      "cell_type": "markdown",
      "metadata": {
        "id": "ULmcvkDof_yI"
      },
      "source": [
        "```{admonition} Question 79\n",
        "**시간이 연속적으로 존재하며 결측치가 없는지 확인하라**\n",
        "```"
      ]
    },
    {
      "cell_type": "markdown",
      "metadata": {
        "id": "PCXTrZ6yf_yI"
      },
      "source": [
        "```{admonition} 79번 유튜브 풀이\n",
        ":class: dropdown\n",
        "<div style=\"text-align: center\"><iframe width=\"700\" height=\"500\" src=https://www.youtube.com/embed/00rctVVSSoA?start=8520&end=8630></iframe></div>\n",
        "```"
      ]
    },
    {
      "cell_type": "code",
      "execution_count": null,
      "metadata": {
        "ExecuteTime": {
          "end_time": "2022-02-19T18:22:30.464868Z",
          "start_time": "2022-02-19T18:22:30.461977Z"
        },
        "tags": [
          "hide-input"
        ],
        "id": "T32ELd0Ef_yI"
      },
      "outputs": [],
      "source": [
        "# 시간을 차분했을 경우 첫 값은 nan, 이후 모든 차분값이 동일하면 연속이라 판단한다.\n",
        "check = len(df['(년-월-일:시)'].diff().unique())\n",
        "if check ==2:\n",
        "    Ans =True\n",
        "else:\n",
        "    Ans = False"
      ]
    },
    {
      "cell_type": "code",
      "execution_count": null,
      "metadata": {
        "ExecuteTime": {
          "end_time": "2022-02-19T18:22:30.469111Z",
          "start_time": "2022-02-19T18:22:30.466230Z"
        },
        "id": "deMyVGyMf_yI",
        "outputId": "c1e1f3f6-509d-457f-f251-67ff2e507ca9"
      },
      "outputs": [
        {
          "data": {
            "text/plain": [
              "True"
            ]
          },
          "execution_count": 158,
          "metadata": {},
          "output_type": "execute_result"
        }
      ],
      "source": [
        "Ans"
      ]
    },
    {
      "cell_type": "markdown",
      "metadata": {
        "id": "JzXotR2Lf_yI"
      },
      "source": [
        "```{admonition} Question 80\n",
        "**오전 10시와 오후 10시(22시)의 PM10의 평균값을 각각 구하여라**\n",
        "```"
      ]
    },
    {
      "cell_type": "markdown",
      "metadata": {
        "id": "Zy3-caUDf_yI"
      },
      "source": [
        "```{admonition} 80번 유튜브 풀이\n",
        ":class: dropdown\n",
        "<div style=\"text-align: center\"><iframe width=\"700\" height=\"500\" src=https://www.youtube.com/embed/00rctVVSSoA?start=8632&end=8719></iframe></div>\n",
        "```\n",
        "    "
      ]
    },
    {
      "cell_type": "code",
      "execution_count": null,
      "metadata": {
        "ExecuteTime": {
          "end_time": "2022-02-19T18:22:30.475169Z",
          "start_time": "2022-02-19T18:22:30.470409Z"
        },
        "scrolled": false,
        "tags": [
          "hide-input"
        ],
        "id": "04tVxs0Mf_yI"
      },
      "outputs": [],
      "source": [
        "Ans = df.groupby(df['(년-월-일:시)'].dt.hour).mean().iloc[[10,22],[0]]"
      ]
    },
    {
      "cell_type": "code",
      "execution_count": null,
      "metadata": {
        "ExecuteTime": {
          "end_time": "2022-02-19T18:22:30.481233Z",
          "start_time": "2022-02-19T18:22:30.476358Z"
        },
        "id": "aWtqapHrf_yJ",
        "outputId": "210dc0cf-a0e2-49b8-f683-26c3067ecc27"
      },
      "outputs": [
        {
          "data": {
            "text/html": [
              "<div>\n",
              "<style scoped>\n",
              "    .dataframe tbody tr th:only-of-type {\n",
              "        vertical-align: middle;\n",
              "    }\n",
              "\n",
              "    .dataframe tbody tr th {\n",
              "        vertical-align: top;\n",
              "    }\n",
              "\n",
              "    .dataframe thead th {\n",
              "        text-align: right;\n",
              "    }\n",
              "</style>\n",
              "<table border=\"1\" class=\"dataframe\">\n",
              "  <thead>\n",
              "    <tr style=\"text-align: right;\">\n",
              "      <th></th>\n",
              "      <th>PM10</th>\n",
              "    </tr>\n",
              "    <tr>\n",
              "      <th>(년-월-일:시)</th>\n",
              "      <th></th>\n",
              "    </tr>\n",
              "  </thead>\n",
              "  <tbody>\n",
              "    <tr>\n",
              "      <th>10</th>\n",
              "      <td>70.384615</td>\n",
              "    </tr>\n",
              "    <tr>\n",
              "      <th>22</th>\n",
              "      <td>69.941176</td>\n",
              "    </tr>\n",
              "  </tbody>\n",
              "</table>\n",
              "</div>"
            ],
            "text/plain": [
              "                PM10\n",
              "(년-월-일:시)           \n",
              "10         70.384615\n",
              "22         69.941176"
            ]
          },
          "execution_count": 160,
          "metadata": {},
          "output_type": "execute_result"
        }
      ],
      "source": [
        "Ans"
      ]
    },
    {
      "cell_type": "markdown",
      "metadata": {
        "id": "uwQjEW86f_yJ"
      },
      "source": [
        "```{admonition} Question 81\n",
        "**날짜 컬럼을 index로 만들어라**\n",
        "```"
      ]
    },
    {
      "cell_type": "markdown",
      "metadata": {
        "id": "NmPuboWOf_yM"
      },
      "source": [
        "```{admonition} 81번 유튜브 풀이\n",
        ":class: dropdown\n",
        "<div style=\"text-align: center\"><iframe width=\"700\" height=\"500\" src=https://www.youtube.com/embed/00rctVVSSoA?start=8721&end=8756></iframe></div>\n",
        "```"
      ]
    },
    {
      "cell_type": "code",
      "execution_count": null,
      "metadata": {
        "ExecuteTime": {
          "end_time": "2022-02-19T18:22:30.485396Z",
          "start_time": "2022-02-19T18:22:30.482538Z"
        },
        "tags": [
          "hide-input"
        ],
        "id": "kuzvEhpVf_yM"
      },
      "outputs": [],
      "source": [
        "df.set_index('(년-월-일:시)',inplace=True,drop=True)\n",
        "\n",
        "Ans =df"
      ]
    },
    {
      "cell_type": "code",
      "execution_count": null,
      "metadata": {
        "ExecuteTime": {
          "end_time": "2022-02-19T18:22:30.498547Z",
          "start_time": "2022-02-19T18:22:30.486660Z"
        },
        "id": "-s70u6xbf_yM",
        "outputId": "77a52f81-99bb-4a2f-a3ae-797ccf00f13f"
      },
      "outputs": [
        {
          "data": {
            "text/html": [
              "<div>\n",
              "<style scoped>\n",
              "    .dataframe tbody tr th:only-of-type {\n",
              "        vertical-align: middle;\n",
              "    }\n",
              "\n",
              "    .dataframe tbody tr th {\n",
              "        vertical-align: top;\n",
              "    }\n",
              "\n",
              "    .dataframe thead th {\n",
              "        text-align: right;\n",
              "    }\n",
              "</style>\n",
              "<table border=\"1\" class=\"dataframe\">\n",
              "  <thead>\n",
              "    <tr style=\"text-align: right;\">\n",
              "      <th></th>\n",
              "      <th>PM10등급</th>\n",
              "      <th>PM10</th>\n",
              "      <th>PM2.5등급</th>\n",
              "      <th>PM2.5</th>\n",
              "      <th>오존등급</th>\n",
              "      <th>오존</th>\n",
              "      <th>이산화질소등급</th>\n",
              "      <th>이산화질소</th>\n",
              "      <th>일산화탄소등급</th>\n",
              "      <th>일산화탄소</th>\n",
              "      <th>아황산가스등급</th>\n",
              "      <th>아황산가스</th>\n",
              "      <th>dayName</th>\n",
              "    </tr>\n",
              "    <tr>\n",
              "      <th>(년-월-일:시)</th>\n",
              "      <th></th>\n",
              "      <th></th>\n",
              "      <th></th>\n",
              "      <th></th>\n",
              "      <th></th>\n",
              "      <th></th>\n",
              "      <th></th>\n",
              "      <th></th>\n",
              "      <th></th>\n",
              "      <th></th>\n",
              "      <th></th>\n",
              "      <th></th>\n",
              "      <th></th>\n",
              "    </tr>\n",
              "  </thead>\n",
              "  <tbody>\n",
              "    <tr>\n",
              "      <th>2021-05-15 15:00:00</th>\n",
              "      <td>보통</td>\n",
              "      <td>47.0</td>\n",
              "      <td>보통</td>\n",
              "      <td>19.0</td>\n",
              "      <td>좋음</td>\n",
              "      <td>0.017</td>\n",
              "      <td>좋음</td>\n",
              "      <td>0.023</td>\n",
              "      <td>좋음</td>\n",
              "      <td>0.4</td>\n",
              "      <td>좋음</td>\n",
              "      <td>0.003</td>\n",
              "      <td>Saturday</td>\n",
              "    </tr>\n",
              "    <tr>\n",
              "      <th>2021-05-15 14:00:00</th>\n",
              "      <td>보통</td>\n",
              "      <td>43.0</td>\n",
              "      <td>보통</td>\n",
              "      <td>20.0</td>\n",
              "      <td>좋음</td>\n",
              "      <td>0.024</td>\n",
              "      <td>좋음</td>\n",
              "      <td>0.019</td>\n",
              "      <td>좋음</td>\n",
              "      <td>0.3</td>\n",
              "      <td>좋음</td>\n",
              "      <td>0.003</td>\n",
              "      <td>Saturday</td>\n",
              "    </tr>\n",
              "    <tr>\n",
              "      <th>2021-05-15 13:00:00</th>\n",
              "      <td>보통</td>\n",
              "      <td>34.0</td>\n",
              "      <td>보통</td>\n",
              "      <td>24.0</td>\n",
              "      <td>보통</td>\n",
              "      <td>0.035</td>\n",
              "      <td>좋음</td>\n",
              "      <td>0.017</td>\n",
              "      <td>좋음</td>\n",
              "      <td>0.4</td>\n",
              "      <td>좋음</td>\n",
              "      <td>0.004</td>\n",
              "      <td>Saturday</td>\n",
              "    </tr>\n",
              "  </tbody>\n",
              "</table>\n",
              "</div>"
            ],
            "text/plain": [
              "                    PM10등급  PM10 PM2.5등급  PM2.5 오존등급     오존 이산화질소등급  이산화질소  \\\n",
              "(년-월-일:시)                                                                    \n",
              "2021-05-15 15:00:00     보통  47.0      보통   19.0   좋음  0.017      좋음  0.023   \n",
              "2021-05-15 14:00:00     보통  43.0      보통   20.0   좋음  0.024      좋음  0.019   \n",
              "2021-05-15 13:00:00     보통  34.0      보통   24.0   보통  0.035      좋음  0.017   \n",
              "\n",
              "                    일산화탄소등급  일산화탄소 아황산가스등급  아황산가스   dayName  \n",
              "(년-월-일:시)                                                    \n",
              "2021-05-15 15:00:00      좋음    0.4      좋음  0.003  Saturday  \n",
              "2021-05-15 14:00:00      좋음    0.3      좋음  0.003  Saturday  \n",
              "2021-05-15 13:00:00      좋음    0.4      좋음  0.004  Saturday  "
            ]
          },
          "execution_count": 162,
          "metadata": {},
          "output_type": "execute_result"
        }
      ],
      "source": [
        "Ans.head(3)"
      ]
    },
    {
      "cell_type": "markdown",
      "metadata": {
        "id": "6ri0fx3hf_yM"
      },
      "source": [
        "```{admonition} Question 82\n",
        "**데이터를 주단위로 뽑아서 최소,최대 평균, 표준표차를 구하여라**\n",
        "```"
      ]
    },
    {
      "cell_type": "markdown",
      "metadata": {
        "id": "aCqp5ESzf_yM"
      },
      "source": [
        "```{admonition} 82번 유튜브 풀이\n",
        ":class: dropdown\n",
        "<div style=\"text-align: center\"><iframe width=\"700\" height=\"500\" src=https://www.youtube.com/embed/00rctVVSSoA?start=8758&end=9102></iframe></div>\n",
        "```\n",
        "    "
      ]
    },
    {
      "cell_type": "code",
      "execution_count": null,
      "metadata": {
        "ExecuteTime": {
          "end_time": "2022-02-19T18:22:30.527081Z",
          "start_time": "2022-02-19T18:22:30.500121Z"
        },
        "tags": [
          "hide-input"
        ],
        "id": "PfAY-_kwf_yM"
      },
      "outputs": [],
      "source": [
        "Ans = df.resample('W').agg(['min','max','mean','std'])"
      ]
    },
    {
      "cell_type": "code",
      "execution_count": null,
      "metadata": {
        "ExecuteTime": {
          "end_time": "2022-02-19T18:22:30.552070Z",
          "start_time": "2022-02-19T18:22:30.528372Z"
        },
        "id": "Hfilmatef_yN",
        "outputId": "23a1353f-294e-4195-9a8d-81cd5bc726ae"
      },
      "outputs": [
        {
          "data": {
            "text/html": [
              "<div>\n",
              "<style scoped>\n",
              "    .dataframe tbody tr th:only-of-type {\n",
              "        vertical-align: middle;\n",
              "    }\n",
              "\n",
              "    .dataframe tbody tr th {\n",
              "        vertical-align: top;\n",
              "    }\n",
              "\n",
              "    .dataframe thead tr th {\n",
              "        text-align: left;\n",
              "    }\n",
              "\n",
              "    .dataframe thead tr:last-of-type th {\n",
              "        text-align: right;\n",
              "    }\n",
              "</style>\n",
              "<table border=\"1\" class=\"dataframe\">\n",
              "  <thead>\n",
              "    <tr>\n",
              "      <th></th>\n",
              "      <th colspan=\"4\" halign=\"left\">PM10</th>\n",
              "      <th colspan=\"4\" halign=\"left\">PM2.5</th>\n",
              "      <th colspan=\"2\" halign=\"left\">오존</th>\n",
              "      <th>...</th>\n",
              "      <th colspan=\"2\" halign=\"left\">이산화질소</th>\n",
              "      <th colspan=\"4\" halign=\"left\">일산화탄소</th>\n",
              "      <th colspan=\"4\" halign=\"left\">아황산가스</th>\n",
              "    </tr>\n",
              "    <tr>\n",
              "      <th></th>\n",
              "      <th>min</th>\n",
              "      <th>max</th>\n",
              "      <th>mean</th>\n",
              "      <th>std</th>\n",
              "      <th>min</th>\n",
              "      <th>max</th>\n",
              "      <th>mean</th>\n",
              "      <th>std</th>\n",
              "      <th>min</th>\n",
              "      <th>max</th>\n",
              "      <th>...</th>\n",
              "      <th>mean</th>\n",
              "      <th>std</th>\n",
              "      <th>min</th>\n",
              "      <th>max</th>\n",
              "      <th>mean</th>\n",
              "      <th>std</th>\n",
              "      <th>min</th>\n",
              "      <th>max</th>\n",
              "      <th>mean</th>\n",
              "      <th>std</th>\n",
              "    </tr>\n",
              "    <tr>\n",
              "      <th>(년-월-일:시)</th>\n",
              "      <th></th>\n",
              "      <th></th>\n",
              "      <th></th>\n",
              "      <th></th>\n",
              "      <th></th>\n",
              "      <th></th>\n",
              "      <th></th>\n",
              "      <th></th>\n",
              "      <th></th>\n",
              "      <th></th>\n",
              "      <th></th>\n",
              "      <th></th>\n",
              "      <th></th>\n",
              "      <th></th>\n",
              "      <th></th>\n",
              "      <th></th>\n",
              "      <th></th>\n",
              "      <th></th>\n",
              "      <th></th>\n",
              "      <th></th>\n",
              "      <th></th>\n",
              "    </tr>\n",
              "  </thead>\n",
              "  <tbody>\n",
              "    <tr>\n",
              "      <th>2021-03-28</th>\n",
              "      <td>6.0</td>\n",
              "      <td>160.0</td>\n",
              "      <td>72.747368</td>\n",
              "      <td>43.345462</td>\n",
              "      <td>4.0</td>\n",
              "      <td>113.0</td>\n",
              "      <td>44.705263</td>\n",
              "      <td>29.551928</td>\n",
              "      <td>0.002</td>\n",
              "      <td>0.085</td>\n",
              "      <td>...</td>\n",
              "      <td>0.044579</td>\n",
              "      <td>0.023722</td>\n",
              "      <td>0.3</td>\n",
              "      <td>1.4</td>\n",
              "      <td>0.611579</td>\n",
              "      <td>0.232408</td>\n",
              "      <td>0.002</td>\n",
              "      <td>0.006</td>\n",
              "      <td>0.003274</td>\n",
              "      <td>0.000961</td>\n",
              "    </tr>\n",
              "    <tr>\n",
              "      <th>2021-04-04</th>\n",
              "      <td>3.0</td>\n",
              "      <td>598.0</td>\n",
              "      <td>97.148810</td>\n",
              "      <td>129.911976</td>\n",
              "      <td>1.0</td>\n",
              "      <td>120.0</td>\n",
              "      <td>23.168675</td>\n",
              "      <td>22.399578</td>\n",
              "      <td>0.003</td>\n",
              "      <td>0.055</td>\n",
              "      <td>...</td>\n",
              "      <td>0.027929</td>\n",
              "      <td>0.014978</td>\n",
              "      <td>0.3</td>\n",
              "      <td>0.9</td>\n",
              "      <td>0.445833</td>\n",
              "      <td>0.135741</td>\n",
              "      <td>0.002</td>\n",
              "      <td>0.004</td>\n",
              "      <td>0.002732</td>\n",
              "      <td>0.000541</td>\n",
              "    </tr>\n",
              "    <tr>\n",
              "      <th>2021-04-11</th>\n",
              "      <td>17.0</td>\n",
              "      <td>102.0</td>\n",
              "      <td>41.059524</td>\n",
              "      <td>16.325911</td>\n",
              "      <td>7.0</td>\n",
              "      <td>70.0</td>\n",
              "      <td>21.761905</td>\n",
              "      <td>11.479343</td>\n",
              "      <td>0.009</td>\n",
              "      <td>0.070</td>\n",
              "      <td>...</td>\n",
              "      <td>0.022583</td>\n",
              "      <td>0.009562</td>\n",
              "      <td>0.3</td>\n",
              "      <td>0.7</td>\n",
              "      <td>0.389286</td>\n",
              "      <td>0.087573</td>\n",
              "      <td>0.002</td>\n",
              "      <td>0.004</td>\n",
              "      <td>0.002744</td>\n",
              "      <td>0.000569</td>\n",
              "    </tr>\n",
              "    <tr>\n",
              "      <th>2021-04-18</th>\n",
              "      <td>3.0</td>\n",
              "      <td>367.0</td>\n",
              "      <td>48.180723</td>\n",
              "      <td>43.254468</td>\n",
              "      <td>2.0</td>\n",
              "      <td>38.0</td>\n",
              "      <td>17.066265</td>\n",
              "      <td>7.867952</td>\n",
              "      <td>0.002</td>\n",
              "      <td>0.070</td>\n",
              "      <td>...</td>\n",
              "      <td>0.023753</td>\n",
              "      <td>0.013553</td>\n",
              "      <td>0.3</td>\n",
              "      <td>0.6</td>\n",
              "      <td>0.386747</td>\n",
              "      <td>0.084954</td>\n",
              "      <td>0.002</td>\n",
              "      <td>0.004</td>\n",
              "      <td>0.002464</td>\n",
              "      <td>0.000579</td>\n",
              "    </tr>\n",
              "    <tr>\n",
              "      <th>2021-04-25</th>\n",
              "      <td>17.0</td>\n",
              "      <td>126.0</td>\n",
              "      <td>55.119048</td>\n",
              "      <td>26.659936</td>\n",
              "      <td>7.0</td>\n",
              "      <td>61.0</td>\n",
              "      <td>26.392857</td>\n",
              "      <td>13.094788</td>\n",
              "      <td>0.006</td>\n",
              "      <td>0.090</td>\n",
              "      <td>...</td>\n",
              "      <td>0.028571</td>\n",
              "      <td>0.014640</td>\n",
              "      <td>0.3</td>\n",
              "      <td>0.8</td>\n",
              "      <td>0.457143</td>\n",
              "      <td>0.122142</td>\n",
              "      <td>0.001</td>\n",
              "      <td>0.011</td>\n",
              "      <td>0.003631</td>\n",
              "      <td>0.001763</td>\n",
              "    </tr>\n",
              "  </tbody>\n",
              "</table>\n",
              "<p>5 rows × 24 columns</p>\n",
              "</div>"
            ],
            "text/plain": [
              "            PM10                               PM2.5                    \\\n",
              "             min    max       mean         std   min    max       mean   \n",
              "(년-월-일:시)                                                                \n",
              "2021-03-28   6.0  160.0  72.747368   43.345462   4.0  113.0  44.705263   \n",
              "2021-04-04   3.0  598.0  97.148810  129.911976   1.0  120.0  23.168675   \n",
              "2021-04-11  17.0  102.0  41.059524   16.325911   7.0   70.0  21.761905   \n",
              "2021-04-18   3.0  367.0  48.180723   43.254468   2.0   38.0  17.066265   \n",
              "2021-04-25  17.0  126.0  55.119048   26.659936   7.0   61.0  26.392857   \n",
              "\n",
              "                          오존         ...     이산화질소           일산화탄소       \\\n",
              "                  std    min    max  ...      mean       std   min  max   \n",
              "(년-월-일:시)                            ...                                  \n",
              "2021-03-28  29.551928  0.002  0.085  ...  0.044579  0.023722   0.3  1.4   \n",
              "2021-04-04  22.399578  0.003  0.055  ...  0.027929  0.014978   0.3  0.9   \n",
              "2021-04-11  11.479343  0.009  0.070  ...  0.022583  0.009562   0.3  0.7   \n",
              "2021-04-18   7.867952  0.002  0.070  ...  0.023753  0.013553   0.3  0.6   \n",
              "2021-04-25  13.094788  0.006  0.090  ...  0.028571  0.014640   0.3  0.8   \n",
              "\n",
              "                                아황산가스                             \n",
              "                mean       std    min    max      mean       std  \n",
              "(년-월-일:시)                                                         \n",
              "2021-03-28  0.611579  0.232408  0.002  0.006  0.003274  0.000961  \n",
              "2021-04-04  0.445833  0.135741  0.002  0.004  0.002732  0.000541  \n",
              "2021-04-11  0.389286  0.087573  0.002  0.004  0.002744  0.000569  \n",
              "2021-04-18  0.386747  0.084954  0.002  0.004  0.002464  0.000579  \n",
              "2021-04-25  0.457143  0.122142  0.001  0.011  0.003631  0.001763  \n",
              "\n",
              "[5 rows x 24 columns]"
            ]
          },
          "execution_count": 164,
          "metadata": {},
          "output_type": "execute_result"
        }
      ],
      "source": [
        "Ans.head(5)"
      ]
    },
    {
      "cell_type": "markdown",
      "metadata": {
        "id": "cqtN-5TSf_yN"
      },
      "source": [
        "## 06_Pivot"
      ]
    },
    {
      "cell_type": "markdown",
      "metadata": {
        "id": "fVJ8p0rtf_yN"
      },
      "source": [
        "```{attention} \n",
        "국가별 5세이하 사망비율 통계 : https://www.kaggle.com/utkarshxy/who-worldhealth-statistics-2020-complete\n",
        "Dataurl = 'https://raw.githubusercontent.com/Datamanim/pandas/main/under5MortalityRate.csv'\n",
        "```"
      ]
    },
    {
      "cell_type": "code",
      "execution_count": null,
      "metadata": {
        "ExecuteTime": {
          "end_time": "2022-02-19T18:22:30.839770Z",
          "start_time": "2022-02-19T18:22:30.553440Z"
        },
        "id": "7so-dCkjf_yN"
      },
      "outputs": [],
      "source": [
        "df = pd.read_csv('https://raw.githubusercontent.com/Datamanim/pandas/main/under5MortalityRate.csv')"
      ]
    },
    {
      "cell_type": "markdown",
      "metadata": {
        "id": "CXiyTSS8f_yN"
      },
      "source": [
        "```{admonition} Question 83\n",
        "**Indicator을 삭제하고 First Tooltip 컬럼에서 신뢰구간에 해당하는 표현을 지워라**\n",
        "```"
      ]
    },
    {
      "cell_type": "markdown",
      "metadata": {
        "id": "kKvpBdq7f_yN"
      },
      "source": [
        "```{admonition} 83번 유튜브 풀이\n",
        ":class: dropdown\n",
        "<div style=\"text-align: center\"><iframe width=\"700\" height=\"500\" src=https://www.youtube.com/embed/00rctVVSSoA?start=9104&end=9322></iframe></div>\n",
        "```\n"
      ]
    },
    {
      "cell_type": "code",
      "execution_count": null,
      "metadata": {
        "ExecuteTime": {
          "end_time": "2022-02-19T18:22:30.859929Z",
          "start_time": "2022-02-19T18:22:30.840978Z"
        },
        "tags": [
          "hide-input"
        ],
        "id": "q_2lr5m2f_yN"
      },
      "outputs": [],
      "source": [
        "df.drop('Indicator',axis=1,inplace=True)\n",
        "\n",
        "df['First Tooltip'] = df['First Tooltip'].map(lambda x: float(x.split(\"[\")[0]))\n",
        "\n",
        "Ans = df"
      ]
    },
    {
      "cell_type": "code",
      "execution_count": null,
      "metadata": {
        "ExecuteTime": {
          "end_time": "2022-02-19T18:22:30.867866Z",
          "start_time": "2022-02-19T18:22:30.861169Z"
        },
        "id": "-S8z-9Z-f_yN",
        "outputId": "edb484c3-1d03-4ac5-f80e-157e57cea367"
      },
      "outputs": [
        {
          "data": {
            "text/html": [
              "<div>\n",
              "<style scoped>\n",
              "    .dataframe tbody tr th:only-of-type {\n",
              "        vertical-align: middle;\n",
              "    }\n",
              "\n",
              "    .dataframe tbody tr th {\n",
              "        vertical-align: top;\n",
              "    }\n",
              "\n",
              "    .dataframe thead th {\n",
              "        text-align: right;\n",
              "    }\n",
              "</style>\n",
              "<table border=\"1\" class=\"dataframe\">\n",
              "  <thead>\n",
              "    <tr style=\"text-align: right;\">\n",
              "      <th></th>\n",
              "      <th>Location</th>\n",
              "      <th>Period</th>\n",
              "      <th>Dim1</th>\n",
              "      <th>First Tooltip</th>\n",
              "    </tr>\n",
              "  </thead>\n",
              "  <tbody>\n",
              "    <tr>\n",
              "      <th>0</th>\n",
              "      <td>Afghanistan</td>\n",
              "      <td>2019</td>\n",
              "      <td>Both sexes</td>\n",
              "      <td>60.27</td>\n",
              "    </tr>\n",
              "    <tr>\n",
              "      <th>1</th>\n",
              "      <td>Afghanistan</td>\n",
              "      <td>2019</td>\n",
              "      <td>Male</td>\n",
              "      <td>63.83</td>\n",
              "    </tr>\n",
              "    <tr>\n",
              "      <th>2</th>\n",
              "      <td>Afghanistan</td>\n",
              "      <td>2019</td>\n",
              "      <td>Female</td>\n",
              "      <td>56.57</td>\n",
              "    </tr>\n",
              "    <tr>\n",
              "      <th>3</th>\n",
              "      <td>Afghanistan</td>\n",
              "      <td>2018</td>\n",
              "      <td>Both sexes</td>\n",
              "      <td>62.54</td>\n",
              "    </tr>\n",
              "  </tbody>\n",
              "</table>\n",
              "</div>"
            ],
            "text/plain": [
              "      Location  Period        Dim1  First Tooltip\n",
              "0  Afghanistan    2019  Both sexes          60.27\n",
              "1  Afghanistan    2019        Male          63.83\n",
              "2  Afghanistan    2019      Female          56.57\n",
              "3  Afghanistan    2018  Both sexes          62.54"
            ]
          },
          "execution_count": 167,
          "metadata": {},
          "output_type": "execute_result"
        }
      ],
      "source": [
        "Ans.head(4)"
      ]
    },
    {
      "cell_type": "markdown",
      "metadata": {
        "id": "HtJAskgMf_yN"
      },
      "source": [
        "```{admonition} Question 84\n",
        "**년도가 2015년 이상, Dim1이 Both sexes인 케이스만 추출하라**\n",
        "```"
      ]
    },
    {
      "cell_type": "markdown",
      "metadata": {
        "id": "NE1PqC9vf_yO"
      },
      "source": [
        "```{admonition} 84번 유튜브 풀이\n",
        ":class: dropdown\n",
        "<div style=\"text-align: center\"><iframe width=\"700\" height=\"500\" src=https://www.youtube.com/embed/00rctVVSSoA?start=9324&end=9421></iframe></div>\n",
        "```"
      ]
    },
    {
      "cell_type": "code",
      "execution_count": null,
      "metadata": {
        "ExecuteTime": {
          "end_time": "2022-02-19T18:22:30.874519Z",
          "start_time": "2022-02-19T18:22:30.869149Z"
        },
        "tags": [
          "hide-input"
        ],
        "id": "xroi2iHQf_yO"
      },
      "outputs": [],
      "source": [
        "target = df[(df.Period >=2015) & (df.Dim1 =='Both sexes')]\n",
        "Ans = target"
      ]
    },
    {
      "cell_type": "code",
      "execution_count": null,
      "metadata": {
        "ExecuteTime": {
          "end_time": "2022-02-19T18:22:30.882062Z",
          "start_time": "2022-02-19T18:22:30.875796Z"
        },
        "id": "WYC7FINnf_yO",
        "outputId": "aa8a480e-59f5-493a-f48a-215bf5b7b4b2"
      },
      "outputs": [
        {
          "data": {
            "text/html": [
              "<div>\n",
              "<style scoped>\n",
              "    .dataframe tbody tr th:only-of-type {\n",
              "        vertical-align: middle;\n",
              "    }\n",
              "\n",
              "    .dataframe tbody tr th {\n",
              "        vertical-align: top;\n",
              "    }\n",
              "\n",
              "    .dataframe thead th {\n",
              "        text-align: right;\n",
              "    }\n",
              "</style>\n",
              "<table border=\"1\" class=\"dataframe\">\n",
              "  <thead>\n",
              "    <tr style=\"text-align: right;\">\n",
              "      <th></th>\n",
              "      <th>Location</th>\n",
              "      <th>Period</th>\n",
              "      <th>Dim1</th>\n",
              "      <th>First Tooltip</th>\n",
              "    </tr>\n",
              "  </thead>\n",
              "  <tbody>\n",
              "    <tr>\n",
              "      <th>0</th>\n",
              "      <td>Afghanistan</td>\n",
              "      <td>2019</td>\n",
              "      <td>Both sexes</td>\n",
              "      <td>60.27</td>\n",
              "    </tr>\n",
              "    <tr>\n",
              "      <th>3</th>\n",
              "      <td>Afghanistan</td>\n",
              "      <td>2018</td>\n",
              "      <td>Both sexes</td>\n",
              "      <td>62.54</td>\n",
              "    </tr>\n",
              "    <tr>\n",
              "      <th>6</th>\n",
              "      <td>Afghanistan</td>\n",
              "      <td>2017</td>\n",
              "      <td>Both sexes</td>\n",
              "      <td>64.94</td>\n",
              "    </tr>\n",
              "  </tbody>\n",
              "</table>\n",
              "</div>"
            ],
            "text/plain": [
              "      Location  Period        Dim1  First Tooltip\n",
              "0  Afghanistan    2019  Both sexes          60.27\n",
              "3  Afghanistan    2018  Both sexes          62.54\n",
              "6  Afghanistan    2017  Both sexes          64.94"
            ]
          },
          "execution_count": 169,
          "metadata": {},
          "output_type": "execute_result"
        }
      ],
      "source": [
        "Ans.head(3)"
      ]
    },
    {
      "cell_type": "markdown",
      "metadata": {
        "id": "sCvi3Vnbf_yO"
      },
      "source": [
        "```{admonition} Question 85\n",
        "**84번 문제에서 추출한 데이터로 아래와 같이 나라에 따른 년도별 사망률을 데이터 프레임화 하라**\n",
        "```"
      ]
    },
    {
      "cell_type": "markdown",
      "metadata": {
        "id": "oBFe-T9Zf_yO"
      },
      "source": [
        "```{admonition} 85번 유튜브 풀이\n",
        ":class: dropdown\n",
        "<div style=\"text-align: center\"><iframe width=\"700\" height=\"500\" src=https://www.youtube.com/embed/00rctVVSSoA?start=9423&end=9503></iframe></div>\n",
        "```"
      ]
    },
    {
      "cell_type": "code",
      "execution_count": null,
      "metadata": {
        "ExecuteTime": {
          "end_time": "2022-02-19T18:22:30.887559Z",
          "start_time": "2022-02-19T18:22:30.883328Z"
        },
        "tags": [
          "hide-input"
        ],
        "id": "k-tFs41Af_yO"
      },
      "outputs": [],
      "source": [
        "Ans = target.pivot(index='Location',columns='Period',values='First Tooltip')"
      ]
    },
    {
      "cell_type": "code",
      "execution_count": null,
      "metadata": {
        "ExecuteTime": {
          "end_time": "2022-02-19T18:22:30.896251Z",
          "start_time": "2022-02-19T18:22:30.888770Z"
        },
        "id": "mJ3QQCCnf_yO",
        "outputId": "65d8e888-9577-47f4-9990-18041927601c"
      },
      "outputs": [
        {
          "data": {
            "text/html": [
              "<div>\n",
              "<style scoped>\n",
              "    .dataframe tbody tr th:only-of-type {\n",
              "        vertical-align: middle;\n",
              "    }\n",
              "\n",
              "    .dataframe tbody tr th {\n",
              "        vertical-align: top;\n",
              "    }\n",
              "\n",
              "    .dataframe thead th {\n",
              "        text-align: right;\n",
              "    }\n",
              "</style>\n",
              "<table border=\"1\" class=\"dataframe\">\n",
              "  <thead>\n",
              "    <tr style=\"text-align: right;\">\n",
              "      <th>Period</th>\n",
              "      <th>2015</th>\n",
              "      <th>2016</th>\n",
              "      <th>2017</th>\n",
              "      <th>2018</th>\n",
              "      <th>2019</th>\n",
              "    </tr>\n",
              "    <tr>\n",
              "      <th>Location</th>\n",
              "      <th></th>\n",
              "      <th></th>\n",
              "      <th></th>\n",
              "      <th></th>\n",
              "      <th></th>\n",
              "    </tr>\n",
              "  </thead>\n",
              "  <tbody>\n",
              "    <tr>\n",
              "      <th>Afghanistan</th>\n",
              "      <td>70.44</td>\n",
              "      <td>67.57</td>\n",
              "      <td>64.94</td>\n",
              "      <td>62.54</td>\n",
              "      <td>60.27</td>\n",
              "    </tr>\n",
              "    <tr>\n",
              "      <th>Albania</th>\n",
              "      <td>9.57</td>\n",
              "      <td>9.42</td>\n",
              "      <td>9.42</td>\n",
              "      <td>9.53</td>\n",
              "      <td>9.68</td>\n",
              "    </tr>\n",
              "    <tr>\n",
              "      <th>Algeria</th>\n",
              "      <td>25.18</td>\n",
              "      <td>24.79</td>\n",
              "      <td>24.32</td>\n",
              "      <td>23.81</td>\n",
              "      <td>23.26</td>\n",
              "    </tr>\n",
              "  </tbody>\n",
              "</table>\n",
              "</div>"
            ],
            "text/plain": [
              "Period        2015   2016   2017   2018   2019\n",
              "Location                                      \n",
              "Afghanistan  70.44  67.57  64.94  62.54  60.27\n",
              "Albania       9.57   9.42   9.42   9.53   9.68\n",
              "Algeria      25.18  24.79  24.32  23.81  23.26"
            ]
          },
          "execution_count": 171,
          "metadata": {},
          "output_type": "execute_result"
        }
      ],
      "source": [
        "Ans.head(3)"
      ]
    },
    {
      "cell_type": "markdown",
      "metadata": {
        "id": "dnqw7KZUf_yO"
      },
      "source": [
        "```{admonition} Question 86\n",
        "**Dim1에 따른 년도별 사망비율의 평균을 구하라**\n",
        "```"
      ]
    },
    {
      "cell_type": "markdown",
      "metadata": {
        "id": "q11jr_V_f_yO"
      },
      "source": [
        "```{admonition} 86번 유튜브 풀이\n",
        ":class: dropdown\n",
        "<div style=\"text-align: center\"><iframe width=\"700\" height=\"500\" src=https://www.youtube.com/embed/00rctVVSSoA?start=9505&end=9550></iframe></div>\n",
        "```"
      ]
    },
    {
      "cell_type": "code",
      "execution_count": null,
      "metadata": {
        "ExecuteTime": {
          "end_time": "2022-02-19T18:22:30.908089Z",
          "start_time": "2022-02-19T18:22:30.897625Z"
        },
        "scrolled": true,
        "tags": [
          "hide-input"
        ],
        "id": "K6CxhduEf_yO"
      },
      "outputs": [],
      "source": [
        "Ans = df.pivot_table(index='Dim1',columns='Period',values='First Tooltip',aggfunc='mean')"
      ]
    },
    {
      "cell_type": "code",
      "execution_count": null,
      "metadata": {
        "ExecuteTime": {
          "end_time": "2022-02-19T18:22:30.916080Z",
          "start_time": "2022-02-19T18:22:30.909539Z"
        },
        "id": "AHvRaRkif_yO",
        "outputId": "c503ed72-ad54-4904-e4c4-3df10ba81b90"
      },
      "outputs": [
        {
          "data": {
            "text/html": [
              "<div>\n",
              "<style scoped>\n",
              "    .dataframe tbody tr th:only-of-type {\n",
              "        vertical-align: middle;\n",
              "    }\n",
              "\n",
              "    .dataframe tbody tr th {\n",
              "        vertical-align: top;\n",
              "    }\n",
              "\n",
              "    .dataframe thead th {\n",
              "        text-align: right;\n",
              "    }\n",
              "</style>\n",
              "<table border=\"1\" class=\"dataframe\">\n",
              "  <thead>\n",
              "    <tr style=\"text-align: right;\">\n",
              "      <th>Period</th>\n",
              "      <th>1950</th>\n",
              "      <th>1951</th>\n",
              "      <th>1952</th>\n",
              "      <th>1953</th>\n",
              "    </tr>\n",
              "    <tr>\n",
              "      <th>Dim1</th>\n",
              "      <th></th>\n",
              "      <th></th>\n",
              "      <th></th>\n",
              "      <th></th>\n",
              "    </tr>\n",
              "  </thead>\n",
              "  <tbody>\n",
              "    <tr>\n",
              "      <th>Both sexes</th>\n",
              "      <td>147.700816</td>\n",
              "      <td>155.537544</td>\n",
              "      <td>157.811094</td>\n",
              "      <td>156.147206</td>\n",
              "    </tr>\n",
              "    <tr>\n",
              "      <th>Female</th>\n",
              "      <td>140.909796</td>\n",
              "      <td>149.210175</td>\n",
              "      <td>151.516094</td>\n",
              "      <td>150.250882</td>\n",
              "    </tr>\n",
              "    <tr>\n",
              "      <th>Male</th>\n",
              "      <td>154.151224</td>\n",
              "      <td>161.538246</td>\n",
              "      <td>163.760781</td>\n",
              "      <td>161.742059</td>\n",
              "    </tr>\n",
              "  </tbody>\n",
              "</table>\n",
              "</div>"
            ],
            "text/plain": [
              "Period            1950        1951        1952        1953\n",
              "Dim1                                                      \n",
              "Both sexes  147.700816  155.537544  157.811094  156.147206\n",
              "Female      140.909796  149.210175  151.516094  150.250882\n",
              "Male        154.151224  161.538246  163.760781  161.742059"
            ]
          },
          "execution_count": 173,
          "metadata": {},
          "output_type": "execute_result"
        }
      ],
      "source": [
        "Ans.iloc[:,:4]"
      ]
    },
    {
      "cell_type": "markdown",
      "metadata": {
        "id": "SdNXYaljf_yP"
      },
      "source": [
        "```{attention} \n",
        "올림픽 메달리스트 정보 데이터: https://www.kaggle.com/the-guardian/olympic-games\n",
        "dataUrl ='https://raw.githubusercontent.com/Datamanim/pandas/main/winter.csv'\n",
        "```"
      ]
    },
    {
      "cell_type": "code",
      "execution_count": null,
      "metadata": {
        "ExecuteTime": {
          "end_time": "2022-02-19T18:22:30.980862Z",
          "start_time": "2022-02-19T18:22:30.917276Z"
        },
        "id": "6veeZPLGf_yP"
      },
      "outputs": [],
      "source": [
        "df = pd.read_csv('https://raw.githubusercontent.com/Datamanim/pandas/main/winter.csv')"
      ]
    },
    {
      "cell_type": "markdown",
      "metadata": {
        "id": "idmeMpmHf_yP"
      },
      "source": [
        "```{admonition} Question 87\n",
        "**데이터에서 한국 KOR 데이터만 추출하라**\n",
        "```"
      ]
    },
    {
      "cell_type": "markdown",
      "metadata": {
        "id": "3r9nNTTpf_yP"
      },
      "source": [
        "```{admonition} 87번 유튜브 풀이\n",
        ":class: dropdown\n",
        "<div style=\"text-align: center\"><iframe width=\"700\" height=\"500\" src=https://www.youtube.com/embed/00rctVVSSoA?start=9552&end=9613></iframe></div>\n",
        "```"
      ]
    },
    {
      "cell_type": "code",
      "execution_count": null,
      "metadata": {
        "ExecuteTime": {
          "end_time": "2022-02-19T18:22:30.985339Z",
          "start_time": "2022-02-19T18:22:30.982236Z"
        },
        "tags": [
          "hide-input"
        ],
        "id": "__GIulZ7f_yP"
      },
      "outputs": [],
      "source": [
        "kr = df[df.Country=='KOR']\n",
        "Ans = kr"
      ]
    },
    {
      "cell_type": "code",
      "execution_count": null,
      "metadata": {
        "ExecuteTime": {
          "end_time": "2022-02-19T18:22:30.995314Z",
          "start_time": "2022-02-19T18:22:30.986798Z"
        },
        "id": "AUCdMkI_f_yP",
        "outputId": "23288f06-09d3-4658-9c2b-1b19a04010b7"
      },
      "outputs": [
        {
          "data": {
            "text/html": [
              "<div>\n",
              "<style scoped>\n",
              "    .dataframe tbody tr th:only-of-type {\n",
              "        vertical-align: middle;\n",
              "    }\n",
              "\n",
              "    .dataframe tbody tr th {\n",
              "        vertical-align: top;\n",
              "    }\n",
              "\n",
              "    .dataframe thead th {\n",
              "        text-align: right;\n",
              "    }\n",
              "</style>\n",
              "<table border=\"1\" class=\"dataframe\">\n",
              "  <thead>\n",
              "    <tr style=\"text-align: right;\">\n",
              "      <th></th>\n",
              "      <th>Year</th>\n",
              "      <th>City</th>\n",
              "      <th>Sport</th>\n",
              "      <th>Discipline</th>\n",
              "      <th>Athlete</th>\n",
              "      <th>Country</th>\n",
              "      <th>Gender</th>\n",
              "      <th>Event</th>\n",
              "      <th>Medal</th>\n",
              "    </tr>\n",
              "  </thead>\n",
              "  <tbody>\n",
              "    <tr>\n",
              "      <th>2652</th>\n",
              "      <td>1992</td>\n",
              "      <td>Albertville</td>\n",
              "      <td>Skating</td>\n",
              "      <td>Short Track Speed Skating</td>\n",
              "      <td>LEE, Jun-Ho</td>\n",
              "      <td>KOR</td>\n",
              "      <td>Men</td>\n",
              "      <td>1000M</td>\n",
              "      <td>Bronze</td>\n",
              "    </tr>\n",
              "    <tr>\n",
              "      <th>2653</th>\n",
              "      <td>1992</td>\n",
              "      <td>Albertville</td>\n",
              "      <td>Skating</td>\n",
              "      <td>Short Track Speed Skating</td>\n",
              "      <td>KIM, Ki-Hoon</td>\n",
              "      <td>KOR</td>\n",
              "      <td>Men</td>\n",
              "      <td>1000M</td>\n",
              "      <td>Gold</td>\n",
              "    </tr>\n",
              "    <tr>\n",
              "      <th>2671</th>\n",
              "      <td>1992</td>\n",
              "      <td>Albertville</td>\n",
              "      <td>Skating</td>\n",
              "      <td>Short Track Speed Skating</td>\n",
              "      <td>KIM, Ki-Hoon</td>\n",
              "      <td>KOR</td>\n",
              "      <td>Men</td>\n",
              "      <td>5000M Relay</td>\n",
              "      <td>Gold</td>\n",
              "    </tr>\n",
              "    <tr>\n",
              "      <th>2672</th>\n",
              "      <td>1992</td>\n",
              "      <td>Albertville</td>\n",
              "      <td>Skating</td>\n",
              "      <td>Short Track Speed Skating</td>\n",
              "      <td>LEE, Jun-Ho</td>\n",
              "      <td>KOR</td>\n",
              "      <td>Men</td>\n",
              "      <td>5000M Relay</td>\n",
              "      <td>Gold</td>\n",
              "    </tr>\n",
              "  </tbody>\n",
              "</table>\n",
              "</div>"
            ],
            "text/plain": [
              "      Year         City    Sport                 Discipline       Athlete  \\\n",
              "2652  1992  Albertville  Skating  Short Track Speed Skating   LEE, Jun-Ho   \n",
              "2653  1992  Albertville  Skating  Short Track Speed Skating  KIM, Ki-Hoon   \n",
              "2671  1992  Albertville  Skating  Short Track Speed Skating  KIM, Ki-Hoon   \n",
              "2672  1992  Albertville  Skating  Short Track Speed Skating   LEE, Jun-Ho   \n",
              "\n",
              "     Country Gender        Event   Medal  \n",
              "2652     KOR    Men        1000M  Bronze  \n",
              "2653     KOR    Men        1000M    Gold  \n",
              "2671     KOR    Men  5000M Relay    Gold  \n",
              "2672     KOR    Men  5000M Relay    Gold  "
            ]
          },
          "execution_count": 176,
          "metadata": {},
          "output_type": "execute_result"
        }
      ],
      "source": [
        "Ans.head(4)"
      ]
    },
    {
      "cell_type": "markdown",
      "metadata": {
        "id": "oJ9f7S3Bf_yP"
      },
      "source": [
        "```{admonition} Question 88\n",
        "**한국 올림픽 메달리스트 데이터에서 년도에 따른 medal 갯수를 데이터프레임화 하라**\n",
        "```"
      ]
    },
    {
      "cell_type": "markdown",
      "metadata": {
        "id": "nE3Gl8zMf_yP"
      },
      "source": [
        "```{admonition} 88번 유튜브 풀이\n",
        ":class: dropdown\n",
        "<div style=\"text-align: center\"><iframe width=\"700\" height=\"500\" src=https://www.youtube.com/embed/00rctVVSSoA?start=9615&end=9673></iframe></div>\n",
        "```"
      ]
    },
    {
      "cell_type": "code",
      "execution_count": null,
      "metadata": {
        "ExecuteTime": {
          "end_time": "2022-02-19T18:22:31.002421Z",
          "start_time": "2022-02-19T18:22:30.996648Z"
        },
        "tags": [
          "hide-input"
        ],
        "id": "HvHPo5Xjf_yP"
      },
      "outputs": [],
      "source": [
        "Ans = kr.pivot_table(index='Year',columns='Medal',aggfunc='size').fillna(0)"
      ]
    },
    {
      "cell_type": "code",
      "execution_count": null,
      "metadata": {
        "ExecuteTime": {
          "end_time": "2022-02-19T18:22:31.010668Z",
          "start_time": "2022-02-19T18:22:31.003805Z"
        },
        "id": "KfbUdKwff_yP",
        "outputId": "dc79badd-8c8d-4dae-fc87-a52fd1d5a99b"
      },
      "outputs": [
        {
          "data": {
            "text/html": [
              "<div>\n",
              "<style scoped>\n",
              "    .dataframe tbody tr th:only-of-type {\n",
              "        vertical-align: middle;\n",
              "    }\n",
              "\n",
              "    .dataframe tbody tr th {\n",
              "        vertical-align: top;\n",
              "    }\n",
              "\n",
              "    .dataframe thead th {\n",
              "        text-align: right;\n",
              "    }\n",
              "</style>\n",
              "<table border=\"1\" class=\"dataframe\">\n",
              "  <thead>\n",
              "    <tr style=\"text-align: right;\">\n",
              "      <th>Medal</th>\n",
              "      <th>Bronze</th>\n",
              "      <th>Gold</th>\n",
              "      <th>Silver</th>\n",
              "    </tr>\n",
              "    <tr>\n",
              "      <th>Year</th>\n",
              "      <th></th>\n",
              "      <th></th>\n",
              "      <th></th>\n",
              "    </tr>\n",
              "  </thead>\n",
              "  <tbody>\n",
              "    <tr>\n",
              "      <th>1992</th>\n",
              "      <td>1.0</td>\n",
              "      <td>5.0</td>\n",
              "      <td>1.0</td>\n",
              "    </tr>\n",
              "    <tr>\n",
              "      <th>1994</th>\n",
              "      <td>1.0</td>\n",
              "      <td>8.0</td>\n",
              "      <td>1.0</td>\n",
              "    </tr>\n",
              "    <tr>\n",
              "      <th>1998</th>\n",
              "      <td>2.0</td>\n",
              "      <td>6.0</td>\n",
              "      <td>4.0</td>\n",
              "    </tr>\n",
              "    <tr>\n",
              "      <th>2002</th>\n",
              "      <td>0.0</td>\n",
              "      <td>5.0</td>\n",
              "      <td>2.0</td>\n",
              "    </tr>\n",
              "    <tr>\n",
              "      <th>2006</th>\n",
              "      <td>2.0</td>\n",
              "      <td>14.0</td>\n",
              "      <td>3.0</td>\n",
              "    </tr>\n",
              "    <tr>\n",
              "      <th>2010</th>\n",
              "      <td>2.0</td>\n",
              "      <td>6.0</td>\n",
              "      <td>10.0</td>\n",
              "    </tr>\n",
              "    <tr>\n",
              "      <th>2014</th>\n",
              "      <td>2.0</td>\n",
              "      <td>7.0</td>\n",
              "      <td>5.0</td>\n",
              "    </tr>\n",
              "  </tbody>\n",
              "</table>\n",
              "</div>"
            ],
            "text/plain": [
              "Medal  Bronze  Gold  Silver\n",
              "Year                       \n",
              "1992      1.0   5.0     1.0\n",
              "1994      1.0   8.0     1.0\n",
              "1998      2.0   6.0     4.0\n",
              "2002      0.0   5.0     2.0\n",
              "2006      2.0  14.0     3.0\n",
              "2010      2.0   6.0    10.0\n",
              "2014      2.0   7.0     5.0"
            ]
          },
          "execution_count": 178,
          "metadata": {},
          "output_type": "execute_result"
        }
      ],
      "source": [
        "Ans"
      ]
    },
    {
      "cell_type": "markdown",
      "metadata": {
        "id": "CFd-FOs7f_yP"
      },
      "source": [
        "```{admonition} Question 89\n",
        "**전체 데이터에서 sport종류에 따른 성별수를 구하여라**\n",
        "```"
      ]
    },
    {
      "cell_type": "markdown",
      "metadata": {
        "id": "HbTb1q9zf_yQ"
      },
      "source": [
        "```{admonition} 89번 유튜브 풀이\n",
        ":class: dropdown\n",
        "<div style=\"text-align: center\"><iframe width=\"700\" height=\"500\" src=https://www.youtube.com/embed/00rctVVSSoA?start=9675&end=9718></iframe></div>\n",
        "```"
      ]
    },
    {
      "cell_type": "code",
      "execution_count": null,
      "metadata": {
        "ExecuteTime": {
          "end_time": "2022-02-19T18:22:31.017879Z",
          "start_time": "2022-02-19T18:22:31.011822Z"
        },
        "tags": [
          "hide-input"
        ],
        "id": "mAx2NSwlf_yQ"
      },
      "outputs": [],
      "source": [
        "Ans = df.pivot_table(index='Sport',columns='Gender',aggfunc='size')"
      ]
    },
    {
      "cell_type": "code",
      "execution_count": null,
      "metadata": {
        "ExecuteTime": {
          "end_time": "2022-02-19T18:22:31.024488Z",
          "start_time": "2022-02-19T18:22:31.019235Z"
        },
        "id": "mFbPfqqOf_yQ",
        "outputId": "5a1e1f2a-8323-409c-a463-fd5959c68750"
      },
      "outputs": [
        {
          "data": {
            "text/html": [
              "<div>\n",
              "<style scoped>\n",
              "    .dataframe tbody tr th:only-of-type {\n",
              "        vertical-align: middle;\n",
              "    }\n",
              "\n",
              "    .dataframe tbody tr th {\n",
              "        vertical-align: top;\n",
              "    }\n",
              "\n",
              "    .dataframe thead th {\n",
              "        text-align: right;\n",
              "    }\n",
              "</style>\n",
              "<table border=\"1\" class=\"dataframe\">\n",
              "  <thead>\n",
              "    <tr style=\"text-align: right;\">\n",
              "      <th>Gender</th>\n",
              "      <th>Men</th>\n",
              "      <th>Women</th>\n",
              "    </tr>\n",
              "    <tr>\n",
              "      <th>Sport</th>\n",
              "      <th></th>\n",
              "      <th></th>\n",
              "    </tr>\n",
              "  </thead>\n",
              "  <tbody>\n",
              "    <tr>\n",
              "      <th>Biathlon</th>\n",
              "      <td>270</td>\n",
              "      <td>150</td>\n",
              "    </tr>\n",
              "    <tr>\n",
              "      <th>Bobsleigh</th>\n",
              "      <td>416</td>\n",
              "      <td>36</td>\n",
              "    </tr>\n",
              "    <tr>\n",
              "      <th>Curling</th>\n",
              "      <td>97</td>\n",
              "      <td>75</td>\n",
              "    </tr>\n",
              "    <tr>\n",
              "      <th>Ice Hockey</th>\n",
              "      <td>1231</td>\n",
              "      <td>305</td>\n",
              "    </tr>\n",
              "    <tr>\n",
              "      <th>Luge</th>\n",
              "      <td>135</td>\n",
              "      <td>45</td>\n",
              "    </tr>\n",
              "    <tr>\n",
              "      <th>Skating</th>\n",
              "      <td>665</td>\n",
              "      <td>564</td>\n",
              "    </tr>\n",
              "    <tr>\n",
              "      <th>Skiing</th>\n",
              "      <td>1130</td>\n",
              "      <td>651</td>\n",
              "    </tr>\n",
              "  </tbody>\n",
              "</table>\n",
              "</div>"
            ],
            "text/plain": [
              "Gender       Men  Women\n",
              "Sport                  \n",
              "Biathlon     270    150\n",
              "Bobsleigh    416     36\n",
              "Curling       97     75\n",
              "Ice Hockey  1231    305\n",
              "Luge         135     45\n",
              "Skating      665    564\n",
              "Skiing      1130    651"
            ]
          },
          "execution_count": 180,
          "metadata": {},
          "output_type": "execute_result"
        }
      ],
      "source": [
        "Ans"
      ]
    },
    {
      "cell_type": "markdown",
      "metadata": {
        "id": "9W_jT4qRf_yQ"
      },
      "source": [
        "```{admonition} Question 90\n",
        "**전체 데이터에서 Discipline종류에 따른 따른 Medal수를 구하여라**\n",
        "```"
      ]
    },
    {
      "cell_type": "markdown",
      "metadata": {
        "id": "b85EC1Q-f_yQ"
      },
      "source": [
        "```{admonition} 90번 유튜브 풀이\n",
        ":class: dropdown\n",
        "<div style=\"text-align: center\"><iframe width=\"700\" height=\"500\" src=https://www.youtube.com/embed/00rctVVSSoA?start=9720&end=9733></iframe></div>\n",
        "```"
      ]
    },
    {
      "cell_type": "code",
      "execution_count": null,
      "metadata": {
        "ExecuteTime": {
          "end_time": "2022-02-19T18:22:31.031712Z",
          "start_time": "2022-02-19T18:22:31.025856Z"
        },
        "scrolled": true,
        "tags": [
          "hide-input"
        ],
        "id": "eZ8Izjxzf_yQ"
      },
      "outputs": [],
      "source": [
        "Ans = df.pivot_table(index='Discipline',columns='Medal',aggfunc='size')"
      ]
    },
    {
      "cell_type": "code",
      "execution_count": null,
      "metadata": {
        "ExecuteTime": {
          "end_time": "2022-02-19T18:22:31.038452Z",
          "start_time": "2022-02-19T18:22:31.032921Z"
        },
        "id": "7YvOK0I4f_yQ",
        "outputId": "74ff26d2-941b-423b-a473-f89749279358"
      },
      "outputs": [
        {
          "data": {
            "text/html": [
              "<div>\n",
              "<style scoped>\n",
              "    .dataframe tbody tr th:only-of-type {\n",
              "        vertical-align: middle;\n",
              "    }\n",
              "\n",
              "    .dataframe tbody tr th {\n",
              "        vertical-align: top;\n",
              "    }\n",
              "\n",
              "    .dataframe thead th {\n",
              "        text-align: right;\n",
              "    }\n",
              "</style>\n",
              "<table border=\"1\" class=\"dataframe\">\n",
              "  <thead>\n",
              "    <tr style=\"text-align: right;\">\n",
              "      <th>Medal</th>\n",
              "      <th>Bronze</th>\n",
              "      <th>Gold</th>\n",
              "      <th>Silver</th>\n",
              "    </tr>\n",
              "    <tr>\n",
              "      <th>Discipline</th>\n",
              "      <th></th>\n",
              "      <th></th>\n",
              "      <th></th>\n",
              "    </tr>\n",
              "  </thead>\n",
              "  <tbody>\n",
              "    <tr>\n",
              "      <th>Alpine Skiing</th>\n",
              "      <td>141</td>\n",
              "      <td>143</td>\n",
              "      <td>144</td>\n",
              "    </tr>\n",
              "    <tr>\n",
              "      <th>Biathlon</th>\n",
              "      <td>139</td>\n",
              "      <td>140</td>\n",
              "      <td>141</td>\n",
              "    </tr>\n",
              "    <tr>\n",
              "      <th>Bobsleigh</th>\n",
              "      <td>147</td>\n",
              "      <td>134</td>\n",
              "      <td>141</td>\n",
              "    </tr>\n",
              "    <tr>\n",
              "      <th>Cross Country Skiing</th>\n",
              "      <td>263</td>\n",
              "      <td>264</td>\n",
              "      <td>262</td>\n",
              "    </tr>\n",
              "    <tr>\n",
              "      <th>Curling</th>\n",
              "      <td>56</td>\n",
              "      <td>58</td>\n",
              "      <td>58</td>\n",
              "    </tr>\n",
              "    <tr>\n",
              "      <th>Figure skating</th>\n",
              "      <td>118</td>\n",
              "      <td>122</td>\n",
              "      <td>119</td>\n",
              "    </tr>\n",
              "    <tr>\n",
              "      <th>Freestyle Skiing</th>\n",
              "      <td>34</td>\n",
              "      <td>34</td>\n",
              "      <td>34</td>\n",
              "    </tr>\n",
              "    <tr>\n",
              "      <th>Ice Hockey</th>\n",
              "      <td>512</td>\n",
              "      <td>510</td>\n",
              "      <td>514</td>\n",
              "    </tr>\n",
              "    <tr>\n",
              "      <th>Luge</th>\n",
              "      <td>60</td>\n",
              "      <td>62</td>\n",
              "      <td>58</td>\n",
              "    </tr>\n",
              "    <tr>\n",
              "      <th>Nordic Combined</th>\n",
              "      <td>55</td>\n",
              "      <td>55</td>\n",
              "      <td>55</td>\n",
              "    </tr>\n",
              "    <tr>\n",
              "      <th>Short Track Speed Skating</th>\n",
              "      <td>96</td>\n",
              "      <td>97</td>\n",
              "      <td>97</td>\n",
              "    </tr>\n",
              "    <tr>\n",
              "      <th>Skeleton</th>\n",
              "      <td>10</td>\n",
              "      <td>10</td>\n",
              "      <td>10</td>\n",
              "    </tr>\n",
              "    <tr>\n",
              "      <th>Ski Jumping</th>\n",
              "      <td>68</td>\n",
              "      <td>69</td>\n",
              "      <td>70</td>\n",
              "    </tr>\n",
              "    <tr>\n",
              "      <th>Snowboard</th>\n",
              "      <td>30</td>\n",
              "      <td>30</td>\n",
              "      <td>30</td>\n",
              "    </tr>\n",
              "    <tr>\n",
              "      <th>Speed skating</th>\n",
              "      <td>190</td>\n",
              "      <td>193</td>\n",
              "      <td>197</td>\n",
              "    </tr>\n",
              "  </tbody>\n",
              "</table>\n",
              "</div>"
            ],
            "text/plain": [
              "Medal                      Bronze  Gold  Silver\n",
              "Discipline                                     \n",
              "Alpine Skiing                 141   143     144\n",
              "Biathlon                      139   140     141\n",
              "Bobsleigh                     147   134     141\n",
              "Cross Country Skiing          263   264     262\n",
              "Curling                        56    58      58\n",
              "Figure skating                118   122     119\n",
              "Freestyle Skiing               34    34      34\n",
              "Ice Hockey                    512   510     514\n",
              "Luge                           60    62      58\n",
              "Nordic Combined                55    55      55\n",
              "Short Track Speed Skating      96    97      97\n",
              "Skeleton                       10    10      10\n",
              "Ski Jumping                    68    69      70\n",
              "Snowboard                      30    30      30\n",
              "Speed skating                 190   193     197"
            ]
          },
          "execution_count": 182,
          "metadata": {},
          "output_type": "execute_result"
        }
      ],
      "source": [
        "Ans"
      ]
    },
    {
      "cell_type": "markdown",
      "metadata": {
        "id": "wmhdBQyrf_yQ"
      },
      "source": [
        "## 07_Merge , Concat"
      ]
    },
    {
      "cell_type": "markdown",
      "metadata": {
        "id": "3mtdhY6Df_yQ"
      },
      "source": [
        "```{attention} \n",
        "국가별 5세이하 사망비율 통계 : https://www.kaggle.com/utkarshxy/who-worldhealth-statistics-2020-complete    \n",
        "데이터 변형    \n",
        "Dataurl = 'https://raw.githubusercontent.com/Datamanim/pandas/main/mergeTEst.csv'\n",
        "```"
      ]
    },
    {
      "cell_type": "markdown",
      "metadata": {
        "id": "bmI_ivEwf_yR"
      },
      "source": [
        "```{admonition} merge, concat 급종료 변명.. 유튜브 풀이\n",
        ":class: dropdown\n",
        "<div style=\"text-align: center\"><iframe width=\"700\" height=\"500\" src=https://www.youtube.com/embed/00rctVVSSoA?start=9735&end=10000></iframe></div>\n",
        "```\n",
        "   "
      ]
    },
    {
      "cell_type": "code",
      "execution_count": null,
      "metadata": {
        "ExecuteTime": {
          "end_time": "2022-08-02T11:37:15.729474Z",
          "start_time": "2022-08-02T11:37:15.402600Z"
        },
        "id": "V7wCakwsf_yR"
      },
      "outputs": [],
      "source": [
        "df = pd.read_csv('https://raw.githubusercontent.com/Datamanim/pandas/main/mergeTEst.csv',index_col= 0)"
      ]
    },
    {
      "cell_type": "code",
      "execution_count": null,
      "metadata": {
        "ExecuteTime": {
          "end_time": "2022-08-02T11:37:15.803452Z",
          "start_time": "2022-08-02T11:37:15.779890Z"
        },
        "id": "3mnzA2xSf_yR",
        "outputId": "9b570545-dd06-4fe6-b4b1-81a472aaa535"
      },
      "outputs": [
        {
          "data": {
            "text/html": [
              "<div>\n",
              "<style scoped>\n",
              "    .dataframe tbody tr th:only-of-type {\n",
              "        vertical-align: middle;\n",
              "    }\n",
              "\n",
              "    .dataframe tbody tr th {\n",
              "        vertical-align: top;\n",
              "    }\n",
              "\n",
              "    .dataframe thead th {\n",
              "        text-align: right;\n",
              "    }\n",
              "</style>\n",
              "<table border=\"1\" class=\"dataframe\">\n",
              "  <thead>\n",
              "    <tr style=\"text-align: right;\">\n",
              "      <th></th>\n",
              "      <th>2010</th>\n",
              "      <th>2011</th>\n",
              "      <th>2012</th>\n",
              "      <th>2013</th>\n",
              "      <th>2014</th>\n",
              "      <th>2015</th>\n",
              "      <th>2016</th>\n",
              "      <th>2017</th>\n",
              "      <th>2018</th>\n",
              "      <th>2019</th>\n",
              "    </tr>\n",
              "    <tr>\n",
              "      <th>Location</th>\n",
              "      <th></th>\n",
              "      <th></th>\n",
              "      <th></th>\n",
              "      <th></th>\n",
              "      <th></th>\n",
              "      <th></th>\n",
              "      <th></th>\n",
              "      <th></th>\n",
              "      <th></th>\n",
              "      <th></th>\n",
              "    </tr>\n",
              "  </thead>\n",
              "  <tbody>\n",
              "    <tr>\n",
              "      <th>Afghanistan</th>\n",
              "      <td>64.023</td>\n",
              "      <td>61.640</td>\n",
              "      <td>59.367</td>\n",
              "      <td>57.170</td>\n",
              "      <td>55.08</td>\n",
              "      <td>53.107</td>\n",
              "      <td>51.267</td>\n",
              "      <td>49.560</td>\n",
              "      <td>47.983</td>\n",
              "      <td>46.453</td>\n",
              "    </tr>\n",
              "    <tr>\n",
              "      <th>Albania</th>\n",
              "      <td>11.803</td>\n",
              "      <td>10.807</td>\n",
              "      <td>9.943</td>\n",
              "      <td>9.267</td>\n",
              "      <td>8.79</td>\n",
              "      <td>8.493</td>\n",
              "      <td>8.363</td>\n",
              "      <td>8.363</td>\n",
              "      <td>8.453</td>\n",
              "      <td>8.597</td>\n",
              "    </tr>\n",
              "    <tr>\n",
              "      <th>Algeria</th>\n",
              "      <td>23.540</td>\n",
              "      <td>22.907</td>\n",
              "      <td>22.450</td>\n",
              "      <td>22.117</td>\n",
              "      <td>21.85</td>\n",
              "      <td>21.587</td>\n",
              "      <td>21.257</td>\n",
              "      <td>20.850</td>\n",
              "      <td>20.407</td>\n",
              "      <td>19.930</td>\n",
              "    </tr>\n",
              "    <tr>\n",
              "      <th>Andorra</th>\n",
              "      <td>4.240</td>\n",
              "      <td>4.033</td>\n",
              "      <td>3.843</td>\n",
              "      <td>3.667</td>\n",
              "      <td>3.49</td>\n",
              "      <td>3.330</td>\n",
              "      <td>3.187</td>\n",
              "      <td>3.060</td>\n",
              "      <td>2.933</td>\n",
              "      <td>2.827</td>\n",
              "    </tr>\n",
              "  </tbody>\n",
              "</table>\n",
              "</div>"
            ],
            "text/plain": [
              "               2010    2011    2012    2013   2014    2015    2016    2017  \\\n",
              "Location                                                                     \n",
              "Afghanistan  64.023  61.640  59.367  57.170  55.08  53.107  51.267  49.560   \n",
              "Albania      11.803  10.807   9.943   9.267   8.79   8.493   8.363   8.363   \n",
              "Algeria      23.540  22.907  22.450  22.117  21.85  21.587  21.257  20.850   \n",
              "Andorra       4.240   4.033   3.843   3.667   3.49   3.330   3.187   3.060   \n",
              "\n",
              "               2018    2019  \n",
              "Location                     \n",
              "Afghanistan  47.983  46.453  \n",
              "Albania       8.453   8.597  \n",
              "Algeria      20.407  19.930  \n",
              "Andorra       2.933   2.827  "
            ]
          },
          "metadata": {},
          "output_type": "display_data"
        },
        {
          "data": {
            "text/html": [
              "<div>\n",
              "<style scoped>\n",
              "    .dataframe tbody tr th:only-of-type {\n",
              "        vertical-align: middle;\n",
              "    }\n",
              "\n",
              "    .dataframe tbody tr th {\n",
              "        vertical-align: top;\n",
              "    }\n",
              "\n",
              "    .dataframe thead th {\n",
              "        text-align: right;\n",
              "    }\n",
              "</style>\n",
              "<table border=\"1\" class=\"dataframe\">\n",
              "  <thead>\n",
              "    <tr style=\"text-align: right;\">\n",
              "      <th></th>\n",
              "      <th>2010</th>\n",
              "      <th>2011</th>\n",
              "      <th>2012</th>\n",
              "      <th>2013</th>\n",
              "      <th>2014</th>\n",
              "      <th>2015</th>\n",
              "      <th>2016</th>\n",
              "      <th>2017</th>\n",
              "      <th>2018</th>\n",
              "      <th>2019</th>\n",
              "    </tr>\n",
              "    <tr>\n",
              "      <th>Location</th>\n",
              "      <th></th>\n",
              "      <th></th>\n",
              "      <th></th>\n",
              "      <th></th>\n",
              "      <th></th>\n",
              "      <th></th>\n",
              "      <th></th>\n",
              "      <th></th>\n",
              "      <th></th>\n",
              "      <th></th>\n",
              "    </tr>\n",
              "  </thead>\n",
              "  <tbody>\n",
              "    <tr>\n",
              "      <th>Angola</th>\n",
              "      <td>75.713</td>\n",
              "      <td>71.280</td>\n",
              "      <td>67.233</td>\n",
              "      <td>63.570</td>\n",
              "      <td>60.430</td>\n",
              "      <td>57.757</td>\n",
              "      <td>55.510</td>\n",
              "      <td>53.460</td>\n",
              "      <td>51.757</td>\n",
              "      <td>50.093</td>\n",
              "    </tr>\n",
              "    <tr>\n",
              "      <th>Antigua and Barbuda</th>\n",
              "      <td>8.667</td>\n",
              "      <td>8.223</td>\n",
              "      <td>7.807</td>\n",
              "      <td>7.420</td>\n",
              "      <td>7.070</td>\n",
              "      <td>6.757</td>\n",
              "      <td>6.483</td>\n",
              "      <td>6.230</td>\n",
              "      <td>6.000</td>\n",
              "      <td>5.783</td>\n",
              "    </tr>\n",
              "    <tr>\n",
              "      <th>Argentina</th>\n",
              "      <td>12.887</td>\n",
              "      <td>12.380</td>\n",
              "      <td>11.840</td>\n",
              "      <td>11.283</td>\n",
              "      <td>10.733</td>\n",
              "      <td>10.203</td>\n",
              "      <td>9.683</td>\n",
              "      <td>9.177</td>\n",
              "      <td>8.680</td>\n",
              "      <td>8.227</td>\n",
              "    </tr>\n",
              "    <tr>\n",
              "      <th>Armenia</th>\n",
              "      <td>16.497</td>\n",
              "      <td>15.677</td>\n",
              "      <td>14.897</td>\n",
              "      <td>14.170</td>\n",
              "      <td>13.477</td>\n",
              "      <td>12.817</td>\n",
              "      <td>12.183</td>\n",
              "      <td>11.583</td>\n",
              "      <td>11.007</td>\n",
              "      <td>10.497</td>\n",
              "    </tr>\n",
              "    <tr>\n",
              "      <th>Australia</th>\n",
              "      <td>3.993</td>\n",
              "      <td>3.803</td>\n",
              "      <td>3.623</td>\n",
              "      <td>3.467</td>\n",
              "      <td>3.343</td>\n",
              "      <td>3.253</td>\n",
              "      <td>3.183</td>\n",
              "      <td>3.137</td>\n",
              "      <td>3.090</td>\n",
              "      <td>3.047</td>\n",
              "    </tr>\n",
              "    <tr>\n",
              "      <th>Austria</th>\n",
              "      <td>3.573</td>\n",
              "      <td>3.463</td>\n",
              "      <td>3.333</td>\n",
              "      <td>3.210</td>\n",
              "      <td>3.113</td>\n",
              "      <td>3.043</td>\n",
              "      <td>2.987</td>\n",
              "      <td>2.943</td>\n",
              "      <td>2.897</td>\n",
              "      <td>2.843</td>\n",
              "    </tr>\n",
              "  </tbody>\n",
              "</table>\n",
              "</div>"
            ],
            "text/plain": [
              "                       2010    2011    2012    2013    2014    2015    2016  \\\n",
              "Location                                                                      \n",
              "Angola               75.713  71.280  67.233  63.570  60.430  57.757  55.510   \n",
              "Antigua and Barbuda   8.667   8.223   7.807   7.420   7.070   6.757   6.483   \n",
              "Argentina            12.887  12.380  11.840  11.283  10.733  10.203   9.683   \n",
              "Armenia              16.497  15.677  14.897  14.170  13.477  12.817  12.183   \n",
              "Australia             3.993   3.803   3.623   3.467   3.343   3.253   3.183   \n",
              "Austria               3.573   3.463   3.333   3.210   3.113   3.043   2.987   \n",
              "\n",
              "                       2017    2018    2019  \n",
              "Location                                     \n",
              "Angola               53.460  51.757  50.093  \n",
              "Antigua and Barbuda   6.230   6.000   5.783  \n",
              "Argentina             9.177   8.680   8.227  \n",
              "Armenia              11.583  11.007  10.497  \n",
              "Australia             3.137   3.090   3.047  \n",
              "Austria               2.943   2.897   2.843  "
            ]
          },
          "metadata": {},
          "output_type": "display_data"
        }
      ],
      "source": [
        "df1 = df.iloc[:4,:]\n",
        "df2 = df.iloc[4:,:]\n",
        "\n",
        "display(df1)\n",
        "display(df2)"
      ]
    },
    {
      "cell_type": "markdown",
      "metadata": {
        "id": "uJH-bSEUf_yR"
      },
      "source": [
        "```{admonition} Question 91\n",
        "**df1과 df2 데이터를 하나의 데이터 프레임으로 합쳐라**\n",
        "```"
      ]
    },
    {
      "cell_type": "code",
      "execution_count": null,
      "metadata": {
        "ExecuteTime": {
          "end_time": "2022-08-02T11:37:17.314599Z",
          "start_time": "2022-08-02T11:37:17.311443Z"
        },
        "tags": [
          "hide-input"
        ],
        "id": "5iFGa3jGf_yR"
      },
      "outputs": [],
      "source": [
        "total = pd.concat([df1,df2])\n",
        "Ans = total"
      ]
    },
    {
      "cell_type": "code",
      "execution_count": null,
      "metadata": {
        "ExecuteTime": {
          "end_time": "2022-08-02T11:37:18.901433Z",
          "start_time": "2022-08-02T11:37:18.886930Z"
        },
        "id": "C3GT2hdTf_yR",
        "outputId": "e5424747-49c2-4af6-ba5d-35429e7f06bc"
      },
      "outputs": [
        {
          "data": {
            "text/html": [
              "<div>\n",
              "<style scoped>\n",
              "    .dataframe tbody tr th:only-of-type {\n",
              "        vertical-align: middle;\n",
              "    }\n",
              "\n",
              "    .dataframe tbody tr th {\n",
              "        vertical-align: top;\n",
              "    }\n",
              "\n",
              "    .dataframe thead th {\n",
              "        text-align: right;\n",
              "    }\n",
              "</style>\n",
              "<table border=\"1\" class=\"dataframe\">\n",
              "  <thead>\n",
              "    <tr style=\"text-align: right;\">\n",
              "      <th></th>\n",
              "      <th>2010</th>\n",
              "      <th>2011</th>\n",
              "      <th>2012</th>\n",
              "      <th>2013</th>\n",
              "      <th>2014</th>\n",
              "      <th>2015</th>\n",
              "      <th>2016</th>\n",
              "      <th>2017</th>\n",
              "      <th>2018</th>\n",
              "      <th>2019</th>\n",
              "    </tr>\n",
              "    <tr>\n",
              "      <th>Location</th>\n",
              "      <th></th>\n",
              "      <th></th>\n",
              "      <th></th>\n",
              "      <th></th>\n",
              "      <th></th>\n",
              "      <th></th>\n",
              "      <th></th>\n",
              "      <th></th>\n",
              "      <th></th>\n",
              "      <th></th>\n",
              "    </tr>\n",
              "  </thead>\n",
              "  <tbody>\n",
              "    <tr>\n",
              "      <th>Afghanistan</th>\n",
              "      <td>64.023</td>\n",
              "      <td>61.640</td>\n",
              "      <td>59.367</td>\n",
              "      <td>57.170</td>\n",
              "      <td>55.080</td>\n",
              "      <td>53.107</td>\n",
              "      <td>51.267</td>\n",
              "      <td>49.560</td>\n",
              "      <td>47.983</td>\n",
              "      <td>46.453</td>\n",
              "    </tr>\n",
              "    <tr>\n",
              "      <th>Albania</th>\n",
              "      <td>11.803</td>\n",
              "      <td>10.807</td>\n",
              "      <td>9.943</td>\n",
              "      <td>9.267</td>\n",
              "      <td>8.790</td>\n",
              "      <td>8.493</td>\n",
              "      <td>8.363</td>\n",
              "      <td>8.363</td>\n",
              "      <td>8.453</td>\n",
              "      <td>8.597</td>\n",
              "    </tr>\n",
              "    <tr>\n",
              "      <th>Algeria</th>\n",
              "      <td>23.540</td>\n",
              "      <td>22.907</td>\n",
              "      <td>22.450</td>\n",
              "      <td>22.117</td>\n",
              "      <td>21.850</td>\n",
              "      <td>21.587</td>\n",
              "      <td>21.257</td>\n",
              "      <td>20.850</td>\n",
              "      <td>20.407</td>\n",
              "      <td>19.930</td>\n",
              "    </tr>\n",
              "    <tr>\n",
              "      <th>Andorra</th>\n",
              "      <td>4.240</td>\n",
              "      <td>4.033</td>\n",
              "      <td>3.843</td>\n",
              "      <td>3.667</td>\n",
              "      <td>3.490</td>\n",
              "      <td>3.330</td>\n",
              "      <td>3.187</td>\n",
              "      <td>3.060</td>\n",
              "      <td>2.933</td>\n",
              "      <td>2.827</td>\n",
              "    </tr>\n",
              "    <tr>\n",
              "      <th>Angola</th>\n",
              "      <td>75.713</td>\n",
              "      <td>71.280</td>\n",
              "      <td>67.233</td>\n",
              "      <td>63.570</td>\n",
              "      <td>60.430</td>\n",
              "      <td>57.757</td>\n",
              "      <td>55.510</td>\n",
              "      <td>53.460</td>\n",
              "      <td>51.757</td>\n",
              "      <td>50.093</td>\n",
              "    </tr>\n",
              "    <tr>\n",
              "      <th>Antigua and Barbuda</th>\n",
              "      <td>8.667</td>\n",
              "      <td>8.223</td>\n",
              "      <td>7.807</td>\n",
              "      <td>7.420</td>\n",
              "      <td>7.070</td>\n",
              "      <td>6.757</td>\n",
              "      <td>6.483</td>\n",
              "      <td>6.230</td>\n",
              "      <td>6.000</td>\n",
              "      <td>5.783</td>\n",
              "    </tr>\n",
              "    <tr>\n",
              "      <th>Argentina</th>\n",
              "      <td>12.887</td>\n",
              "      <td>12.380</td>\n",
              "      <td>11.840</td>\n",
              "      <td>11.283</td>\n",
              "      <td>10.733</td>\n",
              "      <td>10.203</td>\n",
              "      <td>9.683</td>\n",
              "      <td>9.177</td>\n",
              "      <td>8.680</td>\n",
              "      <td>8.227</td>\n",
              "    </tr>\n",
              "    <tr>\n",
              "      <th>Armenia</th>\n",
              "      <td>16.497</td>\n",
              "      <td>15.677</td>\n",
              "      <td>14.897</td>\n",
              "      <td>14.170</td>\n",
              "      <td>13.477</td>\n",
              "      <td>12.817</td>\n",
              "      <td>12.183</td>\n",
              "      <td>11.583</td>\n",
              "      <td>11.007</td>\n",
              "      <td>10.497</td>\n",
              "    </tr>\n",
              "    <tr>\n",
              "      <th>Australia</th>\n",
              "      <td>3.993</td>\n",
              "      <td>3.803</td>\n",
              "      <td>3.623</td>\n",
              "      <td>3.467</td>\n",
              "      <td>3.343</td>\n",
              "      <td>3.253</td>\n",
              "      <td>3.183</td>\n",
              "      <td>3.137</td>\n",
              "      <td>3.090</td>\n",
              "      <td>3.047</td>\n",
              "    </tr>\n",
              "    <tr>\n",
              "      <th>Austria</th>\n",
              "      <td>3.573</td>\n",
              "      <td>3.463</td>\n",
              "      <td>3.333</td>\n",
              "      <td>3.210</td>\n",
              "      <td>3.113</td>\n",
              "      <td>3.043</td>\n",
              "      <td>2.987</td>\n",
              "      <td>2.943</td>\n",
              "      <td>2.897</td>\n",
              "      <td>2.843</td>\n",
              "    </tr>\n",
              "  </tbody>\n",
              "</table>\n",
              "</div>"
            ],
            "text/plain": [
              "                       2010    2011    2012    2013    2014    2015    2016  \\\n",
              "Location                                                                      \n",
              "Afghanistan          64.023  61.640  59.367  57.170  55.080  53.107  51.267   \n",
              "Albania              11.803  10.807   9.943   9.267   8.790   8.493   8.363   \n",
              "Algeria              23.540  22.907  22.450  22.117  21.850  21.587  21.257   \n",
              "Andorra               4.240   4.033   3.843   3.667   3.490   3.330   3.187   \n",
              "Angola               75.713  71.280  67.233  63.570  60.430  57.757  55.510   \n",
              "Antigua and Barbuda   8.667   8.223   7.807   7.420   7.070   6.757   6.483   \n",
              "Argentina            12.887  12.380  11.840  11.283  10.733  10.203   9.683   \n",
              "Armenia              16.497  15.677  14.897  14.170  13.477  12.817  12.183   \n",
              "Australia             3.993   3.803   3.623   3.467   3.343   3.253   3.183   \n",
              "Austria               3.573   3.463   3.333   3.210   3.113   3.043   2.987   \n",
              "\n",
              "                       2017    2018    2019  \n",
              "Location                                     \n",
              "Afghanistan          49.560  47.983  46.453  \n",
              "Albania               8.363   8.453   8.597  \n",
              "Algeria              20.850  20.407  19.930  \n",
              "Andorra               3.060   2.933   2.827  \n",
              "Angola               53.460  51.757  50.093  \n",
              "Antigua and Barbuda   6.230   6.000   5.783  \n",
              "Argentina             9.177   8.680   8.227  \n",
              "Armenia              11.583  11.007  10.497  \n",
              "Australia             3.137   3.090   3.047  \n",
              "Austria               2.943   2.897   2.843  "
            ]
          },
          "execution_count": 5,
          "metadata": {},
          "output_type": "execute_result"
        }
      ],
      "source": [
        "Ans"
      ]
    },
    {
      "cell_type": "code",
      "execution_count": null,
      "metadata": {
        "ExecuteTime": {
          "end_time": "2022-08-02T11:37:19.795162Z",
          "start_time": "2022-08-02T11:37:19.777413Z"
        },
        "id": "Oo55Y0mmf_yR",
        "outputId": "48230247-a948-44c1-8ff0-bca3650bdac0"
      },
      "outputs": [
        {
          "data": {
            "text/html": [
              "<div>\n",
              "<style scoped>\n",
              "    .dataframe tbody tr th:only-of-type {\n",
              "        vertical-align: middle;\n",
              "    }\n",
              "\n",
              "    .dataframe tbody tr th {\n",
              "        vertical-align: top;\n",
              "    }\n",
              "\n",
              "    .dataframe thead th {\n",
              "        text-align: right;\n",
              "    }\n",
              "</style>\n",
              "<table border=\"1\" class=\"dataframe\">\n",
              "  <thead>\n",
              "    <tr style=\"text-align: right;\">\n",
              "      <th></th>\n",
              "      <th>2010</th>\n",
              "      <th>2011</th>\n",
              "      <th>2012</th>\n",
              "      <th>2013</th>\n",
              "    </tr>\n",
              "    <tr>\n",
              "      <th>Location</th>\n",
              "      <th></th>\n",
              "      <th></th>\n",
              "      <th></th>\n",
              "      <th></th>\n",
              "    </tr>\n",
              "  </thead>\n",
              "  <tbody>\n",
              "    <tr>\n",
              "      <th>Afghanistan</th>\n",
              "      <td>64.023</td>\n",
              "      <td>61.640</td>\n",
              "      <td>59.367</td>\n",
              "      <td>57.170</td>\n",
              "    </tr>\n",
              "    <tr>\n",
              "      <th>Albania</th>\n",
              "      <td>11.803</td>\n",
              "      <td>10.807</td>\n",
              "      <td>9.943</td>\n",
              "      <td>9.267</td>\n",
              "    </tr>\n",
              "  </tbody>\n",
              "</table>\n",
              "</div>"
            ],
            "text/plain": [
              "               2010    2011    2012    2013\n",
              "Location                                   \n",
              "Afghanistan  64.023  61.640  59.367  57.170\n",
              "Albania      11.803  10.807   9.943   9.267"
            ]
          },
          "metadata": {},
          "output_type": "display_data"
        },
        {
          "data": {
            "text/html": [
              "<div>\n",
              "<style scoped>\n",
              "    .dataframe tbody tr th:only-of-type {\n",
              "        vertical-align: middle;\n",
              "    }\n",
              "\n",
              "    .dataframe tbody tr th {\n",
              "        vertical-align: top;\n",
              "    }\n",
              "\n",
              "    .dataframe thead th {\n",
              "        text-align: right;\n",
              "    }\n",
              "</style>\n",
              "<table border=\"1\" class=\"dataframe\">\n",
              "  <thead>\n",
              "    <tr style=\"text-align: right;\">\n",
              "      <th></th>\n",
              "      <th>2013</th>\n",
              "      <th>2014</th>\n",
              "      <th>2015</th>\n",
              "      <th>2016</th>\n",
              "      <th>2017</th>\n",
              "      <th>2018</th>\n",
              "      <th>2019</th>\n",
              "    </tr>\n",
              "    <tr>\n",
              "      <th>Location</th>\n",
              "      <th></th>\n",
              "      <th></th>\n",
              "      <th></th>\n",
              "      <th></th>\n",
              "      <th></th>\n",
              "      <th></th>\n",
              "      <th></th>\n",
              "    </tr>\n",
              "  </thead>\n",
              "  <tbody>\n",
              "    <tr>\n",
              "      <th>Antigua and Barbuda</th>\n",
              "      <td>7.420</td>\n",
              "      <td>7.070</td>\n",
              "      <td>6.757</td>\n",
              "      <td>6.483</td>\n",
              "      <td>6.230</td>\n",
              "      <td>6.000</td>\n",
              "      <td>5.783</td>\n",
              "    </tr>\n",
              "    <tr>\n",
              "      <th>Argentina</th>\n",
              "      <td>11.283</td>\n",
              "      <td>10.733</td>\n",
              "      <td>10.203</td>\n",
              "      <td>9.683</td>\n",
              "      <td>9.177</td>\n",
              "      <td>8.680</td>\n",
              "      <td>8.227</td>\n",
              "    </tr>\n",
              "    <tr>\n",
              "      <th>Armenia</th>\n",
              "      <td>14.170</td>\n",
              "      <td>13.477</td>\n",
              "      <td>12.817</td>\n",
              "      <td>12.183</td>\n",
              "      <td>11.583</td>\n",
              "      <td>11.007</td>\n",
              "      <td>10.497</td>\n",
              "    </tr>\n",
              "    <tr>\n",
              "      <th>Australia</th>\n",
              "      <td>3.467</td>\n",
              "      <td>3.343</td>\n",
              "      <td>3.253</td>\n",
              "      <td>3.183</td>\n",
              "      <td>3.137</td>\n",
              "      <td>3.090</td>\n",
              "      <td>3.047</td>\n",
              "    </tr>\n",
              "    <tr>\n",
              "      <th>Austria</th>\n",
              "      <td>3.210</td>\n",
              "      <td>3.113</td>\n",
              "      <td>3.043</td>\n",
              "      <td>2.987</td>\n",
              "      <td>2.943</td>\n",
              "      <td>2.897</td>\n",
              "      <td>2.843</td>\n",
              "    </tr>\n",
              "  </tbody>\n",
              "</table>\n",
              "</div>"
            ],
            "text/plain": [
              "                       2013    2014    2015    2016    2017    2018    2019\n",
              "Location                                                                   \n",
              "Antigua and Barbuda   7.420   7.070   6.757   6.483   6.230   6.000   5.783\n",
              "Argentina            11.283  10.733  10.203   9.683   9.177   8.680   8.227\n",
              "Armenia              14.170  13.477  12.817  12.183  11.583  11.007  10.497\n",
              "Australia             3.467   3.343   3.253   3.183   3.137   3.090   3.047\n",
              "Austria               3.210   3.113   3.043   2.987   2.943   2.897   2.843"
            ]
          },
          "metadata": {},
          "output_type": "display_data"
        }
      ],
      "source": [
        "df3 = df.iloc[:2,:4]\n",
        "df4 = df.iloc[5:,3:]\n",
        "\n",
        "display(df3)\n",
        "display(df4)"
      ]
    },
    {
      "cell_type": "markdown",
      "metadata": {
        "id": "qJtL48Vgf_yS"
      },
      "source": [
        "```{admonition} Question 92\n",
        "**df3과 df4 데이터를 하나의 데이터 프레임으로 합쳐라. 둘다 포함하고 있는 년도에 대해서만 고려한다**\n",
        "```"
      ]
    },
    {
      "cell_type": "code",
      "execution_count": null,
      "metadata": {
        "ExecuteTime": {
          "end_time": "2022-08-02T11:37:21.988083Z",
          "start_time": "2022-08-02T11:37:21.984440Z"
        },
        "tags": [
          "hide-input"
        ],
        "id": "UpNB5qNSf_yS"
      },
      "outputs": [],
      "source": [
        "Ans = pd.concat([df3,df4],join='inner')"
      ]
    },
    {
      "cell_type": "code",
      "execution_count": null,
      "metadata": {
        "ExecuteTime": {
          "end_time": "2022-08-02T11:37:27.640740Z",
          "start_time": "2022-08-02T11:37:27.634405Z"
        },
        "id": "9Y42Szjzf_yT",
        "outputId": "c59f1abf-b182-4e37-b139-ff6ff89d7451"
      },
      "outputs": [
        {
          "data": {
            "text/html": [
              "<div>\n",
              "<style scoped>\n",
              "    .dataframe tbody tr th:only-of-type {\n",
              "        vertical-align: middle;\n",
              "    }\n",
              "\n",
              "    .dataframe tbody tr th {\n",
              "        vertical-align: top;\n",
              "    }\n",
              "\n",
              "    .dataframe thead th {\n",
              "        text-align: right;\n",
              "    }\n",
              "</style>\n",
              "<table border=\"1\" class=\"dataframe\">\n",
              "  <thead>\n",
              "    <tr style=\"text-align: right;\">\n",
              "      <th></th>\n",
              "      <th>2013</th>\n",
              "    </tr>\n",
              "    <tr>\n",
              "      <th>Location</th>\n",
              "      <th></th>\n",
              "    </tr>\n",
              "  </thead>\n",
              "  <tbody>\n",
              "    <tr>\n",
              "      <th>Afghanistan</th>\n",
              "      <td>57.170</td>\n",
              "    </tr>\n",
              "    <tr>\n",
              "      <th>Albania</th>\n",
              "      <td>9.267</td>\n",
              "    </tr>\n",
              "    <tr>\n",
              "      <th>Antigua and Barbuda</th>\n",
              "      <td>7.420</td>\n",
              "    </tr>\n",
              "    <tr>\n",
              "      <th>Argentina</th>\n",
              "      <td>11.283</td>\n",
              "    </tr>\n",
              "    <tr>\n",
              "      <th>Armenia</th>\n",
              "      <td>14.170</td>\n",
              "    </tr>\n",
              "    <tr>\n",
              "      <th>Australia</th>\n",
              "      <td>3.467</td>\n",
              "    </tr>\n",
              "    <tr>\n",
              "      <th>Austria</th>\n",
              "      <td>3.210</td>\n",
              "    </tr>\n",
              "  </tbody>\n",
              "</table>\n",
              "</div>"
            ],
            "text/plain": [
              "                       2013\n",
              "Location                   \n",
              "Afghanistan          57.170\n",
              "Albania               9.267\n",
              "Antigua and Barbuda   7.420\n",
              "Argentina            11.283\n",
              "Armenia              14.170\n",
              "Australia             3.467\n",
              "Austria               3.210"
            ]
          },
          "execution_count": 9,
          "metadata": {},
          "output_type": "execute_result"
        }
      ],
      "source": [
        "Ans"
      ]
    },
    {
      "cell_type": "markdown",
      "metadata": {
        "id": "J2QfKM3jf_ya"
      },
      "source": [
        "```{admonition} Question 93\n",
        "**df3과 df4 데이터를 하나의 데이터 프레임으로 합쳐라. 모든 컬럼을 포함하고, 결측치는 0으로 대체한다**\n",
        "```"
      ]
    },
    {
      "cell_type": "code",
      "execution_count": null,
      "metadata": {
        "ExecuteTime": {
          "end_time": "2022-08-02T11:37:29.434991Z",
          "start_time": "2022-08-02T11:37:29.430647Z"
        },
        "tags": [
          "hide-input"
        ],
        "id": "Jrdy2MVIf_ye"
      },
      "outputs": [],
      "source": [
        "Ans = pd.concat([df3,df4],join='outer').fillna(0)"
      ]
    },
    {
      "cell_type": "code",
      "execution_count": null,
      "metadata": {
        "ExecuteTime": {
          "end_time": "2022-08-02T11:37:35.746052Z",
          "start_time": "2022-08-02T11:37:35.731261Z"
        },
        "id": "9Tu777hTf_yf",
        "outputId": "5fbb0daf-f431-412e-fbcb-d8f84c2a3429"
      },
      "outputs": [
        {
          "data": {
            "text/html": [
              "<div>\n",
              "<style scoped>\n",
              "    .dataframe tbody tr th:only-of-type {\n",
              "        vertical-align: middle;\n",
              "    }\n",
              "\n",
              "    .dataframe tbody tr th {\n",
              "        vertical-align: top;\n",
              "    }\n",
              "\n",
              "    .dataframe thead th {\n",
              "        text-align: right;\n",
              "    }\n",
              "</style>\n",
              "<table border=\"1\" class=\"dataframe\">\n",
              "  <thead>\n",
              "    <tr style=\"text-align: right;\">\n",
              "      <th></th>\n",
              "      <th>2010</th>\n",
              "      <th>2011</th>\n",
              "      <th>2012</th>\n",
              "      <th>2013</th>\n",
              "      <th>2014</th>\n",
              "      <th>2015</th>\n",
              "      <th>2016</th>\n",
              "      <th>2017</th>\n",
              "      <th>2018</th>\n",
              "      <th>2019</th>\n",
              "    </tr>\n",
              "    <tr>\n",
              "      <th>Location</th>\n",
              "      <th></th>\n",
              "      <th></th>\n",
              "      <th></th>\n",
              "      <th></th>\n",
              "      <th></th>\n",
              "      <th></th>\n",
              "      <th></th>\n",
              "      <th></th>\n",
              "      <th></th>\n",
              "      <th></th>\n",
              "    </tr>\n",
              "  </thead>\n",
              "  <tbody>\n",
              "    <tr>\n",
              "      <th>Afghanistan</th>\n",
              "      <td>64.023</td>\n",
              "      <td>61.640</td>\n",
              "      <td>59.367</td>\n",
              "      <td>57.170</td>\n",
              "      <td>0.000</td>\n",
              "      <td>0.000</td>\n",
              "      <td>0.000</td>\n",
              "      <td>0.000</td>\n",
              "      <td>0.000</td>\n",
              "      <td>0.000</td>\n",
              "    </tr>\n",
              "    <tr>\n",
              "      <th>Albania</th>\n",
              "      <td>11.803</td>\n",
              "      <td>10.807</td>\n",
              "      <td>9.943</td>\n",
              "      <td>9.267</td>\n",
              "      <td>0.000</td>\n",
              "      <td>0.000</td>\n",
              "      <td>0.000</td>\n",
              "      <td>0.000</td>\n",
              "      <td>0.000</td>\n",
              "      <td>0.000</td>\n",
              "    </tr>\n",
              "    <tr>\n",
              "      <th>Antigua and Barbuda</th>\n",
              "      <td>0.000</td>\n",
              "      <td>0.000</td>\n",
              "      <td>0.000</td>\n",
              "      <td>7.420</td>\n",
              "      <td>7.070</td>\n",
              "      <td>6.757</td>\n",
              "      <td>6.483</td>\n",
              "      <td>6.230</td>\n",
              "      <td>6.000</td>\n",
              "      <td>5.783</td>\n",
              "    </tr>\n",
              "    <tr>\n",
              "      <th>Argentina</th>\n",
              "      <td>0.000</td>\n",
              "      <td>0.000</td>\n",
              "      <td>0.000</td>\n",
              "      <td>11.283</td>\n",
              "      <td>10.733</td>\n",
              "      <td>10.203</td>\n",
              "      <td>9.683</td>\n",
              "      <td>9.177</td>\n",
              "      <td>8.680</td>\n",
              "      <td>8.227</td>\n",
              "    </tr>\n",
              "    <tr>\n",
              "      <th>Armenia</th>\n",
              "      <td>0.000</td>\n",
              "      <td>0.000</td>\n",
              "      <td>0.000</td>\n",
              "      <td>14.170</td>\n",
              "      <td>13.477</td>\n",
              "      <td>12.817</td>\n",
              "      <td>12.183</td>\n",
              "      <td>11.583</td>\n",
              "      <td>11.007</td>\n",
              "      <td>10.497</td>\n",
              "    </tr>\n",
              "    <tr>\n",
              "      <th>Australia</th>\n",
              "      <td>0.000</td>\n",
              "      <td>0.000</td>\n",
              "      <td>0.000</td>\n",
              "      <td>3.467</td>\n",
              "      <td>3.343</td>\n",
              "      <td>3.253</td>\n",
              "      <td>3.183</td>\n",
              "      <td>3.137</td>\n",
              "      <td>3.090</td>\n",
              "      <td>3.047</td>\n",
              "    </tr>\n",
              "    <tr>\n",
              "      <th>Austria</th>\n",
              "      <td>0.000</td>\n",
              "      <td>0.000</td>\n",
              "      <td>0.000</td>\n",
              "      <td>3.210</td>\n",
              "      <td>3.113</td>\n",
              "      <td>3.043</td>\n",
              "      <td>2.987</td>\n",
              "      <td>2.943</td>\n",
              "      <td>2.897</td>\n",
              "      <td>2.843</td>\n",
              "    </tr>\n",
              "  </tbody>\n",
              "</table>\n",
              "</div>"
            ],
            "text/plain": [
              "                       2010    2011    2012    2013    2014    2015    2016  \\\n",
              "Location                                                                      \n",
              "Afghanistan          64.023  61.640  59.367  57.170   0.000   0.000   0.000   \n",
              "Albania              11.803  10.807   9.943   9.267   0.000   0.000   0.000   \n",
              "Antigua and Barbuda   0.000   0.000   0.000   7.420   7.070   6.757   6.483   \n",
              "Argentina             0.000   0.000   0.000  11.283  10.733  10.203   9.683   \n",
              "Armenia               0.000   0.000   0.000  14.170  13.477  12.817  12.183   \n",
              "Australia             0.000   0.000   0.000   3.467   3.343   3.253   3.183   \n",
              "Austria               0.000   0.000   0.000   3.210   3.113   3.043   2.987   \n",
              "\n",
              "                       2017    2018    2019  \n",
              "Location                                     \n",
              "Afghanistan           0.000   0.000   0.000  \n",
              "Albania               0.000   0.000   0.000  \n",
              "Antigua and Barbuda   6.230   6.000   5.783  \n",
              "Argentina             9.177   8.680   8.227  \n",
              "Armenia              11.583  11.007  10.497  \n",
              "Australia             3.137   3.090   3.047  \n",
              "Austria               2.943   2.897   2.843  "
            ]
          },
          "execution_count": 13,
          "metadata": {},
          "output_type": "execute_result"
        }
      ],
      "source": [
        "Ans"
      ]
    },
    {
      "cell_type": "code",
      "execution_count": null,
      "metadata": {
        "ExecuteTime": {
          "end_time": "2022-08-02T11:37:36.326959Z",
          "start_time": "2022-08-02T11:37:36.312846Z"
        },
        "id": "s6120vEff_yf",
        "outputId": "4259d7b8-3e94-4493-aba5-95f3ad9c5677"
      },
      "outputs": [
        {
          "data": {
            "text/html": [
              "<div>\n",
              "<style scoped>\n",
              "    .dataframe tbody tr th:only-of-type {\n",
              "        vertical-align: middle;\n",
              "    }\n",
              "\n",
              "    .dataframe tbody tr th {\n",
              "        vertical-align: top;\n",
              "    }\n",
              "\n",
              "    .dataframe thead th {\n",
              "        text-align: right;\n",
              "    }\n",
              "</style>\n",
              "<table border=\"1\" class=\"dataframe\">\n",
              "  <thead>\n",
              "    <tr style=\"text-align: right;\">\n",
              "      <th>Location</th>\n",
              "      <th>Afghanistan</th>\n",
              "      <th>Albania</th>\n",
              "      <th>Algeria</th>\n",
              "    </tr>\n",
              "  </thead>\n",
              "  <tbody>\n",
              "    <tr>\n",
              "      <th>2010</th>\n",
              "      <td>64.023</td>\n",
              "      <td>11.803</td>\n",
              "      <td>23.540</td>\n",
              "    </tr>\n",
              "    <tr>\n",
              "      <th>2011</th>\n",
              "      <td>61.640</td>\n",
              "      <td>10.807</td>\n",
              "      <td>22.907</td>\n",
              "    </tr>\n",
              "    <tr>\n",
              "      <th>2012</th>\n",
              "      <td>59.367</td>\n",
              "      <td>9.943</td>\n",
              "      <td>22.450</td>\n",
              "    </tr>\n",
              "    <tr>\n",
              "      <th>2013</th>\n",
              "      <td>57.170</td>\n",
              "      <td>9.267</td>\n",
              "      <td>22.117</td>\n",
              "    </tr>\n",
              "    <tr>\n",
              "      <th>2014</th>\n",
              "      <td>55.080</td>\n",
              "      <td>8.790</td>\n",
              "      <td>21.850</td>\n",
              "    </tr>\n",
              "    <tr>\n",
              "      <th>2015</th>\n",
              "      <td>53.107</td>\n",
              "      <td>8.493</td>\n",
              "      <td>21.587</td>\n",
              "    </tr>\n",
              "    <tr>\n",
              "      <th>2016</th>\n",
              "      <td>51.267</td>\n",
              "      <td>8.363</td>\n",
              "      <td>21.257</td>\n",
              "    </tr>\n",
              "  </tbody>\n",
              "</table>\n",
              "</div>"
            ],
            "text/plain": [
              "Location  Afghanistan  Albania  Algeria\n",
              "2010           64.023   11.803   23.540\n",
              "2011           61.640   10.807   22.907\n",
              "2012           59.367    9.943   22.450\n",
              "2013           57.170    9.267   22.117\n",
              "2014           55.080    8.790   21.850\n",
              "2015           53.107    8.493   21.587\n",
              "2016           51.267    8.363   21.257"
            ]
          },
          "metadata": {},
          "output_type": "display_data"
        },
        {
          "data": {
            "text/html": [
              "<div>\n",
              "<style scoped>\n",
              "    .dataframe tbody tr th:only-of-type {\n",
              "        vertical-align: middle;\n",
              "    }\n",
              "\n",
              "    .dataframe tbody tr th {\n",
              "        vertical-align: top;\n",
              "    }\n",
              "\n",
              "    .dataframe thead th {\n",
              "        text-align: right;\n",
              "    }\n",
              "</style>\n",
              "<table border=\"1\" class=\"dataframe\">\n",
              "  <thead>\n",
              "    <tr style=\"text-align: right;\">\n",
              "      <th>Location</th>\n",
              "      <th>Algeria</th>\n",
              "      <th>Andorra</th>\n",
              "      <th>Angola</th>\n",
              "    </tr>\n",
              "  </thead>\n",
              "  <tbody>\n",
              "    <tr>\n",
              "      <th>2016</th>\n",
              "      <td>21.257</td>\n",
              "      <td>3.187</td>\n",
              "      <td>55.510</td>\n",
              "    </tr>\n",
              "    <tr>\n",
              "      <th>2017</th>\n",
              "      <td>20.850</td>\n",
              "      <td>3.060</td>\n",
              "      <td>53.460</td>\n",
              "    </tr>\n",
              "    <tr>\n",
              "      <th>2018</th>\n",
              "      <td>20.407</td>\n",
              "      <td>2.933</td>\n",
              "      <td>51.757</td>\n",
              "    </tr>\n",
              "    <tr>\n",
              "      <th>2019</th>\n",
              "      <td>19.930</td>\n",
              "      <td>2.827</td>\n",
              "      <td>50.093</td>\n",
              "    </tr>\n",
              "  </tbody>\n",
              "</table>\n",
              "</div>"
            ],
            "text/plain": [
              "Location  Algeria  Andorra  Angola\n",
              "2016       21.257    3.187  55.510\n",
              "2017       20.850    3.060  53.460\n",
              "2018       20.407    2.933  51.757\n",
              "2019       19.930    2.827  50.093"
            ]
          },
          "metadata": {},
          "output_type": "display_data"
        }
      ],
      "source": [
        "df5 = df.T.iloc[:7,:3]\n",
        "df6 = df.T.iloc[6:,2:5]\n",
        "\n",
        "display(df5)\n",
        "display(df6)"
      ]
    },
    {
      "cell_type": "markdown",
      "metadata": {
        "id": "WZ5WhN4If_yg"
      },
      "source": [
        "```{admonition} Question 94\n",
        "**df5과 df6 데이터를 하나의 데이터 프레임으로 merge함수를 이용하여 합쳐라. Algeria컬럼을 key로 하고 두 데이터 모두 포함하는 데이터만 출력하라**\n",
        "```"
      ]
    },
    {
      "cell_type": "code",
      "execution_count": null,
      "metadata": {
        "ExecuteTime": {
          "end_time": "2022-08-02T11:39:05.426275Z",
          "start_time": "2022-08-02T11:39:05.421518Z"
        },
        "tags": [
          "hide-input"
        ],
        "id": "0cnYsaknf_yg"
      },
      "outputs": [],
      "source": [
        "Ans = pd.merge(df5,df6,on='Algeria',how='inner')"
      ]
    },
    {
      "cell_type": "code",
      "execution_count": null,
      "metadata": {
        "ExecuteTime": {
          "end_time": "2022-08-02T11:39:06.144795Z",
          "start_time": "2022-08-02T11:39:06.136807Z"
        },
        "id": "cCv4bxAVf_yg",
        "outputId": "ba11c57e-0195-4fcd-8fed-321360970028"
      },
      "outputs": [
        {
          "data": {
            "text/html": [
              "<div>\n",
              "<style scoped>\n",
              "    .dataframe tbody tr th:only-of-type {\n",
              "        vertical-align: middle;\n",
              "    }\n",
              "\n",
              "    .dataframe tbody tr th {\n",
              "        vertical-align: top;\n",
              "    }\n",
              "\n",
              "    .dataframe thead th {\n",
              "        text-align: right;\n",
              "    }\n",
              "</style>\n",
              "<table border=\"1\" class=\"dataframe\">\n",
              "  <thead>\n",
              "    <tr style=\"text-align: right;\">\n",
              "      <th>Location</th>\n",
              "      <th>Afghanistan</th>\n",
              "      <th>Albania</th>\n",
              "      <th>Algeria</th>\n",
              "      <th>Andorra</th>\n",
              "      <th>Angola</th>\n",
              "    </tr>\n",
              "  </thead>\n",
              "  <tbody>\n",
              "    <tr>\n",
              "      <th>0</th>\n",
              "      <td>51.267</td>\n",
              "      <td>8.363</td>\n",
              "      <td>21.257</td>\n",
              "      <td>3.187</td>\n",
              "      <td>55.51</td>\n",
              "    </tr>\n",
              "  </tbody>\n",
              "</table>\n",
              "</div>"
            ],
            "text/plain": [
              "Location  Afghanistan  Albania  Algeria  Andorra  Angola\n",
              "0              51.267    8.363   21.257    3.187   55.51"
            ]
          },
          "execution_count": 28,
          "metadata": {},
          "output_type": "execute_result"
        }
      ],
      "source": [
        "Ans"
      ]
    },
    {
      "cell_type": "markdown",
      "metadata": {
        "id": "u8CQRzyFf_yh"
      },
      "source": [
        "```{admonition} Question 95\n",
        "**df5과 df6 데이터를 하나의 데이터 프레임으로 merge함수를 이용하여 합쳐라. Algeria컬럼을 key로 하고 합집합으로 합쳐라**\n",
        "```"
      ]
    },
    {
      "cell_type": "code",
      "execution_count": null,
      "metadata": {
        "ExecuteTime": {
          "end_time": "2022-08-02T11:37:46.131071Z",
          "start_time": "2022-08-02T11:37:46.124683Z"
        },
        "tags": [
          "hide-input"
        ],
        "id": "-xhpDaq3f_yh"
      },
      "outputs": [],
      "source": [
        "Ans =pd.merge(df5,df6,on='Algeria',how='outer')"
      ]
    },
    {
      "cell_type": "code",
      "execution_count": null,
      "metadata": {
        "ExecuteTime": {
          "end_time": "2022-08-02T11:37:52.943572Z",
          "start_time": "2022-08-02T11:37:52.932786Z"
        },
        "id": "5ZoN4F1af_yh",
        "outputId": "d4031a32-6fc8-4921-a028-e8943bdf0c7f"
      },
      "outputs": [
        {
          "data": {
            "text/html": [
              "<div>\n",
              "<style scoped>\n",
              "    .dataframe tbody tr th:only-of-type {\n",
              "        vertical-align: middle;\n",
              "    }\n",
              "\n",
              "    .dataframe tbody tr th {\n",
              "        vertical-align: top;\n",
              "    }\n",
              "\n",
              "    .dataframe thead th {\n",
              "        text-align: right;\n",
              "    }\n",
              "</style>\n",
              "<table border=\"1\" class=\"dataframe\">\n",
              "  <thead>\n",
              "    <tr style=\"text-align: right;\">\n",
              "      <th>Location</th>\n",
              "      <th>Afghanistan</th>\n",
              "      <th>Albania</th>\n",
              "      <th>Algeria</th>\n",
              "      <th>Andorra</th>\n",
              "      <th>Angola</th>\n",
              "    </tr>\n",
              "  </thead>\n",
              "  <tbody>\n",
              "    <tr>\n",
              "      <th>0</th>\n",
              "      <td>64.023</td>\n",
              "      <td>11.803</td>\n",
              "      <td>23.540</td>\n",
              "      <td>NaN</td>\n",
              "      <td>NaN</td>\n",
              "    </tr>\n",
              "    <tr>\n",
              "      <th>1</th>\n",
              "      <td>61.640</td>\n",
              "      <td>10.807</td>\n",
              "      <td>22.907</td>\n",
              "      <td>NaN</td>\n",
              "      <td>NaN</td>\n",
              "    </tr>\n",
              "    <tr>\n",
              "      <th>2</th>\n",
              "      <td>59.367</td>\n",
              "      <td>9.943</td>\n",
              "      <td>22.450</td>\n",
              "      <td>NaN</td>\n",
              "      <td>NaN</td>\n",
              "    </tr>\n",
              "    <tr>\n",
              "      <th>3</th>\n",
              "      <td>57.170</td>\n",
              "      <td>9.267</td>\n",
              "      <td>22.117</td>\n",
              "      <td>NaN</td>\n",
              "      <td>NaN</td>\n",
              "    </tr>\n",
              "    <tr>\n",
              "      <th>4</th>\n",
              "      <td>55.080</td>\n",
              "      <td>8.790</td>\n",
              "      <td>21.850</td>\n",
              "      <td>NaN</td>\n",
              "      <td>NaN</td>\n",
              "    </tr>\n",
              "    <tr>\n",
              "      <th>5</th>\n",
              "      <td>53.107</td>\n",
              "      <td>8.493</td>\n",
              "      <td>21.587</td>\n",
              "      <td>NaN</td>\n",
              "      <td>NaN</td>\n",
              "    </tr>\n",
              "    <tr>\n",
              "      <th>6</th>\n",
              "      <td>51.267</td>\n",
              "      <td>8.363</td>\n",
              "      <td>21.257</td>\n",
              "      <td>3.187</td>\n",
              "      <td>55.510</td>\n",
              "    </tr>\n",
              "    <tr>\n",
              "      <th>7</th>\n",
              "      <td>NaN</td>\n",
              "      <td>NaN</td>\n",
              "      <td>20.850</td>\n",
              "      <td>3.060</td>\n",
              "      <td>53.460</td>\n",
              "    </tr>\n",
              "    <tr>\n",
              "      <th>8</th>\n",
              "      <td>NaN</td>\n",
              "      <td>NaN</td>\n",
              "      <td>20.407</td>\n",
              "      <td>2.933</td>\n",
              "      <td>51.757</td>\n",
              "    </tr>\n",
              "    <tr>\n",
              "      <th>9</th>\n",
              "      <td>NaN</td>\n",
              "      <td>NaN</td>\n",
              "      <td>19.930</td>\n",
              "      <td>2.827</td>\n",
              "      <td>50.093</td>\n",
              "    </tr>\n",
              "  </tbody>\n",
              "</table>\n",
              "</div>"
            ],
            "text/plain": [
              "Location  Afghanistan  Albania  Algeria  Andorra  Angola\n",
              "0              64.023   11.803   23.540      NaN     NaN\n",
              "1              61.640   10.807   22.907      NaN     NaN\n",
              "2              59.367    9.943   22.450      NaN     NaN\n",
              "3              57.170    9.267   22.117      NaN     NaN\n",
              "4              55.080    8.790   21.850      NaN     NaN\n",
              "5              53.107    8.493   21.587      NaN     NaN\n",
              "6              51.267    8.363   21.257    3.187  55.510\n",
              "7                 NaN      NaN   20.850    3.060  53.460\n",
              "8                 NaN      NaN   20.407    2.933  51.757\n",
              "9                 NaN      NaN   19.930    2.827  50.093"
            ]
          },
          "execution_count": 21,
          "metadata": {},
          "output_type": "execute_result"
        }
      ],
      "source": [
        "Ans"
      ]
    }
  ],
  "metadata": {
    "celltoolbar": "Edit Metadata",
    "kernelspec": {
      "display_name": "Python 3 (ipykernel)",
      "language": "python",
      "name": "python3"
    },
    "language_info": {
      "codemirror_mode": {
        "name": "ipython",
        "version": 3
      },
      "file_extension": ".py",
      "mimetype": "text/x-python",
      "name": "python",
      "nbconvert_exporter": "python",
      "pygments_lexer": "ipython3",
      "version": "3.8.16"
    },
    "colab": {
      "provenance": [],
      "include_colab_link": true
    }
  },
  "nbformat": 4,
  "nbformat_minor": 0
}