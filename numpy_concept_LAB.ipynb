{
  "nbformat": 4,
  "nbformat_minor": 0,
  "metadata": {
    "colab": {
      "provenance": [],
      "collapsed_sections": [
        "izOR5P5FRzoq",
        "9O5V_mLvRYut",
        "N5wKSDBISP9s",
        "HDM07aLpZ0QY",
        "9KmFk1z7bK2q",
        "2n6eI33UErrP",
        "rncb5OyWbKyj",
        "U25cgbTwco-C",
        "dLjp_acwkUUu",
        "tuoBLTrEEzeH",
        "QB0sFPXZF2j8",
        "bpNmyrSSUZzX",
        "AB9VmNw9Eb-R",
        "wSm7zi7VeCrF"
      ],
      "include_colab_link": true
    },
    "kernelspec": {
      "name": "python3",
      "display_name": "Python 3"
    }
  },
  "cells": [
    {
      "cell_type": "markdown",
      "metadata": {
        "id": "view-in-github",
        "colab_type": "text"
      },
      "source": [
        "<a href=\"https://colab.research.google.com/github/Leo2park/new/blob/main/numpy_concept_LAB.ipynb\" target=\"_parent\"><img src=\"https://colab.research.google.com/assets/colab-badge.svg\" alt=\"Open In Colab\"/></a>"
      ]
    },
    {
      "cell_type": "markdown",
      "metadata": {
        "id": "nvMCPQGk0eB-"
      },
      "source": [
        "###1.ndarray 성능확인\n"
      ]
    },
    {
      "cell_type": "code",
      "metadata": {
        "id": "bDRChRKYXai7"
      },
      "source": [
        "import numpy as np"
      ],
      "execution_count": 1,
      "outputs": []
    },
    {
      "cell_type": "code",
      "metadata": {
        "id": "DMvqY88lXcig",
        "colab": {
          "base_uri": "https://localhost:8080/"
        },
        "outputId": "56967f18-3089-4981-f3ca-b633a4260e55"
      },
      "source": [
        "A = [1, 2, 3]\n",
        "B = [4, 5, 6]\n",
        "C = []\n",
        "for a, b in zip(A, B):\n",
        "  C.append(a + b)\n",
        "\n",
        "print(C)"
      ],
      "execution_count": 2,
      "outputs": [
        {
          "output_type": "stream",
          "name": "stdout",
          "text": [
            "[5, 7, 9]\n"
          ]
        }
      ]
    },
    {
      "cell_type": "code",
      "metadata": {
        "id": "FNpu7HAJXq5c",
        "colab": {
          "base_uri": "https://localhost:8080/"
        },
        "outputId": "d942ac75-aa03-48ef-bf17-57e33f5f7ffe"
      },
      "source": [
        "A = np.array([1, 2, 3])\n",
        "B = np.array([4, 5, 6])\n",
        "C = A + B\n",
        "print(C)"
      ],
      "execution_count": 3,
      "outputs": [
        {
          "output_type": "stream",
          "name": "stdout",
          "text": [
            "[5 7 9]\n"
          ]
        }
      ]
    },
    {
      "cell_type": "code",
      "metadata": {
        "id": "J-RgB4fX0Psj"
      },
      "source": [
        "a = [[ 1, 2, 3, 4 ] for _ in range(1000000)]  # a 1000000 행, 4 열 - list\n",
        "b = np.array(a) # ndarray\n",
        "\n",
        "def exchange_list(a):\n",
        "  c = []\n",
        "  for x in a:\n",
        "      x[2], x[3], x[0], x[1] = x\n",
        "      c.append(x)\n",
        "  return c\n",
        "\n",
        "def exchange_ndarray(a):\n",
        "   return a[ : ,[2, 3, 0, 1]]"
      ],
      "execution_count": 4,
      "outputs": []
    },
    {
      "cell_type": "code",
      "metadata": {
        "id": "74TT0lJUV3HL",
        "colab": {
          "base_uri": "https://localhost:8080/"
        },
        "outputId": "d561e9cd-101d-4f2b-99fd-27a7c884f1f8"
      },
      "source": [
        "print(a[:2], b[:2], sep='\\n')"
      ],
      "execution_count": 5,
      "outputs": [
        {
          "output_type": "stream",
          "name": "stdout",
          "text": [
            "[[1, 2, 3, 4], [1, 2, 3, 4]]\n",
            "[[1 2 3 4]\n",
            " [1 2 3 4]]\n"
          ]
        }
      ]
    },
    {
      "cell_type": "code",
      "metadata": {
        "id": "1UpQlMg21gZo",
        "colab": {
          "base_uri": "https://localhost:8080/"
        },
        "outputId": "e61d5c26-a455-4312-b9b2-b887b1673d29"
      },
      "source": [
        "c = exchange_list(a)\n",
        "d = exchange_ndarray(b)\n",
        "print(c[:2], d[:2], sep='\\n')"
      ],
      "execution_count": 6,
      "outputs": [
        {
          "output_type": "stream",
          "name": "stdout",
          "text": [
            "[[3, 4, 1, 2], [3, 4, 1, 2]]\n",
            "[[3 4 1 2]\n",
            " [3 4 1 2]]\n"
          ]
        }
      ]
    },
    {
      "cell_type": "code",
      "metadata": {
        "id": "b-w7jMVYVyeD",
        "colab": {
          "base_uri": "https://localhost:8080/"
        },
        "outputId": "3da97713-2aac-49ac-d398-13fe7e68fb9f"
      },
      "source": [
        "%timeit exchange_list(a)"
      ],
      "execution_count": 7,
      "outputs": [
        {
          "output_type": "stream",
          "name": "stdout",
          "text": [
            "189 ms ± 30.7 ms per loop (mean ± std. dev. of 7 runs, 10 loops each)\n"
          ]
        }
      ]
    },
    {
      "cell_type": "code",
      "metadata": {
        "id": "x_hIaQgpV0Ie",
        "colab": {
          "base_uri": "https://localhost:8080/"
        },
        "outputId": "b52f06d3-3ca1-4af5-ff96-4a5b7ce9d7c3"
      },
      "source": [
        "%timeit exchange_ndarray(b)"
      ],
      "execution_count": 8,
      "outputs": [
        {
          "output_type": "stream",
          "name": "stdout",
          "text": [
            "10.6 ms ± 258 µs per loop (mean ± std. dev. of 7 runs, 100 loops each)\n"
          ]
        }
      ]
    },
    {
      "cell_type": "markdown",
      "metadata": {
        "id": "oCa83IylZ1OA"
      },
      "source": [
        "###2.ndarray 속성"
      ]
    },
    {
      "cell_type": "code",
      "metadata": {
        "id": "gs7lgMK0tWaO"
      },
      "source": [
        "import numpy as np"
      ],
      "execution_count": 9,
      "outputs": []
    },
    {
      "cell_type": "code",
      "metadata": {
        "id": "R2KFZHEO2IMa",
        "colab": {
          "base_uri": "https://localhost:8080/"
        },
        "outputId": "48656d9d-619f-4505-f9e9-1407c19df975"
      },
      "source": [
        "#print array information\n",
        "def printInfo(a):\n",
        "    data = ['a.ndim', 'a.shape', 'a.size', 'a.dtype', 'a.itemsize', 'a.strides']\n",
        "    for x in data:\n",
        "        print('%-11s' % x, eval(x))\n",
        "\n",
        "a = np.array([[0,1,2],[3,4,5]])#, dtype=np.int32)\n",
        "printInfo(a)\n",
        "#print(a.ndim, a.shape, a.size, a.dtype, a.itemsize, a.strides)"
      ],
      "execution_count": 10,
      "outputs": [
        {
          "output_type": "stream",
          "name": "stdout",
          "text": [
            "a.ndim      2\n",
            "a.shape     (2, 3)\n",
            "a.size      6\n",
            "a.dtype     int64\n",
            "a.itemsize  8\n",
            "a.strides   (24, 8)\n"
          ]
        }
      ]
    },
    {
      "cell_type": "markdown",
      "metadata": {
        "id": "fAya-kGlZ1K-"
      },
      "source": [
        "###3.ndarray 생성"
      ]
    },
    {
      "cell_type": "code",
      "metadata": {
        "id": "m-EkRfePwavl"
      },
      "source": [
        "import numpy as np"
      ],
      "execution_count": 11,
      "outputs": []
    },
    {
      "cell_type": "code",
      "metadata": {
        "id": "yxyJwtur2a4_"
      },
      "source": [
        "def printary(*a):\n",
        "    for x in a:\n",
        "        print(f'{type(x)}\\n{x.dtype}\\n{x}', end='\\n\\n')\n",
        "\n",
        "    print(\"-\" * 30)"
      ],
      "execution_count": 12,
      "outputs": []
    },
    {
      "cell_type": "markdown",
      "metadata": {
        "id": "nAQcclcqRjpl"
      },
      "source": [
        "#####1) np.array 사용"
      ]
    },
    {
      "cell_type": "code",
      "metadata": {
        "id": "2drjTnoJ2cVS",
        "outputId": "ad57059f-aae1-4f1c-f711-9c09225a379b",
        "colab": {
          "base_uri": "https://localhost:8080/"
        }
      },
      "source": [
        "#np.array(object : array_like, dtype=None)\n",
        "a = np.array([1, 2, 3])\n",
        "b = np.array([[1, 2, 3], [4, 5, 6]])\n",
        "c = np.array([[1, 2, 3], [4, 5]])  # array_like가 아님\n",
        "printary(a, b, c)"
      ],
      "execution_count": 13,
      "outputs": [
        {
          "output_type": "stream",
          "name": "stdout",
          "text": [
            "<class 'numpy.ndarray'>\n",
            "int64\n",
            "[1 2 3]\n",
            "\n",
            "<class 'numpy.ndarray'>\n",
            "int64\n",
            "[[1 2 3]\n",
            " [4 5 6]]\n",
            "\n",
            "<class 'numpy.ndarray'>\n",
            "object\n",
            "[list([1, 2, 3]) list([4, 5])]\n",
            "\n",
            "------------------------------\n"
          ]
        },
        {
          "output_type": "stream",
          "name": "stderr",
          "text": [
            "<ipython-input-13-11519dfb240c>:4: VisibleDeprecationWarning: Creating an ndarray from ragged nested sequences (which is a list-or-tuple of lists-or-tuples-or ndarrays with different lengths or shapes) is deprecated. If you meant to do this, you must specify 'dtype=object' when creating the ndarray.\n",
            "  c = np.array([[1, 2, 3], [4, 5]])  # array_like가 아님\n"
          ]
        }
      ]
    },
    {
      "cell_type": "code",
      "metadata": {
        "id": "rTXLYJJZ2lNL",
        "colab": {
          "base_uri": "https://localhost:8080/"
        },
        "outputId": "49413189-ef8e-4d4a-f32f-8136a9b76425"
      },
      "source": [
        "# Structured Array\n",
        "sdtype = [('name', '<U10'), ('height', '<i4'), ('weight', np.float32)]\n",
        "value =  [('Tom', 178, 98.5), ('Jim', 183, 79.5), ('Adam',  175, 82.8)]\n",
        "\n",
        "a = np.array(value, dtype=sdtype)\n",
        "\n",
        "printary(a)\n",
        "a"
      ],
      "execution_count": 14,
      "outputs": [
        {
          "output_type": "stream",
          "name": "stdout",
          "text": [
            "<class 'numpy.ndarray'>\n",
            "[('name', '<U10'), ('height', '<i4'), ('weight', '<f4')]\n",
            "[('Tom', 178, 98.5) ('Jim', 183, 79.5) ('Adam', 175, 82.8)]\n",
            "\n",
            "------------------------------\n"
          ]
        },
        {
          "output_type": "execute_result",
          "data": {
            "text/plain": [
              "array([('Tom', 178, 98.5), ('Jim', 183, 79.5), ('Adam', 175, 82.8)],\n",
              "      dtype=[('name', '<U10'), ('height', '<i4'), ('weight', '<f4')])"
            ]
          },
          "metadata": {},
          "execution_count": 14
        }
      ]
    },
    {
      "cell_type": "code",
      "metadata": {
        "id": "y_h2M3cZzD5d",
        "outputId": "891c7677-3d54-4049-a6ad-f32dae8e8471",
        "colab": {
          "base_uri": "https://localhost:8080/"
        }
      },
      "source": [
        "printary(a['name'], a['height'], a['weight'])\n",
        "printary(a[0], a[1], a[2])\n",
        "print(a.shape, a.strides, a[0])   # a.strides - 1개 row에 해당하는 메모리 크기"
      ],
      "execution_count": 15,
      "outputs": [
        {
          "output_type": "stream",
          "name": "stdout",
          "text": [
            "<class 'numpy.ndarray'>\n",
            "<U10\n",
            "['Tom' 'Jim' 'Adam']\n",
            "\n",
            "<class 'numpy.ndarray'>\n",
            "int32\n",
            "[178 183 175]\n",
            "\n",
            "<class 'numpy.ndarray'>\n",
            "float32\n",
            "[98.5 79.5 82.8]\n",
            "\n",
            "------------------------------\n",
            "<class 'numpy.void'>\n",
            "[('name', '<U10'), ('height', '<i4'), ('weight', '<f4')]\n",
            "('Tom', 178, 98.5)\n",
            "\n",
            "<class 'numpy.void'>\n",
            "[('name', '<U10'), ('height', '<i4'), ('weight', '<f4')]\n",
            "('Jim', 183, 79.5)\n",
            "\n",
            "<class 'numpy.void'>\n",
            "[('name', '<U10'), ('height', '<i4'), ('weight', '<f4')]\n",
            "('Adam', 175, 82.8)\n",
            "\n",
            "------------------------------\n",
            "(3,) (48,) ('Tom', 178, 98.5)\n"
          ]
        }
      ]
    },
    {
      "cell_type": "markdown",
      "metadata": {
        "id": "fd3KaKnjRuPx"
      },
      "source": [
        "#####2) np.arange 사용"
      ]
    },
    {
      "cell_type": "code",
      "metadata": {
        "id": "BXykk-bv2vpx",
        "outputId": "3717244b-19d6-4094-f022-d480fb0d706f",
        "colab": {
          "base_uri": "https://localhost:8080/"
        }
      },
      "source": [
        "# np.arange(stop:number, dtype=None), np.arnage(start, stop), np.arange(start, stop, step)\n",
        "a = np.arange(5)\n",
        "b = np.arange(1, 10, 2)\n",
        "c = np.arange(1, 2, 0.1)\n",
        "printary(a, b, c)"
      ],
      "execution_count": 16,
      "outputs": [
        {
          "output_type": "stream",
          "name": "stdout",
          "text": [
            "<class 'numpy.ndarray'>\n",
            "int64\n",
            "[0 1 2 3 4]\n",
            "\n",
            "<class 'numpy.ndarray'>\n",
            "int64\n",
            "[1 3 5 7 9]\n",
            "\n",
            "<class 'numpy.ndarray'>\n",
            "float64\n",
            "[1.  1.1 1.2 1.3 1.4 1.5 1.6 1.7 1.8 1.9]\n",
            "\n",
            "------------------------------\n"
          ]
        }
      ]
    },
    {
      "cell_type": "code",
      "metadata": {
        "id": "Ja3Vmvp7XRKE",
        "colab": {
          "base_uri": "https://localhost:8080/"
        },
        "outputId": "553afb64-b96d-48fd-ee28-2ef5d4b8512d"
      },
      "source": [
        "#그래프 그릴때 축설정으로 사용 예\n",
        "import matplotlib.pyplot as plt\n",
        "x = np.arange(0, 10, 0.1)\n",
        "y = np.sin(x)\n",
        "print(x)\n",
        "print(y)\n",
        "plt.plot(x, y)\n",
        "plt.show()"
      ],
      "execution_count": 17,
      "outputs": [
        {
          "output_type": "stream",
          "name": "stdout",
          "text": [
            "[0.  0.1 0.2 0.3 0.4 0.5 0.6 0.7 0.8 0.9 1.  1.1 1.2 1.3 1.4 1.5 1.6 1.7\n",
            " 1.8 1.9 2.  2.1 2.2 2.3 2.4 2.5 2.6 2.7 2.8 2.9 3.  3.1 3.2 3.3 3.4 3.5\n",
            " 3.6 3.7 3.8 3.9 4.  4.1 4.2 4.3 4.4 4.5 4.6 4.7 4.8 4.9 5.  5.1 5.2 5.3\n",
            " 5.4 5.5 5.6 5.7 5.8 5.9 6.  6.1 6.2 6.3 6.4 6.5 6.6 6.7 6.8 6.9 7.  7.1\n",
            " 7.2 7.3 7.4 7.5 7.6 7.7 7.8 7.9 8.  8.1 8.2 8.3 8.4 8.5 8.6 8.7 8.8 8.9\n",
            " 9.  9.1 9.2 9.3 9.4 9.5 9.6 9.7 9.8 9.9]\n",
            "[ 0.          0.09983342  0.19866933  0.29552021  0.38941834  0.47942554\n",
            "  0.56464247  0.64421769  0.71735609  0.78332691  0.84147098  0.89120736\n",
            "  0.93203909  0.96355819  0.98544973  0.99749499  0.9995736   0.99166481\n",
            "  0.97384763  0.94630009  0.90929743  0.86320937  0.8084964   0.74570521\n",
            "  0.67546318  0.59847214  0.51550137  0.42737988  0.33498815  0.23924933\n",
            "  0.14112001  0.04158066 -0.05837414 -0.15774569 -0.2555411  -0.35078323\n",
            " -0.44252044 -0.52983614 -0.61185789 -0.68776616 -0.7568025  -0.81827711\n",
            " -0.87157577 -0.91616594 -0.95160207 -0.97753012 -0.993691   -0.99992326\n",
            " -0.99616461 -0.98245261 -0.95892427 -0.92581468 -0.88345466 -0.83226744\n",
            " -0.77276449 -0.70554033 -0.63126664 -0.55068554 -0.46460218 -0.37387666\n",
            " -0.2794155  -0.1821625  -0.0830894   0.0168139   0.1165492   0.21511999\n",
            "  0.31154136  0.40484992  0.49411335  0.57843976  0.6569866   0.72896904\n",
            "  0.79366786  0.85043662  0.8987081   0.93799998  0.96791967  0.98816823\n",
            "  0.99854335  0.99894134  0.98935825  0.96988981  0.94073056  0.90217183\n",
            "  0.85459891  0.79848711  0.7343971   0.66296923  0.58491719  0.50102086\n",
            "  0.41211849  0.31909836  0.22288991  0.12445442  0.02477543 -0.07515112\n",
            " -0.17432678 -0.27176063 -0.36647913 -0.45753589]\n"
          ]
        },
        {
          "output_type": "display_data",
          "data": {
            "text/plain": [
              "<Figure size 640x480 with 1 Axes>"
            ],
            "image/png": "[encoded data removed]"
          },
          "metadata": {}
        }
      ]
    },
    {
      "cell_type": "code",
      "metadata": {
        "id": "VffWhSum7NdP",
        "colab": {
          "base_uri": "https://localhost:8080/"
        },
        "outputId": "fae739b9-ef78-4736-b3db-05ab1e9dd6b3"
      },
      "source": [
        "# 1개 값도 array_like 이다\n",
        "x = np.array(1)\n",
        "print(x, type(x))"
      ],
      "execution_count": 18,
      "outputs": [
        {
          "output_type": "stream",
          "name": "stdout",
          "text": [
            "1 <class 'numpy.ndarray'>\n"
          ]
        }
      ]
    },
    {
      "cell_type": "markdown",
      "metadata": {
        "id": "izOR5P5FRzoq"
      },
      "source": [
        "#####3) np.linspace 사용"
      ]
    },
    {
      "cell_type": "code",
      "metadata": {
        "id": "SomZfC8i2v4t",
        "colab": {
          "base_uri": "https://localhost:8080/"
        },
        "outputId": "baa31a9a-1c25-4504-c049-ba34b4a81db3"
      },
      "source": [
        "# np.linspace(start:array_like, stop, num=50, endpoint=True, retstep=False, dtype=None)\n",
        "a = np.linspace(1, 5, 9)\n",
        "b = np.linspace(1, 5, 10, endpoint=False)\n",
        "c = np.linspace(1, 5, 9, retstep=True)\n",
        "print(a, b, c, sep=\"\\n\")"
      ],
      "execution_count": 19,
      "outputs": [
        {
          "output_type": "stream",
          "name": "stdout",
          "text": [
            "[1.  1.5 2.  2.5 3.  3.5 4.  4.5 5. ]\n",
            "[1.  1.4 1.8 2.2 2.6 3.  3.4 3.8 4.2 4.6]\n",
            "(array([1. , 1.5, 2. , 2.5, 3. , 3.5, 4. , 4.5, 5. ]), 0.5)\n"
          ]
        }
      ]
    },
    {
      "cell_type": "code",
      "metadata": {
        "id": "iN3D9iNX7ff2",
        "colab": {
          "base_uri": "https://localhost:8080/"
        },
        "outputId": "bdabe08f-68ed-483f-e0b3-6b7edaeeea85"
      },
      "source": [
        "x = np.linspace([1, 2, 3], [2, 4, 6], num=5)\n",
        "print(x)"
      ],
      "execution_count": 20,
      "outputs": [
        {
          "output_type": "stream",
          "name": "stdout",
          "text": [
            "[[1.   2.   3.  ]\n",
            " [1.25 2.5  3.75]\n",
            " [1.5  3.   4.5 ]\n",
            " [1.75 3.5  5.25]\n",
            " [2.   4.   6.  ]]\n"
          ]
        }
      ]
    },
    {
      "cell_type": "code",
      "metadata": {
        "id": "xtwBbyt3YQGD",
        "colab": {
          "base_uri": "https://localhost:8080/"
        },
        "outputId": "9dea4c68-03e1-446c-e344-ee31ecbdbe4e"
      },
      "source": [
        "x = np.linspace(0, 10, 60)\n",
        "y = np.sin(x)\n",
        "plt.plot(x, y)\n",
        "plt.show()"
      ],
      "execution_count": 21,
      "outputs": [
        {
          "output_type": "display_data",
          "data": {
            "text/plain": [
              "<Figure size 640x480 with 1 Axes>"
            ],
            "image/png": "[encoded data removed]"
          },
          "metadata": {}
        }
      ]
    },
    {
      "cell_type": "markdown",
      "metadata": {
        "id": "9O5V_mLvRYut"
      },
      "source": [
        "#####4) random 사용"
      ]
    },
    {
      "cell_type": "code",
      "metadata": {
        "id": "NeEBTlxPJoXq"
      },
      "source": [
        "import numpy as np\n",
        "import matplotlib.pyplot as plt"
      ],
      "execution_count": 22,
      "outputs": []
    },
    {
      "cell_type": "code",
      "metadata": {
        "id": "E2KeXp0vNmKl"
      },
      "source": [
        "np.set_printoptions(threshold=999,\n",
        "                    suppress=True,\n",
        "                    precision=4,\n",
        "                    edgeitems=3)"
      ],
      "execution_count": 23,
      "outputs": []
    },
    {
      "cell_type": "code",
      "metadata": {
        "id": "elDSwjaDYz5h"
      },
      "source": [
        "def printary(*a):\n",
        "    for x in a :\n",
        "        print(f\"shape : {x.shape}\")\n",
        "        print(f\"array : %s{x} \" % ('' if x.ndim == 1 else '\\n'))\n",
        "        print(\"mean  : %.3f, std : %.3f\" % (x.mean(), x.std()))\n",
        "        print(\"-\" * 30)"
      ],
      "execution_count": 24,
      "outputs": []
    },
    {
      "cell_type": "code",
      "metadata": {
        "id": "a-XJWhgzJUXV"
      },
      "source": [
        "def showHist(x):\n",
        "  plt.hist(x)\n",
        "  plt.show()"
      ],
      "execution_count": 25,
      "outputs": []
    },
    {
      "cell_type": "code",
      "metadata": {
        "id": "V8bwah-tY3yn",
        "colab": {
          "base_uri": "https://localhost:8080/"
        },
        "outputId": "0d40a064-e3f2-4283-fdb3-ca7fce41e88d"
      },
      "source": [
        "# np.random.rand(d0, d1, ...,dn)\n",
        "# 0~1 사이의 균일 분포로 실수 난수 배열 생성\n",
        "# d0, d1, ..., dn : 배열의 shape을 의미하는 정수\n",
        "a = np.random.rand(5)\n",
        "b = np.random.rand(2, 2, 3)\n",
        "printary(a, b)"
      ],
      "execution_count": 26,
      "outputs": [
        {
          "output_type": "stream",
          "name": "stdout",
          "text": [
            "shape : (5,)\n",
            "array : [0.8981 0.9595 0.2063 0.6511 0.6699] \n",
            "mean  : 0.677, std : 0.265\n",
            "------------------------------\n",
            "shape : (2, 2, 3)\n",
            "array : \n",
            "[[[0.341  0.2207 0.6049]\n",
            "  [0.8661 0.3399 0.3684]]\n",
            "\n",
            " [[0.6415 0.8903 0.9452]\n",
            "  [0.8187 0.0106 0.7968]]] \n",
            "mean  : 0.570, std : 0.293\n",
            "------------------------------\n"
          ]
        }
      ]
    },
    {
      "cell_type": "code",
      "metadata": {
        "id": "JUZGLTYwKUOp",
        "colab": {
          "base_uri": "https://localhost:8080/"
        },
        "outputId": "590f2312-0bab-46a2-ea9c-b7d99acff2db"
      },
      "source": [
        "showHist(np.random.rand(5000))"
      ],
      "execution_count": 27,
      "outputs": [
        {
          "output_type": "display_data",
          "data": {
            "text/plain": [
              "<Figure size 640x480 with 1 Axes>"
            ],
            "image/png": "[encoded data removed]"
          },
          "metadata": {}
        }
      ]
    },
    {
      "cell_type": "code",
      "metadata": {
        "id": "ENjYBYktZAW6",
        "colab": {
          "base_uri": "https://localhost:8080/"
        },
        "outputId": "02ff0164-dfd1-4377-dc54-e6a173136075"
      },
      "source": [
        "# np.random.randint(e, size=n)\n",
        "# np.random.randint(s, e, size=n)\n",
        "# 0~e-1, s~e-1 범위의 값을 갖는 균일 분포의 정수 난수 생성\n",
        "# size : 정수(1차원), tuple(1차원 이상)로 shape 지정\n",
        "a = np.random.randint(10, size=(5,))\n",
        "b = np.random.randint(50, 100, (2,4))\n",
        "printary(a, b)"
      ],
      "execution_count": 28,
      "outputs": [
        {
          "output_type": "stream",
          "name": "stdout",
          "text": [
            "shape : (5,)\n",
            "array : [8 5 1 1 9] \n",
            "mean  : 4.800, std : 3.370\n",
            "------------------------------\n",
            "shape : (2, 4)\n",
            "array : \n",
            "[[70 88 67 61]\n",
            " [98 63 65 68]] \n",
            "mean  : 72.500, std : 12.379\n",
            "------------------------------\n"
          ]
        }
      ]
    },
    {
      "cell_type": "code",
      "metadata": {
        "id": "quiwa313KgQP",
        "colab": {
          "base_uri": "https://localhost:8080/"
        },
        "outputId": "b72adc2d-989f-4e6e-a4a5-5f8f1ef3c909"
      },
      "source": [
        "showHist(np.random.randint(10, size=5000))"
      ],
      "execution_count": 29,
      "outputs": [
        {
          "output_type": "display_data",
          "data": {
            "text/plain": [
              "<Figure size 640x480 with 1 Axes>"
            ],
            "image/png": "[encoded data removed]"
          },
          "metadata": {}
        }
      ]
    },
    {
      "cell_type": "code",
      "metadata": {
        "id": "CDtECsWcZAt5",
        "colab": {
          "base_uri": "https://localhost:8080/"
        },
        "outputId": "16e688a3-f47c-494a-f748-574d12ada196"
      },
      "source": [
        "# np.random.randn(d0, d1, ... dn)\n",
        "# 평균 0, 표준편차 1을 갖는 가우시안 표준 정규 분포로 난수 배열 생성(음수 포함)\n",
        "a = np.random.randn(5)\n",
        "b = np.random.randn(200, 50)\n",
        "printary(a, b)"
      ],
      "execution_count": 30,
      "outputs": [
        {
          "output_type": "stream",
          "name": "stdout",
          "text": [
            "shape : (5,)\n",
            "array : [-0.6068  0.5365  1.4976  0.9604 -0.0894] \n",
            "mean  : 0.460, std : 0.745\n",
            "------------------------------\n",
            "shape : (200, 50)\n",
            "array : \n",
            "[[-1.3823 -0.7323  0.8206 ... -0.2627 -0.2303  0.0727]\n",
            " [ 1.8495 -0.9873 -0.2029 ... -1.2539 -0.2254 -0.0043]\n",
            " [-1.1179 -0.0081 -1.3806 ...  1.5131  0.6363  0.2201]\n",
            " ...\n",
            " [ 0.5969  0.4883  0.2405 ... -2.2278 -0.0652  0.5983]\n",
            " [ 0.9335  1.4558  0.0866 ...  0.6662 -1.5947  1.4228]\n",
            " [ 0.6387  0.3215 -0.2828 ... -0.3689 -0.0913 -0.6094]] \n",
            "mean  : 0.004, std : 0.986\n",
            "------------------------------\n"
          ]
        }
      ]
    },
    {
      "cell_type": "code",
      "metadata": {
        "id": "jYacgdPSLx40",
        "colab": {
          "base_uri": "https://localhost:8080/"
        },
        "outputId": "1817ac88-f470-4d87-ed11-c3ee8ad260c9"
      },
      "source": [
        "showHist(np.random.randn(5000))"
      ],
      "execution_count": 31,
      "outputs": [
        {
          "output_type": "display_data",
          "data": {
            "text/plain": [
              "<Figure size 640x480 with 1 Axes>"
            ],
            "image/png": "[encoded data removed]"
          },
          "metadata": {}
        }
      ]
    },
    {
      "cell_type": "code",
      "metadata": {
        "id": "wygHi7PjZEvG",
        "colab": {
          "base_uri": "https://localhost:8080/"
        },
        "outputId": "aa773614-106a-445e-89c2-4c8fc88f47fe"
      },
      "source": [
        "# np.random.normal(평균, 표준편차, size)\n",
        "# 생략하면 평균=0, 표준편차=1, size=1이 됨\n",
        "a = np.random.normal(2, 3, (100, 20))\n",
        "printary(a)"
      ],
      "execution_count": 32,
      "outputs": [
        {
          "output_type": "stream",
          "name": "stdout",
          "text": [
            "shape : (100, 20)\n",
            "array : \n",
            "[[-2.5434  2.6024  1.3395 ...  0.1432  0.7169  2.9582]\n",
            " [-6.3787 -0.8013  3.5343 ...  3.5973  3.972   4.4499]\n",
            " [ 3.9812  1.5076  0.1837 ...  4.809   7.2117  8.8135]\n",
            " ...\n",
            " [ 6.427   6.8093  4.0745 ... -0.4703 -0.0507 -1.5627]\n",
            " [ 1.8998  2.5016 -3.5801 ...  1.6133  4.5788  3.5829]\n",
            " [ 0.8948 -0.0737  4.4898 ...  5.5413  5.6482  5.4425]] \n",
            "mean  : 1.942, std : 2.939\n",
            "------------------------------\n"
          ]
        }
      ]
    },
    {
      "cell_type": "code",
      "metadata": {
        "id": "dW9EHc4KMFHq",
        "colab": {
          "base_uri": "https://localhost:8080/"
        },
        "outputId": "8d39e415-8cbd-4599-a34c-14eb2d78afeb"
      },
      "source": [
        "showHist(np.random.normal(2, 1, (5000,)))"
      ],
      "execution_count": 33,
      "outputs": [
        {
          "output_type": "display_data",
          "data": {
            "text/plain": [
              "<Figure size 640x480 with 1 Axes>"
            ],
            "image/png": "[encoded data removed]"
          },
          "metadata": {}
        }
      ]
    },
    {
      "cell_type": "code",
      "metadata": {
        "id": "RlkVVwimZGPU",
        "colab": {
          "base_uri": "https://localhost:8080/"
        },
        "outputId": "a442f7a2-e90d-4c3c-9c28-4c0282500a19"
      },
      "source": [
        "#np.random.permutation(e) : 0 ~ e-1 값을 갖는 정수의 무작위 순서 1차원 배열 생성\n",
        "#np.random.permutation(c) : c 요소들에 대해 무작위 순서로 변경된 1차원 배열 생성\n",
        "# e : 정수, c : array_like 객체\n",
        "a = np.random.permutation(10)\n",
        "\n",
        "data = np.array([1,3,4,5,3,1,3])\n",
        "b = np.random.permutation(data)\n",
        "\n",
        "mylist = [[1,2,3],[4,5,6],[7,8,9],[3,2,1]]\n",
        "c = np.random.permutation(mylist)\n",
        "\n",
        "printary(a, b, c)"
      ],
      "execution_count": 34,
      "outputs": [
        {
          "output_type": "stream",
          "name": "stdout",
          "text": [
            "shape : (10,)\n",
            "array : [7 4 6 9 1 8 3 5 2 0] \n",
            "mean  : 4.500, std : 2.872\n",
            "------------------------------\n",
            "shape : (7,)\n",
            "array : [4 5 3 1 3 1 3] \n",
            "mean  : 2.857, std : 1.355\n",
            "------------------------------\n",
            "shape : (4, 3)\n",
            "array : \n",
            "[[1 2 3]\n",
            " [7 8 9]\n",
            " [4 5 6]\n",
            " [3 2 1]] \n",
            "mean  : 4.250, std : 2.618\n",
            "------------------------------\n"
          ]
        }
      ]
    },
    {
      "cell_type": "markdown",
      "metadata": {
        "id": "N5wKSDBISP9s"
      },
      "source": [
        "#####5) 특정값으로 채워진 ndarray생성"
      ]
    },
    {
      "cell_type": "code",
      "metadata": {
        "id": "go9HTvACVz0o"
      },
      "source": [
        "import numpy as np"
      ],
      "execution_count": 35,
      "outputs": []
    },
    {
      "cell_type": "code",
      "metadata": {
        "id": "giV_NupJM07F"
      },
      "source": [
        "def printary(*a):\n",
        "    for x in a:\n",
        "        print(f'{x.dtype}\\n{x}')\n",
        "    print(\"-\" * 30)"
      ],
      "execution_count": 36,
      "outputs": []
    },
    {
      "cell_type": "code",
      "metadata": {
        "id": "UDOFqOp2M20K"
      },
      "source": [
        "mshape = (2, 3)"
      ],
      "execution_count": 37,
      "outputs": []
    },
    {
      "cell_type": "code",
      "metadata": {
        "id": "V-FFUiygW80K",
        "colab": {
          "base_uri": "https://localhost:8080/"
        },
        "outputId": "f965c966-783e-4c72-eea5-11b6e7c86dce"
      },
      "source": [
        "#np.zeros(shape, dtype=float64)\n",
        "#shape: 정수(1차원), tuple(1차원 이상)\n",
        "a = np.zeros(10, dtype = np.int32)\n",
        "b = np.zeros(mshape)\n",
        "printary(a, b)"
      ],
      "execution_count": 38,
      "outputs": [
        {
          "output_type": "stream",
          "name": "stdout",
          "text": [
            "int32\n",
            "[0 0 0 0 0 0 0 0 0 0]\n",
            "float64\n",
            "[[0. 0. 0.]\n",
            " [0. 0. 0.]]\n",
            "------------------------------\n"
          ]
        }
      ]
    },
    {
      "cell_type": "code",
      "metadata": {
        "id": "JVQ-9uQ8NBiC",
        "colab": {
          "base_uri": "https://localhost:8080/"
        },
        "outputId": "66b06e51-1f2f-4b98-c5a3-c4b9bf8d7f88"
      },
      "source": [
        "#np.empty(shape, dtype=float64)\n",
        "a = np.empty(10, dtype=np.int32)\n",
        "b = np.empty(mshape)\n",
        "printary(a, b)"
      ],
      "execution_count": 39,
      "outputs": [
        {
          "output_type": "stream",
          "name": "stdout",
          "text": [
            "int32\n",
            "[         0 1072693248          0 1073741824          0 1074003968\n",
            "          0 1075052544          0 1076101120]\n",
            "float64\n",
            "[[0. 0. 0.]\n",
            " [0. 0. 0.]]\n",
            "------------------------------\n"
          ]
        }
      ]
    },
    {
      "cell_type": "code",
      "metadata": {
        "id": "N6hR3FHBND2r",
        "colab": {
          "base_uri": "https://localhost:8080/"
        },
        "outputId": "72046859-3271-4948-e1ab-6c12de4ffe01"
      },
      "source": [
        "#np.ones(shape,dtype=float64)\n",
        "#np.full(shape, value, dtype=None)\n",
        "a = np.ones(mshape)\n",
        "b = np.full(mshape, 5)\n",
        "printary(a, b)"
      ],
      "execution_count": 40,
      "outputs": [
        {
          "output_type": "stream",
          "name": "stdout",
          "text": [
            "float64\n",
            "[[1. 1. 1.]\n",
            " [1. 1. 1.]]\n",
            "int64\n",
            "[[5 5 5]\n",
            " [5 5 5]]\n",
            "------------------------------\n"
          ]
        }
      ]
    },
    {
      "cell_type": "code",
      "metadata": {
        "id": "DofBjBf_V6yg",
        "colab": {
          "base_uri": "https://localhost:8080/"
        },
        "outputId": "56d7bc45-d4cf-4e37-fa9f-720da3df06be"
      },
      "source": [
        "#np.eye(N, M=None, k=0, dtype=float64)\n",
        "a = np.eye(3)\n",
        "b = np.eye(3, 5, 2)\n",
        "c = np.eye(3, 5, -1)\n",
        "printary(a, b, c)"
      ],
      "execution_count": 41,
      "outputs": [
        {
          "output_type": "stream",
          "name": "stdout",
          "text": [
            "float64\n",
            "[[1. 0. 0.]\n",
            " [0. 1. 0.]\n",
            " [0. 0. 1.]]\n",
            "float64\n",
            "[[0. 0. 1. 0. 0.]\n",
            " [0. 0. 0. 1. 0.]\n",
            " [0. 0. 0. 0. 1.]]\n",
            "float64\n",
            "[[0. 0. 0. 0. 0.]\n",
            " [1. 0. 0. 0. 0.]\n",
            " [0. 1. 0. 0. 0.]]\n",
            "------------------------------\n"
          ]
        }
      ]
    },
    {
      "cell_type": "code",
      "metadata": {
        "id": "15p7gou2NHYX",
        "colab": {
          "base_uri": "https://localhost:8080/"
        },
        "outputId": "468b80ce-69d6-48d2-d600-b250f16b8245"
      },
      "source": [
        "#np.zeros_like(array_like, dtype=None)\n",
        "a = np.zeros_like([1,2,3])\n",
        "b = np.empty_like([1,2,3])\n",
        "printary(a, b)"
      ],
      "execution_count": 42,
      "outputs": [
        {
          "output_type": "stream",
          "name": "stdout",
          "text": [
            "int64\n",
            "[0 0 0]\n",
            "int64\n",
            "[4611686018427387904 4616189618054758400 4618441417868443648]\n",
            "------------------------------\n"
          ]
        }
      ]
    },
    {
      "cell_type": "code",
      "metadata": {
        "id": "nYL2G9CyWb4C",
        "colab": {
          "base_uri": "https://localhost:8080/"
        },
        "outputId": "4fba9621-81ee-4e31-8442-e14eb4b41705"
      },
      "source": [
        "a = np.ones_like([[1,2,3],[4,5,6]], dtype=np.float32)\n",
        "b = np.full_like(np.arange(5), 5)\n",
        "printary(a, b)"
      ],
      "execution_count": 43,
      "outputs": [
        {
          "output_type": "stream",
          "name": "stdout",
          "text": [
            "float32\n",
            "[[1. 1. 1.]\n",
            " [1. 1. 1.]]\n",
            "int64\n",
            "[5 5 5 5 5]\n",
            "------------------------------\n"
          ]
        }
      ]
    },
    {
      "cell_type": "markdown",
      "source": [],
      "metadata": {
        "id": "z3bwL2qr_20a"
      }
    },
    {
      "cell_type": "markdown",
      "metadata": {
        "id": "HDM07aLpZ0QY"
      },
      "source": [
        "###4.view or copy"
      ]
    },
    {
      "cell_type": "code",
      "metadata": {
        "id": "pMXJUkFkaPf2"
      },
      "source": [
        "def npinfo(n, a, x):\n",
        "    print(\"name    :\", n)\n",
        "    print(\"share   :\", np.may_share_memory(a, x) )\n",
        "    print(\"data    :\", x.tolist())\n",
        "    print(\"ndim    :\", x.ndim)\n",
        "    print(\"shape   :\", x.shape)\n",
        "    print(\"dtype   :\", x.dtype)\n",
        "    print(\"-\" * 30)"
      ],
      "execution_count": 75,
      "outputs": []
    },
    {
      "cell_type": "code",
      "metadata": {
        "id": "WkEdtd79abHO",
        "colab": {
          "base_uri": "https://localhost:8080/"
        },
        "outputId": "b0b0a261-43d6-4922-ece0-e27c45fc5380"
      },
      "source": [
        "# copy\n",
        "a = np.array([[True, True], [False, False]], dtype=np.bool)\n",
        "b = a.copy()\n",
        "b[0, 0] = False  # 0 also can use\n",
        "npinfo(\"original\", a, a)\n",
        "npinfo(\"copy\", a, b)"
      ],
      "execution_count": 76,
      "outputs": [
        {
          "output_type": "stream",
          "name": "stdout",
          "text": [
            "name    : original\n",
            "share   : True\n",
            "data    : [[True, True], [False, False]]\n",
            "ndim    : 2\n",
            "shape   : (2, 2)\n",
            "dtype   : bool\n",
            "------------------------------\n",
            "name    : copy\n",
            "share   : False\n",
            "data    : [[False, True], [False, False]]\n",
            "ndim    : 2\n",
            "shape   : (2, 2)\n",
            "dtype   : bool\n",
            "------------------------------\n"
          ]
        },
        {
          "output_type": "stream",
          "name": "stderr",
          "text": [
            "<ipython-input-76-a38e532c143c>:2: DeprecationWarning: `np.bool` is a deprecated alias for the builtin `bool`. To silence this warning, use `bool` by itself. Doing this will not modify any behavior and is safe. If you specifically wanted the numpy scalar type, use `np.bool_` here.\n",
            "Deprecated in NumPy 1.20; for more details and guidance: https://numpy.org/devdocs/release/1.20.0-notes.html#deprecations\n",
            "  a = np.array([[True, True], [False, False]], dtype=np.bool)\n"
          ]
        }
      ]
    },
    {
      "cell_type": "code",
      "metadata": {
        "id": "ek_KJjLDabUn",
        "colab": {
          "base_uri": "https://localhost:8080/"
        },
        "outputId": "89a0ab3a-f199-4b0e-d7ad-45fbfe88bcf8"
      },
      "source": [
        "# view\n",
        "a = np.array([[True, True], [False, False]], dtype=np.bool)\n",
        "b = a.view(np.bool)\n",
        "b[0, 0] = 0\n",
        "npinfo(\"original\", a, a)\n",
        "npinfo(\"view\", a, b)"
      ],
      "execution_count": 77,
      "outputs": [
        {
          "output_type": "stream",
          "name": "stdout",
          "text": [
            "name    : original\n",
            "share   : True\n",
            "data    : [[False, True], [False, False]]\n",
            "ndim    : 2\n",
            "shape   : (2, 2)\n",
            "dtype   : bool\n",
            "------------------------------\n",
            "name    : view\n",
            "share   : True\n",
            "data    : [[False, True], [False, False]]\n",
            "ndim    : 2\n",
            "shape   : (2, 2)\n",
            "dtype   : bool\n",
            "------------------------------\n"
          ]
        },
        {
          "output_type": "stream",
          "name": "stderr",
          "text": [
            "<ipython-input-77-9a99409e6f5e>:2: DeprecationWarning: `np.bool` is a deprecated alias for the builtin `bool`. To silence this warning, use `bool` by itself. Doing this will not modify any behavior and is safe. If you specifically wanted the numpy scalar type, use `np.bool_` here.\n",
            "Deprecated in NumPy 1.20; for more details and guidance: https://numpy.org/devdocs/release/1.20.0-notes.html#deprecations\n",
            "  a = np.array([[True, True], [False, False]], dtype=np.bool)\n",
            "<ipython-input-77-9a99409e6f5e>:3: DeprecationWarning: `np.bool` is a deprecated alias for the builtin `bool`. To silence this warning, use `bool` by itself. Doing this will not modify any behavior and is safe. If you specifically wanted the numpy scalar type, use `np.bool_` here.\n",
            "Deprecated in NumPy 1.20; for more details and guidance: https://numpy.org/devdocs/release/1.20.0-notes.html#deprecations\n",
            "  b = a.view(np.bool)\n"
          ]
        }
      ]
    },
    {
      "cell_type": "markdown",
      "metadata": {
        "id": "9KmFk1z7bK2q"
      },
      "source": [
        "###5.ndarray 변환 (reshape, flatten)"
      ]
    },
    {
      "cell_type": "code",
      "metadata": {
        "id": "zgGKTwcGbS3R"
      },
      "source": [
        "import sys\n",
        "def npinfo(n, a, x):\n",
        "    print(\"name   :\", n)\n",
        "    print(\"share  :\", np.may_share_memory(a, x))\n",
        "    print(\"data   :\", x.tolist())\n",
        "    print(\"shape  :\", x.shape)\n",
        "    print(\"dtype  :\", x.dtype)\n",
        "    print(\"stride :\", x.strides)\n",
        "    print(\"addr   :\", x.__array_interface__['data'][0])\n",
        "    print(\"sizeof :\", sys.getsizeof(x))\n",
        "    print(\"-\" * 30)"
      ],
      "execution_count": 78,
      "outputs": []
    },
    {
      "cell_type": "code",
      "metadata": {
        "id": "FuKowQEnbaD1",
        "colab": {
          "base_uri": "https://localhost:8080/"
        },
        "outputId": "2e6c38ab-9981-413a-d0ed-e33002d9e161"
      },
      "source": [
        "#np.reshape(a, newshape: int or tuple or ints, order='C')\n",
        "#arr.reshape(newshape: int or tuple or ints, order='C')\n",
        "a = np.array([[1,2,3],[4,5,6]]) #2행 3열\n",
        "b = a.reshape(1, -1) # (1,6) 행 / 열의 갯수 6을 잘못입력하면 에러나니까 -1로 하면 max 자동계산함\n",
        "npinfo(\"a.reshape(1, -1)\", a, b)"
      ],
      "execution_count": 84,
      "outputs": [
        {
          "output_type": "stream",
          "name": "stdout",
          "text": [
            "name   : a.reshape(1, -1)\n",
            "share  : True\n",
            "data   : [[1, 2, 3, 4, 5, 6]]\n",
            "shape  : (1, 6)\n",
            "dtype  : int64\n",
            "stride : (48, 8)\n",
            "addr   : 95931799319888\n",
            "sizeof : 128\n",
            "------------------------------\n"
          ]
        }
      ]
    },
    {
      "cell_type": "code",
      "metadata": {
        "id": "9C5cNwsBgG-a",
        "colab": {
          "base_uri": "https://localhost:8080/"
        },
        "outputId": "23678c9e-b907-42a3-fde0-01f2562f3fbd"
      },
      "source": [
        "b = a.reshape(-1)\n",
        "# b[0] = 100\n",
        "npinfo(\"a.reshape(-1)\", a, b)\n",
        "# a.tolist(), b.tolist()"
      ],
      "execution_count": 49,
      "outputs": [
        {
          "output_type": "stream",
          "name": "stdout",
          "text": [
            "name   : a.reshape(-1)\n",
            "share  : True\n",
            "data   : [1, 2, 3, 4, 5, 6]\n",
            "shape  : (6,)\n",
            "dtype  : int64\n",
            "stride : (8,)\n",
            "addr   : 95931803372752\n",
            "sizeof : 112\n",
            "------------------------------\n"
          ]
        }
      ]
    },
    {
      "cell_type": "code",
      "metadata": {
        "id": "lYYJy0iUgV46",
        "colab": {
          "base_uri": "https://localhost:8080/"
        },
        "outputId": "afb03897-fdfc-4578-b331-afdef58f72ba"
      },
      "source": [
        "b = a.reshape(-1, 1)\n",
        "npinfo(\"a.reshape(-1, 1)\", a, b)"
      ],
      "execution_count": 50,
      "outputs": [
        {
          "output_type": "stream",
          "name": "stdout",
          "text": [
            "name   : a.reshape(-1, 1)\n",
            "share  : True\n",
            "data   : [[1], [2], [3], [4], [5], [6]]\n",
            "shape  : (6, 1)\n",
            "dtype  : int64\n",
            "stride : (8, 8)\n",
            "addr   : 95931803372752\n",
            "sizeof : 128\n",
            "------------------------------\n"
          ]
        }
      ]
    },
    {
      "cell_type": "code",
      "metadata": {
        "id": "__d4C9AsgD8i",
        "colab": {
          "base_uri": "https://localhost:8080/"
        },
        "outputId": "3a78c187-e239-4414-fa37-08687b4b2d24"
      },
      "source": [
        "b = a.reshape(-1, 1, order='F')\n",
        "npinfo(\"a.reshape(-1, 1, order='F')\", a, b)"
      ],
      "execution_count": 51,
      "outputs": [
        {
          "output_type": "stream",
          "name": "stdout",
          "text": [
            "name   : a.reshape(-1, 1, order='F')\n",
            "share  : False\n",
            "data   : [[1], [4], [2], [5], [3], [6]]\n",
            "shape  : (6, 1)\n",
            "dtype  : int64\n",
            "stride : (8, 48)\n",
            "addr   : 95931799319888\n",
            "sizeof : 128\n",
            "------------------------------\n"
          ]
        }
      ]
    },
    {
      "cell_type": "code",
      "metadata": {
        "id": "9zqDDVlOmy71",
        "colab": {
          "base_uri": "https://localhost:8080/"
        },
        "outputId": "66d73458-8d1b-46a5-8896-54f1e5aed5ce"
      },
      "source": [
        "a = np.array([[1,2,3], [4, 5, 6]], dtype=np.int32)\n",
        "print(a)"
      ],
      "execution_count": 52,
      "outputs": [
        {
          "output_type": "stream",
          "name": "stdout",
          "text": [
            "[[1 2 3]\n",
            " [4 5 6]]\n"
          ]
        }
      ]
    },
    {
      "cell_type": "code",
      "metadata": {
        "id": "GLsPy4mtglYe",
        "colab": {
          "base_uri": "https://localhost:8080/"
        },
        "outputId": "c8be06a8-b0b3-4670-833c-5bd9e5ef538f"
      },
      "source": [
        "b = a.flatten()\n",
        "b[0] = 100\n",
        "npinfo(\"a.flatten()\", a, b)\n",
        "a.tolist(), b.tolist()"
      ],
      "execution_count": 53,
      "outputs": [
        {
          "output_type": "stream",
          "name": "stdout",
          "text": [
            "name   : a.flatten()\n",
            "share  : False\n",
            "data   : [100, 2, 3, 4, 5, 6]\n",
            "shape  : (6,)\n",
            "dtype  : int32\n",
            "stride : (4,)\n",
            "addr   : 95931790647728\n",
            "sizeof : 136\n",
            "------------------------------\n"
          ]
        },
        {
          "output_type": "execute_result",
          "data": {
            "text/plain": [
              "([[1, 2, 3], [4, 5, 6]], [100, 2, 3, 4, 5, 6])"
            ]
          },
          "metadata": {},
          "execution_count": 53
        }
      ]
    },
    {
      "cell_type": "code",
      "metadata": {
        "id": "41sZIwcRbaQq",
        "colab": {
          "base_uri": "https://localhost:8080/"
        },
        "outputId": "712fe9ad-cc0c-4211-9850-b2cf8bc39199"
      },
      "source": [
        "a = np.array([[1,2,3],[4,5,6]])\n",
        "b = a.astype(np.int32)\n",
        "npinfo(\"a.astype(np.int32)\", a, b)"
      ],
      "execution_count": 54,
      "outputs": [
        {
          "output_type": "stream",
          "name": "stdout",
          "text": [
            "name   : a.astype(np.int32)\n",
            "share  : False\n",
            "data   : [[1, 2, 3], [4, 5, 6]]\n",
            "shape  : (2, 3)\n",
            "dtype  : int32\n",
            "stride : (12, 4)\n",
            "addr   : 95931791525888\n",
            "sizeof : 152\n",
            "------------------------------\n"
          ]
        }
      ]
    },
    {
      "cell_type": "markdown",
      "metadata": {
        "id": "2n6eI33UErrP"
      },
      "source": [
        "### 6.ndarray의 연산"
      ]
    },
    {
      "cell_type": "markdown",
      "metadata": {
        "id": "rncb5OyWbKyj"
      },
      "source": [
        "#### 1) ndarray 산술연산"
      ]
    },
    {
      "cell_type": "code",
      "metadata": {
        "id": "xJhvY3vAr4xK"
      },
      "source": [
        "import numpy as np"
      ],
      "execution_count": 59,
      "outputs": []
    },
    {
      "cell_type": "code",
      "metadata": {
        "id": "Y97R6B34b5E4",
        "colab": {
          "base_uri": "https://localhost:8080/"
        },
        "outputId": "9f1d516b-9773-4d9a-bb55-714b958b5184"
      },
      "source": [
        "#element-wise 방식으로 연산이 이루어짐\n",
        "a = np.array( range(1, 7) )\n",
        "b = np.array( range(7, 13) )\n",
        "print('a =', a)\n",
        "print('b =', b)\n",
        "print('a +  b =', a + b)\n",
        "print('b -  a =', b - a)\n",
        "print('a *  b =', a * b)\n",
        "print('b /  a =', b / a)\n",
        "print('b // a =', b // a)\n",
        "print('b %  a =', b % a)\n",
        "print('a +  2 =', a + 2)\n",
        "print('b -  1 =', b - 1)"
      ],
      "execution_count": 60,
      "outputs": [
        {
          "output_type": "stream",
          "name": "stdout",
          "text": [
            "a = [1 2 3 4 5 6]\n",
            "b = [ 7  8  9 10 11 12]\n",
            "a +  b = [ 8 10 12 14 16 18]\n",
            "b -  a = [6 6 6 6 6 6]\n",
            "a *  b = [ 7 16 27 40 55 72]\n",
            "b /  a = [7.  4.  3.  2.5 2.2 2. ]\n",
            "b // a = [7 4 3 2 2 2]\n",
            "b %  a = [0 0 0 2 1 0]\n",
            "a +  2 = [3 4 5 6 7 8]\n",
            "b -  1 = [ 6  7  8  9 10 11]\n"
          ]
        }
      ]
    },
    {
      "cell_type": "code",
      "metadata": {
        "id": "0Fby-36PcqHj",
        "colab": {
          "base_uri": "https://localhost:8080/"
        },
        "outputId": "a422d22c-889d-40b7-fe10-5fc0ac0e337e"
      },
      "source": [
        "# to_list()를 사용하여 list로 변환\n",
        "a = np.array(range(1, 7)).reshape(2,3)\n",
        "b = np.array(range(7, 13)).reshape(2,3)\n",
        "print(a)\n",
        "print(type(a.tolist()))\n",
        "print('a =', a.tolist())\n",
        "print('b =', b.tolist())\n",
        "print('a + b =', (a + b).tolist())\n",
        "print('a * b =', (a * b).tolist())"
      ],
      "execution_count": 61,
      "outputs": [
        {
          "output_type": "stream",
          "name": "stdout",
          "text": [
            "[[1 2 3]\n",
            " [4 5 6]]\n",
            "<class 'list'>\n",
            "a = [[1, 2, 3], [4, 5, 6]]\n",
            "b = [[7, 8, 9], [10, 11, 12]]\n",
            "a + b = [[8, 10, 12], [14, 16, 18]]\n",
            "a * b = [[7, 16, 27], [40, 55, 72]]\n"
          ]
        }
      ]
    },
    {
      "cell_type": "code",
      "metadata": {
        "id": "oqOIqJHNcThO"
      },
      "source": [
        "# # element-wise 성립하지 않음 (broadcasting안됨)\n",
        "# a = np.array( [1, 3, 5] )\n",
        "# c = np.array( [7, 9] )\n",
        "# print('a + c =', a + c)"
      ],
      "execution_count": 62,
      "outputs": []
    },
    {
      "cell_type": "markdown",
      "metadata": {
        "id": "U25cgbTwco-C"
      },
      "source": [
        "#### 2) ndarray broadcasting\n",
        "- broadcasting 이란?\n",
        "- element-wise가 성립하지 않는 경우 두 배열의 크기를 동일하게 만들어 연산가능하도록 하는 것  \n"
      ]
    },
    {
      "cell_type": "code",
      "metadata": {
        "id": "kRUYezcZdQ-r"
      },
      "source": [
        "def printary(m, *a):\n",
        "    print(m)\n",
        "    for x in a:\n",
        "        print(x.shape)\n",
        "        print(x.tolist())"
      ],
      "execution_count": 63,
      "outputs": []
    },
    {
      "cell_type": "code",
      "metadata": {
        "id": "9sRnJPvNdE9j",
        "colab": {
          "base_uri": "https://localhost:8080/"
        },
        "outputId": "6fb5980e-9745-4657-e29f-79a985b4a8e9"
      },
      "source": [
        "a=np.array([[1, 1, 1], [1, 1, 1]])\n",
        "b=np.array([[1, 1, 1], [2, 2, 2]])\n",
        "c=np.array([[1],[2],[3]])\n",
        "d=np.array([3, 3, 3])\n",
        "print(a.shape, b.shape, c.shape, d.shape)"
      ],
      "execution_count": 64,
      "outputs": [
        {
          "output_type": "stream",
          "name": "stdout",
          "text": [
            "(2, 3) (2, 3) (3, 1) (3,)\n"
          ]
        }
      ]
    },
    {
      "cell_type": "code",
      "metadata": {
        "id": "DHtZTnzP1VWA",
        "outputId": "e0dafbaf-2e3e-4770-f71f-080ca66569f2",
        "colab": {
          "base_uri": "https://localhost:8080/"
        }
      },
      "source": [
        "printary(\"a+b\", a, b, a+b)"
      ],
      "execution_count": 65,
      "outputs": [
        {
          "output_type": "stream",
          "name": "stdout",
          "text": [
            "a+b\n",
            "(2, 3)\n",
            "[[1, 1, 1], [1, 1, 1]]\n",
            "(2, 3)\n",
            "[[1, 1, 1], [2, 2, 2]]\n",
            "(2, 3)\n",
            "[[2, 2, 2], [3, 3, 3]]\n"
          ]
        }
      ]
    },
    {
      "cell_type": "code",
      "metadata": {
        "id": "6PMwuRomyMGw",
        "outputId": "5730fe37-a425-4ac2-99a6-98c6d8df233d",
        "colab": {
          "base_uri": "https://localhost:8080/"
        }
      },
      "source": [
        "printary(\"a+d\", a, d, a+d)"
      ],
      "execution_count": 66,
      "outputs": [
        {
          "output_type": "stream",
          "name": "stdout",
          "text": [
            "a+d\n",
            "(2, 3)\n",
            "[[1, 1, 1], [1, 1, 1]]\n",
            "(3,)\n",
            "[3, 3, 3]\n",
            "(2, 3)\n",
            "[[4, 4, 4], [4, 4, 4]]\n"
          ]
        }
      ]
    },
    {
      "cell_type": "code",
      "metadata": {
        "id": "mrX4qr92yOKh",
        "outputId": "1e3267be-4d5e-41a0-fc9e-67a0e07cca09",
        "colab": {
          "base_uri": "https://localhost:8080/"
        }
      },
      "source": [
        "printary(\"b+4\", b, b+4)"
      ],
      "execution_count": 67,
      "outputs": [
        {
          "output_type": "stream",
          "name": "stdout",
          "text": [
            "b+4\n",
            "(2, 3)\n",
            "[[1, 1, 1], [2, 2, 2]]\n",
            "(2, 3)\n",
            "[[5, 5, 5], [6, 6, 6]]\n"
          ]
        }
      ]
    },
    {
      "cell_type": "code",
      "metadata": {
        "id": "RQQB4oV0yPZw",
        "outputId": "90889200-05e6-4598-d1f5-14144b4ff911",
        "colab": {
          "base_uri": "https://localhost:8080/"
        }
      },
      "source": [
        "printary(\"c+d\", c, d, c+d)"
      ],
      "execution_count": 68,
      "outputs": [
        {
          "output_type": "stream",
          "name": "stdout",
          "text": [
            "c+d\n",
            "(3, 1)\n",
            "[[1], [2], [3]]\n",
            "(3,)\n",
            "[3, 3, 3]\n",
            "(3, 3)\n",
            "[[4, 4, 4], [5, 5, 5], [6, 6, 6]]\n"
          ]
        }
      ]
    },
    {
      "cell_type": "markdown",
      "metadata": {
        "id": "A6NNlRJgdDT4"
      },
      "source": [
        "#### 3) ndarray 비교연산\n",
        "- ==, !=, >, <, >=, <= : 결과 True/False\n",
        "- element-wise 방식 (필요시 broadcasting)"
      ]
    },
    {
      "cell_type": "markdown",
      "metadata": {
        "id": "Smy63qRa2hLz"
      },
      "source": [
        "##### 다음의 연산 결과의 shape을 예측해 보세요!"
      ]
    },
    {
      "cell_type": "code",
      "metadata": {
        "id": "JC2rNffmeTLd",
        "colab": {
          "base_uri": "https://localhost:8080/"
        },
        "outputId": "0801eba3-76a6-4e77-b5c3-c7e7ccf2d439"
      },
      "source": [
        "a = np.array([[1],[2],[3],[4],[5]])  # (5, 1)\n",
        "b = np.array([1, 2, 3])              # (3,)\n",
        "c = a + b\n",
        "print(a.shape, b.shape, c.shape)"
      ],
      "execution_count": 69,
      "outputs": [
        {
          "output_type": "stream",
          "name": "stdout",
          "text": [
            "(5, 1) (3,) (5, 3)\n"
          ]
        }
      ]
    },
    {
      "cell_type": "code",
      "metadata": {
        "id": "f1Z4jYU57I8j",
        "outputId": "b7f85805-6896-4416-8ae0-5b3f64a1febd",
        "colab": {
          "base_uri": "https://localhost:8080/"
        }
      },
      "source": [
        "print(a)\n",
        "print(b)\n",
        "print(c)"
      ],
      "execution_count": 70,
      "outputs": [
        {
          "output_type": "stream",
          "name": "stdout",
          "text": [
            "[[1]\n",
            " [2]\n",
            " [3]\n",
            " [4]\n",
            " [5]]\n",
            "[1 2 3]\n",
            "[[2 3 4]\n",
            " [3 4 5]\n",
            " [4 5 6]\n",
            " [5 6 7]\n",
            " [6 7 8]]\n"
          ]
        }
      ]
    },
    {
      "cell_type": "code",
      "metadata": {
        "id": "5z1hB-aMeF17"
      },
      "source": [
        "def printary(*a):\n",
        "    for x in a:\n",
        "        print(x.tolist(), end='\\n')\n",
        "        print(\"-\" * 45)"
      ],
      "execution_count": 71,
      "outputs": []
    },
    {
      "cell_type": "code",
      "metadata": {
        "id": "JVEmyaw_eoR0",
        "colab": {
          "base_uri": "https://localhost:8080/"
        },
        "outputId": "cad1e6a6-a04c-4380-baf4-7ac0348bf72d"
      },
      "source": [
        "a=np.array([[1, 2, 3], [4, 5, 6]])\n",
        "b=np.array([[1, 3, 5], [2, 4, 6]])\n",
        "printary(a==b, a!=b)"
      ],
      "execution_count": 72,
      "outputs": [
        {
          "output_type": "stream",
          "name": "stdout",
          "text": [
            "[[True, False, False], [False, False, True]]\n",
            "---------------------------------------------\n",
            "[[False, True, True], [True, True, False]]\n",
            "---------------------------------------------\n"
          ]
        }
      ]
    },
    {
      "cell_type": "code",
      "metadata": {
        "id": "GvZLoBW0jro3",
        "colab": {
          "base_uri": "https://localhost:8080/"
        },
        "outputId": "2fd842b8-0b75-4f43-b50b-d6c387ab98d7"
      },
      "source": [
        "a=np.array([[1, 2, 3], [4, 5, 6]])\n",
        "b=np.array([[1, 3, 5], [2, 4, 6]])\n",
        "printary(a>b, a<b)"
      ],
      "execution_count": 73,
      "outputs": [
        {
          "output_type": "stream",
          "name": "stdout",
          "text": [
            "[[False, False, False], [True, True, False]]\n",
            "---------------------------------------------\n",
            "[[False, True, True], [False, False, False]]\n",
            "---------------------------------------------\n"
          ]
        }
      ]
    },
    {
      "cell_type": "code",
      "metadata": {
        "id": "x_TTDqlzjrzt",
        "colab": {
          "base_uri": "https://localhost:8080/"
        },
        "outputId": "170de8fd-cebf-4dd6-963f-acafdad31d9a"
      },
      "source": [
        "a=np.array([[1, 2, 3], [4, 5, 6]])  # (2, 3)\n",
        "b=np.array([[1, 3, 5], [2, 4, 6]])\n",
        "c=np.array([4, 3, 3])   # (3,)  # [[4, 3, 3], [4, 3, 3]]\n",
        "printary(a>=c, b<=3)    #  3    # [[3, 3, 3],[3, 3, 3]]"
      ],
      "execution_count": 74,
      "outputs": [
        {
          "output_type": "stream",
          "name": "stdout",
          "text": [
            "[[False, False, True], [True, True, True]]\n",
            "---------------------------------------------\n",
            "[[True, True, False], [True, False, False]]\n",
            "---------------------------------------------\n"
          ]
        }
      ]
    },
    {
      "cell_type": "markdown",
      "metadata": {
        "id": "kPifu3Xmp7AA"
      },
      "source": [
        "### 7.Indexing"
      ]
    },
    {
      "cell_type": "markdown",
      "metadata": {
        "id": "Rie2JA229Sfq"
      },
      "source": [
        "#### 1) ndarray indexing 이해\n",
        "- indexing을 사용하여 배열에서 원하는 데이터를 참조/변경한다\n",
        "- 배열 이름 뒤에 [ ] 를 사용하여 참조/변경 할 데이터를 표기한다\n",
        "- 결과는 원본의 view이며, view에 대입을 통해 데이터 변경이 가능함\n",
        "- ndim >= 2 인 경우 [ ] 내부에 콤마(,)를 사용하여 차원(축, axes, axis)을 구분함\n",
        "- 콤마(,) 사이에는 참조/변경하기 원하는 데이터에 대한 표기(indexer)가 포함되어야 함\n",
        "- axis=0을 제외한 차원에 대한 표기 생략가능, 생략은 “모두 선택”의 의미를 갖음\n"
      ]
    },
    {
      "cell_type": "code",
      "metadata": {
        "id": "kCS4p0CHkZ_q"
      },
      "source": [
        "# single element indexer의 사용 - 데이터 참조\n",
        "import numpy as np\n",
        "a = np.arange(9).reshape(3,3)\n",
        "\n",
        "print(a)\n",
        "print(a[1])\n",
        "print(a[0, 2])\n",
        "print(a[0][2])"
      ],
      "execution_count": null,
      "outputs": []
    },
    {
      "cell_type": "code",
      "metadata": {
        "id": "wyg2utW4_m2O"
      },
      "source": [
        "# single element indexer의 사용 - 데이터 변경\n",
        "a[0,2] = 100\n",
        "print(a)\n",
        "a[1][2] = 200\n",
        "print(a)\n",
        "a[2] = [10, '20', 3.67]\n",
        "print(a)"
      ],
      "execution_count": null,
      "outputs": []
    },
    {
      "cell_type": "markdown",
      "metadata": {
        "id": "dLjp_acwkUUu"
      },
      "source": [
        "#### 2) Indexer의 종류\n",
        "- single element index\n",
        "- slicing & stride index\n",
        "- index arrays\n",
        "- boolean array\n",
        "- structural indexing tools"
      ]
    },
    {
      "cell_type": "code",
      "metadata": {
        "id": "yRL7086hmAcL"
      },
      "source": [
        "a = np.arange(5)\n",
        "\n",
        "print(a[1], type(a[1]))\n",
        "print(a[[1]], type(a[[1]]))\n",
        "print(a[1:4:2])\n",
        "print(a[[0,1,-1]])\n",
        "print(a[[True, False, False, True, False]])\n",
        "print(a[..., np.newaxis])"
      ],
      "execution_count": null,
      "outputs": []
    },
    {
      "cell_type": "markdown",
      "metadata": {
        "id": "tuoBLTrEEzeH"
      },
      "source": [
        "#### 3) list와 ndarray의 indexing 차이점\n",
        "- ndarray의 indexing의 반환 값은 원본을 참조하는 view이다\n",
        "- 새로운 ndarray로 처리하려면 copy 함수나 메서드를 사용해야 한다\n"
      ]
    },
    {
      "cell_type": "code",
      "metadata": {
        "id": "bUmFZFihmRh1"
      },
      "source": [
        "# list of python\n",
        "x = [[1, 2, 3], [6, 7, 8]]\n",
        "z = x[:]  #  [id(x[0])][id(x[1])]\n",
        "z[0] = [10, 20, 30]\n",
        "z[1][0] = 100\n",
        "print(x, z, sep='\\n')\n",
        "print(id(x[1]), id(z[1]))\n",
        "print(\"-\"*25)"
      ],
      "execution_count": null,
      "outputs": []
    },
    {
      "cell_type": "code",
      "metadata": {
        "id": "G6xDf24omZAE"
      },
      "source": [
        "# ndarray of numpy\n",
        "x = np.array([[1, 2, 3], [6, 7, 8]])\n",
        "z = x[1:]\n",
        "z[0] = [10, 20, 30]\n",
        "print(x, z, sep='\\n')\n",
        "print(np.may_share_memory(x,z))\n",
        "print(x.__array_interface__['data'][0], z.__array_interface__['data'][0], x.dtype)"
      ],
      "execution_count": null,
      "outputs": []
    },
    {
      "cell_type": "markdown",
      "metadata": {
        "id": "QB0sFPXZF2j8"
      },
      "source": [
        "#### 4) single element index 사용\n",
        "- single element index의 사용이 1개 증가 할 때마다 배열의 차원(ndim)은 1씩 감소한다\n",
        "- axis=0부터 뒤쪽으로 콤마(,)를 기준으로 index를 나열함\n",
        "- index 표기되지 않은 차원은 “모두 선택”\n",
        "- 예) 2차원 배열에서 a[n]은 n번 행 전체를 반환 함\n",
        "- indexing을 연속으로 진행한 것과 콤마(,) 나열은 같은 결과\n",
        "- 예) a[n][m] == a[n, m]"
      ]
    },
    {
      "cell_type": "code",
      "metadata": {
        "id": "EiylIGGmHudh"
      },
      "source": [
        "a = np.arange(12).reshape(2,3,2)\n",
        "print(a.tolist())\n",
        "print(a[0].tolist())\n",
        "print(a[0, 0].tolist())\n",
        "print(a[0, 0, 0])"
      ],
      "execution_count": null,
      "outputs": []
    },
    {
      "cell_type": "markdown",
      "metadata": {
        "id": "L4X6ffq7I7KT"
      },
      "source": [
        "#### 5) slice & stride\n",
        "- arr[n:m:k]\n",
        "- n 부터 m-1 까지, k 씩 건너 뛴 위치 요소로 구성된 배열 반환\n",
        "- n, m, k는 생략 가능하며 생략시 n = 0, m = len(arr), k=1\n",
        "- slice & stride의 사용이 증가해도 배열의 차원(ndim)은 변화 없음\n",
        "- axis=0부터 뒤쪽으로 콤마(,)를 기준으로 indexer를 나열함\n",
        "- indexer가 표기되지 않은 axis는 “모두 선택”\n",
        "-  :  특정 axis에 대해 모든 범위를 의미함\n",
        "-  ... 나머지 모든 차원에 대해 모든 범위를 의미함\n"
      ]
    },
    {
      "cell_type": "code",
      "metadata": {
        "id": "4_MA6d_WJqjK"
      },
      "source": [
        "# 차원(ndim)의 변화는 없음\n",
        "a = np.arange(12).reshape(2,3,2)\n",
        "print(a.tolist())\n",
        "print(a[1:].tolist())\n",
        "print(a[..., ::-1].tolist())\n",
        "print(a[:, ::-1].tolist())"
      ],
      "execution_count": null,
      "outputs": []
    },
    {
      "cell_type": "markdown",
      "metadata": {
        "id": "B5nZYLYJLAZq"
      },
      "source": [
        "#### 6) index arrays\n",
        "- index_array은 dtype=int인 배열로, index 번호를 element로 갖는 배열임\n",
        "- index_array 의  형태에 따라 반환되는 배열의 ndim이 원본과 동일하거나, 증가, 감소 될 수 있음"
      ]
    },
    {
      "cell_type": "markdown",
      "metadata": {
        "id": "qmWwBXSORFOK"
      },
      "source": [
        "##### 1차원\n",
        "- index_array 에 포함된 index 항목들로 구성된 배열 반환\n",
        "- a[ [0, 2, 4] ] 는 a에서 0,2,4 번 index 항목으로 구성된 배열 반환\n",
        "- index_array 사용시 주의 사항\n",
        "   - index 중복 사용 가능\n",
        "   - 2차원 이상의 index_array 는 ndarray 를 사용( [[[ -> 사용 불가능)\n"
      ]
    },
    {
      "cell_type": "code",
      "metadata": {
        "id": "x1aHrW0nRLN-"
      },
      "source": [
        "import numpy as np\n",
        "a = np.arange(5) # [0 1 2 3 4]\n",
        "print( a[0], a[[0]], type(a[[0]]))\n",
        "print( a[[-1, 0, 1, 0]])\n",
        "#print( a[[[0, 2, 4], [1, 3, 3]]])\n",
        "print( a[np.array([[0, 2, 4], [1, 3, 3]])])"
      ],
      "execution_count": null,
      "outputs": []
    },
    {
      "cell_type": "markdown",
      "metadata": {
        "id": "R1aLK959XtzO"
      },
      "source": [
        "##### 2차원\n",
        "- idx_a1, idx_a2의 같은 위치 항들이 묶여 위치 정보가 됨\n",
        "- 다차원이 되면 콤마(,)로 나열하며 동일 길이로 구성되어야 함\n",
        "- a가 2D array인 경우\n",
        "  - a[ [0,0,1],[2,3,1] ] 은 [0,2], [0,3], [1,1] 항을 배열로 반환\n",
        "  - a[ [0, 1], 0] : a[ [0,0], [1,0] ] (broadcasting)  [0, 0], [1, 0] 항 반환"
      ]
    },
    {
      "cell_type": "code",
      "metadata": {
        "id": "nKOqXUc7X0nf"
      },
      "source": [
        "a = np.arange(12).reshape(3, -1)\n",
        "print(a)\n",
        "print(a[[0,0,1], [2,3,1]])\n",
        "print(a[[0,1], 0])"
      ],
      "execution_count": null,
      "outputs": []
    },
    {
      "cell_type": "markdown",
      "metadata": {
        "id": "bpNmyrSSUZzX"
      },
      "source": [
        "#### Mission 먼저 수행해보고 비교하세요\n",
        " (수행 전)\n"
      ]
    },
    {
      "cell_type": "code",
      "metadata": {
        "id": "u8jK6JGNUNsz"
      },
      "source": [
        "# index array를 사용하여 3차원 배열에서 원하는 항목만 1D로 indexing\n",
        "a = np.arange(12).reshape(2, 3, -1)\n",
        "print(a)\n",
        "# [0, 3, 8, 10]"
      ],
      "execution_count": null,
      "outputs": []
    },
    {
      "cell_type": "code",
      "metadata": {
        "id": "-Ebv7M8dUQpI"
      },
      "source": [
        "# index array를 사용하여 2차원 배열에서 원하는 항목만 2D로 indexing\n",
        "a = np.arange(12).reshape(4, -1)\n",
        "print(a)\n",
        "# [[1, 3], [8, 9]]"
      ],
      "execution_count": null,
      "outputs": []
    },
    {
      "cell_type": "markdown",
      "metadata": {
        "id": "AB9VmNw9Eb-R"
      },
      "source": [
        "#### Mission 먼저 수행해보고 비교하세요 (수행 후,Solution)\n",
        "\n"
      ]
    },
    {
      "cell_type": "code",
      "metadata": {
        "id": "Z2Adik77-jsI"
      },
      "source": [
        "# index array를 사용하여 3차원 배열에서 원하는 항목만 1D로 indexing\n",
        "a = np.arange(12).reshape(2, 3, -1)\n",
        "print(a)\n",
        "# [0, 3, 8, 10]\n",
        "# [0,0,0],[0,1,1],[1,1,0],[1,2,0]\n",
        "print(a[[0,0,1,1],[0,1,1,2],[0,1,0,0]])"
      ],
      "execution_count": null,
      "outputs": []
    },
    {
      "cell_type": "code",
      "metadata": {
        "id": "Q4VDfV5KAdr5"
      },
      "source": [
        "# index array를 사용하여 2차원 배열에서 원하는 항목만 2D로 indexing\n",
        "a = np.arange(12).reshape(4, -1)\n",
        "print(a)\n",
        "# [[1, 3], [8, 9]]\n",
        "# [0,1],[1,0],[2,2],[3,0]  - single element index\n",
        "print(a[np.array([[0,1],[2,3]]), np.array([[1,0],[2,0]])])"
      ],
      "execution_count": null,
      "outputs": []
    },
    {
      "cell_type": "markdown",
      "metadata": {
        "id": "8pSPklV4kUXn"
      },
      "source": [
        "#### 7) boolean array의 사용\n",
        "- boolean_array는 원본배열과 동일한  shape의 dtype=bool인 배열\n",
        "- 원본에서 boolean_array가 True인 위치의 것만을 대상으로하는 배열이 반환됨\n",
        "- boolean_array는 ndarray, list 등으로 작성하거나, 연산의 결과 일 수 있음\n",
        "- 주로 결과가 True/False인 비교연산식을 사용하여 작성함\n",
        "- 복잡한 조건은 np.logical_and(), np.logical_or(), np.logical_not() 활용\n",
        "- boolean array와 &, |,~ 연산자를 사용하여 조건작성 가능 (괄호 사용 중요)\n"
      ]
    },
    {
      "cell_type": "code",
      "metadata": {
        "id": "1iG9zEk5bi5X"
      },
      "source": [
        "a = np.arange(1, 7) # [1 2 3 4 5 6]\n",
        "b = np.array([True, False, True, True, False, True])\n",
        "print(a[b])\n",
        "print(a%2)\n",
        "print(a%2==0)\n",
        "print(a[a%2==0]) # boolean array  (dtype = bool)\n",
        "print(a[a%2])    # index array (dtype = int)"
      ],
      "execution_count": null,
      "outputs": []
    },
    {
      "cell_type": "code",
      "metadata": {
        "id": "_NRXM5PQm9cj"
      },
      "source": [
        "def printary(w1, w2, ary, *, sep='|'):\n",
        "    for x in ary.split(sep):\n",
        "        x = x.strip()\n",
        "        t = eval(x)\n",
        "        print(f'%-{w1}s %-{w2}s %s' % (x, t.shape, t.tolist()))\n",
        "    print(\"-\" * 30)"
      ],
      "execution_count": null,
      "outputs": []
    },
    {
      "cell_type": "code",
      "metadata": {
        "id": "spGWahBGkZgt"
      },
      "source": [
        "  a = np.random.permutation(10)\n",
        "  printary(10, 7, \"a | a[a%2==0]\")\n",
        "  printary(10, 7, \"a[a>=4]\")\n"
      ],
      "execution_count": null,
      "outputs": []
    },
    {
      "cell_type": "code",
      "metadata": {
        "id": "Qet-XpuVaHhh"
      },
      "source": [
        "  printary(32, 7, \"a[np.logical_or(a%3==0, a%2==0)]\")\n",
        "  printary(32, 7, \"a[(a%3==0) | (a%2==0)]\", sep='+')"
      ],
      "execution_count": null,
      "outputs": []
    },
    {
      "cell_type": "code",
      "metadata": {
        "id": "3OtW_UW2aJv3"
      },
      "source": [
        "  printary(32, 7, \"a[np.logical_and(a>=6,a<=9)]\")\n",
        "  printary(32, 7, \"a[(a>=6) & (a<=9)]\")"
      ],
      "execution_count": null,
      "outputs": []
    },
    {
      "cell_type": "code",
      "metadata": {
        "id": "PcJtb5LlaMJx"
      },
      "source": [
        "  printary(32, 7, \"a[np.logical_not(a%3==0)]\")\n",
        "  printary(32, 7, \"a[~(a%3==0)]\")"
      ],
      "execution_count": null,
      "outputs": []
    },
    {
      "cell_type": "code",
      "metadata": {
        "id": "rGSoKeTMdu1I"
      },
      "source": [
        "print(a)\n",
        "a[a%3==0] = -1\n",
        "print(a)"
      ],
      "execution_count": null,
      "outputs": []
    },
    {
      "cell_type": "markdown",
      "metadata": {
        "id": "wSm7zi7VeCrF"
      },
      "source": [
        "#### 8) combine index & slice"
      ]
    },
    {
      "cell_type": "code",
      "metadata": {
        "id": "rHpZQdvEeLhC"
      },
      "source": [
        "b = np.arange(1, 12, 2).reshape(3, -1)\n",
        "print(b)"
      ],
      "execution_count": null,
      "outputs": []
    },
    {
      "cell_type": "code",
      "metadata": {
        "id": "JUC5T8IVfSim"
      },
      "source": [
        "b[:,[-1]], b[:,[-1]].tolist()"
      ],
      "execution_count": null,
      "outputs": []
    },
    {
      "cell_type": "code",
      "metadata": {
        "id": "xiE2FePgg70a"
      },
      "source": [
        "b[:, -1].tolist()"
      ],
      "execution_count": null,
      "outputs": []
    },
    {
      "cell_type": "code",
      "metadata": {
        "id": "_knuf09Zhnms"
      },
      "source": [
        "c = np.arange(12).reshape(2,3,2)\n",
        "print(c)"
      ],
      "execution_count": null,
      "outputs": []
    },
    {
      "cell_type": "code",
      "metadata": {
        "id": "JAdkD2L4hOm4"
      },
      "source": [
        "c[:, -1]"
      ],
      "execution_count": null,
      "outputs": []
    },
    {
      "cell_type": "code",
      "metadata": {
        "id": "AMjVqAM9hhbz"
      },
      "source": [
        "c[..., -1]"
      ],
      "execution_count": null,
      "outputs": []
    },
    {
      "cell_type": "code",
      "metadata": {
        "id": "T1zqIWa_h03G"
      },
      "source": [
        "c[..., :1]"
      ],
      "execution_count": null,
      "outputs": []
    },
    {
      "cell_type": "code",
      "metadata": {
        "id": "bq87bvMCh4eJ"
      },
      "source": [
        "c[[0], 1]"
      ],
      "execution_count": null,
      "outputs": []
    },
    {
      "cell_type": "code",
      "metadata": {
        "id": "Z6zHqMXdibWj"
      },
      "source": [
        "c[[0], 1:]"
      ],
      "execution_count": null,
      "outputs": []
    },
    {
      "cell_type": "markdown",
      "metadata": {
        "id": "WiYCE_GfihTg"
      },
      "source": [
        "#### 9) indexing 활용"
      ]
    },
    {
      "cell_type": "code",
      "metadata": {
        "id": "HBC9VaLJipg6"
      },
      "source": [
        "aN3 = np.array([[0,-1,4],[-2,3,2],[1,-2,-1],[-4,3,-2]])\n",
        "print(aN3)"
      ],
      "execution_count": null,
      "outputs": []
    },
    {
      "cell_type": "code",
      "metadata": {
        "id": "mCURA7lskn64"
      },
      "source": [
        "aN3[:, [1, 0, 2]]"
      ],
      "execution_count": null,
      "outputs": []
    },
    {
      "cell_type": "code",
      "metadata": {
        "id": "1HsqLU6WcrZY"
      },
      "source": [
        "aN3[aN3[:,0] < 0]"
      ],
      "execution_count": null,
      "outputs": []
    },
    {
      "cell_type": "code",
      "metadata": {
        "id": "gIl1mJPacvDB"
      },
      "source": [
        "aN3[aN3[:,0]<0, 1:]"
      ],
      "execution_count": null,
      "outputs": []
    },
    {
      "cell_type": "code",
      "metadata": {
        "id": "9rkFYuuwkZQZ"
      },
      "source": [
        "a3N = np.array([[x] * 5 for x in range(3)])\n",
        "print(a3N)"
      ],
      "execution_count": null,
      "outputs": []
    },
    {
      "cell_type": "code",
      "metadata": {
        "id": "iI9KD6SmcUuX"
      },
      "source": [
        "a3N[[0,2,1], :]"
      ],
      "execution_count": null,
      "outputs": []
    },
    {
      "cell_type": "code",
      "metadata": {
        "id": "H7tmj9xnkcwl"
      },
      "source": [
        "aN  = np.arange(3)\n",
        "print(aN)"
      ],
      "execution_count": null,
      "outputs": []
    },
    {
      "cell_type": "code",
      "metadata": {
        "id": "l_ZhZ7T4cfCM"
      },
      "source": [
        "aN.reshape(-1, 1)"
      ],
      "execution_count": null,
      "outputs": []
    },
    {
      "cell_type": "code",
      "metadata": {
        "id": "wXnHzm6ScZQP"
      },
      "source": [
        "aN[:, None]"
      ],
      "execution_count": null,
      "outputs": []
    },
    {
      "cell_type": "code",
      "metadata": {
        "id": "A3Y8x9ECcbPz"
      },
      "source": [
        "aN[:, np.newaxis]"
      ],
      "execution_count": null,
      "outputs": []
    },
    {
      "cell_type": "markdown",
      "metadata": {
        "id": "5ObDK5YentuF"
      },
      "source": [
        "### 8.numpy의 유용한 필수 함수\n"
      ]
    },
    {
      "cell_type": "markdown",
      "metadata": {
        "id": "LZsF7WC7l-sN"
      },
      "source": [
        "#### 1) 정수값과 관련 있는 난수 발생\n",
        "- np.random.seed(정수)\n",
        "- 정수가 같으면 항상 같은 난수가 발생됨\n",
        "- np.random.randint(start, stop, size=shape)\n",
        "- start ~ stop-1까지의 정수로 구성된 size 모양의 난수 배열 반환\n",
        "- 1차원인 경우 size에 정수 사용가능\n"
      ]
    },
    {
      "cell_type": "code",
      "metadata": {
        "id": "o3JRelH1mQuV"
      },
      "source": [
        "import numpy as np\n",
        "#np.random.seed(101)\n",
        "x = np.random.randint(1, 5, size=(3,4))\n",
        "print(x)"
      ],
      "execution_count": null,
      "outputs": []
    },
    {
      "cell_type": "markdown",
      "metadata": {
        "id": "41qStLtMmsHp"
      },
      "source": [
        "#### 2) ndarray 객체 순서 무작위 변경\n",
        "- np.random.shuffle(ndarray객체)\n",
        "- None 반환"
      ]
    },
    {
      "cell_type": "code",
      "metadata": {
        "id": "fw9SKoklm6Th"
      },
      "source": [
        "a = np.arange(10)\n",
        "a = np.array([[1,2,3],[4,5,6],[3,4,5],[7,1,5]])\n",
        "np.random.shuffle(a)\n",
        "print(a)\n",
        "\n",
        "a = np.random.permutation(10)\n",
        "print(a)"
      ],
      "execution_count": null,
      "outputs": []
    },
    {
      "cell_type": "markdown",
      "metadata": {
        "id": "n64MfSyDnodg"
      },
      "source": [
        "#### 3) 중복 값 제거된 배열 생성\n",
        "- np.unique(a, return_counts=False)\n",
        "- a 가 다차원 배열인 경우 1차원으로 변경되어 작업 됨\n",
        "- return_counts 인수를 True로 설정하면 각 데이터 개수의 ndarray 배열도 생성하여 반환\n",
        "- (중복 값 제거된 배열, 각 데이터 개수의 배열) tuple 반환\n"
      ]
    },
    {
      "cell_type": "code",
      "metadata": {
        "id": "i_6F_MNknnWR"
      },
      "source": [
        "np.random.seed(1000)\n",
        "a = np.random.randint(1, 100000, size = 200000)\n",
        "b = a.reshape(1000, -1)"
      ],
      "execution_count": null,
      "outputs": []
    },
    {
      "cell_type": "code",
      "metadata": {
        "id": "cNUB9nCpH7yR"
      },
      "source": [
        "x1 = np.unique(a)\n",
        "x2 = np.unique(b)\n",
        "print(f'size={len(x1)}', x1, sep='\\n')\n",
        "print(f'size={len(x2)}', x2, sep='\\n')"
      ],
      "execution_count": null,
      "outputs": []
    },
    {
      "cell_type": "code",
      "metadata": {
        "id": "wftjr7qDIzCp"
      },
      "source": [
        "c = [ [1,2,3], [1,2,3], [1,3,5] ]\n",
        "d = [ [1,2,3], [1,2,3], [1,3] ]\n",
        "x3 = np.unique(c)\n",
        "x4 = np.unique(d)\n",
        "print(x3, x4, sep='\\n')"
      ],
      "execution_count": null,
      "outputs": []
    },
    {
      "cell_type": "code",
      "metadata": {
        "id": "KwmWEuEIJcQj"
      },
      "source": [
        "x5, rcount = np.unique(c, return_counts=True)\n",
        "print(x5, rcount, sep='\\n')"
      ],
      "execution_count": null,
      "outputs": []
    },
    {
      "cell_type": "markdown",
      "metadata": {
        "id": "Go_yT2K2KR-M"
      },
      "source": [
        "#### 4) 배열에서 가장 큰/작은 요소의 index 번호\n",
        "- np.argmax(a)\n",
        "- np.argmin(a)\n",
        "- index는 0번부터 시작\n",
        "- 2차원 이상인 경우 1차원으로 변경하여 작업 진행됨"
      ]
    },
    {
      "cell_type": "code",
      "metadata": {
        "id": "QRlz8iWfLC3Z"
      },
      "source": [
        "np.random.seed(1234)\n",
        "x1 = np.random.randint(100, size = 12)\n",
        "x2 = x1.reshape(2,3,2)\n",
        "print(x1, x2, sep='\\n')"
      ],
      "execution_count": null,
      "outputs": []
    },
    {
      "cell_type": "code",
      "metadata": {
        "id": "MIKYZm-GLQbW"
      },
      "source": [
        "print(f'x1 - argmax : {np.argmax(x1)}, argmin : {np.argmin(x1)}')\n",
        "print(f'x2 - argmax : {np.argmax(x2)}, argmin : {np.argmin(x2)}')"
      ],
      "execution_count": null,
      "outputs": []
    },
    {
      "cell_type": "markdown",
      "metadata": {
        "id": "-UeeRdmEMWlW"
      },
      "source": [
        "#### 5) min보다 작은 값을 min으로 max보다 큰 값을 max로 변경\n",
        "- np.clip(a, min, max, out=None)\n",
        "- 새로운 배열 반환, out에 a와 동일 크기의 배열 지정 가능\n",
        "- out 사용 시, out에 지정된 배열로도 결과가 반환됨 (배열내용변경)\n"
      ]
    },
    {
      "cell_type": "code",
      "metadata": {
        "id": "_V-KcxlxN9q6"
      },
      "source": [
        "np.random.seed(150)\n",
        "x = np.random.randint(30, 60, 10)\n",
        "y1 = np.clip(x, 35, 55)\n",
        "print(x, y1, sep='\\n')"
      ],
      "execution_count": null,
      "outputs": []
    },
    {
      "cell_type": "code",
      "metadata": {
        "id": "YM1PR59-OqRK"
      },
      "source": [
        "y2 = np.clip(x, 40, 50, out=x)\n",
        "print(x, y2,sep='\\n')"
      ],
      "execution_count": null,
      "outputs": []
    },
    {
      "cell_type": "markdown",
      "metadata": {
        "id": "OUtgDfMWpd70"
      },
      "source": [
        "#### 6) 조건에 따른 데이터 선택\n",
        "- np.where( 조건 [, c, d])\n",
        "- 조건 : 참, 거짓(=0, False, None)으로 이루어진\n",
        "- 조건 배열이 참일 때 c, 거짓일 때 d를 취한 배열 반환 (c, d는 스칼라 가능)\n",
        "- c, d 생략 시 조건이 참인 것에 대한 index 배열(ndarray) tuple 반환 (ndarray, ndarray, ...) 의 형태\n",
        "- 조건 배열의 ndim == len(tuple)\n",
        "- 복잡한 조건은  ~, &, |, 및 np.logical_and(), np.logical_or(), logical_not() 사용\n",
        "\n"
      ]
    },
    {
      "cell_type": "code",
      "metadata": {
        "id": "cSZ0NdnXoC0C"
      },
      "source": [
        "a = np.array([4, 8, 2, 5])\n",
        "b = np.array([3, 9, 1, 7])\n",
        "print(np.where(True, a, b))\n",
        "print(np.where(False, a, b))"
      ],
      "execution_count": null,
      "outputs": []
    },
    {
      "cell_type": "code",
      "metadata": {
        "id": "2ULEpZwFSd8L"
      },
      "source": [
        "print(np.where([[True, False], [False, True]],\n",
        "                [[3, 4], [5, 7]],\n",
        "                [[1, 2], [9, 2]]))"
      ],
      "execution_count": null,
      "outputs": []
    },
    {
      "cell_type": "code",
      "metadata": {
        "id": "-Qf9s2yCmdcO"
      },
      "source": [
        "print(np.where([[True, True], [False, True]]))"
      ],
      "execution_count": null,
      "outputs": []
    },
    {
      "cell_type": "markdown",
      "metadata": {
        "id": "NI5VdQA-hj4B"
      },
      "source": [
        "#### 7) 통계값 함수들\n",
        "- axis를 0 또는 1로 지정할 경우\n",
        "- axis=0은 index 방향으로 연산, axis=1은 column 방향으로 연산한 값을 배열로 반환함\n",
        "- ndarray에서 동일 동작을 하는 동일 이름의 메서드 있음 (arr.mean())\n"
      ]
    },
    {
      "cell_type": "code",
      "metadata": {
        "id": "Ey91LwR3nyUC"
      },
      "source": [
        "def printary(*a):\n",
        "    for x in a:\n",
        "        print(x)\n",
        "    print(\"-\" * 30)"
      ],
      "execution_count": null,
      "outputs": []
    },
    {
      "cell_type": "code",
      "metadata": {
        "id": "r7crpADdnz0V"
      },
      "source": [
        "# np.sum(a, axis=None)\n",
        "# 배열내 모든 원소의 합을 스칼라 값으로 반환\n",
        "a = np.arange(1,7).reshape((2,3))\n",
        "b = a.sum()\n",
        "c = a.sum(axis = 0)\n",
        "d = a.sum(axis = 1)\n",
        "printary(a, b, c, d)"
      ],
      "execution_count": null,
      "outputs": []
    },
    {
      "cell_type": "code",
      "metadata": {
        "id": "tjZOEVTzn6vL"
      },
      "source": [
        "# np.mean(a, axis=None)\n",
        "# 배열내 모든 원소의 평균을 스칼라 값으로 반환\n",
        "# median - 중앙값\n",
        "a = np.arange(1,7).reshape((2,3))\n",
        "b = a.mean()\n",
        "c = a.mean(axis = 0)\n",
        "d = a.mean(axis = 1)\n",
        "printary(a, b, c, d)"
      ],
      "execution_count": null,
      "outputs": []
    },
    {
      "cell_type": "code",
      "metadata": {
        "id": "WcdXXjNyn9bC"
      },
      "source": [
        "# np.std(a, axis=None)\n",
        "# 배열내 모든 원소의 분산을 스칼라 값으로 반환\n",
        "a = np.arange(1,7).reshape((2,3))\n",
        "b = a.std()\n",
        "c = a.std(axis = 0)\n",
        "d = a.std(axis = 1)\n",
        "printary(a, b, c, d)"
      ],
      "execution_count": null,
      "outputs": []
    },
    {
      "cell_type": "code",
      "metadata": {
        "id": "xjMd_bR0n_KM"
      },
      "source": [
        "# np.any(a, axis=None)\n",
        "# 배열의 원소들 중 참이 하나라도 있으면 True 반환\n",
        "# np.all(a, axis=None)\n",
        "# 배열의 모든 원소가 참인 경우 True 반환\n",
        "\n",
        "a = np.arange(6).reshape((2,3))\n",
        "a = np.arange(1, 6)\n",
        "printary(a.any(), a.all())"
      ],
      "execution_count": null,
      "outputs": []
    },
    {
      "cell_type": "markdown",
      "metadata": {
        "id": "qlWiOHmboTMe"
      },
      "source": [
        "### 9.ndarray 파일입출력"
      ]
    },
    {
      "cell_type": "code",
      "metadata": {
        "id": "NXloRXtYoX5E"
      },
      "source": [
        "def printary(*a):\n",
        "    for x in a:\n",
        "        print(x)\n",
        "    print(\"-\" * 30)"
      ],
      "execution_count": null,
      "outputs": []
    },
    {
      "cell_type": "code",
      "metadata": {
        "id": "_EA_itRFobHr"
      },
      "source": [
        "import numpy as np\n",
        "a1 = np.arange(20000)\n",
        "a2 = np.random.randint(1, 10000, size=(5, 1000))\n",
        "a3 = np.ones((1, 2, 1000), dtype=np.int32)\n",
        "path=\"/content/drive/My Drive/00_numpy/\"\n",
        "\n",
        "np.save(path+\"a1.npy\", a1)\n",
        "r = np.load(path+\"a1.npy\")\n",
        "printary(r)"
      ],
      "execution_count": null,
      "outputs": []
    },
    {
      "cell_type": "code",
      "metadata": {
        "id": "6VZfgc2Xomsr"
      },
      "source": [
        "#203.84KB\n",
        "np.savez(path+\"an.npz\", A1=a1, A2=a2, A3=a3)\n",
        "r = np.load(path+\"an.npz\")\n",
        "printary(r['A1'], r['A2'], r['A3'])"
      ],
      "execution_count": null,
      "outputs": []
    },
    {
      "cell_type": "code",
      "metadata": {
        "id": "2l2Nxv5vorUk"
      },
      "source": [
        "#42.59KB\n",
        "np.savez_compressed(path+\"c_an.npz\", A1=a1, A2=a2, A3=a3)\n",
        "r = np.load(path+\"c_an.npz\")\n",
        "printary(r['A1'], r['A2'], r['A3'])"
      ],
      "execution_count": null,
      "outputs": []
    },
    {
      "cell_type": "code",
      "metadata": {
        "id": "wkD73reEo5Ez"
      },
      "source": [
        "np.savetxt(path+\"a1.txt\", a1, fmt='%d')\n",
        "r = np.loadtxt(path+\"a1.txt\", dtype=np.int32)\n",
        "printary(r)"
      ],
      "execution_count": null,
      "outputs": []
    },
    {
      "cell_type": "markdown",
      "metadata": {
        "id": "hyN3fdoDpYjO"
      },
      "source": [
        "### 10.numpy의 nan, inf처리\n"
      ]
    },
    {
      "cell_type": "code",
      "metadata": {
        "id": "m_XLrrz_pfhS"
      },
      "source": [
        "print(np.nan, type(np.nan))\n",
        "print(np.inf, type(np.inf))"
      ],
      "execution_count": null,
      "outputs": []
    },
    {
      "cell_type": "code",
      "metadata": {
        "id": "G2xhtDfxpkVj"
      },
      "source": [
        "a = np.array([np.nan, 1, 0, -1, np.inf], dtype=np.float16)\n",
        "print(np.isnan(np.nan), np.isnan(a))\n",
        "print(np.isinf(np.inf), np.isinf(a))\n",
        "x = np.nan\n",
        "print(np.nan == x)\n",
        "print(np.nan is x)"
      ],
      "execution_count": null,
      "outputs": []
    },
    {
      "cell_type": "code",
      "metadata": {
        "id": "yr3IZQT8pnFL"
      },
      "source": [
        "def printary(*a):\n",
        "    for x in a:\n",
        "        print(x)\n",
        "    print('-'*30)"
      ],
      "execution_count": null,
      "outputs": []
    },
    {
      "cell_type": "code",
      "metadata": {
        "id": "6AxoxUQ4pqjD"
      },
      "source": [
        "a = np.array([1, np.nan, np.nan, np.inf, 2, np.inf], dtype=np.float16)\n",
        "b = np.array([1, np.inf, 1, 1, np.inf, np.nan], dtype=np.float16)\n",
        "printary(a, b, a+b, a+2)\n",
        "printary(a, a.sum(), a.cumsum(), a.all())\n",
        "printary(np.sqrt(a), np.unique(a), np.unique(b))"
      ],
      "execution_count": null,
      "outputs": []
    }
  ]
}