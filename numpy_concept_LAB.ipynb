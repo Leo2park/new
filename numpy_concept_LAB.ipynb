{
  "nbformat": 4,
  "nbformat_minor": 0,
  "metadata": {
    "colab": {
      "provenance": [],
      "collapsed_sections": [
        "izOR5P5FRzoq",
        "9O5V_mLvRYut",
        "N5wKSDBISP9s",
        "HDM07aLpZ0QY",
        "9KmFk1z7bK2q",
        "2n6eI33UErrP",
        "rncb5OyWbKyj",
        "U25cgbTwco-C",
        "dLjp_acwkUUu",
        "tuoBLTrEEzeH",
        "QB0sFPXZF2j8",
        "bpNmyrSSUZzX",
        "AB9VmNw9Eb-R",
        "wSm7zi7VeCrF"
      ],
      "include_colab_link": true
    },
    "kernelspec": {
      "name": "python3",
      "display_name": "Python 3"
    }
  },
  "cells": [
    {
      "cell_type": "markdown",
      "metadata": {
        "id": "view-in-github",
        "colab_type": "text"
      },
      "source": [
        "<a href=\"https://colab.research.google.com/github/Leo2park/new/blob/main/numpy_concept_LAB.ipynb\" target=\"_parent\"><img src=\"https://colab.research.google.com/assets/colab-badge.svg\" alt=\"Open In Colab\"/></a>"
      ]
    },
    {
      "cell_type": "markdown",
      "metadata": {
        "id": "nvMCPQGk0eB-"
      },
      "source": [
        "###1.ndarray 성능확인\n"
      ]
    },
    {
      "cell_type": "code",
      "metadata": {
        "id": "bDRChRKYXai7"
      },
      "source": [
        "import numpy as np"
      ],
      "execution_count": 1,
      "outputs": []
    },
    {
      "cell_type": "code",
      "metadata": {
        "id": "DMvqY88lXcig",
        "colab": {
          "base_uri": "https://localhost:8080/"
        },
        "outputId": "3906f5f8-7837-4f21-807d-a49cbf9fbdff"
      },
      "source": [
        "A = [1, 2, 3]\n",
        "B = [4, 5, 6]\n",
        "C = []\n",
        "for a, b in zip(A, B):\n",
        "  C.append(a + b)\n",
        "\n",
        "print(C)"
      ],
      "execution_count": 2,
      "outputs": [
        {
          "output_type": "stream",
          "name": "stdout",
          "text": [
            "[5, 7, 9]\n"
          ]
        }
      ]
    },
    {
      "cell_type": "code",
      "metadata": {
        "id": "FNpu7HAJXq5c",
        "colab": {
          "base_uri": "https://localhost:8080/"
        },
        "outputId": "fc67438f-113c-47b2-8edb-ac2c1ac00602"
      },
      "source": [
        "A = np.array([1, 2, 3])\n",
        "B = np.array([4, 5, 6])\n",
        "C = A + B\n",
        "print(C)"
      ],
      "execution_count": 4,
      "outputs": [
        {
          "output_type": "stream",
          "name": "stdout",
          "text": [
            "[5 7 9]\n"
          ]
        }
      ]
    },
    {
      "cell_type": "code",
      "metadata": {
        "id": "J-RgB4fX0Psj"
      },
      "source": [
        "a = [[ 1, 2, 3, 4 ] for _ in range(1000000)]  # a 1000000 행, 4 열 - list\n",
        "b = np.array(a) # ndarray\n",
        "\n",
        "def exchange_list(a):\n",
        "  c = []\n",
        "  for x in a:\n",
        "      x[2], x[3], x[0], x[1] = x\n",
        "      c.append(x)\n",
        "  return c\n",
        "\n",
        "def exchange_ndarray(a):\n",
        "   return a[ : ,[2, 3, 0, 1]]"
      ],
      "execution_count": 6,
      "outputs": []
    },
    {
      "cell_type": "code",
      "metadata": {
        "id": "74TT0lJUV3HL",
        "colab": {
          "base_uri": "https://localhost:8080/"
        },
        "outputId": "36e120fe-552a-41c2-b67a-65c33a7c6754"
      },
      "source": [
        "print(a[:2], b[:2], sep='\\n')"
      ],
      "execution_count": 7,
      "outputs": [
        {
          "output_type": "stream",
          "name": "stdout",
          "text": [
            "[[1, 2, 3, 4], [1, 2, 3, 4]]\n",
            "[[1 2 3 4]\n",
            " [1 2 3 4]]\n"
          ]
        }
      ]
    },
    {
      "cell_type": "code",
      "metadata": {
        "id": "1UpQlMg21gZo",
        "colab": {
          "base_uri": "https://localhost:8080/"
        },
        "outputId": "c224cba7-d4f8-4517-adcb-f7dc3cce24c6"
      },
      "source": [
        "c = exchange_list(a)\n",
        "d = exchange_ndarray(b)\n",
        "print(c[:2], d[:2], sep='\\n')"
      ],
      "execution_count": 8,
      "outputs": [
        {
          "output_type": "stream",
          "name": "stdout",
          "text": [
            "[[3, 4, 1, 2], [3, 4, 1, 2]]\n",
            "[[3 4 1 2]\n",
            " [3 4 1 2]]\n"
          ]
        }
      ]
    },
    {
      "cell_type": "code",
      "metadata": {
        "id": "b-w7jMVYVyeD",
        "colab": {
          "base_uri": "https://localhost:8080/"
        },
        "outputId": "b442bdb3-2ba9-4770-da5a-938c5e86f452"
      },
      "source": [
        "%timeit exchange_list(a)"
      ],
      "execution_count": 9,
      "outputs": [
        {
          "output_type": "stream",
          "name": "stdout",
          "text": [
            "180 ms ± 9.98 ms per loop (mean ± std. dev. of 7 runs, 1 loop each)\n"
          ]
        }
      ]
    },
    {
      "cell_type": "code",
      "metadata": {
        "id": "x_hIaQgpV0Ie",
        "colab": {
          "base_uri": "https://localhost:8080/"
        },
        "outputId": "0604b699-35c6-4857-a318-b7de54884eae"
      },
      "source": [
        "%timeit exchange_ndarray(b)"
      ],
      "execution_count": 10,
      "outputs": [
        {
          "output_type": "stream",
          "name": "stdout",
          "text": [
            "16.6 ms ± 2.19 ms per loop (mean ± std. dev. of 7 runs, 100 loops each)\n"
          ]
        }
      ]
    },
    {
      "cell_type": "markdown",
      "metadata": {
        "id": "oCa83IylZ1OA"
      },
      "source": [
        "###2.ndarray 속성"
      ]
    },
    {
      "cell_type": "code",
      "metadata": {
        "id": "gs7lgMK0tWaO"
      },
      "source": [
        "import numpy as np"
      ],
      "execution_count": 11,
      "outputs": []
    },
    {
      "cell_type": "code",
      "metadata": {
        "id": "R2KFZHEO2IMa",
        "colab": {
          "base_uri": "https://localhost:8080/"
        },
        "outputId": "60d1a9da-fa7b-4d7a-a391-3b697d60b79b"
      },
      "source": [
        "#print array information\n",
        "def printInfo(a):\n",
        "    data = ['a.ndim', 'a.shape', 'a.size', 'a.dtype', 'a.itemsize', 'a.strides']\n",
        "    for x in data:\n",
        "        print('%-11s' % x, eval(x))\n",
        "\n",
        "a = np.array([[0,1,2],[3,4,5]])#, dtype=np.int32)\n",
        "printInfo(a)\n",
        "#print(a.ndim, a.shape, a.size, a.dtype, a.itemsize, a.strides)"
      ],
      "execution_count": null,
      "outputs": [
        {
          "output_type": "stream",
          "name": "stdout",
          "text": [
            "a.ndim      2\n",
            "a.shape     (2, 3)\n",
            "a.size      6\n",
            "a.dtype     int64\n",
            "a.itemsize  8\n",
            "a.strides   (24, 8)\n"
          ]
        }
      ]
    },
    {
      "cell_type": "markdown",
      "metadata": {
        "id": "fAya-kGlZ1K-"
      },
      "source": [
        "###3.ndarray 생성"
      ]
    },
    {
      "cell_type": "code",
      "metadata": {
        "id": "m-EkRfePwavl"
      },
      "source": [
        "import numpy as np"
      ],
      "execution_count": 12,
      "outputs": []
    },
    {
      "cell_type": "code",
      "metadata": {
        "id": "yxyJwtur2a4_"
      },
      "source": [
        "def printary(*a):\n",
        "    for x in a:\n",
        "        print(f'{type(x)}\\n{x.dtype}\\n{x}', end='\\n\\n')\n",
        "\n",
        "    print(\"-\" * 30)"
      ],
      "execution_count": 16,
      "outputs": []
    },
    {
      "cell_type": "markdown",
      "metadata": {
        "id": "nAQcclcqRjpl"
      },
      "source": [
        "#####1) np.array 사용"
      ]
    },
    {
      "cell_type": "code",
      "metadata": {
        "id": "2drjTnoJ2cVS",
        "outputId": "8d6a9ab1-3b66-4155-e252-20990a02749e",
        "colab": {
          "base_uri": "https://localhost:8080/"
        }
      },
      "source": [
        "#np.array(object : array_like, dtype=None)\n",
        "a = np.array([1, 2, 3])\n",
        "b = np.array([[1, 2, 3], [4, 5, 6]])\n",
        "c = np.array([[1, 2, 3], [4, 5]])  # array_like가 아님\n",
        "printary(a, b, c)"
      ],
      "execution_count": 15,
      "outputs": [
        {
          "output_type": "stream",
          "name": "stdout",
          "text": [
            "<class 'numpy.ndarray'>\n",
            "int64\n",
            "[1 2 3]\n",
            "\n",
            "<class 'numpy.ndarray'>\n",
            "int64\n",
            "[[1 2 3]\n",
            " [4 5 6]]\n",
            "\n",
            "<class 'numpy.ndarray'>\n",
            "object\n",
            "[list([1, 2, 3]) list([4, 5])]\n",
            "\n",
            "------------------------------\n"
          ]
        },
        {
          "output_type": "stream",
          "name": "stderr",
          "text": [
            "<ipython-input-15-11519dfb240c>:4: VisibleDeprecationWarning: Creating an ndarray from ragged nested sequences (which is a list-or-tuple of lists-or-tuples-or ndarrays with different lengths or shapes) is deprecated. If you meant to do this, you must specify 'dtype=object' when creating the ndarray.\n",
            "  c = np.array([[1, 2, 3], [4, 5]])  # array_like가 아님\n"
          ]
        }
      ]
    },
    {
      "cell_type": "code",
      "metadata": {
        "id": "rTXLYJJZ2lNL",
        "colab": {
          "base_uri": "https://localhost:8080/"
        },
        "outputId": "afc0eee1-f355-4cdd-afd9-0ae88267cd77"
      },
      "source": [
        "# Structured Array\n",
        "sdtype = [('name', '<U10'), ('height', '<i4'), ('weight', np.float32)]\n",
        "value =  [('Tom', 178, 98.5), ('Jim', 183, 79.5), ('Adam',  175, 82.8)]\n",
        "\n",
        "a = np.array(value, dtype=sdtype)\n",
        "\n",
        "printary(a)\n",
        "a"
      ],
      "execution_count": 17,
      "outputs": [
        {
          "output_type": "stream",
          "name": "stdout",
          "text": [
            "<class 'numpy.ndarray'>\n",
            "[('name', '<U10'), ('height', '<i4'), ('weight', '<f4')]\n",
            "[('Tom', 178, 98.5) ('Jim', 183, 79.5) ('Adam', 175, 82.8)]\n",
            "\n",
            "------------------------------\n"
          ]
        },
        {
          "output_type": "execute_result",
          "data": {
            "text/plain": [
              "array([('Tom', 178, 98.5), ('Jim', 183, 79.5), ('Adam', 175, 82.8)],\n",
              "      dtype=[('name', '<U10'), ('height', '<i4'), ('weight', '<f4')])"
            ]
          },
          "metadata": {},
          "execution_count": 17
        }
      ]
    },
    {
      "cell_type": "code",
      "metadata": {
        "id": "y_h2M3cZzD5d",
        "outputId": "3e350364-30cc-4681-fbc1-830c6c0e515c",
        "colab": {
          "base_uri": "https://localhost:8080/"
        }
      },
      "source": [
        "printary(a['name'], a['height'], a['weight'])\n",
        "printary(a[0], a[1], a[2])\n",
        "print(a.shape, a.strides, a[0])   # a.strides - 1개 row에 해당하는 메모리 크기"
      ],
      "execution_count": 18,
      "outputs": [
        {
          "output_type": "stream",
          "name": "stdout",
          "text": [
            "<class 'numpy.ndarray'>\n",
            "<U10\n",
            "['Tom' 'Jim' 'Adam']\n",
            "\n",
            "<class 'numpy.ndarray'>\n",
            "int32\n",
            "[178 183 175]\n",
            "\n",
            "<class 'numpy.ndarray'>\n",
            "float32\n",
            "[98.5 79.5 82.8]\n",
            "\n",
            "------------------------------\n",
            "<class 'numpy.void'>\n",
            "[('name', '<U10'), ('height', '<i4'), ('weight', '<f4')]\n",
            "('Tom', 178, 98.5)\n",
            "\n",
            "<class 'numpy.void'>\n",
            "[('name', '<U10'), ('height', '<i4'), ('weight', '<f4')]\n",
            "('Jim', 183, 79.5)\n",
            "\n",
            "<class 'numpy.void'>\n",
            "[('name', '<U10'), ('height', '<i4'), ('weight', '<f4')]\n",
            "('Adam', 175, 82.8)\n",
            "\n",
            "------------------------------\n",
            "(3,) (48,) ('Tom', 178, 98.5)\n"
          ]
        }
      ]
    },
    {
      "cell_type": "markdown",
      "metadata": {
        "id": "fd3KaKnjRuPx"
      },
      "source": [
        "#####2) np.arange 사용"
      ]
    },
    {
      "cell_type": "code",
      "metadata": {
        "id": "BXykk-bv2vpx",
        "outputId": "37e2a9b8-4a56-4c60-e3f2-18ccb6e6c97c",
        "colab": {
          "base_uri": "https://localhost:8080/"
        }
      },
      "source": [
        "# np.arange(stop:number, dtype=None), np.arnage(start, stop), np.arange(start, stop, step)\n",
        "a = np.arange(5)\n",
        "b = np.arange(1, 10, 2)\n",
        "c = np.arange(1, 2, 0.1)\n",
        "printary(a, b, c)"
      ],
      "execution_count": 19,
      "outputs": [
        {
          "output_type": "stream",
          "name": "stdout",
          "text": [
            "<class 'numpy.ndarray'>\n",
            "int64\n",
            "[0 1 2 3 4]\n",
            "\n",
            "<class 'numpy.ndarray'>\n",
            "int64\n",
            "[1 3 5 7 9]\n",
            "\n",
            "<class 'numpy.ndarray'>\n",
            "float64\n",
            "[1.  1.1 1.2 1.3 1.4 1.5 1.6 1.7 1.8 1.9]\n",
            "\n",
            "------------------------------\n"
          ]
        }
      ]
    },
    {
      "cell_type": "code",
      "metadata": {
        "id": "Ja3Vmvp7XRKE",
        "colab": {
          "base_uri": "https://localhost:8080/",
          "height": 852
        },
        "outputId": "c6682e49-59c8-4c41-94bf-1bce1b7289f1"
      },
      "source": [
        "#그래프 그릴때 축설정으로 사용 예\n",
        "import matplotlib.pyplot as plt\n",
        "x = np.arange(0, 10, 0.1)\n",
        "y = np.sin(x)\n",
        "print(x)\n",
        "print(y)\n",
        "plt.plot(x, y)\n",
        "plt.show()"
      ],
      "execution_count": 23,
      "outputs": [
        {
          "output_type": "stream",
          "name": "stdout",
          "text": [
            "[0.  0.1 0.2 0.3 0.4 0.5 0.6 0.7 0.8 0.9 1.  1.1 1.2 1.3 1.4 1.5 1.6 1.7\n",
            " 1.8 1.9 2.  2.1 2.2 2.3 2.4 2.5 2.6 2.7 2.8 2.9 3.  3.1 3.2 3.3 3.4 3.5\n",
            " 3.6 3.7 3.8 3.9 4.  4.1 4.2 4.3 4.4 4.5 4.6 4.7 4.8 4.9 5.  5.1 5.2 5.3\n",
            " 5.4 5.5 5.6 5.7 5.8 5.9 6.  6.1 6.2 6.3 6.4 6.5 6.6 6.7 6.8 6.9 7.  7.1\n",
            " 7.2 7.3 7.4 7.5 7.6 7.7 7.8 7.9 8.  8.1 8.2 8.3 8.4 8.5 8.6 8.7 8.8 8.9\n",
            " 9.  9.1 9.2 9.3 9.4 9.5 9.6 9.7 9.8 9.9]\n",
            "[ 0.          0.09983342  0.19866933  0.29552021  0.38941834  0.47942554\n",
            "  0.56464247  0.64421769  0.71735609  0.78332691  0.84147098  0.89120736\n",
            "  0.93203909  0.96355819  0.98544973  0.99749499  0.9995736   0.99166481\n",
            "  0.97384763  0.94630009  0.90929743  0.86320937  0.8084964   0.74570521\n",
            "  0.67546318  0.59847214  0.51550137  0.42737988  0.33498815  0.23924933\n",
            "  0.14112001  0.04158066 -0.05837414 -0.15774569 -0.2555411  -0.35078323\n",
            " -0.44252044 -0.52983614 -0.61185789 -0.68776616 -0.7568025  -0.81827711\n",
            " -0.87157577 -0.91616594 -0.95160207 -0.97753012 -0.993691   -0.99992326\n",
            " -0.99616461 -0.98245261 -0.95892427 -0.92581468 -0.88345466 -0.83226744\n",
            " -0.77276449 -0.70554033 -0.63126664 -0.55068554 -0.46460218 -0.37387666\n",
            " -0.2794155  -0.1821625  -0.0830894   0.0168139   0.1165492   0.21511999\n",
            "  0.31154136  0.40484992  0.49411335  0.57843976  0.6569866   0.72896904\n",
            "  0.79366786  0.85043662  0.8987081   0.93799998  0.96791967  0.98816823\n",
            "  0.99854335  0.99894134  0.98935825  0.96988981  0.94073056  0.90217183\n",
            "  0.85459891  0.79848711  0.7343971   0.66296923  0.58491719  0.50102086\n",
            "  0.41211849  0.31909836  0.22288991  0.12445442  0.02477543 -0.07515112\n",
            " -0.17432678 -0.27176063 -0.36647913 -0.45753589]\n"
          ]
        },
        {
          "output_type": "display_data",
          "data": {
            "text/plain": [
              "<Figure size 640x480 with 1 Axes>"
            ],
            "image/png": "[encoded data removed]"
          },
          "metadata": {}
        }
      ]
    },
    {
      "cell_type": "code",
      "metadata": {
        "id": "VffWhSum7NdP",
        "colab": {
          "base_uri": "https://localhost:8080/"
        },
        "outputId": "444577a8-2e0b-4123-d7a7-1284ece690cf"
      },
      "source": [
        "# 1개 값도 array_like 이다\n",
        "x = np.array(1)\n",
        "print(x, type(x))"
      ],
      "execution_count": null,
      "outputs": [
        {
          "output_type": "stream",
          "name": "stdout",
          "text": [
            "1 <class 'numpy.ndarray'>\n"
          ]
        }
      ]
    },
    {
      "cell_type": "markdown",
      "metadata": {
        "id": "izOR5P5FRzoq"
      },
      "source": [
        "#####3) np.linspace 사용"
      ]
    },
    {
      "cell_type": "code",
      "metadata": {
        "id": "SomZfC8i2v4t",
        "colab": {
          "base_uri": "https://localhost:8080/"
        },
        "outputId": "42e81d20-4c05-404f-839f-050c52435eae"
      },
      "source": [
        "# np.linspace(start:array_like, stop, num=50, endpoint=True, retstep=False, dtype=None)\n",
        "a = np.linspace(1, 5, 9)\n",
        "b = np.linspace(1, 5, 10, endpoint=False)\n",
        "c = np.linspace(1, 5, 9, retstep=True)\n",
        "print(a, b, c, sep=\"\\n\")"
      ],
      "execution_count": 27,
      "outputs": [
        {
          "output_type": "stream",
          "name": "stdout",
          "text": [
            "[1.  1.5 2.  2.5 3.  3.5 4.  4.5 5. ]\n",
            "[1.  1.4 1.8 2.2 2.6 3.  3.4 3.8 4.2 4.6]\n",
            "(array([1. , 1.5, 2. , 2.5, 3. , 3.5, 4. , 4.5, 5. ]), 0.5)\n"
          ]
        }
      ]
    },
    {
      "cell_type": "code",
      "metadata": {
        "id": "iN3D9iNX7ff2",
        "colab": {
          "base_uri": "https://localhost:8080/"
        },
        "outputId": "4d36371a-c01d-41cf-b630-7c0ce527fee5"
      },
      "source": [
        "x = np.linspace([1, 2, 3], [2, 4, 6], num=5)\n",
        "print(x)"
      ],
      "execution_count": 28,
      "outputs": [
        {
          "output_type": "stream",
          "name": "stdout",
          "text": [
            "[[1.   2.   3.  ]\n",
            " [1.25 2.5  3.75]\n",
            " [1.5  3.   4.5 ]\n",
            " [1.75 3.5  5.25]\n",
            " [2.   4.   6.  ]]\n"
          ]
        }
      ]
    },
    {
      "cell_type": "code",
      "metadata": {
        "id": "xtwBbyt3YQGD",
        "colab": {
          "base_uri": "https://localhost:8080/",
          "height": 430
        },
        "outputId": "92623727-bbc4-4cbe-c75d-c14fee73b71f"
      },
      "source": [
        "x = np.linspace(0, 10, 60)\n",
        "y = np.sin(x)\n",
        "plt.plot(x, y)\n",
        "plt.show()"
      ],
      "execution_count": null,
      "outputs": [
        {
          "output_type": "display_data",
          "data": {
            "text/plain": [
              "<Figure size 640x480 with 1 Axes>"
            ],
            "image/png": "[encoded data removed]"
          },
          "metadata": {}
        }
      ]
    },
    {
      "cell_type": "markdown",
      "metadata": {
        "id": "9O5V_mLvRYut"
      },
      "source": [
        "#####4) random 사용"
      ]
    },
    {
      "cell_type": "code",
      "metadata": {
        "id": "NeEBTlxPJoXq"
      },
      "source": [
        "import numpy as np\n",
        "import matplotlib.pyplot as plt"
      ],
      "execution_count": 29,
      "outputs": []
    },
    {
      "cell_type": "code",
      "metadata": {
        "id": "E2KeXp0vNmKl"
      },
      "source": [
        "np.set_printoptions(threshold=999,\n",
        "                    suppress=True,\n",
        "                    precision=4,\n",
        "                    edgeitems=3)"
      ],
      "execution_count": 30,
      "outputs": []
    },
    {
      "cell_type": "code",
      "metadata": {
        "id": "elDSwjaDYz5h"
      },
      "source": [
        "def printary(*a):\n",
        "    for x in a :\n",
        "        print(f\"shape : {x.shape}\")\n",
        "        print(f\"array : %s{x} \" % ('' if x.ndim == 1 else '\\n'))\n",
        "        print(\"mean  : %.3f, std : %.3f\" % (x.mean(), x.std()))\n",
        "        print(\"-\" * 30)"
      ],
      "execution_count": 31,
      "outputs": []
    },
    {
      "cell_type": "code",
      "metadata": {
        "id": "a-XJWhgzJUXV"
      },
      "source": [
        "def showHist(x):\n",
        "  plt.hist(x)\n",
        "  plt.show()"
      ],
      "execution_count": 32,
      "outputs": []
    },
    {
      "cell_type": "code",
      "metadata": {
        "id": "V8bwah-tY3yn",
        "colab": {
          "base_uri": "https://localhost:8080/"
        },
        "outputId": "1ee21c64-2ba7-4fd9-ad59-335ef4db46ce"
      },
      "source": [
        "# np.random.rand(d0, d1, ...,dn)\n",
        "# 0~1 사이의 균일 분포로 실수 난수 배열 생성\n",
        "# d0, d1, ..., dn : 배열의 shape을 의미하는 정수\n",
        "a = np.random.rand(5)\n",
        "b = np.random.rand(2, 2, 3)\n",
        "printary(a, b)"
      ],
      "execution_count": 33,
      "outputs": [
        {
          "output_type": "stream",
          "name": "stdout",
          "text": [
            "shape : (5,)\n",
            "array : [0.3114 0.4815 0.1065 0.9465 0.772 ] \n",
            "mean  : 0.524, std : 0.304\n",
            "------------------------------\n",
            "shape : (2, 2, 3)\n",
            "array : \n",
            "[[[0.9084 0.7568 0.3852]\n",
            "  [0.2457 0.7869 0.78  ]]\n",
            "\n",
            " [[0.873  0.015  0.6027]\n",
            "  [0.8502 0.5926 0.614 ]]] \n",
            "mean  : 0.618, std : 0.264\n",
            "------------------------------\n"
          ]
        }
      ]
    },
    {
      "cell_type": "code",
      "metadata": {
        "id": "JUZGLTYwKUOp",
        "colab": {
          "base_uri": "https://localhost:8080/",
          "height": 430
        },
        "outputId": "44aec609-d293-43f5-b984-9abf1b188d6a"
      },
      "source": [
        "showHist(np.random.rand(5000))"
      ],
      "execution_count": 34,
      "outputs": [
        {
          "output_type": "display_data",
          "data": {
            "text/plain": [
              "<Figure size 640x480 with 1 Axes>"
            ],
            "image/png": "[encoded data removed]"
          },
          "metadata": {}
        }
      ]
    },
    {
      "cell_type": "code",
      "metadata": {
        "id": "ENjYBYktZAW6",
        "colab": {
          "base_uri": "https://localhost:8080/"
        },
        "outputId": "4a6be2fb-8dd2-4d54-b231-5091517bf992"
      },
      "source": [
        "# np.random.randint(e, size=n)\n",
        "# np.random.randint(s, e, size=n)\n",
        "# 0~e-1, s~e-1 범위의 값을 갖는 균일 분포의 정수 난수 생성\n",
        "# size : 정수(1차원), tuple(1차원 이상)로 shape 지정\n",
        "a = np.random.randint(10, size=(5,))\n",
        "b = np.random.randint(50, 100, (2,4))\n",
        "printary(a, b)"
      ],
      "execution_count": 35,
      "outputs": [
        {
          "output_type": "stream",
          "name": "stdout",
          "text": [
            "shape : (5,)\n",
            "array : [5 4 6 3 5] \n",
            "mean  : 4.600, std : 1.020\n",
            "------------------------------\n",
            "shape : (2, 4)\n",
            "array : \n",
            "[[98 68 77 82]\n",
            " [61 69 52 88]] \n",
            "mean  : 74.375, std : 13.955\n",
            "------------------------------\n"
          ]
        }
      ]
    },
    {
      "cell_type": "code",
      "metadata": {
        "id": "quiwa313KgQP",
        "colab": {
          "base_uri": "https://localhost:8080/",
          "height": 430
        },
        "outputId": "a08d9499-fecd-4319-bf3d-e1753b0cfeae"
      },
      "source": [
        "showHist(np.random.randint(10, size=5000))"
      ],
      "execution_count": 36,
      "outputs": [
        {
          "output_type": "display_data",
          "data": {
            "text/plain": [
              "<Figure size 640x480 with 1 Axes>"
            ],
            "image/png": "[encoded data removed]"
          },
          "metadata": {}
        }
      ]
    },
    {
      "cell_type": "code",
      "metadata": {
        "id": "CDtECsWcZAt5",
        "colab": {
          "base_uri": "https://localhost:8080/"
        },
        "outputId": "ef89174b-e12f-4247-9340-64eb371dcfde"
      },
      "source": [
        "# np.random.randn(d0, d1, ... dn)\n",
        "# 평균 0, 표준편차 1을 갖는 가우시안 표준 정규 분포로 난수 배열 생성(음수 포함)\n",
        "a = np.random.randn(5)\n",
        "b = np.random.randn(200, 50)\n",
        "printary(a, b)"
      ],
      "execution_count": 40,
      "outputs": [
        {
          "output_type": "stream",
          "name": "stdout",
          "text": [
            "shape : (5,)\n",
            "array : [-0.6223 -0.6481  0.4963  1.6253 -1.2526] \n",
            "mean  : -0.080, std : 1.023\n",
            "------------------------------\n",
            "shape : (200, 50)\n",
            "array : \n",
            "[[-0.5943 -1.0633 -0.5782 ...  0.9834  1.1799 -0.1291]\n",
            " [ 1.3009 -1.0485 -0.1065 ...  0.7423  1.5204  0.0918]\n",
            " [ 0.9853  0.2554  0.7892 ...  0.8786  0.4918  0.3574]\n",
            " ...\n",
            " [-0.0593 -0.3944  0.795  ... -0.32   -0.7099 -0.711 ]\n",
            " [ 0.2888  0.1381 -2.4343 ...  1.0947 -0.1292  0.0965]\n",
            " [ 1.3076  0.4883 -0.1953 ... -0.7288 -0.2774 -0.2652]] \n",
            "mean  : -0.009, std : 1.009\n",
            "------------------------------\n"
          ]
        }
      ]
    },
    {
      "cell_type": "code",
      "metadata": {
        "id": "jYacgdPSLx40",
        "colab": {
          "base_uri": "https://localhost:8080/",
          "height": 432
        },
        "outputId": "4ac01820-432c-49c7-c92d-19aab5fc52a1"
      },
      "source": [
        "showHist(np.random.randn(5000))"
      ],
      "execution_count": 38,
      "outputs": [
        {
          "output_type": "display_data",
          "data": {
            "text/plain": [
              "<Figure size 640x480 with 1 Axes>"
            ],
            "image/png": "[encoded data removed]"
          },
          "metadata": {}
        }
      ]
    },
    {
      "cell_type": "code",
      "metadata": {
        "id": "wygHi7PjZEvG",
        "colab": {
          "base_uri": "https://localhost:8080/"
        },
        "outputId": "2b4fc12f-f936-499a-f254-e3f6483ec024"
      },
      "source": [
        "# np.random.normal(평균, 표준편차, size)\n",
        "# 생략하면 평균=0, 표준편차=1, size=1이 됨\n",
        "a = np.random.normal(2, 3, (100, 20))\n",
        "printary(a)"
      ],
      "execution_count": null,
      "outputs": [
        {
          "output_type": "stream",
          "name": "stdout",
          "text": [
            "shape : (100, 20)\n",
            "array : \n",
            "[[ 1.2093 -4.497   4.7627 ...  7.1235  4.9453  3.4295]\n",
            " [ 2.2606  3.6458 -0.5483 ... -2.3593  1.0489 -2.6945]\n",
            " [ 1.0378 -0.9198 -3.6417 ... -1.8003  0.6606  2.3531]\n",
            " ...\n",
            " [ 4.8038 -0.6692  5.4373 ...  2.4804 -0.5147  2.3558]\n",
            " [ 2.0397  5.4833  6.6077 ...  2.9545  5.6433  7.4699]\n",
            " [-2.0556  0.3831  2.0844 ...  3.2426 -0.4133 -0.1916]] \n",
            "mean  : 1.969, std : 2.952\n",
            "------------------------------\n"
          ]
        }
      ]
    },
    {
      "cell_type": "code",
      "metadata": {
        "id": "dW9EHc4KMFHq",
        "colab": {
          "base_uri": "https://localhost:8080/",
          "height": 430
        },
        "outputId": "ee07cac2-fc1f-4ac2-9041-12612cd66c2f"
      },
      "source": [
        "showHist(np.random.normal(2, 1, (5000,)))"
      ],
      "execution_count": 41,
      "outputs": [
        {
          "output_type": "display_data",
          "data": {
            "text/plain": [
              "<Figure size 640x480 with 1 Axes>"
            ],
            "image/png": "[encoded data removed]"
          },
          "metadata": {}
        }
      ]
    },
    {
      "cell_type": "code",
      "metadata": {
        "id": "RlkVVwimZGPU",
        "colab": {
          "base_uri": "https://localhost:8080/"
        },
        "outputId": "24c4b248-60de-4085-dd6e-b5ddf2b8dd95"
      },
      "source": [
        "#np.random.permutation(e) : 0 ~ e-1 값을 갖는 정수의 무작위 순서 1차원 배열 생성\n",
        "#np.random.permutation(c) : c 요소들에 대해 무작위 순서로 변경된 1차원 배열 생성\n",
        "# e : 정수, c : array_like 객체\n",
        "a = np.random.permutation(10)\n",
        "\n",
        "data = np.array([1,3,4,5,3,1,3])\n",
        "b = np.random.permutation(data)\n",
        "\n",
        "mylist = [[1,2,3],[4,5,6],[7,8,9],[3,2,1]]\n",
        "c = np.random.permutation(mylist)\n",
        "\n",
        "printary(a, b, c)"
      ],
      "execution_count": 43,
      "outputs": [
        {
          "output_type": "stream",
          "name": "stdout",
          "text": [
            "shape : (10,)\n",
            "array : [7 1 8 6 5 3 9 0 2 4] \n",
            "mean  : 4.500, std : 2.872\n",
            "------------------------------\n",
            "shape : (7,)\n",
            "array : [3 5 3 1 3 4 1] \n",
            "mean  : 2.857, std : 1.355\n",
            "------------------------------\n",
            "shape : (4, 3)\n",
            "array : \n",
            "[[3 2 1]\n",
            " [1 2 3]\n",
            " [4 5 6]\n",
            " [7 8 9]] \n",
            "mean  : 4.250, std : 2.618\n",
            "------------------------------\n"
          ]
        }
      ]
    },
    {
      "cell_type": "markdown",
      "metadata": {
        "id": "N5wKSDBISP9s"
      },
      "source": [
        "#####5) 특정값으로 채워진 ndarray생성"
      ]
    },
    {
      "cell_type": "code",
      "metadata": {
        "id": "go9HTvACVz0o"
      },
      "source": [
        "import numpy as np"
      ],
      "execution_count": null,
      "outputs": []
    },
    {
      "cell_type": "code",
      "metadata": {
        "id": "giV_NupJM07F"
      },
      "source": [
        "def printary(*a):\n",
        "    for x in a:\n",
        "        print(f'{x.dtype}\\n{x}')\n",
        "    print(\"-\" * 30)"
      ],
      "execution_count": null,
      "outputs": []
    },
    {
      "cell_type": "code",
      "metadata": {
        "id": "UDOFqOp2M20K"
      },
      "source": [
        "mshape = (2, 3)"
      ],
      "execution_count": null,
      "outputs": []
    },
    {
      "cell_type": "code",
      "metadata": {
        "id": "V-FFUiygW80K",
        "colab": {
          "base_uri": "https://localhost:8080/"
        },
        "outputId": "b571d7ca-c967-4139-9026-64fb30e95e0f"
      },
      "source": [
        "#np.zeros(shape, dtype=float64)\n",
        "#shape: 정수(1차원), tuple(1차원 이상)\n",
        "a = np.zeros(10, dtype = np.int32)\n",
        "b = np.zeros(mshape)\n",
        "printary(a, b)"
      ],
      "execution_count": null,
      "outputs": [
        {
          "output_type": "stream",
          "name": "stdout",
          "text": [
            "int32\n",
            "[0 0 0 0 0 0 0 0 0 0]\n",
            "float64\n",
            "[[0. 0. 0.]\n",
            " [0. 0. 0.]]\n",
            "------------------------------\n"
          ]
        }
      ]
    },
    {
      "cell_type": "code",
      "metadata": {
        "id": "JVQ-9uQ8NBiC",
        "colab": {
          "base_uri": "https://localhost:8080/"
        },
        "outputId": "90cb2a22-bf08-486b-b693-dd89102ddf49"
      },
      "source": [
        "#np.empty(shape, dtype=float64)\n",
        "a = np.empty(10, dtype=np.int32)\n",
        "b = np.empty(mshape)\n",
        "printary(a, b)"
      ],
      "execution_count": null,
      "outputs": [
        {
          "output_type": "stream",
          "name": "stdout",
          "text": [
            "int32\n",
            "[5 0 6 0 7 0 8 0 9 0]\n",
            "float64\n",
            "[[0. 0. 0.]\n",
            " [0. 0. 0.]]\n",
            "------------------------------\n"
          ]
        }
      ]
    },
    {
      "cell_type": "code",
      "metadata": {
        "id": "N6hR3FHBND2r",
        "colab": {
          "base_uri": "https://localhost:8080/"
        },
        "outputId": "de24530f-9856-4a18-c1a9-f04a2d85c95c"
      },
      "source": [
        "#np.ones(shape,dtype=float64)\n",
        "#np.full(shape, value, dtype=None)\n",
        "a = np.ones(mshape)\n",
        "b = np.full(mshape, 5)\n",
        "printary(a, b)"
      ],
      "execution_count": null,
      "outputs": [
        {
          "output_type": "stream",
          "name": "stdout",
          "text": [
            "float64\n",
            "[[1. 1. 1.]\n",
            " [1. 1. 1.]]\n",
            "int64\n",
            "[[5 5 5]\n",
            " [5 5 5]]\n",
            "------------------------------\n"
          ]
        }
      ]
    },
    {
      "cell_type": "code",
      "metadata": {
        "id": "DofBjBf_V6yg",
        "colab": {
          "base_uri": "https://localhost:8080/"
        },
        "outputId": "c742a8b2-f3c1-4c7b-fa28-8ef4e308435c"
      },
      "source": [
        "#np.eye(N, M=None, k=0, dtype=float64)\n",
        "a = np.eye(3)\n",
        "b = np.eye(3, 5, 2)\n",
        "c = np.eye(3, 5, -1)\n",
        "printary(a, b, c)"
      ],
      "execution_count": null,
      "outputs": [
        {
          "output_type": "stream",
          "name": "stdout",
          "text": [
            "float64\n",
            "[[1. 0. 0.]\n",
            " [0. 1. 0.]\n",
            " [0. 0. 1.]]\n",
            "float64\n",
            "[[0. 0. 1. 0. 0.]\n",
            " [0. 0. 0. 1. 0.]\n",
            " [0. 0. 0. 0. 1.]]\n",
            "float64\n",
            "[[0. 0. 0. 0. 0.]\n",
            " [1. 0. 0. 0. 0.]\n",
            " [0. 1. 0. 0. 0.]]\n",
            "------------------------------\n"
          ]
        }
      ]
    },
    {
      "cell_type": "code",
      "metadata": {
        "id": "15p7gou2NHYX",
        "colab": {
          "base_uri": "https://localhost:8080/"
        },
        "outputId": "d0d3dbe1-ce99-4652-aba9-b7c3d79f9fbf"
      },
      "source": [
        "#np.zeros_like(array_like, dtype=None)\n",
        "a = np.zeros_like([1,2,3])\n",
        "b = np.empty_like([1,2,3])\n",
        "printary(a, b)"
      ],
      "execution_count": null,
      "outputs": [
        {
          "output_type": "stream",
          "name": "stdout",
          "text": [
            "int64\n",
            "[0 0 0]\n",
            "int64\n",
            "[4611686018427387904 4616189618054758400 4618441417868443648]\n",
            "------------------------------\n"
          ]
        }
      ]
    },
    {
      "cell_type": "code",
      "metadata": {
        "id": "nYL2G9CyWb4C",
        "colab": {
          "base_uri": "https://localhost:8080/"
        },
        "outputId": "075b36d7-bcb4-41ac-8b21-402d8a66bb24"
      },
      "source": [
        "a = np.ones_like([[1,2,3],[4,5,6]], dtype=np.float32)\n",
        "b = np.full_like(np.arange(5), 5)\n",
        "printary(a, b)"
      ],
      "execution_count": null,
      "outputs": [
        {
          "output_type": "stream",
          "name": "stdout",
          "text": [
            "float32\n",
            "[[1. 1. 1.]\n",
            " [1. 1. 1.]]\n",
            "int64\n",
            "[5 5 5 5 5]\n",
            "------------------------------\n"
          ]
        }
      ]
    },
    {
      "cell_type": "markdown",
      "metadata": {
        "id": "HDM07aLpZ0QY"
      },
      "source": [
        "###4.view or copy"
      ]
    },
    {
      "cell_type": "code",
      "metadata": {
        "id": "pMXJUkFkaPf2"
      },
      "source": [
        "def npinfo(n, a, x):\n",
        "    print(\"name    :\", n)\n",
        "    print(\"share   :\", np.may_share_memory(a, x) )\n",
        "    print(\"data    :\", x.tolist())\n",
        "    print(\"ndim    :\", x.ndim)\n",
        "    print(\"shape   :\", x.shape)\n",
        "    print(\"dtype   :\", x.dtype)\n",
        "    print(\"-\" * 30)"
      ],
      "execution_count": null,
      "outputs": []
    },
    {
      "cell_type": "code",
      "metadata": {
        "id": "WkEdtd79abHO",
        "colab": {
          "base_uri": "https://localhost:8080/"
        },
        "outputId": "7f90e0d2-2ffb-4eff-81b5-81d9fde26dba"
      },
      "source": [
        "# copy\n",
        "a = np.array([[True, True], [False, False]], dtype=np.bool)\n",
        "b = a.copy()\n",
        "b[0, 0] = False  # 0 also can use\n",
        "npinfo(\"original\", a, a)\n",
        "npinfo(\"copy\", a, b)"
      ],
      "execution_count": null,
      "outputs": [
        {
          "output_type": "stream",
          "name": "stdout",
          "text": [
            "name    : original\n",
            "share   : True\n",
            "data    : [[True, True], [False, False]]\n",
            "ndim    : 2\n",
            "shape   : (2, 2)\n",
            "dtype   : bool\n",
            "------------------------------\n",
            "name    : copy\n",
            "share   : False\n",
            "data    : [[False, True], [False, False]]\n",
            "ndim    : 2\n",
            "shape   : (2, 2)\n",
            "dtype   : bool\n",
            "------------------------------\n"
          ]
        },
        {
          "output_type": "stream",
          "name": "stderr",
          "text": [
            "<ipython-input-51-a38e532c143c>:2: DeprecationWarning: `np.bool` is a deprecated alias for the builtin `bool`. To silence this warning, use `bool` by itself. Doing this will not modify any behavior and is safe. If you specifically wanted the numpy scalar type, use `np.bool_` here.\n",
            "Deprecated in NumPy 1.20; for more details and guidance: https://numpy.org/devdocs/release/1.20.0-notes.html#deprecations\n",
            "  a = np.array([[True, True], [False, False]], dtype=np.bool)\n"
          ]
        }
      ]
    },
    {
      "cell_type": "code",
      "metadata": {
        "id": "ek_KJjLDabUn",
        "colab": {
          "base_uri": "https://localhost:8080/"
        },
        "outputId": "ae0ffe15-2f63-4186-9144-0a7320664e8d"
      },
      "source": [
        "# view\n",
        "a = np.array([[True, True], [False, False]], dtype=np.bool)\n",
        "b = a.view(np.bool)\n",
        "b[0, 0] = 0\n",
        "npinfo(\"original\", a, a)\n",
        "npinfo(\"view\", a, b)"
      ],
      "execution_count": null,
      "outputs": [
        {
          "output_type": "stream",
          "name": "stdout",
          "text": [
            "name    : original\n",
            "share   : True\n",
            "data    : [[False, True], [False, False]]\n",
            "ndim    : 2\n",
            "shape   : (2, 2)\n",
            "dtype   : bool\n",
            "------------------------------\n",
            "name    : view\n",
            "share   : True\n",
            "data    : [[False, True], [False, False]]\n",
            "ndim    : 2\n",
            "shape   : (2, 2)\n",
            "dtype   : bool\n",
            "------------------------------\n"
          ]
        },
        {
          "output_type": "stream",
          "name": "stderr",
          "text": [
            "<ipython-input-54-9a99409e6f5e>:2: DeprecationWarning: `np.bool` is a deprecated alias for the builtin `bool`. To silence this warning, use `bool` by itself. Doing this will not modify any behavior and is safe. If you specifically wanted the numpy scalar type, use `np.bool_` here.\n",
            "Deprecated in NumPy 1.20; for more details and guidance: https://numpy.org/devdocs/release/1.20.0-notes.html#deprecations\n",
            "  a = np.array([[True, True], [False, False]], dtype=np.bool)\n",
            "<ipython-input-54-9a99409e6f5e>:3: DeprecationWarning: `np.bool` is a deprecated alias for the builtin `bool`. To silence this warning, use `bool` by itself. Doing this will not modify any behavior and is safe. If you specifically wanted the numpy scalar type, use `np.bool_` here.\n",
            "Deprecated in NumPy 1.20; for more details and guidance: https://numpy.org/devdocs/release/1.20.0-notes.html#deprecations\n",
            "  b = a.view(np.bool)\n"
          ]
        }
      ]
    },
    {
      "cell_type": "markdown",
      "metadata": {
        "id": "9KmFk1z7bK2q"
      },
      "source": [
        "###5.ndarray 변환 (reshape, flatten)"
      ]
    },
    {
      "cell_type": "code",
      "metadata": {
        "id": "zgGKTwcGbS3R"
      },
      "source": [
        "import sys\n",
        "def npinfo(n, a, x):\n",
        "    print(\"name   :\", n)\n",
        "    print(\"share  :\", np.may_share_memory(a, x))\n",
        "    print(\"data   :\", x.tolist())\n",
        "    print(\"shape  :\", x.shape)\n",
        "    print(\"dtype  :\", x.dtype)\n",
        "    print(\"stride :\", x.strides)\n",
        "    print(\"addr   :\", x.__array_interface__['data'][0])\n",
        "    print(\"sizeof :\", sys.getsizeof(x))\n",
        "    print(\"-\" * 30)"
      ],
      "execution_count": null,
      "outputs": []
    },
    {
      "cell_type": "code",
      "metadata": {
        "id": "FuKowQEnbaD1",
        "colab": {
          "base_uri": "https://localhost:8080/"
        },
        "outputId": "51874ec4-1f5b-413a-bde7-2870fe4ebc0d"
      },
      "source": [
        "#np.reshape(a, newshape: int or tuple or ints, order='C')\n",
        "#arr.reshape(newshape: int or tuple or ints, order='C')\n",
        "a = np.array([[1,2,3],[4,5,6]])\n",
        "b = a.reshape(1, -1)\n",
        "npinfo(\"a.reshape(1, -1)\", a, b)"
      ],
      "execution_count": null,
      "outputs": [
        {
          "output_type": "stream",
          "name": "stdout",
          "text": [
            "name   : a.reshape(1, -1)\n",
            "share  : True\n",
            "data   : [[1, 2, 3, 4, 5, 6]]\n",
            "shape  : (1, 6)\n",
            "dtype  : int64\n",
            "stride : (48, 8)\n",
            "addr   : 20071696\n",
            "sizeof : 128\n",
            "------------------------------\n"
          ]
        }
      ]
    },
    {
      "cell_type": "code",
      "metadata": {
        "id": "9C5cNwsBgG-a",
        "colab": {
          "base_uri": "https://localhost:8080/"
        },
        "outputId": "4d3f78b8-b156-4cbf-fc69-c35499843a70"
      },
      "source": [
        "b = a.reshape(-1)\n",
        "# b[0] = 100\n",
        "npinfo(\"a.reshape(-1)\", a, b)\n",
        "# a.tolist(), b.tolist()"
      ],
      "execution_count": null,
      "outputs": [
        {
          "output_type": "stream",
          "name": "stdout",
          "text": [
            "name   : a.reshape(-1)\n",
            "share  : True\n",
            "data   : [100, 2, 3, 4, 5, 6]\n",
            "shape  : (6,)\n",
            "dtype  : int64\n",
            "stride : (8,)\n",
            "addr   : 22490608\n",
            "sizeof : 112\n",
            "------------------------------\n"
          ]
        }
      ]
    },
    {
      "cell_type": "code",
      "metadata": {
        "id": "lYYJy0iUgV46",
        "colab": {
          "base_uri": "https://localhost:8080/"
        },
        "outputId": "4b885625-a036-4d4d-84c2-22506391374b"
      },
      "source": [
        "b = a.reshape(-1, 1)\n",
        "npinfo(\"a.reshape(-1, 1)\", a, b)"
      ],
      "execution_count": null,
      "outputs": [
        {
          "output_type": "stream",
          "name": "stdout",
          "text": [
            "name   : a.reshape(-1, 1)\n",
            "share  : True\n",
            "data   : [[100], [2], [3], [4], [5], [6]]\n",
            "shape  : (6, 1)\n",
            "dtype  : int64\n",
            "stride : (8, 8)\n",
            "addr   : 22490608\n",
            "sizeof : 128\n",
            "------------------------------\n"
          ]
        }
      ]
    },
    {
      "cell_type": "code",
      "metadata": {
        "id": "__d4C9AsgD8i",
        "colab": {
          "base_uri": "https://localhost:8080/"
        },
        "outputId": "6b137697-e633-4a4d-941c-13eb0c6395f3"
      },
      "source": [
        "b = a.reshape(-1, 1, order='F')\n",
        "npinfo(\"a.reshape(-1, 1, order='F')\", a, b)"
      ],
      "execution_count": null,
      "outputs": [
        {
          "output_type": "stream",
          "name": "stdout",
          "text": [
            "name   : a.reshape(-1, 1, order='F')\n",
            "share  : False\n",
            "data   : [[1], [4], [2], [5], [3], [6]]\n",
            "shape  : (6, 1)\n",
            "dtype  : int64\n",
            "stride : (8, 48)\n",
            "addr   : 26286000\n",
            "sizeof : 128\n",
            "------------------------------\n"
          ]
        }
      ]
    },
    {
      "cell_type": "code",
      "metadata": {
        "id": "9zqDDVlOmy71",
        "colab": {
          "base_uri": "https://localhost:8080/"
        },
        "outputId": "92246338-15cd-4d39-98bb-7e47acbc54aa"
      },
      "source": [
        "a = np.array([[1,2,3], [4, 5, 6]], dtype=np.int32)\n",
        "print(a)"
      ],
      "execution_count": null,
      "outputs": [
        {
          "output_type": "stream",
          "name": "stdout",
          "text": [
            "[[1 2 3]\n",
            " [4 5 6]]\n"
          ]
        }
      ]
    },
    {
      "cell_type": "code",
      "metadata": {
        "id": "GLsPy4mtglYe",
        "colab": {
          "base_uri": "https://localhost:8080/"
        },
        "outputId": "3fd6b9f3-5bfa-4ec8-b6c3-fb459293e359"
      },
      "source": [
        "b = a.flatten()\n",
        "b[0] = 100\n",
        "npinfo(\"a.flatten()\", a, b)\n",
        "a.tolist(), b.tolist()"
      ],
      "execution_count": null,
      "outputs": [
        {
          "output_type": "stream",
          "name": "stdout",
          "text": [
            "name   : a.flatten()\n",
            "share  : False\n",
            "data   : [100, 2, 3, 4, 5, 6]\n",
            "shape  : (6,)\n",
            "dtype  : int32\n",
            "stride : (4,)\n",
            "addr   : 12257888\n",
            "sizeof : 136\n",
            "------------------------------\n"
          ]
        },
        {
          "output_type": "execute_result",
          "data": {
            "text/plain": [
              "([[1, 2, 3], [4, 5, 6]], [100, 2, 3, 4, 5, 6])"
            ]
          },
          "metadata": {},
          "execution_count": 83
        }
      ]
    },
    {
      "cell_type": "code",
      "metadata": {
        "id": "41sZIwcRbaQq",
        "colab": {
          "base_uri": "https://localhost:8080/"
        },
        "outputId": "241d65ef-6e46-40f7-893a-3cdad03d5c7b"
      },
      "source": [
        "a = np.array([[1,2,3],[4,5,6]])\n",
        "b = a.astype(np.int32)\n",
        "npinfo(\"a.astype(np.int32)\", a, b)"
      ],
      "execution_count": null,
      "outputs": [
        {
          "output_type": "stream",
          "name": "stdout",
          "text": [
            "name   : a.astype(np.int32)\n",
            "share  : False\n",
            "data   : [[1, 2, 3], [4, 5, 6]]\n",
            "shape  : (2, 3)\n",
            "dtype  : int32\n",
            "stride : (12, 4)\n",
            "addr   : 12257888\n",
            "sizeof : 152\n",
            "------------------------------\n"
          ]
        }
      ]
    },
    {
      "cell_type": "markdown",
      "metadata": {
        "id": "2n6eI33UErrP"
      },
      "source": [
        "### 6.ndarray의 연산"
      ]
    },
    {
      "cell_type": "markdown",
      "metadata": {
        "id": "rncb5OyWbKyj"
      },
      "source": [
        "#### 1) ndarray 산술연산"
      ]
    },
    {
      "cell_type": "code",
      "metadata": {
        "id": "xJhvY3vAr4xK"
      },
      "source": [
        "import numpy as np"
      ],
      "execution_count": null,
      "outputs": []
    },
    {
      "cell_type": "code",
      "metadata": {
        "id": "Y97R6B34b5E4",
        "colab": {
          "base_uri": "https://localhost:8080/"
        },
        "outputId": "942de60a-ec31-4b73-8ec7-157910101e99"
      },
      "source": [
        "#element-wise 방식으로 연산이 이루어짐\n",
        "a = np.array( range(1, 7) )\n",
        "b = np.array( range(7, 13) )\n",
        "print('a =', a)\n",
        "print('b =', b)\n",
        "print('a +  b =', a + b)\n",
        "print('b -  a =', b - a)\n",
        "print('a *  b =', a * b)\n",
        "print('b /  a =', b / a)\n",
        "print('b // a =', b // a)\n",
        "print('b %  a =', b % a)\n",
        "print('a +  2 =', a + 2)\n",
        "print('b -  1 =', b - 1)"
      ],
      "execution_count": null,
      "outputs": [
        {
          "output_type": "stream",
          "name": "stdout",
          "text": [
            "a = [1 2 3 4 5 6]\n",
            "b = [ 7  8  9 10 11 12]\n",
            "a +  b = [ 8 10 12 14 16 18]\n",
            "b -  a = [6 6 6 6 6 6]\n",
            "a *  b = [ 7 16 27 40 55 72]\n",
            "b /  a = [7.  4.  3.  2.5 2.2 2. ]\n",
            "b // a = [7 4 3 2 2 2]\n",
            "b %  a = [0 0 0 2 1 0]\n",
            "a +  2 = [3 4 5 6 7 8]\n",
            "b -  1 = [ 6  7  8  9 10 11]\n"
          ]
        }
      ]
    },
    {
      "cell_type": "code",
      "metadata": {
        "id": "0Fby-36PcqHj",
        "colab": {
          "base_uri": "https://localhost:8080/"
        },
        "outputId": "49b3a5cd-a498-4d5b-bcaf-33716a4b230c"
      },
      "source": [
        "# to_list()를 사용하여 list로 변환\n",
        "a = np.array(range(1, 7)).reshape(2,3)\n",
        "b = np.array(range(7, 13)).reshape(2,3)\n",
        "print(a)\n",
        "print(type(a.tolist()))\n",
        "print('a =', a.tolist())\n",
        "print('b =', b.tolist())\n",
        "print('a + b =', (a + b).tolist())\n",
        "print('a * b =', (a * b).tolist())"
      ],
      "execution_count": null,
      "outputs": [
        {
          "output_type": "stream",
          "name": "stdout",
          "text": [
            "[[1 2 3]\n",
            " [4 5 6]]\n",
            "<class 'list'>\n",
            "a = [[1, 2, 3], [4, 5, 6]]\n",
            "b = [[7, 8, 9], [10, 11, 12]]\n",
            "a + b = [[8, 10, 12], [14, 16, 18]]\n",
            "a * b = [[7, 16, 27], [40, 55, 72]]\n"
          ]
        }
      ]
    },
    {
      "cell_type": "code",
      "metadata": {
        "id": "oqOIqJHNcThO",
        "outputId": "4c4103ed-54e8-4d93-baf7-4a44d6e8e37e",
        "colab": {
          "base_uri": "https://localhost:8080/",
          "height": 211
        }
      },
      "source": [
        "# element-wise 성립하지 않음 (broadcasting안됨)\n",
        "a = np.array( [1, 3, 5] )\n",
        "c = np.array( [7, 9] )\n",
        "print('a + c =', a + c)"
      ],
      "execution_count": null,
      "outputs": [
        {
          "output_type": "error",
          "ename": "ValueError",
          "evalue": "ignored",
          "traceback": [
            "\u001b[0;31m---------------------------------------------------------------------------\u001b[0m",
            "\u001b[0;31mValueError\u001b[0m                                Traceback (most recent call last)",
            "\u001b[0;32m<ipython-input-99-f362d8bc5cde>\u001b[0m in \u001b[0;36m<cell line: 4>\u001b[0;34m()\u001b[0m\n\u001b[1;32m      2\u001b[0m \u001b[0ma\u001b[0m \u001b[0;34m=\u001b[0m \u001b[0mnp\u001b[0m\u001b[0;34m.\u001b[0m\u001b[0marray\u001b[0m\u001b[0;34m(\u001b[0m \u001b[0;34m[\u001b[0m\u001b[0;36m1\u001b[0m\u001b[0;34m,\u001b[0m \u001b[0;36m3\u001b[0m\u001b[0;34m,\u001b[0m \u001b[0;36m5\u001b[0m\u001b[0;34m]\u001b[0m \u001b[0;34m)\u001b[0m\u001b[0;34m\u001b[0m\u001b[0;34m\u001b[0m\u001b[0m\n\u001b[1;32m      3\u001b[0m \u001b[0mc\u001b[0m \u001b[0;34m=\u001b[0m \u001b[0mnp\u001b[0m\u001b[0;34m.\u001b[0m\u001b[0marray\u001b[0m\u001b[0;34m(\u001b[0m \u001b[0;34m[\u001b[0m\u001b[0;36m7\u001b[0m\u001b[0;34m,\u001b[0m \u001b[0;36m9\u001b[0m\u001b[0;34m]\u001b[0m \u001b[0;34m)\u001b[0m\u001b[0;34m\u001b[0m\u001b[0;34m\u001b[0m\u001b[0m\n\u001b[0;32m----> 4\u001b[0;31m \u001b[0mprint\u001b[0m\u001b[0;34m(\u001b[0m\u001b[0;34m'a + c ='\u001b[0m\u001b[0;34m,\u001b[0m \u001b[0ma\u001b[0m \u001b[0;34m+\u001b[0m \u001b[0mc\u001b[0m\u001b[0;34m)\u001b[0m\u001b[0;34m\u001b[0m\u001b[0;34m\u001b[0m\u001b[0m\n\u001b[0m",
            "\u001b[0;31mValueError\u001b[0m: operands could not be broadcast together with shapes (3,) (2,) "
          ]
        }
      ]
    },
    {
      "cell_type": "markdown",
      "metadata": {
        "id": "U25cgbTwco-C"
      },
      "source": [
        "#### 2) ndarray broadcasting\n",
        "- broadcasting 이란?\n",
        "- element-wise가 성립하지 않는 경우 두 배열의 크기를 동일하게 만들어 연산가능하도록 하는 것  \n"
      ]
    },
    {
      "cell_type": "code",
      "metadata": {
        "id": "kRUYezcZdQ-r"
      },
      "source": [
        "def printary(m, *a):\n",
        "    print(m)\n",
        "    for x in a:\n",
        "        print(x.shape)\n",
        "        print(x.tolist())"
      ],
      "execution_count": null,
      "outputs": []
    },
    {
      "cell_type": "code",
      "metadata": {
        "id": "9sRnJPvNdE9j",
        "colab": {
          "base_uri": "https://localhost:8080/"
        },
        "outputId": "bb7826f0-2bb5-4ac7-ce00-1b4e0bbb6f0b"
      },
      "source": [
        "a=np.array([[1, 1, 1], [1, 1, 1]])\n",
        "b=np.array([[1, 1, 1], [2, 2, 2]])\n",
        "c=np.array([[1],[2],[3]])\n",
        "d=np.array([3, 3, 3])\n",
        "print(a.shape, b.shape, c.shape, d.shape)"
      ],
      "execution_count": null,
      "outputs": [
        {
          "output_type": "stream",
          "name": "stdout",
          "text": [
            "(2, 3) (2, 3) (3, 1) (3,)\n"
          ]
        }
      ]
    },
    {
      "cell_type": "code",
      "metadata": {
        "id": "DHtZTnzP1VWA",
        "outputId": "afa3044b-49c3-4c23-fce1-e21d2137be77",
        "colab": {
          "base_uri": "https://localhost:8080/"
        }
      },
      "source": [
        "printary(\"a+b\", a, b, a+b)"
      ],
      "execution_count": null,
      "outputs": [
        {
          "output_type": "stream",
          "name": "stdout",
          "text": [
            "a+b\n",
            "(2, 3)\n",
            "[[1, 1, 1], [1, 1, 1]]\n",
            "(2, 3)\n",
            "[[1, 1, 1], [2, 2, 2]]\n",
            "(2, 3)\n",
            "[[2, 2, 2], [3, 3, 3]]\n"
          ]
        }
      ]
    },
    {
      "cell_type": "code",
      "metadata": {
        "id": "6PMwuRomyMGw",
        "outputId": "2c2a1a27-766f-4190-c321-fba8ca5d964b",
        "colab": {
          "base_uri": "https://localhost:8080/"
        }
      },
      "source": [
        "printary(\"a+d\", a, d, a+d)"
      ],
      "execution_count": null,
      "outputs": [
        {
          "output_type": "stream",
          "name": "stdout",
          "text": [
            "a+d\n",
            "(2, 3)\n",
            "[[1, 1, 1], [1, 1, 1]]\n",
            "(3,)\n",
            "[3, 3, 3]\n",
            "(2, 3)\n",
            "[[4, 4, 4], [4, 4, 4]]\n"
          ]
        }
      ]
    },
    {
      "cell_type": "code",
      "metadata": {
        "id": "mrX4qr92yOKh",
        "outputId": "07b220cf-4fa7-4d22-b157-c9aef135d1cc",
        "colab": {
          "base_uri": "https://localhost:8080/"
        }
      },
      "source": [
        "printary(\"b+4\", b, b+4)"
      ],
      "execution_count": null,
      "outputs": [
        {
          "output_type": "stream",
          "name": "stdout",
          "text": [
            "b+4\n",
            "(2, 3)\n",
            "[[1, 1, 1], [2, 2, 2]]\n",
            "(2, 3)\n",
            "[[5, 5, 5], [6, 6, 6]]\n"
          ]
        }
      ]
    },
    {
      "cell_type": "code",
      "metadata": {
        "id": "RQQB4oV0yPZw",
        "outputId": "a2a72d98-8183-4538-c0c2-acf804e89729",
        "colab": {
          "base_uri": "https://localhost:8080/"
        }
      },
      "source": [
        "printary(\"c+d\", c, d, c+d)"
      ],
      "execution_count": null,
      "outputs": [
        {
          "output_type": "stream",
          "name": "stdout",
          "text": [
            "c+d\n",
            "(3, 1)\n",
            "[[1], [2], [3]]\n",
            "(3,)\n",
            "[3, 3, 3]\n",
            "(3, 3)\n",
            "[[4, 4, 4], [5, 5, 5], [6, 6, 6]]\n"
          ]
        }
      ]
    },
    {
      "cell_type": "markdown",
      "metadata": {
        "id": "A6NNlRJgdDT4"
      },
      "source": [
        "#### 3) ndarray 비교연산\n",
        "- ==, !=, >, <, >=, <= : 결과 True/False\n",
        "- element-wise 방식 (필요시 broadcasting)"
      ]
    },
    {
      "cell_type": "markdown",
      "metadata": {
        "id": "Smy63qRa2hLz"
      },
      "source": [
        "##### 다음의 연산 결과의 shape을 예측해 보세요!"
      ]
    },
    {
      "cell_type": "code",
      "metadata": {
        "id": "JC2rNffmeTLd",
        "colab": {
          "base_uri": "https://localhost:8080/"
        },
        "outputId": "0be52ba8-c9f2-4f21-a585-ce623a7e4768"
      },
      "source": [
        "a = np.array([[1],[2],[3],[4],[5]])  # (5, 1)\n",
        "b = np.array([1, 2, 3])              # (3,)\n",
        "c = a + b\n",
        "print(a.shape, b.shape, c.shape)"
      ],
      "execution_count": null,
      "outputs": [
        {
          "output_type": "stream",
          "name": "stdout",
          "text": [
            "(5, 1) (3,) (5, 3)\n"
          ]
        }
      ]
    },
    {
      "cell_type": "code",
      "metadata": {
        "id": "f1Z4jYU57I8j",
        "outputId": "413ba163-4da6-4440-e2aa-bb533b839627",
        "colab": {
          "base_uri": "https://localhost:8080/"
        }
      },
      "source": [
        "print(a)\n",
        "print(b)\n",
        "print(c)"
      ],
      "execution_count": null,
      "outputs": [
        {
          "output_type": "stream",
          "name": "stdout",
          "text": [
            "[[2 3 4]\n",
            " [3 4 5]\n",
            " [4 5 6]\n",
            " [5 6 7]\n",
            " [6 7 8]]\n"
          ]
        }
      ]
    },
    {
      "cell_type": "code",
      "metadata": {
        "id": "5z1hB-aMeF17"
      },
      "source": [
        "def printary(*a):\n",
        "    for x in a:\n",
        "        print(x.tolist(), end='\\n')\n",
        "        print(\"-\" * 45)"
      ],
      "execution_count": null,
      "outputs": []
    },
    {
      "cell_type": "code",
      "metadata": {
        "id": "JVEmyaw_eoR0",
        "colab": {
          "base_uri": "https://localhost:8080/"
        },
        "outputId": "7b736490-9df0-4338-f998-6eed60c7eaab"
      },
      "source": [
        "a=np.array([[1, 2, 3], [4, 5, 6]])\n",
        "b=np.array([[1, 3, 5], [2, 4, 6]])\n",
        "printary(a==b, a!=b)"
      ],
      "execution_count": null,
      "outputs": [
        {
          "output_type": "stream",
          "name": "stdout",
          "text": [
            "[[True, False, False], [False, False, True]]\n",
            "---------------------------------------------\n",
            "[[False, True, True], [True, True, False]]\n",
            "---------------------------------------------\n"
          ]
        }
      ]
    },
    {
      "cell_type": "code",
      "metadata": {
        "id": "GvZLoBW0jro3",
        "colab": {
          "base_uri": "https://localhost:8080/"
        },
        "outputId": "45174bf4-5e9c-48d9-d56f-07a7a00b4407"
      },
      "source": [
        "a=np.array([[1, 2, 3], [4, 5, 6]])\n",
        "b=np.array([[1, 3, 5], [2, 4, 6]])\n",
        "printary(a>b, a<b)"
      ],
      "execution_count": null,
      "outputs": [
        {
          "output_type": "stream",
          "name": "stdout",
          "text": [
            "[[False, False, False], [True, True, False]]\n",
            "---------------------------------------------\n",
            "[[False, True, True], [False, False, False]]\n",
            "---------------------------------------------\n"
          ]
        }
      ]
    },
    {
      "cell_type": "code",
      "metadata": {
        "id": "x_TTDqlzjrzt",
        "colab": {
          "base_uri": "https://localhost:8080/"
        },
        "outputId": "436081ba-3c00-40f4-bbdf-36bf449740e3"
      },
      "source": [
        "a=np.array([[1, 2, 3], [4, 5, 6]])  # (2, 3)\n",
        "b=np.array([[1, 3, 5], [2, 4, 6]])\n",
        "c=np.array([4, 3, 3])   # (3,)  # [[4, 3, 3], [4, 3, 3]]\n",
        "printary(a>=c, b<=3)    #  3    # [[3, 3, 3],[3, 3, 3]]"
      ],
      "execution_count": null,
      "outputs": [
        {
          "output_type": "stream",
          "name": "stdout",
          "text": [
            "[[False, False, True], [True, True, True]]\n",
            "---------------------------------------------\n",
            "[[True, True, False], [True, False, False]]\n",
            "---------------------------------------------\n"
          ]
        }
      ]
    },
    {
      "cell_type": "markdown",
      "metadata": {
        "id": "kPifu3Xmp7AA"
      },
      "source": [
        "### 7.Indexing"
      ]
    },
    {
      "cell_type": "markdown",
      "metadata": {
        "id": "Rie2JA229Sfq"
      },
      "source": [
        "#### 1) ndarray indexing 이해\n",
        "- indexing을 사용하여 배열에서 원하는 데이터를 참조/변경한다\n",
        "- 배열 이름 뒤에 [ ] 를 사용하여 참조/변경 할 데이터를 표기한다\n",
        "- 결과는 원본의 view이며, view에 대입을 통해 데이터 변경이 가능함\n",
        "- ndim >= 2 인 경우 [ ] 내부에 콤마(,)를 사용하여 차원(축, axes, axis)을 구분함\n",
        "- 콤마(,) 사이에는 참조/변경하기 원하는 데이터에 대한 표기(indexer)가 포함되어야 함\n",
        "- axis=0을 제외한 차원에 대한 표기 생략가능, 생략은 “모두 선택”의 의미를 갖음\n"
      ]
    },
    {
      "cell_type": "code",
      "metadata": {
        "id": "kCS4p0CHkZ_q"
      },
      "source": [
        "# single element indexer의 사용 - 데이터 참조\n",
        "import numpy as np\n",
        "a = np.arange(9).reshape(3,3)\n",
        "\n",
        "print(a)\n",
        "print(a[1])\n",
        "print(a[0, 2])\n",
        "print(a[0][2])"
      ],
      "execution_count": null,
      "outputs": []
    },
    {
      "cell_type": "code",
      "metadata": {
        "id": "wyg2utW4_m2O",
        "colab": {
          "base_uri": "https://localhost:8080/",
          "height": 175
        },
        "outputId": "d1f66c92-a920-4de9-defa-1de1d7d1bf0c"
      },
      "source": [
        "# single element indexer의 사용 - 데이터 변경\n",
        "a[0,2] = 100\n",
        "print(a)\n",
        "a[1][2] = 200\n",
        "print(a)\n",
        "a[2] = [10, '20', 3.67]\n",
        "print(a)"
      ],
      "execution_count": null,
      "outputs": [
        {
          "output_type": "stream",
          "text": [
            "[[  0   1 100]\n",
            " [  3   4 200]\n",
            " [ 10  20  30]]\n",
            "[[  0   1 100]\n",
            " [  3   4 200]\n",
            " [ 10  20  30]]\n",
            "[[  0   1 100]\n",
            " [  3   4 200]\n",
            " [ 10  20   3]]\n"
          ],
          "name": "stdout"
        }
      ]
    },
    {
      "cell_type": "markdown",
      "metadata": {
        "id": "dLjp_acwkUUu"
      },
      "source": [
        "#### 2) Indexer의 종류\n",
        "- single element index\n",
        "- slicing & stride index\n",
        "- index arrays\n",
        "- boolean array\n",
        "- structural indexing tools"
      ]
    },
    {
      "cell_type": "code",
      "metadata": {
        "id": "yRL7086hmAcL",
        "colab": {
          "base_uri": "https://localhost:8080/"
        },
        "outputId": "5d4a042b-8c41-4778-fab9-cf749e44b886"
      },
      "source": [
        "a = np.arange(5)\n",
        "\n",
        "print(a[1], type(a[1]))\n",
        "print(a[[1]], type(a[[1]]))\n",
        "print(a[1:4:2])\n",
        "print(a[[0,1,-1]])\n",
        "print(a[[True, False, False, True, False]])\n",
        "print(a[..., np.newaxis])"
      ],
      "execution_count": null,
      "outputs": [
        {
          "output_type": "stream",
          "text": [
            "1 <class 'numpy.int64'>\n",
            "[1] <class 'numpy.ndarray'>\n",
            "[1 3]\n",
            "[0 1 4]\n",
            "[0 3]\n",
            "[[0]\n",
            " [1]\n",
            " [2]\n",
            " [3]\n",
            " [4]]\n"
          ],
          "name": "stdout"
        }
      ]
    },
    {
      "cell_type": "markdown",
      "metadata": {
        "id": "tuoBLTrEEzeH"
      },
      "source": [
        "#### 3) list와 ndarray의 indexing 차이점\n",
        "- ndarray의 indexing의 반환 값은 원본을 참조하는 view이다\n",
        "- 새로운 ndarray로 처리하려면 copy 함수나 메서드를 사용해야 한다\n"
      ]
    },
    {
      "cell_type": "code",
      "metadata": {
        "id": "bUmFZFihmRh1"
      },
      "source": [
        "# list of python\n",
        "x = [[1, 2, 3], [6, 7, 8]]\n",
        "z = x[:]  #  [id(x[0])][id(x[1])]\n",
        "z[0] = [10, 20, 30]\n",
        "z[1][0] = 100\n",
        "print(x, z, sep='\\n')\n",
        "print(id(x[1]), id(z[1]))\n",
        "print(\"-\"*25)"
      ],
      "execution_count": null,
      "outputs": []
    },
    {
      "cell_type": "code",
      "metadata": {
        "id": "G6xDf24omZAE"
      },
      "source": [
        "# ndarray of numpy\n",
        "x = np.array([[1, 2, 3], [6, 7, 8]])\n",
        "z = x[1:]\n",
        "z[0] = [10, 20, 30]\n",
        "print(x, z, sep='\\n')\n",
        "print(np.may_share_memory(x,z))\n",
        "print(x.__array_interface__['data'][0], z.__array_interface__['data'][0], x.dtype)"
      ],
      "execution_count": null,
      "outputs": []
    },
    {
      "cell_type": "markdown",
      "metadata": {
        "id": "QB0sFPXZF2j8"
      },
      "source": [
        "#### 4) single element index 사용\n",
        "- single element index의 사용이 1개 증가 할 때마다 배열의 차원(ndim)은 1씩 감소한다\n",
        "- axis=0부터 뒤쪽으로 콤마(,)를 기준으로 index를 나열함\n",
        "- index 표기되지 않은 차원은 “모두 선택”\n",
        "- 예) 2차원 배열에서 a[n]은 n번 행 전체를 반환 함\n",
        "- indexing을 연속으로 진행한 것과 콤마(,) 나열은 같은 결과\n",
        "- 예) a[n][m] == a[n, m]"
      ]
    },
    {
      "cell_type": "code",
      "metadata": {
        "id": "EiylIGGmHudh",
        "colab": {
          "base_uri": "https://localhost:8080/",
          "height": 87
        },
        "outputId": "c6a017c0-338f-4279-dd67-029552b1b33a"
      },
      "source": [
        "a = np.arange(12).reshape(2,3,2)\n",
        "print(a.tolist())\n",
        "print(a[0].tolist())\n",
        "print(a[0, 0].tolist())\n",
        "print(a[0, 0, 0])"
      ],
      "execution_count": null,
      "outputs": [
        {
          "output_type": "stream",
          "text": [
            "[[[0, 1], [2, 3], [4, 5]], [[6, 7], [8, 9], [10, 11]]]\n",
            "[[0, 1], [2, 3], [4, 5]]\n",
            "[0, 1]\n",
            "0\n"
          ],
          "name": "stdout"
        }
      ]
    },
    {
      "cell_type": "markdown",
      "metadata": {
        "id": "L4X6ffq7I7KT"
      },
      "source": [
        "#### 5) slice & stride\n",
        "- arr[n:m:k]\n",
        "- n 부터 m-1 까지, k 씩 건너 뛴 위치 요소로 구성된 배열 반환\n",
        "- n, m, k는 생략 가능하며 생략시 n = 0, m = len(arr), k=1\n",
        "- slice & stride의 사용이 증가해도 배열의 차원(ndim)은 변화 없음\n",
        "- axis=0부터 뒤쪽으로 콤마(,)를 기준으로 indexer를 나열함\n",
        "- indexer가 표기되지 않은 axis는 “모두 선택”\n",
        "-  :  특정 axis에 대해 모든 범위를 의미함\n",
        "-  ... 나머지 모든 차원에 대해 모든 범위를 의미함\n"
      ]
    },
    {
      "cell_type": "code",
      "metadata": {
        "id": "4_MA6d_WJqjK",
        "colab": {
          "base_uri": "https://localhost:8080/",
          "height": 87
        },
        "outputId": "041b3bd6-b2f1-4d53-ac2e-10dd269e6656"
      },
      "source": [
        "# 차원(ndim)의 변화는 없음\n",
        "a = np.arange(12).reshape(2,3,2)\n",
        "print(a.tolist())\n",
        "print(a[1:].tolist())\n",
        "print(a[..., ::-1].tolist())\n",
        "print(a[:, ::-1].tolist())"
      ],
      "execution_count": null,
      "outputs": [
        {
          "output_type": "stream",
          "text": [
            "[[[0, 1], [2, 3], [4, 5]], [[6, 7], [8, 9], [10, 11]]]\n",
            "[[[6, 7], [8, 9], [10, 11]]]\n",
            "[[[1, 0], [3, 2], [5, 4]], [[7, 6], [9, 8], [11, 10]]]\n",
            "[[[4, 5], [2, 3], [0, 1]], [[10, 11], [8, 9], [6, 7]]]\n"
          ],
          "name": "stdout"
        }
      ]
    },
    {
      "cell_type": "markdown",
      "metadata": {
        "id": "B5nZYLYJLAZq"
      },
      "source": [
        "#### 6) index arrays\n",
        "- index_array은 dtype=int인 배열로, index 번호를 element로 갖는 배열임\n",
        "- index_array 의  형태에 따라 반환되는 배열의 ndim이 원본과 동일하거나, 증가, 감소 될 수 있음"
      ]
    },
    {
      "cell_type": "markdown",
      "metadata": {
        "id": "qmWwBXSORFOK"
      },
      "source": [
        "##### 1차원\n",
        "- index_array 에 포함된 index 항목들로 구성된 배열 반환\n",
        "- a[ [0, 2, 4] ] 는 a에서 0,2,4 번 index 항목으로 구성된 배열 반환\n",
        "- index_array 사용시 주의 사항\n",
        "   - index 중복 사용 가능\n",
        "   - 2차원 이상의 index_array 는 ndarray 를 사용( [[[ -> 사용 불가능)\n"
      ]
    },
    {
      "cell_type": "code",
      "metadata": {
        "id": "x1aHrW0nRLN-",
        "colab": {
          "base_uri": "https://localhost:8080/",
          "height": 92
        },
        "outputId": "833cff94-61dd-4af0-c64b-5d6be0e27567"
      },
      "source": [
        "import numpy as np\n",
        "a = np.arange(5) # [0 1 2 3 4]\n",
        "print( a[0], a[[0]], type(a[[0]]))\n",
        "print( a[[-1, 0, 1, 0]])\n",
        "#print( a[[[0, 2, 4], [1, 3, 3]]])\n",
        "print( a[np.array([[0, 2, 4], [1, 3, 3]])])"
      ],
      "execution_count": null,
      "outputs": [
        {
          "output_type": "stream",
          "text": [
            "0 [0] <class 'numpy.ndarray'>\n",
            "[4 0 1 0]\n",
            "[[0 2 4]\n",
            " [1 3 3]]\n"
          ],
          "name": "stdout"
        }
      ]
    },
    {
      "cell_type": "markdown",
      "metadata": {
        "id": "R1aLK959XtzO"
      },
      "source": [
        "##### 2차원\n",
        "- idx_a1, idx_a2의 같은 위치 항들이 묶여 위치 정보가 됨\n",
        "- 다차원이 되면 콤마(,)로 나열하며 동일 길이로 구성되어야 함\n",
        "- a가 2D array인 경우\n",
        "  - a[ [0,0,1],[2,3,1] ] 은 [0,2], [0,3], [1,1] 항을 배열로 반환\n",
        "  - a[ [0, 1], 0] : a[ [0,0], [1,0] ] (broadcasting)  [0, 0], [1, 0] 항 반환"
      ]
    },
    {
      "cell_type": "code",
      "metadata": {
        "id": "nKOqXUc7X0nf",
        "colab": {
          "base_uri": "https://localhost:8080/",
          "height": 111
        },
        "outputId": "42b4426f-9568-40e3-aa89-6e08eb4a9600"
      },
      "source": [
        "a = np.arange(12).reshape(3, -1)\n",
        "print(a)\n",
        "print(a[[0,0,1], [2,3,1]])\n",
        "print(a[[0,1], 0])"
      ],
      "execution_count": null,
      "outputs": [
        {
          "output_type": "stream",
          "text": [
            "[[ 0  1  2  3]\n",
            " [ 4  5  6  7]\n",
            " [ 8  9 10 11]]\n",
            "[2 3 5]\n",
            "[0 4]\n"
          ],
          "name": "stdout"
        }
      ]
    },
    {
      "cell_type": "markdown",
      "metadata": {
        "id": "bpNmyrSSUZzX"
      },
      "source": [
        "#### Mission 먼저 수행해보고 비교하세요\n",
        " (수행 전)\n"
      ]
    },
    {
      "cell_type": "code",
      "metadata": {
        "id": "u8jK6JGNUNsz"
      },
      "source": [
        "# index array를 사용하여 3차원 배열에서 원하는 항목만 1D로 indexing\n",
        "a = np.arange(12).reshape(2, 3, -1)\n",
        "print(a)\n",
        "# [0, 3, 8, 10]"
      ],
      "execution_count": null,
      "outputs": []
    },
    {
      "cell_type": "code",
      "metadata": {
        "id": "-Ebv7M8dUQpI"
      },
      "source": [
        "# index array를 사용하여 2차원 배열에서 원하는 항목만 2D로 indexing\n",
        "a = np.arange(12).reshape(4, -1)\n",
        "print(a)\n",
        "# [[1, 3], [8, 9]]"
      ],
      "execution_count": null,
      "outputs": []
    },
    {
      "cell_type": "markdown",
      "metadata": {
        "id": "AB9VmNw9Eb-R"
      },
      "source": [
        "#### Mission 먼저 수행해보고 비교하세요 (수행 후,Solution)\n",
        "\n"
      ]
    },
    {
      "cell_type": "code",
      "metadata": {
        "id": "Z2Adik77-jsI",
        "colab": {
          "base_uri": "https://localhost:8080/",
          "height": 167
        },
        "outputId": "bc521f88-19f9-4eec-e35a-641aebdc772f"
      },
      "source": [
        "# index array를 사용하여 3차원 배열에서 원하는 항목만 1D로 indexing\n",
        "a = np.arange(12).reshape(2, 3, -1)\n",
        "print(a)\n",
        "# [0, 3, 8, 10]\n",
        "# [0,0,0],[0,1,1],[1,1,0],[1,2,0]\n",
        "print(a[[0,0,1,1],[0,1,1,2],[0,1,0,0]])"
      ],
      "execution_count": null,
      "outputs": [
        {
          "output_type": "stream",
          "text": [
            "[[[ 0  1]\n",
            "  [ 2  3]\n",
            "  [ 4  5]]\n",
            "\n",
            " [[ 6  7]\n",
            "  [ 8  9]\n",
            "  [10 11]]]\n",
            "[ 0  3  8 10]\n"
          ],
          "name": "stdout"
        }
      ]
    },
    {
      "cell_type": "code",
      "metadata": {
        "id": "Q4VDfV5KAdr5",
        "colab": {
          "base_uri": "https://localhost:8080/",
          "height": 129
        },
        "outputId": "51ae9e49-ae77-41a7-8997-12d1d7025535"
      },
      "source": [
        "# index array를 사용하여 2차원 배열에서 원하는 항목만 2D로 indexing\n",
        "a = np.arange(12).reshape(4, -1)\n",
        "print(a)\n",
        "# [[1, 3], [8, 9]]\n",
        "# [0,1],[1,0],[2,2],[3,0]  - single element index\n",
        "print(a[np.array([[0,1],[2,3]]), np.array([[1,0],[2,0]])])"
      ],
      "execution_count": null,
      "outputs": [
        {
          "output_type": "stream",
          "text": [
            "[[ 0  1  2]\n",
            " [ 3  4  5]\n",
            " [ 6  7  8]\n",
            " [ 9 10 11]]\n",
            "[[1 3]\n",
            " [8 9]]\n"
          ],
          "name": "stdout"
        }
      ]
    },
    {
      "cell_type": "markdown",
      "metadata": {
        "id": "8pSPklV4kUXn"
      },
      "source": [
        "#### 7) boolean array의 사용\n",
        "- boolean_array는 원본배열과 동일한  shape의 dtype=bool인 배열\n",
        "- 원본에서 boolean_array가 True인 위치의 것만을 대상으로하는 배열이 반환됨\n",
        "- boolean_array는 ndarray, list 등으로 작성하거나, 연산의 결과 일 수 있음\n",
        "- 주로 결과가 True/False인 비교연산식을 사용하여 작성함\n",
        "- 복잡한 조건은 np.logical_and(), np.logical_or(), np.logical_not() 활용\n",
        "- boolean array와 &, |,~ 연산자를 사용하여 조건작성 가능 (괄호 사용 중요)\n"
      ]
    },
    {
      "cell_type": "code",
      "metadata": {
        "id": "1iG9zEk5bi5X",
        "colab": {
          "base_uri": "https://localhost:8080/",
          "height": 111
        },
        "outputId": "8448eab3-06b4-4e57-b026-592a69c3832f"
      },
      "source": [
        "a = np.arange(1, 7) # [1 2 3 4 5 6]\n",
        "b = np.array([True, False, True, True, False, True])\n",
        "print(a[b])\n",
        "print(a%2)\n",
        "print(a%2==0)\n",
        "print(a[a%2==0]) # boolean array  (dtype = bool)\n",
        "print(a[a%2])    # index array (dtype = int)"
      ],
      "execution_count": null,
      "outputs": [
        {
          "output_type": "stream",
          "text": [
            "[1 3 4 6]\n",
            "[1 0 1 0 1 0]\n",
            "[False  True False  True False  True]\n",
            "[2 4 6]\n",
            "[2 1 2 1 2 1]\n"
          ],
          "name": "stdout"
        }
      ]
    },
    {
      "cell_type": "code",
      "metadata": {
        "id": "_NRXM5PQm9cj"
      },
      "source": [
        "def printary(w1, w2, ary, *, sep='|'):\n",
        "    for x in ary.split(sep):\n",
        "        x = x.strip()\n",
        "        t = eval(x)\n",
        "        print(f'%-{w1}s %-{w2}s %s' % (x, t.shape, t.tolist()))\n",
        "    print(\"-\" * 30)"
      ],
      "execution_count": null,
      "outputs": []
    },
    {
      "cell_type": "code",
      "metadata": {
        "id": "spGWahBGkZgt",
        "colab": {
          "base_uri": "https://localhost:8080/",
          "height": 111
        },
        "outputId": "286a239d-0b49-4cfb-b076-f0924876ccb5"
      },
      "source": [
        "  a = np.random.permutation(10)\n",
        "  printary(10, 7, \"a | a[a%2==0]\")\n",
        "  printary(10, 7, \"a[a>=4]\")\n"
      ],
      "execution_count": null,
      "outputs": [
        {
          "output_type": "stream",
          "text": [
            "a          (10,)   [2, 3, 6, 9, 1, 5, 0, 4, 8, 7]\n",
            "a[a%2==0]  (5,)    [2, 6, 0, 4, 8]\n",
            "------------------------------\n",
            "a[a>=4]    (6,)    [6, 9, 5, 4, 8, 7]\n",
            "------------------------------\n"
          ],
          "name": "stdout"
        }
      ]
    },
    {
      "cell_type": "code",
      "metadata": {
        "id": "Qet-XpuVaHhh",
        "colab": {
          "base_uri": "https://localhost:8080/",
          "height": 92
        },
        "outputId": "b60251eb-38f3-439a-9bea-5a422361dcaa"
      },
      "source": [
        "  printary(32, 7, \"a[np.logical_or(a%3==0, a%2==0)]\")\n",
        "  printary(32, 7, \"a[(a%3==0) | (a%2==0)]\", sep='+')"
      ],
      "execution_count": null,
      "outputs": [
        {
          "output_type": "stream",
          "text": [
            "a[np.logical_or(a%3==0, a%2==0)] (7,)    [2, 3, 6, 9, 0, 4, 8]\n",
            "------------------------------\n",
            "a[(a%3==0) | (a%2==0)]           (7,)    [2, 3, 6, 9, 0, 4, 8]\n",
            "------------------------------\n"
          ],
          "name": "stdout"
        }
      ]
    },
    {
      "cell_type": "code",
      "metadata": {
        "id": "3OtW_UW2aJv3",
        "colab": {
          "base_uri": "https://localhost:8080/",
          "height": 92
        },
        "outputId": "42a8b2bf-7f6d-42cf-fe8a-202b5576285a"
      },
      "source": [
        "  printary(32, 7, \"a[np.logical_and(a>=6,a<=9)]\")\n",
        "  printary(32, 7, \"a[(a>=6) & (a<=9)]\")"
      ],
      "execution_count": null,
      "outputs": [
        {
          "output_type": "stream",
          "text": [
            "a[np.logical_and(a>=6,a<=9)]     (4,)    [6, 9, 8, 7]\n",
            "------------------------------\n",
            "a[(a>=6) & (a<=9)]               (4,)    [6, 9, 8, 7]\n",
            "------------------------------\n"
          ],
          "name": "stdout"
        }
      ]
    },
    {
      "cell_type": "code",
      "metadata": {
        "id": "PcJtb5LlaMJx",
        "colab": {
          "base_uri": "https://localhost:8080/",
          "height": 92
        },
        "outputId": "95bd7149-02f1-474f-ad20-384cc44622bc"
      },
      "source": [
        "  printary(32, 7, \"a[np.logical_not(a%3==0)]\")\n",
        "  printary(32, 7, \"a[~(a%3==0)]\")"
      ],
      "execution_count": null,
      "outputs": [
        {
          "output_type": "stream",
          "text": [
            "a[np.logical_not(a%3==0)]        (6,)    [2, 1, 5, 4, 8, 7]\n",
            "------------------------------\n",
            "a[~(a%3==0)]                     (6,)    [2, 1, 5, 4, 8, 7]\n",
            "------------------------------\n"
          ],
          "name": "stdout"
        }
      ]
    },
    {
      "cell_type": "code",
      "metadata": {
        "id": "rGSoKeTMdu1I",
        "colab": {
          "base_uri": "https://localhost:8080/",
          "height": 55
        },
        "outputId": "c0b864d8-f8fe-42dd-e3ef-e1f44061243b"
      },
      "source": [
        "print(a)\n",
        "a[a%3==0] = -1\n",
        "print(a)"
      ],
      "execution_count": null,
      "outputs": [
        {
          "output_type": "stream",
          "text": [
            "[2 3 6 9 1 5 0 4 8 7]\n",
            "[ 2 -1 -1 -1  1  5 -1  4  8  7]\n"
          ],
          "name": "stdout"
        }
      ]
    },
    {
      "cell_type": "markdown",
      "metadata": {
        "id": "wSm7zi7VeCrF"
      },
      "source": [
        "#### 8) combine index & slice"
      ]
    },
    {
      "cell_type": "code",
      "metadata": {
        "id": "rHpZQdvEeLhC",
        "colab": {
          "base_uri": "https://localhost:8080/",
          "height": 73
        },
        "outputId": "6efe8978-4940-4e14-931b-f6d70619f939"
      },
      "source": [
        "b = np.arange(1, 12, 2).reshape(3, -1)\n",
        "print(b)"
      ],
      "execution_count": null,
      "outputs": [
        {
          "output_type": "stream",
          "text": [
            "[[ 1  3]\n",
            " [ 5  7]\n",
            " [ 9 11]]\n"
          ],
          "name": "stdout"
        }
      ]
    },
    {
      "cell_type": "code",
      "metadata": {
        "id": "JUC5T8IVfSim",
        "colab": {
          "base_uri": "https://localhost:8080/",
          "height": 73
        },
        "outputId": "7174b549-d954-4022-edd0-4b18f085fd7a"
      },
      "source": [
        "b[:,[-1]], b[:,[-1]].tolist()"
      ],
      "execution_count": null,
      "outputs": [
        {
          "output_type": "execute_result",
          "data": {
            "text/plain": [
              "(array([[ 3],\n",
              "        [ 7],\n",
              "        [11]]), [[3], [7], [11]])"
            ]
          },
          "metadata": {
            "tags": []
          },
          "execution_count": 39
        }
      ]
    },
    {
      "cell_type": "code",
      "metadata": {
        "id": "xiE2FePgg70a",
        "colab": {
          "base_uri": "https://localhost:8080/",
          "height": 36
        },
        "outputId": "c4281ed6-ac69-46fa-8a89-b8b3c399b5d0"
      },
      "source": [
        "b[:, -1].tolist()"
      ],
      "execution_count": null,
      "outputs": [
        {
          "output_type": "execute_result",
          "data": {
            "text/plain": [
              "[3, 7, 11]"
            ]
          },
          "metadata": {
            "tags": []
          },
          "execution_count": 40
        }
      ]
    },
    {
      "cell_type": "code",
      "metadata": {
        "id": "_knuf09Zhnms",
        "colab": {
          "base_uri": "https://localhost:8080/",
          "height": 148
        },
        "outputId": "9e37a1dc-3e63-4e11-b997-73f175d968e2"
      },
      "source": [
        "c = np.arange(12).reshape(2,3,2)\n",
        "print(c)"
      ],
      "execution_count": null,
      "outputs": [
        {
          "output_type": "stream",
          "text": [
            "[[[ 0  1]\n",
            "  [ 2  3]\n",
            "  [ 4  5]]\n",
            "\n",
            " [[ 6  7]\n",
            "  [ 8  9]\n",
            "  [10 11]]]\n"
          ],
          "name": "stdout"
        }
      ]
    },
    {
      "cell_type": "code",
      "metadata": {
        "id": "JAdkD2L4hOm4",
        "colab": {
          "base_uri": "https://localhost:8080/",
          "height": 55
        },
        "outputId": "7e055596-779d-4de3-ac4a-ed95b07b8924"
      },
      "source": [
        "c[:, -1]"
      ],
      "execution_count": null,
      "outputs": [
        {
          "output_type": "execute_result",
          "data": {
            "text/plain": [
              "array([[ 4,  5],\n",
              "       [10, 11]])"
            ]
          },
          "metadata": {
            "tags": []
          },
          "execution_count": 42
        }
      ]
    },
    {
      "cell_type": "code",
      "metadata": {
        "id": "AMjVqAM9hhbz",
        "colab": {
          "base_uri": "https://localhost:8080/",
          "height": 55
        },
        "outputId": "108be6b3-cf01-474f-816a-0e4fd3db1375"
      },
      "source": [
        "c[..., -1]"
      ],
      "execution_count": null,
      "outputs": [
        {
          "output_type": "execute_result",
          "data": {
            "text/plain": [
              "array([[ 1,  3,  5],\n",
              "       [ 7,  9, 11]])"
            ]
          },
          "metadata": {
            "tags": []
          },
          "execution_count": 43
        }
      ]
    },
    {
      "cell_type": "code",
      "metadata": {
        "id": "T1zqIWa_h03G",
        "colab": {
          "base_uri": "https://localhost:8080/",
          "height": 148
        },
        "outputId": "de2091d8-2359-4d84-f65b-d966ba4eae12"
      },
      "source": [
        "c[..., :1]"
      ],
      "execution_count": null,
      "outputs": [
        {
          "output_type": "execute_result",
          "data": {
            "text/plain": [
              "array([[[ 0],\n",
              "        [ 2],\n",
              "        [ 4]],\n",
              "\n",
              "       [[ 6],\n",
              "        [ 8],\n",
              "        [10]]])"
            ]
          },
          "metadata": {
            "tags": []
          },
          "execution_count": 44
        }
      ]
    },
    {
      "cell_type": "code",
      "metadata": {
        "id": "bq87bvMCh4eJ",
        "colab": {
          "base_uri": "https://localhost:8080/",
          "height": 36
        },
        "outputId": "9f42f8f3-ef61-4f1f-b373-37cdfba70563"
      },
      "source": [
        "c[[0], 1]"
      ],
      "execution_count": null,
      "outputs": [
        {
          "output_type": "execute_result",
          "data": {
            "text/plain": [
              "array([[2, 3]])"
            ]
          },
          "metadata": {
            "tags": []
          },
          "execution_count": 48
        }
      ]
    },
    {
      "cell_type": "code",
      "metadata": {
        "id": "Z6zHqMXdibWj",
        "colab": {
          "base_uri": "https://localhost:8080/",
          "height": 55
        },
        "outputId": "304fc8e1-6d19-41a0-ba9b-b0ecdb0b3823"
      },
      "source": [
        "c[[0], 1:]"
      ],
      "execution_count": null,
      "outputs": [
        {
          "output_type": "execute_result",
          "data": {
            "text/plain": [
              "array([[[2, 3],\n",
              "        [4, 5]]])"
            ]
          },
          "metadata": {
            "tags": []
          },
          "execution_count": 49
        }
      ]
    },
    {
      "cell_type": "markdown",
      "metadata": {
        "id": "WiYCE_GfihTg"
      },
      "source": [
        "#### 9) indexing 활용"
      ]
    },
    {
      "cell_type": "code",
      "metadata": {
        "id": "HBC9VaLJipg6",
        "colab": {
          "base_uri": "https://localhost:8080/",
          "height": 92
        },
        "outputId": "d534b4f6-313b-4d76-9930-6133122b6e66"
      },
      "source": [
        "aN3 = np.array([[0,-1,4],[-2,3,2],[1,-2,-1],[-4,3,-2]])\n",
        "print(aN3)"
      ],
      "execution_count": null,
      "outputs": [
        {
          "output_type": "stream",
          "text": [
            "[[ 0 -1  4]\n",
            " [-2  3  2]\n",
            " [ 1 -2 -1]\n",
            " [-4  3 -2]]\n"
          ],
          "name": "stdout"
        }
      ]
    },
    {
      "cell_type": "code",
      "metadata": {
        "id": "mCURA7lskn64",
        "colab": {
          "base_uri": "https://localhost:8080/",
          "height": 92
        },
        "outputId": "e8b6c838-573a-4217-9b75-c33a041616f7"
      },
      "source": [
        "aN3[:, [1, 0, 2]]"
      ],
      "execution_count": null,
      "outputs": [
        {
          "output_type": "execute_result",
          "data": {
            "text/plain": [
              "array([[-1,  0,  4],\n",
              "       [ 3, -2,  2],\n",
              "       [-2,  1, -1],\n",
              "       [ 3, -4, -2]])"
            ]
          },
          "metadata": {
            "tags": []
          },
          "execution_count": 62
        }
      ]
    },
    {
      "cell_type": "code",
      "metadata": {
        "id": "1HsqLU6WcrZY",
        "colab": {
          "base_uri": "https://localhost:8080/",
          "height": 55
        },
        "outputId": "6a2c112e-782e-4fd5-ede6-0dcf6c2f2eb3"
      },
      "source": [
        "aN3[aN3[:,0] < 0]"
      ],
      "execution_count": null,
      "outputs": [
        {
          "output_type": "execute_result",
          "data": {
            "text/plain": [
              "array([[-2,  3,  2],\n",
              "       [-4,  3, -2]])"
            ]
          },
          "metadata": {
            "tags": []
          },
          "execution_count": 63
        }
      ]
    },
    {
      "cell_type": "code",
      "metadata": {
        "id": "gIl1mJPacvDB",
        "colab": {
          "base_uri": "https://localhost:8080/",
          "height": 55
        },
        "outputId": "e3c3bfb0-604f-4748-86b8-081d374ef157"
      },
      "source": [
        "aN3[aN3[:,0]<0, 1:]"
      ],
      "execution_count": null,
      "outputs": [
        {
          "output_type": "execute_result",
          "data": {
            "text/plain": [
              "array([[ 3,  2],\n",
              "       [ 3, -2]])"
            ]
          },
          "metadata": {
            "tags": []
          },
          "execution_count": 64
        }
      ]
    },
    {
      "cell_type": "code",
      "metadata": {
        "id": "9rkFYuuwkZQZ",
        "colab": {
          "base_uri": "https://localhost:8080/",
          "height": 73
        },
        "outputId": "785f392f-fe4e-4551-aefb-85586862f28a"
      },
      "source": [
        "a3N = np.array([[x] * 5 for x in range(3)])\n",
        "print(a3N)"
      ],
      "execution_count": null,
      "outputs": [
        {
          "output_type": "stream",
          "text": [
            "[[0 0 0 0 0]\n",
            " [1 1 1 1 1]\n",
            " [2 2 2 2 2]]\n"
          ],
          "name": "stdout"
        }
      ]
    },
    {
      "cell_type": "code",
      "metadata": {
        "id": "iI9KD6SmcUuX",
        "colab": {
          "base_uri": "https://localhost:8080/",
          "height": 73
        },
        "outputId": "b75db490-10f4-415f-cddd-fe9055ab6dd9"
      },
      "source": [
        "a3N[[0,2,1], :]"
      ],
      "execution_count": null,
      "outputs": [
        {
          "output_type": "execute_result",
          "data": {
            "text/plain": [
              "array([[0, 0, 0, 0, 0],\n",
              "       [2, 2, 2, 2, 2],\n",
              "       [1, 1, 1, 1, 1]])"
            ]
          },
          "metadata": {
            "tags": []
          },
          "execution_count": 68
        }
      ]
    },
    {
      "cell_type": "code",
      "metadata": {
        "id": "H7tmj9xnkcwl",
        "colab": {
          "base_uri": "https://localhost:8080/",
          "height": 36
        },
        "outputId": "de7a2b00-e86a-4072-e537-68b178c1e6d1"
      },
      "source": [
        "aN  = np.arange(3)\n",
        "print(aN)"
      ],
      "execution_count": null,
      "outputs": [
        {
          "output_type": "stream",
          "text": [
            "[0 1 2]\n"
          ],
          "name": "stdout"
        }
      ]
    },
    {
      "cell_type": "code",
      "metadata": {
        "id": "l_ZhZ7T4cfCM",
        "colab": {
          "base_uri": "https://localhost:8080/",
          "height": 73
        },
        "outputId": "1f9e522a-a270-4c44-b3e3-bb3bebcff8bd"
      },
      "source": [
        "aN.reshape(-1, 1)"
      ],
      "execution_count": null,
      "outputs": [
        {
          "output_type": "execute_result",
          "data": {
            "text/plain": [
              "array([[0],\n",
              "       [1],\n",
              "       [2]])"
            ]
          },
          "metadata": {
            "tags": []
          },
          "execution_count": 79
        }
      ]
    },
    {
      "cell_type": "code",
      "metadata": {
        "id": "wXnHzm6ScZQP",
        "colab": {
          "base_uri": "https://localhost:8080/",
          "height": 73
        },
        "outputId": "6f754b17-429d-48a3-8462-daa8c0fce6c4"
      },
      "source": [
        "aN[:, None]"
      ],
      "execution_count": null,
      "outputs": [
        {
          "output_type": "execute_result",
          "data": {
            "text/plain": [
              "array([[0],\n",
              "       [1],\n",
              "       [2]])"
            ]
          },
          "metadata": {
            "tags": []
          },
          "execution_count": 76
        }
      ]
    },
    {
      "cell_type": "code",
      "metadata": {
        "id": "A3Y8x9ECcbPz",
        "colab": {
          "base_uri": "https://localhost:8080/",
          "height": 73
        },
        "outputId": "f60de5b8-1f22-435e-8ddb-efb62ae41148"
      },
      "source": [
        "aN[:, np.newaxis]"
      ],
      "execution_count": null,
      "outputs": [
        {
          "output_type": "execute_result",
          "data": {
            "text/plain": [
              "array([[0],\n",
              "       [1],\n",
              "       [2]])"
            ]
          },
          "metadata": {
            "tags": []
          },
          "execution_count": 77
        }
      ]
    },
    {
      "cell_type": "markdown",
      "metadata": {
        "id": "5ObDK5YentuF"
      },
      "source": [
        "### 8.numpy의 유용한 필수 함수\n"
      ]
    },
    {
      "cell_type": "markdown",
      "metadata": {
        "id": "LZsF7WC7l-sN"
      },
      "source": [
        "#### 1) 정수값과 관련 있는 난수 발생\n",
        "- np.random.seed(정수)\n",
        "- 정수가 같으면 항상 같은 난수가 발생됨\n",
        "- np.random.randint(start, stop, size=shape)\n",
        "- start ~ stop-1까지의 정수로 구성된 size 모양의 난수 배열 반환\n",
        "- 1차원인 경우 size에 정수 사용가능\n"
      ]
    },
    {
      "cell_type": "code",
      "metadata": {
        "id": "o3JRelH1mQuV",
        "colab": {
          "base_uri": "https://localhost:8080/",
          "height": 70
        },
        "outputId": "06ba6903-db5e-4394-8ace-2d72e0e30070"
      },
      "source": [
        "import numpy as np\n",
        "#np.random.seed(101)\n",
        "x = np.random.randint(1, 5, size=(3,4))\n",
        "print(x)"
      ],
      "execution_count": null,
      "outputs": [
        {
          "output_type": "stream",
          "text": [
            "[[3 1 4 2]\n",
            " [3 2 2 4]\n",
            " [4 3 4 1]]\n"
          ],
          "name": "stdout"
        }
      ]
    },
    {
      "cell_type": "markdown",
      "metadata": {
        "id": "41qStLtMmsHp"
      },
      "source": [
        "#### 2) ndarray 객체 순서 무작위 변경\n",
        "- np.random.shuffle(ndarray객체)\n",
        "- None 반환"
      ]
    },
    {
      "cell_type": "code",
      "metadata": {
        "id": "fw9SKoklm6Th",
        "colab": {
          "base_uri": "https://localhost:8080/",
          "height": 105
        },
        "outputId": "5996596b-168a-4f12-ee20-8493faa52e91"
      },
      "source": [
        "a = np.arange(10)\n",
        "a = np.array([[1,2,3],[4,5,6],[3,4,5],[7,1,5]])\n",
        "np.random.shuffle(a)\n",
        "print(a)\n",
        "\n",
        "a = np.random.permutation(10)\n",
        "print(a)"
      ],
      "execution_count": null,
      "outputs": [
        {
          "output_type": "stream",
          "text": [
            "[[4 5 6]\n",
            " [7 1 5]\n",
            " [3 4 5]\n",
            " [1 2 3]]\n",
            "[2 0 9 4 1 5 8 6 7 3]\n"
          ],
          "name": "stdout"
        }
      ]
    },
    {
      "cell_type": "markdown",
      "metadata": {
        "id": "n64MfSyDnodg"
      },
      "source": [
        "#### 3) 중복 값 제거된 배열 생성\n",
        "- np.unique(a, return_counts=False)\n",
        "- a 가 다차원 배열인 경우 1차원으로 변경되어 작업 됨\n",
        "- return_counts 인수를 True로 설정하면 각 데이터 개수의 ndarray 배열도 생성하여 반환\n",
        "- (중복 값 제거된 배열, 각 데이터 개수의 배열) tuple 반환\n"
      ]
    },
    {
      "cell_type": "code",
      "metadata": {
        "id": "i_6F_MNknnWR"
      },
      "source": [
        "np.random.seed(1000)\n",
        "a = np.random.randint(1, 100000, size = 200000)\n",
        "b = a.reshape(1000, -1)"
      ],
      "execution_count": null,
      "outputs": []
    },
    {
      "cell_type": "code",
      "metadata": {
        "id": "cNUB9nCpH7yR",
        "colab": {
          "base_uri": "https://localhost:8080/",
          "height": 87
        },
        "outputId": "5cf7f9e4-e42b-4547-9e2a-43036cb19c8a"
      },
      "source": [
        "x1 = np.unique(a)\n",
        "x2 = np.unique(b)\n",
        "print(f'size={len(x1)}', x1, sep='\\n')\n",
        "print(f'size={len(x2)}', x2, sep='\\n')"
      ],
      "execution_count": null,
      "outputs": [
        {
          "output_type": "stream",
          "text": [
            "size=86439\n",
            "[    1     2     3 ... 99996 99998 99999]\n",
            "size=86439\n",
            "[    1     2     3 ... 99996 99998 99999]\n"
          ],
          "name": "stdout"
        }
      ]
    },
    {
      "cell_type": "code",
      "metadata": {
        "id": "wftjr7qDIzCp",
        "colab": {
          "base_uri": "https://localhost:8080/",
          "height": 52
        },
        "outputId": "206763b8-92cc-47c1-da0e-22319aaf2dac"
      },
      "source": [
        "c = [ [1,2,3], [1,2,3], [1,3,5] ]\n",
        "d = [ [1,2,3], [1,2,3], [1,3] ]\n",
        "x3 = np.unique(c)\n",
        "x4 = np.unique(d)\n",
        "print(x3, x4, sep='\\n')"
      ],
      "execution_count": null,
      "outputs": [
        {
          "output_type": "stream",
          "text": [
            "[1 2 3 5]\n",
            "[list([1, 2, 3]) list([1, 3])]\n"
          ],
          "name": "stdout"
        }
      ]
    },
    {
      "cell_type": "code",
      "metadata": {
        "id": "KwmWEuEIJcQj",
        "colab": {
          "base_uri": "https://localhost:8080/",
          "height": 52
        },
        "outputId": "018a0884-fc3e-46f1-85e0-dde2460adcf1"
      },
      "source": [
        "x5, rcount = np.unique(c, return_counts=True)\n",
        "print(x5, rcount, sep='\\n')"
      ],
      "execution_count": null,
      "outputs": [
        {
          "output_type": "stream",
          "text": [
            "[1 2 3 5]\n",
            "[3 2 3 1]\n"
          ],
          "name": "stdout"
        }
      ]
    },
    {
      "cell_type": "markdown",
      "metadata": {
        "id": "Go_yT2K2KR-M"
      },
      "source": [
        "#### 4) 배열에서 가장 큰/작은 요소의 index 번호\n",
        "- np.argmax(a)\n",
        "- np.argmin(a)\n",
        "- index는 0번부터 시작\n",
        "- 2차원 이상인 경우 1차원으로 변경하여 작업 진행됨"
      ]
    },
    {
      "cell_type": "code",
      "metadata": {
        "id": "QRlz8iWfLC3Z",
        "colab": {
          "base_uri": "https://localhost:8080/",
          "height": 158
        },
        "outputId": "d49171a5-4606-4f4f-ccc4-7ee64019b15b"
      },
      "source": [
        "np.random.seed(1234)\n",
        "x1 = np.random.randint(100, size = 12)\n",
        "x2 = x1.reshape(2,3,2)\n",
        "print(x1, x2, sep='\\n')"
      ],
      "execution_count": null,
      "outputs": [
        {
          "output_type": "stream",
          "text": [
            "[47 83 38 53 76 24 15 49 23 26 30 43]\n",
            "[[[47 83]\n",
            "  [38 53]\n",
            "  [76 24]]\n",
            "\n",
            " [[15 49]\n",
            "  [23 26]\n",
            "  [30 43]]]\n"
          ],
          "name": "stdout"
        }
      ]
    },
    {
      "cell_type": "code",
      "metadata": {
        "id": "MIKYZm-GLQbW",
        "colab": {
          "base_uri": "https://localhost:8080/",
          "height": 52
        },
        "outputId": "a9872fa1-61ea-4a85-f9ec-950ae92d3b13"
      },
      "source": [
        "print(f'x1 - argmax : {np.argmax(x1)}, argmin : {np.argmin(x1)}')\n",
        "print(f'x2 - argmax : {np.argmax(x2)}, argmin : {np.argmin(x2)}')"
      ],
      "execution_count": null,
      "outputs": [
        {
          "output_type": "stream",
          "text": [
            "x1 - argmax : 1, argmin : 6\n",
            "x2 - argmax : 1, argmin : 6\n"
          ],
          "name": "stdout"
        }
      ]
    },
    {
      "cell_type": "markdown",
      "metadata": {
        "id": "-UeeRdmEMWlW"
      },
      "source": [
        "#### 5) min보다 작은 값을 min으로 max보다 큰 값을 max로 변경\n",
        "- np.clip(a, min, max, out=None)\n",
        "- 새로운 배열 반환, out에 a와 동일 크기의 배열 지정 가능\n",
        "- out 사용 시, out에 지정된 배열로도 결과가 반환됨 (배열내용변경)\n"
      ]
    },
    {
      "cell_type": "code",
      "metadata": {
        "id": "_V-KcxlxN9q6",
        "colab": {
          "base_uri": "https://localhost:8080/",
          "height": 52
        },
        "outputId": "82188cbe-cadf-4fa5-dff2-12afef394175"
      },
      "source": [
        "np.random.seed(150)\n",
        "x = np.random.randint(30, 60, 10)\n",
        "y1 = np.clip(x, 35, 55)\n",
        "print(x, y1, sep='\\n')"
      ],
      "execution_count": null,
      "outputs": [
        {
          "output_type": "stream",
          "text": [
            "[34 56 57 55 46 48 34 58 44 35]\n",
            "[35 55 55 55 46 48 35 55 44 35]\n"
          ],
          "name": "stdout"
        }
      ]
    },
    {
      "cell_type": "code",
      "metadata": {
        "id": "YM1PR59-OqRK",
        "colab": {
          "base_uri": "https://localhost:8080/",
          "height": 52
        },
        "outputId": "3f75b372-ef49-4c9d-b70c-b5674e4e3690"
      },
      "source": [
        "y2 = np.clip(x, 40, 50, out=x)\n",
        "print(x, y2,sep='\\n')"
      ],
      "execution_count": null,
      "outputs": [
        {
          "output_type": "stream",
          "text": [
            "[40 50 50 50 46 48 40 50 44 40]\n",
            "[40 50 50 50 46 48 40 50 44 40]\n"
          ],
          "name": "stdout"
        }
      ]
    },
    {
      "cell_type": "markdown",
      "metadata": {
        "id": "OUtgDfMWpd70"
      },
      "source": [
        "#### 6) 조건에 따른 데이터 선택\n",
        "- np.where( 조건 [, c, d])\n",
        "- 조건 : 참, 거짓(=0, False, None)으로 이루어진\n",
        "- 조건 배열이 참일 때 c, 거짓일 때 d를 취한 배열 반환 (c, d는 스칼라 가능)\n",
        "- c, d 생략 시 조건이 참인 것에 대한 index 배열(ndarray) tuple 반환 (ndarray, ndarray, ...) 의 형태\n",
        "- 조건 배열의 ndim == len(tuple)\n",
        "- 복잡한 조건은  ~, &, |, 및 np.logical_and(), np.logical_or(), logical_not() 사용\n",
        "\n"
      ]
    },
    {
      "cell_type": "code",
      "metadata": {
        "id": "cSZ0NdnXoC0C",
        "colab": {
          "base_uri": "https://localhost:8080/",
          "height": 52
        },
        "outputId": "2ba078e5-ed9f-4e6a-d0a5-7e916de63e0d"
      },
      "source": [
        "a = np.array([4, 8, 2, 5])\n",
        "b = np.array([3, 9, 1, 7])\n",
        "print(np.where(True, a, b))\n",
        "print(np.where(False, a, b))"
      ],
      "execution_count": null,
      "outputs": [
        {
          "output_type": "stream",
          "text": [
            "[4 8 2 5]\n",
            "[3 9 1 7]\n"
          ],
          "name": "stdout"
        }
      ]
    },
    {
      "cell_type": "code",
      "metadata": {
        "id": "2ULEpZwFSd8L",
        "colab": {
          "base_uri": "https://localhost:8080/",
          "height": 52
        },
        "outputId": "bf10f13d-4706-4a9a-d9aa-080c02528ffd"
      },
      "source": [
        "print(np.where([[True, False], [False, True]],\n",
        "                [[3, 4], [5, 7]],\n",
        "                [[1, 2], [9, 2]]))"
      ],
      "execution_count": null,
      "outputs": [
        {
          "output_type": "stream",
          "text": [
            "[[3 2]\n",
            " [9 7]]\n"
          ],
          "name": "stdout"
        }
      ]
    },
    {
      "cell_type": "code",
      "metadata": {
        "id": "-Qf9s2yCmdcO",
        "colab": {
          "base_uri": "https://localhost:8080/",
          "height": 34
        },
        "outputId": "87bc00f7-3340-4953-8132-395c21dacfda"
      },
      "source": [
        "print(np.where([[True, True], [False, True]]))"
      ],
      "execution_count": null,
      "outputs": [
        {
          "output_type": "stream",
          "text": [
            "(array([0, 0, 1]), array([0, 1, 1]))\n"
          ],
          "name": "stdout"
        }
      ]
    },
    {
      "cell_type": "markdown",
      "metadata": {
        "id": "NI5VdQA-hj4B"
      },
      "source": [
        "#### 7) 통계값 함수들\n",
        "- axis를 0 또는 1로 지정할 경우\n",
        "- axis=0은 index 방향으로 연산, axis=1은 column 방향으로 연산한 값을 배열로 반환함\n",
        "- ndarray에서 동일 동작을 하는 동일 이름의 메서드 있음 (arr.mean())\n"
      ]
    },
    {
      "cell_type": "code",
      "metadata": {
        "id": "Ey91LwR3nyUC"
      },
      "source": [
        "def printary(*a):\n",
        "    for x in a:\n",
        "        print(x)\n",
        "    print(\"-\" * 30)"
      ],
      "execution_count": null,
      "outputs": []
    },
    {
      "cell_type": "code",
      "metadata": {
        "id": "r7crpADdnz0V",
        "colab": {
          "base_uri": "https://localhost:8080/",
          "height": 122
        },
        "outputId": "b1d3ce0a-38f6-4a38-8426-e33c98ed24c5"
      },
      "source": [
        "# np.sum(a, axis=None)\n",
        "# 배열내 모든 원소의 합을 스칼라 값으로 반환\n",
        "a = np.arange(1,7).reshape((2,3))\n",
        "b = a.sum()\n",
        "c = a.sum(axis = 0)\n",
        "d = a.sum(axis = 1)\n",
        "printary(a, b, c, d)"
      ],
      "execution_count": null,
      "outputs": [
        {
          "output_type": "stream",
          "text": [
            "[[1 2 3]\n",
            " [4 5 6]]\n",
            "21\n",
            "[5 7 9]\n",
            "[ 6 15]\n",
            "------------------------------\n"
          ],
          "name": "stdout"
        }
      ]
    },
    {
      "cell_type": "code",
      "metadata": {
        "id": "tjZOEVTzn6vL",
        "colab": {
          "base_uri": "https://localhost:8080/",
          "height": 122
        },
        "outputId": "37f1e7a1-2d53-4dc9-ceee-7bc05274fb0c"
      },
      "source": [
        "# np.mean(a, axis=None)\n",
        "# 배열내 모든 원소의 평균을 스칼라 값으로 반환\n",
        "# median - 중앙값\n",
        "a = np.arange(1,7).reshape((2,3))\n",
        "b = a.mean()\n",
        "c = a.mean(axis = 0)\n",
        "d = a.mean(axis = 1)\n",
        "printary(a, b, c, d)"
      ],
      "execution_count": null,
      "outputs": [
        {
          "output_type": "stream",
          "text": [
            "[[1 2 3]\n",
            " [4 5 6]]\n",
            "3.5\n",
            "[2.5 3.5 4.5]\n",
            "[2. 5.]\n",
            "------------------------------\n"
          ],
          "name": "stdout"
        }
      ]
    },
    {
      "cell_type": "code",
      "metadata": {
        "id": "WcdXXjNyn9bC",
        "colab": {
          "base_uri": "https://localhost:8080/",
          "height": 122
        },
        "outputId": "f6f7fd4f-b278-4872-aeae-18b70d3985d1"
      },
      "source": [
        "# np.std(a, axis=None)\n",
        "# 배열내 모든 원소의 분산을 스칼라 값으로 반환\n",
        "a = np.arange(1,7).reshape((2,3))\n",
        "b = a.std()\n",
        "c = a.std(axis = 0)\n",
        "d = a.std(axis = 1)\n",
        "printary(a, b, c, d)"
      ],
      "execution_count": null,
      "outputs": [
        {
          "output_type": "stream",
          "text": [
            "[[1 2 3]\n",
            " [4 5 6]]\n",
            "1.707825127659933\n",
            "[1.5 1.5 1.5]\n",
            "[0.81649658 0.81649658]\n",
            "------------------------------\n"
          ],
          "name": "stdout"
        }
      ]
    },
    {
      "cell_type": "code",
      "metadata": {
        "id": "xjMd_bR0n_KM",
        "colab": {
          "base_uri": "https://localhost:8080/",
          "height": 70
        },
        "outputId": "f52e1fc9-f5d4-4359-c6fc-ffa169e3bb50"
      },
      "source": [
        "# np.any(a, axis=None)\n",
        "# 배열의 원소들 중 참이 하나라도 있으면 True 반환\n",
        "# np.all(a, axis=None)\n",
        "# 배열의 모든 원소가 참인 경우 True 반환\n",
        "\n",
        "a = np.arange(6).reshape((2,3))\n",
        "a = np.arange(1, 6)\n",
        "printary(a.any(), a.all())"
      ],
      "execution_count": null,
      "outputs": [
        {
          "output_type": "stream",
          "text": [
            "True\n",
            "True\n",
            "------------------------------\n"
          ],
          "name": "stdout"
        }
      ]
    },
    {
      "cell_type": "markdown",
      "metadata": {
        "id": "qlWiOHmboTMe"
      },
      "source": [
        "### 9.ndarray 파일입출력"
      ]
    },
    {
      "cell_type": "code",
      "metadata": {
        "id": "NXloRXtYoX5E"
      },
      "source": [
        "def printary(*a):\n",
        "    for x in a:\n",
        "        print(x)\n",
        "    print(\"-\" * 30)"
      ],
      "execution_count": null,
      "outputs": []
    },
    {
      "cell_type": "code",
      "metadata": {
        "id": "_EA_itRFobHr",
        "colab": {
          "base_uri": "https://localhost:8080/",
          "height": 52
        },
        "outputId": "4d1e4c26-0138-4c13-e0a0-7d1cceb81ae6"
      },
      "source": [
        "import numpy as np\n",
        "a1 = np.arange(20000)\n",
        "a2 = np.random.randint(1, 10000, size=(5, 1000))\n",
        "a3 = np.ones((1, 2, 1000), dtype=np.int32)\n",
        "path=\"/content/drive/My Drive/00_numpy/\"\n",
        "\n",
        "np.save(path+\"a1.npy\", a1)\n",
        "r = np.load(path+\"a1.npy\")\n",
        "printary(r)"
      ],
      "execution_count": null,
      "outputs": [
        {
          "output_type": "stream",
          "text": [
            "[    0     1     2 ... 19997 19998 19999]\n",
            "------------------------------\n"
          ],
          "name": "stdout"
        }
      ]
    },
    {
      "cell_type": "code",
      "metadata": {
        "id": "6VZfgc2Xomsr",
        "colab": {
          "base_uri": "https://localhost:8080/",
          "height": 175
        },
        "outputId": "adc04b96-24e1-4602-f830-30d589e4d140"
      },
      "source": [
        "#203.84KB\n",
        "np.savez(path+\"an.npz\", A1=a1, A2=a2, A3=a3)\n",
        "r = np.load(path+\"an.npz\")\n",
        "printary(r['A1'], r['A2'], r['A3'])"
      ],
      "execution_count": null,
      "outputs": [
        {
          "output_type": "stream",
          "text": [
            "[    0     1     2 ... 19997 19998 19999]\n",
            "[[1521 7562 3347 ... 2943 3498 5640]\n",
            " [2899 3182 2957 ... 7456 1089  260]\n",
            " [7834 3230 2693 ... 8641  246 3461]\n",
            " [ 901 7907 6577 ... 7812 6879 3873]\n",
            " [2086 7504 1330 ... 3849 6132 7368]]\n",
            "[[[1 1 1 ... 1 1 1]\n",
            "  [1 1 1 ... 1 1 1]]]\n",
            "------------------------------\n"
          ],
          "name": "stdout"
        }
      ]
    },
    {
      "cell_type": "code",
      "metadata": {
        "id": "2l2Nxv5vorUk",
        "colab": {
          "base_uri": "https://localhost:8080/",
          "height": 175
        },
        "outputId": "0e6bcf88-6385-45b1-f219-89a1707edd01"
      },
      "source": [
        "#42.59KB\n",
        "np.savez_compressed(path+\"c_an.npz\", A1=a1, A2=a2, A3=a3)\n",
        "r = np.load(path+\"c_an.npz\")\n",
        "printary(r['A1'], r['A2'], r['A3'])"
      ],
      "execution_count": null,
      "outputs": [
        {
          "output_type": "stream",
          "text": [
            "[    0     1     2 ... 19997 19998 19999]\n",
            "[[1521 7562 3347 ... 2943 3498 5640]\n",
            " [2899 3182 2957 ... 7456 1089  260]\n",
            " [7834 3230 2693 ... 8641  246 3461]\n",
            " [ 901 7907 6577 ... 7812 6879 3873]\n",
            " [2086 7504 1330 ... 3849 6132 7368]]\n",
            "[[[1 1 1 ... 1 1 1]\n",
            "  [1 1 1 ... 1 1 1]]]\n",
            "------------------------------\n"
          ],
          "name": "stdout"
        }
      ]
    },
    {
      "cell_type": "code",
      "metadata": {
        "id": "wkD73reEo5Ez",
        "colab": {
          "base_uri": "https://localhost:8080/",
          "height": 52
        },
        "outputId": "fe758829-2248-469e-9c34-23dd1f22f525"
      },
      "source": [
        "np.savetxt(path+\"a1.txt\", a1, fmt='%d')\n",
        "r = np.loadtxt(path+\"a1.txt\", dtype=np.int32)\n",
        "printary(r)"
      ],
      "execution_count": null,
      "outputs": [
        {
          "output_type": "stream",
          "text": [
            "[    0     1     2 ... 19997 19998 19999]\n",
            "------------------------------\n"
          ],
          "name": "stdout"
        }
      ]
    },
    {
      "cell_type": "markdown",
      "metadata": {
        "id": "hyN3fdoDpYjO"
      },
      "source": [
        "### 10.numpy의 nan, inf처리\n"
      ]
    },
    {
      "cell_type": "code",
      "metadata": {
        "id": "m_XLrrz_pfhS",
        "colab": {
          "base_uri": "https://localhost:8080/",
          "height": 52
        },
        "outputId": "5d941449-3641-4df2-d8b1-aeec42e3e07d"
      },
      "source": [
        "print(np.nan, type(np.nan))\n",
        "print(np.inf, type(np.inf))"
      ],
      "execution_count": null,
      "outputs": [
        {
          "output_type": "stream",
          "text": [
            "nan <class 'float'>\n",
            "inf <class 'float'>\n"
          ],
          "name": "stdout"
        }
      ]
    },
    {
      "cell_type": "code",
      "metadata": {
        "id": "G2xhtDfxpkVj",
        "colab": {
          "base_uri": "https://localhost:8080/",
          "height": 87
        },
        "outputId": "0aed761a-fb73-4e01-e54c-04e95173dce1"
      },
      "source": [
        "a = np.array([np.nan, 1, 0, -1, np.inf], dtype=np.float16)\n",
        "print(np.isnan(np.nan), np.isnan(a))\n",
        "print(np.isinf(np.inf), np.isinf(a))\n",
        "x = np.nan\n",
        "print(np.nan == x)\n",
        "print(np.nan is x)"
      ],
      "execution_count": null,
      "outputs": [
        {
          "output_type": "stream",
          "text": [
            "True [ True False False False False]\n",
            "True [False False False False  True]\n",
            "False\n",
            "True\n"
          ],
          "name": "stdout"
        }
      ]
    },
    {
      "cell_type": "code",
      "metadata": {
        "id": "yr3IZQT8pnFL"
      },
      "source": [
        "def printary(*a):\n",
        "    for x in a:\n",
        "        print(x)\n",
        "    print('-'*30)"
      ],
      "execution_count": null,
      "outputs": []
    },
    {
      "cell_type": "code",
      "metadata": {
        "id": "6AxoxUQ4pqjD",
        "colab": {
          "base_uri": "https://localhost:8080/",
          "height": 263
        },
        "outputId": "d4e497de-edb6-4c95-8464-927e297cedd3"
      },
      "source": [
        "a = np.array([1, np.nan, np.nan, np.inf, 2, np.inf], dtype=np.float16)\n",
        "b = np.array([1, np.inf, 1, 1, np.inf, np.nan], dtype=np.float16)\n",
        "printary(a, b, a+b, a+2)\n",
        "printary(a, a.sum(), a.cumsum(), a.all())\n",
        "printary(np.sqrt(a), np.unique(a), np.unique(b))"
      ],
      "execution_count": null,
      "outputs": [
        {
          "output_type": "stream",
          "text": [
            "[ 1. nan nan inf  2. inf]\n",
            "[ 1. inf  1.  1. inf nan]\n",
            "[ 2. nan nan inf inf nan]\n",
            "[ 3. nan nan inf  4. inf]\n",
            "------------------------------\n",
            "[ 1. nan nan inf  2. inf]\n",
            "nan\n",
            "[ 1. nan nan nan nan nan]\n",
            "True\n",
            "------------------------------\n",
            "[1.      nan   nan   inf 1.414   inf]\n",
            "[ 1.  2. inf nan nan]\n",
            "[ 1. inf nan]\n",
            "------------------------------\n"
          ],
          "name": "stdout"
        }
      ]
    }
  ]
}